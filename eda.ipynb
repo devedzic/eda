{
 "cells": [
  {
   "cell_type": "markdown",
   "metadata": {
    "pycharm": {
     "name": "#%% md\n"
    }
   },
   "source": [
    "# Exploratory data analysis\n",
    "Introduction to exploratory data analysis (EDA)."
   ]
  },
  {
   "cell_type": "markdown",
   "source": [
    "EDA is an approach to analyzing datasets to summarize their main characteristics, often with visual methods. EDA is used for seeing what the data can tell us before the modeling task [(source 1)](https://chartio.com/learn/data-analytics/what-is-exploratory-data-analysis/). It is used to explore the data, find different patterns, relations, and anomalies in the data using some statistical graphs and other visualization techniques, and possibly formulate hypotheses that could lead to new data collection and experiments [(source 2)](https://www.analyticsvidhya.com/blog/2021/08/how-to-perform-exploratory-data-analysis-a-guide-for-beginners/). More specifically, EDA enables analysts to:\n",
    "1. get maximum insights from a data set\n",
    "2. uncover underlying structure\n",
    "3. extract important variables from the dataset\n",
    "4. detect outliers and anomalies (if any)\n",
    "5. test underlying assumptions\n",
    "6. determine the optimal factor settings"
   ],
   "metadata": {
    "collapsed": false,
    "pycharm": {
     "name": "#%% md\n"
    }
   }
  },
  {
   "cell_type": "markdown",
   "source": [
    "## EDA steps and tools\n",
    "Practical steps in conducting EDA and frequently used EDA tools.\n",
    "Based on *pandas2020-main.Sales_Analysis_Pandas_P3_tutorial.ipynb* and *pandas2020-main.TED_Talks_Pandas_P3_tutorial.ipynb*.\n"
   ],
   "metadata": {
    "collapsed": false,
    "pycharm": {
     "name": "#%% md\n"
    }
   }
  },
  {
   "cell_type": "markdown",
   "source": [
    "Based on [this](https://stackoverflow.com/a/22149930/1899061), in all computations, `axis=...` refers to the axis **along which** the computation is done. By default, `axis=0`. This is consistent with the `numpy.mean` usage when axis is specified explicitly (in `numpy.mean`, `axis==None` by default, which computes the mean value over the flattened array), in which `axis=0` along the rows (namely, index in pandas), and `axis=1` along the columns.\n",
    "Note also that that `axis=0` indicates aggregating along rows and `axis=1` indicates aggregating along columns. This is consistent with how we index into a dataframe. In `df.iloc[<row>, <column>]`, `<row>` is in index position 0 and `<column>` is in index position 1. For added clarity, one may choose to specify `axis='index'` (instead of `axis=0`) or `axis='columns'` (instead of `axis=1`).\n",
    "**But**, `axis=0` means each row as a bulk - we manipulate a `pd.DataFrame` inter-row, instead of within-row. Likewise, 1 means each column as a bulk, i.e. we manipulate a `pd.DataFrame` inter-column instead of within-column. For example, `<pd.df>.drop(\"A\", axis=1)` will drop a whole column."
   ],
   "metadata": {
    "collapsed": false,
    "pycharm": {
     "name": "#%% md\n"
    }
   }
  },
  {
   "cell_type": "markdown",
   "source": [
    "### Reading the dataset\n",
    "`read_csv()`"
   ],
   "metadata": {
    "collapsed": false,
    "pycharm": {
     "name": "#%% md\n"
    }
   }
  },
  {
   "cell_type": "markdown",
   "source": [
    "### Initial examination and adaptations\n",
    "`shape`, `head()`, `tail()`, `sample()`, `dtypes`, `info()`\n",
    "`columns`, `columns.values`, `columns.values.tolist()`, `<pd.df>.values`\n",
    "`<pd.df>.rename({'<column_1 old name>':'<column_1 new name>', '<column_2 old name>':'<column_2 new name>', ...}, axis='columns')`, `<pd.df>.columns = ['<column_1 name>', '<column_2 name>', ...]` (change the names of all columns in <pd.df>)\n",
    "`ast.literal_eval()` (using Python's *ast* module to transform a string into a literal value, a list, a tuple or any other container object)"
   ],
   "metadata": {
    "collapsed": false,
    "pycharm": {
     "name": "#%% md\n"
    }
   }
  },
  {
   "cell_type": "markdown",
   "source": [
    "### Missing values and value counts\n",
    "`isna()` (`isnull()`), `isna().sum()` (`isnull().sum`) ([example](https://www.analyticsvidhya.com/blog/2021/08/how-to-perform-exploratory-data-analysis-a-guide-for-beginners/))\n",
    "`sb.heatmap()`, e.g. `sb.heatmap(<pd.df>.isnull(),cbar=False,cmap='viridis')` ([example](https://www.analyticsvidhya.com/blog/2021/08/how-to-perform-exploratory-data-analysis-a-guide-for-beginners/))\n",
    "`value_counts()`, `value_counts(normalize=True)`, `dropna(how='all'/'any', inplace=True)`"
   ],
   "metadata": {
    "collapsed": false,
    "pycharm": {
     "name": "#%% md\n"
    }
   }
  },
  {
   "cell_type": "markdown",
   "source": [
    "### Examining individual data items, rows and columns\n",
    "`sample()`\n",
    "Simple indexing and fancy indexing: `iloc()`, `loc()`\n",
    "`index`, `index[<from>:<to>]`, `reset_index(drop=True, inplace=True)`\n",
    "Indexing in data stats: `<pd.df>.describe().loc['50%', '<column_name>']` (select the median of <column_name> from the <pd.df> stats computed by describe())\n",
    "Indexing using list of values: `<pd.df>.loc[<pd.df>.<column>.isin(<list of values>)]` (select those observations where the value of <column> is in the `<list of values>`)"
   ],
   "metadata": {
    "collapsed": false,
    "pycharm": {
     "name": "#%% md\n"
    }
   }
  },
  {
   "cell_type": "markdown",
   "source": [
    "### Data transformations\n",
    "`describe()`\n",
    "`pd.to_numeric(<pd.DataFrame object>['<column name>'], errors='coerce')`, `pd.DataFrame.to_numpy()`, `pd.Series.to_numpy()`, `pd.to_datetime()`, ...\n",
    "`<pd.df>.<column>.apply(<f_name>)` (apply the <f_name> function to all elements of each element of the `<column>`; for example, each element of the <column> can be a list of other elements)\n"
   ],
   "metadata": {
    "collapsed": false,
    "pycharm": {
     "name": "#%% md\n"
    }
   }
  },
  {
   "cell_type": "markdown",
   "source": [
    "### Exploring correlations\n",
    "Explore correlations between the (numerical) columns.\n",
    "`sb.heatmap()`\n",
    "[Example](https://www.analyticsvidhya.com/blog/2021/08/how-to-perform-exploratory-data-analysis-a-guide-for-beginners/)"
   ],
   "metadata": {
    "collapsed": false,
    "pycharm": {
     "name": "#%% md\n"
    }
   }
  },
  {
   "cell_type": "markdown",
   "source": [
    "### Grouping and sorting data\n",
    "`nunique()`\n",
    "`groupby()`\n",
    "`sort_values(by='<column name>', ascending=False/True)`\n",
    "`sort_index(inplace=True)`\n",
    "`agg(['<column_1 name>', '<column_2 name>', ...])`\n"
   ],
   "metadata": {
    "collapsed": false,
    "pycharm": {
     "name": "#%% md\n"
    }
   }
  },
  {
   "cell_type": "markdown",
   "source": [
    "### Data visualization\n",
    "Plot some bargraphs, scatterplots, boxplots,...\n",
    "[Example](https://www.analyticsvidhya.com/blog/2021/08/how-to-perform-exploratory-data-analysis-a-guide-for-beginners/)"
   ],
   "metadata": {
    "collapsed": false,
    "pycharm": {
     "name": "#%% md\n"
    }
   }
  },
  {
   "cell_type": "markdown",
   "source": [
    "### Other\n",
    "[Other interesting ideas and different ways of using the things from above](https://realpython.com/pandas-python-explore-dataset/#exploring-your-dataset) (see the rest from [that article](https://realpython.com/pandas-python-explore-dataset/) as well)."
   ],
   "metadata": {
    "collapsed": false,
    "pycharm": {
     "name": "#%% md\n"
    }
   }
  },
  {
   "cell_type": "markdown",
   "metadata": {
    "pycharm": {
     "name": "#%% md\n"
    }
   },
   "source": [
    "## Import and configure packages\n",
    "The `%run` magic does not work well in DataSpell, thus the following `import` statements are copied here from *import_packages.ipynb* (the last line is added subsequently):"
   ]
  },
  {
   "cell_type": "code",
   "execution_count": 1,
   "outputs": [],
   "source": [
    "%load_ext autoreload\n",
    "%autoreload 2\n",
    "\n",
    "%matplotlib inline\n",
    "\n",
    "%config IPCompleter.greedy=True\n",
    "\n",
    "import numpy as np\n",
    "import matplotlib as mpl\n",
    "import matplotlib.pyplot as plt\n",
    "plt.style.use('classic')\n",
    "import pandas as pd\n",
    "import seaborn as sb\n",
    "\n",
    "from plotnine import ggplot, aes, geom_line, geom_histogram, theme_xkcd"
   ],
   "metadata": {
    "collapsed": false,
    "pycharm": {
     "name": "#%%\n"
    }
   }
  },
  {
   "cell_type": "code",
   "execution_count": 1,
   "outputs": [],
   "source": [
    "# %run \"import_packages.ipynb\""
   ],
   "metadata": {
    "collapsed": false,
    "pycharm": {
     "name": "#%%\n"
    }
   }
  },
  {
   "cell_type": "markdown",
   "metadata": {
    "pycharm": {
     "name": "#%% md\n"
    }
   },
   "source": [
    "## Introducing The Beatles dataset"
   ]
  },
  {
   "cell_type": "markdown",
   "metadata": {
    "pycharm": {
     "name": "#%% md\n"
    }
   },
   "source": [
    "### Read The Beatles songs *csv* file\n",
    "`pd.read_csv()` returns a `pd.DataFrame` object."
   ]
  },
  {
   "cell_type": "code",
   "execution_count": 2,
   "metadata": {
    "pycharm": {
     "name": "#%%\n"
    }
   },
   "outputs": [],
   "source": [
    "# Get the songs as a pd.DataFrame object\n",
    "songs = pd.read_csv('data/The Beatles songs dataset, v1, no NAs.csv')"
   ]
  },
  {
   "cell_type": "markdown",
   "source": [
    "### Explore the dataset (first steps)"
   ],
   "metadata": {
    "collapsed": false,
    "pycharm": {
     "name": "#%% md\n"
    }
   }
  },
  {
   "cell_type": "markdown",
   "source": [
    "##### Initial examination and adaptations\n",
    "`shape`, `head()`, `tail()`, `sample()`, `dtypes`, `info()`\n",
    "`columns`, `columns.values`, `columns.values.tolist()`, `<pd.df>.values`\n",
    "`<pd.df>.rename({'<column_1 old name>':'<column_1 new name>', '<column_2 old name>':'<column_2 new name>', ...}, axis='columns')`, `<pd.df>.columns = ['<column_1 name>', '<column_2 name>', ...]` (change the names of all columns in <pd.df>)\n",
    "`ast.literal_eval()` (using Python's *ast* module to transform a string into a literal value, a list, a tuple or any other container object)"
   ],
   "metadata": {
    "collapsed": false,
    "pycharm": {
     "name": "#%% md\n"
    }
   }
  },
  {
   "cell_type": "markdown",
   "source": [
    "`shape`, `head()`, `tail()`, `sample()`, `dtypes`, **<u>`info()`</u>**"
   ],
   "metadata": {
    "collapsed": false,
    "pycharm": {
     "name": "#%% md\n"
    }
   }
  },
  {
   "cell_type": "code",
   "execution_count": 61,
   "outputs": [
    {
     "name": "stdout",
     "output_type": "stream",
     "text": [
      "<class 'pandas.core.frame.DataFrame'>\n",
      "RangeIndex: 310 entries, 0 to 309\n",
      "Data columns (total 9 columns):\n",
      " #   Column            Non-Null Count  Dtype \n",
      "---  ------            --------------  ----- \n",
      " 0   Title             310 non-null    object\n",
      " 1   Year              310 non-null    int64 \n",
      " 2   Album.debut       310 non-null    object\n",
      " 3   Duration          310 non-null    int64 \n",
      " 4   Other.releases    310 non-null    int64 \n",
      " 5   Genre             306 non-null    object\n",
      " 6   Songwriter        310 non-null    object\n",
      " 7   Lead.vocal        302 non-null    object\n",
      " 8   Top.50.Billboard  310 non-null    int64 \n",
      "dtypes: int64(4), object(5)\n",
      "memory usage: 21.9+ KB\n"
     ]
    },
    {
     "data": {
      "text/plain": "None"
     },
     "metadata": {},
     "output_type": "display_data"
    },
    {
     "data": {
      "text/plain": "                               Title  Year  \\\n101                      Honey Don't  1964   \n106  I Don't Want to Spoil the Party  1964   \n57                   Don't Bother Me  1963   \n95                Here Comes the Sun  1969   \n180               Memphis, Tennessee  1963   \n\n                                    Album.debut  Duration  Other.releases  \\\n101        UK: Beatles for Sale US: Beatles '65       173              14   \n106         UK: Beatles for Sale US: Beatles VI       153              11   \n57   UK: With the Beatles US: Meet The Beatles!       149              11   \n95                                   Abbey Road       186               6   \n180                             Live at the BBC       136               0   \n\n                            Genre Songwriter Lead.vocal  Top.50.Billboard  \n101          Rockabilly, Pop/Rock    Perkins    Starkey                -1  \n106        Country Rock, Pop/Rock     Lennon     Lennon                49  \n57        Rock and Roll, Pop/Rock   Harrison   Harrison                -1  \n95             Folk Pop, Pop/Rock   Harrison   Harrison                -1  \n180  R&B, Rock and Roll, Pop/Rock      Berry     Lennon                -1  ",
      "text/html": "<div>\n<style scoped>\n    .dataframe tbody tr th:only-of-type {\n        vertical-align: middle;\n    }\n\n    .dataframe tbody tr th {\n        vertical-align: top;\n    }\n\n    .dataframe thead th {\n        text-align: right;\n    }\n</style>\n<table border=\"1\" class=\"dataframe\">\n  <thead>\n    <tr style=\"text-align: right;\">\n      <th></th>\n      <th>Title</th>\n      <th>Year</th>\n      <th>Album.debut</th>\n      <th>Duration</th>\n      <th>Other.releases</th>\n      <th>Genre</th>\n      <th>Songwriter</th>\n      <th>Lead.vocal</th>\n      <th>Top.50.Billboard</th>\n    </tr>\n  </thead>\n  <tbody>\n    <tr>\n      <th>101</th>\n      <td>Honey Don't</td>\n      <td>1964</td>\n      <td>UK: Beatles for Sale US: Beatles '65</td>\n      <td>173</td>\n      <td>14</td>\n      <td>Rockabilly, Pop/Rock</td>\n      <td>Perkins</td>\n      <td>Starkey</td>\n      <td>-1</td>\n    </tr>\n    <tr>\n      <th>106</th>\n      <td>I Don't Want to Spoil the Party</td>\n      <td>1964</td>\n      <td>UK: Beatles for Sale US: Beatles VI</td>\n      <td>153</td>\n      <td>11</td>\n      <td>Country Rock, Pop/Rock</td>\n      <td>Lennon</td>\n      <td>Lennon</td>\n      <td>49</td>\n    </tr>\n    <tr>\n      <th>57</th>\n      <td>Don't Bother Me</td>\n      <td>1963</td>\n      <td>UK: With the Beatles US: Meet The Beatles!</td>\n      <td>149</td>\n      <td>11</td>\n      <td>Rock and Roll, Pop/Rock</td>\n      <td>Harrison</td>\n      <td>Harrison</td>\n      <td>-1</td>\n    </tr>\n    <tr>\n      <th>95</th>\n      <td>Here Comes the Sun</td>\n      <td>1969</td>\n      <td>Abbey Road</td>\n      <td>186</td>\n      <td>6</td>\n      <td>Folk Pop, Pop/Rock</td>\n      <td>Harrison</td>\n      <td>Harrison</td>\n      <td>-1</td>\n    </tr>\n    <tr>\n      <th>180</th>\n      <td>Memphis, Tennessee</td>\n      <td>1963</td>\n      <td>Live at the BBC</td>\n      <td>136</td>\n      <td>0</td>\n      <td>R&amp;B, Rock and Roll, Pop/Rock</td>\n      <td>Berry</td>\n      <td>Lennon</td>\n      <td>-1</td>\n    </tr>\n  </tbody>\n</table>\n</div>"
     },
     "metadata": {},
     "output_type": "display_data"
    }
   ],
   "source": [
    "# print(songs.shape)\n",
    "# # print(songs.head())                         # the output is not table-like\n",
    "# display(songs.head())\n",
    "# display(songs.sample(4))\n",
    "# display(songs.dtypes)\n",
    "display(songs.info())\n",
    "display(songs.sample(5))"
   ],
   "metadata": {
    "collapsed": false,
    "pycharm": {
     "name": "#%%\n"
    }
   }
  },
  {
   "cell_type": "markdown",
   "source": [
    "`columns`, `columns.values`, `columns.values.tolist()`, `<pd.df>.values`"
   ],
   "metadata": {
    "collapsed": false,
    "pycharm": {
     "name": "#%% md\n"
    }
   }
  },
  {
   "cell_type": "markdown",
   "source": [
    "Show the columns of the `songs` object (which is a `pd.DataFrame` object)."
   ],
   "metadata": {
    "collapsed": false,
    "pycharm": {
     "name": "#%% md\n"
    }
   }
  },
  {
   "cell_type": "code",
   "execution_count": 4,
   "outputs": [
    {
     "data": {
      "text/plain": "Index(['Title', 'Year', 'Album.debut', 'Duration', 'Other.releases', 'Genre',\n       'Songwriter', 'Lead.vocal', 'Top.50.Billboard'],\n      dtype='object')"
     },
     "metadata": {},
     "output_type": "display_data"
    },
    {
     "data": {
      "text/plain": "['Title',\n 'Year',\n 'Album.debut',\n 'Duration',\n 'Other.releases',\n 'Genre',\n 'Songwriter',\n 'Lead.vocal',\n 'Top.50.Billboard']"
     },
     "metadata": {},
     "output_type": "display_data"
    },
    {
     "data": {
      "text/plain": "array(['Title', 'Year', 'Album.debut', 'Duration', 'Other.releases',\n       'Genre', 'Songwriter', 'Lead.vocal', 'Top.50.Billboard'],\n      dtype=object)"
     },
     "metadata": {},
     "output_type": "display_data"
    },
    {
     "data": {
      "text/plain": "numpy.ndarray"
     },
     "metadata": {},
     "output_type": "display_data"
    },
    {
     "data": {
      "text/plain": "['Title',\n 'Year',\n 'Album.debut',\n 'Duration',\n 'Other.releases',\n 'Genre',\n 'Songwriter',\n 'Lead.vocal',\n 'Top.50.Billboard']"
     },
     "metadata": {},
     "output_type": "display_data"
    },
    {
     "data": {
      "text/plain": "array([['12-Bar Original', 1965, 'Anthology 2', ...,\n        'Lennon, McCartney, Harrison and Starkey', nan, -1],\n       ['A Day in the Life', 1967,\n        \"Sgt. Pepper's Lonely Hearts Club Band\", ...,\n        'Lennon and McCartney', 'Lennon and McCartney', -1],\n       [\"A Hard Day's Night\", 1964,\n        \"UK: A Hard Day's Night US: 1962-1966\", ..., 'Lennon',\n        'Lennon, with McCartney', 8],\n       ...,\n       [\"You've Really Got a Hold on Me\", 1963,\n        'UK: With the Beatles US: The Beatles Second Album', ...,\n        'Robinson', 'Lennon and Harrison', -1],\n       ['Young Blood', 1963, 'Live at the BBC', ..., 'Leiber, Stoller',\n        'Harrison', -1],\n       ['Your Mother Should Know', 1967, 'Magical Mystery Tour', ...,\n        'McCartney', 'McCartney', -1]], dtype=object)"
     },
     "metadata": {},
     "output_type": "display_data"
    },
    {
     "data": {
      "text/plain": "numpy.ndarray"
     },
     "metadata": {},
     "output_type": "display_data"
    }
   ],
   "source": [
    "# Get the columns as a pd.Index object\n",
    "display(songs.columns)\n",
    "# Get the columns as a list\n",
    "display(list(songs.columns))\n",
    "# Get the columns as a numpy.ndarray object\n",
    "display(songs.columns.values)\n",
    "display(type(songs.columns.values))\n",
    "# Get the columns as a list\n",
    "display(songs.columns.values.tolist())\n",
    "# Get the values of all items in the dataset as a numpy.ndarray of lists of the values in each item\n",
    "display(songs.values)\n",
    "display(type(songs.values))"
   ],
   "metadata": {
    "collapsed": false,
    "pycharm": {
     "name": "#%%\n"
    }
   }
  },
  {
   "cell_type": "markdown",
   "source": [
    "`<pd.df>.rename({'<column_1 old name>':'<column_1 new name>', '<column_2 old name>':'<column_2 new name>', ...}, axis='columns')`, `<pd.df>.columns = ['<column_1 name>', '<column_2 name>', ...]` (change the names of all columns in <pd.df>)"
   ],
   "metadata": {
    "collapsed": false,
    "pycharm": {
     "name": "#%% md\n"
    }
   }
  },
  {
   "cell_type": "code",
   "execution_count": 5,
   "outputs": [
    {
     "data": {
      "text/plain": "                                 Title  Year  \\\n0                      12-Bar Original  1965   \n1                    A Day in the Life  1967   \n2                   A Hard Day's Night  1964   \n3           A Shot of Rhythm and Blues  1963   \n4                     A Taste of Honey  1963   \n..                                 ...   ...   \n305     You're Going to Lose That Girl  1965   \n306  You've Got to Hide Your Love Away  1965   \n307     You've Really Got a Hold on Me  1963   \n308                        Young Blood  1963   \n309            Your Mother Should Know  1967   \n\n                                           Album.debut  Length  \\\n0                                          Anthology 2     174   \n1                Sgt. Pepper's Lonely Hearts Club Band     335   \n2                 UK: A Hard Day's Night US: 1962-1966     152   \n3                                      Live at the BBC     104   \n4           UK: Please Please Me US: The Early Beatles     163   \n..                                                 ...     ...   \n305                                              Help!     140   \n306                                              Help!     131   \n307  UK: With the Beatles US: The Beatles Second Album     182   \n308                                    Live at the BBC     116   \n309                               Magical Mystery Tour     149   \n\n     Other.releases                                              Genre  \\\n0                 0                                              Blues   \n1                12               Psychedelic Rock, Art Rock, Pop/Rock   \n2                35                         Rock, Electronic, Pop/Rock   \n3                 0                                      R&B, Pop/Rock   \n4                29                       Pop/Rock, Jazz, Stage&Screen   \n..              ...                                                ...   \n305               6                                     Rock, Pop/Rock   \n306              12                                       FolkPop/Rock   \n307               2                                     Soul, Pop/Rock   \n308               0                                           Pop/Rock   \n309              13  Music Hall, Vaudeville Rock, Psychedelic Pop, ...   \n\n                                  Songwriter              Lead.vocal  \\\n0    Lennon, McCartney, Harrison and Starkey                     NaN   \n1                       Lennon and McCartney    Lennon and McCartney   \n2                                     Lennon  Lennon, with McCartney   \n3                                   Thompson                  Lennon   \n4                              Scott, Marlow               McCartney   \n..                                       ...                     ...   \n305                                   Lennon                  Lennon   \n306                                   Lennon                  Lennon   \n307                                 Robinson     Lennon and Harrison   \n308                          Leiber, Stoller                Harrison   \n309                                McCartney               McCartney   \n\n     Top.50.Billboard  \n0                  -1  \n1                  -1  \n2                   8  \n3                  -1  \n4                  -1  \n..                ...  \n305                -1  \n306                -1  \n307                -1  \n308                -1  \n309                -1  \n\n[310 rows x 9 columns]",
      "text/html": "<div>\n<style scoped>\n    .dataframe tbody tr th:only-of-type {\n        vertical-align: middle;\n    }\n\n    .dataframe tbody tr th {\n        vertical-align: top;\n    }\n\n    .dataframe thead th {\n        text-align: right;\n    }\n</style>\n<table border=\"1\" class=\"dataframe\">\n  <thead>\n    <tr style=\"text-align: right;\">\n      <th></th>\n      <th>Title</th>\n      <th>Year</th>\n      <th>Album.debut</th>\n      <th>Length</th>\n      <th>Other.releases</th>\n      <th>Genre</th>\n      <th>Songwriter</th>\n      <th>Lead.vocal</th>\n      <th>Top.50.Billboard</th>\n    </tr>\n  </thead>\n  <tbody>\n    <tr>\n      <th>0</th>\n      <td>12-Bar Original</td>\n      <td>1965</td>\n      <td>Anthology 2</td>\n      <td>174</td>\n      <td>0</td>\n      <td>Blues</td>\n      <td>Lennon, McCartney, Harrison and Starkey</td>\n      <td>NaN</td>\n      <td>-1</td>\n    </tr>\n    <tr>\n      <th>1</th>\n      <td>A Day in the Life</td>\n      <td>1967</td>\n      <td>Sgt. Pepper's Lonely Hearts Club Band</td>\n      <td>335</td>\n      <td>12</td>\n      <td>Psychedelic Rock, Art Rock, Pop/Rock</td>\n      <td>Lennon and McCartney</td>\n      <td>Lennon and McCartney</td>\n      <td>-1</td>\n    </tr>\n    <tr>\n      <th>2</th>\n      <td>A Hard Day's Night</td>\n      <td>1964</td>\n      <td>UK: A Hard Day's Night US: 1962-1966</td>\n      <td>152</td>\n      <td>35</td>\n      <td>Rock, Electronic, Pop/Rock</td>\n      <td>Lennon</td>\n      <td>Lennon, with McCartney</td>\n      <td>8</td>\n    </tr>\n    <tr>\n      <th>3</th>\n      <td>A Shot of Rhythm and Blues</td>\n      <td>1963</td>\n      <td>Live at the BBC</td>\n      <td>104</td>\n      <td>0</td>\n      <td>R&amp;B, Pop/Rock</td>\n      <td>Thompson</td>\n      <td>Lennon</td>\n      <td>-1</td>\n    </tr>\n    <tr>\n      <th>4</th>\n      <td>A Taste of Honey</td>\n      <td>1963</td>\n      <td>UK: Please Please Me US: The Early Beatles</td>\n      <td>163</td>\n      <td>29</td>\n      <td>Pop/Rock, Jazz, Stage&amp;Screen</td>\n      <td>Scott, Marlow</td>\n      <td>McCartney</td>\n      <td>-1</td>\n    </tr>\n    <tr>\n      <th>...</th>\n      <td>...</td>\n      <td>...</td>\n      <td>...</td>\n      <td>...</td>\n      <td>...</td>\n      <td>...</td>\n      <td>...</td>\n      <td>...</td>\n      <td>...</td>\n    </tr>\n    <tr>\n      <th>305</th>\n      <td>You're Going to Lose That Girl</td>\n      <td>1965</td>\n      <td>Help!</td>\n      <td>140</td>\n      <td>6</td>\n      <td>Rock, Pop/Rock</td>\n      <td>Lennon</td>\n      <td>Lennon</td>\n      <td>-1</td>\n    </tr>\n    <tr>\n      <th>306</th>\n      <td>You've Got to Hide Your Love Away</td>\n      <td>1965</td>\n      <td>Help!</td>\n      <td>131</td>\n      <td>12</td>\n      <td>FolkPop/Rock</td>\n      <td>Lennon</td>\n      <td>Lennon</td>\n      <td>-1</td>\n    </tr>\n    <tr>\n      <th>307</th>\n      <td>You've Really Got a Hold on Me</td>\n      <td>1963</td>\n      <td>UK: With the Beatles US: The Beatles Second Album</td>\n      <td>182</td>\n      <td>2</td>\n      <td>Soul, Pop/Rock</td>\n      <td>Robinson</td>\n      <td>Lennon and Harrison</td>\n      <td>-1</td>\n    </tr>\n    <tr>\n      <th>308</th>\n      <td>Young Blood</td>\n      <td>1963</td>\n      <td>Live at the BBC</td>\n      <td>116</td>\n      <td>0</td>\n      <td>Pop/Rock</td>\n      <td>Leiber, Stoller</td>\n      <td>Harrison</td>\n      <td>-1</td>\n    </tr>\n    <tr>\n      <th>309</th>\n      <td>Your Mother Should Know</td>\n      <td>1967</td>\n      <td>Magical Mystery Tour</td>\n      <td>149</td>\n      <td>13</td>\n      <td>Music Hall, Vaudeville Rock, Psychedelic Pop, ...</td>\n      <td>McCartney</td>\n      <td>McCartney</td>\n      <td>-1</td>\n    </tr>\n  </tbody>\n</table>\n<p>310 rows × 9 columns</p>\n</div>"
     },
     "metadata": {},
     "output_type": "display_data"
    },
    {
     "data": {
      "text/plain": "                                 Title  Year  \\\n0                      12-Bar Original  1965   \n1                    A Day in the Life  1967   \n2                   A Hard Day's Night  1964   \n3           A Shot of Rhythm and Blues  1963   \n4                     A Taste of Honey  1963   \n..                                 ...   ...   \n305     You're Going to Lose That Girl  1965   \n306  You've Got to Hide Your Love Away  1965   \n307     You've Really Got a Hold on Me  1963   \n308                        Young Blood  1963   \n309            Your Mother Should Know  1967   \n\n                                           Album.debut  Duration  \\\n0                                          Anthology 2       174   \n1                Sgt. Pepper's Lonely Hearts Club Band       335   \n2                 UK: A Hard Day's Night US: 1962-1966       152   \n3                                      Live at the BBC       104   \n4           UK: Please Please Me US: The Early Beatles       163   \n..                                                 ...       ...   \n305                                              Help!       140   \n306                                              Help!       131   \n307  UK: With the Beatles US: The Beatles Second Album       182   \n308                                    Live at the BBC       116   \n309                               Magical Mystery Tour       149   \n\n     Other.releases                                              Genre  \\\n0                 0                                              Blues   \n1                12               Psychedelic Rock, Art Rock, Pop/Rock   \n2                35                         Rock, Electronic, Pop/Rock   \n3                 0                                      R&B, Pop/Rock   \n4                29                       Pop/Rock, Jazz, Stage&Screen   \n..              ...                                                ...   \n305               6                                     Rock, Pop/Rock   \n306              12                                       FolkPop/Rock   \n307               2                                     Soul, Pop/Rock   \n308               0                                           Pop/Rock   \n309              13  Music Hall, Vaudeville Rock, Psychedelic Pop, ...   \n\n                                  Songwriter              Lead.vocal  \\\n0    Lennon, McCartney, Harrison and Starkey                     NaN   \n1                       Lennon and McCartney    Lennon and McCartney   \n2                                     Lennon  Lennon, with McCartney   \n3                                   Thompson                  Lennon   \n4                              Scott, Marlow               McCartney   \n..                                       ...                     ...   \n305                                   Lennon                  Lennon   \n306                                   Lennon                  Lennon   \n307                                 Robinson     Lennon and Harrison   \n308                          Leiber, Stoller                Harrison   \n309                                McCartney               McCartney   \n\n     Top.50.Billboard  \n0                  -1  \n1                  -1  \n2                   8  \n3                  -1  \n4                  -1  \n..                ...  \n305                -1  \n306                -1  \n307                -1  \n308                -1  \n309                -1  \n\n[310 rows x 9 columns]",
      "text/html": "<div>\n<style scoped>\n    .dataframe tbody tr th:only-of-type {\n        vertical-align: middle;\n    }\n\n    .dataframe tbody tr th {\n        vertical-align: top;\n    }\n\n    .dataframe thead th {\n        text-align: right;\n    }\n</style>\n<table border=\"1\" class=\"dataframe\">\n  <thead>\n    <tr style=\"text-align: right;\">\n      <th></th>\n      <th>Title</th>\n      <th>Year</th>\n      <th>Album.debut</th>\n      <th>Duration</th>\n      <th>Other.releases</th>\n      <th>Genre</th>\n      <th>Songwriter</th>\n      <th>Lead.vocal</th>\n      <th>Top.50.Billboard</th>\n    </tr>\n  </thead>\n  <tbody>\n    <tr>\n      <th>0</th>\n      <td>12-Bar Original</td>\n      <td>1965</td>\n      <td>Anthology 2</td>\n      <td>174</td>\n      <td>0</td>\n      <td>Blues</td>\n      <td>Lennon, McCartney, Harrison and Starkey</td>\n      <td>NaN</td>\n      <td>-1</td>\n    </tr>\n    <tr>\n      <th>1</th>\n      <td>A Day in the Life</td>\n      <td>1967</td>\n      <td>Sgt. Pepper's Lonely Hearts Club Band</td>\n      <td>335</td>\n      <td>12</td>\n      <td>Psychedelic Rock, Art Rock, Pop/Rock</td>\n      <td>Lennon and McCartney</td>\n      <td>Lennon and McCartney</td>\n      <td>-1</td>\n    </tr>\n    <tr>\n      <th>2</th>\n      <td>A Hard Day's Night</td>\n      <td>1964</td>\n      <td>UK: A Hard Day's Night US: 1962-1966</td>\n      <td>152</td>\n      <td>35</td>\n      <td>Rock, Electronic, Pop/Rock</td>\n      <td>Lennon</td>\n      <td>Lennon, with McCartney</td>\n      <td>8</td>\n    </tr>\n    <tr>\n      <th>3</th>\n      <td>A Shot of Rhythm and Blues</td>\n      <td>1963</td>\n      <td>Live at the BBC</td>\n      <td>104</td>\n      <td>0</td>\n      <td>R&amp;B, Pop/Rock</td>\n      <td>Thompson</td>\n      <td>Lennon</td>\n      <td>-1</td>\n    </tr>\n    <tr>\n      <th>4</th>\n      <td>A Taste of Honey</td>\n      <td>1963</td>\n      <td>UK: Please Please Me US: The Early Beatles</td>\n      <td>163</td>\n      <td>29</td>\n      <td>Pop/Rock, Jazz, Stage&amp;Screen</td>\n      <td>Scott, Marlow</td>\n      <td>McCartney</td>\n      <td>-1</td>\n    </tr>\n    <tr>\n      <th>...</th>\n      <td>...</td>\n      <td>...</td>\n      <td>...</td>\n      <td>...</td>\n      <td>...</td>\n      <td>...</td>\n      <td>...</td>\n      <td>...</td>\n      <td>...</td>\n    </tr>\n    <tr>\n      <th>305</th>\n      <td>You're Going to Lose That Girl</td>\n      <td>1965</td>\n      <td>Help!</td>\n      <td>140</td>\n      <td>6</td>\n      <td>Rock, Pop/Rock</td>\n      <td>Lennon</td>\n      <td>Lennon</td>\n      <td>-1</td>\n    </tr>\n    <tr>\n      <th>306</th>\n      <td>You've Got to Hide Your Love Away</td>\n      <td>1965</td>\n      <td>Help!</td>\n      <td>131</td>\n      <td>12</td>\n      <td>FolkPop/Rock</td>\n      <td>Lennon</td>\n      <td>Lennon</td>\n      <td>-1</td>\n    </tr>\n    <tr>\n      <th>307</th>\n      <td>You've Really Got a Hold on Me</td>\n      <td>1963</td>\n      <td>UK: With the Beatles US: The Beatles Second Album</td>\n      <td>182</td>\n      <td>2</td>\n      <td>Soul, Pop/Rock</td>\n      <td>Robinson</td>\n      <td>Lennon and Harrison</td>\n      <td>-1</td>\n    </tr>\n    <tr>\n      <th>308</th>\n      <td>Young Blood</td>\n      <td>1963</td>\n      <td>Live at the BBC</td>\n      <td>116</td>\n      <td>0</td>\n      <td>Pop/Rock</td>\n      <td>Leiber, Stoller</td>\n      <td>Harrison</td>\n      <td>-1</td>\n    </tr>\n    <tr>\n      <th>309</th>\n      <td>Your Mother Should Know</td>\n      <td>1967</td>\n      <td>Magical Mystery Tour</td>\n      <td>149</td>\n      <td>13</td>\n      <td>Music Hall, Vaudeville Rock, Psychedelic Pop, ...</td>\n      <td>McCartney</td>\n      <td>McCartney</td>\n      <td>-1</td>\n    </tr>\n  </tbody>\n</table>\n<p>310 rows × 9 columns</p>\n</div>"
     },
     "metadata": {},
     "output_type": "display_data"
    }
   ],
   "source": [
    "# Rename the Duration column to Length\n",
    "songs.rename({'Duration': 'Length'}, axis='columns', inplace=True)\n",
    "display(songs)\n",
    "# Rename the Length column back to Duration\n",
    "songs.rename({'Length': 'Duration'}, axis='columns', inplace=True)\n",
    "display(songs)"
   ],
   "metadata": {
    "collapsed": false,
    "pycharm": {
     "name": "#%%\n"
    }
   }
  },
  {
   "cell_type": "markdown",
   "source": [
    "##### Missing values and value counts\n",
    "`isna()` (`isnull()`), `isna().sum()` (`isnull().sum`) ([example](https://www.analyticsvidhya.com/blog/2021/08/how-to-perform-exploratory-data-analysis-a-guide-for-beginners/))\n",
    "`sb.heatmap()`, e.g. `sb.heatmap(<pd.df>.isnull(),cbar=False,cmap='viridis')` ([example](https://www.analyticsvidhya.com/blog/2021/08/how-to-perform-exploratory-data-analysis-a-guide-for-beginners/))\n",
    "`value_counts()`, `value_counts(normalize=True)`, `dropna(how='all'/'any', inplace=True)`"
   ],
   "metadata": {
    "collapsed": false,
    "pycharm": {
     "name": "#%% md\n"
    }
   }
  },
  {
   "cell_type": "markdown",
   "source": [
    "The `cmap` parameter denotes a [Matplotlib colormap](https://matplotlib.org/stable/tutorials/colors/colormaps.html#classes-of-colormaps) (`viridis`, `cividis`, `tab20`, `winter`, `BuPu_r`, `ocean`,...)."
   ],
   "metadata": {
    "collapsed": false,
    "pycharm": {
     "name": "#%% md\n"
    }
   }
  },
  {
   "cell_type": "code",
   "execution_count": 6,
   "outputs": [
    {
     "data": {
      "text/plain": "<AxesSubplot:>"
     },
     "metadata": {},
     "output_type": "display_data"
    },
    {
     "data": {
      "text/plain": "<Figure size 640x480 with 1 Axes>",
      "image/png": "[encoded data removed]"
     },
     "metadata": {},
     "output_type": "display_data"
    }
   ],
   "source": [
    "display(sb.heatmap(songs.isnull(), cbar=False, cmap='ocean'))"
   ],
   "metadata": {
    "collapsed": false,
    "pycharm": {
     "name": "#%%\n"
    }
   }
  },
  {
   "cell_type": "markdown",
   "source": [
    "`index`, `index[<from>:<to>]`, `reset_index(drop=True, inplace=True)`"
   ],
   "metadata": {
    "collapsed": false,
    "pycharm": {
     "name": "#%% md\n"
    }
   }
  },
  {
   "cell_type": "markdown",
   "source": [
    "How many missing values are there?"
   ],
   "metadata": {
    "collapsed": false,
    "pycharm": {
     "name": "#%% md\n"
    }
   }
  },
  {
   "cell_type": "code",
   "execution_count": 55,
   "outputs": [
    {
     "data": {
      "text/plain": "Title               0\nYear                0\nAlbum.debut         0\nDuration            0\nOther.releases      0\nGenre               4\nSongwriter          0\nLead.vocal          8\nTop.50.Billboard    0\ndtype: int64"
     },
     "metadata": {},
     "output_type": "display_data"
    },
    {
     "data": {
      "text/plain": "Title               0\nYear                0\nAlbum.debut         0\nDuration            0\nOther.releases      0\nGenre               4\nSongwriter          0\nLead.vocal          8\nTop.50.Billboard    0\ndtype: int64"
     },
     "metadata": {},
     "output_type": "display_data"
    }
   ],
   "source": [
    "# songs.isna().sum()\n",
    "display(songs.isna().sum())\n",
    "# display(songs.isnull().sum())         # isnull() is the same as isna(), and isna() is used more often"
   ],
   "metadata": {
    "collapsed": false,
    "pycharm": {
     "name": "#%%\n"
    }
   }
  },
  {
   "cell_type": "markdown",
   "source": [
    "##### Examining individual data items, rows and columns\n",
    "`sample()`\n",
    "Simple indexing and fancy indexing: `iloc()`, `loc()`\n",
    "`index`, `index[<from>:<to>]`, `reset_index(drop=True, inplace=True)`\n",
    "Indexing in data stats: `<pd.df>.describe().loc['50%', '<column_name>']` (select the median of <column_name> from the <pd.df> stats computed by describe())\n",
    "Indexing using list of values: `<pd.df>.loc[<pd.df>.<column>.isin(<list of values>)]` (select those observations where the value of <column> is in the `<list of values>`)"
   ],
   "metadata": {
    "collapsed": false,
    "pycharm": {
     "name": "#%% md\n"
    }
   }
  },
  {
   "cell_type": "markdown",
   "source": [
    "What are the songs with missing `Album.debut`?"
   ],
   "metadata": {
    "collapsed": false,
    "pycharm": {
     "name": "#%% md\n"
    }
   }
  },
  {
   "cell_type": "code",
   "execution_count": 51,
   "outputs": [
    {
     "data": {
      "text/plain": "22"
     },
     "metadata": {},
     "output_type": "display_data"
    },
    {
     "data": {
      "text/plain": "0      False\n1      False\n2      False\n3      False\n4      False\n       ...  \n305    False\n306    False\n307    False\n308    False\n309    False\nName: Album.debut, Length: 310, dtype: bool"
     },
     "metadata": {},
     "output_type": "display_data"
    },
    {
     "name": "stdout",
     "output_type": "stream",
     "text": [
      "\n"
     ]
    },
    {
     "data": {
      "text/plain": "                         Title  Year Album.debut  Duration  Other.releases  \\\n37                    Catswalk  1962         NaN       150               0   \n42                     Circles  1968         NaN       226               0   \n64                    Etcetera  1968         NaN       150               0   \n85                     Goodbye  1969         NaN       150               0   \n89                     Heather  1968         NaN       130               0   \n112      I Lost My Little Girl  1962         NaN       105               0   \n127    I'll Keep You Satisfied  1963         NaN       150               0   \n148            Jazz Piano Song  1969         NaN       150               0   \n149             Jessie's Dream  1967         NaN       150               0   \n165              Looking Glass  1962         NaN       150               0   \n167          Love of the Loved  1962         NaN       122               0   \n172                     Madman  1969         NaN       197               0   \n199         One and One Is Two  1964         NaN       150               0   \n221      September in the Rain  1962         NaN       150               0   \n225     Shakin' in the Sixties  1969         NaN       150               0   \n238              Sour Milk Sea  1968         NaN       236               0   \n244  Take Good Care of My Baby  1962         NaN       150               0   \n262                 The Saints  1962         NaN       150               0   \n272           Tip of My Tongue  1962         NaN       150               0   \n279          Watching Rainbows  1969         NaN       248               0   \n289             Winston's Walk  1960         NaN       150               0   \n292                      Woman  1965         NaN       145               0   \n\n                                     Genre  \\\n37                                Pop/Rock   \n42              Hindustani Blues, Pop/Rock   \n64                                Pop/Rock   \n85                    Children's, Pop/Rock   \n89                          Rock, Pop/Rock   \n112                    Rock, R&B, Pop/Rock   \n127                               Pop/Rock   \n148                          Boogie-Woogie   \n149                                    NaN   \n165                               Pop/Rock   \n167                               Pop/Rock   \n172                         Rock, Pop/Rock   \n199                                    NaN   \n221                               Pop/Rock   \n225                               Pop/Rock   \n238  Hard Rock, Psychedelic Rock, Pop/Rock   \n244                Rock and Roll, Pop/Rock   \n262                               Pop/Rock   \n272              Beat, Power Pop, Pop/Rock   \n279                         Rock, Pop/Rock   \n289                                    NaN   \n292                    Folk Rock, Pop/Rock   \n\n                                  Songwriter               Lead.vocal  \\\n37                                 McCartney                      NaN   \n42                                  Harrison                 Harrison   \n64                                 McCartney                McCartney   \n85                                 McCartney                McCartney   \n89                                 McCartney                McCartney   \n112                                McCartney                   Lennon   \n127                   McCartney, with Lennon  Lennon and/or McCartney   \n148                       McCartney, Starkey                McCartney   \n149     Lennon, McCartney, Harrison, Starkey                      NaN   \n165                                McCartney                McCartney   \n167                   McCartney, with Lennon                McCartney   \n172                                   Lennon                   Lennon   \n199                                McCartney                McCartney   \n221                   Al Dubin, Harry Warren                McCartney   \n225                                   Lennon                   Lennon   \n238                                 Harrison                 Harrison   \n244                             Goffin, King                 Harrison   \n262               Traditional, arr. Sheridan                 Sheridan   \n272                  Lennon and/or McCartney         McCartney/Lennon   \n279                   Lennon, with McCartney                   Lennon   \n289                                   Lennon                      NaN   \n292  McCartney (as Bernard Webb or A. Smith)                McCartney   \n\n     Top.50.Billboard  \n37                 -1  \n42                 -1  \n64                 -1  \n85                 -1  \n89                 -1  \n112                -1  \n127                -1  \n148                -1  \n149                -1  \n165                -1  \n167                -1  \n172                -1  \n199                -1  \n221                -1  \n225                -1  \n238                -1  \n244                -1  \n262                -1  \n272                -1  \n279                -1  \n289                -1  \n292                -1  ",
      "text/html": "<div>\n<style scoped>\n    .dataframe tbody tr th:only-of-type {\n        vertical-align: middle;\n    }\n\n    .dataframe tbody tr th {\n        vertical-align: top;\n    }\n\n    .dataframe thead th {\n        text-align: right;\n    }\n</style>\n<table border=\"1\" class=\"dataframe\">\n  <thead>\n    <tr style=\"text-align: right;\">\n      <th></th>\n      <th>Title</th>\n      <th>Year</th>\n      <th>Album.debut</th>\n      <th>Duration</th>\n      <th>Other.releases</th>\n      <th>Genre</th>\n      <th>Songwriter</th>\n      <th>Lead.vocal</th>\n      <th>Top.50.Billboard</th>\n    </tr>\n  </thead>\n  <tbody>\n    <tr>\n      <th>37</th>\n      <td>Catswalk</td>\n      <td>1962</td>\n      <td>NaN</td>\n      <td>150</td>\n      <td>0</td>\n      <td>Pop/Rock</td>\n      <td>McCartney</td>\n      <td>NaN</td>\n      <td>-1</td>\n    </tr>\n    <tr>\n      <th>42</th>\n      <td>Circles</td>\n      <td>1968</td>\n      <td>NaN</td>\n      <td>226</td>\n      <td>0</td>\n      <td>Hindustani Blues, Pop/Rock</td>\n      <td>Harrison</td>\n      <td>Harrison</td>\n      <td>-1</td>\n    </tr>\n    <tr>\n      <th>64</th>\n      <td>Etcetera</td>\n      <td>1968</td>\n      <td>NaN</td>\n      <td>150</td>\n      <td>0</td>\n      <td>Pop/Rock</td>\n      <td>McCartney</td>\n      <td>McCartney</td>\n      <td>-1</td>\n    </tr>\n    <tr>\n      <th>85</th>\n      <td>Goodbye</td>\n      <td>1969</td>\n      <td>NaN</td>\n      <td>150</td>\n      <td>0</td>\n      <td>Children's, Pop/Rock</td>\n      <td>McCartney</td>\n      <td>McCartney</td>\n      <td>-1</td>\n    </tr>\n    <tr>\n      <th>89</th>\n      <td>Heather</td>\n      <td>1968</td>\n      <td>NaN</td>\n      <td>130</td>\n      <td>0</td>\n      <td>Rock, Pop/Rock</td>\n      <td>McCartney</td>\n      <td>McCartney</td>\n      <td>-1</td>\n    </tr>\n    <tr>\n      <th>112</th>\n      <td>I Lost My Little Girl</td>\n      <td>1962</td>\n      <td>NaN</td>\n      <td>105</td>\n      <td>0</td>\n      <td>Rock, R&amp;B, Pop/Rock</td>\n      <td>McCartney</td>\n      <td>Lennon</td>\n      <td>-1</td>\n    </tr>\n    <tr>\n      <th>127</th>\n      <td>I'll Keep You Satisfied</td>\n      <td>1963</td>\n      <td>NaN</td>\n      <td>150</td>\n      <td>0</td>\n      <td>Pop/Rock</td>\n      <td>McCartney, with Lennon</td>\n      <td>Lennon and/or McCartney</td>\n      <td>-1</td>\n    </tr>\n    <tr>\n      <th>148</th>\n      <td>Jazz Piano Song</td>\n      <td>1969</td>\n      <td>NaN</td>\n      <td>150</td>\n      <td>0</td>\n      <td>Boogie-Woogie</td>\n      <td>McCartney, Starkey</td>\n      <td>McCartney</td>\n      <td>-1</td>\n    </tr>\n    <tr>\n      <th>149</th>\n      <td>Jessie's Dream</td>\n      <td>1967</td>\n      <td>NaN</td>\n      <td>150</td>\n      <td>0</td>\n      <td>NaN</td>\n      <td>Lennon, McCartney, Harrison, Starkey</td>\n      <td>NaN</td>\n      <td>-1</td>\n    </tr>\n    <tr>\n      <th>165</th>\n      <td>Looking Glass</td>\n      <td>1962</td>\n      <td>NaN</td>\n      <td>150</td>\n      <td>0</td>\n      <td>Pop/Rock</td>\n      <td>McCartney</td>\n      <td>McCartney</td>\n      <td>-1</td>\n    </tr>\n    <tr>\n      <th>167</th>\n      <td>Love of the Loved</td>\n      <td>1962</td>\n      <td>NaN</td>\n      <td>122</td>\n      <td>0</td>\n      <td>Pop/Rock</td>\n      <td>McCartney, with Lennon</td>\n      <td>McCartney</td>\n      <td>-1</td>\n    </tr>\n    <tr>\n      <th>172</th>\n      <td>Madman</td>\n      <td>1969</td>\n      <td>NaN</td>\n      <td>197</td>\n      <td>0</td>\n      <td>Rock, Pop/Rock</td>\n      <td>Lennon</td>\n      <td>Lennon</td>\n      <td>-1</td>\n    </tr>\n    <tr>\n      <th>199</th>\n      <td>One and One Is Two</td>\n      <td>1964</td>\n      <td>NaN</td>\n      <td>150</td>\n      <td>0</td>\n      <td>NaN</td>\n      <td>McCartney</td>\n      <td>McCartney</td>\n      <td>-1</td>\n    </tr>\n    <tr>\n      <th>221</th>\n      <td>September in the Rain</td>\n      <td>1962</td>\n      <td>NaN</td>\n      <td>150</td>\n      <td>0</td>\n      <td>Pop/Rock</td>\n      <td>Al Dubin, Harry Warren</td>\n      <td>McCartney</td>\n      <td>-1</td>\n    </tr>\n    <tr>\n      <th>225</th>\n      <td>Shakin' in the Sixties</td>\n      <td>1969</td>\n      <td>NaN</td>\n      <td>150</td>\n      <td>0</td>\n      <td>Pop/Rock</td>\n      <td>Lennon</td>\n      <td>Lennon</td>\n      <td>-1</td>\n    </tr>\n    <tr>\n      <th>238</th>\n      <td>Sour Milk Sea</td>\n      <td>1968</td>\n      <td>NaN</td>\n      <td>236</td>\n      <td>0</td>\n      <td>Hard Rock, Psychedelic Rock, Pop/Rock</td>\n      <td>Harrison</td>\n      <td>Harrison</td>\n      <td>-1</td>\n    </tr>\n    <tr>\n      <th>244</th>\n      <td>Take Good Care of My Baby</td>\n      <td>1962</td>\n      <td>NaN</td>\n      <td>150</td>\n      <td>0</td>\n      <td>Rock and Roll, Pop/Rock</td>\n      <td>Goffin, King</td>\n      <td>Harrison</td>\n      <td>-1</td>\n    </tr>\n    <tr>\n      <th>262</th>\n      <td>The Saints</td>\n      <td>1962</td>\n      <td>NaN</td>\n      <td>150</td>\n      <td>0</td>\n      <td>Pop/Rock</td>\n      <td>Traditional, arr. Sheridan</td>\n      <td>Sheridan</td>\n      <td>-1</td>\n    </tr>\n    <tr>\n      <th>272</th>\n      <td>Tip of My Tongue</td>\n      <td>1962</td>\n      <td>NaN</td>\n      <td>150</td>\n      <td>0</td>\n      <td>Beat, Power Pop, Pop/Rock</td>\n      <td>Lennon and/or McCartney</td>\n      <td>McCartney/Lennon</td>\n      <td>-1</td>\n    </tr>\n    <tr>\n      <th>279</th>\n      <td>Watching Rainbows</td>\n      <td>1969</td>\n      <td>NaN</td>\n      <td>248</td>\n      <td>0</td>\n      <td>Rock, Pop/Rock</td>\n      <td>Lennon, with McCartney</td>\n      <td>Lennon</td>\n      <td>-1</td>\n    </tr>\n    <tr>\n      <th>289</th>\n      <td>Winston's Walk</td>\n      <td>1960</td>\n      <td>NaN</td>\n      <td>150</td>\n      <td>0</td>\n      <td>NaN</td>\n      <td>Lennon</td>\n      <td>NaN</td>\n      <td>-1</td>\n    </tr>\n    <tr>\n      <th>292</th>\n      <td>Woman</td>\n      <td>1965</td>\n      <td>NaN</td>\n      <td>145</td>\n      <td>0</td>\n      <td>Folk Rock, Pop/Rock</td>\n      <td>McCartney (as Bernard Webb or A. Smith)</td>\n      <td>McCartney</td>\n      <td>-1</td>\n    </tr>\n  </tbody>\n</table>\n</div>"
     },
     "metadata": {},
     "output_type": "display_data"
    },
    {
     "data": {
      "text/plain": "Int64Index([ 37,  42,  64,  85,  89, 112, 127, 148, 149, 165, 167, 172, 199,\n            221, 225, 238, 244, 262, 272, 279, 289, 292],\n           dtype='int64')"
     },
     "metadata": {},
     "output_type": "display_data"
    },
    {
     "data": {
      "text/plain": "                         Title Album.debut\n37                    Catswalk         NaN\n42                     Circles         NaN\n64                    Etcetera         NaN\n85                     Goodbye         NaN\n89                     Heather         NaN\n112      I Lost My Little Girl         NaN\n127    I'll Keep You Satisfied         NaN\n148            Jazz Piano Song         NaN\n149             Jessie's Dream         NaN\n165              Looking Glass         NaN\n167          Love of the Loved         NaN\n172                     Madman         NaN\n199         One and One Is Two         NaN\n221      September in the Rain         NaN\n225     Shakin' in the Sixties         NaN\n238              Sour Milk Sea         NaN\n244  Take Good Care of My Baby         NaN\n262                 The Saints         NaN\n272           Tip of My Tongue         NaN\n279          Watching Rainbows         NaN\n289             Winston's Walk         NaN\n292                      Woman         NaN",
      "text/html": "<div>\n<style scoped>\n    .dataframe tbody tr th:only-of-type {\n        vertical-align: middle;\n    }\n\n    .dataframe tbody tr th {\n        vertical-align: top;\n    }\n\n    .dataframe thead th {\n        text-align: right;\n    }\n</style>\n<table border=\"1\" class=\"dataframe\">\n  <thead>\n    <tr style=\"text-align: right;\">\n      <th></th>\n      <th>Title</th>\n      <th>Album.debut</th>\n    </tr>\n  </thead>\n  <tbody>\n    <tr>\n      <th>37</th>\n      <td>Catswalk</td>\n      <td>NaN</td>\n    </tr>\n    <tr>\n      <th>42</th>\n      <td>Circles</td>\n      <td>NaN</td>\n    </tr>\n    <tr>\n      <th>64</th>\n      <td>Etcetera</td>\n      <td>NaN</td>\n    </tr>\n    <tr>\n      <th>85</th>\n      <td>Goodbye</td>\n      <td>NaN</td>\n    </tr>\n    <tr>\n      <th>89</th>\n      <td>Heather</td>\n      <td>NaN</td>\n    </tr>\n    <tr>\n      <th>112</th>\n      <td>I Lost My Little Girl</td>\n      <td>NaN</td>\n    </tr>\n    <tr>\n      <th>127</th>\n      <td>I'll Keep You Satisfied</td>\n      <td>NaN</td>\n    </tr>\n    <tr>\n      <th>148</th>\n      <td>Jazz Piano Song</td>\n      <td>NaN</td>\n    </tr>\n    <tr>\n      <th>149</th>\n      <td>Jessie's Dream</td>\n      <td>NaN</td>\n    </tr>\n    <tr>\n      <th>165</th>\n      <td>Looking Glass</td>\n      <td>NaN</td>\n    </tr>\n    <tr>\n      <th>167</th>\n      <td>Love of the Loved</td>\n      <td>NaN</td>\n    </tr>\n    <tr>\n      <th>172</th>\n      <td>Madman</td>\n      <td>NaN</td>\n    </tr>\n    <tr>\n      <th>199</th>\n      <td>One and One Is Two</td>\n      <td>NaN</td>\n    </tr>\n    <tr>\n      <th>221</th>\n      <td>September in the Rain</td>\n      <td>NaN</td>\n    </tr>\n    <tr>\n      <th>225</th>\n      <td>Shakin' in the Sixties</td>\n      <td>NaN</td>\n    </tr>\n    <tr>\n      <th>238</th>\n      <td>Sour Milk Sea</td>\n      <td>NaN</td>\n    </tr>\n    <tr>\n      <th>244</th>\n      <td>Take Good Care of My Baby</td>\n      <td>NaN</td>\n    </tr>\n    <tr>\n      <th>262</th>\n      <td>The Saints</td>\n      <td>NaN</td>\n    </tr>\n    <tr>\n      <th>272</th>\n      <td>Tip of My Tongue</td>\n      <td>NaN</td>\n    </tr>\n    <tr>\n      <th>279</th>\n      <td>Watching Rainbows</td>\n      <td>NaN</td>\n    </tr>\n    <tr>\n      <th>289</th>\n      <td>Winston's Walk</td>\n      <td>NaN</td>\n    </tr>\n    <tr>\n      <th>292</th>\n      <td>Woman</td>\n      <td>NaN</td>\n    </tr>\n  </tbody>\n</table>\n</div>"
     },
     "metadata": {},
     "output_type": "display_data"
    },
    {
     "data": {
      "text/plain": "37     NaN\n42     NaN\n64     NaN\n85     NaN\n89     NaN\n112    NaN\n127    NaN\n148    NaN\n149    NaN\n165    NaN\n167    NaN\n172    NaN\n199    NaN\n221    NaN\n225    NaN\n238    NaN\n244    NaN\n262    NaN\n272    NaN\n279    NaN\n289    NaN\n292    NaN\nName: Album.debut, dtype: object"
     },
     "metadata": {},
     "output_type": "display_data"
    }
   ],
   "source": [
    "display(len(songs.loc[songs['Album.debut'].isna()]))\n",
    "display(songs['Album.debut'].isna())\n",
    "print()\n",
    "\n",
    "display(songs.loc[songs['Album.debut'].isna()])\n",
    "display(songs.loc[songs['Album.debut'].isna()].index)\n",
    "# display(songs.loc[songs['Album.debut'].isna()].index.tolist())\n",
    "i = songs.loc[songs['Album.debut'].isna()].index\n",
    "# display(i)\n",
    "\n",
    "# display(songs.loc[songs['Album.debut'].isna(), 'Title':'Album.debut'])\n",
    "display(songs.loc[songs['Album.debut'].isna(), ['Title', 'Album.debut']])\n",
    "# display(songs.iloc[0:3, 2])\n",
    "display(songs.iloc[i, 2])"
   ],
   "metadata": {
    "collapsed": false,
    "pycharm": {
     "name": "#%%\n"
    }
   }
  },
  {
   "cell_type": "markdown",
   "source": [
    "Replace `NaN` values in `Album.debut` with 'No' (these songs have not appeared on any of the official albums)."
   ],
   "metadata": {
    "collapsed": false,
    "pycharm": {
     "name": "#%% md\n"
    }
   }
  },
  {
   "cell_type": "code",
   "execution_count": 54,
   "outputs": [
    {
     "data": {
      "text/plain": "                         Title Album.debut\n37                    Catswalk          No\n42                     Circles          No\n64                    Etcetera          No\n85                     Goodbye          No\n89                     Heather          No\n112      I Lost My Little Girl          No\n127    I'll Keep You Satisfied          No\n148            Jazz Piano Song          No\n149             Jessie's Dream          No\n165              Looking Glass          No\n167          Love of the Loved          No\n172                     Madman          No\n199         One and One Is Two          No\n221      September in the Rain          No\n225     Shakin' in the Sixties          No\n238              Sour Milk Sea          No\n244  Take Good Care of My Baby          No\n262                 The Saints          No\n272           Tip of My Tongue          No\n279          Watching Rainbows          No\n289             Winston's Walk          No\n292                      Woman          No",
      "text/html": "<div>\n<style scoped>\n    .dataframe tbody tr th:only-of-type {\n        vertical-align: middle;\n    }\n\n    .dataframe tbody tr th {\n        vertical-align: top;\n    }\n\n    .dataframe thead th {\n        text-align: right;\n    }\n</style>\n<table border=\"1\" class=\"dataframe\">\n  <thead>\n    <tr style=\"text-align: right;\">\n      <th></th>\n      <th>Title</th>\n      <th>Album.debut</th>\n    </tr>\n  </thead>\n  <tbody>\n    <tr>\n      <th>37</th>\n      <td>Catswalk</td>\n      <td>No</td>\n    </tr>\n    <tr>\n      <th>42</th>\n      <td>Circles</td>\n      <td>No</td>\n    </tr>\n    <tr>\n      <th>64</th>\n      <td>Etcetera</td>\n      <td>No</td>\n    </tr>\n    <tr>\n      <th>85</th>\n      <td>Goodbye</td>\n      <td>No</td>\n    </tr>\n    <tr>\n      <th>89</th>\n      <td>Heather</td>\n      <td>No</td>\n    </tr>\n    <tr>\n      <th>112</th>\n      <td>I Lost My Little Girl</td>\n      <td>No</td>\n    </tr>\n    <tr>\n      <th>127</th>\n      <td>I'll Keep You Satisfied</td>\n      <td>No</td>\n    </tr>\n    <tr>\n      <th>148</th>\n      <td>Jazz Piano Song</td>\n      <td>No</td>\n    </tr>\n    <tr>\n      <th>149</th>\n      <td>Jessie's Dream</td>\n      <td>No</td>\n    </tr>\n    <tr>\n      <th>165</th>\n      <td>Looking Glass</td>\n      <td>No</td>\n    </tr>\n    <tr>\n      <th>167</th>\n      <td>Love of the Loved</td>\n      <td>No</td>\n    </tr>\n    <tr>\n      <th>172</th>\n      <td>Madman</td>\n      <td>No</td>\n    </tr>\n    <tr>\n      <th>199</th>\n      <td>One and One Is Two</td>\n      <td>No</td>\n    </tr>\n    <tr>\n      <th>221</th>\n      <td>September in the Rain</td>\n      <td>No</td>\n    </tr>\n    <tr>\n      <th>225</th>\n      <td>Shakin' in the Sixties</td>\n      <td>No</td>\n    </tr>\n    <tr>\n      <th>238</th>\n      <td>Sour Milk Sea</td>\n      <td>No</td>\n    </tr>\n    <tr>\n      <th>244</th>\n      <td>Take Good Care of My Baby</td>\n      <td>No</td>\n    </tr>\n    <tr>\n      <th>262</th>\n      <td>The Saints</td>\n      <td>No</td>\n    </tr>\n    <tr>\n      <th>272</th>\n      <td>Tip of My Tongue</td>\n      <td>No</td>\n    </tr>\n    <tr>\n      <th>279</th>\n      <td>Watching Rainbows</td>\n      <td>No</td>\n    </tr>\n    <tr>\n      <th>289</th>\n      <td>Winston's Walk</td>\n      <td>No</td>\n    </tr>\n    <tr>\n      <th>292</th>\n      <td>Woman</td>\n      <td>No</td>\n    </tr>\n  </tbody>\n</table>\n</div>"
     },
     "metadata": {},
     "output_type": "display_data"
    }
   ],
   "source": [
    "songs.iloc[i, 2] = 'No'\n",
    "display(songs.iloc[i, [0, 2]])"
   ],
   "metadata": {
    "collapsed": false,
    "pycharm": {
     "name": "#%%\n"
    }
   }
  },
  {
   "cell_type": "markdown",
   "source": [
    "Double-check the missing values now:"
   ],
   "metadata": {
    "collapsed": false,
    "pycharm": {
     "name": "#%% md\n"
    }
   }
  },
  {
   "cell_type": "code",
   "execution_count": 59,
   "outputs": [
    {
     "data": {
      "text/plain": "Title               0\nYear                0\nAlbum.debut         0\nDuration            0\nOther.releases      0\nGenre               4\nSongwriter          0\nLead.vocal          8\nTop.50.Billboard    0\ndtype: int64"
     },
     "metadata": {},
     "output_type": "display_data"
    },
    {
     "data": {
      "text/plain": "<AxesSubplot:>"
     },
     "metadata": {},
     "output_type": "display_data"
    },
    {
     "data": {
      "text/plain": "<Figure size 640x480 with 2 Axes>",
      "image/png": "[encoded data removed]"
     },
     "metadata": {},
     "output_type": "display_data"
    }
   ],
   "source": [
    "display(songs.isna().sum())\n",
    "display(sb.heatmap(songs.isna(), cmap='cividis'))"
   ],
   "metadata": {
    "collapsed": false,
    "pycharm": {
     "name": "#%%\n"
    }
   }
  },
  {
   "cell_type": "markdown",
   "source": [
    "How many songs from 1964 are there?"
   ],
   "metadata": {
    "collapsed": false,
    "pycharm": {
     "name": "#%% md\n"
    }
   }
  },
  {
   "cell_type": "code",
   "execution_count": 69,
   "outputs": [
    {
     "data": {
      "text/plain": "1963    66\n1968    45\n1969    43\n1964    41\n1965    37\n1967    27\n1962    20\n1966    19\n1960     4\n1961     3\n1958     2\n1977     1\n1970     1\n1980     1\nName: Year, dtype: int64"
     },
     "metadata": {},
     "output_type": "display_data"
    },
    {
     "data": {
      "text/plain": "pandas.core.series.Series"
     },
     "metadata": {},
     "output_type": "display_data"
    },
    {
     "data": {
      "text/plain": "41"
     },
     "metadata": {},
     "output_type": "display_data"
    }
   ],
   "source": [
    "display(songs['Year'].value_counts())\n",
    "display(type(songs['Year'].value_counts()))\n",
    "display(songs['Year'].value_counts()[1964])"
   ],
   "metadata": {
    "collapsed": false,
    "pycharm": {
     "name": "#%%\n"
    }
   }
  },
  {
   "cell_type": "markdown",
   "source": [
    "How many songs from The Beatles early years are there?"
   ],
   "metadata": {
    "collapsed": false,
    "pycharm": {
     "name": "#%% md\n"
    }
   }
  },
  {
   "cell_type": "code",
   "execution_count": 73,
   "outputs": [
    {
     "data": {
      "text/plain": "                          Title  Year  Album.debut  Duration  Other.releases  \\\n7               Ain't She Sweet  1961  Anthology 1       150               9   \n38                      Cayenne  1960  Anthology 1       144               0   \n47             Cry for a Shadow  1961  Anthology 1       140               0   \n87    Hallelujah, I Love Her So  1960  Anthology 1       155               0   \n144  In Spite of All the Danger  1958  Anthology 1       164               0   \n187                   My Bonnie  1961  Anthology 1       150              13   \n252          That'll Be the Day  1958  Anthology 1       136               0   \n289              Winston's Walk  1960           No       150               0   \n304              You'll Be Mine  1960  Anthology 1        98               0   \n\n                                       Genre                  Songwriter  \\\n7                                   Pop/Rock                Yellen, Ager   \n38               Instrumental Rock, Pop/Rock                   McCartney   \n47               Instrumental Rock, Pop/Rock         Lennon and Harrison   \n87                Blues, Jazz, R&B, Pop/Rock                     Charles   \n144  Skiffle, Blues, Rock and Roll, Pop/Rock      McCartney and Harrison   \n187                  Rock and Roll, Pop/Rock  Traditional, arr. Sheridan   \n252      Rock and Roll, Rockabilly, Pop/Rock       Allison, Holly, Petty   \n289                                      NaN                      Lennon   \n304              R&B, Experimental, Pop/Rock        Lennon and McCartney   \n\n    Lead.vocal  Top.50.Billboard  \n7       Lennon                41  \n38         NaN                -1  \n47         NaN                -1  \n87   McCartney                -1  \n144     Lennon                -1  \n187   Sheridan                45  \n252     Lennon                -1  \n289        NaN                -1  \n304  McCartney                -1  ",
      "text/html": "<div>\n<style scoped>\n    .dataframe tbody tr th:only-of-type {\n        vertical-align: middle;\n    }\n\n    .dataframe tbody tr th {\n        vertical-align: top;\n    }\n\n    .dataframe thead th {\n        text-align: right;\n    }\n</style>\n<table border=\"1\" class=\"dataframe\">\n  <thead>\n    <tr style=\"text-align: right;\">\n      <th></th>\n      <th>Title</th>\n      <th>Year</th>\n      <th>Album.debut</th>\n      <th>Duration</th>\n      <th>Other.releases</th>\n      <th>Genre</th>\n      <th>Songwriter</th>\n      <th>Lead.vocal</th>\n      <th>Top.50.Billboard</th>\n    </tr>\n  </thead>\n  <tbody>\n    <tr>\n      <th>7</th>\n      <td>Ain't She Sweet</td>\n      <td>1961</td>\n      <td>Anthology 1</td>\n      <td>150</td>\n      <td>9</td>\n      <td>Pop/Rock</td>\n      <td>Yellen, Ager</td>\n      <td>Lennon</td>\n      <td>41</td>\n    </tr>\n    <tr>\n      <th>38</th>\n      <td>Cayenne</td>\n      <td>1960</td>\n      <td>Anthology 1</td>\n      <td>144</td>\n      <td>0</td>\n      <td>Instrumental Rock, Pop/Rock</td>\n      <td>McCartney</td>\n      <td>NaN</td>\n      <td>-1</td>\n    </tr>\n    <tr>\n      <th>47</th>\n      <td>Cry for a Shadow</td>\n      <td>1961</td>\n      <td>Anthology 1</td>\n      <td>140</td>\n      <td>0</td>\n      <td>Instrumental Rock, Pop/Rock</td>\n      <td>Lennon and Harrison</td>\n      <td>NaN</td>\n      <td>-1</td>\n    </tr>\n    <tr>\n      <th>87</th>\n      <td>Hallelujah, I Love Her So</td>\n      <td>1960</td>\n      <td>Anthology 1</td>\n      <td>155</td>\n      <td>0</td>\n      <td>Blues, Jazz, R&amp;B, Pop/Rock</td>\n      <td>Charles</td>\n      <td>McCartney</td>\n      <td>-1</td>\n    </tr>\n    <tr>\n      <th>144</th>\n      <td>In Spite of All the Danger</td>\n      <td>1958</td>\n      <td>Anthology 1</td>\n      <td>164</td>\n      <td>0</td>\n      <td>Skiffle, Blues, Rock and Roll, Pop/Rock</td>\n      <td>McCartney and Harrison</td>\n      <td>Lennon</td>\n      <td>-1</td>\n    </tr>\n    <tr>\n      <th>187</th>\n      <td>My Bonnie</td>\n      <td>1961</td>\n      <td>Anthology 1</td>\n      <td>150</td>\n      <td>13</td>\n      <td>Rock and Roll, Pop/Rock</td>\n      <td>Traditional, arr. Sheridan</td>\n      <td>Sheridan</td>\n      <td>45</td>\n    </tr>\n    <tr>\n      <th>252</th>\n      <td>That'll Be the Day</td>\n      <td>1958</td>\n      <td>Anthology 1</td>\n      <td>136</td>\n      <td>0</td>\n      <td>Rock and Roll, Rockabilly, Pop/Rock</td>\n      <td>Allison, Holly, Petty</td>\n      <td>Lennon</td>\n      <td>-1</td>\n    </tr>\n    <tr>\n      <th>289</th>\n      <td>Winston's Walk</td>\n      <td>1960</td>\n      <td>No</td>\n      <td>150</td>\n      <td>0</td>\n      <td>NaN</td>\n      <td>Lennon</td>\n      <td>NaN</td>\n      <td>-1</td>\n    </tr>\n    <tr>\n      <th>304</th>\n      <td>You'll Be Mine</td>\n      <td>1960</td>\n      <td>Anthology 1</td>\n      <td>98</td>\n      <td>0</td>\n      <td>R&amp;B, Experimental, Pop/Rock</td>\n      <td>Lennon and McCartney</td>\n      <td>McCartney</td>\n      <td>-1</td>\n    </tr>\n  </tbody>\n</table>\n</div>"
     },
     "metadata": {},
     "output_type": "display_data"
    },
    {
     "data": {
      "text/plain": "9"
     },
     "metadata": {},
     "output_type": "display_data"
    }
   ],
   "source": [
    "early_years = [year for year in range(1957, 1962)]\n",
    "# display(songs.loc[songs['Year'].isin(early_years)])\n",
    "display(songs.loc[songs.Year.isin(early_years)])\n",
    "display(len(songs.loc[songs.Year.isin(early_years)]))"
   ],
   "metadata": {
    "collapsed": false,
    "pycharm": {
     "name": "#%%\n"
    }
   }
  },
  {
   "cell_type": "markdown",
   "source": [],
   "metadata": {
    "collapsed": false,
    "pycharm": {
     "name": "#%% md\n"
    }
   }
  },
  {
   "cell_type": "markdown",
   "source": [
    "\n",
    "\n",
    "\n",
    "\n",
    "\n"
   ],
   "metadata": {
    "collapsed": false,
    "pycharm": {
     "name": "#%% md\n"
    }
   }
  },
  {
   "cell_type": "code",
   "execution_count": 63,
   "outputs": [
    {
     "data": {
      "text/plain": "RangeIndex(start=0, stop=310, step=1)"
     },
     "metadata": {},
     "output_type": "display_data"
    },
    {
     "data": {
      "text/plain": "RangeIndex(start=2, stop=5, step=1)"
     },
     "metadata": {},
     "output_type": "display_data"
    },
    {
     "data": {
      "text/plain": "array([2, 3, 4], dtype=int64)"
     },
     "metadata": {},
     "output_type": "display_data"
    }
   ],
   "source": [
    "display(songs.index)\n",
    "display(songs.index[2:5])\n",
    "display(songs.index[2:5].values)"
   ],
   "metadata": {
    "collapsed": false,
    "pycharm": {
     "name": "#%%\n"
    }
   }
  },
  {
   "cell_type": "markdown",
   "source": [
    "### Data visualization\n",
    "Plot some bargraphs, scatterplots, boxplots,...\n",
    "[Example](https://www.analyticsvidhya.com/blog/2021/08/how-to-perform-exploratory-data-analysis-a-guide-for-beginners/)"
   ],
   "metadata": {
    "collapsed": false,
    "pycharm": {
     "name": "#%% md\n"
    }
   }
  },
  {
   "cell_type": "markdown",
   "source": [
    "Use Pandas to extract song lengths as a NumPy array."
   ],
   "metadata": {
    "collapsed": false,
    "pycharm": {
     "name": "#%% md\n"
    }
   }
  },
  {
   "cell_type": "code",
   "execution_count": 4,
   "outputs": [
    {
     "name": "stdout",
     "output_type": "stream",
     "text": [
      "0    174\n",
      "1    335\n",
      "2    152\n",
      "3    104\n",
      "4    163\n",
      "Name: Duration, dtype: int64\n"
     ]
    }
   ],
   "source": [
    "# Get the song lengths as a pd.Series object\n",
    "lengths = songs['Duration']\n",
    "print(lengths.head())"
   ],
   "metadata": {
    "collapsed": false,
    "pycharm": {
     "name": "#%%\n"
    }
   }
  },
  {
   "cell_type": "code",
   "execution_count": 5,
   "outputs": [
    {
     "name": "stdout",
     "output_type": "stream",
     "text": [
      "<class 'numpy.ndarray'>\n",
      "(310,)\n"
     ]
    }
   ],
   "source": [
    "# Convert the song lengths into a NumPy array\n",
    "times = lengths.values\n",
    "print(type(times))\n",
    "print(times.shape)"
   ],
   "metadata": {
    "collapsed": false,
    "pycharm": {
     "name": "#%%\n"
    }
   }
  },
  {
   "cell_type": "markdown",
   "metadata": {
    "pycharm": {
     "name": "#%% md\n"
    }
   },
   "source": [
    "Plot the histogram of the song lengths using Matplotlib.\n",
    "\n",
    "As for the plot styles, there are a lot of [available styles](https://www.dunderdata.com/blog/view-all-available-matplotlib-styles) that can be also shown in code using `plt.style.available`. See also [this](https://www.analyticsvidhya.com/blog/2021/08/exploring-matplotlib-stylesheets-for-data-visualization/).\n",
    "\n",
    "Alternatively, plot style can be set using `sb.set_theme()` (or just `sb.set()`, but that function might get deprecated and removed from *seaborn* in the future). See [`sb_set_theme()` documentation](https://seaborn.pydata.org/generated/seaborn.set_theme.html) for the function's parameters and defaults."
   ]
  },
  {
   "cell_type": "code",
   "execution_count": 20,
   "metadata": {
    "scrolled": true,
    "pycharm": {
     "name": "#%%\n"
    }
   },
   "outputs": [
    {
     "data": {
      "text/plain": "<Figure size 640x480 with 1 Axes>",
      "image/png": "[encoded data removed]"
     },
     "metadata": {},
     "output_type": "display_data"
    }
   ],
   "source": [
    "# Set plot style using sb.set_theme()\n",
    "sb.set_theme()\n",
    "# Plot the histogram - x: song time in [sec]; y: number of songs; 40 bins\n",
    "plt.hist(times, 40);"
   ]
  },
  {
   "cell_type": "markdown",
   "source": [
    "Plot the histogram of the song lengths using *plotnine*.\n",
    "[Excellent tutorial on plotnine](https://realpython.com/ggplot-python/)."
   ],
   "metadata": {
    "collapsed": false,
    "pycharm": {
     "name": "#%% md\n"
    }
   }
  },
  {
   "cell_type": "code",
   "execution_count": 7,
   "outputs": [
    {
     "data": {
      "text/plain": "<Figure size 640x480 with 1 Axes>",
      "image/png": "[encoded data removed]"
     },
     "metadata": {},
     "output_type": "display_data"
    },
    {
     "data": {
      "text/plain": "<ggplot: (149834009288)>"
     },
     "execution_count": 7,
     "metadata": {},
     "output_type": "execute_result"
    }
   ],
   "source": [
    "# plot = ggplot(songs, aes(x='Duration'))\n",
    "# plot + geom_histogram(bins=40)\n",
    "ggplot(songs, aes(x='Duration')) + \\\n",
    "    geom_histogram(bins=40,\n",
    "                     fill='blue',\n",
    "                     # color='black',\n",
    "                     color='white',\n",
    "                     # size=2,\n",
    "                     alpha=0.5)"
   ],
   "metadata": {
    "collapsed": false,
    "pycharm": {
     "name": "#%%\n"
    }
   }
  },
  {
   "cell_type": "markdown",
   "source": [
    "To avoid the annoying text output like `<ggplot: (177159008578)>` under the plot, use the following syntax:"
   ],
   "metadata": {
    "collapsed": false,
    "pycharm": {
     "name": "#%% md\n"
    }
   }
  },
  {
   "cell_type": "code",
   "execution_count": 8,
   "outputs": [
    {
     "data": {
      "text/plain": "<Figure size 640x480 with 1 Axes>",
      "image/png": "[encoded data removed]"
     },
     "metadata": {},
     "output_type": "display_data"
    }
   ],
   "source": [
    "(\n",
    "        ggplot(songs, aes(x='Duration')) + \\\n",
    "            geom_histogram(bins=40,\n",
    "                          fill='blue',\n",
    "                          # color='black',\n",
    "                          color='white',\n",
    "                          # size=2,\n",
    "                          alpha=0.5)\n",
    ").draw();"
   ],
   "metadata": {
    "collapsed": false,
    "pycharm": {
     "name": "#%%\n"
    }
   }
  },
  {
   "cell_type": "markdown",
   "metadata": {
    "pycharm": {
     "name": "#%% md\n"
    }
   },
   "source": [
    "## Masking - Boolean arrays as masks"
   ]
  },
  {
   "cell_type": "markdown",
   "metadata": {
    "pycharm": {
     "name": "#%% md\n"
    }
   },
   "source": [
    "Extract song release years into another NumPy array."
   ]
  },
  {
   "cell_type": "code",
   "execution_count": 9,
   "metadata": {
    "pycharm": {
     "name": "#%%\n"
    }
   },
   "outputs": [
    {
     "name": "stdout",
     "output_type": "stream",
     "text": [
      "310\n",
      "[1965 1967 1964 1963 1963 1968 1965 1961 1963 1963]\n"
     ]
    }
   ],
   "source": [
    "# print(type(songs['Year']))          # <class 'pandas.core.series.Series'>\n",
    "years = songs['Year'].values\n",
    "# print(type(years))                  # <class 'numpy.ndarray'>\n",
    "print(len(years))\n",
    "print(years[0:10])"
   ]
  },
  {
   "cell_type": "markdown",
   "source": [
    "Extract songs released after 1968."
   ],
   "metadata": {
    "collapsed": false,
    "pycharm": {
     "name": "#%% md\n"
    }
   }
  },
  {
   "cell_type": "code",
   "execution_count": 10,
   "metadata": {
    "pycharm": {
     "name": "#%%\n"
    }
   },
   "outputs": [
    {
     "name": "stdout",
     "output_type": "stream",
     "text": [
      "[False False False False False False  True  True False False]\n"
     ]
    }
   ],
   "source": [
    "years_gt_1968 = (years > 1968)                           # mask: Boolean array of the same length as years, True if years > 1968\n",
    "print(years_gt_1968[20:30])                              # get a slice of it"
   ]
  },
  {
   "cell_type": "markdown",
   "source": [
    "Get the titles of the first 10 songs released after 1968."
   ],
   "metadata": {
    "collapsed": false,
    "pycharm": {
     "name": "#%% md\n"
    }
   }
  },
  {
   "cell_type": "code",
   "execution_count": 11,
   "outputs": [
    {
     "name": "stdout",
     "output_type": "stream",
     "text": [
      "10             All Things Must Pass\n",
      "26    Because I Know You Love Me So\n",
      "27                          Because\n",
      "36                Carry That Weight\n",
      "44                  Come and Get It\n",
      "45                    Come Together\n",
      "52                       Dig a Pony\n",
      "53                           Dig It\n",
      "59                Don't Let Me Down\n",
      "68        Fancy My Chances with You\n",
      "Name: Title, dtype: object\n"
     ]
    }
   ],
   "source": [
    "# Get the titles of the first 10 songs such that years > 1968\n",
    "print(songs[years_gt_1968]['Title'].head(10))"
   ],
   "metadata": {
    "collapsed": false,
    "pycharm": {
     "name": "#%%\n"
    }
   }
  },
  {
   "cell_type": "markdown",
   "source": [
    "Get the titles of the last 10 songs such that `years > 1968` and `times < 120`."
   ],
   "metadata": {
    "collapsed": false,
    "pycharm": {
     "name": "#%% md\n"
    }
   }
  },
  {
   "cell_type": "code",
   "execution_count": 12,
   "outputs": [
    {
     "name": "stdout",
     "output_type": "stream",
     "text": [
      "36                           Carry That Weight\n",
      "53                                      Dig It\n",
      "81                             Golden Slumbers\n",
      "94                                 Her Majesty\n",
      "173                                 Maggie Mae\n",
      "175            Mailman, Bring Me No More Blues\n",
      "179                           Mean Mr. Mustard\n",
      "208                              Polythene Pam\n",
      "226    She Came in Through the Bathroom Window\n",
      "Name: Title, dtype: object\n"
     ]
    }
   ],
   "source": [
    "# Get the titles of the last 10 songs such that years > 1968 and times < 120\n",
    "times_lt_120 = (times < 120)\n",
    "print(songs[years_gt_1968 & times_lt_120]['Title'].tail(10))"
   ],
   "metadata": {
    "collapsed": false,
    "pycharm": {
     "name": "#%%\n"
    }
   }
  },
  {
   "cell_type": "code",
   "execution_count": 13,
   "outputs": [
    {
     "name": "stdout",
     "output_type": "stream",
     "text": [
      "1                                    A Day in the Life\n",
      "11                                    All Together Now\n",
      "12                                All You Need Is Love\n",
      "14                              And Your Bird Can Sing\n",
      "21                             Baby, You're a Rich Man\n",
      "28                  Being for the Benefit of Mr. Kite!\n",
      "31                                        Blue Jay Way\n",
      "41                      Christmas Time (Is Here Again)\n",
      "56                                       Doctor Robert\n",
      "63                                       Eleanor Rigby\n",
      "69                                       Fixing a Hole\n",
      "70                                              Flying\n",
      "71                                          For No One\n",
      "77                                      Getting Better\n",
      "82                                   Good Day Sunshine\n",
      "83                          Good Morning, Good Morning\n",
      "86                         Got to Get You into My Life\n",
      "91                                      Hello, Goodbye\n",
      "96                          Here, There and Everywhere\n",
      "104                                    I Am the Walrus\n",
      "119                                 I Want to Tell You\n",
      "134                                  I'm Only Sleeping\n",
      "146                                  It's All Too Much\n",
      "149                                     Jessie's Dream\n",
      "168                                        Love You To\n",
      "169                                        Lovely Rita\n",
      "171                      Lucy in the Sky with Diamonds\n",
      "174                               Magical Mystery Tour\n",
      "200                               Only a Northern Song\n",
      "203                                   Paperback Writer\n",
      "204                                         Penny Lane\n",
      "209                                               Rain\n",
      "223    Sgt. Pepper's Lonely Hearts Club Band (Reprise)\n",
      "224              Sgt. Pepper's Lonely Hearts Club Band\n",
      "228                                  She Said She Said\n",
      "230                                 She's Leaving Home\n",
      "240                          Strawberry Fields Forever\n",
      "246                                             Taxman\n",
      "257                               The Fool on the Hill\n",
      "274                               Tomorrow Never Knows\n",
      "285                                When I'm Sixty-Four\n",
      "290                 With a Little Help from My Friends\n",
      "291                             Within You Without You\n",
      "294                                   Yellow Submarine\n",
      "299              You Know My Name (Look Up the Number)\n",
      "309                            Your Mother Should Know\n",
      "Name: Title, dtype: object\n",
      "\n",
      "Mean length of songs from 1966-1967: 180.47826086956522\n"
     ]
    }
   ],
   "source": [
    "# Get the titles of all songs released 1966 or 1967, as well as the mean value of their lengths\n",
    "years_1966_1967 = (years >= 1966) & (years <= 1967)\n",
    "print(songs[years_1966_1967]['Title'])\n",
    "print()\n",
    "print('Mean length of songs from 1966-1967:', np.mean(songs[years_1966_1967]['Duration']))"
   ],
   "metadata": {
    "collapsed": false,
    "pycharm": {
     "name": "#%%\n"
    }
   }
  },
  {
   "cell_type": "markdown",
   "metadata": {
    "pycharm": {
     "name": "#%% md\n"
    }
   },
   "source": [
    "## Fancy indexing\n",
    "Fancy indexing is like simple indexing, but arrays of indices are passed in place of single scalars. <br>\n",
    "**Important:** The shape of the result is the same as the (possibly broadcasted) shape of the index array, not of the array being indexed."
   ]
  },
  {
   "cell_type": "markdown",
   "metadata": {
    "pycharm": {
     "name": "#%% md\n"
    }
   },
   "source": [
    "### Fancy indexing of one-dimensional arrays"
   ]
  },
  {
   "cell_type": "code",
   "execution_count": 14,
   "metadata": {
    "pycharm": {
     "name": "#%%\n"
    }
   },
   "outputs": [
    {
     "name": "stdout",
     "output_type": "stream",
     "text": [
      "[8 9 3 8 8 0 5 3 9 9]\n",
      "\n",
      "[3 9 0]\n",
      "[ 8  9 55  8  8 55  5  3 55  9]\n",
      "[ 8  9 45  8  8 45  5  3 45  9]\n",
      "\n",
      "[[ 9  8]\n",
      " [45  8]]\n"
     ]
    }
   ],
   "source": [
    "np.random.seed(3)\n",
    "a = np.random.randint(10, size=10)\n",
    "print(a)\n",
    "print()\n",
    "\n",
    "i = [2, 8, 5]                                 # one-dimensional index\n",
    "print(a[i])\n",
    "a[i] = 55\n",
    "print(a)\n",
    "a[i] -= 10\n",
    "print(a)\n",
    "print()\n",
    "\n",
    "i = np.array([[1, 0],                         # multi-dimensional index\n",
    "              [2, 4]])\n",
    "print(a[i])                                   # the shape of the result is the same as the shape of the index array"
   ]
  },
  {
   "cell_type": "markdown",
   "metadata": {
    "pycharm": {
     "name": "#%% md\n"
    }
   },
   "source": [
    "### Fancy indexing of multi-dimensional arrays"
   ]
  },
  {
   "cell_type": "code",
   "execution_count": 15,
   "metadata": {
    "pycharm": {
     "name": "#%%\n"
    }
   },
   "outputs": [
    {
     "name": "stdout",
     "output_type": "stream",
     "text": [
      "[[5 7 6 0]\n",
      " [4 7 8 1]\n",
      " [6 2 2 1]]\n",
      "\n",
      "[6 2 4]\n",
      "\n",
      "[[6 7 5]\n",
      " [2 2 6]\n",
      " [8 7 4]]\n",
      "\n",
      "[2 6 2]\n",
      "[[8 4 7]\n",
      " [2 6 2]]\n"
     ]
    }
   ],
   "source": [
    "m = np.random.randint(10, size=(3, 4))\n",
    "print(m)\n",
    "print()\n",
    "\n",
    "i_row = np.array([0, 2, 1])\n",
    "i_col = np.array([2, 1, 0])\n",
    "print(m[i_row, i_col])                        # resulting pairs of indices: [0, 2], [2, 1], [1, 0]\n",
    "print()\n",
    "\n",
    "print(m[i_row[:, np.newaxis], i_col])\n",
    "print()\n",
    "\n",
    "print(m[2, [2, 0, 1]])\n",
    "print(m[-2:, [2, 0, 1]])"
   ]
  },
  {
   "cell_type": "markdown",
   "metadata": {
    "pycharm": {
     "name": "#%% md\n"
    }
   },
   "source": [
    "## Sorting arrays\n",
    "What are the longest and the shortest Beatles songs?"
   ]
  },
  {
   "cell_type": "code",
   "execution_count": 16,
   "metadata": {
    "pycharm": {
     "name": "#%%\n"
    }
   },
   "outputs": [
    {
     "name": "stdout",
     "output_type": "stream",
     "text": [
      "[3 1 7 2 5]\n",
      "[1 2 3 5 7]\n",
      "[1 2 3 5 7]\n"
     ]
    }
   ],
   "source": [
    "a = np.array([3, 1, 7, 2, 5])\n",
    "print(a)\n",
    "print(np.sort(a))                  # a does not change\n",
    "a.sort()                           # inplace sorting, a changes\n",
    "print(a)"
   ]
  },
  {
   "cell_type": "code",
   "execution_count": 17,
   "metadata": {
    "pycharm": {
     "name": "#%%\n"
    }
   },
   "outputs": [
    {
     "name": "stdout",
     "output_type": "stream",
     "text": [
      "[[5 0 3 3 7 9]\n",
      " [3 5 2 4 7 6]\n",
      " [8 8 1 6 7 7]\n",
      " [8 1 5 9 8 9]]\n",
      "\n",
      "[[3 0 1 3 7 6]\n",
      " [5 1 2 4 7 7]\n",
      " [8 5 3 6 7 9]\n",
      " [8 8 5 9 8 9]]\n",
      "\n",
      "[[0 3 3 5 7 9]\n",
      " [2 3 4 5 6 7]\n",
      " [1 6 7 7 8 8]\n",
      " [1 5 8 8 9 9]]\n"
     ]
    }
   ],
   "source": [
    "np.random.seed(0)\n",
    "m = np.random.randint(10, size=(4, 6))\n",
    "print(m)\n",
    "print()\n",
    "\n",
    "print(np.sort(m, axis=0))                 # sort each column of x, independently \n",
    "print()\n",
    "print(np.sort(m, axis=1))                 # sort each row of x, independently "
   ]
  },
  {
   "cell_type": "markdown",
   "metadata": {
    "pycharm": {
     "name": "#%% md\n"
    }
   },
   "source": [
    "`np.argsort()`\n",
    "Returns the indices that would sort an array."
   ]
  },
  {
   "cell_type": "code",
   "execution_count": 18,
   "metadata": {
    "pycharm": {
     "name": "#%%\n"
    }
   },
   "outputs": [
    {
     "name": "stdout",
     "output_type": "stream",
     "text": [
      "0    174\n",
      "1    335\n",
      "2    152\n",
      "3    104\n",
      "4    163\n",
      "Name: Duration, dtype: int64\n",
      "\n",
      "<class 'numpy.ndarray'>\n",
      "[ 94 173  53 288 179 208 223  81 132  36]\n",
      "[23 40 51 52 66 72 80 91 92 96]\n",
      "\n",
      "94                     Her Majesty\n",
      "173                     Maggie Mae\n",
      "53                          Dig It\n",
      "288                 Wild Honey Pie\n",
      "179               Mean Mr. Mustard\n",
      "                  ...             \n",
      "283       What's The New Mary Jane\n",
      "146              It's All Too Much\n",
      "98                        Hey Jude\n",
      "120    I Want You (She's So Heavy)\n",
      "212                   Revolution 9\n",
      "Name: Title, Length: 310, dtype: object\n",
      "\n",
      "93                   Helter Skelter\n",
      "104                 I Am the Walrus\n",
      "286    While My Guitar Gently Weeps\n",
      "291          Within You Without You\n",
      "1                 A Day in the Life\n",
      "283        What's The New Mary Jane\n",
      "146               It's All Too Much\n",
      "98                         Hey Jude\n",
      "120     I Want You (She's So Heavy)\n",
      "212                    Revolution 9\n",
      "Name: Title, dtype: object\n"
     ]
    }
   ],
   "source": [
    "songs = pd.read_csv('data/The Beatles songs dataset, v1, no NAs.csv')       # get the songs as a pd.DataFrame object\n",
    "lengths = songs['Duration']                                                 # get the song lengths as a pd.Series object\n",
    "print(lengths.head())\n",
    "print()\n",
    "\n",
    "times = lengths.values                                                      # convert the song lengths into a NumPy array\n",
    "i = np.argsort(times)                                                       # sort song times from shortest to longest\n",
    "print(type(i))                                                              # <class 'numpy.ndarray'>\n",
    "print(i[0:10])                                                              # print the first 10 indices\n",
    "print(times[i[0:10]])                                                       # print the 10 shortest song times\n",
    "print()\n",
    "\n",
    "print(songs['Title'][i])                                                    # fancy-index songs['Title']\n",
    "print()\n",
    "\n",
    "print(songs['Title'][i[-10:]])                                              # fancy-index songs['Title'], the 10 longest songs"
   ]
  }
 ],
 "metadata": {
  "kernelspec": {
   "display_name": "Python 3 (ipykernel)",
   "language": "python",
   "name": "python3"
  },
  "language_info": {
   "codemirror_mode": {
    "name": "ipython",
    "version": 3
   },
   "file_extension": ".py",
   "mimetype": "text/x-python",
   "name": "python",
   "nbconvert_exporter": "python",
   "pygments_lexer": "ipython3",
   "version": "3.10.0"
  }
 },
 "nbformat": 4,
 "nbformat_minor": 4
}