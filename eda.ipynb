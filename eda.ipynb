{
 "cells": [
  {
   "cell_type": "markdown",
   "metadata": {
    "pycharm": {
     "name": "#%% md\n"
    }
   },
   "source": [
    "# Exploratory data analysis\n",
    "Introduction to exploratory data analysis (EDA)."
   ]
  },
  {
   "cell_type": "markdown",
   "source": [
    "EDA is an approach to analyzing datasets to summarize their main characteristics, often with visual methods. EDA is used for seeing what the data can tell us before the modeling task [(source 1)](https://chartio.com/learn/data-analytics/what-is-exploratory-data-analysis/). It is used to explore the data, find different patterns, relations, and anomalies in the data using some statistical graphs and other visualization techniques, and possibly formulate hypotheses that could lead to new data collection and experiments [(source 2)](https://www.analyticsvidhya.com/blog/2021/08/how-to-perform-exploratory-data-analysis-a-guide-for-beginners/). More specifically, EDA enables analysts to:\n",
    "1. get maximum insights from a data set\n",
    "2. uncover underlying structure\n",
    "3. extract important variables from the dataset\n",
    "4. detect outliers and anomalies (if any)\n",
    "5. test underlying assumptions\n",
    "6. determine the optimal factor settings"
   ],
   "metadata": {
    "collapsed": false,
    "pycharm": {
     "name": "#%% md\n"
    }
   }
  },
  {
   "cell_type": "markdown",
   "source": [
    "## EDA steps and tools\n",
    "Practical steps in conducting EDA and frequently used EDA tools.\n",
    "Based on *pandas2020-main.Sales_Analysis_Pandas_P3_tutorial.ipynb* and *pandas2020-main.TED_Talks_Pandas_P3_tutorial.ipynb*.\n"
   ],
   "metadata": {
    "collapsed": false,
    "pycharm": {
     "name": "#%% md\n"
    }
   }
  },
  {
   "cell_type": "markdown",
   "source": [
    "Based on [this](https://stackoverflow.com/a/22149930/1899061), in all computations, `axis=...` refers to the axis **along which** the computation is done. By default, `axis=0`. This is consistent with the `numpy.mean` usage when axis is specified explicitly (in `numpy.mean`, `axis==None` by default, which computes the mean value over the flattened array), in which `axis=0` along the rows (namely, index in pandas), and `axis=1` along the columns.\n",
    "Note also that that `axis=0` indicates aggregating along rows and `axis=1` indicates aggregating along columns. This is consistent with how we index into a dataframe. In `df.iloc[<row>, <column>]`, `<row>` is in index position 0 and `<column>` is in index position 1. For added clarity, one may choose to specify `axis='index'` (instead of `axis=0`) or `axis='columns'` (instead of `axis=1`).\n",
    "**But**, `axis=0` means each row as a bulk - we manipulate a `pd.DataFrame` inter-row, instead of within-row. Likewise, 1 means each column as a bulk, i.e. we manipulate a `pd.DataFrame` inter-column instead of within-column. For example, `<pd.df>.drop(\"A\", axis=1)` will drop a whole column."
   ],
   "metadata": {
    "collapsed": false,
    "pycharm": {
     "name": "#%% md\n"
    }
   }
  },
  {
   "cell_type": "markdown",
   "source": [
    "### Reading the dataset\n",
    "`read_csv()`"
   ],
   "metadata": {
    "collapsed": false,
    "pycharm": {
     "name": "#%% md\n"
    }
   }
  },
  {
   "cell_type": "markdown",
   "source": [
    "### Initial examination and adaptations\n",
    "`shape`, `head()`, `tail()`, `sample()`, `dtypes`, `info()`\n",
    "`columns`, `columns.values`, `columns.values.tolist()`, `<pd.df>.values`\n",
    "`<pd.df>.rename({'<column_1 old name>':'<column_1 new name>', '<column_2 old name>':'<column_2 new name>', ...}, axis='columns')`, `<pd.df>.columns = ['<column_1 name>', '<column_2 name>', ...]` (change the names of all columns in <pd.df>)\n",
    "`ast.literal_eval()` (using Python's *ast* module to transform a string into a literal value, a list, a tuple or any other container object)"
   ],
   "metadata": {
    "collapsed": false,
    "pycharm": {
     "name": "#%% md\n"
    }
   }
  },
  {
   "cell_type": "markdown",
   "source": [
    "### Missing values and value counts\n",
    "`isna()` (`isnull()`), `isna().sum()` (`isnull().sum`) ([example](https://www.analyticsvidhya.com/blog/2021/08/how-to-perform-exploratory-data-analysis-a-guide-for-beginners/))\n",
    "`sb.heatmap()`, e.g. `sb.heatmap(<pd.df>.isnull(),cbar=False,cmap='viridis')` ([example](https://www.analyticsvidhya.com/blog/2021/08/how-to-perform-exploratory-data-analysis-a-guide-for-beginners/))\n",
    "`value_counts()`, `value_counts(normalize=True)`, `dropna(how='all'/'any', inplace=True)`"
   ],
   "metadata": {
    "collapsed": false,
    "pycharm": {
     "name": "#%% md\n"
    }
   }
  },
  {
   "cell_type": "markdown",
   "source": [
    "### Examining individual data items, rows and columns\n",
    "`sample()`\n",
    "Simple indexing and fancy indexing: `iloc()`, `loc()`\n",
    "`index`, `index[<from>:<to>]`, `reset_index(drop=True, inplace=True)`\n",
    "Indexing in data stats: `<pd.df>.describe().loc['50%', '<column_name>']` (select the median of <column_name> from the <pd.df> stats computed by describe())\n",
    "Indexing using list of values: `<pd.df>.loc[<pd.df>.<column>.isin(<list of values>)]` (select those observations where the value of <column> is in the `<list of values>`)"
   ],
   "metadata": {
    "collapsed": false,
    "pycharm": {
     "name": "#%% md\n"
    }
   }
  },
  {
   "cell_type": "markdown",
   "source": [
    "### Data transformations\n",
    "`describe()`\n",
    "`pd.to_numeric(<pd.DataFrame object>['<column name>'], errors='coerce')`, `pd.DataFrame.to_numpy()`, `pd.Series.to_numpy()`, `pd.to_datetime()`, ...\n",
    "`<pd.df>.<column>.apply(<f_name>)` (apply the <f_name> function to all elements of each element of the `<column>`; for example, each element of the `<column>` can be a list of other elements)\n"
   ],
   "metadata": {
    "collapsed": false,
    "pycharm": {
     "name": "#%% md\n"
    }
   }
  },
  {
   "cell_type": "markdown",
   "source": [
    "### Exploring correlations\n",
    "Explore correlations between the (numerical) columns.\n",
    "`sb.heatmap()`\n",
    "[Example](https://www.analyticsvidhya.com/blog/2021/08/how-to-perform-exploratory-data-analysis-a-guide-for-beginners/)"
   ],
   "metadata": {
    "collapsed": false,
    "pycharm": {
     "name": "#%% md\n"
    }
   }
  },
  {
   "cell_type": "markdown",
   "source": [
    "### Grouping and sorting data\n",
    "`nunique()`\n",
    "`groupby()`\n",
    "`sort_values(by='<column name>', ascending=False/True)`\n",
    "`sort_index(inplace=True)`\n",
    "`agg(['<column_1 name>', '<column_2 name>', ...])`\n"
   ],
   "metadata": {
    "collapsed": false,
    "pycharm": {
     "name": "#%% md\n"
    }
   }
  },
  {
   "cell_type": "markdown",
   "source": [
    "### Data visualization\n",
    "Plot some bargraphs, scatterplots, boxplots,...\n",
    "[Example](https://www.analyticsvidhya.com/blog/2021/08/how-to-perform-exploratory-data-analysis-a-guide-for-beginners/)"
   ],
   "metadata": {
    "collapsed": false,
    "pycharm": {
     "name": "#%% md\n"
    }
   }
  },
  {
   "cell_type": "markdown",
   "source": [
    "### Other\n",
    "[Other interesting ideas and different ways of using the things from above](https://realpython.com/pandas-python-explore-dataset/#exploring-your-dataset) (see the rest from [that article](https://realpython.com/pandas-python-explore-dataset/) as well)."
   ],
   "metadata": {
    "collapsed": false,
    "pycharm": {
     "name": "#%% md\n"
    }
   }
  },
  {
   "cell_type": "markdown",
   "metadata": {
    "pycharm": {
     "name": "#%% md\n"
    }
   },
   "source": [
    "## Import and configure packages\n",
    "The `%run` magic does not work well in DataSpell, thus the following `import` statements are copied here from *import_packages.ipynb* (the last line is added subsequently):"
   ]
  },
  {
   "cell_type": "code",
   "execution_count": 1,
   "outputs": [],
   "source": [
    "%load_ext autoreload\n",
    "%autoreload 2\n",
    "\n",
    "%matplotlib inline\n",
    "\n",
    "%config IPCompleter.greedy=True\n",
    "\n",
    "import numpy as np\n",
    "import matplotlib as mpl\n",
    "import matplotlib.pyplot as plt\n",
    "plt.style.use('classic')\n",
    "import pandas as pd\n",
    "import seaborn as sb\n",
    "\n",
    "from plotnine import ggplot, aes, geom_line, geom_histogram, theme_xkcd"
   ],
   "metadata": {
    "collapsed": false,
    "pycharm": {
     "name": "#%%\n"
    }
   }
  },
  {
   "cell_type": "code",
   "execution_count": 1,
   "outputs": [],
   "source": [
    "# %run \"import_packages.ipynb\""
   ],
   "metadata": {
    "collapsed": false,
    "pycharm": {
     "name": "#%%\n"
    }
   }
  },
  {
   "cell_type": "markdown",
   "metadata": {
    "pycharm": {
     "name": "#%% md\n"
    }
   },
   "source": [
    "## Introducing The Beatles dataset"
   ]
  },
  {
   "cell_type": "markdown",
   "metadata": {
    "pycharm": {
     "name": "#%% md\n"
    }
   },
   "source": [
    "### Read The Beatles songs *csv* file\n",
    "`pd.read_csv()` returns a `pd.DataFrame` object."
   ]
  },
  {
   "cell_type": "code",
   "execution_count": 3,
   "metadata": {
    "pycharm": {
     "name": "#%%\n"
    }
   },
   "outputs": [],
   "source": [
    "# Get the songs as a pd.DataFrame object\n",
    "songs = pd.read_csv('data/The Beatles songs dataset, v1, no NAs.csv')"
   ]
  },
  {
   "cell_type": "markdown",
   "source": [
    "### Explore the dataset (first steps)"
   ],
   "metadata": {
    "collapsed": false,
    "pycharm": {
     "name": "#%% md\n"
    }
   }
  },
  {
   "cell_type": "markdown",
   "source": [
    "##### Initial examination and adaptations\n",
    "`shape`, `head()`, `tail()`, `sample()`, `dtypes`, `info()`\n",
    "`columns`, `columns.values`, `columns.values.tolist()`, `<pd.df>.values`\n",
    "`<pd.df>.rename({'<column_1 old name>':'<column_1 new name>', '<column_2 old name>':'<column_2 new name>', ...}, axis='columns')`, `<pd.df>.columns = ['<column_1 name>', '<column_2 name>', ...]` (change the names of all columns in <pd.df>)\n",
    "`ast.literal_eval()` (using Python's *ast* module to transform a string into a literal value, a list, a tuple or any other container object)"
   ],
   "metadata": {
    "collapsed": false,
    "pycharm": {
     "name": "#%% md\n"
    }
   }
  },
  {
   "cell_type": "markdown",
   "source": [
    "`shape`, `head()`, `tail()`, `sample()`, `dtypes`, **<u>`info()`</u>**"
   ],
   "metadata": {
    "collapsed": false,
    "pycharm": {
     "name": "#%% md\n"
    }
   }
  },
  {
   "cell_type": "code",
   "execution_count": 4,
   "outputs": [
    {
     "name": "stdout",
     "output_type": "stream",
     "text": [
      "<class 'pandas.core.frame.DataFrame'>\n",
      "RangeIndex: 310 entries, 0 to 309\n",
      "Data columns (total 9 columns):\n",
      " #   Column            Non-Null Count  Dtype \n",
      "---  ------            --------------  ----- \n",
      " 0   Title             310 non-null    object\n",
      " 1   Year              310 non-null    int64 \n",
      " 2   Album.debut       288 non-null    object\n",
      " 3   Duration          310 non-null    int64 \n",
      " 4   Other.releases    310 non-null    int64 \n",
      " 5   Genre             306 non-null    object\n",
      " 6   Songwriter        310 non-null    object\n",
      " 7   Lead.vocal        302 non-null    object\n",
      " 8   Top.50.Billboard  310 non-null    int64 \n",
      "dtypes: int64(4), object(5)\n",
      "memory usage: 21.9+ KB\n"
     ]
    },
    {
     "data": {
      "text/plain": "None"
     },
     "metadata": {},
     "output_type": "display_data"
    },
    {
     "data": {
      "text/plain": "                          Title  Year  \\\n212                Revolution 9  1968   \n116  I Should Have Known Better  1964   \n23                      Bad Boy  1965   \n241                    Sun King  1969   \n196                 Oh! Darling  1969   \n\n                                           Album.debut  Duration  \\\n212                                        The Beatles       502   \n116                UK: A Hard Day's Night US: Hey Jude       164   \n23   UK: A Collection of Beatles Oldies US: Beatles VI       150   \n241                                         Abbey Road       146   \n196                                         Abbey Road       206   \n\n     Other.releases                                              Genre  \\\n212               7  Avant-Garde, Musique Concrete, Experimental, S...   \n116              18                                           Pop/Rock   \n23                0                                                R&B   \n241               6                                  Art Pop, Pop/Rock   \n196               9                     Swamp Pop, Hard Rock, Pop/Rock   \n\n                        Songwriter Lead.vocal  Top.50.Billboard  \n212  Lennon, with Ono and Harrison        NaN                -1  \n116                         Lennon     Lennon                -1  \n23                        Williams     Lennon                -1  \n241                         Lennon     Lennon                -1  \n196                      McCartney  McCartney                -1  ",
      "text/html": "<div>\n<style scoped>\n    .dataframe tbody tr th:only-of-type {\n        vertical-align: middle;\n    }\n\n    .dataframe tbody tr th {\n        vertical-align: top;\n    }\n\n    .dataframe thead th {\n        text-align: right;\n    }\n</style>\n<table border=\"1\" class=\"dataframe\">\n  <thead>\n    <tr style=\"text-align: right;\">\n      <th></th>\n      <th>Title</th>\n      <th>Year</th>\n      <th>Album.debut</th>\n      <th>Duration</th>\n      <th>Other.releases</th>\n      <th>Genre</th>\n      <th>Songwriter</th>\n      <th>Lead.vocal</th>\n      <th>Top.50.Billboard</th>\n    </tr>\n  </thead>\n  <tbody>\n    <tr>\n      <th>212</th>\n      <td>Revolution 9</td>\n      <td>1968</td>\n      <td>The Beatles</td>\n      <td>502</td>\n      <td>7</td>\n      <td>Avant-Garde, Musique Concrete, Experimental, S...</td>\n      <td>Lennon, with Ono and Harrison</td>\n      <td>NaN</td>\n      <td>-1</td>\n    </tr>\n    <tr>\n      <th>116</th>\n      <td>I Should Have Known Better</td>\n      <td>1964</td>\n      <td>UK: A Hard Day's Night US: Hey Jude</td>\n      <td>164</td>\n      <td>18</td>\n      <td>Pop/Rock</td>\n      <td>Lennon</td>\n      <td>Lennon</td>\n      <td>-1</td>\n    </tr>\n    <tr>\n      <th>23</th>\n      <td>Bad Boy</td>\n      <td>1965</td>\n      <td>UK: A Collection of Beatles Oldies US: Beatles VI</td>\n      <td>150</td>\n      <td>0</td>\n      <td>R&amp;B</td>\n      <td>Williams</td>\n      <td>Lennon</td>\n      <td>-1</td>\n    </tr>\n    <tr>\n      <th>241</th>\n      <td>Sun King</td>\n      <td>1969</td>\n      <td>Abbey Road</td>\n      <td>146</td>\n      <td>6</td>\n      <td>Art Pop, Pop/Rock</td>\n      <td>Lennon</td>\n      <td>Lennon</td>\n      <td>-1</td>\n    </tr>\n    <tr>\n      <th>196</th>\n      <td>Oh! Darling</td>\n      <td>1969</td>\n      <td>Abbey Road</td>\n      <td>206</td>\n      <td>9</td>\n      <td>Swamp Pop, Hard Rock, Pop/Rock</td>\n      <td>McCartney</td>\n      <td>McCartney</td>\n      <td>-1</td>\n    </tr>\n  </tbody>\n</table>\n</div>"
     },
     "metadata": {},
     "output_type": "display_data"
    }
   ],
   "source": [
    "# print(songs.shape)\n",
    "# # print(songs.head())                         # the output is not table-like\n",
    "# display(songs.head())\n",
    "# display(songs.sample(4))\n",
    "# display(songs.dtypes)\n",
    "display(songs.info())\n",
    "display(songs.sample(5))"
   ],
   "metadata": {
    "collapsed": false,
    "pycharm": {
     "name": "#%%\n"
    }
   }
  },
  {
   "cell_type": "markdown",
   "source": [
    "`columns`, `columns.values`, `columns.values.tolist()`, `<pd.df>.values`"
   ],
   "metadata": {
    "collapsed": false,
    "pycharm": {
     "name": "#%% md\n"
    }
   }
  },
  {
   "cell_type": "markdown",
   "source": [
    "Show the columns of the `songs` object (which is a `pd.DataFrame` object)."
   ],
   "metadata": {
    "collapsed": false,
    "pycharm": {
     "name": "#%% md\n"
    }
   }
  },
  {
   "cell_type": "code",
   "execution_count": 5,
   "outputs": [
    {
     "data": {
      "text/plain": "Index(['Title', 'Year', 'Album.debut', 'Duration', 'Other.releases', 'Genre',\n       'Songwriter', 'Lead.vocal', 'Top.50.Billboard'],\n      dtype='object')"
     },
     "metadata": {},
     "output_type": "display_data"
    },
    {
     "data": {
      "text/plain": "['Title',\n 'Year',\n 'Album.debut',\n 'Duration',\n 'Other.releases',\n 'Genre',\n 'Songwriter',\n 'Lead.vocal',\n 'Top.50.Billboard']"
     },
     "metadata": {},
     "output_type": "display_data"
    },
    {
     "data": {
      "text/plain": "array(['Title', 'Year', 'Album.debut', 'Duration', 'Other.releases',\n       'Genre', 'Songwriter', 'Lead.vocal', 'Top.50.Billboard'],\n      dtype=object)"
     },
     "metadata": {},
     "output_type": "display_data"
    },
    {
     "data": {
      "text/plain": "numpy.ndarray"
     },
     "metadata": {},
     "output_type": "display_data"
    },
    {
     "data": {
      "text/plain": "['Title',\n 'Year',\n 'Album.debut',\n 'Duration',\n 'Other.releases',\n 'Genre',\n 'Songwriter',\n 'Lead.vocal',\n 'Top.50.Billboard']"
     },
     "metadata": {},
     "output_type": "display_data"
    },
    {
     "data": {
      "text/plain": "array([['12-Bar Original', 1965, 'Anthology 2', ...,\n        'Lennon, McCartney, Harrison and Starkey', nan, -1],\n       ['A Day in the Life', 1967,\n        \"Sgt. Pepper's Lonely Hearts Club Band\", ...,\n        'Lennon and McCartney', 'Lennon and McCartney', -1],\n       [\"A Hard Day's Night\", 1964,\n        \"UK: A Hard Day's Night US: 1962-1966\", ..., 'Lennon',\n        'Lennon, with McCartney', 8],\n       ...,\n       [\"You've Really Got a Hold on Me\", 1963,\n        'UK: With the Beatles US: The Beatles Second Album', ...,\n        'Robinson', 'Lennon and Harrison', -1],\n       ['Young Blood', 1963, 'Live at the BBC', ..., 'Leiber, Stoller',\n        'Harrison', -1],\n       ['Your Mother Should Know', 1967, 'Magical Mystery Tour', ...,\n        'McCartney', 'McCartney', -1]], dtype=object)"
     },
     "metadata": {},
     "output_type": "display_data"
    },
    {
     "data": {
      "text/plain": "numpy.ndarray"
     },
     "metadata": {},
     "output_type": "display_data"
    }
   ],
   "source": [
    "# Get the columns as a pd.Index object\n",
    "display(songs.columns)\n",
    "# Get the columns as a list\n",
    "display(list(songs.columns))\n",
    "# Get the columns as a numpy.ndarray object\n",
    "display(songs.columns.values)\n",
    "display(type(songs.columns.values))\n",
    "# Get the columns as a list\n",
    "display(songs.columns.values.tolist())\n",
    "# Get the values of all items in the dataset as a numpy.ndarray of lists of the values in each item\n",
    "display(songs.values)\n",
    "display(type(songs.values))"
   ],
   "metadata": {
    "collapsed": false,
    "pycharm": {
     "name": "#%%\n"
    }
   }
  },
  {
   "cell_type": "markdown",
   "source": [
    "`<pd.df>.rename({'<column_1 old name>':'<column_1 new name>', '<column_2 old name>':'<column_2 new name>', ...}, axis='columns')`, `<pd.df>.columns = ['<column_1 name>', '<column_2 name>', ...]` (change the names of all columns in <pd.df>)"
   ],
   "metadata": {
    "collapsed": false,
    "pycharm": {
     "name": "#%% md\n"
    }
   }
  },
  {
   "cell_type": "code",
   "execution_count": 6,
   "outputs": [
    {
     "data": {
      "text/plain": "                                 Title  Year  \\\n0                      12-Bar Original  1965   \n1                    A Day in the Life  1967   \n2                   A Hard Day's Night  1964   \n3           A Shot of Rhythm and Blues  1963   \n4                     A Taste of Honey  1963   \n..                                 ...   ...   \n305     You're Going to Lose That Girl  1965   \n306  You've Got to Hide Your Love Away  1965   \n307     You've Really Got a Hold on Me  1963   \n308                        Young Blood  1963   \n309            Your Mother Should Know  1967   \n\n                                           Album.debut  Length  \\\n0                                          Anthology 2     174   \n1                Sgt. Pepper's Lonely Hearts Club Band     335   \n2                 UK: A Hard Day's Night US: 1962-1966     152   \n3                                      Live at the BBC     104   \n4           UK: Please Please Me US: The Early Beatles     163   \n..                                                 ...     ...   \n305                                              Help!     140   \n306                                              Help!     131   \n307  UK: With the Beatles US: The Beatles Second Album     182   \n308                                    Live at the BBC     116   \n309                               Magical Mystery Tour     149   \n\n     Other.releases                                              Genre  \\\n0                 0                                              Blues   \n1                12               Psychedelic Rock, Art Rock, Pop/Rock   \n2                35                         Rock, Electronic, Pop/Rock   \n3                 0                                      R&B, Pop/Rock   \n4                29                       Pop/Rock, Jazz, Stage&Screen   \n..              ...                                                ...   \n305               6                                     Rock, Pop/Rock   \n306              12                                       FolkPop/Rock   \n307               2                                     Soul, Pop/Rock   \n308               0                                           Pop/Rock   \n309              13  Music Hall, Vaudeville Rock, Psychedelic Pop, ...   \n\n                                  Songwriter              Lead.vocal  \\\n0    Lennon, McCartney, Harrison and Starkey                     NaN   \n1                       Lennon and McCartney    Lennon and McCartney   \n2                                     Lennon  Lennon, with McCartney   \n3                                   Thompson                  Lennon   \n4                              Scott, Marlow               McCartney   \n..                                       ...                     ...   \n305                                   Lennon                  Lennon   \n306                                   Lennon                  Lennon   \n307                                 Robinson     Lennon and Harrison   \n308                          Leiber, Stoller                Harrison   \n309                                McCartney               McCartney   \n\n     Top.50.Billboard  \n0                  -1  \n1                  -1  \n2                   8  \n3                  -1  \n4                  -1  \n..                ...  \n305                -1  \n306                -1  \n307                -1  \n308                -1  \n309                -1  \n\n[310 rows x 9 columns]",
      "text/html": "<div>\n<style scoped>\n    .dataframe tbody tr th:only-of-type {\n        vertical-align: middle;\n    }\n\n    .dataframe tbody tr th {\n        vertical-align: top;\n    }\n\n    .dataframe thead th {\n        text-align: right;\n    }\n</style>\n<table border=\"1\" class=\"dataframe\">\n  <thead>\n    <tr style=\"text-align: right;\">\n      <th></th>\n      <th>Title</th>\n      <th>Year</th>\n      <th>Album.debut</th>\n      <th>Length</th>\n      <th>Other.releases</th>\n      <th>Genre</th>\n      <th>Songwriter</th>\n      <th>Lead.vocal</th>\n      <th>Top.50.Billboard</th>\n    </tr>\n  </thead>\n  <tbody>\n    <tr>\n      <th>0</th>\n      <td>12-Bar Original</td>\n      <td>1965</td>\n      <td>Anthology 2</td>\n      <td>174</td>\n      <td>0</td>\n      <td>Blues</td>\n      <td>Lennon, McCartney, Harrison and Starkey</td>\n      <td>NaN</td>\n      <td>-1</td>\n    </tr>\n    <tr>\n      <th>1</th>\n      <td>A Day in the Life</td>\n      <td>1967</td>\n      <td>Sgt. Pepper's Lonely Hearts Club Band</td>\n      <td>335</td>\n      <td>12</td>\n      <td>Psychedelic Rock, Art Rock, Pop/Rock</td>\n      <td>Lennon and McCartney</td>\n      <td>Lennon and McCartney</td>\n      <td>-1</td>\n    </tr>\n    <tr>\n      <th>2</th>\n      <td>A Hard Day's Night</td>\n      <td>1964</td>\n      <td>UK: A Hard Day's Night US: 1962-1966</td>\n      <td>152</td>\n      <td>35</td>\n      <td>Rock, Electronic, Pop/Rock</td>\n      <td>Lennon</td>\n      <td>Lennon, with McCartney</td>\n      <td>8</td>\n    </tr>\n    <tr>\n      <th>3</th>\n      <td>A Shot of Rhythm and Blues</td>\n      <td>1963</td>\n      <td>Live at the BBC</td>\n      <td>104</td>\n      <td>0</td>\n      <td>R&amp;B, Pop/Rock</td>\n      <td>Thompson</td>\n      <td>Lennon</td>\n      <td>-1</td>\n    </tr>\n    <tr>\n      <th>4</th>\n      <td>A Taste of Honey</td>\n      <td>1963</td>\n      <td>UK: Please Please Me US: The Early Beatles</td>\n      <td>163</td>\n      <td>29</td>\n      <td>Pop/Rock, Jazz, Stage&amp;Screen</td>\n      <td>Scott, Marlow</td>\n      <td>McCartney</td>\n      <td>-1</td>\n    </tr>\n    <tr>\n      <th>...</th>\n      <td>...</td>\n      <td>...</td>\n      <td>...</td>\n      <td>...</td>\n      <td>...</td>\n      <td>...</td>\n      <td>...</td>\n      <td>...</td>\n      <td>...</td>\n    </tr>\n    <tr>\n      <th>305</th>\n      <td>You're Going to Lose That Girl</td>\n      <td>1965</td>\n      <td>Help!</td>\n      <td>140</td>\n      <td>6</td>\n      <td>Rock, Pop/Rock</td>\n      <td>Lennon</td>\n      <td>Lennon</td>\n      <td>-1</td>\n    </tr>\n    <tr>\n      <th>306</th>\n      <td>You've Got to Hide Your Love Away</td>\n      <td>1965</td>\n      <td>Help!</td>\n      <td>131</td>\n      <td>12</td>\n      <td>FolkPop/Rock</td>\n      <td>Lennon</td>\n      <td>Lennon</td>\n      <td>-1</td>\n    </tr>\n    <tr>\n      <th>307</th>\n      <td>You've Really Got a Hold on Me</td>\n      <td>1963</td>\n      <td>UK: With the Beatles US: The Beatles Second Album</td>\n      <td>182</td>\n      <td>2</td>\n      <td>Soul, Pop/Rock</td>\n      <td>Robinson</td>\n      <td>Lennon and Harrison</td>\n      <td>-1</td>\n    </tr>\n    <tr>\n      <th>308</th>\n      <td>Young Blood</td>\n      <td>1963</td>\n      <td>Live at the BBC</td>\n      <td>116</td>\n      <td>0</td>\n      <td>Pop/Rock</td>\n      <td>Leiber, Stoller</td>\n      <td>Harrison</td>\n      <td>-1</td>\n    </tr>\n    <tr>\n      <th>309</th>\n      <td>Your Mother Should Know</td>\n      <td>1967</td>\n      <td>Magical Mystery Tour</td>\n      <td>149</td>\n      <td>13</td>\n      <td>Music Hall, Vaudeville Rock, Psychedelic Pop, ...</td>\n      <td>McCartney</td>\n      <td>McCartney</td>\n      <td>-1</td>\n    </tr>\n  </tbody>\n</table>\n<p>310 rows × 9 columns</p>\n</div>"
     },
     "metadata": {},
     "output_type": "display_data"
    },
    {
     "data": {
      "text/plain": "                                 Title  Year  \\\n0                      12-Bar Original  1965   \n1                    A Day in the Life  1967   \n2                   A Hard Day's Night  1964   \n3           A Shot of Rhythm and Blues  1963   \n4                     A Taste of Honey  1963   \n..                                 ...   ...   \n305     You're Going to Lose That Girl  1965   \n306  You've Got to Hide Your Love Away  1965   \n307     You've Really Got a Hold on Me  1963   \n308                        Young Blood  1963   \n309            Your Mother Should Know  1967   \n\n                                           Album.debut  Duration  \\\n0                                          Anthology 2       174   \n1                Sgt. Pepper's Lonely Hearts Club Band       335   \n2                 UK: A Hard Day's Night US: 1962-1966       152   \n3                                      Live at the BBC       104   \n4           UK: Please Please Me US: The Early Beatles       163   \n..                                                 ...       ...   \n305                                              Help!       140   \n306                                              Help!       131   \n307  UK: With the Beatles US: The Beatles Second Album       182   \n308                                    Live at the BBC       116   \n309                               Magical Mystery Tour       149   \n\n     Other.releases                                              Genre  \\\n0                 0                                              Blues   \n1                12               Psychedelic Rock, Art Rock, Pop/Rock   \n2                35                         Rock, Electronic, Pop/Rock   \n3                 0                                      R&B, Pop/Rock   \n4                29                       Pop/Rock, Jazz, Stage&Screen   \n..              ...                                                ...   \n305               6                                     Rock, Pop/Rock   \n306              12                                       FolkPop/Rock   \n307               2                                     Soul, Pop/Rock   \n308               0                                           Pop/Rock   \n309              13  Music Hall, Vaudeville Rock, Psychedelic Pop, ...   \n\n                                  Songwriter              Lead.vocal  \\\n0    Lennon, McCartney, Harrison and Starkey                     NaN   \n1                       Lennon and McCartney    Lennon and McCartney   \n2                                     Lennon  Lennon, with McCartney   \n3                                   Thompson                  Lennon   \n4                              Scott, Marlow               McCartney   \n..                                       ...                     ...   \n305                                   Lennon                  Lennon   \n306                                   Lennon                  Lennon   \n307                                 Robinson     Lennon and Harrison   \n308                          Leiber, Stoller                Harrison   \n309                                McCartney               McCartney   \n\n     Top.50.Billboard  \n0                  -1  \n1                  -1  \n2                   8  \n3                  -1  \n4                  -1  \n..                ...  \n305                -1  \n306                -1  \n307                -1  \n308                -1  \n309                -1  \n\n[310 rows x 9 columns]",
      "text/html": "<div>\n<style scoped>\n    .dataframe tbody tr th:only-of-type {\n        vertical-align: middle;\n    }\n\n    .dataframe tbody tr th {\n        vertical-align: top;\n    }\n\n    .dataframe thead th {\n        text-align: right;\n    }\n</style>\n<table border=\"1\" class=\"dataframe\">\n  <thead>\n    <tr style=\"text-align: right;\">\n      <th></th>\n      <th>Title</th>\n      <th>Year</th>\n      <th>Album.debut</th>\n      <th>Duration</th>\n      <th>Other.releases</th>\n      <th>Genre</th>\n      <th>Songwriter</th>\n      <th>Lead.vocal</th>\n      <th>Top.50.Billboard</th>\n    </tr>\n  </thead>\n  <tbody>\n    <tr>\n      <th>0</th>\n      <td>12-Bar Original</td>\n      <td>1965</td>\n      <td>Anthology 2</td>\n      <td>174</td>\n      <td>0</td>\n      <td>Blues</td>\n      <td>Lennon, McCartney, Harrison and Starkey</td>\n      <td>NaN</td>\n      <td>-1</td>\n    </tr>\n    <tr>\n      <th>1</th>\n      <td>A Day in the Life</td>\n      <td>1967</td>\n      <td>Sgt. Pepper's Lonely Hearts Club Band</td>\n      <td>335</td>\n      <td>12</td>\n      <td>Psychedelic Rock, Art Rock, Pop/Rock</td>\n      <td>Lennon and McCartney</td>\n      <td>Lennon and McCartney</td>\n      <td>-1</td>\n    </tr>\n    <tr>\n      <th>2</th>\n      <td>A Hard Day's Night</td>\n      <td>1964</td>\n      <td>UK: A Hard Day's Night US: 1962-1966</td>\n      <td>152</td>\n      <td>35</td>\n      <td>Rock, Electronic, Pop/Rock</td>\n      <td>Lennon</td>\n      <td>Lennon, with McCartney</td>\n      <td>8</td>\n    </tr>\n    <tr>\n      <th>3</th>\n      <td>A Shot of Rhythm and Blues</td>\n      <td>1963</td>\n      <td>Live at the BBC</td>\n      <td>104</td>\n      <td>0</td>\n      <td>R&amp;B, Pop/Rock</td>\n      <td>Thompson</td>\n      <td>Lennon</td>\n      <td>-1</td>\n    </tr>\n    <tr>\n      <th>4</th>\n      <td>A Taste of Honey</td>\n      <td>1963</td>\n      <td>UK: Please Please Me US: The Early Beatles</td>\n      <td>163</td>\n      <td>29</td>\n      <td>Pop/Rock, Jazz, Stage&amp;Screen</td>\n      <td>Scott, Marlow</td>\n      <td>McCartney</td>\n      <td>-1</td>\n    </tr>\n    <tr>\n      <th>...</th>\n      <td>...</td>\n      <td>...</td>\n      <td>...</td>\n      <td>...</td>\n      <td>...</td>\n      <td>...</td>\n      <td>...</td>\n      <td>...</td>\n      <td>...</td>\n    </tr>\n    <tr>\n      <th>305</th>\n      <td>You're Going to Lose That Girl</td>\n      <td>1965</td>\n      <td>Help!</td>\n      <td>140</td>\n      <td>6</td>\n      <td>Rock, Pop/Rock</td>\n      <td>Lennon</td>\n      <td>Lennon</td>\n      <td>-1</td>\n    </tr>\n    <tr>\n      <th>306</th>\n      <td>You've Got to Hide Your Love Away</td>\n      <td>1965</td>\n      <td>Help!</td>\n      <td>131</td>\n      <td>12</td>\n      <td>FolkPop/Rock</td>\n      <td>Lennon</td>\n      <td>Lennon</td>\n      <td>-1</td>\n    </tr>\n    <tr>\n      <th>307</th>\n      <td>You've Really Got a Hold on Me</td>\n      <td>1963</td>\n      <td>UK: With the Beatles US: The Beatles Second Album</td>\n      <td>182</td>\n      <td>2</td>\n      <td>Soul, Pop/Rock</td>\n      <td>Robinson</td>\n      <td>Lennon and Harrison</td>\n      <td>-1</td>\n    </tr>\n    <tr>\n      <th>308</th>\n      <td>Young Blood</td>\n      <td>1963</td>\n      <td>Live at the BBC</td>\n      <td>116</td>\n      <td>0</td>\n      <td>Pop/Rock</td>\n      <td>Leiber, Stoller</td>\n      <td>Harrison</td>\n      <td>-1</td>\n    </tr>\n    <tr>\n      <th>309</th>\n      <td>Your Mother Should Know</td>\n      <td>1967</td>\n      <td>Magical Mystery Tour</td>\n      <td>149</td>\n      <td>13</td>\n      <td>Music Hall, Vaudeville Rock, Psychedelic Pop, ...</td>\n      <td>McCartney</td>\n      <td>McCartney</td>\n      <td>-1</td>\n    </tr>\n  </tbody>\n</table>\n<p>310 rows × 9 columns</p>\n</div>"
     },
     "metadata": {},
     "output_type": "display_data"
    }
   ],
   "source": [
    "# Rename the Duration column to Length\n",
    "songs.rename({'Duration': 'Length'}, axis='columns', inplace=True)\n",
    "display(songs)\n",
    "# Rename the Length column back to Duration\n",
    "songs.rename({'Length': 'Duration'}, axis='columns', inplace=True)\n",
    "display(songs)"
   ],
   "metadata": {
    "collapsed": false,
    "pycharm": {
     "name": "#%%\n"
    }
   }
  },
  {
   "cell_type": "markdown",
   "source": [
    "##### Missing values and value counts\n",
    "`isna()` (`isnull()`), `isna().sum()` (`isnull().sum`) ([example](https://www.analyticsvidhya.com/blog/2021/08/how-to-perform-exploratory-data-analysis-a-guide-for-beginners/))\n",
    "`sb.heatmap()`, e.g. `sb.heatmap(<pd.df>.isnull(),cbar=False,cmap='viridis')` ([example](https://www.analyticsvidhya.com/blog/2021/08/how-to-perform-exploratory-data-analysis-a-guide-for-beginners/))\n",
    "`value_counts()`, `value_counts(normalize=True)`, `dropna(how='all'/'any', inplace=True)`"
   ],
   "metadata": {
    "collapsed": false,
    "pycharm": {
     "name": "#%% md\n"
    }
   }
  },
  {
   "cell_type": "markdown",
   "source": [
    "The `cmap` parameter denotes a [Matplotlib colormap](https://matplotlib.org/stable/tutorials/colors/colormaps.html#classes-of-colormaps) (`viridis`, `cividis`, `tab20`, `winter`, `BuPu_r`, `ocean`,...)."
   ],
   "metadata": {
    "collapsed": false,
    "pycharm": {
     "name": "#%% md\n"
    }
   }
  },
  {
   "cell_type": "code",
   "execution_count": 7,
   "outputs": [
    {
     "data": {
      "text/plain": "<AxesSubplot:>"
     },
     "metadata": {},
     "output_type": "display_data"
    },
    {
     "data": {
      "text/plain": "<Figure size 640x480 with 1 Axes>",
      "image/png": "[encoded data removed]"
     },
     "metadata": {},
     "output_type": "display_data"
    }
   ],
   "source": [
    "display(sb.heatmap(songs.isnull(), cbar=False, cmap='ocean'))"
   ],
   "metadata": {
    "collapsed": false,
    "pycharm": {
     "name": "#%%\n"
    }
   }
  },
  {
   "cell_type": "markdown",
   "source": [
    "`index`, `index[<from>:<to>]`, `reset_index(drop=True, inplace=True)`"
   ],
   "metadata": {
    "collapsed": false,
    "pycharm": {
     "name": "#%% md\n"
    }
   }
  },
  {
   "cell_type": "markdown",
   "source": [
    "How many missing values are there?"
   ],
   "metadata": {
    "collapsed": false,
    "pycharm": {
     "name": "#%% md\n"
    }
   }
  },
  {
   "cell_type": "code",
   "execution_count": 8,
   "outputs": [
    {
     "data": {
      "text/plain": "Title                0\nYear                 0\nAlbum.debut         22\nDuration             0\nOther.releases       0\nGenre                4\nSongwriter           0\nLead.vocal           8\nTop.50.Billboard     0\ndtype: int64"
     },
     "metadata": {},
     "output_type": "display_data"
    }
   ],
   "source": [
    "# songs.isna().sum()\n",
    "display(songs.isna().sum())\n",
    "# display(songs.isnull().sum())         # isnull() is the same as isna(), and isna() is used more often"
   ],
   "metadata": {
    "collapsed": false,
    "pycharm": {
     "name": "#%%\n"
    }
   }
  },
  {
   "cell_type": "markdown",
   "source": [
    "##### Examining individual data items, rows and columns\n",
    "`sample()`\n",
    "Simple indexing and fancy indexing: `iloc()`, `loc()`\n",
    "`index`, `index[<from>:<to>]`, `reset_index(drop=True, inplace=True)`\n",
    "Indexing in data stats: `<pd.df>.describe().loc['50%', '<column_name>']` (select the median of <column_name> from the <pd.df> stats computed by describe())\n",
    "Indexing using list of values: `<pd.df>.loc[<pd.df>.<column>.isin(<list of values>)]` (select those observations where the value of <column> is in the `<list of values>`)"
   ],
   "metadata": {
    "collapsed": false,
    "pycharm": {
     "name": "#%% md\n"
    }
   }
  },
  {
   "cell_type": "markdown",
   "source": [
    "What are the songs with missing `Album.debut`?"
   ],
   "metadata": {
    "collapsed": false,
    "pycharm": {
     "name": "#%% md\n"
    }
   }
  },
  {
   "cell_type": "code",
   "execution_count": 9,
   "outputs": [
    {
     "data": {
      "text/plain": "22"
     },
     "metadata": {},
     "output_type": "display_data"
    },
    {
     "data": {
      "text/plain": "0      False\n1      False\n2      False\n3      False\n4      False\n       ...  \n305    False\n306    False\n307    False\n308    False\n309    False\nName: Album.debut, Length: 310, dtype: bool"
     },
     "metadata": {},
     "output_type": "display_data"
    },
    {
     "name": "stdout",
     "output_type": "stream",
     "text": [
      "\n"
     ]
    },
    {
     "data": {
      "text/plain": "                         Title  Year Album.debut  Duration  Other.releases  \\\n37                    Catswalk  1962         NaN       150               0   \n42                     Circles  1968         NaN       226               0   \n64                    Etcetera  1968         NaN       150               0   \n85                     Goodbye  1969         NaN       150               0   \n89                     Heather  1968         NaN       130               0   \n112      I Lost My Little Girl  1962         NaN       105               0   \n127    I'll Keep You Satisfied  1963         NaN       150               0   \n148            Jazz Piano Song  1969         NaN       150               0   \n149             Jessie's Dream  1967         NaN       150               0   \n165              Looking Glass  1962         NaN       150               0   \n167          Love of the Loved  1962         NaN       122               0   \n172                     Madman  1969         NaN       197               0   \n199         One and One Is Two  1964         NaN       150               0   \n221      September in the Rain  1962         NaN       150               0   \n225     Shakin' in the Sixties  1969         NaN       150               0   \n238              Sour Milk Sea  1968         NaN       236               0   \n244  Take Good Care of My Baby  1962         NaN       150               0   \n262                 The Saints  1962         NaN       150               0   \n272           Tip of My Tongue  1962         NaN       150               0   \n279          Watching Rainbows  1969         NaN       248               0   \n289             Winston's Walk  1960         NaN       150               0   \n292                      Woman  1965         NaN       145               0   \n\n                                     Genre  \\\n37                                Pop/Rock   \n42              Hindustani Blues, Pop/Rock   \n64                                Pop/Rock   \n85                    Children's, Pop/Rock   \n89                          Rock, Pop/Rock   \n112                    Rock, R&B, Pop/Rock   \n127                               Pop/Rock   \n148                          Boogie-Woogie   \n149                                    NaN   \n165                               Pop/Rock   \n167                               Pop/Rock   \n172                         Rock, Pop/Rock   \n199                                    NaN   \n221                               Pop/Rock   \n225                               Pop/Rock   \n238  Hard Rock, Psychedelic Rock, Pop/Rock   \n244                Rock and Roll, Pop/Rock   \n262                               Pop/Rock   \n272              Beat, Power Pop, Pop/Rock   \n279                         Rock, Pop/Rock   \n289                                    NaN   \n292                    Folk Rock, Pop/Rock   \n\n                                  Songwriter               Lead.vocal  \\\n37                                 McCartney                      NaN   \n42                                  Harrison                 Harrison   \n64                                 McCartney                McCartney   \n85                                 McCartney                McCartney   \n89                                 McCartney                McCartney   \n112                                McCartney                   Lennon   \n127                   McCartney, with Lennon  Lennon and/or McCartney   \n148                       McCartney, Starkey                McCartney   \n149     Lennon, McCartney, Harrison, Starkey                      NaN   \n165                                McCartney                McCartney   \n167                   McCartney, with Lennon                McCartney   \n172                                   Lennon                   Lennon   \n199                                McCartney                McCartney   \n221                   Al Dubin, Harry Warren                McCartney   \n225                                   Lennon                   Lennon   \n238                                 Harrison                 Harrison   \n244                             Goffin, King                 Harrison   \n262               Traditional, arr. Sheridan                 Sheridan   \n272                  Lennon and/or McCartney         McCartney/Lennon   \n279                   Lennon, with McCartney                   Lennon   \n289                                   Lennon                      NaN   \n292  McCartney (as Bernard Webb or A. Smith)                McCartney   \n\n     Top.50.Billboard  \n37                 -1  \n42                 -1  \n64                 -1  \n85                 -1  \n89                 -1  \n112                -1  \n127                -1  \n148                -1  \n149                -1  \n165                -1  \n167                -1  \n172                -1  \n199                -1  \n221                -1  \n225                -1  \n238                -1  \n244                -1  \n262                -1  \n272                -1  \n279                -1  \n289                -1  \n292                -1  ",
      "text/html": "<div>\n<style scoped>\n    .dataframe tbody tr th:only-of-type {\n        vertical-align: middle;\n    }\n\n    .dataframe tbody tr th {\n        vertical-align: top;\n    }\n\n    .dataframe thead th {\n        text-align: right;\n    }\n</style>\n<table border=\"1\" class=\"dataframe\">\n  <thead>\n    <tr style=\"text-align: right;\">\n      <th></th>\n      <th>Title</th>\n      <th>Year</th>\n      <th>Album.debut</th>\n      <th>Duration</th>\n      <th>Other.releases</th>\n      <th>Genre</th>\n      <th>Songwriter</th>\n      <th>Lead.vocal</th>\n      <th>Top.50.Billboard</th>\n    </tr>\n  </thead>\n  <tbody>\n    <tr>\n      <th>37</th>\n      <td>Catswalk</td>\n      <td>1962</td>\n      <td>NaN</td>\n      <td>150</td>\n      <td>0</td>\n      <td>Pop/Rock</td>\n      <td>McCartney</td>\n      <td>NaN</td>\n      <td>-1</td>\n    </tr>\n    <tr>\n      <th>42</th>\n      <td>Circles</td>\n      <td>1968</td>\n      <td>NaN</td>\n      <td>226</td>\n      <td>0</td>\n      <td>Hindustani Blues, Pop/Rock</td>\n      <td>Harrison</td>\n      <td>Harrison</td>\n      <td>-1</td>\n    </tr>\n    <tr>\n      <th>64</th>\n      <td>Etcetera</td>\n      <td>1968</td>\n      <td>NaN</td>\n      <td>150</td>\n      <td>0</td>\n      <td>Pop/Rock</td>\n      <td>McCartney</td>\n      <td>McCartney</td>\n      <td>-1</td>\n    </tr>\n    <tr>\n      <th>85</th>\n      <td>Goodbye</td>\n      <td>1969</td>\n      <td>NaN</td>\n      <td>150</td>\n      <td>0</td>\n      <td>Children's, Pop/Rock</td>\n      <td>McCartney</td>\n      <td>McCartney</td>\n      <td>-1</td>\n    </tr>\n    <tr>\n      <th>89</th>\n      <td>Heather</td>\n      <td>1968</td>\n      <td>NaN</td>\n      <td>130</td>\n      <td>0</td>\n      <td>Rock, Pop/Rock</td>\n      <td>McCartney</td>\n      <td>McCartney</td>\n      <td>-1</td>\n    </tr>\n    <tr>\n      <th>112</th>\n      <td>I Lost My Little Girl</td>\n      <td>1962</td>\n      <td>NaN</td>\n      <td>105</td>\n      <td>0</td>\n      <td>Rock, R&amp;B, Pop/Rock</td>\n      <td>McCartney</td>\n      <td>Lennon</td>\n      <td>-1</td>\n    </tr>\n    <tr>\n      <th>127</th>\n      <td>I'll Keep You Satisfied</td>\n      <td>1963</td>\n      <td>NaN</td>\n      <td>150</td>\n      <td>0</td>\n      <td>Pop/Rock</td>\n      <td>McCartney, with Lennon</td>\n      <td>Lennon and/or McCartney</td>\n      <td>-1</td>\n    </tr>\n    <tr>\n      <th>148</th>\n      <td>Jazz Piano Song</td>\n      <td>1969</td>\n      <td>NaN</td>\n      <td>150</td>\n      <td>0</td>\n      <td>Boogie-Woogie</td>\n      <td>McCartney, Starkey</td>\n      <td>McCartney</td>\n      <td>-1</td>\n    </tr>\n    <tr>\n      <th>149</th>\n      <td>Jessie's Dream</td>\n      <td>1967</td>\n      <td>NaN</td>\n      <td>150</td>\n      <td>0</td>\n      <td>NaN</td>\n      <td>Lennon, McCartney, Harrison, Starkey</td>\n      <td>NaN</td>\n      <td>-1</td>\n    </tr>\n    <tr>\n      <th>165</th>\n      <td>Looking Glass</td>\n      <td>1962</td>\n      <td>NaN</td>\n      <td>150</td>\n      <td>0</td>\n      <td>Pop/Rock</td>\n      <td>McCartney</td>\n      <td>McCartney</td>\n      <td>-1</td>\n    </tr>\n    <tr>\n      <th>167</th>\n      <td>Love of the Loved</td>\n      <td>1962</td>\n      <td>NaN</td>\n      <td>122</td>\n      <td>0</td>\n      <td>Pop/Rock</td>\n      <td>McCartney, with Lennon</td>\n      <td>McCartney</td>\n      <td>-1</td>\n    </tr>\n    <tr>\n      <th>172</th>\n      <td>Madman</td>\n      <td>1969</td>\n      <td>NaN</td>\n      <td>197</td>\n      <td>0</td>\n      <td>Rock, Pop/Rock</td>\n      <td>Lennon</td>\n      <td>Lennon</td>\n      <td>-1</td>\n    </tr>\n    <tr>\n      <th>199</th>\n      <td>One and One Is Two</td>\n      <td>1964</td>\n      <td>NaN</td>\n      <td>150</td>\n      <td>0</td>\n      <td>NaN</td>\n      <td>McCartney</td>\n      <td>McCartney</td>\n      <td>-1</td>\n    </tr>\n    <tr>\n      <th>221</th>\n      <td>September in the Rain</td>\n      <td>1962</td>\n      <td>NaN</td>\n      <td>150</td>\n      <td>0</td>\n      <td>Pop/Rock</td>\n      <td>Al Dubin, Harry Warren</td>\n      <td>McCartney</td>\n      <td>-1</td>\n    </tr>\n    <tr>\n      <th>225</th>\n      <td>Shakin' in the Sixties</td>\n      <td>1969</td>\n      <td>NaN</td>\n      <td>150</td>\n      <td>0</td>\n      <td>Pop/Rock</td>\n      <td>Lennon</td>\n      <td>Lennon</td>\n      <td>-1</td>\n    </tr>\n    <tr>\n      <th>238</th>\n      <td>Sour Milk Sea</td>\n      <td>1968</td>\n      <td>NaN</td>\n      <td>236</td>\n      <td>0</td>\n      <td>Hard Rock, Psychedelic Rock, Pop/Rock</td>\n      <td>Harrison</td>\n      <td>Harrison</td>\n      <td>-1</td>\n    </tr>\n    <tr>\n      <th>244</th>\n      <td>Take Good Care of My Baby</td>\n      <td>1962</td>\n      <td>NaN</td>\n      <td>150</td>\n      <td>0</td>\n      <td>Rock and Roll, Pop/Rock</td>\n      <td>Goffin, King</td>\n      <td>Harrison</td>\n      <td>-1</td>\n    </tr>\n    <tr>\n      <th>262</th>\n      <td>The Saints</td>\n      <td>1962</td>\n      <td>NaN</td>\n      <td>150</td>\n      <td>0</td>\n      <td>Pop/Rock</td>\n      <td>Traditional, arr. Sheridan</td>\n      <td>Sheridan</td>\n      <td>-1</td>\n    </tr>\n    <tr>\n      <th>272</th>\n      <td>Tip of My Tongue</td>\n      <td>1962</td>\n      <td>NaN</td>\n      <td>150</td>\n      <td>0</td>\n      <td>Beat, Power Pop, Pop/Rock</td>\n      <td>Lennon and/or McCartney</td>\n      <td>McCartney/Lennon</td>\n      <td>-1</td>\n    </tr>\n    <tr>\n      <th>279</th>\n      <td>Watching Rainbows</td>\n      <td>1969</td>\n      <td>NaN</td>\n      <td>248</td>\n      <td>0</td>\n      <td>Rock, Pop/Rock</td>\n      <td>Lennon, with McCartney</td>\n      <td>Lennon</td>\n      <td>-1</td>\n    </tr>\n    <tr>\n      <th>289</th>\n      <td>Winston's Walk</td>\n      <td>1960</td>\n      <td>NaN</td>\n      <td>150</td>\n      <td>0</td>\n      <td>NaN</td>\n      <td>Lennon</td>\n      <td>NaN</td>\n      <td>-1</td>\n    </tr>\n    <tr>\n      <th>292</th>\n      <td>Woman</td>\n      <td>1965</td>\n      <td>NaN</td>\n      <td>145</td>\n      <td>0</td>\n      <td>Folk Rock, Pop/Rock</td>\n      <td>McCartney (as Bernard Webb or A. Smith)</td>\n      <td>McCartney</td>\n      <td>-1</td>\n    </tr>\n  </tbody>\n</table>\n</div>"
     },
     "metadata": {},
     "output_type": "display_data"
    },
    {
     "data": {
      "text/plain": "Int64Index([ 37,  42,  64,  85,  89, 112, 127, 148, 149, 165, 167, 172, 199,\n            221, 225, 238, 244, 262, 272, 279, 289, 292],\n           dtype='int64')"
     },
     "metadata": {},
     "output_type": "display_data"
    },
    {
     "data": {
      "text/plain": "                         Title Album.debut\n37                    Catswalk         NaN\n42                     Circles         NaN\n64                    Etcetera         NaN\n85                     Goodbye         NaN\n89                     Heather         NaN\n112      I Lost My Little Girl         NaN\n127    I'll Keep You Satisfied         NaN\n148            Jazz Piano Song         NaN\n149             Jessie's Dream         NaN\n165              Looking Glass         NaN\n167          Love of the Loved         NaN\n172                     Madman         NaN\n199         One and One Is Two         NaN\n221      September in the Rain         NaN\n225     Shakin' in the Sixties         NaN\n238              Sour Milk Sea         NaN\n244  Take Good Care of My Baby         NaN\n262                 The Saints         NaN\n272           Tip of My Tongue         NaN\n279          Watching Rainbows         NaN\n289             Winston's Walk         NaN\n292                      Woman         NaN",
      "text/html": "<div>\n<style scoped>\n    .dataframe tbody tr th:only-of-type {\n        vertical-align: middle;\n    }\n\n    .dataframe tbody tr th {\n        vertical-align: top;\n    }\n\n    .dataframe thead th {\n        text-align: right;\n    }\n</style>\n<table border=\"1\" class=\"dataframe\">\n  <thead>\n    <tr style=\"text-align: right;\">\n      <th></th>\n      <th>Title</th>\n      <th>Album.debut</th>\n    </tr>\n  </thead>\n  <tbody>\n    <tr>\n      <th>37</th>\n      <td>Catswalk</td>\n      <td>NaN</td>\n    </tr>\n    <tr>\n      <th>42</th>\n      <td>Circles</td>\n      <td>NaN</td>\n    </tr>\n    <tr>\n      <th>64</th>\n      <td>Etcetera</td>\n      <td>NaN</td>\n    </tr>\n    <tr>\n      <th>85</th>\n      <td>Goodbye</td>\n      <td>NaN</td>\n    </tr>\n    <tr>\n      <th>89</th>\n      <td>Heather</td>\n      <td>NaN</td>\n    </tr>\n    <tr>\n      <th>112</th>\n      <td>I Lost My Little Girl</td>\n      <td>NaN</td>\n    </tr>\n    <tr>\n      <th>127</th>\n      <td>I'll Keep You Satisfied</td>\n      <td>NaN</td>\n    </tr>\n    <tr>\n      <th>148</th>\n      <td>Jazz Piano Song</td>\n      <td>NaN</td>\n    </tr>\n    <tr>\n      <th>149</th>\n      <td>Jessie's Dream</td>\n      <td>NaN</td>\n    </tr>\n    <tr>\n      <th>165</th>\n      <td>Looking Glass</td>\n      <td>NaN</td>\n    </tr>\n    <tr>\n      <th>167</th>\n      <td>Love of the Loved</td>\n      <td>NaN</td>\n    </tr>\n    <tr>\n      <th>172</th>\n      <td>Madman</td>\n      <td>NaN</td>\n    </tr>\n    <tr>\n      <th>199</th>\n      <td>One and One Is Two</td>\n      <td>NaN</td>\n    </tr>\n    <tr>\n      <th>221</th>\n      <td>September in the Rain</td>\n      <td>NaN</td>\n    </tr>\n    <tr>\n      <th>225</th>\n      <td>Shakin' in the Sixties</td>\n      <td>NaN</td>\n    </tr>\n    <tr>\n      <th>238</th>\n      <td>Sour Milk Sea</td>\n      <td>NaN</td>\n    </tr>\n    <tr>\n      <th>244</th>\n      <td>Take Good Care of My Baby</td>\n      <td>NaN</td>\n    </tr>\n    <tr>\n      <th>262</th>\n      <td>The Saints</td>\n      <td>NaN</td>\n    </tr>\n    <tr>\n      <th>272</th>\n      <td>Tip of My Tongue</td>\n      <td>NaN</td>\n    </tr>\n    <tr>\n      <th>279</th>\n      <td>Watching Rainbows</td>\n      <td>NaN</td>\n    </tr>\n    <tr>\n      <th>289</th>\n      <td>Winston's Walk</td>\n      <td>NaN</td>\n    </tr>\n    <tr>\n      <th>292</th>\n      <td>Woman</td>\n      <td>NaN</td>\n    </tr>\n  </tbody>\n</table>\n</div>"
     },
     "metadata": {},
     "output_type": "display_data"
    },
    {
     "data": {
      "text/plain": "37     NaN\n42     NaN\n64     NaN\n85     NaN\n89     NaN\n112    NaN\n127    NaN\n148    NaN\n149    NaN\n165    NaN\n167    NaN\n172    NaN\n199    NaN\n221    NaN\n225    NaN\n238    NaN\n244    NaN\n262    NaN\n272    NaN\n279    NaN\n289    NaN\n292    NaN\nName: Album.debut, dtype: object"
     },
     "metadata": {},
     "output_type": "display_data"
    }
   ],
   "source": [
    "display(len(songs.loc[songs['Album.debut'].isna()]))\n",
    "display(songs['Album.debut'].isna())\n",
    "print()\n",
    "\n",
    "display(songs.loc[songs['Album.debut'].isna()])\n",
    "display(songs.loc[songs['Album.debut'].isna()].index)\n",
    "# display(songs.loc[songs['Album.debut'].isna()].index.tolist())\n",
    "i = songs.loc[songs['Album.debut'].isna()].index\n",
    "# display(i)\n",
    "\n",
    "# display(songs.loc[songs['Album.debut'].isna(), 'Title':'Album.debut'])\n",
    "display(songs.loc[songs['Album.debut'].isna(), ['Title', 'Album.debut']])\n",
    "# display(songs.iloc[0:3, 2])\n",
    "display(songs.iloc[i, 2])"
   ],
   "metadata": {
    "collapsed": false,
    "pycharm": {
     "name": "#%%\n"
    }
   }
  },
  {
   "cell_type": "markdown",
   "source": [
    "Replace `NaN` values in `Album.debut` with 'No' (these songs have not appeared on any of the official albums)."
   ],
   "metadata": {
    "collapsed": false,
    "pycharm": {
     "name": "#%% md\n"
    }
   }
  },
  {
   "cell_type": "code",
   "execution_count": 10,
   "outputs": [
    {
     "data": {
      "text/plain": "                         Title Album.debut\n37                    Catswalk          No\n42                     Circles          No\n64                    Etcetera          No\n85                     Goodbye          No\n89                     Heather          No\n112      I Lost My Little Girl          No\n127    I'll Keep You Satisfied          No\n148            Jazz Piano Song          No\n149             Jessie's Dream          No\n165              Looking Glass          No\n167          Love of the Loved          No\n172                     Madman          No\n199         One and One Is Two          No\n221      September in the Rain          No\n225     Shakin' in the Sixties          No\n238              Sour Milk Sea          No\n244  Take Good Care of My Baby          No\n262                 The Saints          No\n272           Tip of My Tongue          No\n279          Watching Rainbows          No\n289             Winston's Walk          No\n292                      Woman          No",
      "text/html": "<div>\n<style scoped>\n    .dataframe tbody tr th:only-of-type {\n        vertical-align: middle;\n    }\n\n    .dataframe tbody tr th {\n        vertical-align: top;\n    }\n\n    .dataframe thead th {\n        text-align: right;\n    }\n</style>\n<table border=\"1\" class=\"dataframe\">\n  <thead>\n    <tr style=\"text-align: right;\">\n      <th></th>\n      <th>Title</th>\n      <th>Album.debut</th>\n    </tr>\n  </thead>\n  <tbody>\n    <tr>\n      <th>37</th>\n      <td>Catswalk</td>\n      <td>No</td>\n    </tr>\n    <tr>\n      <th>42</th>\n      <td>Circles</td>\n      <td>No</td>\n    </tr>\n    <tr>\n      <th>64</th>\n      <td>Etcetera</td>\n      <td>No</td>\n    </tr>\n    <tr>\n      <th>85</th>\n      <td>Goodbye</td>\n      <td>No</td>\n    </tr>\n    <tr>\n      <th>89</th>\n      <td>Heather</td>\n      <td>No</td>\n    </tr>\n    <tr>\n      <th>112</th>\n      <td>I Lost My Little Girl</td>\n      <td>No</td>\n    </tr>\n    <tr>\n      <th>127</th>\n      <td>I'll Keep You Satisfied</td>\n      <td>No</td>\n    </tr>\n    <tr>\n      <th>148</th>\n      <td>Jazz Piano Song</td>\n      <td>No</td>\n    </tr>\n    <tr>\n      <th>149</th>\n      <td>Jessie's Dream</td>\n      <td>No</td>\n    </tr>\n    <tr>\n      <th>165</th>\n      <td>Looking Glass</td>\n      <td>No</td>\n    </tr>\n    <tr>\n      <th>167</th>\n      <td>Love of the Loved</td>\n      <td>No</td>\n    </tr>\n    <tr>\n      <th>172</th>\n      <td>Madman</td>\n      <td>No</td>\n    </tr>\n    <tr>\n      <th>199</th>\n      <td>One and One Is Two</td>\n      <td>No</td>\n    </tr>\n    <tr>\n      <th>221</th>\n      <td>September in the Rain</td>\n      <td>No</td>\n    </tr>\n    <tr>\n      <th>225</th>\n      <td>Shakin' in the Sixties</td>\n      <td>No</td>\n    </tr>\n    <tr>\n      <th>238</th>\n      <td>Sour Milk Sea</td>\n      <td>No</td>\n    </tr>\n    <tr>\n      <th>244</th>\n      <td>Take Good Care of My Baby</td>\n      <td>No</td>\n    </tr>\n    <tr>\n      <th>262</th>\n      <td>The Saints</td>\n      <td>No</td>\n    </tr>\n    <tr>\n      <th>272</th>\n      <td>Tip of My Tongue</td>\n      <td>No</td>\n    </tr>\n    <tr>\n      <th>279</th>\n      <td>Watching Rainbows</td>\n      <td>No</td>\n    </tr>\n    <tr>\n      <th>289</th>\n      <td>Winston's Walk</td>\n      <td>No</td>\n    </tr>\n    <tr>\n      <th>292</th>\n      <td>Woman</td>\n      <td>No</td>\n    </tr>\n  </tbody>\n</table>\n</div>"
     },
     "metadata": {},
     "output_type": "display_data"
    }
   ],
   "source": [
    "songs.iloc[i, 2] = 'No'\n",
    "display(songs.iloc[i, [0, 2]])"
   ],
   "metadata": {
    "collapsed": false,
    "pycharm": {
     "name": "#%%\n"
    }
   }
  },
  {
   "cell_type": "markdown",
   "source": [
    "Double-check the missing values now:"
   ],
   "metadata": {
    "collapsed": false,
    "pycharm": {
     "name": "#%% md\n"
    }
   }
  },
  {
   "cell_type": "code",
   "execution_count": 11,
   "outputs": [
    {
     "data": {
      "text/plain": "Title               0\nYear                0\nAlbum.debut         0\nDuration            0\nOther.releases      0\nGenre               4\nSongwriter          0\nLead.vocal          8\nTop.50.Billboard    0\ndtype: int64"
     },
     "metadata": {},
     "output_type": "display_data"
    },
    {
     "data": {
      "text/plain": "<AxesSubplot:>"
     },
     "metadata": {},
     "output_type": "display_data"
    },
    {
     "data": {
      "text/plain": "<Figure size 640x480 with 2 Axes>",
      "image/png": "[encoded data removed]"
     },
     "metadata": {},
     "output_type": "display_data"
    }
   ],
   "source": [
    "display(songs.isna().sum())\n",
    "display(sb.heatmap(songs.isna(), cmap='cividis'))"
   ],
   "metadata": {
    "collapsed": false,
    "pycharm": {
     "name": "#%%\n"
    }
   }
  },
  {
   "cell_type": "markdown",
   "source": [
    "How many songs from The Beatles early years are there?"
   ],
   "metadata": {
    "collapsed": false,
    "pycharm": {
     "name": "#%% md\n"
    }
   }
  },
  {
   "cell_type": "code",
   "execution_count": 29,
   "outputs": [
    {
     "data": {
      "text/plain": "                          Title  Year  Album.debut  Duration  Other.releases  \\\n7               Ain't She Sweet  1961  Anthology 1       150               9   \n38                      Cayenne  1960  Anthology 1       144               0   \n47             Cry for a Shadow  1961  Anthology 1       140               0   \n87    Hallelujah, I Love Her So  1960  Anthology 1       155               0   \n144  In Spite of All the Danger  1958  Anthology 1       164               0   \n187                   My Bonnie  1961  Anthology 1       150              13   \n252          That'll Be the Day  1958  Anthology 1       136               0   \n289              Winston's Walk  1960           No       150               0   \n304              You'll Be Mine  1960  Anthology 1        98               0   \n\n                                       Genre                  Songwriter  \\\n7                                   Pop/Rock                Yellen, Ager   \n38               Instrumental Rock, Pop/Rock                   McCartney   \n47               Instrumental Rock, Pop/Rock         Lennon and Harrison   \n87                Blues, Jazz, R&B, Pop/Rock                     Charles   \n144  Skiffle, Blues, Rock and Roll, Pop/Rock      McCartney and Harrison   \n187                  Rock and Roll, Pop/Rock  Traditional, arr. Sheridan   \n252      Rock and Roll, Rockabilly, Pop/Rock       Allison, Holly, Petty   \n289                                      NaN                      Lennon   \n304              R&B, Experimental, Pop/Rock        Lennon and McCartney   \n\n    Lead.vocal  Top.50.Billboard  \n7       Lennon                41  \n38         NaN                -1  \n47         NaN                -1  \n87   McCartney                -1  \n144     Lennon                -1  \n187   Sheridan                45  \n252     Lennon                -1  \n289        NaN                -1  \n304  McCartney                -1  ",
      "text/html": "<div>\n<style scoped>\n    .dataframe tbody tr th:only-of-type {\n        vertical-align: middle;\n    }\n\n    .dataframe tbody tr th {\n        vertical-align: top;\n    }\n\n    .dataframe thead th {\n        text-align: right;\n    }\n</style>\n<table border=\"1\" class=\"dataframe\">\n  <thead>\n    <tr style=\"text-align: right;\">\n      <th></th>\n      <th>Title</th>\n      <th>Year</th>\n      <th>Album.debut</th>\n      <th>Duration</th>\n      <th>Other.releases</th>\n      <th>Genre</th>\n      <th>Songwriter</th>\n      <th>Lead.vocal</th>\n      <th>Top.50.Billboard</th>\n    </tr>\n  </thead>\n  <tbody>\n    <tr>\n      <th>7</th>\n      <td>Ain't She Sweet</td>\n      <td>1961</td>\n      <td>Anthology 1</td>\n      <td>150</td>\n      <td>9</td>\n      <td>Pop/Rock</td>\n      <td>Yellen, Ager</td>\n      <td>Lennon</td>\n      <td>41</td>\n    </tr>\n    <tr>\n      <th>38</th>\n      <td>Cayenne</td>\n      <td>1960</td>\n      <td>Anthology 1</td>\n      <td>144</td>\n      <td>0</td>\n      <td>Instrumental Rock, Pop/Rock</td>\n      <td>McCartney</td>\n      <td>NaN</td>\n      <td>-1</td>\n    </tr>\n    <tr>\n      <th>47</th>\n      <td>Cry for a Shadow</td>\n      <td>1961</td>\n      <td>Anthology 1</td>\n      <td>140</td>\n      <td>0</td>\n      <td>Instrumental Rock, Pop/Rock</td>\n      <td>Lennon and Harrison</td>\n      <td>NaN</td>\n      <td>-1</td>\n    </tr>\n    <tr>\n      <th>87</th>\n      <td>Hallelujah, I Love Her So</td>\n      <td>1960</td>\n      <td>Anthology 1</td>\n      <td>155</td>\n      <td>0</td>\n      <td>Blues, Jazz, R&amp;B, Pop/Rock</td>\n      <td>Charles</td>\n      <td>McCartney</td>\n      <td>-1</td>\n    </tr>\n    <tr>\n      <th>144</th>\n      <td>In Spite of All the Danger</td>\n      <td>1958</td>\n      <td>Anthology 1</td>\n      <td>164</td>\n      <td>0</td>\n      <td>Skiffle, Blues, Rock and Roll, Pop/Rock</td>\n      <td>McCartney and Harrison</td>\n      <td>Lennon</td>\n      <td>-1</td>\n    </tr>\n    <tr>\n      <th>187</th>\n      <td>My Bonnie</td>\n      <td>1961</td>\n      <td>Anthology 1</td>\n      <td>150</td>\n      <td>13</td>\n      <td>Rock and Roll, Pop/Rock</td>\n      <td>Traditional, arr. Sheridan</td>\n      <td>Sheridan</td>\n      <td>45</td>\n    </tr>\n    <tr>\n      <th>252</th>\n      <td>That'll Be the Day</td>\n      <td>1958</td>\n      <td>Anthology 1</td>\n      <td>136</td>\n      <td>0</td>\n      <td>Rock and Roll, Rockabilly, Pop/Rock</td>\n      <td>Allison, Holly, Petty</td>\n      <td>Lennon</td>\n      <td>-1</td>\n    </tr>\n    <tr>\n      <th>289</th>\n      <td>Winston's Walk</td>\n      <td>1960</td>\n      <td>No</td>\n      <td>150</td>\n      <td>0</td>\n      <td>NaN</td>\n      <td>Lennon</td>\n      <td>NaN</td>\n      <td>-1</td>\n    </tr>\n    <tr>\n      <th>304</th>\n      <td>You'll Be Mine</td>\n      <td>1960</td>\n      <td>Anthology 1</td>\n      <td>98</td>\n      <td>0</td>\n      <td>R&amp;B, Experimental, Pop/Rock</td>\n      <td>Lennon and McCartney</td>\n      <td>McCartney</td>\n      <td>-1</td>\n    </tr>\n  </tbody>\n</table>\n</div>"
     },
     "metadata": {},
     "output_type": "display_data"
    },
    {
     "data": {
      "text/plain": "9"
     },
     "metadata": {},
     "output_type": "display_data"
    }
   ],
   "source": [
    "early_years = [year for year in range(1957, 1962)]\n",
    "# display(songs.loc[songs['Year'].isin(early_years)])\n",
    "display(songs.loc[songs.Year.isin(early_years)])\n",
    "display(len(songs.loc[songs.Year.isin(early_years)]))"
   ],
   "metadata": {
    "collapsed": false,
    "pycharm": {
     "name": "#%%\n"
    }
   }
  },
  {
   "cell_type": "markdown",
   "source": [
    "### Data visualization\n",
    "Plot some line plots, bargraphs, histograms, scatterplots, boxplots, violins, heatpaps,...\n",
    "[Example](https://www.analyticsvidhya.com/blog/2021/08/how-to-perform-exploratory-data-analysis-a-guide-for-beginners/)\n",
    "\n",
    "<u>**Note that it is also possible to [plot lines, bargraphs,... with Pandas only](https://pandas.pydata.org/docs/reference/api/pandas.DataFrame.plot.line.html)**</u> (although in such cases Pandas interacts with Matplotlib under the surface)."
   ],
   "metadata": {
    "collapsed": false,
    "pycharm": {
     "name": "#%% md\n"
    }
   }
  },
  {
   "cell_type": "markdown",
   "source": [
    "##### Line plot"
   ],
   "metadata": {
    "collapsed": false,
    "pycharm": {
     "name": "#%% md\n"
    }
   }
  },
  {
   "cell_type": "markdown",
   "source": [
    "How many songs from 1964 are there?"
   ],
   "metadata": {
    "collapsed": false,
    "pycharm": {
     "name": "#%% md\n"
    }
   }
  },
  {
   "cell_type": "code",
   "execution_count": 12,
   "outputs": [
    {
     "data": {
      "text/plain": "1963    66\n1968    45\n1969    43\n1964    41\n1965    37\n1967    27\n1962    20\n1966    19\n1960     4\n1961     3\n1958     2\n1977     1\n1970     1\n1980     1\nName: Year, dtype: int64"
     },
     "metadata": {},
     "output_type": "display_data"
    },
    {
     "data": {
      "text/plain": "pandas.core.series.Series"
     },
     "metadata": {},
     "output_type": "display_data"
    },
    {
     "data": {
      "text/plain": "41"
     },
     "metadata": {},
     "output_type": "display_data"
    }
   ],
   "source": [
    "display(songs['Year'].value_counts())\n",
    "display(type(songs['Year'].value_counts()))\n",
    "display(songs['Year'].value_counts()[1964])"
   ],
   "metadata": {
    "collapsed": false,
    "pycharm": {
     "name": "#%%\n"
    }
   }
  },
  {
   "cell_type": "markdown",
   "source": [
    "Sort this result by index: `pd.Series.sort_index()` (there is also `pd.DataFrame.sort_index()`)."
   ],
   "metadata": {
    "collapsed": false,
    "pycharm": {
     "name": "#%% md\n"
    }
   }
  },
  {
   "cell_type": "code",
   "execution_count": 13,
   "outputs": [
    {
     "data": {
      "text/plain": "1958     2\n1960     4\n1961     3\n1962    20\n1963    66\n1964    41\n1965    37\n1966    19\n1967    27\n1968    45\n1969    43\n1970     1\n1977     1\n1980     1\nName: Year, dtype: int64"
     },
     "metadata": {},
     "output_type": "display_data"
    }
   ],
   "source": [
    "val_counts_sorted_by_index = songs['Year'].value_counts().sort_index()\n",
    "display(val_counts_sorted_by_index)"
   ],
   "metadata": {
    "collapsed": false,
    "pycharm": {
     "name": "#%%\n"
    }
   }
  },
  {
   "cell_type": "markdown",
   "source": [
    "Preparation for plotting: get the `ndarray` version of `val_counts_sorted_by_index`."
   ],
   "metadata": {
    "collapsed": false,
    "pycharm": {
     "name": "#%% md\n"
    }
   }
  },
  {
   "cell_type": "code",
   "execution_count": 14,
   "outputs": [
    {
     "data": {
      "text/plain": "array([ 2,  4,  3, 20, 66, 41, 37, 19, 27, 45, 43,  1,  1,  1],\n      dtype=int64)"
     },
     "metadata": {},
     "output_type": "display_data"
    },
    {
     "data": {
      "text/plain": "array([1958, 1960, 1961, 1962, 1963, 1964, 1965, 1966, 1967, 1968, 1969,\n       1970, 1977, 1980], dtype=int64)"
     },
     "metadata": {},
     "output_type": "display_data"
    }
   ],
   "source": [
    "counts = np.array(val_counts_sorted_by_index)\n",
    "display(counts)\n",
    "# display(type(val_counts_sorted_by_index))\n",
    "\n",
    "year = np.array(val_counts_sorted_by_index.index)\n",
    "display(year)"
   ],
   "metadata": {
    "collapsed": false,
    "pycharm": {
     "name": "#%%\n"
    }
   }
  },
  {
   "cell_type": "markdown",
   "source": [
    "And now plot it."
   ],
   "metadata": {
    "collapsed": false,
    "pycharm": {
     "name": "#%% md\n"
    }
   }
  },
  {
   "cell_type": "code",
   "execution_count": 15,
   "outputs": [
    {
     "data": {
      "text/plain": "<Figure size 640x480 with 1 Axes>",
      "image/png": "[encoded data removed]"
     },
     "metadata": {},
     "output_type": "display_data"
    }
   ],
   "source": [
    "ax = plt.axes()\n",
    "\n",
    "ax.set(xlim=(1961, 1980), ylim=(0, 70),\n",
    "       xlabel='year', ylabel='counts',\n",
    "       title='Number of songs recorded over the years')\n",
    "\n",
    "# ax.plot(years_1962_1970, avg_duration);\n",
    "ax.plot(year, counts, color='steelblue', linewidth=3, alpha=0.8);    # alpha: transparency (0-1)"
   ],
   "metadata": {
    "collapsed": false,
    "pycharm": {
     "name": "#%%\n"
    }
   }
  },
  {
   "cell_type": "markdown",
   "source": [
    "Plot 2 versions of the diagram in 2 subplots (after [this](https://jakevdp.github.io/PythonDataScienceHandbook/04.08-multiple-subplots.html))."
   ],
   "metadata": {
    "collapsed": false,
    "pycharm": {
     "name": "#%% md\n"
    }
   }
  },
  {
   "cell_type": "code",
   "execution_count": 19,
   "outputs": [
    {
     "data": {
      "text/plain": "<Figure size 640x480 with 2 Axes>",
      "image/png": "[encoded data removed]"
     },
     "metadata": {},
     "output_type": "display_data"
    }
   ],
   "source": [
    "# # From https://jakevdp.github.io/PythonDataScienceHandbook/04.08-multiple-subplots.html\n",
    "# fig = plt.figure()\n",
    "# ax1 = fig.add_axes([0.1, 0.55, 0.8, 0.4],\n",
    "#                    xticklabels=[], ylim=(-1.2, 1.2))\n",
    "# ax2 = fig.add_axes([0.1, 0.1, 0.8, 0.4],\n",
    "#                    ylim=(-1.2, 1.2))\n",
    "# # Meanings of the numbers in [0.1, 0.55, 0.8, 0.4]:\n",
    "# #     0.1 - distance from the left edge of fig (grey area)\n",
    "# #     0.55 - distance between the upper and lower subplots (0.5: they touch each other)\n",
    "# #     0.8 - distance from the right edge of fig (grey area)\n",
    "# #     0.4 - area assigned to the upper/lower subplot (ax1/ax2) along the vertical axes\n",
    "# # Experiment with these numbers to get a better feeling for them\n",
    "#\n",
    "# x = np.linspace(0, 10)\n",
    "# ax1.plot(np.sin(x))\n",
    "# ax2.plot(np.cos(x));\n",
    "\n",
    "\n",
    "# fig, ax = plt.subplots()\n",
    "# ax\n",
    "\n",
    "fig = plt.figure()\n",
    "# fig\n",
    "ax1 = fig.add_axes([0.1, 0.65, 0.8, 0.4],\n",
    "                   xlim=(1961, 1980), ylim=(0, 70),\n",
    "                   xlabel='year', ylabel='counts',\n",
    "                   title='Number of songs recorded over the years')\n",
    "ax2 = fig.add_axes([0.1, 0.1, 0.8, 0.4],\n",
    "                   xlim=(1961, 1970), ylim=(0, 70),\n",
    "                   xlabel='year', ylabel='counts',\n",
    "                   title='Number of songs recorded over the years')\n",
    "# display(type(ax1))\n",
    "\n",
    "ax1.plot(year, counts, color='steelblue', linewidth=3, alpha=0.8)    # alpha: transparency (0-1)\n",
    "ax2.plot(year, counts, color='purple', linewidth=3, alpha=0.8);    # alpha: transparency (0-1)"
   ],
   "metadata": {
    "collapsed": false,
    "pycharm": {
     "name": "#%%\n"
    }
   }
  },
  {
   "cell_type": "markdown",
   "source": [
    "Smoothen the curves. Based on [this](https://stackoverflow.com/a/5284038/1899061).\n",
    "\n",
    "`from scipy.interpolate import make_interp_spline, BSpline`\n",
    "\n",
    "`<x> = <definition of x-axis variable>`\n",
    "`<y> = <definition of y-axis variable>`\n",
    "\n",
    "`<x_smooth> = np.linspace(<x>.min(), <x>max(), 300)`&emsp;&emsp;&emsp;&emsp;# 300: the number of points to make between `<x>.min() and <x>.max()`\n",
    "`spl = make_interp_spline(year, counts, k=3)`&emsp;&emsp;&emsp;&emsp;&emsp;&emsp;&emsp; # type: BSpline\n",
    "`<y_smooth> = spl(<x>_smooth)`\n",
    "\n",
    "`plt.xlim([<lowest value of x to show on the plot>, <highest value of x to show on the plot>])`\n",
    "`plt.ylim([<lowest value of y to show on the plot>, <highest value of x to show on the plot>])`\n",
    "\n",
    "`plt.plot(<x_smooth>, <y_smooth>)`\n",
    "`plt.plot(<x>, <y>)`&emsp;&emsp;&emsp;&emsp;&emsp;&emsp;&emsp;&emsp;&emsp;&emsp;&emsp;&emsp;&emsp;&emsp;&emsp;&emsp;&emsp;&emsp;&emsp;# optional: show the segmented line on the same plot as well\n",
    "`plt.show()`\n",
    "\n"
   ],
   "metadata": {
    "collapsed": false,
    "pycharm": {
     "name": "#%% md\n"
    }
   }
  },
  {
   "cell_type": "code",
   "execution_count": 28,
   "outputs": [
    {
     "data": {
      "text/plain": "<Figure size 640x480 with 1 Axes>",
      "image/png": "[encoded data removed]"
     },
     "metadata": {},
     "output_type": "display_data"
    }
   ],
   "source": [
    "# # 300 represents the number of points to make between T.min and T.max\n",
    "# T = np.array([6, 7, 8, 9, 10, 11, 12])\n",
    "# power = np.array([1.53E+03, 5.92E+02, 2.04E+02, 7.24E+01, 2.72E+01, 1.10E+01, 4.70E+00])\n",
    "#\n",
    "# # plt.plot(T,power)\n",
    "# # plt.show()\n",
    "#\n",
    "# xnew = np.linspace(T.min(), T.max(), 300)\n",
    "#\n",
    "# spl = make_interp_spline(T, power, k=3)  # type: BSpline\n",
    "# power_smooth = spl(xnew)\n",
    "#\n",
    "# plt.plot(xnew, power_smooth)\n",
    "# plt.show()\n",
    "\n",
    "from scipy.interpolate import make_interp_spline, BSpline\n",
    "\n",
    "year_smooth = np.linspace(year.min(), year.max(), 300)\n",
    "spl = make_interp_spline(year, counts, k=3)  # type: BSpline\n",
    "counts_smooth = spl(year_smooth)\n",
    "\n",
    "plt.xlim([1961, 1980])\n",
    "plt.ylim([0, 70])\n",
    "\n",
    "plt.plot(year_smooth, counts_smooth)\n",
    "plt.plot(year, counts)\n",
    "plt.show()\n",
    "\n",
    "# For some reasons, this did not work\n",
    "# ax1.plot(year_smooth, counts_smooth, color='steelblue', linewidth=3, alpha=0.8)    # alpha: transparency (0-1)\n",
    "# display(type(ax1.plot(year_smooth, counts_smooth, color='steelblue', linewidth=3, alpha=0.8)))    # alpha: transparency (0-1)\n",
    "# # ax1.show()"
   ],
   "metadata": {
    "collapsed": false,
    "pycharm": {
     "name": "#%%\n"
    }
   }
  },
  {
   "cell_type": "markdown",
   "source": [
    "##### Histogram"
   ],
   "metadata": {
    "collapsed": false,
    "pycharm": {
     "name": "#%% md\n"
    }
   },
   "outputs": []
  },
  {
   "cell_type": "markdown",
   "source": [
    "Use Pandas to extract song lengths as a NumPy array."
   ],
   "metadata": {
    "collapsed": false,
    "pycharm": {
     "name": "#%% md\n"
    }
   }
  },
  {
   "cell_type": "code",
   "execution_count": 4,
   "outputs": [
    {
     "name": "stdout",
     "output_type": "stream",
     "text": [
      "0    174\n",
      "1    335\n",
      "2    152\n",
      "3    104\n",
      "4    163\n",
      "Name: Duration, dtype: int64\n"
     ]
    }
   ],
   "source": [
    "# Get the song lengths as a pd.Series object\n",
    "lengths = songs['Duration']\n",
    "print(lengths.head())"
   ],
   "metadata": {
    "collapsed": false,
    "pycharm": {
     "name": "#%%\n"
    }
   }
  },
  {
   "cell_type": "code",
   "execution_count": 5,
   "outputs": [
    {
     "name": "stdout",
     "output_type": "stream",
     "text": [
      "<class 'numpy.ndarray'>\n",
      "(310,)\n"
     ]
    }
   ],
   "source": [
    "# Convert the song lengths into a NumPy array\n",
    "times = lengths.values\n",
    "print(type(times))\n",
    "print(times.shape)"
   ],
   "metadata": {
    "collapsed": false,
    "pycharm": {
     "name": "#%%\n"
    }
   }
  },
  {
   "cell_type": "markdown",
   "metadata": {
    "pycharm": {
     "name": "#%% md\n"
    }
   },
   "source": [
    "Plot the histogram of the song lengths using Matplotlib.\n",
    "\n",
    "As for the plot styles, there are a lot of [available styles](https://www.dunderdata.com/blog/view-all-available-matplotlib-styles) that can be also shown in code using `plt.style.available`. See also [this](https://www.analyticsvidhya.com/blog/2021/08/exploring-matplotlib-stylesheets-for-data-visualization/).\n",
    "\n",
    "Alternatively, plot style can be set using `sb.set_theme()` (or just `sb.set()`, but that function might get deprecated and removed from *seaborn* in the future). See [`sb_set_theme()` documentation](https://seaborn.pydata.org/generated/seaborn.set_theme.html) for the function's parameters and defaults."
   ]
  },
  {
   "cell_type": "code",
   "execution_count": 20,
   "metadata": {
    "scrolled": true,
    "pycharm": {
     "name": "#%%\n"
    }
   },
   "outputs": [
    {
     "data": {
      "text/plain": "<Figure size 640x480 with 1 Axes>",
      "image/png": "[encoded data removed]"
     },
     "metadata": {},
     "output_type": "display_data"
    }
   ],
   "source": [
    "# Set plot style using sb.set_theme()\n",
    "sb.set_theme()\n",
    "# Plot the histogram - x: song time in [sec]; y: number of songs; 40 bins\n",
    "plt.hist(times, 40);"
   ]
  },
  {
   "cell_type": "markdown",
   "source": [
    "Plot the histogram of the song lengths using *plotnine*.\n",
    "[Excellent tutorial on plotnine](https://realpython.com/ggplot-python/)."
   ],
   "metadata": {
    "collapsed": false,
    "pycharm": {
     "name": "#%% md\n"
    }
   }
  },
  {
   "cell_type": "code",
   "execution_count": 7,
   "outputs": [
    {
     "data": {
      "text/plain": "<Figure size 640x480 with 1 Axes>",
      "image/png": "[encoded data removed]"
     },
     "metadata": {},
     "output_type": "display_data"
    },
    {
     "data": {
      "text/plain": "<ggplot: (149834009288)>"
     },
     "execution_count": 7,
     "metadata": {},
     "output_type": "execute_result"
    }
   ],
   "source": [
    "# plot = ggplot(songs, aes(x='Duration'))\n",
    "# plot + geom_histogram(bins=40)\n",
    "ggplot(songs, aes(x='Duration')) + \\\n",
    "    geom_histogram(bins=40,\n",
    "                     fill='blue',\n",
    "                     # color='black',\n",
    "                     color='white',\n",
    "                     # size=2,\n",
    "                     alpha=0.5)"
   ],
   "metadata": {
    "collapsed": false,
    "pycharm": {
     "name": "#%%\n"
    }
   }
  },
  {
   "cell_type": "markdown",
   "source": [
    "To avoid the annoying text output like `<ggplot: (177159008578)>` under the plot, use the following syntax:"
   ],
   "metadata": {
    "collapsed": false,
    "pycharm": {
     "name": "#%% md\n"
    }
   }
  },
  {
   "cell_type": "code",
   "execution_count": 8,
   "outputs": [
    {
     "data": {
      "text/plain": "<Figure size 640x480 with 1 Axes>",
      "image/png": "[encoded data removed]"
     },
     "metadata": {},
     "output_type": "display_data"
    }
   ],
   "source": [
    "(\n",
    "        ggplot(songs, aes(x='Duration')) + \\\n",
    "            geom_histogram(bins=40,\n",
    "                          fill='blue',\n",
    "                          # color='black',\n",
    "                          color='white',\n",
    "                          # size=2,\n",
    "                          alpha=0.5)\n",
    ").draw();"
   ],
   "metadata": {
    "collapsed": false,
    "pycharm": {
     "name": "#%%\n"
    }
   }
  },
  {
   "cell_type": "markdown",
   "source": [
    "##### Scatterplot"
   ],
   "metadata": {
    "collapsed": false,
    "pycharm": {
     "name": "#%% md\n"
    }
   }
  },
  {
   "cell_type": "markdown",
   "source": [
    "Read a slightly different dataset."
   ],
   "metadata": {
    "collapsed": false,
    "pycharm": {
     "name": "#%% md\n"
    }
   }
  },
  {
   "cell_type": "code",
   "execution_count": 31,
   "outputs": [
    {
     "data": {
      "text/plain": "                                 Title  Year  \\\n0                      12-Bar Original  1965   \n1                    A Day in the Life  1967   \n2                   A Hard Day's Night  1964   \n3           A Shot of Rhythm and Blues  1963   \n4                     A Taste of Honey  1963   \n..                                 ...   ...   \n305     You're Going to Lose That Girl  1965   \n306  You've Got to Hide Your Love Away  1965   \n307     You've Really Got a Hold on Me  1963   \n308                        Young Blood  1963   \n309            Your Mother Should Know  1967   \n\n                                           Album.debut  Duration  \\\n0                                          Anthology 2       174   \n1                Sgt. Pepper's Lonely Hearts Club Band       335   \n2                 UK: A Hard Day's Night US: 1962-1966       152   \n3                                      Live at the BBC       104   \n4           UK: Please Please Me US: The Early Beatles       163   \n..                                                 ...       ...   \n305                                              Help!       140   \n306                                              Help!       131   \n307  UK: With the Beatles US: The Beatles Second Album       182   \n308                                    Live at the BBC       116   \n309                               Magical Mystery Tour       149   \n\n     Other.releases                                              Genre  \\\n0                 0                                              Blues   \n1                12               Psychedelic Rock, Art Rock, Pop/Rock   \n2                35                         Rock, Electronic, Pop/Rock   \n3                 0                                      R&B, Pop/Rock   \n4                29                       Pop/Rock, Jazz, Stage&Screen   \n..              ...                                                ...   \n305               6                                     Rock, Pop/Rock   \n306              12                                       FolkPop/Rock   \n307               2                                     Soul, Pop/Rock   \n308               0                                           Pop/Rock   \n309              13  Music Hall, Vaudeville Rock, Psychedelic Pop, ...   \n\n                                  Songwriter              Lead.vocal  \\\n0    Lennon, McCartney, Harrison and Starkey                     NaN   \n1                       Lennon and McCartney    Lennon and McCartney   \n2                                     Lennon  Lennon, with McCartney   \n3                                   Thompson                  Lennon   \n4                              Scott, Marlow               McCartney   \n..                                       ...                     ...   \n305                                   Lennon                  Lennon   \n306                                   Lennon                  Lennon   \n307                                 Robinson     Lennon and Harrison   \n308                          Leiber, Stoller                Harrison   \n309                                McCartney               McCartney   \n\n     Top.50.Billboard  \n0                  -1  \n1                  -1  \n2                   8  \n3                  -1  \n4                  -1  \n..                ...  \n305                -1  \n306                -1  \n307                -1  \n308                -1  \n309                -1  \n\n[310 rows x 9 columns]",
      "text/html": "<div>\n<style scoped>\n    .dataframe tbody tr th:only-of-type {\n        vertical-align: middle;\n    }\n\n    .dataframe tbody tr th {\n        vertical-align: top;\n    }\n\n    .dataframe thead th {\n        text-align: right;\n    }\n</style>\n<table border=\"1\" class=\"dataframe\">\n  <thead>\n    <tr style=\"text-align: right;\">\n      <th></th>\n      <th>Title</th>\n      <th>Year</th>\n      <th>Album.debut</th>\n      <th>Duration</th>\n      <th>Other.releases</th>\n      <th>Genre</th>\n      <th>Songwriter</th>\n      <th>Lead.vocal</th>\n      <th>Top.50.Billboard</th>\n    </tr>\n  </thead>\n  <tbody>\n    <tr>\n      <th>0</th>\n      <td>12-Bar Original</td>\n      <td>1965</td>\n      <td>Anthology 2</td>\n      <td>174</td>\n      <td>0</td>\n      <td>Blues</td>\n      <td>Lennon, McCartney, Harrison and Starkey</td>\n      <td>NaN</td>\n      <td>-1</td>\n    </tr>\n    <tr>\n      <th>1</th>\n      <td>A Day in the Life</td>\n      <td>1967</td>\n      <td>Sgt. Pepper's Lonely Hearts Club Band</td>\n      <td>335</td>\n      <td>12</td>\n      <td>Psychedelic Rock, Art Rock, Pop/Rock</td>\n      <td>Lennon and McCartney</td>\n      <td>Lennon and McCartney</td>\n      <td>-1</td>\n    </tr>\n    <tr>\n      <th>2</th>\n      <td>A Hard Day's Night</td>\n      <td>1964</td>\n      <td>UK: A Hard Day's Night US: 1962-1966</td>\n      <td>152</td>\n      <td>35</td>\n      <td>Rock, Electronic, Pop/Rock</td>\n      <td>Lennon</td>\n      <td>Lennon, with McCartney</td>\n      <td>8</td>\n    </tr>\n    <tr>\n      <th>3</th>\n      <td>A Shot of Rhythm and Blues</td>\n      <td>1963</td>\n      <td>Live at the BBC</td>\n      <td>104</td>\n      <td>0</td>\n      <td>R&amp;B, Pop/Rock</td>\n      <td>Thompson</td>\n      <td>Lennon</td>\n      <td>-1</td>\n    </tr>\n    <tr>\n      <th>4</th>\n      <td>A Taste of Honey</td>\n      <td>1963</td>\n      <td>UK: Please Please Me US: The Early Beatles</td>\n      <td>163</td>\n      <td>29</td>\n      <td>Pop/Rock, Jazz, Stage&amp;Screen</td>\n      <td>Scott, Marlow</td>\n      <td>McCartney</td>\n      <td>-1</td>\n    </tr>\n    <tr>\n      <th>...</th>\n      <td>...</td>\n      <td>...</td>\n      <td>...</td>\n      <td>...</td>\n      <td>...</td>\n      <td>...</td>\n      <td>...</td>\n      <td>...</td>\n      <td>...</td>\n    </tr>\n    <tr>\n      <th>305</th>\n      <td>You're Going to Lose That Girl</td>\n      <td>1965</td>\n      <td>Help!</td>\n      <td>140</td>\n      <td>6</td>\n      <td>Rock, Pop/Rock</td>\n      <td>Lennon</td>\n      <td>Lennon</td>\n      <td>-1</td>\n    </tr>\n    <tr>\n      <th>306</th>\n      <td>You've Got to Hide Your Love Away</td>\n      <td>1965</td>\n      <td>Help!</td>\n      <td>131</td>\n      <td>12</td>\n      <td>FolkPop/Rock</td>\n      <td>Lennon</td>\n      <td>Lennon</td>\n      <td>-1</td>\n    </tr>\n    <tr>\n      <th>307</th>\n      <td>You've Really Got a Hold on Me</td>\n      <td>1963</td>\n      <td>UK: With the Beatles US: The Beatles Second Album</td>\n      <td>182</td>\n      <td>2</td>\n      <td>Soul, Pop/Rock</td>\n      <td>Robinson</td>\n      <td>Lennon and Harrison</td>\n      <td>-1</td>\n    </tr>\n    <tr>\n      <th>308</th>\n      <td>Young Blood</td>\n      <td>1963</td>\n      <td>Live at the BBC</td>\n      <td>116</td>\n      <td>0</td>\n      <td>Pop/Rock</td>\n      <td>Leiber, Stoller</td>\n      <td>Harrison</td>\n      <td>-1</td>\n    </tr>\n    <tr>\n      <th>309</th>\n      <td>Your Mother Should Know</td>\n      <td>1967</td>\n      <td>Magical Mystery Tour</td>\n      <td>149</td>\n      <td>13</td>\n      <td>Music Hall, Vaudeville Rock, Psychedelic Pop, ...</td>\n      <td>McCartney</td>\n      <td>McCartney</td>\n      <td>-1</td>\n    </tr>\n  </tbody>\n</table>\n<p>310 rows × 9 columns</p>\n</div>"
     },
     "metadata": {},
     "output_type": "display_data"
    }
   ],
   "source": [
    "songs = pd.read_csv('data/The Beatles songs dataset, v2, no NAs.csv')\n",
    "display(songs)"
   ],
   "metadata": {
    "collapsed": false,
    "pycharm": {
     "name": "#%%\n"
    }
   }
  },
  {
   "cell_type": "markdown",
   "source": [
    "Check for missing values."
   ],
   "metadata": {
    "collapsed": false,
    "pycharm": {
     "name": "#%% md\n"
    }
   }
  },
  {
   "cell_type": "code",
   "execution_count": 34,
   "outputs": [
    {
     "data": {
      "text/plain": "<AxesSubplot:>"
     },
     "metadata": {},
     "output_type": "display_data"
    },
    {
     "data": {
      "text/plain": "<Figure size 640x480 with 1 Axes>",
      "image/png": "[encoded data removed]"
     },
     "metadata": {},
     "output_type": "display_data"
    }
   ],
   "source": [
    "display(sb.heatmap(songs.isna(), cmap='viridis', cbar=False))"
   ],
   "metadata": {
    "collapsed": false,
    "pycharm": {
     "name": "#%%\n"
    }
   }
  },
  {
   "cell_type": "markdown",
   "source": [
    "Scatterplot the relationship between `Duration` and `Other.releases`."
   ],
   "metadata": {
    "collapsed": false,
    "pycharm": {
     "name": "#%% md\n"
    }
   }
  },
  {
   "cell_type": "markdown",
   "source": [
    "To set the ranges of values on x-axis and y-axis (`Duration`, `Other.releases`), check the max values.\n"
   ],
   "metadata": {
    "collapsed": false,
    "pycharm": {
     "name": "#%% md\n"
    }
   }
  },
  {
   "cell_type": "code",
   "execution_count": 39,
   "outputs": [
    {
     "data": {
      "text/plain": "502"
     },
     "metadata": {},
     "output_type": "display_data"
    },
    {
     "data": {
      "text/plain": "56"
     },
     "metadata": {},
     "output_type": "display_data"
    }
   ],
   "source": [
    "display(songs['Duration'].max())\n",
    "display(songs['Other.releases'].max())"
   ],
   "metadata": {
    "collapsed": false,
    "pycharm": {
     "name": "#%%\n"
    }
   }
  },
  {
   "cell_type": "code",
   "execution_count": 48,
   "outputs": [
    {
     "data": {
      "text/plain": "<Figure size 640x480 with 1 Axes>",
      "image/png": "[encoded data removed]"
     },
     "metadata": {},
     "output_type": "display_data"
    }
   ],
   "source": [
    "ax = plt.axes()\n",
    "\n",
    "ax.set(xlim=(0, 510), ylim=(0, 60),\n",
    "       xlabel='Duration', ylabel='Other.releases',\n",
    "       title='Other releases as a function of song duration')\n",
    "\n",
    "# The color parameter is optional; if present, it should be a sequence of length consistent with the lengths of <x> and <y> ((<x>, <y>) points)\n",
    "ax.scatter(songs['Duration'], songs['Other.releases']);                                     # default color\n",
    "# ax.scatter(songs['Duration'], songs['Other.releases'], color='steelblue');                  # set the color manually\n",
    "# ax.scatter(songs['Duration'], songs['Other.releases'], color=('steelblue', 'red')*155);     # set the colors manually (a sequence of 2 colors)"
   ],
   "metadata": {
    "collapsed": false,
    "pycharm": {
     "name": "#%%\n"
    }
   }
  },
  {
   "cell_type": "markdown",
   "source": [
    "What are the shortest/longest songs and their durations?"
   ],
   "metadata": {
    "collapsed": false,
    "pycharm": {
     "name": "#%% md\n"
    }
   }
  },
  {
   "cell_type": "code",
   "execution_count": 62,
   "outputs": [
    {
     "data": {
      "text/plain": "                Title  Duration\n53             Dig It        51\n94        Her Majesty        23\n173        Maggie Mae        40\n179  Mean Mr. Mustard        66\n288    Wild Honey Pie        52",
      "text/html": "<div>\n<style scoped>\n    .dataframe tbody tr th:only-of-type {\n        vertical-align: middle;\n    }\n\n    .dataframe tbody tr th {\n        vertical-align: top;\n    }\n\n    .dataframe thead th {\n        text-align: right;\n    }\n</style>\n<table border=\"1\" class=\"dataframe\">\n  <thead>\n    <tr style=\"text-align: right;\">\n      <th></th>\n      <th>Title</th>\n      <th>Duration</th>\n    </tr>\n  </thead>\n  <tbody>\n    <tr>\n      <th>53</th>\n      <td>Dig It</td>\n      <td>51</td>\n    </tr>\n    <tr>\n      <th>94</th>\n      <td>Her Majesty</td>\n      <td>23</td>\n    </tr>\n    <tr>\n      <th>173</th>\n      <td>Maggie Mae</td>\n      <td>40</td>\n    </tr>\n    <tr>\n      <th>179</th>\n      <td>Mean Mr. Mustard</td>\n      <td>66</td>\n    </tr>\n    <tr>\n      <th>288</th>\n      <td>Wild Honey Pie</td>\n      <td>52</td>\n    </tr>\n  </tbody>\n</table>\n</div>"
     },
     "metadata": {},
     "output_type": "display_data"
    },
    {
     "data": {
      "text/plain": "                           Title  Duration\n98                      Hey Jude       431\n120  I Want You (She's So Heavy)       467\n212                 Revolution 9       502",
      "text/html": "<div>\n<style scoped>\n    .dataframe tbody tr th:only-of-type {\n        vertical-align: middle;\n    }\n\n    .dataframe tbody tr th {\n        vertical-align: top;\n    }\n\n    .dataframe thead th {\n        text-align: right;\n    }\n</style>\n<table border=\"1\" class=\"dataframe\">\n  <thead>\n    <tr style=\"text-align: right;\">\n      <th></th>\n      <th>Title</th>\n      <th>Duration</th>\n    </tr>\n  </thead>\n  <tbody>\n    <tr>\n      <th>98</th>\n      <td>Hey Jude</td>\n      <td>431</td>\n    </tr>\n    <tr>\n      <th>120</th>\n      <td>I Want You (She's So Heavy)</td>\n      <td>467</td>\n    </tr>\n    <tr>\n      <th>212</th>\n      <td>Revolution 9</td>\n      <td>502</td>\n    </tr>\n  </tbody>\n</table>\n</div>"
     },
     "metadata": {},
     "output_type": "display_data"
    }
   ],
   "source": [
    "# display(songs[songs['Duration'] <= 70]['Title'])                      # select one column\n",
    "# display(songs[songs['Duration'] >= 400]['Title'])                     # select one column\n",
    "display(songs[songs['Duration'] <= 70][['Title', 'Duration']])        # select multiple columns\n",
    "display(songs[songs['Duration'] >= 400][['Title', 'Duration']])       # select multiple columns"
   ],
   "metadata": {
    "collapsed": false,
    "pycharm": {
     "name": "#%%\n"
    }
   }
  },
  {
   "cell_type": "markdown",
   "source": [
    "##### Bargraph"
   ],
   "metadata": {
    "collapsed": false,
    "pycharm": {
     "name": "#%% md\n"
    }
   }
  },
  {
   "cell_type": "markdown",
   "source": [
    "How many Beatles songs have reached Billboard Top 50?"
   ],
   "metadata": {
    "collapsed": false,
    "pycharm": {
     "name": "#%% md\n"
    }
   }
  },
  {
   "cell_type": "markdown",
   "source": [
    "Read the dataset and make some minor transformations."
   ],
   "metadata": {
    "collapsed": false,
    "pycharm": {
     "name": "#%% md\n"
    }
   }
  },
  {
   "cell_type": "code",
   "execution_count": 37,
   "outputs": [
    {
     "data": {
      "text/plain": "                                 Title  Year  \\\n0                      12-Bar Original  1965   \n1                    A Day in the Life  1967   \n2                   A Hard Day's Night  1964   \n3           A Shot of Rhythm and Blues  1963   \n4                     A Taste of Honey  1963   \n..                                 ...   ...   \n305     You're Going to Lose That Girl  1965   \n306  You've Got to Hide Your Love Away  1965   \n307     You've Really Got a Hold on Me  1963   \n308                        Young Blood  1963   \n309            Your Mother Should Know  1967   \n\n                                           Album.debut  Duration  \\\n0                                          Anthology 2       174   \n1                Sgt. Pepper's Lonely Hearts Club Band       335   \n2                 UK: A Hard Day's Night US: 1962-1966       152   \n3                                      Live at the BBC       104   \n4           UK: Please Please Me US: The Early Beatles       163   \n..                                                 ...       ...   \n305                                              Help!       140   \n306                                              Help!       131   \n307  UK: With the Beatles US: The Beatles Second Album       182   \n308                                    Live at the BBC       116   \n309                               Magical Mystery Tour       149   \n\n     Other.releases                                              Genre  \\\n0                 0                                              Blues   \n1                12               Psychedelic Rock, Art Rock, Pop/Rock   \n2                35                         Rock, Electronic, Pop/Rock   \n3                 0                                      R&B, Pop/Rock   \n4                29                       Pop/Rock, Jazz, Stage&Screen   \n..              ...                                                ...   \n305               6                                     Rock, Pop/Rock   \n306              12                                       FolkPop/Rock   \n307               2                                     Soul, Pop/Rock   \n308               0                                           Pop/Rock   \n309              13  Music Hall, Vaudeville Rock, Psychedelic Pop, ...   \n\n                                  Songwriter              Lead.vocal  \\\n0    Lennon, McCartney, Harrison and Starkey                     NaN   \n1                       Lennon and McCartney    Lennon and McCartney   \n2                                     Lennon  Lennon, with McCartney   \n3                                   Thompson                  Lennon   \n4                              Scott, Marlow               McCartney   \n..                                       ...                     ...   \n305                                   Lennon                  Lennon   \n306                                   Lennon                  Lennon   \n307                                 Robinson     Lennon and Harrison   \n308                          Leiber, Stoller                Harrison   \n309                                McCartney               McCartney   \n\n     Top.50.Billboard  \n0                  -1  \n1                  -1  \n2                   8  \n3                  -1  \n4                  -1  \n..                ...  \n305                -1  \n306                -1  \n307                -1  \n308                -1  \n309                -1  \n\n[310 rows x 9 columns]",
      "text/html": "<div>\n<style scoped>\n    .dataframe tbody tr th:only-of-type {\n        vertical-align: middle;\n    }\n\n    .dataframe tbody tr th {\n        vertical-align: top;\n    }\n\n    .dataframe thead th {\n        text-align: right;\n    }\n</style>\n<table border=\"1\" class=\"dataframe\">\n  <thead>\n    <tr style=\"text-align: right;\">\n      <th></th>\n      <th>Title</th>\n      <th>Year</th>\n      <th>Album.debut</th>\n      <th>Duration</th>\n      <th>Other.releases</th>\n      <th>Genre</th>\n      <th>Songwriter</th>\n      <th>Lead.vocal</th>\n      <th>Top.50.Billboard</th>\n    </tr>\n  </thead>\n  <tbody>\n    <tr>\n      <th>0</th>\n      <td>12-Bar Original</td>\n      <td>1965</td>\n      <td>Anthology 2</td>\n      <td>174</td>\n      <td>0</td>\n      <td>Blues</td>\n      <td>Lennon, McCartney, Harrison and Starkey</td>\n      <td>NaN</td>\n      <td>-1</td>\n    </tr>\n    <tr>\n      <th>1</th>\n      <td>A Day in the Life</td>\n      <td>1967</td>\n      <td>Sgt. Pepper's Lonely Hearts Club Band</td>\n      <td>335</td>\n      <td>12</td>\n      <td>Psychedelic Rock, Art Rock, Pop/Rock</td>\n      <td>Lennon and McCartney</td>\n      <td>Lennon and McCartney</td>\n      <td>-1</td>\n    </tr>\n    <tr>\n      <th>2</th>\n      <td>A Hard Day's Night</td>\n      <td>1964</td>\n      <td>UK: A Hard Day's Night US: 1962-1966</td>\n      <td>152</td>\n      <td>35</td>\n      <td>Rock, Electronic, Pop/Rock</td>\n      <td>Lennon</td>\n      <td>Lennon, with McCartney</td>\n      <td>8</td>\n    </tr>\n    <tr>\n      <th>3</th>\n      <td>A Shot of Rhythm and Blues</td>\n      <td>1963</td>\n      <td>Live at the BBC</td>\n      <td>104</td>\n      <td>0</td>\n      <td>R&amp;B, Pop/Rock</td>\n      <td>Thompson</td>\n      <td>Lennon</td>\n      <td>-1</td>\n    </tr>\n    <tr>\n      <th>4</th>\n      <td>A Taste of Honey</td>\n      <td>1963</td>\n      <td>UK: Please Please Me US: The Early Beatles</td>\n      <td>163</td>\n      <td>29</td>\n      <td>Pop/Rock, Jazz, Stage&amp;Screen</td>\n      <td>Scott, Marlow</td>\n      <td>McCartney</td>\n      <td>-1</td>\n    </tr>\n    <tr>\n      <th>...</th>\n      <td>...</td>\n      <td>...</td>\n      <td>...</td>\n      <td>...</td>\n      <td>...</td>\n      <td>...</td>\n      <td>...</td>\n      <td>...</td>\n      <td>...</td>\n    </tr>\n    <tr>\n      <th>305</th>\n      <td>You're Going to Lose That Girl</td>\n      <td>1965</td>\n      <td>Help!</td>\n      <td>140</td>\n      <td>6</td>\n      <td>Rock, Pop/Rock</td>\n      <td>Lennon</td>\n      <td>Lennon</td>\n      <td>-1</td>\n    </tr>\n    <tr>\n      <th>306</th>\n      <td>You've Got to Hide Your Love Away</td>\n      <td>1965</td>\n      <td>Help!</td>\n      <td>131</td>\n      <td>12</td>\n      <td>FolkPop/Rock</td>\n      <td>Lennon</td>\n      <td>Lennon</td>\n      <td>-1</td>\n    </tr>\n    <tr>\n      <th>307</th>\n      <td>You've Really Got a Hold on Me</td>\n      <td>1963</td>\n      <td>UK: With the Beatles US: The Beatles Second Album</td>\n      <td>182</td>\n      <td>2</td>\n      <td>Soul, Pop/Rock</td>\n      <td>Robinson</td>\n      <td>Lennon and Harrison</td>\n      <td>-1</td>\n    </tr>\n    <tr>\n      <th>308</th>\n      <td>Young Blood</td>\n      <td>1963</td>\n      <td>Live at the BBC</td>\n      <td>116</td>\n      <td>0</td>\n      <td>Pop/Rock</td>\n      <td>Leiber, Stoller</td>\n      <td>Harrison</td>\n      <td>-1</td>\n    </tr>\n    <tr>\n      <th>309</th>\n      <td>Your Mother Should Know</td>\n      <td>1967</td>\n      <td>Magical Mystery Tour</td>\n      <td>149</td>\n      <td>13</td>\n      <td>Music Hall, Vaudeville Rock, Psychedelic Pop, ...</td>\n      <td>McCartney</td>\n      <td>McCartney</td>\n      <td>-1</td>\n    </tr>\n  </tbody>\n</table>\n<p>310 rows × 9 columns</p>\n</div>"
     },
     "metadata": {},
     "output_type": "display_data"
    }
   ],
   "source": [
    "songs = pd.read_csv('data/The Beatles songs dataset, v2, no NAs.csv')\n",
    "display(songs)"
   ],
   "metadata": {
    "collapsed": false,
    "pycharm": {
     "name": "#%%\n"
    }
   }
  },
  {
   "cell_type": "markdown",
   "source": [
    "Add another column, `Top50`: a song has reached Billboard Top 50 chart (`Yes`), or it hasn't (`No`)."
   ],
   "metadata": {
    "collapsed": false,
    "pycharm": {
     "name": "#%% md\n"
    }
   }
  },
  {
   "cell_type": "code",
   "execution_count": 44,
   "outputs": [
    {
     "data": {
      "text/plain": "280    Yes\n189     No\n156    Yes\n176     No\n169     No\n75      No\n220     No\n110     No\n210    Yes\n236     No\nName: Top50, dtype: object"
     },
     "metadata": {},
     "output_type": "display_data"
    }
   ],
   "source": [
    "songs['Top50'] = 'No'\n",
    "# i = songs.loc[songs['Top.50.Billboard'] != -1]\n",
    "# display(len(i))\n",
    "# i = songs.loc[songs['Top.50.Billboard'] != -1].index\n",
    "i = np.array(songs.loc[songs['Top.50.Billboard'] != -1].index)\n",
    "# display(i)\n",
    "songs.loc[i, 'Top50'] = 'Yes'\n",
    "display(songs['Top50'].sample(10))"
   ],
   "metadata": {
    "collapsed": false,
    "pycharm": {
     "name": "#%%\n"
    }
   }
  },
  {
   "cell_type": "markdown",
   "source": [
    "Check if the newly added `Top50` column is now OK."
   ],
   "metadata": {
    "collapsed": false,
    "pycharm": {
     "name": "#%% md\n"
    }
   }
  },
  {
   "cell_type": "code",
   "execution_count": 39,
   "outputs": [
    {
     "data": {
      "text/plain": "49"
     },
     "metadata": {},
     "output_type": "display_data"
    },
    {
     "data": {
      "text/plain": "2                   A Hard Day's Night\n6                        Act Naturally\n7                      Ain't She Sweet\n12                All You Need Is Love\n13                      And I Love Her\n21             Baby, You're a Rich Man\n34                   Can't Buy Me Love\n45                       Come Together\n49                         Day Tripper\n55       Do You Want to Know a Secret?\n62                   Eight Days a Week\n63                       Eleanor Rigby\n73                      Free as a Bird\n76                            Get Back\n86         Got to Get You into My Life\n91                      Hello, Goodbye\n92                               Help!\n98                            Hey Jude\n106    I Don't Want to Spoil the Party\n107                        I Feel Fine\n115           I Saw Her Standing There\n118           I Want to Hold Your Hand\n124                   I'll Cry Instead\n156                       Lady Madonna\n159                          Let It Be\n166                         Love Me Do\n177                           Matchbox\n187                          My Bonnie\n193                        Nowhere Man\n202                    P.S. I Love You\n203                   Paperback Writer\n204                         Penny Lane\n207                   Please Please Me\n209                               Rain\n210                          Real Love\n213                         Revolution\n227                      She Loves You\n229                      She's a Woman\n233                          Slow Down\n237                          Something\n240          Strawberry Fields Forever\n250                     Thank You Girl\n254        The Ballad of John and Yoko\n260          The Long and Winding Road\n270                     Ticket to Ride\n276                    Twist and Shout\n280                 We Can Work It Out\n294                   Yellow Submarine\n297                          Yesterday\nName: Title, dtype: object"
     },
     "metadata": {},
     "output_type": "display_data"
    }
   ],
   "source": [
    "display(len(songs.loc[i, 'Title']))\n",
    "display(songs.loc[i, 'Title'])"
   ],
   "metadata": {
    "collapsed": false,
    "pycharm": {
     "name": "#%%\n"
    }
   }
  },
  {
   "cell_type": "markdown",
   "source": [
    "###### Preparing the data for plotting the bargraph"
   ],
   "metadata": {
    "collapsed": false,
    "pycharm": {
     "name": "#%% md\n"
    }
   }
  },
  {
   "cell_type": "markdown",
   "source": [
    "Group the data."
   ],
   "metadata": {
    "collapsed": false,
    "pycharm": {
     "name": "#%% md\n"
    }
   }
  },
  {
   "cell_type": "code",
   "execution_count": 40,
   "outputs": [],
   "source": [
    "songs_by_year = songs.groupby('Year')"
   ],
   "metadata": {
    "collapsed": false,
    "pycharm": {
     "name": "#%%\n"
    }
   }
  },
  {
   "cell_type": "code",
   "execution_count": 52,
   "outputs": [
    {
     "data": {
      "text/plain": "[0, 0, 2, 3, 6, 10, 7, 7, 3, 3, 6, 0, 1, 1]"
     },
     "metadata": {},
     "output_type": "display_data"
    },
    {
     "data": {
      "text/plain": "[2, 4, 1, 17, 60, 31, 30, 12, 24, 42, 37, 1, 0, 0]"
     },
     "metadata": {},
     "output_type": "display_data"
    }
   ],
   "source": [
    "years = songs['Year'].unique()                            # How many unique years are there in the dataset?\n",
    "# display(years)\n",
    "# display(type(years))                                    # numpy.ndarray\n",
    "years_sorted = np.sort(years)\n",
    "# display(years_sorted)\n",
    "\n",
    "# y1964 = songs_by_year.get_group(1964)\n",
    "# display(type(y1964))                                      # pd.DataFrame\n",
    "#\n",
    "# display(y1964['Top50'].value_counts())\n",
    "# display(type(y1964['Top50'].value_counts()))              # pd.Series\n",
    "# display(y1964['Top50'].value_counts()['Yes'])             # How many 1964 songs have reached Top 50?\n",
    "# display(y1964['Top50'].value_counts()['No'])              # How many 1964 songs have NOT reached Top 50?\n",
    "\n",
    "# y1958 = songs_by_year.get_group(1958)\n",
    "# display(y1958['Top50'].value_counts())\n",
    "\n",
    "in_top50 = []\n",
    "not_in_top50 = []\n",
    "for year in years_sorted:\n",
    "    y = songs_by_year.get_group(year)\n",
    "    in_top50.append(y['Top50'].value_counts()['Yes'] if any(y['Top50'] == 'Yes') else 0)\n",
    "    not_in_top50.append(y['Top50'].value_counts()['No'] if any(y['Top50'] == 'No') else 0)\n",
    "display(in_top50)\n",
    "display(not_in_top50)\n",
    "\n",
    "# display(y1964.value_counts())\n",
    "# display(type(y1964.value_counts()))                       # pd.Series\n",
    "# # display(songs['Year'].value_counts()[1964])\n",
    "\n",
    "# years_1962_1970 = np.array(range(1962, 1971))\n",
    "# avg_duration = []\n",
    "# for year in years_1962_1970:\n",
    "#     avg_duration.append(np.mean(songs_by_year.get_group(year)['Duration']))\n",
    "# avg_duration = np.array(avg_duration)\n",
    "#\n",
    "# rng = np.random.RandomState(370)\n",
    "#\n",
    "# colors = rng.choice(100, size=len(years_1962_1970), replace=False)            # random sample, no duplicates\n",
    "# # display(colors)\n",
    "#\n",
    "# sizes = []\n",
    "# for year in years_1962_1970:\n",
    "#     sizes.append(len(songs_by_year.get_group(year)) * 100)                    # sizes proportional to the numbers of songs\n",
    "#\n",
    "# plt.scatter(years_1962_1970, avg_duration,\n",
    "#             c=colors, s=sizes, alpha=0.3,                                     # alpha: the level of transparency\n",
    "#             cmap='gist_stern')                                                # cmap: a pre-defined color map\n",
    "# plt.colorbar();                                                               # show color scale"
   ],
   "metadata": {
    "collapsed": false,
    "pycharm": {
     "name": "#%%\n"
    }
   }
  },
  {
   "cell_type": "code",
   "execution_count": 10,
   "outputs": [
    {
     "data": {
      "text/plain": "array([  2,   6,   7,  12,  13,  21,  34,  45,  49,  55,  62,  63,  73,\n        76,  86,  91,  92,  98, 106, 107, 115, 118, 124, 156, 159, 166,\n       177, 187, 193, 202, 203, 204, 207, 209, 210, 213, 227, 229, 233,\n       237, 240, 250, 254, 260, 270, 276, 280, 294, 297], dtype=int64)"
     },
     "metadata": {},
     "output_type": "display_data"
    },
    {
     "data": {
      "text/plain": "array([  0,   1,   3,   4,   5,   8,   9,  10,  11,  14,  15,  16,  17,\n        18,  19,  20,  22,  23,  24,  25,  26,  27,  28,  29,  30,  31,\n        32,  33,  35,  36,  37,  38,  39,  40,  41,  42,  43,  44,  46,\n        47,  48,  50,  51,  52,  53,  54,  56,  57,  58,  59,  60,  61,\n        64,  65,  66,  67,  68,  69,  70,  71,  72,  74,  75,  77,  78,\n        79,  80,  81,  82,  83,  84,  85,  87,  88,  89,  90,  93,  94,\n        95,  96,  97,  99, 100, 101, 102, 103, 104, 105, 108, 109, 110,\n       111, 112, 113, 114, 116, 117, 119, 120, 121, 122, 123, 125, 126,\n       127, 128, 129, 130, 131, 132, 133, 134, 135, 136, 137, 138, 139,\n       140, 141, 142, 143, 144, 145, 146, 147, 148, 149, 150, 151, 152,\n       153, 154, 155, 157, 158, 160, 161, 162, 163, 164, 165, 167, 168,\n       169, 170, 171, 172, 173, 174, 175, 176, 178, 179, 180, 181, 182,\n       183, 184, 185, 186, 188, 189, 190, 191, 192, 194, 195, 196, 197,\n       198, 199, 200, 201, 205, 206, 208, 211, 212, 214, 215, 216, 217,\n       218, 219, 220, 221, 222, 223, 224, 225, 226, 228, 230, 231, 232,\n       234, 235, 236, 238, 239, 241, 242, 243, 244, 245, 246, 247, 248,\n       249, 251, 252, 253, 255, 256, 257, 258, 259, 261, 262, 263, 264,\n       265, 266, 267, 268, 269, 271, 272, 273, 274, 275, 277, 278, 279,\n       281, 282, 283, 284, 285, 286, 287, 288, 289, 290, 291, 292, 293,\n       295, 296, 298, 299, 300, 301, 302, 303, 304, 305, 306, 307, 308,\n       309], dtype=int64)"
     },
     "metadata": {},
     "output_type": "display_data"
    }
   ],
   "source": [
    "top50_index = np.array(songs.loc[songs['Top.50.Billboard'] != -1].index)            # the songs in Top 50\n",
    "# display(top50_index)\n",
    "not_top50_index = np.array(songs.loc[songs['Top.50.Billboard'] == -1].index)        # the songs not in Top 50\n",
    "# display(not_top50_index)"
   ],
   "metadata": {
    "collapsed": false,
    "pycharm": {
     "name": "#%%\n"
    }
   }
  },
  {
   "cell_type": "markdown",
   "source": [
    "And now plot it."
   ],
   "metadata": {
    "collapsed": false,
    "pycharm": {
     "name": "#%% md\n"
    }
   }
  },
  {
   "cell_type": "markdown",
   "metadata": {
    "pycharm": {
     "name": "#%% md\n"
    }
   },
   "source": [
    "## Masking - Boolean arrays as masks"
   ]
  },
  {
   "cell_type": "markdown",
   "metadata": {
    "pycharm": {
     "name": "#%% md\n"
    }
   },
   "source": [
    "Extract song release years into another NumPy array."
   ]
  },
  {
   "cell_type": "code",
   "execution_count": 16,
   "metadata": {
    "pycharm": {
     "name": "#%%\n"
    }
   },
   "outputs": [
    {
     "data": {
      "text/plain": "310"
     },
     "metadata": {},
     "output_type": "display_data"
    },
    {
     "data": {
      "text/plain": "array([1965, 1967, 1964, 1963, 1963, 1968, 1965, 1961, 1963, 1963],\n      dtype=int64)"
     },
     "metadata": {},
     "output_type": "display_data"
    }
   ],
   "source": [
    "# print(type(songs['Year']))          # <class 'pandas.core.series.Series'>\n",
    "years = songs['Year'].values\n",
    "# print(type(years))                  # <class 'numpy.ndarray'>\n",
    "display(len(years))\n",
    "display(years[0:10])"
   ]
  },
  {
   "cell_type": "markdown",
   "source": [
    "Extract songs released after 1968."
   ],
   "metadata": {
    "collapsed": false,
    "pycharm": {
     "name": "#%% md\n"
    }
   }
  },
  {
   "cell_type": "code",
   "execution_count": 17,
   "metadata": {
    "pycharm": {
     "name": "#%%\n"
    }
   },
   "outputs": [
    {
     "data": {
      "text/plain": "array([False, False, False, False, False, False,  True,  True, False,\n       False])"
     },
     "metadata": {},
     "output_type": "display_data"
    }
   ],
   "source": [
    "years_gt_1968 = (years > 1968)                           # mask: Boolean array of the same length as years, True if years > 1968\n",
    "display(years_gt_1968[20:30])                              # get a slice of it"
   ]
  },
  {
   "cell_type": "markdown",
   "source": [
    "Get the titles of the first 10 songs released after 1968."
   ],
   "metadata": {
    "collapsed": false,
    "pycharm": {
     "name": "#%% md\n"
    }
   }
  },
  {
   "cell_type": "code",
   "execution_count": 18,
   "outputs": [
    {
     "data": {
      "text/plain": "10             All Things Must Pass\n26    Because I Know You Love Me So\n27                          Because\n36                Carry That Weight\n44                  Come and Get It\n45                    Come Together\n52                       Dig a Pony\n53                           Dig It\n59                Don't Let Me Down\n68        Fancy My Chances with You\nName: Title, dtype: object"
     },
     "metadata": {},
     "output_type": "display_data"
    }
   ],
   "source": [
    "# Get the titles of the first 10 songs such that years > 1968\n",
    "display(songs[years_gt_1968]['Title'].head(10))"
   ],
   "metadata": {
    "collapsed": false,
    "pycharm": {
     "name": "#%%\n"
    }
   }
  },
  {
   "cell_type": "markdown",
   "source": [
    "Get the titles of the last 10 songs such that `years > 1968` and `times < 120`."
   ],
   "metadata": {
    "collapsed": false,
    "pycharm": {
     "name": "#%% md\n"
    }
   }
  },
  {
   "cell_type": "code",
   "execution_count": 19,
   "outputs": [
    {
     "data": {
      "text/plain": "36                           Carry That Weight\n53                                      Dig It\n81                             Golden Slumbers\n94                                 Her Majesty\n173                                 Maggie Mae\n175            Mailman, Bring Me No More Blues\n179                           Mean Mr. Mustard\n208                              Polythene Pam\n226    She Came in Through the Bathroom Window\nName: Title, dtype: object"
     },
     "metadata": {},
     "output_type": "display_data"
    }
   ],
   "source": [
    "# Get the titles of the last 10 songs such that years > 1968 and times < 120\n",
    "lengths = songs['Duration']\n",
    "times = lengths.values                                                      # convert the song lengths into a NumPy array\n",
    "times_lt_120 = (times < 120)\n",
    "display(songs[years_gt_1968 & times_lt_120]['Title'].tail(10))"
   ],
   "metadata": {
    "collapsed": false,
    "pycharm": {
     "name": "#%%\n"
    }
   }
  },
  {
   "cell_type": "code",
   "execution_count": 21,
   "outputs": [
    {
     "data": {
      "text/plain": "1                                    A Day in the Life\n11                                    All Together Now\n12                                All You Need Is Love\n14                              And Your Bird Can Sing\n21                             Baby, You're a Rich Man\n28                  Being for the Benefit of Mr. Kite!\n31                                        Blue Jay Way\n41                      Christmas Time (Is Here Again)\n56                                       Doctor Robert\n63                                       Eleanor Rigby\n69                                       Fixing a Hole\n70                                              Flying\n71                                          For No One\n77                                      Getting Better\n82                                   Good Day Sunshine\n83                          Good Morning, Good Morning\n86                         Got to Get You into My Life\n91                                      Hello, Goodbye\n96                          Here, There and Everywhere\n104                                    I Am the Walrus\n119                                 I Want to Tell You\n134                                  I'm Only Sleeping\n146                                  It's All Too Much\n149                                     Jessie's Dream\n168                                        Love You To\n169                                        Lovely Rita\n171                      Lucy in the Sky with Diamonds\n174                               Magical Mystery Tour\n200                               Only a Northern Song\n203                                   Paperback Writer\n204                                         Penny Lane\n209                                               Rain\n223    Sgt. Pepper's Lonely Hearts Club Band (Reprise)\n224              Sgt. Pepper's Lonely Hearts Club Band\n228                                  She Said She Said\n230                                 She's Leaving Home\n240                          Strawberry Fields Forever\n246                                             Taxman\n257                               The Fool on the Hill\n274                               Tomorrow Never Knows\n285                                When I'm Sixty-Four\n290                 With a Little Help from My Friends\n291                             Within You Without You\n294                                   Yellow Submarine\n299              You Know My Name (Look Up the Number)\n309                            Your Mother Should Know\nName: Title, dtype: object"
     },
     "metadata": {},
     "output_type": "display_data"
    },
    {
     "data": {
      "text/plain": "'Mean length of songs from 1966-1967:'"
     },
     "metadata": {},
     "output_type": "display_data"
    },
    {
     "data": {
      "text/plain": "180.47826086956522"
     },
     "metadata": {},
     "output_type": "display_data"
    }
   ],
   "source": [
    "# Get the titles of all songs released 1966 or 1967, as well as the mean value of their lengths\n",
    "years_1966_1967 = (years >= 1966) & (years <= 1967)\n",
    "display(songs[years_1966_1967]['Title'])\n",
    "display('Mean length of songs from 1966-1967:', np.mean(songs[years_1966_1967]['Duration']))"
   ],
   "metadata": {
    "collapsed": false,
    "pycharm": {
     "name": "#%%\n"
    }
   }
  },
  {
   "cell_type": "markdown",
   "metadata": {
    "pycharm": {
     "name": "#%% md\n"
    }
   },
   "source": [
    "## Fancy indexing\n",
    "Fancy indexing is like simple indexing, but arrays of indices are passed in place of single scalars. <br>\n",
    "**Important:** The shape of the result is the same as the (possibly broadcasted) shape of the index array, not of the array being indexed."
   ]
  },
  {
   "cell_type": "markdown",
   "metadata": {
    "pycharm": {
     "name": "#%% md\n"
    }
   },
   "source": [
    "### Fancy indexing of one-dimensional arrays"
   ]
  },
  {
   "cell_type": "code",
   "execution_count": 22,
   "metadata": {
    "pycharm": {
     "name": "#%%\n"
    }
   },
   "outputs": [
    {
     "data": {
      "text/plain": "array([8, 9, 3, 8, 8, 0, 5, 3, 9, 9])"
     },
     "metadata": {},
     "output_type": "display_data"
    },
    {
     "data": {
      "text/plain": "array([3, 9, 0])"
     },
     "metadata": {},
     "output_type": "display_data"
    },
    {
     "data": {
      "text/plain": "array([ 8,  9, 55,  8,  8, 55,  5,  3, 55,  9])"
     },
     "metadata": {},
     "output_type": "display_data"
    },
    {
     "data": {
      "text/plain": "array([ 8,  9, 45,  8,  8, 45,  5,  3, 45,  9])"
     },
     "metadata": {},
     "output_type": "display_data"
    },
    {
     "data": {
      "text/plain": "array([[ 9,  8],\n       [45,  8]])"
     },
     "metadata": {},
     "output_type": "display_data"
    }
   ],
   "source": [
    "np.random.seed(3)\n",
    "a = np.random.randint(10, size=10)\n",
    "display(a)\n",
    "\n",
    "i = [2, 8, 5]                                 # one-dimensional index\n",
    "display(a[i])\n",
    "a[i] = 55\n",
    "display(a)\n",
    "a[i] -= 10\n",
    "display(a)\n",
    "\n",
    "i = np.array([[1, 0],                         # multi-dimensional index\n",
    "              [2, 4]])\n",
    "display(a[i])                                   # the shape of the result is the same as the shape of the index array"
   ]
  },
  {
   "cell_type": "markdown",
   "metadata": {
    "pycharm": {
     "name": "#%% md\n"
    }
   },
   "source": [
    "### Fancy indexing of multi-dimensional arrays"
   ]
  },
  {
   "cell_type": "code",
   "execution_count": 23,
   "metadata": {
    "pycharm": {
     "name": "#%%\n"
    }
   },
   "outputs": [
    {
     "data": {
      "text/plain": "array([[5, 7, 6, 0],\n       [4, 7, 8, 1],\n       [6, 2, 2, 1]])"
     },
     "metadata": {},
     "output_type": "display_data"
    },
    {
     "data": {
      "text/plain": "array([6, 2, 4])"
     },
     "metadata": {},
     "output_type": "display_data"
    },
    {
     "data": {
      "text/plain": "array([[6, 7, 5],\n       [2, 2, 6],\n       [8, 7, 4]])"
     },
     "metadata": {},
     "output_type": "display_data"
    },
    {
     "data": {
      "text/plain": "array([2, 6, 2])"
     },
     "metadata": {},
     "output_type": "display_data"
    },
    {
     "data": {
      "text/plain": "array([[8, 4, 7],\n       [2, 6, 2]])"
     },
     "metadata": {},
     "output_type": "display_data"
    }
   ],
   "source": [
    "m = np.random.randint(10, size=(3, 4))\n",
    "display(m)\n",
    "\n",
    "i_row = np.array([0, 2, 1])\n",
    "i_col = np.array([2, 1, 0])\n",
    "display(m[i_row, i_col])                        # resulting pairs of indices: [0, 2], [2, 1], [1, 0]\n",
    "\n",
    "display(m[i_row[:, np.newaxis], i_col])\n",
    "\n",
    "display(m[2, [2, 0, 1]])\n",
    "display(m[-2:, [2, 0, 1]])"
   ]
  },
  {
   "cell_type": "markdown",
   "metadata": {
    "pycharm": {
     "name": "#%% md\n"
    }
   },
   "source": [
    "## Sorting arrays\n",
    "What are the longest and the shortest Beatles songs?"
   ]
  },
  {
   "cell_type": "code",
   "execution_count": 24,
   "metadata": {
    "pycharm": {
     "name": "#%%\n"
    }
   },
   "outputs": [
    {
     "data": {
      "text/plain": "array([3, 1, 7, 2, 5])"
     },
     "metadata": {},
     "output_type": "display_data"
    },
    {
     "data": {
      "text/plain": "array([1, 2, 3, 5, 7])"
     },
     "metadata": {},
     "output_type": "display_data"
    },
    {
     "data": {
      "text/plain": "array([1, 2, 3, 5, 7])"
     },
     "metadata": {},
     "output_type": "display_data"
    }
   ],
   "source": [
    "a = np.array([3, 1, 7, 2, 5])\n",
    "display(a)\n",
    "display(np.sort(a))                # a does not change\n",
    "a.sort()                           # inplace sorting, a changes\n",
    "display(a)"
   ]
  },
  {
   "cell_type": "code",
   "execution_count": 25,
   "metadata": {
    "pycharm": {
     "name": "#%%\n"
    }
   },
   "outputs": [
    {
     "data": {
      "text/plain": "array([[5, 0, 3, 3, 7, 9],\n       [3, 5, 2, 4, 7, 6],\n       [8, 8, 1, 6, 7, 7],\n       [8, 1, 5, 9, 8, 9]])"
     },
     "metadata": {},
     "output_type": "display_data"
    },
    {
     "data": {
      "text/plain": "array([[3, 0, 1, 3, 7, 6],\n       [5, 1, 2, 4, 7, 7],\n       [8, 5, 3, 6, 7, 9],\n       [8, 8, 5, 9, 8, 9]])"
     },
     "metadata": {},
     "output_type": "display_data"
    },
    {
     "data": {
      "text/plain": "array([[0, 3, 3, 5, 7, 9],\n       [2, 3, 4, 5, 6, 7],\n       [1, 6, 7, 7, 8, 8],\n       [1, 5, 8, 8, 9, 9]])"
     },
     "metadata": {},
     "output_type": "display_data"
    }
   ],
   "source": [
    "np.random.seed(0)\n",
    "m = np.random.randint(10, size=(4, 6))\n",
    "display(m)\n",
    "\n",
    "display(np.sort(m, axis=0))                 # sort each column of x, independently\n",
    "display(np.sort(m, axis=1))                 # sort each row of x, independently"
   ]
  },
  {
   "cell_type": "markdown",
   "metadata": {
    "pycharm": {
     "name": "#%% md\n"
    }
   },
   "source": [
    "`np.argsort()`\n",
    "Returns the indices that would sort an array."
   ]
  },
  {
   "cell_type": "code",
   "execution_count": 26,
   "metadata": {
    "pycharm": {
     "name": "#%%\n"
    }
   },
   "outputs": [
    {
     "data": {
      "text/plain": "0    174\n1    335\n2    152\n3    104\n4    163\nName: Duration, dtype: int64"
     },
     "metadata": {},
     "output_type": "display_data"
    },
    {
     "data": {
      "text/plain": "numpy.ndarray"
     },
     "metadata": {},
     "output_type": "display_data"
    },
    {
     "data": {
      "text/plain": "array([ 94, 173,  53, 288, 179, 208, 223,  81, 132,  36], dtype=int64)"
     },
     "metadata": {},
     "output_type": "display_data"
    },
    {
     "data": {
      "text/plain": "array([23, 40, 51, 52, 66, 72, 80, 91, 92, 96], dtype=int64)"
     },
     "metadata": {},
     "output_type": "display_data"
    },
    {
     "data": {
      "text/plain": "94                     Her Majesty\n173                     Maggie Mae\n53                          Dig It\n288                 Wild Honey Pie\n179               Mean Mr. Mustard\n                  ...             \n283       What's The New Mary Jane\n146              It's All Too Much\n98                        Hey Jude\n120    I Want You (She's So Heavy)\n212                   Revolution 9\nName: Title, Length: 310, dtype: object"
     },
     "metadata": {},
     "output_type": "display_data"
    },
    {
     "data": {
      "text/plain": "93                   Helter Skelter\n104                 I Am the Walrus\n286    While My Guitar Gently Weeps\n291          Within You Without You\n1                 A Day in the Life\n283        What's The New Mary Jane\n146               It's All Too Much\n98                         Hey Jude\n120     I Want You (She's So Heavy)\n212                    Revolution 9\nName: Title, dtype: object"
     },
     "metadata": {},
     "output_type": "display_data"
    }
   ],
   "source": [
    "songs = pd.read_csv('data/The Beatles songs dataset, v1, no NAs.csv')       # get the songs as a pd.DataFrame object\n",
    "lengths = songs['Duration']                                                 # get the song lengths as a pd.Series object\n",
    "display(lengths.head())\n",
    "\n",
    "times = lengths.values                                                      # convert the song lengths into a NumPy array\n",
    "i = np.argsort(times)                                                       # sort song times from shortest to longest\n",
    "display(type(i))                                                              # <class 'numpy.ndarray'>\n",
    "display(i[0:10])                                                              # print the first 10 indices\n",
    "display(times[i[0:10]])                                                       # print the 10 shortest song times\n",
    "\n",
    "display(songs['Title'][i])                                                    # fancy-index songs['Title']\n",
    "\n",
    "display(songs['Title'][i[-10:]])                                              # fancy-index songs['Title'], the 10 longest songs"
   ]
  },
  {
   "cell_type": "markdown",
   "source": [
    "##### Bargraph"
   ],
   "metadata": {
    "collapsed": false,
    "pycharm": {
     "name": "#%% md\n"
    }
   }
  },
  {
   "cell_type": "markdown",
   "source": [
    "Read the dataset and add the `Top50` column"
   ],
   "metadata": {
    "collapsed": false,
    "pycharm": {
     "name": "#%% md\n"
    }
   }
  },
  {
   "cell_type": "code",
   "execution_count": null,
   "outputs": [],
   "source": [
    "songs = pd.read_csv('data/The Beatles songs dataset, v2, no NAs.csv')\n",
    "songs_by_year = songs.groupby('Year')"
   ],
   "metadata": {
    "collapsed": false,
    "pycharm": {
     "name": "#%%\n"
    }
   }
  },
  {
   "cell_type": "markdown",
   "source": [
    "Add another column, `Top50`: a song has reached Billboard Top 50 chart (`Yes`), or it hasn't (`No`)."
   ],
   "metadata": {
    "collapsed": false,
    "pycharm": {
     "name": "#%% md\n"
    }
   }
  },
  {
   "cell_type": "code",
   "execution_count": 3,
   "outputs": [],
   "source": [
    "songs['Top50'] = 'No'\n",
    "i = np.array(songs.loc[songs['Top.50.Billboard'] != -1].index)\n",
    "songs.loc[i, 'Top50'] = 'Yes'"
   ],
   "metadata": {
    "collapsed": false,
    "pycharm": {
     "name": "#%%\n"
    }
   }
  },
  {
   "cell_type": "code",
   "execution_count": null,
   "outputs": [],
   "source": [],
   "metadata": {
    "collapsed": false,
    "pycharm": {
     "name": "#%%\n"
    }
   }
  }
 ],
 "metadata": {
  "kernelspec": {
   "display_name": "Python 3 (ipykernel)",
   "language": "python",
   "name": "python3"
  },
  "language_info": {
   "codemirror_mode": {
    "name": "ipython",
    "version": 3
   },
   "file_extension": ".py",
   "mimetype": "text/x-python",
   "name": "python",
   "nbconvert_exporter": "python",
   "pygments_lexer": "ipython3",
   "version": "3.10.0"
  }
 },
 "nbformat": 4,
 "nbformat_minor": 4
}