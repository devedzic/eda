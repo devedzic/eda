{
 "cells": [
  {
   "cell_type": "markdown",
   "metadata": {
    "pycharm": {
     "name": "#%% md\n"
    }
   },
   "source": [
    "# Exploratory data analysis\n",
    "Introduction to exploratory data analysis (EDA)."
   ]
  },
  {
   "cell_type": "markdown",
   "source": [
    "EDA is an approach to analyzing datasets to summarize their main characteristics, often with visual methods. EDA is used for seeing what the data can tell us before the modeling task [(source 1)](https://chartio.com/learn/data-analytics/what-is-exploratory-data-analysis/). It is used to explore the data, find different patterns, relations, and anomalies in the data using some statistical graphs and other visualization techniques, and possibly formulate hypotheses that could lead to new data collection and experiments [(source 2)](https://www.analyticsvidhya.com/blog/2021/08/how-to-perform-exploratory-data-analysis-a-guide-for-beginners/). More specifically, EDA enables analysts to:\n",
    "1. get maximum insights from a data set\n",
    "2. uncover underlying structure\n",
    "3. extract important variables from the dataset\n",
    "4. detect outliers and anomalies (if any)\n",
    "5. test underlying assumptions\n",
    "6. determine the optimal factor settings"
   ],
   "metadata": {
    "collapsed": false,
    "pycharm": {
     "name": "#%% md\n"
    }
   }
  },
  {
   "cell_type": "markdown",
   "source": [
    "## EDA steps and tools\n",
    "Practical steps in conducting EDA and frequently used EDA tools.\n",
    "Based on *pandas2020-main.Sales_Analysis_Pandas_P3_tutorial.ipynb* and *pandas2020-main.TED_Talks_Pandas_P3_tutorial.ipynb*.\n"
   ],
   "metadata": {
    "collapsed": false,
    "pycharm": {
     "name": "#%% md\n"
    }
   }
  },
  {
   "cell_type": "markdown",
   "source": [
    "### Reading the dataset\n",
    "`read_csv()`"
   ],
   "metadata": {
    "collapsed": false,
    "pycharm": {
     "name": "#%% md\n"
    }
   }
  },
  {
   "cell_type": "markdown",
   "source": [
    "### Initial examination and adaptations\n",
    "`shape`, `head()`, `tail()`, `sample()`, `info()`, `dtypes`\n",
    "`columns`, `columns.values`, `columns.values.tolist()`\n",
    "`index`, `index[<from>:<to>]`, `reset_index(drop=True, inplace=True)`\n",
    "`<pd.df>.rename({'<column_1 old name>':'<column_1 new name>', '<column_1 old name>':'<column_1 new name>', ...}, axis='columns')`, `<pd.df>.columns = ['<column_1 name>', '<column_2 name>', ...]` (change the names of all columns in <pd.df>), `ast.literal_eval()` (using Python's *ast* module to transform a string into a literal value, a list, a tuple or any other container object)"
   ],
   "metadata": {
    "collapsed": false,
    "pycharm": {
     "name": "#%% md\n"
    }
   }
  },
  {
   "cell_type": "markdown",
   "source": [
    "### Missing values and value counts\n",
    "`isna()`, `isna().sum()`, `isnull()`, `isnull().sum()` ([example](https://www.analyticsvidhya.com/blog/2021/08/how-to-perform-exploratory-data-analysis-a-guide-for-beginners/))\n",
    "`value_counts()`, `value_counts(normalize=True)`, `dropna(how='all'/'any', inplace=True)`"
   ],
   "metadata": {
    "collapsed": false,
    "pycharm": {
     "name": "#%% md\n"
    }
   }
  },
  {
   "cell_type": "markdown",
   "source": [
    "### Examining individual data items, rows and columns\n",
    "`sample()`\n",
    "Simple indexing and fancy indexing: `iloc()`, `loc()`\n",
    "Indexing in data stats: `<pd.df>.describe().loc['50%', '<column_name>']` (select the median of <column_name> from the <pd.df> stats computed by describe())\n",
    "Indexing using list of values: `<pd.df>.loc[<pd.df>.<column>.isin(<list of values>)]` (select those observations where the value of <column> is in the <list of values>)"
   ],
   "metadata": {
    "collapsed": false,
    "pycharm": {
     "name": "#%% md\n"
    }
   }
  },
  {
   "cell_type": "markdown",
   "source": [
    "### Adding and deleting rows and columns\n",
    "Add/Delete rows and columns to/from a `pd.DataFrame` object.\n",
    "`<pd.df>['<new column name>'] = ...`\n",
    "`<pd.df>.drop('<column name>', axis=1, inplace=True)`\n",
    "`<pd.df>.drop(columns=['<column_1 name>', '<column_2 name>', ...], inplace=True)`\n",
    "`pd.concat([<pd.df>, <another pd.df with the same number of rows and with different columns>], axis=1))`\n"
   ],
   "metadata": {
    "collapsed": false,
    "pycharm": {
     "name": "#%% md\n"
    }
   }
  },
  {
   "cell_type": "markdown",
   "source": [
    "### Data transformations\n",
    "`describe()`\n",
    "`pd.to_numeric(<pd.DataFrame object>['<column name>'], errors='coerce')`, `pd.DataFrame.to_numpy()`, `pd.Series.to_numpy()`, `pd.to_datetime()`, ...\n",
    "`<pd.df>.<column>.apply(<f_name>)` (apply the <f_name> function to all elements of each element of the <column>; for example, each element of the <column> can be a list of other elements)\n"
   ],
   "metadata": {
    "collapsed": false,
    "pycharm": {
     "name": "#%% md\n"
    }
   }
  },
  {
   "cell_type": "markdown",
   "source": [
    "### Exploring correlations\n",
    "Explore correlations between the (numerical) columns.\n",
    "`sb.heatmap()`\n",
    "[Example](https://www.analyticsvidhya.com/blog/2021/08/how-to-perform-exploratory-data-analysis-a-guide-for-beginners/)"
   ],
   "metadata": {
    "collapsed": false,
    "pycharm": {
     "name": "#%% md\n"
    }
   }
  },
  {
   "cell_type": "markdown",
   "source": [
    "### Grouping and sorting data\n",
    "`nunique()`\n",
    "`groupby()`\n",
    "`sort_values(by='<column name>', ascending=False/True)`\n",
    "`sort_index(inplace=True)`\n",
    "`agg(['<column_1 name>', '<column_2 name>', ...])`\n"
   ],
   "metadata": {
    "collapsed": false,
    "pycharm": {
     "name": "#%% md\n"
    }
   }
  },
  {
   "cell_type": "markdown",
   "source": [
    "### Data visualization\n",
    "Plot some bargraphs, scatterplots, boxplots,...\n",
    "[Example](https://www.analyticsvidhya.com/blog/2021/08/how-to-perform-exploratory-data-analysis-a-guide-for-beginners/)"
   ],
   "metadata": {
    "collapsed": false,
    "pycharm": {
     "name": "#%% md\n"
    }
   }
  },
  {
   "cell_type": "markdown",
   "source": [
    "### Other\n",
    "[Other interesting ideas and different ways of using the things from above](https://realpython.com/pandas-python-explore-dataset/#exploring-your-dataset) (see the rest from [that article](https://realpython.com/pandas-python-explore-dataset/) as well)."
   ],
   "metadata": {
    "collapsed": false,
    "pycharm": {
     "name": "#%% md\n"
    }
   }
  },
  {
   "cell_type": "markdown",
   "metadata": {
    "pycharm": {
     "name": "#%% md\n"
    }
   },
   "source": [
    "## Import and configure packages\n",
    "The `%run` magic does not work well in DataSpell, thus the following `import` statements are copied here from *import_packages.ipynb* (the last line is added subsequently):"
   ]
  },
  {
   "cell_type": "code",
   "execution_count": 1,
   "outputs": [],
   "source": [
    "%load_ext autoreload\n",
    "%autoreload 2\n",
    "\n",
    "%matplotlib inline\n",
    "\n",
    "%config IPCompleter.greedy=True\n",
    "\n",
    "import numpy as np\n",
    "import matplotlib as mpl\n",
    "import matplotlib.pyplot as plt\n",
    "plt.style.use('classic')\n",
    "import pandas as pd\n",
    "import seaborn as sb\n",
    "\n",
    "from plotnine import ggplot, aes, geom_line, geom_histogram, theme_xkcd"
   ],
   "metadata": {
    "collapsed": false,
    "pycharm": {
     "name": "#%%\n"
    }
   }
  },
  {
   "cell_type": "code",
   "execution_count": 1,
   "outputs": [],
   "source": [
    "# %run \"import_packages.ipynb\""
   ],
   "metadata": {
    "collapsed": false,
    "pycharm": {
     "name": "#%%\n"
    }
   }
  },
  {
   "cell_type": "markdown",
   "metadata": {
    "pycharm": {
     "name": "#%% md\n"
    }
   },
   "source": [
    "## Introducing The Beatles dataset"
   ]
  },
  {
   "cell_type": "markdown",
   "metadata": {
    "pycharm": {
     "name": "#%% md\n"
    }
   },
   "source": [
    "### Read The Beatles songs *csv* file\n",
    "`pd.read_csv()` returns a `pd.DataFrame` object."
   ]
  },
  {
   "cell_type": "code",
   "execution_count": 2,
   "metadata": {
    "pycharm": {
     "name": "#%%\n"
    }
   },
   "outputs": [],
   "source": [
    "# Get the songs as a pd.DataFrame object\n",
    "songs = pd.read_csv('data/The Beatles songs dataset, v1, no NAs.csv')"
   ]
  },
  {
   "cell_type": "markdown",
   "source": [
    "### Explore the dataset (first steps)\n",
    "Show the columns of the `songs` object (which is a `pd.DataFrame` object)."
   ],
   "metadata": {
    "collapsed": false,
    "pycharm": {
     "name": "#%% md\n"
    }
   }
  },
  {
   "cell_type": "code",
   "execution_count": 3,
   "outputs": [
    {
     "name": "stdout",
     "output_type": "stream",
     "text": [
      "Index(['Title', 'Year', 'Album.debut', 'Duration', 'Other.releases', 'Genre',\n",
      "       'Songwriter', 'Lead.vocal', 'Top.50.Billboard'],\n",
      "      dtype='object')\n",
      "['Title', 'Year', 'Album.debut', 'Duration', 'Other.releases', 'Genre', 'Songwriter', 'Lead.vocal', 'Top.50.Billboard']\n"
     ]
    }
   ],
   "source": [
    "# Get the columns as a pd.Index object\n",
    "print(songs.columns)\n",
    "# Get the columns as a list\n",
    "print(list(songs.columns))"
   ],
   "metadata": {
    "collapsed": false,
    "pycharm": {
     "name": "#%%\n"
    }
   }
  },
  {
   "cell_type": "markdown",
   "source": [
    "Use Pandas to extract song lengths as a NumPy array."
   ],
   "metadata": {
    "collapsed": false,
    "pycharm": {
     "name": "#%% md\n"
    }
   }
  },
  {
   "cell_type": "code",
   "execution_count": 4,
   "outputs": [
    {
     "name": "stdout",
     "output_type": "stream",
     "text": [
      "0    174\n",
      "1    335\n",
      "2    152\n",
      "3    104\n",
      "4    163\n",
      "Name: Duration, dtype: int64\n"
     ]
    }
   ],
   "source": [
    "# Get the song lengths as a pd.Series object\n",
    "lengths = songs['Duration']\n",
    "print(lengths.head())"
   ],
   "metadata": {
    "collapsed": false,
    "pycharm": {
     "name": "#%%\n"
    }
   }
  },
  {
   "cell_type": "code",
   "execution_count": 5,
   "outputs": [
    {
     "name": "stdout",
     "output_type": "stream",
     "text": [
      "<class 'numpy.ndarray'>\n",
      "(310,)\n"
     ]
    }
   ],
   "source": [
    "# Convert the song lengths into a NumPy array\n",
    "times = lengths.values\n",
    "print(type(times))\n",
    "print(times.shape)"
   ],
   "metadata": {
    "collapsed": false,
    "pycharm": {
     "name": "#%%\n"
    }
   }
  },
  {
   "cell_type": "markdown",
   "metadata": {
    "pycharm": {
     "name": "#%% md\n"
    }
   },
   "source": [
    "Plot the histogram of the song lengths using Matplotlib.\n",
    "\n",
    "As for the plot styles, there are a lot of [available styles](https://www.dunderdata.com/blog/view-all-available-matplotlib-styles) that can be also shown in code using `plt.style.available`. See also [this](https://www.analyticsvidhya.com/blog/2021/08/exploring-matplotlib-stylesheets-for-data-visualization/).\n",
    "\n",
    "Alternatively, plot style can be set using `sb.set_theme()` (or just `sb.set()`, but that function might get deprecated and removed from *seaborn* in the future). See [`sb_set_theme()` documentation](https://seaborn.pydata.org/generated/seaborn.set_theme.html) for the function's parameters and defaults."
   ]
  },
  {
   "cell_type": "code",
   "execution_count": 20,
   "metadata": {
    "scrolled": true,
    "pycharm": {
     "name": "#%%\n"
    }
   },
   "outputs": [
    {
     "data": {
      "text/plain": "<Figure size 640x480 with 1 Axes>",
      "image/png": "[encoded data removed]"
     },
     "metadata": {},
     "output_type": "display_data"
    }
   ],
   "source": [
    "# Set plot style using sb.set_theme()\n",
    "sb.set_theme()\n",
    "# Plot the histogram - x: song time in [sec]; y: number of songs; 40 bins\n",
    "plt.hist(times, 40);"
   ]
  },
  {
   "cell_type": "markdown",
   "source": [
    "Plot the histogram of the song lengths using *plotnine*.\n",
    "[Excellent tutorial on plotnine](https://realpython.com/ggplot-python/)."
   ],
   "metadata": {
    "collapsed": false,
    "pycharm": {
     "name": "#%% md\n"
    }
   }
  },
  {
   "cell_type": "code",
   "execution_count": 7,
   "outputs": [
    {
     "data": {
      "text/plain": "<Figure size 640x480 with 1 Axes>",
      "image/png": "[encoded data removed]"
     },
     "metadata": {},
     "output_type": "display_data"
    },
    {
     "data": {
      "text/plain": "<ggplot: (149834009288)>"
     },
     "execution_count": 7,
     "metadata": {},
     "output_type": "execute_result"
    }
   ],
   "source": [
    "# plot = ggplot(songs, aes(x='Duration'))\n",
    "# plot + geom_histogram(bins=40)\n",
    "ggplot(songs, aes(x='Duration')) + \\\n",
    "    geom_histogram(bins=40,\n",
    "                     fill='blue',\n",
    "                     # color='black',\n",
    "                     color='white',\n",
    "                     # size=2,\n",
    "                     alpha=0.5)"
   ],
   "metadata": {
    "collapsed": false,
    "pycharm": {
     "name": "#%%\n"
    }
   }
  },
  {
   "cell_type": "markdown",
   "source": [
    "To avoid the annoying text output like `<ggplot: (177159008578)>` under the plot, use the following syntax:"
   ],
   "metadata": {
    "collapsed": false,
    "pycharm": {
     "name": "#%% md\n"
    }
   }
  },
  {
   "cell_type": "code",
   "execution_count": 8,
   "outputs": [
    {
     "data": {
      "text/plain": "<Figure size 640x480 with 1 Axes>",
      "image/png": "[encoded data removed]"
     },
     "metadata": {},
     "output_type": "display_data"
    }
   ],
   "source": [
    "(\n",
    "        ggplot(songs, aes(x='Duration')) + \\\n",
    "            geom_histogram(bins=40,\n",
    "                          fill='blue',\n",
    "                          # color='black',\n",
    "                          color='white',\n",
    "                          # size=2,\n",
    "                          alpha=0.5)\n",
    ").draw();"
   ],
   "metadata": {
    "collapsed": false,
    "pycharm": {
     "name": "#%%\n"
    }
   }
  },
  {
   "cell_type": "markdown",
   "metadata": {
    "pycharm": {
     "name": "#%% md\n"
    }
   },
   "source": [
    "## Masking - Boolean arrays as masks"
   ]
  },
  {
   "cell_type": "markdown",
   "metadata": {
    "pycharm": {
     "name": "#%% md\n"
    }
   },
   "source": [
    "Extract song release years into another NumPy array."
   ]
  },
  {
   "cell_type": "code",
   "execution_count": 9,
   "metadata": {
    "pycharm": {
     "name": "#%%\n"
    }
   },
   "outputs": [
    {
     "name": "stdout",
     "output_type": "stream",
     "text": [
      "310\n",
      "[1965 1967 1964 1963 1963 1968 1965 1961 1963 1963]\n"
     ]
    }
   ],
   "source": [
    "# print(type(songs['Year']))          # <class 'pandas.core.series.Series'>\n",
    "years = songs['Year'].values\n",
    "# print(type(years))                  # <class 'numpy.ndarray'>\n",
    "print(len(years))\n",
    "print(years[0:10])"
   ]
  },
  {
   "cell_type": "markdown",
   "source": [
    "Extract songs released after 1968."
   ],
   "metadata": {
    "collapsed": false,
    "pycharm": {
     "name": "#%% md\n"
    }
   }
  },
  {
   "cell_type": "code",
   "execution_count": 10,
   "metadata": {
    "pycharm": {
     "name": "#%%\n"
    }
   },
   "outputs": [
    {
     "name": "stdout",
     "output_type": "stream",
     "text": [
      "[False False False False False False  True  True False False]\n"
     ]
    }
   ],
   "source": [
    "years_gt_1968 = (years > 1968)                           # mask: Boolean array of the same length as years, True if years > 1968\n",
    "print(years_gt_1968[20:30])                              # get a slice of it"
   ]
  },
  {
   "cell_type": "markdown",
   "source": [
    "Get the titles of the first 10 songs released after 1968."
   ],
   "metadata": {
    "collapsed": false,
    "pycharm": {
     "name": "#%% md\n"
    }
   }
  },
  {
   "cell_type": "code",
   "execution_count": 11,
   "outputs": [
    {
     "name": "stdout",
     "output_type": "stream",
     "text": [
      "10             All Things Must Pass\n",
      "26    Because I Know You Love Me So\n",
      "27                          Because\n",
      "36                Carry That Weight\n",
      "44                  Come and Get It\n",
      "45                    Come Together\n",
      "52                       Dig a Pony\n",
      "53                           Dig It\n",
      "59                Don't Let Me Down\n",
      "68        Fancy My Chances with You\n",
      "Name: Title, dtype: object\n"
     ]
    }
   ],
   "source": [
    "# Get the titles of the first 10 songs such that years > 1968\n",
    "print(songs[years_gt_1968]['Title'].head(10))"
   ],
   "metadata": {
    "collapsed": false,
    "pycharm": {
     "name": "#%%\n"
    }
   }
  },
  {
   "cell_type": "markdown",
   "source": [
    "Get the titles of the last 10 songs such that `years > 1968` and `times < 120`."
   ],
   "metadata": {
    "collapsed": false,
    "pycharm": {
     "name": "#%% md\n"
    }
   }
  },
  {
   "cell_type": "code",
   "execution_count": 12,
   "outputs": [
    {
     "name": "stdout",
     "output_type": "stream",
     "text": [
      "36                           Carry That Weight\n",
      "53                                      Dig It\n",
      "81                             Golden Slumbers\n",
      "94                                 Her Majesty\n",
      "173                                 Maggie Mae\n",
      "175            Mailman, Bring Me No More Blues\n",
      "179                           Mean Mr. Mustard\n",
      "208                              Polythene Pam\n",
      "226    She Came in Through the Bathroom Window\n",
      "Name: Title, dtype: object\n"
     ]
    }
   ],
   "source": [
    "# Get the titles of the last 10 songs such that years > 1968 and times < 120\n",
    "times_lt_120 = (times < 120)\n",
    "print(songs[years_gt_1968 & times_lt_120]['Title'].tail(10))"
   ],
   "metadata": {
    "collapsed": false,
    "pycharm": {
     "name": "#%%\n"
    }
   }
  },
  {
   "cell_type": "code",
   "execution_count": 13,
   "outputs": [
    {
     "name": "stdout",
     "output_type": "stream",
     "text": [
      "1                                    A Day in the Life\n",
      "11                                    All Together Now\n",
      "12                                All You Need Is Love\n",
      "14                              And Your Bird Can Sing\n",
      "21                             Baby, You're a Rich Man\n",
      "28                  Being for the Benefit of Mr. Kite!\n",
      "31                                        Blue Jay Way\n",
      "41                      Christmas Time (Is Here Again)\n",
      "56                                       Doctor Robert\n",
      "63                                       Eleanor Rigby\n",
      "69                                       Fixing a Hole\n",
      "70                                              Flying\n",
      "71                                          For No One\n",
      "77                                      Getting Better\n",
      "82                                   Good Day Sunshine\n",
      "83                          Good Morning, Good Morning\n",
      "86                         Got to Get You into My Life\n",
      "91                                      Hello, Goodbye\n",
      "96                          Here, There and Everywhere\n",
      "104                                    I Am the Walrus\n",
      "119                                 I Want to Tell You\n",
      "134                                  I'm Only Sleeping\n",
      "146                                  It's All Too Much\n",
      "149                                     Jessie's Dream\n",
      "168                                        Love You To\n",
      "169                                        Lovely Rita\n",
      "171                      Lucy in the Sky with Diamonds\n",
      "174                               Magical Mystery Tour\n",
      "200                               Only a Northern Song\n",
      "203                                   Paperback Writer\n",
      "204                                         Penny Lane\n",
      "209                                               Rain\n",
      "223    Sgt. Pepper's Lonely Hearts Club Band (Reprise)\n",
      "224              Sgt. Pepper's Lonely Hearts Club Band\n",
      "228                                  She Said She Said\n",
      "230                                 She's Leaving Home\n",
      "240                          Strawberry Fields Forever\n",
      "246                                             Taxman\n",
      "257                               The Fool on the Hill\n",
      "274                               Tomorrow Never Knows\n",
      "285                                When I'm Sixty-Four\n",
      "290                 With a Little Help from My Friends\n",
      "291                             Within You Without You\n",
      "294                                   Yellow Submarine\n",
      "299              You Know My Name (Look Up the Number)\n",
      "309                            Your Mother Should Know\n",
      "Name: Title, dtype: object\n",
      "\n",
      "Mean length of songs from 1966-1967: 180.47826086956522\n"
     ]
    }
   ],
   "source": [
    "# Get the titles of all songs released 1966 or 1967, as well as the mean value of their lengths\n",
    "years_1966_1967 = (years >= 1966) & (years <= 1967)\n",
    "print(songs[years_1966_1967]['Title'])\n",
    "print()\n",
    "print('Mean length of songs from 1966-1967:', np.mean(songs[years_1966_1967]['Duration']))"
   ],
   "metadata": {
    "collapsed": false,
    "pycharm": {
     "name": "#%%\n"
    }
   }
  },
  {
   "cell_type": "markdown",
   "metadata": {
    "pycharm": {
     "name": "#%% md\n"
    }
   },
   "source": [
    "## Fancy indexing\n",
    "Fancy indexing is like simple indexing, but arrays of indices are passed in place of single scalars. <br>\n",
    "**Important:** The shape of the result is the same as the (possibly broadcasted) shape of the index array, not of the array being indexed."
   ]
  },
  {
   "cell_type": "markdown",
   "metadata": {
    "pycharm": {
     "name": "#%% md\n"
    }
   },
   "source": [
    "### Fancy indexing of one-dimensional arrays"
   ]
  },
  {
   "cell_type": "code",
   "execution_count": 14,
   "metadata": {
    "pycharm": {
     "name": "#%%\n"
    }
   },
   "outputs": [
    {
     "name": "stdout",
     "output_type": "stream",
     "text": [
      "[8 9 3 8 8 0 5 3 9 9]\n",
      "\n",
      "[3 9 0]\n",
      "[ 8  9 55  8  8 55  5  3 55  9]\n",
      "[ 8  9 45  8  8 45  5  3 45  9]\n",
      "\n",
      "[[ 9  8]\n",
      " [45  8]]\n"
     ]
    }
   ],
   "source": [
    "np.random.seed(3)\n",
    "a = np.random.randint(10, size=10)\n",
    "print(a)\n",
    "print()\n",
    "\n",
    "i = [2, 8, 5]                                 # one-dimensional index\n",
    "print(a[i])\n",
    "a[i] = 55\n",
    "print(a)\n",
    "a[i] -= 10\n",
    "print(a)\n",
    "print()\n",
    "\n",
    "i = np.array([[1, 0],                         # multi-dimensional index\n",
    "              [2, 4]])\n",
    "print(a[i])                                   # the shape of the result is the same as the shape of the index array"
   ]
  },
  {
   "cell_type": "markdown",
   "metadata": {
    "pycharm": {
     "name": "#%% md\n"
    }
   },
   "source": [
    "### Fancy indexing of multi-dimensional arrays"
   ]
  },
  {
   "cell_type": "code",
   "execution_count": 15,
   "metadata": {
    "pycharm": {
     "name": "#%%\n"
    }
   },
   "outputs": [
    {
     "name": "stdout",
     "output_type": "stream",
     "text": [
      "[[5 7 6 0]\n",
      " [4 7 8 1]\n",
      " [6 2 2 1]]\n",
      "\n",
      "[6 2 4]\n",
      "\n",
      "[[6 7 5]\n",
      " [2 2 6]\n",
      " [8 7 4]]\n",
      "\n",
      "[2 6 2]\n",
      "[[8 4 7]\n",
      " [2 6 2]]\n"
     ]
    }
   ],
   "source": [
    "m = np.random.randint(10, size=(3, 4))\n",
    "print(m)\n",
    "print()\n",
    "\n",
    "i_row = np.array([0, 2, 1])\n",
    "i_col = np.array([2, 1, 0])\n",
    "print(m[i_row, i_col])                        # resulting pairs of indices: [0, 2], [2, 1], [1, 0]\n",
    "print()\n",
    "\n",
    "print(m[i_row[:, np.newaxis], i_col])\n",
    "print()\n",
    "\n",
    "print(m[2, [2, 0, 1]])\n",
    "print(m[-2:, [2, 0, 1]])"
   ]
  },
  {
   "cell_type": "markdown",
   "metadata": {
    "pycharm": {
     "name": "#%% md\n"
    }
   },
   "source": [
    "## Sorting arrays\n",
    "What are the longest and the shortest Beatles songs?"
   ]
  },
  {
   "cell_type": "markdown",
   "metadata": {
    "pycharm": {
     "name": "#%% md\n"
    }
   },
   "source": [
    "`np.sort()`\n",
    "Returns a sorted copy of an array."
   ]
  },
  {
   "cell_type": "code",
   "execution_count": 16,
   "metadata": {
    "pycharm": {
     "name": "#%%\n"
    }
   },
   "outputs": [
    {
     "name": "stdout",
     "output_type": "stream",
     "text": [
      "[3 1 7 2 5]\n",
      "[1 2 3 5 7]\n",
      "[1 2 3 5 7]\n"
     ]
    }
   ],
   "source": [
    "a = np.array([3, 1, 7, 2, 5])\n",
    "print(a)\n",
    "print(np.sort(a))                  # a does not change\n",
    "a.sort()                           # inplace sorting, a changes\n",
    "print(a)"
   ]
  },
  {
   "cell_type": "code",
   "execution_count": 17,
   "metadata": {
    "pycharm": {
     "name": "#%%\n"
    }
   },
   "outputs": [
    {
     "name": "stdout",
     "output_type": "stream",
     "text": [
      "[[5 0 3 3 7 9]\n",
      " [3 5 2 4 7 6]\n",
      " [8 8 1 6 7 7]\n",
      " [8 1 5 9 8 9]]\n",
      "\n",
      "[[3 0 1 3 7 6]\n",
      " [5 1 2 4 7 7]\n",
      " [8 5 3 6 7 9]\n",
      " [8 8 5 9 8 9]]\n",
      "\n",
      "[[0 3 3 5 7 9]\n",
      " [2 3 4 5 6 7]\n",
      " [1 6 7 7 8 8]\n",
      " [1 5 8 8 9 9]]\n"
     ]
    }
   ],
   "source": [
    "np.random.seed(0)\n",
    "m = np.random.randint(10, size=(4, 6))\n",
    "print(m)\n",
    "print()\n",
    "\n",
    "print(np.sort(m, axis=0))                 # sort each column of x, independently \n",
    "print()\n",
    "print(np.sort(m, axis=1))                 # sort each row of x, independently "
   ]
  },
  {
   "cell_type": "markdown",
   "metadata": {
    "pycharm": {
     "name": "#%% md\n"
    }
   },
   "source": [
    "`np.argsort()`\n",
    "Returns the indices that would sort an array."
   ]
  },
  {
   "cell_type": "code",
   "execution_count": 18,
   "metadata": {
    "pycharm": {
     "name": "#%%\n"
    }
   },
   "outputs": [
    {
     "name": "stdout",
     "output_type": "stream",
     "text": [
      "0    174\n",
      "1    335\n",
      "2    152\n",
      "3    104\n",
      "4    163\n",
      "Name: Duration, dtype: int64\n",
      "\n",
      "<class 'numpy.ndarray'>\n",
      "[ 94 173  53 288 179 208 223  81 132  36]\n",
      "[23 40 51 52 66 72 80 91 92 96]\n",
      "\n",
      "94                     Her Majesty\n",
      "173                     Maggie Mae\n",
      "53                          Dig It\n",
      "288                 Wild Honey Pie\n",
      "179               Mean Mr. Mustard\n",
      "                  ...             \n",
      "283       What's The New Mary Jane\n",
      "146              It's All Too Much\n",
      "98                        Hey Jude\n",
      "120    I Want You (She's So Heavy)\n",
      "212                   Revolution 9\n",
      "Name: Title, Length: 310, dtype: object\n",
      "\n",
      "93                   Helter Skelter\n",
      "104                 I Am the Walrus\n",
      "286    While My Guitar Gently Weeps\n",
      "291          Within You Without You\n",
      "1                 A Day in the Life\n",
      "283        What's The New Mary Jane\n",
      "146               It's All Too Much\n",
      "98                         Hey Jude\n",
      "120     I Want You (She's So Heavy)\n",
      "212                    Revolution 9\n",
      "Name: Title, dtype: object\n"
     ]
    }
   ],
   "source": [
    "songs = pd.read_csv('data/The Beatles songs dataset, v1, no NAs.csv')       # get the songs as a pd.DataFrame object\n",
    "lengths = songs['Duration']                                                 # get the song lengths as a pd.Series object\n",
    "print(lengths.head())\n",
    "print()\n",
    "\n",
    "times = lengths.values                                                      # convert the song lengths into a NumPy array\n",
    "i = np.argsort(times)                                                       # sort song times from shortest to longest\n",
    "print(type(i))                                                              # <class 'numpy.ndarray'>\n",
    "print(i[0:10])                                                              # print the first 10 indices\n",
    "print(times[i[0:10]])                                                       # print the 10 shortest song times\n",
    "print()\n",
    "\n",
    "print(songs['Title'][i])                                                    # fancy-index songs['Title']\n",
    "print()\n",
    "\n",
    "print(songs['Title'][i[-10:]])                                              # fancy-index songs['Title'], the 10 longest songs"
   ]
  }
 ],
 "metadata": {
  "kernelspec": {
   "display_name": "Python 3 (ipykernel)",
   "language": "python",
   "name": "python3"
  },
  "language_info": {
   "codemirror_mode": {
    "name": "ipython",
    "version": 3
   },
   "file_extension": ".py",
   "mimetype": "text/x-python",
   "name": "python",
   "nbconvert_exporter": "python",
   "pygments_lexer": "ipython3",
   "version": "3.10.0"
  }
 },
 "nbformat": 4,
 "nbformat_minor": 4
}