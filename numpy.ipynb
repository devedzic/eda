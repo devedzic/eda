{
 "cells": [
  {
   "cell_type": "markdown",
   "metadata": {
    "pycharm": {
     "name": "#%% md\n"
    }
   },
   "source": [
    "# Getting started with NumPy\n",
    "Introduction to NumPy's most useful and most frequently used functions."
   ]
  },
  {
   "cell_type": "markdown",
   "metadata": {
    "pycharm": {
     "name": "#%% md\n"
    }
   },
   "source": [
    "## Import and configure packages\n",
    "The `%run` magic does not work well in DataSpell, thus the following `import` statements are copied here from *import_packages.ipynb*:"
   ]
  },
  {
   "cell_type": "code",
   "execution_count": null,
   "outputs": [],
   "source": [
    "%load_ext autoreload\n",
    "%autoreload 2\n",
    "\n",
    "%matplotlib inline\n",
    "\n",
    "%config IPCompleter.greedy=True\n",
    "\n",
    "import numpy as np\n",
    "import matplotlib as mpl\n",
    "import matplotlib.pyplot as plt\n",
    "plt.style.use('classic')\n",
    "import pandas as pd\n",
    "import seaborn as sb\n",
    "\n",
    "from plotnine import ggplot, aes, geom_line, geom_histogram, theme_xkcd"
   ],
   "metadata": {
    "collapsed": false,
    "pycharm": {
     "name": "#%%\n"
    }
   }
  },
  {
   "cell_type": "markdown",
   "metadata": {
    "pycharm": {
     "name": "#%% md\n"
    }
   },
   "source": [
    "### Package versions"
   ]
  },
  {
   "cell_type": "code",
   "execution_count": null,
   "metadata": {
    "pycharm": {
     "name": "#%%\n"
    }
   },
   "outputs": [],
   "source": [
    "np.__version__\n",
    "pd.__version__"
   ]
  },
  {
   "cell_type": "code",
   "execution_count": null,
   "metadata": {
    "pycharm": {
     "name": "#%%\n"
    }
   },
   "outputs": [],
   "source": [
    "print(np.__version__)\n",
    "print(pd.__version__)"
   ]
  },
  {
   "cell_type": "markdown",
   "metadata": {
    "pycharm": {
     "name": "#%% md\n"
    }
   },
   "source": [
    "## Creating NumPy arrays from Python lists\n",
    "Using `np.array()`:"
   ]
  },
  {
   "cell_type": "code",
   "execution_count": null,
   "metadata": {
    "pycharm": {
     "name": "#%%\n"
    }
   },
   "outputs": [],
   "source": [
    "a = np.array([2, 4, 7, 3, 1])\n",
    "a"
   ]
  },
  {
   "cell_type": "code",
   "execution_count": null,
   "metadata": {
    "pycharm": {
     "name": "#%%\n"
    }
   },
   "outputs": [],
   "source": [
    "b = np.array([1.2, 3, 4, 5.6, 2.1])\n",
    "b"
   ]
  },
  {
   "cell_type": "markdown",
   "metadata": {
    "pycharm": {
     "name": "#%% md\n"
    }
   },
   "source": [
    "## Types of NumPy arrays and their elements"
   ]
  },
  {
   "cell_type": "markdown",
   "metadata": {
    "pycharm": {
     "name": "#%% md\n"
    }
   },
   "source": [
    "#### `numpy.ndarray`"
   ]
  },
  {
   "cell_type": "code",
   "execution_count": null,
   "metadata": {
    "pycharm": {
     "name": "#%%\n"
    }
   },
   "outputs": [],
   "source": [
    "type(a)"
   ]
  },
  {
   "cell_type": "code",
   "execution_count": null,
   "metadata": {
    "pycharm": {
     "name": "#%%\n"
    }
   },
   "outputs": [],
   "source": [
    "type(b)"
   ]
  },
  {
   "cell_type": "markdown",
   "metadata": {
    "pycharm": {
     "name": "#%% md\n"
    }
   },
   "source": [
    "#### `dtype`\n",
    "Frequently used `dtype`s: `int`, `int16`, `int32`, `int64`, `float`, `float16`, `float32`, `float64`..."
   ]
  },
  {
   "cell_type": "code",
   "execution_count": null,
   "metadata": {
    "pycharm": {
     "name": "#%%\n"
    }
   },
   "outputs": [],
   "source": [
    "c = np.array([1, 2, 3], dtype='float32')\n",
    "c"
   ]
  },
  {
   "cell_type": "code",
   "execution_count": null,
   "metadata": {
    "pycharm": {
     "name": "#%%\n"
    }
   },
   "outputs": [],
   "source": [
    "d = np.array([1., 2, 3.8, 4], dtype='int32')\n",
    "d"
   ]
  },
  {
   "cell_type": "markdown",
   "metadata": {
    "pycharm": {
     "name": "#%% md\n"
    }
   },
   "source": [
    "## Creating NumPy arrays from scratch"
   ]
  },
  {
   "cell_type": "markdown",
   "metadata": {
    "pycharm": {
     "name": "#%% md\n"
    }
   },
   "source": [
    "### `np.arange()`, `np.zeros()`, `np.ones()`, `np.full()`, `np.linspace()`, `np.empty()`"
   ]
  },
  {
   "cell_type": "code",
   "execution_count": null,
   "metadata": {
    "pycharm": {
     "name": "#%%\n"
    }
   },
   "outputs": [],
   "source": [
    "a = np.arange(1, 10, 2)\n",
    "a"
   ]
  },
  {
   "cell_type": "code",
   "execution_count": null,
   "metadata": {
    "pycharm": {
     "name": "#%%\n"
    }
   },
   "outputs": [],
   "source": [
    "a = np.arange(1, 10, 2, dtype='float32')\n",
    "a"
   ]
  },
  {
   "cell_type": "code",
   "execution_count": null,
   "metadata": {
    "pycharm": {
     "name": "#%%\n"
    }
   },
   "outputs": [],
   "source": [
    "a = np.zeros(3)\n",
    "a"
   ]
  },
  {
   "cell_type": "code",
   "execution_count": null,
   "metadata": {
    "pycharm": {
     "name": "#%%\n"
    }
   },
   "outputs": [],
   "source": [
    "a = np.zeros(3, dtype='int')\n",
    "a"
   ]
  },
  {
   "cell_type": "code",
   "execution_count": null,
   "metadata": {
    "pycharm": {
     "name": "#%%\n"
    }
   },
   "outputs": [],
   "source": [
    "a = np.ones(3, dtype='float')\n",
    "a"
   ]
  },
  {
   "cell_type": "code",
   "execution_count": null,
   "metadata": {
    "pycharm": {
     "name": "#%%\n"
    }
   },
   "outputs": [],
   "source": [
    "a = np.full(3, 2.4)\n",
    "a"
   ]
  },
  {
   "cell_type": "code",
   "execution_count": null,
   "metadata": {
    "pycharm": {
     "name": "#%%\n"
    }
   },
   "outputs": [],
   "source": [
    "a = np.linspace(3, 11, 6)\n",
    "a"
   ]
  },
  {
   "cell_type": "code",
   "execution_count": null,
   "metadata": {
    "pycharm": {
     "name": "#%%\n"
    }
   },
   "outputs": [],
   "source": [
    "a = np.linspace(3, 11, 7)\n",
    "a"
   ]
  },
  {
   "cell_type": "code",
   "execution_count": null,
   "metadata": {
    "scrolled": true,
    "pycharm": {
     "name": "#%%\n"
    }
   },
   "outputs": [],
   "source": [
    "a = np.empty(3)\n",
    "a"
   ]
  },
  {
   "cell_type": "markdown",
   "metadata": {
    "pycharm": {
     "name": "#%% md\n"
    }
   },
   "source": [
    "### `np.random.random()`, `np.random.randint()`, `np.random.normal()`, `np.random.seed()`"
   ]
  },
  {
   "cell_type": "code",
   "execution_count": null,
   "metadata": {
    "pycharm": {
     "name": "#%%\n"
    }
   },
   "outputs": [],
   "source": [
    "a = np.random.random((10,))\n",
    "print(a)\n",
    "plt.plot(a);"
   ]
  },
  {
   "cell_type": "code",
   "execution_count": null,
   "metadata": {
    "pycharm": {
     "name": "#%%\n"
    }
   },
   "outputs": [],
   "source": [
    "np.random.seed(12)\n",
    "a = np.random.random((10,))\n",
    "print(a)\n",
    "plt.plot(a);"
   ]
  },
  {
   "cell_type": "markdown",
   "metadata": {
    "pycharm": {
     "name": "#%% md\n"
    }
   },
   "source": [
    "## Multidimensional NumPy arrays"
   ]
  },
  {
   "cell_type": "markdown",
   "metadata": {
    "pycharm": {
     "name": "#%% md\n"
    }
   },
   "source": [
    "### `np.array()`, `np.zeros()`, `np.ones()`, `np.full()`, `np.eye()`\n",
    "The shape info is the necessary first argument for `np.zeros()`, `np.ones()` and `np.full()` and must be provided as a tuple.\n"
   ]
  },
  {
   "cell_type": "code",
   "execution_count": null,
   "metadata": {
    "pycharm": {
     "name": "#%%\n"
    }
   },
   "outputs": [],
   "source": [
    "a = np.array([range(i, i + 3) for i in [2, 5, 8]])\n",
    "a"
   ]
  },
  {
   "cell_type": "code",
   "execution_count": null,
   "metadata": {
    "pycharm": {
     "name": "#%%\n"
    }
   },
   "outputs": [],
   "source": [
    "a = np.ones((3, 4), dtype='float32')\n",
    "a"
   ]
  },
  {
   "cell_type": "code",
   "execution_count": null,
   "metadata": {
    "pycharm": {
     "name": "#%%\n"
    }
   },
   "outputs": [],
   "source": [
    "a = np.full((2, 4), 2.2)\n",
    "a"
   ]
  },
  {
   "cell_type": "code",
   "execution_count": null,
   "metadata": {
    "pycharm": {
     "name": "#%%\n"
    }
   },
   "outputs": [],
   "source": [
    "a = np.eye(3)\n",
    "a"
   ]
  },
  {
   "cell_type": "markdown",
   "metadata": {
    "pycharm": {
     "name": "#%% md\n"
    }
   },
   "source": [
    "### `np.random.random()`, `np.random.randint()`, `np.random.normal()`, `np.random.seed()`\n",
    "The shape info is the necessary last argument for `np.random.random()`, `np.random.randint()` and `np.random.normal()` and must be provided as a tuple. The first two arguments of `np.random.randint()` (`m` and `n`) represent the interval `[m, n)`. The first two arguments of `np.random.normal()` represent the mean and standard deviation."
   ]
  },
  {
   "cell_type": "code",
   "execution_count": null,
   "metadata": {
    "pycharm": {
     "name": "#%%\n"
    }
   },
   "outputs": [],
   "source": [
    "np.random.seed(11)"
   ]
  },
  {
   "cell_type": "code",
   "execution_count": null,
   "metadata": {
    "pycharm": {
     "name": "#%%\n"
    }
   },
   "outputs": [],
   "source": [
    "a = np.random.random((2, 3))\n",
    "a"
   ]
  },
  {
   "cell_type": "code",
   "execution_count": null,
   "metadata": {
    "pycharm": {
     "name": "#%%\n"
    }
   },
   "outputs": [],
   "source": [
    "a = np.random.randint(1, 10, (3, 4))\n",
    "a"
   ]
  },
  {
   "cell_type": "code",
   "execution_count": null,
   "metadata": {
    "pycharm": {
     "name": "#%%\n"
    }
   },
   "outputs": [],
   "source": [
    "a = np.random.normal(0, 1, (3, 4))\n",
    "a"
   ]
  },
  {
   "cell_type": "markdown",
   "metadata": {
    "pycharm": {
     "name": "#%% md\n"
    }
   },
   "source": [
    "## Controlling the number of fraction digits\n",
    "`np.set_printoptions()` does not seem to work well:"
   ]
  },
  {
   "cell_type": "code",
   "execution_count": null,
   "metadata": {
    "pycharm": {
     "name": "#%%\n"
    }
   },
   "outputs": [],
   "source": [
    "# np.set_printoptions(precision=2)                                 # does not print trailing 0's\n",
    "# np.set_printoptions(formatter={'float': '{: 0.2f}'.format})\n",
    "np.set_printoptions(precision=2)\n",
    "a"
   ]
  },
  {
   "cell_type": "markdown",
   "source": [
    "However, `numpy.ndarray.round()` does:"
   ],
   "metadata": {
    "collapsed": false,
    "pycharm": {
     "name": "#%% md\n"
    }
   }
  },
  {
   "cell_type": "code",
   "execution_count": null,
   "outputs": [],
   "source": [
    "a.round(2)"
   ],
   "metadata": {
    "collapsed": false,
    "pycharm": {
     "name": "#%%\n"
    }
   }
  },
  {
   "cell_type": "markdown",
   "metadata": {
    "pycharm": {
     "name": "#%% md\n"
    }
   },
   "source": [
    "## Attributes of NumPy arrays\n",
    "`shape`, `ndim`, `size`, `dtype`"
   ]
  },
  {
   "cell_type": "code",
   "execution_count": null,
   "metadata": {
    "pycharm": {
     "name": "#%%\n"
    }
   },
   "outputs": [],
   "source": [
    "np.random.seed(12)\n",
    "x1 = np.random.randint(5, size=6)\n",
    "x2 = np.random.randint(5, size=(3, 4))\n",
    "x3 = np.random.randint(5, size=(3, 4, 5))"
   ]
  },
  {
   "cell_type": "code",
   "execution_count": null,
   "metadata": {
    "pycharm": {
     "name": "#%%\n"
    }
   },
   "outputs": [],
   "source": [
    "print(x2.ndim)\n",
    "print(x3.ndim)\n",
    "print(x1.shape)\n",
    "print(x2.shape)\n",
    "print(x2.size)\n",
    "print(x3.dtype)"
   ]
  },
  {
   "cell_type": "markdown",
   "metadata": {
    "pycharm": {
     "name": "#%% md\n"
    }
   },
   "source": [
    "## Array indexing"
   ]
  },
  {
   "cell_type": "code",
   "execution_count": null,
   "metadata": {
    "pycharm": {
     "name": "#%%\n"
    }
   },
   "outputs": [],
   "source": [
    "print(x1)\n",
    "print(x1[0])\n",
    "print(x1[-1])\n",
    "print(x1[-3])\n",
    "print()\n",
    "\n",
    "print(x2)\n",
    "print(x2[1])         # access a row\n",
    "print(x2[1, :])      # access a row\n",
    "print(x2[:, 1])      # access a column\n",
    "print(x2[0, -1])\n",
    "print(x2)\n",
    "\n",
    "x2[2, 3] = 23\n",
    "print(x2)"
   ]
  },
  {
   "cell_type": "markdown",
   "metadata": {
    "pycharm": {
     "name": "#%% md\n"
    }
   },
   "source": [
    "## Slicing\n",
    "General syntax: `x[start:stop:step]`."
   ]
  },
  {
   "cell_type": "code",
   "execution_count": null,
   "metadata": {
    "pycharm": {
     "name": "#%%\n"
    }
   },
   "outputs": [],
   "source": [
    "print(x2[1:, 0:2])\n",
    "print(x2[1:, ::2])\n",
    "print(x2[:-2, 1:])\n",
    "print(x2[0, 1:])\n",
    "\n",
    "print(x1)\n",
    "print(x1[::-1])     # print x1 in reversed order"
   ]
  },
  {
   "cell_type": "markdown",
   "metadata": {
    "pycharm": {
     "name": "#%% md\n"
    }
   },
   "source": [
    "## Copying arrays\n",
    "Subarrays are no-copy *views* on arrays. To create copies, use `copy()`."
   ]
  },
  {
   "cell_type": "code",
   "execution_count": null,
   "metadata": {
    "pycharm": {
     "name": "#%%\n"
    }
   },
   "outputs": [],
   "source": [
    "print(x2)\n",
    "x2_subarray = x2[0:2, 0:2]           # it's just a specific view, not a copy\n",
    "print(x2_subarray)\n",
    "x2_subarray[0, 0] = 22\n",
    "print(x2_subarray)\n",
    "print(x2)\n",
    "x2_subarray = x2[0:2, 0:2].copy()    # it's a copy\n",
    "x2_subarray[0, 0] = 33\n",
    "print(x2_subarray)\n",
    "print(x2)"
   ]
  },
  {
   "cell_type": "markdown",
   "metadata": {
    "pycharm": {
     "name": "#%% md\n"
    }
   },
   "source": [
    "## Reshaping arrays\n",
    "`reshape()` and `np.newaxis`"
   ]
  },
  {
   "cell_type": "code",
   "execution_count": null,
   "metadata": {
    "scrolled": true,
    "pycharm": {
     "name": "#%%\n"
    }
   },
   "outputs": [],
   "source": [
    "a = a = np.arange(1, 10)\n",
    "print(a)\n",
    "a = np.arange(1, 10).reshape((3, 3))\n",
    "a"
   ]
  },
  {
   "cell_type": "code",
   "execution_count": null,
   "metadata": {
    "pycharm": {
     "name": "#%%\n"
    }
   },
   "outputs": [],
   "source": [
    "a = np.arange(1, 4)\n",
    "print(a)\n",
    "print(a.reshape((1, 3)))       # row vector via reshape\n",
    "print(a[np.newaxis, :])        # row vector via newaxis\n",
    "print(a.reshape((3, 1)))       # column vector via reshape\n",
    "print(a[:, np.newaxis])        # column vector via newaxis"
   ]
  },
  {
   "cell_type": "markdown",
   "metadata": {
    "pycharm": {
     "name": "#%% md\n"
    }
   },
   "source": [
    "## Concatenating arrays\n",
    "`np.concatenate()`, `np.vstack()`, `np.hstack()`"
   ]
  },
  {
   "cell_type": "markdown",
   "metadata": {
    "pycharm": {
     "name": "#%% md\n"
    }
   },
   "source": [
    "One-dimensional arrays:"
   ]
  },
  {
   "cell_type": "code",
   "execution_count": null,
   "metadata": {
    "pycharm": {
     "name": "#%%\n"
    }
   },
   "outputs": [],
   "source": [
    "a = np.array([1, 2, 3])\n",
    "b = np.arange(4, 7)\n",
    "c = np.concatenate([a, b])     # argument is a list\n",
    "c"
   ]
  },
  {
   "cell_type": "code",
   "execution_count": null,
   "metadata": {
    "pycharm": {
     "name": "#%%\n"
    }
   },
   "outputs": [],
   "source": [
    "c = np.arange(7, 10)\n",
    "d = np.concatenate([a, b, c])\n",
    "d"
   ]
  },
  {
   "cell_type": "markdown",
   "metadata": {
    "pycharm": {
     "name": "#%% md\n"
    }
   },
   "source": [
    "Two-dimensional arrays:"
   ]
  },
  {
   "cell_type": "code",
   "execution_count": null,
   "metadata": {
    "pycharm": {
     "name": "#%%\n"
    }
   },
   "outputs": [],
   "source": [
    "a = np.array([[1, 2, 3],\n",
    "              [4, 5, 6]])\n",
    "b = np.concatenate([a, a])\n",
    "b"
   ]
  },
  {
   "cell_type": "code",
   "execution_count": null,
   "metadata": {
    "pycharm": {
     "name": "#%%\n"
    }
   },
   "outputs": [],
   "source": [
    "b = np.concatenate([a, a], axis=1)\n",
    "b"
   ]
  },
  {
   "cell_type": "code",
   "execution_count": null,
   "metadata": {
    "pycharm": {
     "name": "#%%\n"
    }
   },
   "outputs": [],
   "source": [
    "a = np.array([[1, 2, 3], \n",
    "              [4, 5, 6]])\n",
    "b = np.array([7, 8, 9])\n",
    "c = np.array([[10],\n",
    "              [11]])\n",
    "print(np.vstack([a, b]))\n",
    "print(np.hstack([a, c]))"
   ]
  },
  {
   "cell_type": "markdown",
   "metadata": {
    "pycharm": {
     "name": "#%% md\n"
    }
   },
   "source": [
    "## Splitting arrays\n",
    "`np.split()`, `np.vsplit()`, `np.hsplit()`"
   ]
  },
  {
   "cell_type": "code",
   "execution_count": null,
   "metadata": {
    "pycharm": {
     "name": "#%%\n"
    }
   },
   "outputs": [],
   "source": [
    "a = np.array([1, 2, 3, 4, 5, 6])\n",
    "print(np.split(a, [3, 5]))"
   ]
  },
  {
   "cell_type": "code",
   "execution_count": null,
   "metadata": {
    "pycharm": {
     "name": "#%%\n"
    }
   },
   "outputs": [],
   "source": [
    "a = np.array(range(25)).reshape((5, 5))\n",
    "print(a)\n",
    "print()\n",
    "a1, a2, a3 = np.hsplit(a, [2, 4])\n",
    "print(a1, '\\n', a2, '\\n', a3)\n",
    "print()\n",
    "a1, a2, a3 = np.vsplit(a, [2, 4])\n",
    "print(a1, '\\n', a2, '\\n', a3)\n",
    "print()"
   ]
  },
  {
   "cell_type": "markdown",
   "metadata": {
    "pycharm": {
     "name": "#%% md\n"
    }
   },
   "source": [
    "## Universal functions (UFuncs) - vectorized operations, vector/array arithmetic"
   ]
  },
  {
   "cell_type": "markdown",
   "metadata": {
    "pycharm": {
     "name": "#%% md\n"
    }
   },
   "source": [
    "### Operations between scalars and arrays"
   ]
  },
  {
   "cell_type": "code",
   "execution_count": null,
   "metadata": {
    "pycharm": {
     "name": "#%%\n"
    }
   },
   "outputs": [],
   "source": [
    "a = np.arange(2, 5)\n",
    "print(a)\n",
    "print(a + 3)"
   ]
  },
  {
   "cell_type": "code",
   "execution_count": null,
   "metadata": {
    "pycharm": {
     "name": "#%%\n"
    }
   },
   "outputs": [],
   "source": [
    "np.random.seed(0)\n",
    "a = np.random.randint(1, 10, (3, 3))\n",
    "print(a)\n",
    "print(a + 3)\n",
    "print(a + a / 2)"
   ]
  },
  {
   "cell_type": "markdown",
   "metadata": {
    "pycharm": {
     "name": "#%% md\n"
    }
   },
   "source": [
    "### `np.abs()`, `np.exp()`, `np.exp2()`, `np.exp10()`, `np.log()`, `np.log2()`, `np.log10()`,..."
   ]
  },
  {
   "cell_type": "code",
   "execution_count": null,
   "metadata": {
    "pycharm": {
     "name": "#%%\n"
    }
   },
   "outputs": [],
   "source": [
    "np.random.seed(8)\n",
    "a = np.random.randint(-5, 5, (2, 5))\n",
    "print(a)\n",
    "print(np.abs(a))\n",
    "print(np.exp(a))\n",
    "print(np.exp2(a))\n",
    "print(np.log10(a))"
   ]
  },
  {
   "cell_type": "markdown",
   "metadata": {
    "pycharm": {
     "name": "#%% md\n"
    }
   },
   "source": [
    "### `reduce()`\n",
    "Works with any binary ufunc."
   ]
  },
  {
   "cell_type": "code",
   "execution_count": null,
   "metadata": {
    "pycharm": {
     "name": "#%%\n"
    }
   },
   "outputs": [],
   "source": [
    "a = np.arange(1, 6)\n",
    "print(a)\n",
    "print(np.add.reduce(a))        # return sum of all elements of a\n",
    "print(np.multiply.reduce(a))   # return product of all elements of a"
   ]
  },
  {
   "cell_type": "markdown",
   "metadata": {
    "pycharm": {
     "name": "#%% md\n"
    }
   },
   "source": [
    "### `accumulate()`\n",
    "Works with any binary ufunc."
   ]
  },
  {
   "cell_type": "code",
   "execution_count": null,
   "metadata": {
    "pycharm": {
     "name": "#%%\n"
    }
   },
   "outputs": [],
   "source": [
    "a = np.arange(1, 6)\n",
    "print(np.add.accumulate(a))          # return all intermediary results when summing elements of a left to right\n",
    "print(np.multiply.accumulate(a))     # return all intermediary results when multiplying elements of a left to right"
   ]
  },
  {
   "cell_type": "markdown",
   "metadata": {
    "pycharm": {
     "name": "#%% md\n"
    }
   },
   "source": [
    "### `outer()`\n",
    "Works with any ufunc. Computes the output of all pairs of two different inputs."
   ]
  },
  {
   "cell_type": "code",
   "execution_count": null,
   "metadata": {
    "pycharm": {
     "name": "#%%\n"
    }
   },
   "outputs": [],
   "source": [
    "a = np.arange(1, 6)\n",
    "print(np.multiply.outer(a, a))       # create multiplication table"
   ]
  },
  {
   "cell_type": "markdown",
   "metadata": {
    "pycharm": {
     "name": "#%% md\n"
    }
   },
   "source": [
    "## Aggregation functions"
   ]
  },
  {
   "cell_type": "markdown",
   "metadata": {
    "pycharm": {
     "name": "#%% md\n"
    }
   },
   "source": [
    "The following table provides a list of useful aggregation functions available in NumPy:\n",
    "\n",
    "|Function Name      |   NaN-safe Version  | Description                                   |\n",
    "|-------------------|---------------------|-----------------------------------------------|\n",
    "| ``np.sum``        | ``np.nansum``       | Compute sum of elements                       |\n",
    "| ``np.prod``       | ``np.nanprod``      | Compute product of elements                   |\n",
    "| ``np.mean``       | ``np.nanmean``      | Compute mean of elements                      |\n",
    "| ``np.std``        | ``np.nanstd``       | Compute standard deviation                    |\n",
    "| ``np.var``        | ``np.nanvar``       | Compute variance                              |\n",
    "| ``np.min``        | ``np.nanmin``       | Find minimum value                            |\n",
    "| ``np.max``        | ``np.nanmax``       | Find maximum value                            |\n",
    "| ``np.argmin``     | ``np.nanargmin``    | Find index of minimum value                   |\n",
    "| ``np.argmax``     | ``np.nanargmax``    | Find index of maximum value                   |\n",
    "| ``np.median``     | ``np.nanmedian``    | Compute median of elements                    |\n",
    "| ``np.percentile`` | ``np.nanpercentile``| Compute rank-based statistics of elements     |\n",
    "| ``np.any``        | N/A                 | Evaluate whether any elements are true        |\n",
    "| ``np.all``        | N/A                 | Evaluate whether all elements are true        |"
   ]
  },
  {
   "cell_type": "markdown",
   "metadata": {
    "pycharm": {
     "name": "#%% md\n"
    }
   },
   "source": [
    "### `np.sum()`, `np.min()`, `np.max()`"
   ]
  },
  {
   "cell_type": "code",
   "execution_count": null,
   "metadata": {
    "pycharm": {
     "name": "#%%\n"
    }
   },
   "outputs": [],
   "source": [
    "np.random.seed(2)\n",
    "\n",
    "a = np.random.random(100)\n",
    "print(np.sum(a))\n",
    "print(np.min(a))\n",
    "print(np.max(a))\n",
    "print()\n",
    "\n",
    "m = np.random.random((3, 4))\n",
    "print(m)\n",
    "print()\n",
    "print(np.sum(m))\n",
    "print(np.min(m, axis=0))         # axix=0: finding min of each column, i.e. ROWS (dimension 0) get COLLAPSED\n",
    "print(np.max(m, axis=1))         # axix=1: finding min of each row, i.e. COLUMNS (dimension 1) get COLLAPSED"
   ]
  },
  {
   "cell_type": "markdown",
   "metadata": {
    "pycharm": {
     "name": "#%% md\n"
    }
   },
   "source": [
    "### `np.mean()`, `np.median()`, `np.percentile()`"
   ]
  },
  {
   "cell_type": "code",
   "execution_count": null,
   "metadata": {
    "pycharm": {
     "name": "#%%\n"
    }
   },
   "outputs": [],
   "source": [
    "np.random.seed(2)\n",
    "\n",
    "a = np.random.random(100)\n",
    "print(np.mean(a))\n",
    "print(np.median(a))\n",
    "print(np.percentile(a, 75))     # 3rd quartile\n",
    "print(np.percentile(a, 95))     # 95th percentile"
   ]
  },
  {
   "cell_type": "markdown",
   "metadata": {
    "pycharm": {
     "name": "#%% md\n"
    }
   },
   "source": [
    "## Broadcasting"
   ]
  },
  {
   "cell_type": "markdown",
   "metadata": {
    "pycharm": {
     "name": "#%% md\n"
    }
   },
   "source": [
    "### Rules of broadcasting\n",
    "\n",
    "Broadcasting in NumPy follows a strict set of rules to determine the interaction between the two arrays:\n",
    "\n",
    "- Rule 1: If the two arrays differ in their number of dimensions, the *shape* of the one with fewer dimensions is *padded* with ones on its leading (left) side.\n",
    "- Rule 2: If the shape of the two arrays does not match in any dimension, the array with shape equal to 1 in that dimension is stretched to match the other shape.\n",
    "- Rule 3: If in any dimension the sizes disagree and neither is equal to 1, an error is raised.\n",
    "\n",
    "To make these rules clear, let's consider a few examples in detail."
   ]
  },
  {
   "cell_type": "markdown",
   "metadata": {
    "pycharm": {
     "name": "#%% md\n"
    }
   },
   "source": [
    "![Broadcasting Visual](figures/broadcasting.png)"
   ]
  },
  {
   "cell_type": "markdown",
   "metadata": {
    "pycharm": {
     "name": "#%% md\n"
    }
   },
   "source": [
    "### Examples of broadcasting"
   ]
  },
  {
   "cell_type": "code",
   "execution_count": null,
   "metadata": {
    "pycharm": {
     "name": "#%%\n"
    }
   },
   "outputs": [],
   "source": [
    "M = np.ones((2, 3))\n",
    "a = np.arange(3)\n",
    "M.shape, a.shape"
   ]
  },
  {
   "cell_type": "code",
   "execution_count": null,
   "metadata": {
    "pycharm": {
     "name": "#%%\n"
    }
   },
   "outputs": [],
   "source": [
    "M + a           # a.shape first becomes (1, 3) by Rule 1, \n",
    "                # and then by Rule 2 it stretches vertically to match the number of rows of M (2)"
   ]
  },
  {
   "cell_type": "code",
   "execution_count": null,
   "metadata": {
    "pycharm": {
     "name": "#%%\n"
    }
   },
   "outputs": [],
   "source": [
    "a = np.arange(3).reshape((3, 1))\n",
    "b = np.arange(3)\n",
    "a.shape, b.shape"
   ]
  },
  {
   "cell_type": "code",
   "execution_count": null,
   "metadata": {
    "pycharm": {
     "name": "#%%\n"
    }
   },
   "outputs": [],
   "source": [
    "a + b          # b.shape first becomes (1, 3) by Rule 1, \n",
    "               # then by Rule 2 it stretches vertically to match the number of rows of a (3), \n",
    "               # and then, also by Rule 2, a stretches horizontally to match the number of columns of b (3)"
   ]
  },
  {
   "cell_type": "code",
   "execution_count": null,
   "metadata": {
    "pycharm": {
     "name": "#%%\n"
    }
   },
   "outputs": [],
   "source": [
    "M = np.ones((3, 2))\n",
    "a = np.arange(3)\n",
    "M.shape, a.shape"
   ]
  },
  {
   "cell_type": "code",
   "execution_count": null,
   "metadata": {
    "pycharm": {
     "name": "#%%\n"
    }
   },
   "outputs": [],
   "source": [
    "M + a          # a.shape first becomes (1, 3) by Rule 1, \n",
    "               # then by Rule 2 it stretches vertically to match the number of rows of M (3), \n",
    "               # but then M.shape is (3, 2) and a.shape is (3, 3), and by Rule 3 an error is raised"
   ]
  },
  {
   "cell_type": "markdown",
   "metadata": {
    "pycharm": {
     "name": "#%% md\n"
    }
   },
   "source": [
    "## Comparison operators as ufuncs - Boolean arrays"
   ]
  },
  {
   "cell_type": "markdown",
   "metadata": {
    "pycharm": {
     "name": "#%% md\n"
    }
   },
   "source": [
    "### Using relational and logical operators\n",
    "Logical operators: `&` - and; `|` - or; `^` - xor; `~` - not."
   ]
  },
  {
   "cell_type": "code",
   "execution_count": null,
   "metadata": {
    "pycharm": {
     "name": "#%%\n"
    }
   },
   "outputs": [],
   "source": [
    "a = np.array([1, 2, 3, 4, 5])\n",
    "print(a > 3)\n",
    "print(np.sum(a > 3))                       # use np.sum() instead of just sum(),\n",
    "print(sum(a > 3))                          # although sum() works as well\n",
    "print((a ** 2) == (2 ** a))"
   ]
  },
  {
   "cell_type": "code",
   "execution_count": null,
   "metadata": {
    "pycharm": {
     "name": "#%%\n"
    }
   },
   "outputs": [],
   "source": [
    "np.random.seed(2)\n",
    "a = np.random.randint(10, size=(3, 4))\n",
    "print(a)\n",
    "print(a > 3)\n",
    "print()\n",
    "\n",
    "# Make sure to use np.sum() instead of just sum() with multidimensional arrays!\n",
    "\n",
    "print(np.sum(a > 3))                       # sums of True's in the array\n",
    "print(np.sum(a > 3, axis=0))               # sums of True's in each column (axis=0: rows get collapsed)\n",
    "print(np.sum(a == 8, axis=1))              # sums of True's in each row (axis=1: columns get collapsed)\n",
    "print(np.sum((a > 3) & ((a % 2) == 0)))    # logical operators: & - and; | - or; ^ - xor; ~ - not"
   ]
  },
  {
   "cell_type": "markdown",
   "metadata": {
    "pycharm": {
     "name": "#%% md\n"
    }
   },
   "source": [
    "`np.any()` and `np.all()`"
   ]
  },
  {
   "cell_type": "code",
   "execution_count": null,
   "metadata": {
    "pycharm": {
     "name": "#%%\n"
    }
   },
   "outputs": [],
   "source": [
    "np.random.seed(2)\n",
    "a = np.random.randint(10, size=(3, 4))\n",
    "print(a)\n",
    "print(np.any(a > 3))\n",
    "print(np.any(a < 1))\n",
    "print(np.all(a > 0))\n",
    "print(np.all(a < 5))\n",
    "print(np.all(a > 1, axis=0))               # test if all elements in each column are > 1 (axis=0: rows get collapsed)\n",
    "print(np.all(a > 1, axis=1))               # test if all elements in each row are > 1 (axis=1: columns get collapsed)"
   ]
  },
  {
   "cell_type": "markdown",
   "metadata": {
    "pycharm": {
     "name": "#%% md\n"
    }
   },
   "source": [
    "## Introducing The Beatles dataset"
   ]
  },
  {
   "cell_type": "markdown",
   "metadata": {
    "pycharm": {
     "name": "#%% md\n"
    }
   },
   "source": [
    "### Read The Beatles songs *csv* file\n",
    "`pd.read_csv()` returns a `pd.DataFrame` object."
   ]
  },
  {
   "cell_type": "code",
   "execution_count": null,
   "metadata": {
    "pycharm": {
     "name": "#%%\n"
    }
   },
   "outputs": [],
   "source": [
    "# Get the songs as a pd.DataFrame object\n",
    "songs = pd.read_csv('data/The Beatles songs dataset, v1, no NAs.csv')"
   ]
  },
  {
   "cell_type": "markdown",
   "source": [
    "### Explore the dataset (first steps)\n",
    "Show the columns of the `songs` object (which is a `pd.DataFrame` object)."
   ],
   "metadata": {
    "collapsed": false,
    "pycharm": {
     "name": "#%% md\n"
    }
   }
  },
  {
   "cell_type": "code",
   "execution_count": null,
   "outputs": [],
   "source": [
    "# Get the columns as a pd.Index object\n",
    "print(songs.columns)\n",
    "# Get the columns as a list\n",
    "print(list(songs.columns))"
   ],
   "metadata": {
    "collapsed": false,
    "pycharm": {
     "name": "#%%\n"
    }
   }
  },
  {
   "cell_type": "markdown",
   "source": [
    "Use Pandas to extract song lengths as a NumPy array."
   ],
   "metadata": {
    "collapsed": false,
    "pycharm": {
     "name": "#%% md\n"
    }
   }
  },
  {
   "cell_type": "code",
   "execution_count": null,
   "outputs": [],
   "source": [
    "# Get the song lengths as a pd.Series object\n",
    "lengths = songs['Duration']\n",
    "print(lengths.head())"
   ],
   "metadata": {
    "collapsed": false,
    "pycharm": {
     "name": "#%%\n"
    }
   }
  },
  {
   "cell_type": "code",
   "execution_count": null,
   "outputs": [],
   "source": [
    "# Convert the song lengths into a NumPy array\n",
    "times = lengths.values\n",
    "print(type(times))\n",
    "print(times.shape)"
   ],
   "metadata": {
    "collapsed": false,
    "pycharm": {
     "name": "#%%\n"
    }
   }
  },
  {
   "cell_type": "markdown",
   "metadata": {
    "pycharm": {
     "name": "#%% md\n"
    }
   },
   "source": [
    "Plot the histogram of the song lengths using Matplotlib."
   ]
  },
  {
   "cell_type": "code",
   "execution_count": null,
   "metadata": {
    "scrolled": true,
    "pycharm": {
     "name": "#%%\n"
    }
   },
   "outputs": [],
   "source": [
    "# Set plot styles using sb.set()\n",
    "sb.set()\n",
    "# Plot the histogram - x: song time in [sec]; y: number of songs; 40 bins\n",
    "plt.hist(times, 40);"
   ]
  },
  {
   "cell_type": "markdown",
   "source": [
    "Plot the histogram of the song lengths using plotnine. ***\n",
    "[Excellent tutorial on plotnine](https://realpython.com/ggplot-python/)."
   ],
   "metadata": {
    "collapsed": false,
    "pycharm": {
     "name": "#%% md\n"
    }
   }
  },
  {
   "cell_type": "code",
   "execution_count": null,
   "outputs": [],
   "source": [
    "# plot = ggplot(songs, aes(x='Duration'))\n",
    "# plot + geom_histogram(bins=40)\n",
    "ggplot(songs, aes(x='Duration')) + \\\n",
    "    geom_histogram(bins=40,\n",
    "                     fill='blue',\n",
    "                     # color='black',\n",
    "                     color='white',\n",
    "                     # size=2,\n",
    "                     alpha=0.5)"
   ],
   "metadata": {
    "collapsed": false,
    "pycharm": {
     "name": "#%%\n"
    }
   }
  },
  {
   "cell_type": "markdown",
   "source": [
    "To avoid the ugly text output like `<ggplot: (177159008578)>` under the plot, use the following syntax:"
   ],
   "metadata": {
    "collapsed": false,
    "pycharm": {
     "name": "#%% md\n"
    }
   }
  },
  {
   "cell_type": "code",
   "execution_count": null,
   "outputs": [],
   "source": [
    "(\n",
    "        ggplot(songs, aes(x='Duration')) + \\\n",
    "            geom_histogram(bins=40,\n",
    "                          fill='blue',\n",
    "                          # color='black',\n",
    "                          color='white',\n",
    "                          # size=2,\n",
    "                          alpha=0.5)\n",
    ").draw();"
   ],
   "metadata": {
    "collapsed": false,
    "pycharm": {
     "name": "#%%\n"
    }
   }
  },
  {
   "cell_type": "markdown",
   "metadata": {
    "pycharm": {
     "name": "#%% md\n"
    }
   },
   "source": [
    "## Masking - Boolean arrays as masks"
   ]
  },
  {
   "cell_type": "markdown",
   "metadata": {
    "pycharm": {
     "name": "#%% md\n"
    }
   },
   "source": [
    "Extract song release years into another NumPy array."
   ]
  },
  {
   "cell_type": "code",
   "execution_count": null,
   "metadata": {
    "pycharm": {
     "name": "#%%\n"
    }
   },
   "outputs": [],
   "source": [
    "# print(type(songs['Year']))          # <class 'pandas.core.series.Series'>\n",
    "years = songs['Year'].values\n",
    "# print(type(years))                  # <class 'numpy.ndarray'>\n",
    "print(len(years))\n",
    "print(years[0:10])"
   ]
  },
  {
   "cell_type": "markdown",
   "source": [
    "Extract songs released after 1968."
   ],
   "metadata": {
    "collapsed": false,
    "pycharm": {
     "name": "#%% md\n"
    }
   }
  },
  {
   "cell_type": "code",
   "execution_count": null,
   "metadata": {
    "pycharm": {
     "name": "#%%\n"
    }
   },
   "outputs": [],
   "source": [
    "years_gt_1968 = (years > 1968)                           # mask: Boolean array of the same length as years, True if years > 1968\n",
    "print(years_gt_1968[20:30])                              # get a slice of it"
   ]
  },
  {
   "cell_type": "markdown",
   "source": [
    "Get the titles of the first 10 songs released after 1968."
   ],
   "metadata": {
    "collapsed": false,
    "pycharm": {
     "name": "#%% md\n"
    }
   }
  },
  {
   "cell_type": "code",
   "execution_count": null,
   "outputs": [],
   "source": [
    "# Get the titles of the first 10 songs such that years > 1968\n",
    "print(songs[years_gt_1968]['Title'].head(10))"
   ],
   "metadata": {
    "collapsed": false,
    "pycharm": {
     "name": "#%%\n"
    }
   }
  },
  {
   "cell_type": "markdown",
   "source": [
    "Get the titles of the last 10 songs such that `years > 1968` and `times < 120`."
   ],
   "metadata": {
    "collapsed": false,
    "pycharm": {
     "name": "#%% md\n"
    }
   }
  },
  {
   "cell_type": "code",
   "execution_count": null,
   "outputs": [],
   "source": [
    "# Get the titles of the last 10 songs such that years > 1968 and times < 120\n",
    "times_lt_120 = (times < 120)\n",
    "print(songs[years_gt_1968 & times_lt_120]['Title'].tail(10))"
   ],
   "metadata": {
    "collapsed": false,
    "pycharm": {
     "name": "#%%\n"
    }
   }
  },
  {
   "cell_type": "code",
   "execution_count": null,
   "outputs": [],
   "source": [
    "# Get the titles of all songs released 1966 or 1967, as well as the mean value of their lengths\n",
    "years_1966_1967 = (years >= 1966) & (years <= 1967)\n",
    "print(songs[years_1966_1967]['Title'])\n",
    "print()\n",
    "print('Mean length of songs from 1966-1967:', np.mean(songs[years_1966_1967]['Duration']))"
   ],
   "metadata": {
    "collapsed": false,
    "pycharm": {
     "name": "#%%\n"
    }
   }
  },
  {
   "cell_type": "markdown",
   "metadata": {
    "pycharm": {
     "name": "#%% md\n"
    }
   },
   "source": [
    "## Fancy indexing\n",
    "Fancy indexing is like simple indexing, but arrays of indices are passed in place of single scalars. <br>\n",
    "**Important:** The shape of the result is the same as the (possibly broadcasted) shape of the index array, not of the array being indexed."
   ]
  },
  {
   "cell_type": "markdown",
   "metadata": {
    "pycharm": {
     "name": "#%% md\n"
    }
   },
   "source": [
    "### Fancy indexing of one-dimensional arrays"
   ]
  },
  {
   "cell_type": "code",
   "execution_count": null,
   "metadata": {
    "pycharm": {
     "name": "#%%\n"
    }
   },
   "outputs": [],
   "source": [
    "np.random.seed(3)\n",
    "a = np.random.randint(10, size=10)\n",
    "print(a)\n",
    "print()\n",
    "\n",
    "i = [2, 8, 5]                                 # one-dimensional index\n",
    "print(a[i])\n",
    "a[i] = 55\n",
    "print(a)\n",
    "a[i] -= 10\n",
    "print(a)\n",
    "print()\n",
    "\n",
    "i = np.array([[1, 0],                         # multi-dimensional index\n",
    "              [2, 4]])\n",
    "print(a[i])                                   # the shape of the result is the same as the shape of the index array"
   ]
  },
  {
   "cell_type": "markdown",
   "metadata": {
    "pycharm": {
     "name": "#%% md\n"
    }
   },
   "source": [
    "### Fancy indexing of multi-dimensional arrays"
   ]
  },
  {
   "cell_type": "code",
   "execution_count": null,
   "metadata": {
    "pycharm": {
     "name": "#%%\n"
    }
   },
   "outputs": [],
   "source": [
    "m = np.random.randint(10, size=(3, 4))\n",
    "print(m)\n",
    "print()\n",
    "\n",
    "i_row = np.array([0, 2, 1])\n",
    "i_col = np.array([2, 1, 0])\n",
    "print(m[i_row, i_col])                        # resulting pairs of indices: [0, 2], [2, 1], [1, 0]\n",
    "print()\n",
    "\n",
    "print(m[i_row[:, np.newaxis], i_col])\n",
    "print()\n",
    "\n",
    "print(m[2, [2, 0, 1]])\n",
    "print(m[-2:, [2, 0, 1]])"
   ]
  },
  {
   "cell_type": "markdown",
   "metadata": {
    "pycharm": {
     "name": "#%% md\n"
    }
   },
   "source": [
    "### Combining fancy indexing and masking"
   ]
  },
  {
   "cell_type": "code",
   "execution_count": null,
   "metadata": {
    "pycharm": {
     "name": "#%%\n"
    }
   },
   "outputs": [],
   "source": [
    "mask = np.array([1, 0, 1, 0], dtype=bool)\n",
    "print(i_row[:, np.newaxis])\n",
    "print(m[i_row[:, np.newaxis], mask])"
   ]
  },
  {
   "cell_type": "markdown",
   "metadata": {
    "pycharm": {
     "name": "#%% md\n"
    }
   },
   "source": [
    "## Sorting NumPy arrays"
   ]
  },
  {
   "cell_type": "markdown",
   "metadata": {
    "pycharm": {
     "name": "#%% md\n"
    }
   },
   "source": [
    "`np.sort()`\n",
    "Returns a sorted copy of an array."
   ]
  },
  {
   "cell_type": "code",
   "execution_count": null,
   "metadata": {
    "pycharm": {
     "name": "#%%\n"
    }
   },
   "outputs": [],
   "source": [
    "a = np.array([3, 1, 7, 2, 5])\n",
    "print(a)\n",
    "print(np.sort(a))                  # a does not change\n",
    "a.sort()                           # inplace sorting, a changes\n",
    "print(a)"
   ]
  },
  {
   "cell_type": "code",
   "execution_count": null,
   "metadata": {
    "pycharm": {
     "name": "#%%\n"
    }
   },
   "outputs": [],
   "source": [
    "np.random.seed(0)\n",
    "m = np.random.randint(10, size=(4, 6))\n",
    "print(m)\n",
    "print()\n",
    "\n",
    "print(np.sort(m, axis=0))                 # sort each column of x, independently \n",
    "print()\n",
    "print(np.sort(m, axis=1))                 # sort each row of x, independently "
   ]
  },
  {
   "cell_type": "markdown",
   "metadata": {
    "pycharm": {
     "name": "#%% md\n"
    }
   },
   "source": [
    "`np.argsort()`\n",
    "Returns the indices that would sort an array."
   ]
  },
  {
   "cell_type": "code",
   "execution_count": null,
   "metadata": {
    "pycharm": {
     "name": "#%%\n"
    }
   },
   "outputs": [],
   "source": [
    "songs = pd.read_csv('data/The Beatles songs dataset, v1, no NAs.csv')       # get the songs as a pd.DataFrame object\n",
    "lengths = songs['Duration']                                                 # get the song lengths as a pd.Series object\n",
    "print(lengths.head())\n",
    "print()\n",
    "\n",
    "times = lengths.values                                                      # convert the song lengths into a NumPy array\n",
    "i = np.argsort(times)                                                       # sort song times from shortest to longest\n",
    "print(type(i))                                                              # <class 'numpy.ndarray'>\n",
    "print(i[0:10])                                                              # print the first 10 indices\n",
    "print(times[i[0:10]])                                                       # print the 10 shortest song times\n",
    "print()\n",
    "\n",
    "print(songs['Title'][i])                                                    # fancy-index songs['Title']\n",
    "print()\n",
    "\n",
    "print(songs['Title'][i[-10:]])                                              # fancy-index songs['Title'], the 10 longest songs"
   ]
  },
  {
   "cell_type": "markdown",
   "metadata": {
    "pycharm": {
     "name": "#%% md\n"
    }
   },
   "source": [
    "`np.partition()`\n",
    "Takes a NumPy array and a number (*k*) and returns *k* smallest first (in arbitrary order) and then the remaining ones (also in arbitrary order)."
   ]
  },
  {
   "cell_type": "code",
   "execution_count": null,
   "metadata": {
    "pycharm": {
     "name": "#%%\n"
    }
   },
   "outputs": [],
   "source": [
    "a = np.array([7, 2, 3, 1, 6, 5, 4])\n",
    "np.partition(a, 3)"
   ]
  },
  {
   "cell_type": "code",
   "execution_count": null,
   "metadata": {
    "pycharm": {
     "name": "#%%\n"
    }
   },
   "outputs": [],
   "source": [
    "np.random.seed(0)\n",
    "m = np.random.randint(10, size=(4, 6))\n",
    "print(m)\n",
    "print()\n",
    "\n",
    "print(np.partition(m, 2, axis=0))                 # partition each column of x, independently, k = 2\n",
    "print()\n",
    "print(np.partition(m, 2, axis=1))                 # partition each row of x, independently, k = 2"
   ]
  }
 ],
 "metadata": {
  "kernelspec": {
   "display_name": "Python 3 (ipykernel)",
   "language": "python",
   "name": "python3"
  },
  "language_info": {
   "codemirror_mode": {
    "name": "ipython",
    "version": 3
   },
   "file_extension": ".py",
   "mimetype": "text/x-python",
   "name": "python",
   "nbconvert_exporter": "python",
   "pygments_lexer": "ipython3",
   "version": "3.10.0"
  }
 },
 "nbformat": 4,
 "nbformat_minor": 4
}