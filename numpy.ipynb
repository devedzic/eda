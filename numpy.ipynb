{
 "cells": [
  {
   "cell_type": "markdown",
   "metadata": {},
   "source": [
    "# Getting started with NumPy\n",
    "Introduction to NumPy's most useful and most frequently used functions."
   ]
  },
  {
   "cell_type": "markdown",
   "metadata": {},
   "source": [
    "## Import packages"
   ]
  },
  {
   "cell_type": "code",
   "execution_count": 1,
   "metadata": {
    "tags": []
   },
   "outputs": [],
   "source": [
    "%run \"import_packages.ipynb\""
   ]
  },
  {
   "cell_type": "markdown",
   "metadata": {},
   "source": [
    "### Package versions"
   ]
  },
  {
   "cell_type": "code",
   "execution_count": 2,
   "metadata": {},
   "outputs": [
    {
     "data": {
      "text/plain": [
       "'1.4.4'"
      ]
     },
     "execution_count": 2,
     "metadata": {},
     "output_type": "execute_result"
    }
   ],
   "source": [
    "np.__version__\n",
    "pd.__version__"
   ]
  },
  {
   "cell_type": "code",
   "execution_count": 3,
   "metadata": {},
   "outputs": [
    {
     "name": "stdout",
     "output_type": "stream",
     "text": [
      "1.23.2\n",
      "1.4.4\n"
     ]
    }
   ],
   "source": [
    "print(np.__version__)\n",
    "print(pd.__version__)"
   ]
  },
  {
   "cell_type": "markdown",
   "metadata": {},
   "source": [
    "## Creating NumPy arrays from Python lists - `np.array()`"
   ]
  },
  {
   "cell_type": "code",
   "execution_count": null,
   "metadata": {},
   "outputs": [
    {
     "data": {
      "text/plain": [
       "array([2, 4, 7, 3, 1])"
      ]
     },
     "execution_count": 9,
     "metadata": {},
     "output_type": "execute_result"
    }
   ],
   "source": [
    "a = np.array([2, 4, 7, 3, 1])\n",
    "a"
   ]
  },
  {
   "cell_type": "code",
   "execution_count": 8,
   "metadata": {},
   "outputs": [
    {
     "data": {
      "text/plain": [
       "array([1.2, 3. , 4. , 5.6, 2.1])"
      ]
     },
     "execution_count": 8,
     "metadata": {},
     "output_type": "execute_result"
    }
   ],
   "source": [
    "b = np.array([1.2, 3, 4, 5.6, 2.1])\n",
    "b"
   ]
  },
  {
   "cell_type": "markdown",
   "metadata": {},
   "source": [
    "## Types of NumPy arrays and their elements"
   ]
  },
  {
   "cell_type": "markdown",
   "metadata": {},
   "source": [
    "#### `numpy.ndarray`"
   ]
  },
  {
   "cell_type": "code",
   "execution_count": 10,
   "metadata": {},
   "outputs": [
    {
     "data": {
      "text/plain": [
       "numpy.ndarray"
      ]
     },
     "execution_count": 10,
     "metadata": {},
     "output_type": "execute_result"
    }
   ],
   "source": [
    "type(a)"
   ]
  },
  {
   "cell_type": "code",
   "execution_count": 12,
   "metadata": {},
   "outputs": [
    {
     "data": {
      "text/plain": [
       "numpy.ndarray"
      ]
     },
     "execution_count": 12,
     "metadata": {},
     "output_type": "execute_result"
    }
   ],
   "source": [
    "type(b)"
   ]
  },
  {
   "cell_type": "markdown",
   "metadata": {},
   "source": [
    "#### `dtype`\n",
    "Frequently used `dtype`s: `int`, `int16`, `int32`, `int64`, `float`, `float16`, `float32`, `float64`..."
   ]
  },
  {
   "cell_type": "code",
   "execution_count": 13,
   "metadata": {},
   "outputs": [
    {
     "data": {
      "text/plain": [
       "array([1., 2., 3.], dtype=float32)"
      ]
     },
     "execution_count": 13,
     "metadata": {},
     "output_type": "execute_result"
    }
   ],
   "source": [
    "c = np.array([1, 2, 3], dtype='float32')\n",
    "c"
   ]
  },
  {
   "cell_type": "code",
   "execution_count": 17,
   "metadata": {},
   "outputs": [
    {
     "data": {
      "text/plain": [
       "array([1, 2, 3, 4])"
      ]
     },
     "execution_count": 17,
     "metadata": {},
     "output_type": "execute_result"
    }
   ],
   "source": [
    "d = np.array([1., 2, 3.8, 4], dtype='int32')\n",
    "d"
   ]
  },
  {
   "cell_type": "markdown",
   "metadata": {},
   "source": [
    "## Creating NumPy arrays from scratch"
   ]
  },
  {
   "cell_type": "markdown",
   "metadata": {},
   "source": [
    "### `np.arange()`, `np.zeros()`, `np.ones()`, `np.full()`, `np.linspace()`, `np.empty()`"
   ]
  },
  {
   "cell_type": "code",
   "execution_count": 20,
   "metadata": {},
   "outputs": [
    {
     "data": {
      "text/plain": [
       "array([1, 3, 5, 7, 9])"
      ]
     },
     "execution_count": 20,
     "metadata": {},
     "output_type": "execute_result"
    }
   ],
   "source": [
    "a = np.arange(1, 10, 2)\n",
    "a"
   ]
  },
  {
   "cell_type": "code",
   "execution_count": 19,
   "metadata": {},
   "outputs": [
    {
     "data": {
      "text/plain": [
       "array([1., 3., 5., 7., 9.], dtype=float32)"
      ]
     },
     "execution_count": 19,
     "metadata": {},
     "output_type": "execute_result"
    }
   ],
   "source": [
    "a = np.arange(1, 10, 2, dtype='float32')\n",
    "a"
   ]
  },
  {
   "cell_type": "code",
   "execution_count": 21,
   "metadata": {},
   "outputs": [
    {
     "data": {
      "text/plain": [
       "array([0., 0., 0.])"
      ]
     },
     "execution_count": 21,
     "metadata": {},
     "output_type": "execute_result"
    }
   ],
   "source": [
    "a = np.zeros(3)\n",
    "a"
   ]
  },
  {
   "cell_type": "code",
   "execution_count": 22,
   "metadata": {},
   "outputs": [
    {
     "data": {
      "text/plain": [
       "array([0, 0, 0])"
      ]
     },
     "execution_count": 22,
     "metadata": {},
     "output_type": "execute_result"
    }
   ],
   "source": [
    "a = np.zeros(3, dtype='int')\n",
    "a"
   ]
  },
  {
   "cell_type": "code",
   "execution_count": 24,
   "metadata": {},
   "outputs": [
    {
     "data": {
      "text/plain": [
       "array([1., 1., 1.])"
      ]
     },
     "execution_count": 24,
     "metadata": {},
     "output_type": "execute_result"
    }
   ],
   "source": [
    "a = np.ones(3, dtype='float')\n",
    "a"
   ]
  },
  {
   "cell_type": "code",
   "execution_count": 25,
   "metadata": {},
   "outputs": [
    {
     "data": {
      "text/plain": [
       "array([2.4, 2.4, 2.4])"
      ]
     },
     "execution_count": 25,
     "metadata": {},
     "output_type": "execute_result"
    }
   ],
   "source": [
    "a = np.full(3, 2.4)\n",
    "a"
   ]
  },
  {
   "cell_type": "code",
   "execution_count": 29,
   "metadata": {},
   "outputs": [
    {
     "data": {
      "text/plain": [
       "array([ 3. ,  4.6,  6.2,  7.8,  9.4, 11. ])"
      ]
     },
     "execution_count": 29,
     "metadata": {},
     "output_type": "execute_result"
    }
   ],
   "source": [
    "a = np.linspace(3, 11, 6)\n",
    "a"
   ]
  },
  {
   "cell_type": "code",
   "execution_count": 28,
   "metadata": {},
   "outputs": [
    {
     "data": {
      "text/plain": [
       "array([ 3.        ,  4.33333333,  5.66666667,  7.        ,  8.33333333,\n",
       "        9.66666667, 11.        ])"
      ]
     },
     "execution_count": 28,
     "metadata": {},
     "output_type": "execute_result"
    }
   ],
   "source": [
    "a = np.linspace(3, 11, 7)\n",
    "a"
   ]
  },
  {
   "cell_type": "code",
   "execution_count": 30,
   "metadata": {
    "scrolled": true
   },
   "outputs": [
    {
     "data": {
      "text/plain": [
       "array([2.4, 2.4, 2.4])"
      ]
     },
     "execution_count": 30,
     "metadata": {},
     "output_type": "execute_result"
    }
   ],
   "source": [
    "a = np.empty(3)\n",
    "a"
   ]
  },
  {
   "cell_type": "markdown",
   "metadata": {},
   "source": [
    "### `np.random.random()`, `np.random.randint()`, `np.random.normal()`, `np.random.seed()`"
   ]
  },
  {
   "cell_type": "code",
   "execution_count": 44,
   "metadata": {},
   "outputs": [
    {
     "name": "stdout",
     "output_type": "stream",
     "text": [
      "[0.28382835 0.60608318 0.94422514 0.85273554 0.00225923 0.52122603\n",
      " 0.55203763 0.48537741 0.76813415 0.16071675]\n"
     ]
    },
    {
     "data": {
      "image/png": "[encoded data removed]",
      "text/plain": [
       "<Figure size 432x288 with 1 Axes>"
      ]
     },
     "metadata": {
      "needs_background": "light"
     },
     "output_type": "display_data"
    }
   ],
   "source": [
    "a = np.random.random((10,))\n",
    "print(a)\n",
    "plt.plot(a);"
   ]
  },
  {
   "cell_type": "code",
   "execution_count": 43,
   "metadata": {},
   "outputs": [
    {
     "name": "stdout",
     "output_type": "stream",
     "text": [
      "[0.15416284 0.7400497  0.26331502 0.53373939 0.01457496 0.91874701\n",
      " 0.90071485 0.03342143 0.95694934 0.13720932]\n"
     ]
    },
    {
     "data": {
      "image/png": "[encoded data removed]",
      "text/plain": [
       "<Figure size 432x288 with 1 Axes>"
      ]
     },
     "metadata": {
      "needs_background": "light"
     },
     "output_type": "display_data"
    }
   ],
   "source": [
    "np.random.seed(12)\n",
    "a = np.random.random((10,))\n",
    "print(a)\n",
    "plt.plot(a);"
   ]
  },
  {
   "cell_type": "markdown",
   "metadata": {},
   "source": [
    "## Multidimensional NumPy arrays"
   ]
  },
  {
   "cell_type": "markdown",
   "metadata": {},
   "source": [
    "### `np.array()`, `np.zeros()`, `np.ones()`, `np.full()`, `np.eye()`\n",
    "The shape info is the necessary first argument for `np.zeros()`, `np.ones()` and `np.full()` and must be provided as a tuple.\n"
   ]
  },
  {
   "cell_type": "code",
   "execution_count": 12,
   "metadata": {},
   "outputs": [
    {
     "data": {
      "text/plain": [
       "array([[ 2,  3,  4],\n",
       "       [ 5,  6,  7],\n",
       "       [ 8,  9, 10]])"
      ]
     },
     "execution_count": 12,
     "metadata": {},
     "output_type": "execute_result"
    }
   ],
   "source": [
    "a = np.array([range(i, i + 3) for i in [2, 5, 8]])\n",
    "a"
   ]
  },
  {
   "cell_type": "code",
   "execution_count": 14,
   "metadata": {},
   "outputs": [
    {
     "data": {
      "text/plain": [
       "array([[1., 1., 1., 1.],\n",
       "       [1., 1., 1., 1.],\n",
       "       [1., 1., 1., 1.]], dtype=float32)"
      ]
     },
     "execution_count": 14,
     "metadata": {},
     "output_type": "execute_result"
    }
   ],
   "source": [
    "a = np.ones((3, 4), dtype='float32')\n",
    "a"
   ]
  },
  {
   "cell_type": "code",
   "execution_count": 19,
   "metadata": {},
   "outputs": [
    {
     "data": {
      "text/plain": [
       "array([[2.2, 2.2, 2.2, 2.2],\n",
       "       [2.2, 2.2, 2.2, 2.2]])"
      ]
     },
     "execution_count": 19,
     "metadata": {},
     "output_type": "execute_result"
    }
   ],
   "source": [
    "a = np.full((2, 4), 2.2)\n",
    "a"
   ]
  },
  {
   "cell_type": "code",
   "execution_count": 17,
   "metadata": {},
   "outputs": [
    {
     "data": {
      "text/plain": [
       "array([[1., 0., 0.],\n",
       "       [0., 1., 0.],\n",
       "       [0., 0., 1.]])"
      ]
     },
     "execution_count": 17,
     "metadata": {},
     "output_type": "execute_result"
    }
   ],
   "source": [
    "a = np.eye(3)\n",
    "a"
   ]
  },
  {
   "cell_type": "markdown",
   "metadata": {},
   "source": [
    "### `np.random.random()`, `np.random.randint()`, `np.random.normal()`, `np.random.seed()`\n",
    "The shape info is the necessary last argument for `np.random.random()`, `np.random.randint()` and `np.random.normal()` and must be provided as a tuple. The first two arguments of `np.random.randint()` (`m` and `n`) represent the interval `[m, n)`. The first two arguments of `np.random.normal()` represent the mean and standard deviation."
   ]
  },
  {
   "cell_type": "code",
   "execution_count": 37,
   "metadata": {},
   "outputs": [],
   "source": [
    "np.random.seed(11)"
   ]
  },
  {
   "cell_type": "code",
   "execution_count": 22,
   "metadata": {},
   "outputs": [
    {
     "data": {
      "text/plain": [
       "array([[0.8110375 , 0.48295997, 0.90574346],\n",
       "       [0.10980821, 0.29578924, 0.77636587]])"
      ]
     },
     "execution_count": 22,
     "metadata": {},
     "output_type": "execute_result"
    }
   ],
   "source": [
    "a = np.random.random((2, 3))\n",
    "a"
   ]
  },
  {
   "cell_type": "code",
   "execution_count": 32,
   "metadata": {},
   "outputs": [
    {
     "data": {
      "text/plain": [
       "array([[2, 8, 7, 6],\n",
       "       [4, 6, 3, 3],\n",
       "       [5, 8, 7, 1]])"
      ]
     },
     "execution_count": 32,
     "metadata": {},
     "output_type": "execute_result"
    }
   ],
   "source": [
    "a = np.random.randint(1, 10, (3, 4))\n",
    "a"
   ]
  },
  {
   "cell_type": "code",
   "execution_count": 35,
   "metadata": {},
   "outputs": [
    {
     "data": {
      "text/plain": [
       "array([[ 0.17812766, -0.69390506, -1.20340942, -0.27918027],\n",
       "       [-0.22218043, -0.40294963, -1.48402729, -1.29681002],\n",
       "       [ 0.61225033,  0.40255853, -0.07589061, -1.1521492 ]])"
      ]
     },
     "execution_count": 35,
     "metadata": {},
     "output_type": "execute_result"
    }
   ],
   "source": [
    "a = np.random.normal(0, 1, (3, 4))\n",
    "a"
   ]
  },
  {
   "cell_type": "markdown",
   "metadata": {},
   "source": [
    "## Controlling the number of fraction digits - `np.set_printoptions()`"
   ]
  },
  {
   "cell_type": "code",
   "execution_count": 36,
   "metadata": {},
   "outputs": [
    {
     "data": {
      "text/plain": [
       "array([[ 0.18, -0.69, -1.20, -0.28],\n",
       "       [-0.22, -0.40, -1.48, -1.30],\n",
       "       [ 0.61,  0.40, -0.08, -1.15]])"
      ]
     },
     "execution_count": 36,
     "metadata": {},
     "output_type": "execute_result"
    }
   ],
   "source": [
    "# np.set_printoptions(precision=2)                                 # does not print trailing 0's\n",
    "np.set_printoptions(formatter={'float': '{: 0.2f}'.format})\n",
    "a"
   ]
  },
  {
   "cell_type": "markdown",
   "metadata": {},
   "source": [
    "## Attributes of NumPy arrays - `shape`, `ndim`, `size`, `dtype`"
   ]
  },
  {
   "cell_type": "code",
   "execution_count": 43,
   "metadata": {},
   "outputs": [],
   "source": [
    "np.random.seed(12)\n",
    "x1 = np.random.randint(5, size=6)\n",
    "x2 = np.random.randint(5, size=(3, 4))\n",
    "x3 = np.random.randint(5, size=(3, 4, 5))"
   ]
  },
  {
   "cell_type": "code",
   "execution_count": 49,
   "metadata": {},
   "outputs": [
    {
     "name": "stdout",
     "output_type": "stream",
     "text": [
      "2\n",
      "3\n",
      "(6,)\n",
      "(3, 4)\n",
      "12\n",
      "int32\n"
     ]
    }
   ],
   "source": [
    "print(x2.ndim)\n",
    "print(x3.ndim)\n",
    "print(x1.shape)\n",
    "print(x2.shape)\n",
    "print(x2.size)\n",
    "print(x3.dtype)"
   ]
  },
  {
   "cell_type": "markdown",
   "metadata": {},
   "source": [
    "## Array indexing"
   ]
  },
  {
   "cell_type": "code",
   "execution_count": 62,
   "metadata": {},
   "outputs": [
    {
     "name": "stdout",
     "output_type": "stream",
     "text": [
      "[3 3 1 2 3 3]\n",
      "3\n",
      "3\n",
      "2\n",
      "[[ 4  0  1  4]\n",
      " [ 1  2  3  2]\n",
      " [ 0  0  4 23]]\n",
      "[1 2 3 2]\n",
      "[1 2 3 2]\n",
      "[0 2 0]\n",
      "4\n",
      "[[ 4  0  1  4]\n",
      " [ 1  2  3  2]\n",
      " [ 0  0  4 23]]\n",
      "[[ 4  0  1  4]\n",
      " [ 1  2  3  2]\n",
      " [ 0  0  4 23]]\n"
     ]
    }
   ],
   "source": [
    "print(x1)\n",
    "print(x1[0])\n",
    "print(x1[-1])\n",
    "print(x1[-3])\n",
    "\n",
    "print(x2)\n",
    "print(x2[1])         # access a row\n",
    "print(x2[1, :])      # access a row\n",
    "print(x2[:, 1])      # access a column\n",
    "print(x2[0, -1])\n",
    "print(x2)\n",
    "\n",
    "x2[2, 3] = 23\n",
    "print(x2)"
   ]
  },
  {
   "cell_type": "markdown",
   "metadata": {},
   "source": [
    "## Slicing\n",
    "General syntax: `x[start:stop:step]`."
   ]
  },
  {
   "cell_type": "code",
   "execution_count": 70,
   "metadata": {},
   "outputs": [
    {
     "name": "stdout",
     "output_type": "stream",
     "text": [
      "[[1 2]\n",
      " [0 0]]\n",
      "[[1 3]\n",
      " [0 4]]\n",
      "[[0 1 4]]\n",
      "[3 3 1 2 3 3]\n",
      "[3 3 2 1 3 3]\n"
     ]
    }
   ],
   "source": [
    "print(x2[1:, 0:2])\n",
    "print(x2[1:, ::2])\n",
    "print(x2[:-2, 1:])\n",
    "\n",
    "print(x1)\n",
    "print(x1[::-1])     # print x1 in reversed order"
   ]
  },
  {
   "cell_type": "markdown",
   "metadata": {},
   "source": [
    "## Copying arrays - `copy()`\n",
    "Subarrays are no-copy *views* on arrays. To create copies, use `copy()`."
   ]
  },
  {
   "cell_type": "code",
   "execution_count": 74,
   "metadata": {},
   "outputs": [
    {
     "name": "stdout",
     "output_type": "stream",
     "text": [
      "[[22  0  1  4]\n",
      " [ 1  2  3  2]\n",
      " [ 0  0  4 23]]\n",
      "[[22  0]\n",
      " [ 1  2]]\n",
      "[[22  0]\n",
      " [ 1  2]]\n",
      "[[22  0  1  4]\n",
      " [ 1  2  3  2]\n",
      " [ 0  0  4 23]]\n",
      "[[33  0]\n",
      " [ 1  2]]\n",
      "[[22  0  1  4]\n",
      " [ 1  2  3  2]\n",
      " [ 0  0  4 23]]\n"
     ]
    }
   ],
   "source": [
    "print(x2)\n",
    "x2_subarray = x2[0:2, 0:2]           # it's just a specific view, not a copy\n",
    "print(x2_subarray)\n",
    "x2_subarray[0, 0] = 22\n",
    "print(x2_subarray)\n",
    "print(x2)\n",
    "x2_subarray = x2[0:2, 0:2].copy()    # it's a copy\n",
    "x2_subarray[0, 0] = 33\n",
    "print(x2_subarray)\n",
    "print(x2)"
   ]
  },
  {
   "cell_type": "markdown",
   "metadata": {},
   "source": [
    "## Reshaping arrays - `reshape()` and `np.newaxis`"
   ]
  },
  {
   "cell_type": "code",
   "execution_count": 76,
   "metadata": {
    "scrolled": true
   },
   "outputs": [
    {
     "data": {
      "text/plain": [
       "array([[1, 2, 3],\n",
       "       [4, 5, 6],\n",
       "       [7, 8, 9]])"
      ]
     },
     "execution_count": 76,
     "metadata": {},
     "output_type": "execute_result"
    }
   ],
   "source": [
    "a = np.arange(1, 10).reshape((3, 3))\n",
    "a"
   ]
  },
  {
   "cell_type": "code",
   "execution_count": 81,
   "metadata": {},
   "outputs": [
    {
     "name": "stdout",
     "output_type": "stream",
     "text": [
      "[1 2 3]\n",
      "[[1 2 3]]\n",
      "[[1 2 3]]\n",
      "[[1]\n",
      " [2]\n",
      " [3]]\n",
      "[[1]\n",
      " [2]\n",
      " [3]]\n"
     ]
    }
   ],
   "source": [
    "a = np.arange(1, 4)\n",
    "print(a)\n",
    "print(a.reshape((1, 3)))       # row vector via reshape\n",
    "print(a[np.newaxis, :])        # row vector via newaxis\n",
    "print(a.reshape((3, 1)))       # column vector via reshape\n",
    "print(a[:, np.newaxis])        # column vector via newaxis"
   ]
  },
  {
   "cell_type": "markdown",
   "metadata": {},
   "source": [
    "## Concatenating arrays - `np.concatenate()`, `np.vstack()`, `np.hstack()`"
   ]
  },
  {
   "cell_type": "markdown",
   "metadata": {},
   "source": [
    "One-dimensional arrays:"
   ]
  },
  {
   "cell_type": "code",
   "execution_count": 88,
   "metadata": {},
   "outputs": [
    {
     "data": {
      "text/plain": [
       "array([1, 2, 3, 4, 5, 6])"
      ]
     },
     "execution_count": 88,
     "metadata": {},
     "output_type": "execute_result"
    }
   ],
   "source": [
    "a = np.array([1, 2, 3])\n",
    "b = np.arange(4, 7)\n",
    "c = np.concatenate([a, b])     # argument is a list\n",
    "c"
   ]
  },
  {
   "cell_type": "code",
   "execution_count": 89,
   "metadata": {},
   "outputs": [
    {
     "data": {
      "text/plain": [
       "array([1, 2, 3, 4, 5, 6, 7, 8, 9])"
      ]
     },
     "execution_count": 89,
     "metadata": {},
     "output_type": "execute_result"
    }
   ],
   "source": [
    "c = np.arange(7, 10)\n",
    "d = np.concatenate([a, b, c])\n",
    "d"
   ]
  },
  {
   "cell_type": "markdown",
   "metadata": {},
   "source": [
    "Two-dimensional arrays:"
   ]
  },
  {
   "cell_type": "code",
   "execution_count": 93,
   "metadata": {},
   "outputs": [
    {
     "data": {
      "text/plain": [
       "array([[1, 2, 3],\n",
       "       [4, 5, 6],\n",
       "       [1, 2, 3],\n",
       "       [4, 5, 6]])"
      ]
     },
     "execution_count": 93,
     "metadata": {},
     "output_type": "execute_result"
    }
   ],
   "source": [
    "a = np.array([[1, 2, 3],\n",
    "              [4, 5, 6]])\n",
    "b = np.concatenate([a, a])\n",
    "b"
   ]
  },
  {
   "cell_type": "code",
   "execution_count": 95,
   "metadata": {},
   "outputs": [
    {
     "data": {
      "text/plain": [
       "array([[1, 2, 3, 1, 2, 3],\n",
       "       [4, 5, 6, 4, 5, 6]])"
      ]
     },
     "execution_count": 95,
     "metadata": {},
     "output_type": "execute_result"
    }
   ],
   "source": [
    "b = np.concatenate([a, a], axis=1)\n",
    "b"
   ]
  },
  {
   "cell_type": "code",
   "execution_count": 100,
   "metadata": {},
   "outputs": [
    {
     "name": "stdout",
     "output_type": "stream",
     "text": [
      "[[1 2 3]\n",
      " [4 5 6]\n",
      " [7 8 9]]\n",
      "[[ 1  2  3 10]\n",
      " [ 4  5  6 11]]\n"
     ]
    }
   ],
   "source": [
    "a = np.array([[1, 2, 3], \n",
    "              [4, 5, 6]])\n",
    "b = np.array([7, 8, 9])\n",
    "c = np.array([[10],\n",
    "              [11]])\n",
    "print(np.vstack([a, b]))\n",
    "print(np.hstack([a, c]))"
   ]
  },
  {
   "cell_type": "markdown",
   "metadata": {},
   "source": [
    "## Splitting arrays - `np.split()`, `np.vsplit()`, `np.hsplit()`"
   ]
  },
  {
   "cell_type": "code",
   "execution_count": 101,
   "metadata": {},
   "outputs": [
    {
     "name": "stdout",
     "output_type": "stream",
     "text": [
      "[array([1, 2, 3]), array([4, 5]), array([6])]\n"
     ]
    }
   ],
   "source": [
    "a = np.array([1, 2, 3, 4, 5, 6])\n",
    "print(np.split(a, [3, 5]))"
   ]
  },
  {
   "cell_type": "code",
   "execution_count": 113,
   "metadata": {},
   "outputs": [
    {
     "name": "stdout",
     "output_type": "stream",
     "text": [
      "[[ 0  1  2  3  4]\n",
      " [ 5  6  7  8  9]\n",
      " [10 11 12 13 14]\n",
      " [15 16 17 18 19]\n",
      " [20 21 22 23 24]]\n",
      "\n",
      "[[ 0  1]\n",
      " [ 5  6]\n",
      " [10 11]\n",
      " [15 16]\n",
      " [20 21]] \n",
      " [[ 2  3]\n",
      " [ 7  8]\n",
      " [12 13]\n",
      " [17 18]\n",
      " [22 23]] \n",
      " [[ 4]\n",
      " [ 9]\n",
      " [14]\n",
      " [19]\n",
      " [24]]\n",
      "\n",
      "[[0 1 2 3 4]\n",
      " [5 6 7 8 9]] \n",
      " [[10 11 12 13 14]\n",
      " [15 16 17 18 19]] \n",
      " [[20 21 22 23 24]]\n",
      "\n"
     ]
    }
   ],
   "source": [
    "a = np.array(range(25)).reshape((5, 5))\n",
    "print(a)\n",
    "print()\n",
    "a1, a2, a3 = np.hsplit(a, [2, 4])\n",
    "print(a1, '\\n', a2, '\\n', a3)\n",
    "print()\n",
    "a1, a2, a3 = np.vsplit(a, [2, 4])\n",
    "print(a1, '\\n', a2, '\\n', a3)\n",
    "print()"
   ]
  },
  {
   "cell_type": "markdown",
   "metadata": {},
   "source": [
    "## Universal functions (UFuncs) - vectorized operations, vector/array arithmetic"
   ]
  },
  {
   "cell_type": "markdown",
   "metadata": {},
   "source": [
    "### Operations between scalars and arrays"
   ]
  },
  {
   "cell_type": "code",
   "execution_count": 115,
   "metadata": {},
   "outputs": [
    {
     "name": "stdout",
     "output_type": "stream",
     "text": [
      "[2 3 4]\n",
      "[5 6 7]\n"
     ]
    }
   ],
   "source": [
    "a = np.arange(2, 5)\n",
    "print(a)\n",
    "print(a + 3)"
   ]
  },
  {
   "cell_type": "code",
   "execution_count": 121,
   "metadata": {},
   "outputs": [
    {
     "name": "stdout",
     "output_type": "stream",
     "text": [
      "[[6 1 4]\n",
      " [4 8 4]\n",
      " [6 3 5]]\n",
      "[[ 9  4  7]\n",
      " [ 7 11  7]\n",
      " [ 9  6  8]]\n",
      "[[ 9.00  1.50  6.00]\n",
      " [ 6.00  12.00  6.00]\n",
      " [ 9.00  4.50  7.50]]\n"
     ]
    }
   ],
   "source": [
    "np.random.seed(0)\n",
    "a = np.random.randint(1, 10, (3, 3))\n",
    "print(a)\n",
    "print(a + 3)\n",
    "print(a + a / 2)"
   ]
  },
  {
   "cell_type": "markdown",
   "metadata": {},
   "source": [
    "### `np.abs()`, `np.exp()`, `np.exp2()`, `np.exp10()`, `np.log()`, `np.log2()`, `np.log10()`,..."
   ]
  },
  {
   "cell_type": "code",
   "execution_count": 128,
   "metadata": {},
   "outputs": [
    {
     "name": "stdout",
     "output_type": "stream",
     "text": [
      "[[-2 -1 -4  4  0]\n",
      " [ 3 -2  3 -5  0]]\n",
      "[[2 1 4 4 0]\n",
      " [3 2 3 5 0]]\n",
      "[[ 0.14  0.37  0.02  54.60  1.00]\n",
      " [ 20.09  0.14  20.09  0.01  1.00]]\n",
      "[[ 0.25  0.50  0.06  16.00  1.00]\n",
      " [ 8.00  0.25  8.00  0.03  1.00]]\n",
      "[[ nan  nan  nan  0.60 -inf]\n",
      " [ 0.48  nan  0.48  nan -inf]]\n"
     ]
    },
    {
     "name": "stderr",
     "output_type": "stream",
     "text": [
      "C:\\Users\\Vladan\\anaconda3\\lib\\site-packages\\ipykernel_launcher.py:7: RuntimeWarning: divide by zero encountered in log10\n",
      "  import sys\n",
      "C:\\Users\\Vladan\\anaconda3\\lib\\site-packages\\ipykernel_launcher.py:7: RuntimeWarning: invalid value encountered in log10\n",
      "  import sys\n"
     ]
    }
   ],
   "source": [
    "np.random.seed(8)\n",
    "a = np.random.randint(-5, 5, (2, 5))\n",
    "print(a)\n",
    "print(np.abs(a))\n",
    "print(np.exp(a))\n",
    "print(np.exp2(a))\n",
    "print(np.log10(a))"
   ]
  },
  {
   "cell_type": "markdown",
   "metadata": {},
   "source": [
    "### `reduce()`\n",
    "Works with any binary ufunc."
   ]
  },
  {
   "cell_type": "code",
   "execution_count": 131,
   "metadata": {},
   "outputs": [
    {
     "name": "stdout",
     "output_type": "stream",
     "text": [
      "15\n",
      "120\n"
     ]
    }
   ],
   "source": [
    "a = np.arange(1, 6)\n",
    "print(np.add.reduce(a))        # return sum of all elements of a\n",
    "print(np.multiply.reduce(a))   # return product of all elements of a"
   ]
  },
  {
   "cell_type": "markdown",
   "metadata": {},
   "source": [
    "### `accumulate()`\n",
    "Works with any binary ufunc."
   ]
  },
  {
   "cell_type": "code",
   "execution_count": 132,
   "metadata": {},
   "outputs": [
    {
     "name": "stdout",
     "output_type": "stream",
     "text": [
      "[ 1  3  6 10 15]\n",
      "[  1   2   6  24 120]\n"
     ]
    }
   ],
   "source": [
    "a = np.arange(1, 6)\n",
    "print(np.add.accumulate(a))          # return all intermediary results when summing elements of a left to right\n",
    "print(np.multiply.accumulate(a))     # return all intermediary results when multiplying elements of a left to right"
   ]
  },
  {
   "cell_type": "markdown",
   "metadata": {},
   "source": [
    "### `outer()`\n",
    "Works with any ufunc. Computes the output of all pairs of two different inputs."
   ]
  },
  {
   "cell_type": "code",
   "execution_count": 134,
   "metadata": {},
   "outputs": [
    {
     "name": "stdout",
     "output_type": "stream",
     "text": [
      "[[ 1  2  3  4  5]\n",
      " [ 2  4  6  8 10]\n",
      " [ 3  6  9 12 15]\n",
      " [ 4  8 12 16 20]\n",
      " [ 5 10 15 20 25]]\n"
     ]
    }
   ],
   "source": [
    "a = np.arange(1, 6)\n",
    "print(np.multiply.outer(a, a))       # create multiplication table"
   ]
  },
  {
   "cell_type": "markdown",
   "metadata": {},
   "source": [
    "## Aggregation functions"
   ]
  },
  {
   "cell_type": "markdown",
   "metadata": {},
   "source": [
    "The following table provides a list of useful aggregation functions available in NumPy:\n",
    "\n",
    "|Function Name      |   NaN-safe Version  | Description                                   |\n",
    "|-------------------|---------------------|-----------------------------------------------|\n",
    "| ``np.sum``        | ``np.nansum``       | Compute sum of elements                       |\n",
    "| ``np.prod``       | ``np.nanprod``      | Compute product of elements                   |\n",
    "| ``np.mean``       | ``np.nanmean``      | Compute mean of elements                      |\n",
    "| ``np.std``        | ``np.nanstd``       | Compute standard deviation                    |\n",
    "| ``np.var``        | ``np.nanvar``       | Compute variance                              |\n",
    "| ``np.min``        | ``np.nanmin``       | Find minimum value                            |\n",
    "| ``np.max``        | ``np.nanmax``       | Find maximum value                            |\n",
    "| ``np.argmin``     | ``np.nanargmin``    | Find index of minimum value                   |\n",
    "| ``np.argmax``     | ``np.nanargmax``    | Find index of maximum value                   |\n",
    "| ``np.median``     | ``np.nanmedian``    | Compute median of elements                    |\n",
    "| ``np.percentile`` | ``np.nanpercentile``| Compute rank-based statistics of elements     |\n",
    "| ``np.any``        | N/A                 | Evaluate whether any elements are true        |\n",
    "| ``np.all``        | N/A                 | Evaluate whether all elements are true        |"
   ]
  },
  {
   "cell_type": "markdown",
   "metadata": {},
   "source": [
    "### `np.sum()`, `np.min()`, `np.max()`"
   ]
  },
  {
   "cell_type": "code",
   "execution_count": 147,
   "metadata": {},
   "outputs": [
    {
     "name": "stdout",
     "output_type": "stream",
     "text": [
      "46.002824535219375\n",
      "0.01301733669455063\n",
      "0.9938520114212729\n",
      "\n",
      "[[ 0.78  0.13  0.87  0.75]\n",
      " [ 0.80  0.54  0.22  0.92]\n",
      " [ 0.59  0.35  0.26  0.91]]\n",
      "\n",
      "7.126900812589812\n",
      "[ 0.59  0.13  0.22  0.75]\n",
      "[ 0.87  0.92  0.91]\n"
     ]
    }
   ],
   "source": [
    "np.random.seed(2)\n",
    "\n",
    "a = np.random.random(100)\n",
    "print(np.sum(a))\n",
    "print(np.min(a))\n",
    "print(np.max(a))\n",
    "print()\n",
    "\n",
    "m = np.random.random((3, 4))\n",
    "print(m)\n",
    "print()\n",
    "print(np.sum(m))\n",
    "print(np.min(m, axis=0))         # axix=0: finding min of each column, i.e. ROWS (dimension 0) get COLLAPSED\n",
    "print(np.max(m, axis=1))         # axix=1: finding min of each row, i.e. COLUMNS (dimension 1) get COLLAPSED"
   ]
  },
  {
   "cell_type": "markdown",
   "metadata": {},
   "source": [
    "### `np.mean()`, `np.median()`, `np.percentile()`"
   ]
  },
  {
   "cell_type": "code",
   "execution_count": 154,
   "metadata": {},
   "outputs": [
    {
     "name": "stdout",
     "output_type": "stream",
     "text": [
      "0.4600282453521938\n",
      "0.4363710825844014\n",
      "0.6412655274482348\n",
      "0.9542826696020861\n"
     ]
    }
   ],
   "source": [
    "np.random.seed(2)\n",
    "\n",
    "a = np.random.random(100)\n",
    "print(np.mean(a))\n",
    "print(np.median(a))\n",
    "print(np.percentile(a, 75))     # 3rd quartile\n",
    "print(np.percentile(a, 95))     # 95th percentile"
   ]
  },
  {
   "cell_type": "markdown",
   "metadata": {},
   "source": [
    "## Broadcasting"
   ]
  },
  {
   "cell_type": "markdown",
   "metadata": {},
   "source": [
    "### Rules of broadcasting\n",
    "\n",
    "Broadcasting in NumPy follows a strict set of rules to determine the interaction between the two arrays:\n",
    "\n",
    "- Rule 1: If the two arrays differ in their number of dimensions, the *shape* of the one with fewer dimensions is *padded* with ones on its leading (left) side.\n",
    "- Rule 2: If the shape of the two arrays does not match in any dimension, the array with shape equal to 1 in that dimension is stretched to match the other shape.\n",
    "- Rule 3: If in any dimension the sizes disagree and neither is equal to 1, an error is raised.\n",
    "\n",
    "To make these rules clear, let's consider a few examples in detail."
   ]
  },
  {
   "cell_type": "markdown",
   "metadata": {},
   "source": [
    "![Broadcasting Visual](figures/broadcasting.png)"
   ]
  },
  {
   "cell_type": "markdown",
   "metadata": {},
   "source": [
    "### Examples of broadcasting"
   ]
  },
  {
   "cell_type": "code",
   "execution_count": 155,
   "metadata": {},
   "outputs": [
    {
     "data": {
      "text/plain": [
       "((2, 3), (3,))"
      ]
     },
     "execution_count": 155,
     "metadata": {},
     "output_type": "execute_result"
    }
   ],
   "source": [
    "M = np.ones((2, 3))\n",
    "a = np.arange(3)\n",
    "M.shape, a.shape"
   ]
  },
  {
   "cell_type": "code",
   "execution_count": 156,
   "metadata": {},
   "outputs": [
    {
     "data": {
      "text/plain": [
       "array([[ 1.00,  2.00,  3.00],\n",
       "       [ 1.00,  2.00,  3.00]])"
      ]
     },
     "execution_count": 156,
     "metadata": {},
     "output_type": "execute_result"
    }
   ],
   "source": [
    "M + a           # a.shape first becomes (1, 3) by Rule 1, \n",
    "                # and then by Rule 2 it stretches vertically to match the number of rows of M (2)"
   ]
  },
  {
   "cell_type": "code",
   "execution_count": 157,
   "metadata": {},
   "outputs": [
    {
     "data": {
      "text/plain": [
       "((3, 1), (3,))"
      ]
     },
     "execution_count": 157,
     "metadata": {},
     "output_type": "execute_result"
    }
   ],
   "source": [
    "a = np.arange(3).reshape((3, 1))\n",
    "b = np.arange(3)\n",
    "a.shape, b.shape"
   ]
  },
  {
   "cell_type": "code",
   "execution_count": 158,
   "metadata": {},
   "outputs": [
    {
     "data": {
      "text/plain": [
       "array([[0, 1, 2],\n",
       "       [1, 2, 3],\n",
       "       [2, 3, 4]])"
      ]
     },
     "execution_count": 158,
     "metadata": {},
     "output_type": "execute_result"
    }
   ],
   "source": [
    "a + b          # b.shape first becomes (1, 3) by Rule 1, \n",
    "               # then by Rule 2 it stretches vertically to match the number of rows of a (3), \n",
    "               # and then, also by Rule 2, a stretches horizontally to match the number of columns of b (3)"
   ]
  },
  {
   "cell_type": "code",
   "execution_count": 159,
   "metadata": {},
   "outputs": [
    {
     "data": {
      "text/plain": [
       "((3, 2), (3,))"
      ]
     },
     "execution_count": 159,
     "metadata": {},
     "output_type": "execute_result"
    }
   ],
   "source": [
    "M = np.ones((3, 2))\n",
    "a = np.arange(3)\n",
    "M.shape, a.shape"
   ]
  },
  {
   "cell_type": "code",
   "execution_count": 160,
   "metadata": {},
   "outputs": [
    {
     "ename": "ValueError",
     "evalue": "operands could not be broadcast together with shapes (3,2) (3,) ",
     "output_type": "error",
     "traceback": [
      "\u001b[1;31m---------------------------------------------------------------------------\u001b[0m",
      "\u001b[1;31mValueError\u001b[0m                                Traceback (most recent call last)",
      "\u001b[1;32m<ipython-input-160-8cac1d547906>\u001b[0m in \u001b[0;36m<module>\u001b[1;34m\u001b[0m\n\u001b[1;32m----> 1\u001b[1;33m \u001b[0mM\u001b[0m \u001b[1;33m+\u001b[0m \u001b[0ma\u001b[0m\u001b[1;33m\u001b[0m\u001b[1;33m\u001b[0m\u001b[0m\n\u001b[0m",
      "\u001b[1;31mValueError\u001b[0m: operands could not be broadcast together with shapes (3,2) (3,) "
     ]
    }
   ],
   "source": [
    "M + a          # a.shape first becomes (1, 3) by Rule 1, \n",
    "               # then by Rule 2 it stretches vertically to match the number of rows of M (3), \n",
    "               # but then M.shape is (3, 2) and a.shape is (3, 3), and by Rule 3 an error is raised"
   ]
  },
  {
   "cell_type": "markdown",
   "metadata": {},
   "source": [
    "## Comparison operators as ufuncs - Boolean arrays"
   ]
  },
  {
   "cell_type": "markdown",
   "metadata": {},
   "source": [
    "### Using relational and logical operators\n",
    "Logical operators: `&` - and; `|` - or; `^` - xor; `~` - not."
   ]
  },
  {
   "cell_type": "code",
   "execution_count": 181,
   "metadata": {},
   "outputs": [
    {
     "name": "stdout",
     "output_type": "stream",
     "text": [
      "[False False False  True  True]\n",
      "2\n",
      "2\n",
      "[False  True False  True False]\n"
     ]
    }
   ],
   "source": [
    "a = np.array([1, 2, 3, 4, 5])\n",
    "print(a > 3)\n",
    "print(np.sum(a > 3))                       # use np.sum() instead of just sum(),\n",
    "print(sum(a > 3))                          # although sum() works as well\n",
    "print((a ** 2) == (2 ** a))"
   ]
  },
  {
   "cell_type": "code",
   "execution_count": 179,
   "metadata": {},
   "outputs": [
    {
     "name": "stdout",
     "output_type": "stream",
     "text": [
      "[[8 8 6 2]\n",
      " [8 7 2 1]\n",
      " [5 4 4 5]]\n",
      "[[ True  True  True False]\n",
      " [ True  True False False]\n",
      " [ True  True  True  True]]\n",
      "9\n",
      "[3 3 2 1]\n",
      "[2 1 0]\n",
      "6\n"
     ]
    }
   ],
   "source": [
    "rng = np.random.RandomState(23)\n",
    "np.random.seed(2)\n",
    "a = np.random.randint(10, size=(3, 4))\n",
    "print(a)\n",
    "print(a > 3)\n",
    "print()\n",
    "\n",
    "# Make sure to use np.sum() instead of just sum() with multidimensional arrays!\n",
    "\n",
    "print(np.sum(a > 3))                       # sums of True's in the array\n",
    "print(np.sum(a > 3, axis=0))               # sums of True's in each column (axis=0: rows get collapsed)\n",
    "print(np.sum(a == 8, axis=1))              # sums of True's in each row (axis=1: columns get collapsed)\n",
    "print(np.sum((a > 3) & ((a % 2) == 0)))    # logical operators: & - and; | - or; ^ - xor; ~ - not"
   ]
  },
  {
   "cell_type": "markdown",
   "metadata": {},
   "source": [
    "### `np.any()` and `np.all()`"
   ]
  },
  {
   "cell_type": "code",
   "execution_count": 187,
   "metadata": {},
   "outputs": [
    {
     "name": "stdout",
     "output_type": "stream",
     "text": [
      "[[8 8 6 2]\n",
      " [8 7 2 1]\n",
      " [5 4 4 5]]\n",
      "True\n",
      "False\n",
      "True\n",
      "False\n",
      "[ True  True  True False]\n",
      "[ True False  True]\n"
     ]
    }
   ],
   "source": [
    "rng = np.random.RandomState(23)\n",
    "np.random.seed(2)\n",
    "a = np.random.randint(10, size=(3, 4))\n",
    "print(a)\n",
    "print(np.any(a > 3))\n",
    "print(np.any(a < 1))\n",
    "print(np.all(a > 0))\n",
    "print(np.all(a < 5))\n",
    "print(np.all(a > 1, axis=0))               # test if all elements in each column are > 1 (axis=0: rows get collapsed)\n",
    "print(np.all(a > 1, axis=1))               # test if all elements in each row are > 1 (axis=1: columns get collapsed)"
   ]
  },
  {
   "cell_type": "markdown",
   "metadata": {},
   "source": [
    "## Introducing The Beatles dataset"
   ]
  },
  {
   "cell_type": "markdown",
   "metadata": {},
   "source": [
    "Read The Beatles songs *csv* file and use Pandas to extract song lengths as a NumPy array."
   ]
  },
  {
   "cell_type": "code",
   "execution_count": 202,
   "metadata": {},
   "outputs": [
    {
     "name": "stdout",
     "output_type": "stream",
     "text": [
      "Index(['Title', 'Year', 'Album.debut', 'Duration', 'Other.releases', 'Genre',\n",
      "       'Songwriter', 'Lead.vocal', 'Top.50.Billboard'],\n",
      "      dtype='object')\n",
      "['Title', 'Year', 'Album.debut', 'Duration', 'Other.releases', 'Genre', 'Songwriter', 'Lead.vocal', 'Top.50.Billboard']\n",
      "\n",
      "0    174\n",
      "1    335\n",
      "2    152\n",
      "3    104\n",
      "4    163\n",
      "Name: Duration, dtype: int64\n",
      "\n",
      "<class 'numpy.ndarray'>\n",
      "(310,)\n"
     ]
    }
   ],
   "source": [
    "songs = pd.read_csv('data/The Beatles songs dataset, v1, no NAs.csv')       # get the songs as a pd.DataFrame object\n",
    "print(songs.columns)                                                        # get the columns as a pd.Index object\n",
    "print(list(songs.columns))                                                  # get the columns as a list\n",
    "print()\n",
    "\n",
    "lengths = songs['Duration']                                                 # get the song lengths as a pd.Series object\n",
    "print(lengths.head())\n",
    "print()\n",
    "\n",
    "times = lengths.values                                                      # convert the song lengths into a NumPy array\n",
    "print(type(times))\n",
    "print(times.shape)"
   ]
  },
  {
   "cell_type": "markdown",
   "metadata": {},
   "source": [
    "Plot the song lengths."
   ]
  },
  {
   "cell_type": "code",
   "execution_count": 208,
   "metadata": {
    "scrolled": true
   },
   "outputs": [
    {
     "data": {
      "image/png": "[encoded data removed]",
      "text/plain": [
       "<Figure size 432x288 with 1 Axes>"
      ]
     },
     "metadata": {},
     "output_type": "display_data"
    }
   ],
   "source": [
    "sb.set()                         # set plot styles\n",
    "plt.hist(times, 40);             # x: song time in [sec]; y: number of songs; 40 bins"
   ]
  },
  {
   "cell_type": "markdown",
   "metadata": {},
   "source": [
    "## Masking - Boolean arrays as masks"
   ]
  },
  {
   "cell_type": "markdown",
   "metadata": {},
   "source": [
    "Extract song release years into another NumPy array."
   ]
  },
  {
   "cell_type": "code",
   "execution_count": 222,
   "metadata": {},
   "outputs": [
    {
     "name": "stdout",
     "output_type": "stream",
     "text": [
      "310\n",
      "[1965 1967 1964 1963 1963 1968 1965 1961 1963 1963]\n"
     ]
    }
   ],
   "source": [
    "years = songs['Year'].values\n",
    "print(len(years))\n",
    "print(years[0:10])"
   ]
  },
  {
   "cell_type": "code",
   "execution_count": 230,
   "metadata": {},
   "outputs": [
    {
     "name": "stdout",
     "output_type": "stream",
     "text": [
      "[False False False False False False  True  True False False]\n",
      "\n",
      "10             All Things Must Pass\n",
      "26    Because I Know You Love Me So\n",
      "27                          Because\n",
      "36                Carry That Weight\n",
      "44                  Come and Get It\n",
      "45                    Come Together\n",
      "52                       Dig a Pony\n",
      "53                           Dig It\n",
      "59                Don't Let Me Down\n",
      "68        Fancy My Chances with You\n",
      "Name: Title, dtype: object\n",
      "\n",
      "36                           Carry That Weight\n",
      "53                                      Dig It\n",
      "81                             Golden Slumbers\n",
      "94                                 Her Majesty\n",
      "173                                 Maggie Mae\n",
      "175            Mailman, Bring Me No More Blues\n",
      "179                           Mean Mr. Mustard\n",
      "208                              Polythene Pam\n",
      "226    She Came in Through the Bathroom Window\n",
      "Name: Title, dtype: object\n",
      "\n",
      "1                                    A Day in the Life\n",
      "11                                    All Together Now\n",
      "12                                All You Need Is Love\n",
      "14                              And Your Bird Can Sing\n",
      "21                             Baby, You're a Rich Man\n",
      "28                  Being for the Benefit of Mr. Kite!\n",
      "31                                        Blue Jay Way\n",
      "41                      Christmas Time (Is Here Again)\n",
      "56                                       Doctor Robert\n",
      "63                                       Eleanor Rigby\n",
      "69                                       Fixing a Hole\n",
      "70                                              Flying\n",
      "71                                          For No One\n",
      "77                                      Getting Better\n",
      "82                                   Good Day Sunshine\n",
      "83                          Good Morning, Good Morning\n",
      "86                         Got to Get You into My Life\n",
      "91                                      Hello, Goodbye\n",
      "96                          Here, There and Everywhere\n",
      "104                                    I Am the Walrus\n",
      "119                                 I Want to Tell You\n",
      "134                                  I'm Only Sleeping\n",
      "146                                  It's All Too Much\n",
      "149                                     Jessie's Dream\n",
      "168                                        Love You To\n",
      "169                                        Lovely Rita\n",
      "171                      Lucy in the Sky with Diamonds\n",
      "174                               Magical Mystery Tour\n",
      "200                               Only a Northern Song\n",
      "203                                   Paperback Writer\n",
      "204                                         Penny Lane\n",
      "209                                               Rain\n",
      "223    Sgt. Pepper's Lonely Hearts Club Band (Reprise)\n",
      "224              Sgt. Pepper's Lonely Hearts Club Band\n",
      "228                                  She Said She Said\n",
      "230                                 She's Leaving Home\n",
      "240                          Strawberry Fields Forever\n",
      "246                                             Taxman\n",
      "257                               The Fool on the Hill\n",
      "274                               Tomorrow Never Knows\n",
      "285                                When I'm Sixty-Four\n",
      "290                 With a Little Help from My Friends\n",
      "291                             Within You Without You\n",
      "294                                   Yellow Submarine\n",
      "299              You Know My Name (Look Up the Number)\n",
      "309                            Your Mother Should Know\n",
      "Name: Title, dtype: object\n",
      "\n",
      "Mean length of songs from 1966-1967: 180.47826086956522\n"
     ]
    }
   ],
   "source": [
    "years_gt_1968 = (years > 1968)                           # mask: Boolean array of the same length as years, True if years > 1968\n",
    "print(years_gt_1968[20:30])                              # get a slice of it\n",
    "print()\n",
    "\n",
    "# Get the titles of the first 10 songs such that years > 1968\n",
    "print(songs[years_gt_1968]['Title'].head(10))\n",
    "print()\n",
    "\n",
    "# Get the titles of the last 10 songs such that years > 1968 and times < 120\n",
    "times_lt_120 = (times < 120)\n",
    "print(songs[years_gt_1968 & times_lt_120]['Title'].tail(10))\n",
    "print()\n",
    "\n",
    "# Get the titles of all songs released 1966 or 1967, as well as the mean value of their lengths\n",
    "years_1966_1967 = (years >= 1966) & (years <= 1967)\n",
    "print(songs[years_1966_1967]['Title'])\n",
    "print()\n",
    "print('Mean length of songs from 1966-1967:', np.mean(songs[years_1966_1967]['Duration']))"
   ]
  },
  {
   "cell_type": "markdown",
   "metadata": {},
   "source": [
    "## Fancy indexing\n",
    "Fancy indexing is like the simple indexing, but arrays of indices are passed in place of single scalars. <br>\n",
    "**Important:** The shape of the result is the same as the (possibly broadcasted) shape of the index array, not of the array being indexed."
   ]
  },
  {
   "cell_type": "markdown",
   "metadata": {},
   "source": [
    "### Fancy indexing of one-dimensional arrays"
   ]
  },
  {
   "cell_type": "code",
   "execution_count": 265,
   "metadata": {},
   "outputs": [
    {
     "name": "stdout",
     "output_type": "stream",
     "text": [
      "[8 9 3 8 8 0 5 3 9 9]\n",
      "[[5 7 6 0]\n",
      " [4 7 8 1]\n",
      " [6 2 2 1]]\n",
      "\n",
      "[3 9 0]\n",
      "[ 8  9 55  8  8 55  5  3 55  9]\n",
      "[ 8  9 45  8  8 45  5  3 45  9]\n",
      "\n",
      "[[ 9  8]\n",
      " [45  8]]\n"
     ]
    }
   ],
   "source": [
    "rng = np.random.RandomState(23)\n",
    "np.random.seed(3)\n",
    "a = np.random.randint(10, size=10)\n",
    "print(a)\n",
    "print()\n",
    "\n",
    "i = [2, 8, 5]                                 # one-dimensional index\n",
    "print(a[i])\n",
    "a[i] = 55\n",
    "print(a)\n",
    "a[i] -= 10\n",
    "print(a)\n",
    "print()\n",
    "\n",
    "i = np.array([[1, 0],                         # multi-dimensional index\n",
    "              [2, 4]])\n",
    "print(a[i])                                   # the shape of the result is the same as the shape of the index array"
   ]
  },
  {
   "cell_type": "markdown",
   "metadata": {},
   "source": [
    "### Fancy indexing of multi-dimensional arrays"
   ]
  },
  {
   "cell_type": "code",
   "execution_count": 266,
   "metadata": {},
   "outputs": [
    {
     "name": "stdout",
     "output_type": "stream",
     "text": [
      "[[3 5 8 1]\n",
      " [8 7 8 1]\n",
      " [0 5 4 1]]\n",
      "\n",
      "[8 5 8]\n",
      "\n",
      "[[8 5 3]\n",
      " [4 5 0]\n",
      " [8 7 8]]\n",
      "\n",
      "[4 0 5]\n",
      "[[8 8 7]\n",
      " [4 0 5]]\n"
     ]
    }
   ],
   "source": [
    "m = np.random.randint(10, size=(3, 4))\n",
    "print(m)\n",
    "print()\n",
    "\n",
    "i_row = np.array([0, 2, 1])\n",
    "i_col = np.array([2, 1, 0])\n",
    "print(m[i_row, i_col])                        # resulting pairs of indices: [0, 2], [2, 1], [1, 0]\n",
    "print()\n",
    "\n",
    "print(m[i_row[:, np.newaxis], i_col])\n",
    "print()\n",
    "\n",
    "print(m[2, [2, 0, 1]])\n",
    "print(m[-2:, [2, 0, 1]])"
   ]
  },
  {
   "cell_type": "markdown",
   "metadata": {},
   "source": [
    "### Combining fancy indexing and masking"
   ]
  },
  {
   "cell_type": "code",
   "execution_count": 267,
   "metadata": {},
   "outputs": [
    {
     "name": "stdout",
     "output_type": "stream",
     "text": [
      "[[0]\n",
      " [2]\n",
      " [1]]\n",
      "[[3 8]\n",
      " [0 4]\n",
      " [8 8]]\n"
     ]
    }
   ],
   "source": [
    "mask = np.array([1, 0, 1, 0], dtype=bool)\n",
    "print(i_row[:, np.newaxis])\n",
    "print(m[i_row[:, np.newaxis], mask])"
   ]
  },
  {
   "cell_type": "markdown",
   "metadata": {},
   "source": [
    "## Sorting NumPy arrays"
   ]
  },
  {
   "cell_type": "markdown",
   "metadata": {},
   "source": [
    "### `np.sort()`"
   ]
  },
  {
   "cell_type": "code",
   "execution_count": 273,
   "metadata": {},
   "outputs": [
    {
     "name": "stdout",
     "output_type": "stream",
     "text": [
      "[3 1 7 2 5]\n",
      "[1 2 3 5 7]\n",
      "[1 2 3 5 7]\n"
     ]
    }
   ],
   "source": [
    "a = np.array([3, 1, 7, 2, 5])\n",
    "print(a)\n",
    "print(np.sort(a))                  # a does not change\n",
    "a.sort()                           # inplace sorting, a changes\n",
    "print(a)"
   ]
  },
  {
   "cell_type": "code",
   "execution_count": 285,
   "metadata": {},
   "outputs": [
    {
     "name": "stdout",
     "output_type": "stream",
     "text": [
      "[[5 0 3 3 7 9]\n",
      " [3 5 2 4 7 6]\n",
      " [8 8 1 6 7 7]\n",
      " [8 1 5 9 8 9]]\n",
      "\n",
      "[[3 0 1 3 7 6]\n",
      " [5 1 2 4 7 7]\n",
      " [8 5 3 6 7 9]\n",
      " [8 8 5 9 8 9]]\n",
      "\n",
      "[[0 3 3 5 7 9]\n",
      " [2 3 4 5 6 7]\n",
      " [1 6 7 7 8 8]\n",
      " [1 5 8 8 9 9]]\n"
     ]
    }
   ],
   "source": [
    "np.random.seed(0)\n",
    "m = np.random.randint(10, size=(4, 6))\n",
    "print(m)\n",
    "print()\n",
    "\n",
    "print(np.sort(m, axis=0))                 # sort each column of x, independently \n",
    "print()\n",
    "print(np.sort(m, axis=1))                 # sort each row of x, independently "
   ]
  },
  {
   "cell_type": "markdown",
   "metadata": {},
   "source": [
    "### `np.argsort()`"
   ]
  },
  {
   "cell_type": "code",
   "execution_count": 282,
   "metadata": {},
   "outputs": [
    {
     "name": "stdout",
     "output_type": "stream",
     "text": [
      "0    174\n",
      "1    335\n",
      "2    152\n",
      "3    104\n",
      "4    163\n",
      "Name: Duration, dtype: int64\n",
      "\n",
      "[ 94 173  53 288 179 208 223  81 132  36]\n",
      "[23 40 51 52 66 72 80 91 92 96]\n",
      "\n",
      "94                     Her Majesty\n",
      "173                     Maggie Mae\n",
      "53                          Dig It\n",
      "288                 Wild Honey Pie\n",
      "179               Mean Mr. Mustard\n",
      "                  ...             \n",
      "283       What's The New Mary Jane\n",
      "146              It's All Too Much\n",
      "98                        Hey Jude\n",
      "120    I Want You (She's So Heavy)\n",
      "212                   Revolution 9\n",
      "Name: Title, Length: 310, dtype: object\n",
      "\n",
      "93                   Helter Skelter\n",
      "104                 I Am the Walrus\n",
      "286    While My Guitar Gently Weeps\n",
      "291          Within You Without You\n",
      "1                 A Day in the Life\n",
      "283        What's The New Mary Jane\n",
      "146               It's All Too Much\n",
      "98                         Hey Jude\n",
      "120     I Want You (She's So Heavy)\n",
      "212                    Revolution 9\n",
      "Name: Title, dtype: object\n"
     ]
    }
   ],
   "source": [
    "songs = pd.read_csv('data/The Beatles songs dataset, v1, no NAs.csv')       # get the songs as a pd.DataFrame object\n",
    "lengths = songs['Duration']                                                 # get the song lengths as a pd.Series object\n",
    "print(lengths.head())\n",
    "print()\n",
    "\n",
    "times = lengths.values                                                      # convert the song lengths into a NumPy array\n",
    "i = np.argsort(times)                                                       # sort song times from shortest to longest\n",
    "print(i[0:10])                                                              # print the first 10 indices\n",
    "print(times[i[0:10]])                                                       # print the 10 shortest song times\n",
    "print()\n",
    "\n",
    "print(songs['Title'][i])                                                    # fancy-index songs['Title']\n",
    "print()\n",
    "\n",
    "print(songs['Title'][i[-10:]])                                              # fancy-index songs['Title'], the 10 longest songs"
   ]
  },
  {
   "cell_type": "markdown",
   "metadata": {},
   "source": [
    "### `np.partition()`\n",
    "Takes a NumPy array and a number (*k*) and returns *k* smallest first (in arbitrary order) and then the remaining ones (also in arbitrary order)."
   ]
  },
  {
   "cell_type": "code",
   "execution_count": 286,
   "metadata": {},
   "outputs": [
    {
     "data": {
      "text/plain": [
       "array([2, 1, 3, 4, 6, 5, 7])"
      ]
     },
     "execution_count": 286,
     "metadata": {},
     "output_type": "execute_result"
    }
   ],
   "source": [
    "a = np.array([7, 2, 3, 1, 6, 5, 4])\n",
    "np.partition(a, 3)"
   ]
  },
  {
   "cell_type": "code",
   "execution_count": 287,
   "metadata": {},
   "outputs": [
    {
     "name": "stdout",
     "output_type": "stream",
     "text": [
      "[[5 0 3 3 7 9]\n",
      " [3 5 2 4 7 6]\n",
      " [8 8 1 6 7 7]\n",
      " [8 1 5 9 8 9]]\n",
      "\n",
      "[[3 0 1 3 7 6]\n",
      " [5 1 2 4 7 7]\n",
      " [8 5 3 6 7 9]\n",
      " [8 8 5 9 8 9]]\n",
      "\n",
      "[[0 3 3 5 7 9]\n",
      " [2 3 4 5 7 6]\n",
      " [1 6 7 8 8 7]\n",
      " [1 5 8 9 8 9]]\n"
     ]
    }
   ],
   "source": [
    "np.random.seed(0)\n",
    "m = np.random.randint(10, size=(4, 6))\n",
    "print(m)\n",
    "print()\n",
    "\n",
    "print(np.partition(m, 2, axis=0))                 # partition each column of x, independently, k = 2\n",
    "print()\n",
    "print(np.partition(m, 2, axis=1))                 # partition each row of x, independently, k = 2"
   ]
  }
 ],
 "metadata": {
  "kernelspec": {
   "display_name": "Python 3 (ipykernel)",
   "language": "python",
   "name": "python3"
  },
  "language_info": {
   "codemirror_mode": {
    "name": "ipython",
    "version": 3
   },
   "file_extension": ".py",
   "mimetype": "text/x-python",
   "name": "python",
   "nbconvert_exporter": "python",
   "pygments_lexer": "ipython3",
   "version": "3.10.0"
  }
 },
 "nbformat": 4,
 "nbformat_minor": 4
}
