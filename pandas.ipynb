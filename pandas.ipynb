{
 "cells": [
  {
   "cell_type": "markdown",
   "metadata": {
    "pycharm": {
     "name": "#%% md\n"
    }
   },
   "source": [
    "# Getting started with Pandas\n",
    "Introduction to Pandas' most useful and most frequently used classes and functions. Based on [Python Data Science Handbook](https://jakevdp.github.io/PythonDataScienceHandbook/) by Jake VanderPlas.<br>\n",
    "Another recommended set of good learning resources is [this one](https://qr.ae/pNsm5Y)."
   ]
  },
  {
   "cell_type": "markdown",
   "metadata": {
    "pycharm": {
     "name": "#%% md\n"
    }
   },
   "source": [
    "## Import packages"
   ]
  },
  {
   "cell_type": "code",
   "execution_count": 1,
   "metadata": {
    "pycharm": {
     "name": "#%%\n"
    }
   },
   "outputs": [],
   "source": [
    "import numpy as np\n",
    "import pandas as pd\n",
    "%run \"import_packages.ipynb\""
   ]
  },
  {
   "cell_type": "markdown",
   "metadata": {
    "pycharm": {
     "name": "#%% md\n"
    }
   },
   "source": [
    "### Package versions"
   ]
  },
  {
   "cell_type": "code",
   "execution_count": 56,
   "metadata": {
    "scrolled": true,
    "pycharm": {
     "name": "#%%\n"
    }
   },
   "outputs": [
    {
     "data": {
      "text/plain": "'1.4.4'"
     },
     "execution_count": 56,
     "metadata": {},
     "output_type": "execute_result"
    }
   ],
   "source": [
    "np.__version__\n",
    "pd.__version__"
   ]
  },
  {
   "cell_type": "code",
   "execution_count": 57,
   "metadata": {
    "pycharm": {
     "name": "#%%\n"
    }
   },
   "outputs": [
    {
     "name": "stdout",
     "output_type": "stream",
     "text": [
      "1.23.2\n",
      "1.4.4\n"
     ]
    },
    {
     "data": {
      "text/plain": "'1.23.2'"
     },
     "metadata": {},
     "output_type": "display_data"
    },
    {
     "data": {
      "text/plain": "'1.4.4'"
     },
     "metadata": {},
     "output_type": "display_data"
    }
   ],
   "source": [
    "print(np.__version__)\n",
    "print(pd.__version__)\n",
    "display(np.__version__)\n",
    "display(pd.__version__)"
   ]
  },
  {
   "cell_type": "markdown",
   "metadata": {
    "pycharm": {
     "name": "#%% md\n"
    }
   },
   "source": [
    "## *pd.Series* objects"
   ]
  },
  {
   "cell_type": "code",
   "execution_count": 58,
   "metadata": {
    "pycharm": {
     "name": "#%%\n"
    }
   },
   "outputs": [
    {
     "data": {
      "text/plain": "0    1.200\n1   -0.450\n2    2.345\n3    0.000\ndtype: float64"
     },
     "execution_count": 58,
     "metadata": {},
     "output_type": "execute_result"
    }
   ],
   "source": [
    "s = pd.Series([1.2, -0.45, 2.345, 0])\n",
    "s"
   ]
  },
  {
   "cell_type": "markdown",
   "metadata": {
    "pycharm": {
     "name": "#%% md\n"
    }
   },
   "source": [
    "### Accessing elements of *pd.Series* objects"
   ]
  },
  {
   "cell_type": "code",
   "execution_count": 59,
   "metadata": {
    "pycharm": {
     "name": "#%%\n"
    }
   },
   "outputs": [
    {
     "data": {
      "text/plain": "-0.45"
     },
     "execution_count": 59,
     "metadata": {},
     "output_type": "execute_result"
    }
   ],
   "source": [
    "s[1]"
   ]
  },
  {
   "cell_type": "code",
   "execution_count": 60,
   "metadata": {
    "pycharm": {
     "name": "#%%\n"
    }
   },
   "outputs": [
    {
     "data": {
      "text/plain": "0     1.20\n1    -0.45\n2    24.00\n3     0.00\ndtype: float64"
     },
     "metadata": {},
     "output_type": "display_data"
    },
    {
     "data": {
      "text/plain": "0     1.20\n1    -0.45\n2    24.00\ndtype: float64"
     },
     "metadata": {},
     "output_type": "display_data"
    }
   ],
   "source": [
    "s[2] = 24\n",
    "# print(s)\n",
    "# print(s[:3])\n",
    "display(s)\n",
    "display(s[:3])"
   ]
  },
  {
   "cell_type": "markdown",
   "metadata": {
    "pycharm": {
     "name": "#%% md\n"
    }
   },
   "source": [
    "### *values* and *index* attributes"
   ]
  },
  {
   "cell_type": "code",
   "execution_count": 61,
   "metadata": {
    "pycharm": {
     "name": "#%%\n"
    }
   },
   "outputs": [
    {
     "data": {
      "text/plain": "array([ 1.2 , -0.45, 24.  ,  0.  ])"
     },
     "metadata": {},
     "output_type": "display_data"
    },
    {
     "data": {
      "text/plain": "RangeIndex(start=0, stop=4, step=1)"
     },
     "metadata": {},
     "output_type": "display_data"
    },
    {
     "data": {
      "text/plain": "numpy.ndarray"
     },
     "metadata": {},
     "output_type": "display_data"
    },
    {
     "data": {
      "text/plain": "pandas.core.indexes.range.RangeIndex"
     },
     "metadata": {},
     "output_type": "display_data"
    }
   ],
   "source": [
    "# print(s.values)\n",
    "# print(s.index)\n",
    "# print(type(s.values))\n",
    "# print(type(s.index))\n",
    "display(s.values)\n",
    "display(s.index)\n",
    "display(type(s.values))\n",
    "display(type(s.index))"
   ]
  },
  {
   "cell_type": "markdown",
   "metadata": {
    "pycharm": {
     "name": "#%% md\n"
    }
   },
   "source": [
    "### *pd.Series* objects as generalized NumPy arrays\n",
    "The essential difference is the presence of the index: while each NumPy array has an *implicitly* defined *integer* index used to access the values, each `pd.Series` object has an *explicitly* defined index associated with the values."
   ]
  },
  {
   "cell_type": "code",
   "execution_count": 62,
   "metadata": {
    "pycharm": {
     "name": "#%%\n"
    }
   },
   "outputs": [
    {
     "data": {
      "text/plain": "array([ 1.2  , -0.45 ,  2.345,  0.   ])"
     },
     "metadata": {},
     "output_type": "display_data"
    },
    {
     "data": {
      "text/plain": "0    1.200\n1   -0.450\n2    2.345\n3    0.000\ndtype: float64"
     },
     "metadata": {},
     "output_type": "display_data"
    },
    {
     "data": {
      "text/plain": "0    1.200\n1   -0.450\n2    2.345\n3    0.000\ndtype: float64"
     },
     "execution_count": 62,
     "metadata": {},
     "output_type": "execute_result"
    }
   ],
   "source": [
    "a = np.array([1.2, -0.45, 2.345, 0])\n",
    "s = pd.Series([1.2, -0.45, 2.345, 0])\n",
    "# print(a)\n",
    "# print(s)\n",
    "display(a)\n",
    "display(s)\n",
    "s"
   ]
  },
  {
   "cell_type": "code",
   "execution_count": 63,
   "metadata": {
    "pycharm": {
     "name": "#%%\n"
    }
   },
   "outputs": [
    {
     "data": {
      "text/plain": "1     1.200\n13   -0.450\n2     2.345\n4     0.000\ndtype: float64"
     },
     "metadata": {},
     "output_type": "display_data"
    },
    {
     "data": {
      "text/plain": "-0.45"
     },
     "execution_count": 63,
     "metadata": {},
     "output_type": "execute_result"
    }
   ],
   "source": [
    "s = pd.Series([1.2, -0.45, 2.345, 0], index = [1, 13, 2, 4])\n",
    "display(s)\n",
    "s[13]"
   ]
  },
  {
   "cell_type": "code",
   "execution_count": 64,
   "metadata": {
    "pycharm": {
     "name": "#%%\n"
    }
   },
   "outputs": [
    {
     "data": {
      "text/plain": "a    1.200\nb   -0.450\nc    2.345\nd    0.000\ndtype: float64"
     },
     "metadata": {},
     "output_type": "display_data"
    },
    {
     "data": {
      "text/plain": "23.0"
     },
     "metadata": {},
     "output_type": "display_data"
    },
    {
     "data": {
      "text/plain": "2.345"
     },
     "metadata": {},
     "output_type": "display_data"
    }
   ],
   "source": [
    "s = pd.Series([1.2, -0.45, 2.345, 0], index = ['a', 'b', 'c', 'd'])\n",
    "display(s)\n",
    "s['d'] = 23\n",
    "display(s['d'])\n",
    "display(s[2])"
   ]
  },
  {
   "cell_type": "markdown",
   "metadata": {
    "pycharm": {
     "name": "#%% md\n"
    }
   },
   "source": [
    "### *pd.Series* objects as specialized dictionaries"
   ]
  },
  {
   "cell_type": "code",
   "execution_count": 65,
   "metadata": {
    "pycharm": {
     "name": "#%%\n"
    }
   },
   "outputs": [
    {
     "data": {
      "text/plain": "The Beatles           1962\nThe Rolling Stones    1963\nJefferson Airplane    1965\ndtype: int64"
     },
     "metadata": {},
     "output_type": "display_data"
    },
    {
     "data": {
      "text/plain": "1962"
     },
     "metadata": {},
     "output_type": "display_data"
    },
    {
     "data": {
      "text/plain": "1962"
     },
     "metadata": {},
     "output_type": "display_data"
    },
    {
     "data": {
      "text/plain": "The Beatles           1962\nThe Rolling Stones    1963\ndtype: int64"
     },
     "metadata": {},
     "output_type": "display_data"
    },
    {
     "data": {
      "text/plain": "The Beatles    1962\ndtype: int64"
     },
     "metadata": {},
     "output_type": "display_data"
    }
   ],
   "source": [
    "bands = {'The Beatles': 1962,\n",
    "         'The Rolling Stones': 1963,\n",
    "         'Jefferson Airplane': 1965}\n",
    "bands_s = pd.Series(bands)\n",
    "display(bands_s)\n",
    "display(bands_s['The Beatles'])\n",
    "display(bands_s[0])\n",
    "display(bands_s['The Beatles':'The Rolling Stones'])      # includes the last index\n",
    "display(bands_s[0:1])                                     # does not include the last index"
   ]
  },
  {
   "cell_type": "code",
   "execution_count": 66,
   "metadata": {
    "pycharm": {
     "name": "#%%\n"
    }
   },
   "outputs": [
    {
     "data": {
      "text/plain": "The Beatles           1962\nThe Rolling Stones    1963\ndtype: int64"
     },
     "metadata": {},
     "output_type": "display_data"
    }
   ],
   "source": [
    "bands = ['The Beatles', \n",
    "         'The Rolling Stones']\n",
    "years = [1962, 1963]\n",
    "# bands_s = pd.Series(years, index=bands)\n",
    "# display(bands_s)\n",
    "\n",
    "# years = [1962, 1963, 1964, 1965]                      # error: there must be as many values as the index implies\n",
    "# bands_s = pd.Series(years, index=bands)\n",
    "\n",
    "bands_s = pd.Series({'The Beatles': 1962,\n",
    "                     'The Rolling Stones': 1963,\n",
    "                     'Jefferson Airplane': 1965}, \n",
    "                    index=bands)                        # the index can be explicitly set if a different result is preferred\n",
    "display(bands_s)"
   ]
  },
  {
   "cell_type": "markdown",
   "metadata": {
    "pycharm": {
     "name": "#%% md\n"
    }
   },
   "source": [
    "##  *pd.DataFrame* objects"
   ]
  },
  {
   "cell_type": "code",
   "execution_count": 67,
   "metadata": {
    "pycharm": {
     "name": "#%%\n"
    }
   },
   "outputs": [
    {
     "data": {
      "text/plain": "                Title                            Album debut\ns1  A Day in the Life  Sgt. Pepper's Lonely Hearts Club Band\ns2            Because                             Abbey Road\ns3          Blackbird                            The Beatles",
      "text/html": "<div>\n<style scoped>\n    .dataframe tbody tr th:only-of-type {\n        vertical-align: middle;\n    }\n\n    .dataframe tbody tr th {\n        vertical-align: top;\n    }\n\n    .dataframe thead th {\n        text-align: right;\n    }\n</style>\n<table border=\"1\" class=\"dataframe\">\n  <thead>\n    <tr style=\"text-align: right;\">\n      <th></th>\n      <th>Title</th>\n      <th>Album debut</th>\n    </tr>\n  </thead>\n  <tbody>\n    <tr>\n      <th>s1</th>\n      <td>A Day in the Life</td>\n      <td>Sgt. Pepper's Lonely Hearts Club Band</td>\n    </tr>\n    <tr>\n      <th>s2</th>\n      <td>Because</td>\n      <td>Abbey Road</td>\n    </tr>\n    <tr>\n      <th>s3</th>\n      <td>Blackbird</td>\n      <td>The Beatles</td>\n    </tr>\n  </tbody>\n</table>\n</div>"
     },
     "metadata": {},
     "output_type": "display_data"
    },
    {
     "data": {
      "text/plain": "                Title                            Album debut\ns1  A Day in the Life  Sgt. Pepper's Lonely Hearts Club Band\ns2            Because                             Abbey Road\ns3          Blackbird                            The Beatles",
      "text/html": "<div>\n<style scoped>\n    .dataframe tbody tr th:only-of-type {\n        vertical-align: middle;\n    }\n\n    .dataframe tbody tr th {\n        vertical-align: top;\n    }\n\n    .dataframe thead th {\n        text-align: right;\n    }\n</style>\n<table border=\"1\" class=\"dataframe\">\n  <thead>\n    <tr style=\"text-align: right;\">\n      <th></th>\n      <th>Title</th>\n      <th>Album debut</th>\n    </tr>\n  </thead>\n  <tbody>\n    <tr>\n      <th>s1</th>\n      <td>A Day in the Life</td>\n      <td>Sgt. Pepper's Lonely Hearts Club Band</td>\n    </tr>\n    <tr>\n      <th>s2</th>\n      <td>Because</td>\n      <td>Abbey Road</td>\n    </tr>\n    <tr>\n      <th>s3</th>\n      <td>Blackbird</td>\n      <td>The Beatles</td>\n    </tr>\n  </tbody>\n</table>\n</div>"
     },
     "execution_count": 67,
     "metadata": {},
     "output_type": "execute_result"
    }
   ],
   "source": [
    "indices = ['s1', 's2', 's3']\n",
    "titles = ['A Day in the Life', 'Because', 'Blackbird']\n",
    "album_debuts = ['Sgt. Pepper\\'s Lonely Hearts Club Band', 'Abbey Road', 'The Beatles']\n",
    "\n",
    "s_titles = pd.Series(titles, index=indices)\n",
    "s_album_debuts = pd.Series(album_debuts, index=indices)\n",
    "\n",
    "songs = pd.DataFrame({'Title':s_titles, 'Album debut':s_album_debuts})\n",
    "display(songs)\n",
    "songs\n",
    "\n",
    "# songs = pd.DataFrame(s_titles, columns=['Title'])     # create a single-column pd.DataFrame object from a pd.Series object\n",
    "# display(songs)\n",
    "\n",
    "# pd.DataFrame(np.random.rand(3, 2),                    # create a pd.DataFrame object from a 2-dimensional NumPy array\n",
    "#              columns=['foo', 'bar'],\n",
    "#              index=['a', 'b', 'c'])"
   ]
  },
  {
   "cell_type": "markdown",
   "metadata": {
    "pycharm": {
     "name": "#%% md\n"
    }
   },
   "source": [
    "### *index* and *columns* attributes"
   ]
  },
  {
   "cell_type": "code",
   "execution_count": 68,
   "metadata": {
    "scrolled": true,
    "pycharm": {
     "name": "#%%\n"
    }
   },
   "outputs": [
    {
     "data": {
      "text/plain": "Index(['s1', 's2', 's3'], dtype='object')"
     },
     "metadata": {},
     "output_type": "display_data"
    },
    {
     "data": {
      "text/plain": "pandas.core.indexes.base.Index"
     },
     "metadata": {},
     "output_type": "display_data"
    },
    {
     "data": {
      "text/plain": "Index(['Title', 'Album debut'], dtype='object')"
     },
     "metadata": {},
     "output_type": "display_data"
    },
    {
     "data": {
      "text/plain": "pandas.core.indexes.base.Index"
     },
     "metadata": {},
     "output_type": "display_data"
    }
   ],
   "source": [
    "display(songs.index)\n",
    "display(type(songs.index))\n",
    "\n",
    "display(songs.columns)\n",
    "display(type(songs.columns))"
   ]
  },
  {
   "cell_type": "markdown",
   "metadata": {
    "pycharm": {
     "name": "#%% md\n"
    }
   },
   "source": [
    "### *dtype* and *dtypes* attributes"
   ]
  },
  {
   "cell_type": "code",
   "execution_count": 69,
   "metadata": {
    "pycharm": {
     "name": "#%%\n"
    }
   },
   "outputs": [
    {
     "data": {
      "text/plain": "dtype('O')"
     },
     "metadata": {},
     "output_type": "display_data"
    },
    {
     "data": {
      "text/plain": "dtype('O')"
     },
     "metadata": {},
     "output_type": "display_data"
    },
    {
     "data": {
      "text/plain": "Title          object\nAlbum debut    object\ndtype: object"
     },
     "metadata": {},
     "output_type": "display_data"
    }
   ],
   "source": [
    "display(songs.Title.dtype)                    # 'O' (object)\n",
    "display(songs['Album debut'].dtype)           # 'O' (object)\n",
    "display(songs.dtypes)"
   ]
  },
  {
   "cell_type": "markdown",
   "metadata": {
    "pycharm": {
     "name": "#%% md\n"
    }
   },
   "source": [
    "### *pd.DataFrame* objects as specialized dictionaries (or as \"arrays of arrays (columns)\")"
   ]
  },
  {
   "cell_type": "code",
   "execution_count": 70,
   "metadata": {
    "pycharm": {
     "name": "#%%\n"
    }
   },
   "outputs": [
    {
     "data": {
      "text/plain": "s1    A Day in the Life\ns2              Because\ns3            Blackbird\nName: Title, dtype: object"
     },
     "metadata": {},
     "output_type": "display_data"
    },
    {
     "data": {
      "text/plain": "pandas.core.series.Series"
     },
     "metadata": {},
     "output_type": "display_data"
    }
   ],
   "source": [
    "display(songs['Title'])                       # a pd.DataFrame is a generalized dictionary (or \"an array of arrays (columns)\"); \n",
    "display(type(songs['Title']))                 # each value-element of that dictionary (array) is a pd.Series object (a column)"
   ]
  },
  {
   "cell_type": "code",
   "execution_count": 71,
   "metadata": {
    "scrolled": true,
    "pycharm": {
     "name": "#%%\n"
    }
   },
   "outputs": [
    {
     "data": {
      "text/plain": "Empty DataFrame\nColumns: []\nIndex: []",
      "text/html": "<div>\n<style scoped>\n    .dataframe tbody tr th:only-of-type {\n        vertical-align: middle;\n    }\n\n    .dataframe tbody tr th {\n        vertical-align: top;\n    }\n\n    .dataframe thead th {\n        text-align: right;\n    }\n</style>\n<table border=\"1\" class=\"dataframe\">\n  <thead>\n    <tr style=\"text-align: right;\">\n      <th></th>\n    </tr>\n  </thead>\n  <tbody>\n  </tbody>\n</table>\n</div>"
     },
     "metadata": {},
     "output_type": "display_data"
    },
    {
     "data": {
      "text/plain": "Index([], dtype='object')"
     },
     "metadata": {},
     "output_type": "display_data"
    },
    {
     "data": {
      "text/plain": "Index([], dtype='object')"
     },
     "metadata": {},
     "output_type": "display_data"
    },
    {
     "data": {
      "text/plain": "                Title\ns1  A Day in the Life\ns2            Because\ns3          Blackbird",
      "text/html": "<div>\n<style scoped>\n    .dataframe tbody tr th:only-of-type {\n        vertical-align: middle;\n    }\n\n    .dataframe tbody tr th {\n        vertical-align: top;\n    }\n\n    .dataframe thead th {\n        text-align: right;\n    }\n</style>\n<table border=\"1\" class=\"dataframe\">\n  <thead>\n    <tr style=\"text-align: right;\">\n      <th></th>\n      <th>Title</th>\n    </tr>\n  </thead>\n  <tbody>\n    <tr>\n      <th>s1</th>\n      <td>A Day in the Life</td>\n    </tr>\n    <tr>\n      <th>s2</th>\n      <td>Because</td>\n    </tr>\n    <tr>\n      <th>s3</th>\n      <td>Blackbird</td>\n    </tr>\n  </tbody>\n</table>\n</div>"
     },
     "metadata": {},
     "output_type": "display_data"
    }
   ],
   "source": [
    "e = pd.DataFrame()                          # create an empty df\n",
    "display(e)\n",
    "display(e.columns)\n",
    "display(e.index)\n",
    "\n",
    "e['Title'] = s_titles                       # add new column (new element to the corresponding dictionary)\n",
    "display(e)"
   ]
  },
  {
   "cell_type": "markdown",
   "metadata": {
    "pycharm": {
     "name": "#%% md\n"
    }
   },
   "source": [
    "## *pd.Index* objects"
   ]
  },
  {
   "cell_type": "code",
   "execution_count": 72,
   "metadata": {
    "pycharm": {
     "name": "#%%\n"
    }
   },
   "outputs": [
    {
     "data": {
      "text/plain": "Int64Index([5, 3, 7, 9, 1], dtype='int64')"
     },
     "execution_count": 72,
     "metadata": {},
     "output_type": "execute_result"
    }
   ],
   "source": [
    "i = pd.Index([5, 3, 7, 9, 1])\n",
    "i"
   ]
  },
  {
   "cell_type": "code",
   "execution_count": 73,
   "metadata": {
    "pycharm": {
     "name": "#%%\n"
    }
   },
   "outputs": [
    {
     "data": {
      "text/plain": "3"
     },
     "metadata": {},
     "output_type": "display_data"
    }
   ],
   "source": [
    "display(i[1])\n",
    "\n",
    "# i[1] = 4                                  # no! pd.Index objects are immutable"
   ]
  },
  {
   "cell_type": "code",
   "execution_count": 74,
   "metadata": {
    "pycharm": {
     "name": "#%%\n"
    }
   },
   "outputs": [
    {
     "name": "stdout",
     "output_type": "stream",
     "text": [
      "songs_index: Index(['s1', 's2', 's3'], dtype='object')\n",
      "songs_index attributes: (3,) 3 1 object\n"
     ]
    }
   ],
   "source": [
    "songs_index = songs.index\n",
    "# display('songs_index:', songs_index)      # in this case, the output looks better with print()\n",
    "# display('songs_index attributes:', songs_index.shape, songs_index.size, songs_index.ndim, songs_index.dtype)\n",
    "print('songs_index:', songs_index)\n",
    "print('songs_index attributes:', songs_index.shape, songs_index.size, songs_index.ndim, songs_index.dtype)"
   ]
  },
  {
   "cell_type": "markdown",
   "metadata": {
    "pycharm": {
     "name": "#%% md\n"
    }
   },
   "source": [
    "## Data selection in *pd.Series* objects"
   ]
  },
  {
   "cell_type": "markdown",
   "metadata": {
    "pycharm": {
     "name": "#%% md\n"
    }
   },
   "source": [
    "The patterns of data indexing and selection in `pd.Series` objects rely on the fact that, in many ways, `pd.Serias` objects act like standard Python dictionaries, and in many ways like a one-dimensional NumPy arrays."
   ]
  },
  {
   "cell_type": "markdown",
   "metadata": {
    "pycharm": {
     "name": "#%% md\n"
    }
   },
   "source": [
    "### *pd.Series* object as Python dictionary"
   ]
  },
  {
   "cell_type": "code",
   "execution_count": 75,
   "metadata": {
    "pycharm": {
     "name": "#%%\n"
    }
   },
   "outputs": [
    {
     "data": {
      "text/plain": "s1    A Day in the Life\ns2          I Feel Fine\ns3            Let It Be\ns4       One After 9:09\ndtype: object"
     },
     "metadata": {},
     "output_type": "display_data"
    }
   ],
   "source": [
    "# titles = pd.Series(data=['A Day in the Life', 'I Feel Fine', 'Let It Be', 'One After 9:09'],\n",
    "#                    index=['s1', 's2', 's3', 's4'])\n",
    "titles = pd.Series(['A Day in the Life', 'I Feel Fine', 'Let It Be', 'One After 9:09'],\n",
    "                   index=['s1', 's2', 's3', 's4'])\n",
    "display(titles)"
   ]
  },
  {
   "cell_type": "code",
   "execution_count": 76,
   "metadata": {
    "pycharm": {
     "name": "#%%\n"
    }
   },
   "outputs": [
    {
     "data": {
      "text/plain": "'I Feel Fine'"
     },
     "metadata": {},
     "output_type": "display_data"
    },
    {
     "data": {
      "text/plain": "s1    A Day in the Life\ns2          I Feel Fine\ns3            Let It Be\ns4       One After 9:09\ns5          Oh, Darling\ndtype: object"
     },
     "metadata": {},
     "output_type": "display_data"
    },
    {
     "data": {
      "text/plain": "Index(['s1', 's2', 's3', 's4', 's5'], dtype='object')"
     },
     "metadata": {},
     "output_type": "display_data"
    },
    {
     "data": {
      "text/plain": "<bound method Series.keys of s1    A Day in the Life\ns2          I Feel Fine\ns3            Let It Be\ns4       One After 9:09\ns5          Oh, Darling\ndtype: object>"
     },
     "metadata": {},
     "output_type": "display_data"
    },
    {
     "data": {
      "text/plain": "array(['A Day in the Life', 'I Feel Fine', 'Let It Be', 'One After 9:09',\n       'Oh, Darling'], dtype=object)"
     },
     "metadata": {},
     "output_type": "display_data"
    },
    {
     "data": {
      "text/plain": "<zip at 0x234fcb7d600>"
     },
     "metadata": {},
     "output_type": "display_data"
    },
    {
     "data": {
      "text/plain": "<bound method Series.items of s1    A Day in the Life\ns2          I Feel Fine\ns3            Let It Be\ns4       One After 9:09\ns5          Oh, Darling\ndtype: object>"
     },
     "metadata": {},
     "output_type": "display_data"
    }
   ],
   "source": [
    "display(titles['s2'])\n",
    "titles['s5'] = 'Oh, Darling'\n",
    "display(titles)\n",
    "\n",
    "display(titles.keys())\n",
    "display(titles.keys)\n",
    "# display(titles.values())                   # error! 'numpy.ndarray' object is not callable\n",
    "display(titles.values)\n",
    "display(titles.items())\n",
    "display(titles.items)"
   ]
  },
  {
   "cell_type": "markdown",
   "metadata": {
    "pycharm": {
     "name": "#%% md\n"
    }
   },
   "source": [
    "### *pd.Series* object as one-dimensional array"
   ]
  },
  {
   "cell_type": "code",
   "execution_count": 77,
   "metadata": {
    "pycharm": {
     "name": "#%%\n"
    }
   },
   "outputs": [
    {
     "data": {
      "text/plain": "s2       I Feel Fine\ns3         Let It Be\ns4    One After 9:09\ndtype: object"
     },
     "metadata": {},
     "output_type": "display_data"
    },
    {
     "data": {
      "text/plain": "s1    A Day in the Life\ns2          I Feel Fine\ndtype: object"
     },
     "metadata": {},
     "output_type": "display_data"
    },
    {
     "data": {
      "text/plain": "s5          Oh, Darling\ns1    A Day in the Life\ndtype: object"
     },
     "metadata": {},
     "output_type": "display_data"
    },
    {
     "data": {
      "text/plain": "s1    A Day in the Life\ns3            Let It Be\ndtype: object"
     },
     "metadata": {},
     "output_type": "display_data"
    },
    {
     "data": {
      "text/plain": "a    300\nb    160\nc    210\ndtype: int64"
     },
     "metadata": {},
     "output_type": "display_data"
    },
    {
     "data": {
      "text/plain": "<generator object <genexpr> at 0x00000234FCC3AAB0>"
     },
     "metadata": {},
     "output_type": "display_data"
    },
    {
     "data": {
      "text/plain": "['One After 9:09', 'Oh, Darling']"
     },
     "metadata": {},
     "output_type": "display_data"
    }
   ],
   "source": [
    "# slicing\n",
    "display(titles['s2':'s4'])\n",
    "display(titles[0:2])\n",
    "\n",
    "# fancy indexing\n",
    "display(titles[['s5', 's1']])\n",
    "display(titles[[0, 2]])\n",
    "\n",
    "# masking\n",
    "times = pd.Series([300, 160, 210, 123, 150],\n",
    "                  index=['a', 'b', 'c', 'd', 'e'])\n",
    "display(times[times > 150])\n",
    "\n",
    "# print the titles that start with 'O'\n",
    "display(titles.values[i] for i in range(titles.size))\n",
    "display(list(titles.values[i] for i in range(titles.size) if titles.values[i].startswith('O')))"
   ]
  },
  {
   "cell_type": "markdown",
   "metadata": {
    "pycharm": {
     "name": "#%% md\n"
    }
   },
   "source": [
    "### *loc* and *iloc* indexers\n",
    "`loc` refers to explicit `pd.Series` object indices. `iloc` refers to implicit Python-style indices."
   ]
  },
  {
   "cell_type": "code",
   "execution_count": 78,
   "metadata": {
    "scrolled": true,
    "pycharm": {
     "name": "#%%\n"
    }
   },
   "outputs": [
    {
     "data": {
      "text/plain": "3    A Day in the Life\n8          I Feel Fine\n2            Let It Be\n4       One After 9:09\ndtype: object"
     },
     "metadata": {},
     "output_type": "display_data"
    },
    {
     "data": {
      "text/plain": "8    I Feel Fine\n2      Let It Be\ndtype: object"
     },
     "metadata": {},
     "output_type": "display_data"
    },
    {
     "data": {
      "text/plain": "8       I Feel Fine\n2         Let It Be\n4    One After 9:09\ndtype: object"
     },
     "metadata": {},
     "output_type": "display_data"
    },
    {
     "data": {
      "text/plain": "4    One After 9:09\n2         Let It Be\ndtype: object"
     },
     "metadata": {},
     "output_type": "display_data"
    },
    {
     "data": {
      "text/plain": "8       I Feel Fine\n2         Let It Be\n4    One After 9:09\ndtype: object"
     },
     "metadata": {},
     "output_type": "display_data"
    }
   ],
   "source": [
    "titles = pd.Series(['A Day in the Life', 'I Feel Fine', 'Let It Be', 'One After 9:09'], \n",
    "                   index=[3, 8, 2, 4])\n",
    "display(titles)\n",
    "\n",
    "# explicit indexing\n",
    "display(titles.loc[[8, 2]])\n",
    "display(titles.loc[8:4])\n",
    "\n",
    "# implicit indexing\n",
    "display(titles.iloc[[3, 2]])\n",
    "display(titles.iloc[1:4])"
   ]
  },
  {
   "cell_type": "markdown",
   "metadata": {
    "pycharm": {
     "name": "#%% md\n"
    }
   },
   "source": [
    "## Data selection in *pd.DataFrame* objects"
   ]
  },
  {
   "cell_type": "markdown",
   "metadata": {
    "pycharm": {
     "name": "#%% md\n"
    }
   },
   "source": [
    "Create a simple `pd.DataFrame` objects with a couple of The Beatles songs:"
   ]
  },
  {
   "cell_type": "code",
   "execution_count": 79,
   "metadata": {
    "pycharm": {
     "name": "#%%\n"
    }
   },
   "outputs": [
    {
     "data": {
      "text/plain": "                Title                            Album debut\ns1  A Day in the Life  Sgt. Pepper's Lonely Hearts Club Band\ns2            Because                             Abbey Road\ns3          Blackbird                            The Beatles",
      "text/html": "<div>\n<style scoped>\n    .dataframe tbody tr th:only-of-type {\n        vertical-align: middle;\n    }\n\n    .dataframe tbody tr th {\n        vertical-align: top;\n    }\n\n    .dataframe thead th {\n        text-align: right;\n    }\n</style>\n<table border=\"1\" class=\"dataframe\">\n  <thead>\n    <tr style=\"text-align: right;\">\n      <th></th>\n      <th>Title</th>\n      <th>Album debut</th>\n    </tr>\n  </thead>\n  <tbody>\n    <tr>\n      <th>s1</th>\n      <td>A Day in the Life</td>\n      <td>Sgt. Pepper's Lonely Hearts Club Band</td>\n    </tr>\n    <tr>\n      <th>s2</th>\n      <td>Because</td>\n      <td>Abbey Road</td>\n    </tr>\n    <tr>\n      <th>s3</th>\n      <td>Blackbird</td>\n      <td>The Beatles</td>\n    </tr>\n  </tbody>\n</table>\n</div>"
     },
     "execution_count": 79,
     "metadata": {},
     "output_type": "execute_result"
    }
   ],
   "source": [
    "indices = ['s1', 's2', 's3']\n",
    "titles = ['A Day in the Life', 'Because', 'Blackbird']\n",
    "album_debuts = ['Sgt. Pepper\\'s Lonely Hearts Club Band', 'Abbey Road', 'The Beatles']\n",
    "\n",
    "s_titles = pd.Series(titles, index=indices)\n",
    "s_album_debuts = pd.Series(album_debuts, index=indices)\n",
    "\n",
    "songs = pd.DataFrame({'Title':s_titles, 'Album debut':s_album_debuts})\n",
    "# print(songs)\n",
    "songs"
   ]
  },
  {
   "cell_type": "markdown",
   "metadata": {
    "pycharm": {
     "name": "#%% md\n"
    }
   },
   "source": [
    "### *pd.DataFrame* object as Python dictionary"
   ]
  },
  {
   "cell_type": "markdown",
   "metadata": {
    "pycharm": {
     "name": "#%% md\n"
    }
   },
   "source": [
    "Access specific columns in two equivalent ways:"
   ]
  },
  {
   "cell_type": "code",
   "execution_count": 80,
   "metadata": {
    "scrolled": true,
    "pycharm": {
     "name": "#%%\n"
    }
   },
   "outputs": [
    {
     "data": {
      "text/plain": "s1    A Day in the Life\ns2              Because\ns3            Blackbird\nName: Title, dtype: object"
     },
     "metadata": {},
     "output_type": "display_data"
    },
    {
     "data": {
      "text/plain": "s1    A Day in the Life\ns2              Because\ns3            Blackbird\nName: Title, dtype: object"
     },
     "metadata": {},
     "output_type": "display_data"
    }
   ],
   "source": [
    "display(songs['Title'])\n",
    "display(songs.Title)"
   ]
  },
  {
   "cell_type": "markdown",
   "metadata": {
    "pycharm": {
     "name": "#%% md\n"
    }
   },
   "source": [
    "Add new column:"
   ]
  },
  {
   "cell_type": "code",
   "execution_count": 81,
   "metadata": {
    "scrolled": true,
    "pycharm": {
     "name": "#%%\n"
    }
   },
   "outputs": [
    {
     "data": {
      "text/plain": "                Title                            Album debut  Time\ns1  A Day in the Life  Sgt. Pepper's Lonely Hearts Club Band   300\ns2            Because                             Abbey Road   200\ns3          Blackbird                            The Beatles   111",
      "text/html": "<div>\n<style scoped>\n    .dataframe tbody tr th:only-of-type {\n        vertical-align: middle;\n    }\n\n    .dataframe tbody tr th {\n        vertical-align: top;\n    }\n\n    .dataframe thead th {\n        text-align: right;\n    }\n</style>\n<table border=\"1\" class=\"dataframe\">\n  <thead>\n    <tr style=\"text-align: right;\">\n      <th></th>\n      <th>Title</th>\n      <th>Album debut</th>\n      <th>Time</th>\n    </tr>\n  </thead>\n  <tbody>\n    <tr>\n      <th>s1</th>\n      <td>A Day in the Life</td>\n      <td>Sgt. Pepper's Lonely Hearts Club Band</td>\n      <td>300</td>\n    </tr>\n    <tr>\n      <th>s2</th>\n      <td>Because</td>\n      <td>Abbey Road</td>\n      <td>200</td>\n    </tr>\n    <tr>\n      <th>s3</th>\n      <td>Blackbird</td>\n      <td>The Beatles</td>\n      <td>111</td>\n    </tr>\n  </tbody>\n</table>\n</div>"
     },
     "execution_count": 81,
     "metadata": {},
     "output_type": "execute_result"
    }
   ],
   "source": [
    "songs['Time'] = pd.Series([300, 200, 111, ], index=indices)\n",
    "# songs['Time'] = [300, 200, 111, ]                             # works as well\n",
    "# songs['Time'] = pd.Series([300, 200, 111, ])                  # adds NaNs, because the indices don't match\n",
    "# display(songs.Time.dtype)                                     # int64\n",
    "\n",
    "songs"
   ]
  },
  {
   "cell_type": "markdown",
   "metadata": {
    "pycharm": {
     "name": "#%% md\n"
    }
   },
   "source": [
    "#### *rename()*\n",
    "Rename a specific column. Based on [this](https://stackoverflow.com/questions/19758364/rename-specific-columns-in-pandas)."
   ]
  },
  {
   "cell_type": "code",
   "execution_count": 82,
   "metadata": {
    "pycharm": {
     "name": "#%%\n"
    }
   },
   "outputs": [
    {
     "data": {
      "text/plain": "                Title                            Album debut  Length\ns1  A Day in the Life  Sgt. Pepper's Lonely Hearts Club Band     300\ns2            Because                             Abbey Road     200\ns3          Blackbird                            The Beatles     111",
      "text/html": "<div>\n<style scoped>\n    .dataframe tbody tr th:only-of-type {\n        vertical-align: middle;\n    }\n\n    .dataframe tbody tr th {\n        vertical-align: top;\n    }\n\n    .dataframe thead th {\n        text-align: right;\n    }\n</style>\n<table border=\"1\" class=\"dataframe\">\n  <thead>\n    <tr style=\"text-align: right;\">\n      <th></th>\n      <th>Title</th>\n      <th>Album debut</th>\n      <th>Length</th>\n    </tr>\n  </thead>\n  <tbody>\n    <tr>\n      <th>s1</th>\n      <td>A Day in the Life</td>\n      <td>Sgt. Pepper's Lonely Hearts Club Band</td>\n      <td>300</td>\n    </tr>\n    <tr>\n      <th>s2</th>\n      <td>Because</td>\n      <td>Abbey Road</td>\n      <td>200</td>\n    </tr>\n    <tr>\n      <th>s3</th>\n      <td>Blackbird</td>\n      <td>The Beatles</td>\n      <td>111</td>\n    </tr>\n  </tbody>\n</table>\n</div>"
     },
     "metadata": {},
     "output_type": "display_data"
    }
   ],
   "source": [
    "songs.rename(columns={'Time':'Length'}, inplace=True)\n",
    "display(songs)\n",
    "\n",
    "songs.rename(columns={'Length':'Time'}, inplace=True)           # bring back the previous name, for later processing"
   ]
  },
  {
   "cell_type": "markdown",
   "metadata": {
    "pycharm": {
     "name": "#%% md\n"
    }
   },
   "source": [
    "### *pd.DataFrame* as two-dimensional array"
   ]
  },
  {
   "cell_type": "markdown",
   "metadata": {
    "pycharm": {
     "name": "#%% md\n"
    }
   },
   "source": [
    "Transpose a `pd.DataFrame` object:"
   ]
  },
  {
   "cell_type": "code",
   "execution_count": 83,
   "metadata": {
    "pycharm": {
     "name": "#%%\n"
    }
   },
   "outputs": [
    {
     "data": {
      "text/plain": "                                                s1          s2           s3\nTitle                            A Day in the Life     Because    Blackbird\nAlbum debut  Sgt. Pepper's Lonely Hearts Club Band  Abbey Road  The Beatles\nTime                                           300         200          111",
      "text/html": "<div>\n<style scoped>\n    .dataframe tbody tr th:only-of-type {\n        vertical-align: middle;\n    }\n\n    .dataframe tbody tr th {\n        vertical-align: top;\n    }\n\n    .dataframe thead th {\n        text-align: right;\n    }\n</style>\n<table border=\"1\" class=\"dataframe\">\n  <thead>\n    <tr style=\"text-align: right;\">\n      <th></th>\n      <th>s1</th>\n      <th>s2</th>\n      <th>s3</th>\n    </tr>\n  </thead>\n  <tbody>\n    <tr>\n      <th>Title</th>\n      <td>A Day in the Life</td>\n      <td>Because</td>\n      <td>Blackbird</td>\n    </tr>\n    <tr>\n      <th>Album debut</th>\n      <td>Sgt. Pepper's Lonely Hearts Club Band</td>\n      <td>Abbey Road</td>\n      <td>The Beatles</td>\n    </tr>\n    <tr>\n      <th>Time</th>\n      <td>300</td>\n      <td>200</td>\n      <td>111</td>\n    </tr>\n  </tbody>\n</table>\n</div>"
     },
     "execution_count": 83,
     "metadata": {},
     "output_type": "execute_result"
    }
   ],
   "source": [
    "songs.T"
   ]
  },
  {
   "cell_type": "markdown",
   "metadata": {
    "pycharm": {
     "name": "#%% md\n"
    }
   },
   "source": [
    "Access single rows/columns:"
   ]
  },
  {
   "cell_type": "code",
   "execution_count": 84,
   "metadata": {
    "pycharm": {
     "name": "#%%\n"
    }
   },
   "outputs": [
    {
     "data": {
      "text/plain": "Title             Because\nAlbum debut    Abbey Road\nTime                  200\nName: s2, dtype: object"
     },
     "metadata": {},
     "output_type": "display_data"
    },
    {
     "data": {
      "text/plain": "pandas.core.series.Series"
     },
     "metadata": {},
     "output_type": "display_data"
    },
    {
     "data": {
      "text/plain": "s1    A Day in the Life\ns2              Because\ns3            Blackbird\nName: Title, dtype: object"
     },
     "metadata": {},
     "output_type": "display_data"
    },
    {
     "data": {
      "text/plain": "pandas.core.series.Series"
     },
     "metadata": {},
     "output_type": "display_data"
    }
   ],
   "source": [
    "display(songs.loc['s2'])                  # access a row\n",
    "display(type(songs.loc['s2']))            # a pd.Series object\n",
    "\n",
    "display(songs['Title'])                   # access a column\n",
    "display(type(songs['Title']))             # a pd.Series object"
   ]
  },
  {
   "cell_type": "markdown",
   "metadata": {
    "pycharm": {
     "name": "#%% md\n"
    }
   },
   "source": [
    "Slicing a `pd.DataFrame` object:"
   ]
  },
  {
   "cell_type": "code",
   "execution_count": 85,
   "metadata": {
    "scrolled": false,
    "pycharm": {
     "name": "#%%\n"
    }
   },
   "outputs": [
    {
     "data": {
      "text/plain": "        Title  Album debut\ns2    Because   Abbey Road\ns3  Blackbird  The Beatles",
      "text/html": "<div>\n<style scoped>\n    .dataframe tbody tr th:only-of-type {\n        vertical-align: middle;\n    }\n\n    .dataframe tbody tr th {\n        vertical-align: top;\n    }\n\n    .dataframe thead th {\n        text-align: right;\n    }\n</style>\n<table border=\"1\" class=\"dataframe\">\n  <thead>\n    <tr style=\"text-align: right;\">\n      <th></th>\n      <th>Title</th>\n      <th>Album debut</th>\n    </tr>\n  </thead>\n  <tbody>\n    <tr>\n      <th>s2</th>\n      <td>Because</td>\n      <td>Abbey Road</td>\n    </tr>\n    <tr>\n      <th>s3</th>\n      <td>Blackbird</td>\n      <td>The Beatles</td>\n    </tr>\n  </tbody>\n</table>\n</div>"
     },
     "metadata": {},
     "output_type": "display_data"
    },
    {
     "data": {
      "text/plain": "                Title                            Album debut\ns1  A Day in the Life  Sgt. Pepper's Lonely Hearts Club Band\ns2            Because                             Abbey Road",
      "text/html": "<div>\n<style scoped>\n    .dataframe tbody tr th:only-of-type {\n        vertical-align: middle;\n    }\n\n    .dataframe tbody tr th {\n        vertical-align: top;\n    }\n\n    .dataframe thead th {\n        text-align: right;\n    }\n</style>\n<table border=\"1\" class=\"dataframe\">\n  <thead>\n    <tr style=\"text-align: right;\">\n      <th></th>\n      <th>Title</th>\n      <th>Album debut</th>\n    </tr>\n  </thead>\n  <tbody>\n    <tr>\n      <th>s1</th>\n      <td>A Day in the Life</td>\n      <td>Sgt. Pepper's Lonely Hearts Club Band</td>\n    </tr>\n    <tr>\n      <th>s2</th>\n      <td>Because</td>\n      <td>Abbey Road</td>\n    </tr>\n  </tbody>\n</table>\n</div>"
     },
     "metadata": {},
     "output_type": "display_data"
    }
   ],
   "source": [
    "display(songs.loc['s2':'s3', 'Title':'Album debut'])\n",
    "display(songs.iloc[:2, :2])"
   ]
  },
  {
   "cell_type": "markdown",
   "metadata": {
    "pycharm": {
     "name": "#%% md\n"
    }
   },
   "source": [
    "Slicing and masking refer to *rows* when using only one index, not to columns:"
   ]
  },
  {
   "cell_type": "code",
   "execution_count": 86,
   "metadata": {
    "pycharm": {
     "name": "#%%\n"
    }
   },
   "outputs": [
    {
     "data": {
      "text/plain": "        Title  Album debut  Time\ns2    Because   Abbey Road   200\ns3  Blackbird  The Beatles   111",
      "text/html": "<div>\n<style scoped>\n    .dataframe tbody tr th:only-of-type {\n        vertical-align: middle;\n    }\n\n    .dataframe tbody tr th {\n        vertical-align: top;\n    }\n\n    .dataframe thead th {\n        text-align: right;\n    }\n</style>\n<table border=\"1\" class=\"dataframe\">\n  <thead>\n    <tr style=\"text-align: right;\">\n      <th></th>\n      <th>Title</th>\n      <th>Album debut</th>\n      <th>Time</th>\n    </tr>\n  </thead>\n  <tbody>\n    <tr>\n      <th>s2</th>\n      <td>Because</td>\n      <td>Abbey Road</td>\n      <td>200</td>\n    </tr>\n    <tr>\n      <th>s3</th>\n      <td>Blackbird</td>\n      <td>The Beatles</td>\n      <td>111</td>\n    </tr>\n  </tbody>\n</table>\n</div>"
     },
     "metadata": {},
     "output_type": "display_data"
    },
    {
     "data": {
      "text/plain": "        Title  Album debut  Time\ns2    Because   Abbey Road   200\ns3  Blackbird  The Beatles   111",
      "text/html": "<div>\n<style scoped>\n    .dataframe tbody tr th:only-of-type {\n        vertical-align: middle;\n    }\n\n    .dataframe tbody tr th {\n        vertical-align: top;\n    }\n\n    .dataframe thead th {\n        text-align: right;\n    }\n</style>\n<table border=\"1\" class=\"dataframe\">\n  <thead>\n    <tr style=\"text-align: right;\">\n      <th></th>\n      <th>Title</th>\n      <th>Album debut</th>\n      <th>Time</th>\n    </tr>\n  </thead>\n  <tbody>\n    <tr>\n      <th>s2</th>\n      <td>Because</td>\n      <td>Abbey Road</td>\n      <td>200</td>\n    </tr>\n    <tr>\n      <th>s3</th>\n      <td>Blackbird</td>\n      <td>The Beatles</td>\n      <td>111</td>\n    </tr>\n  </tbody>\n</table>\n</div>"
     },
     "metadata": {},
     "output_type": "display_data"
    },
    {
     "data": {
      "text/plain": "                Title                            Album debut  Time\ns1  A Day in the Life  Sgt. Pepper's Lonely Hearts Club Band   300\ns2            Because                             Abbey Road   200",
      "text/html": "<div>\n<style scoped>\n    .dataframe tbody tr th:only-of-type {\n        vertical-align: middle;\n    }\n\n    .dataframe tbody tr th {\n        vertical-align: top;\n    }\n\n    .dataframe thead th {\n        text-align: right;\n    }\n</style>\n<table border=\"1\" class=\"dataframe\">\n  <thead>\n    <tr style=\"text-align: right;\">\n      <th></th>\n      <th>Title</th>\n      <th>Album debut</th>\n      <th>Time</th>\n    </tr>\n  </thead>\n  <tbody>\n    <tr>\n      <th>s1</th>\n      <td>A Day in the Life</td>\n      <td>Sgt. Pepper's Lonely Hearts Club Band</td>\n      <td>300</td>\n    </tr>\n    <tr>\n      <th>s2</th>\n      <td>Because</td>\n      <td>Abbey Road</td>\n      <td>200</td>\n    </tr>\n  </tbody>\n</table>\n</div>"
     },
     "metadata": {},
     "output_type": "display_data"
    }
   ],
   "source": [
    "display(songs['s2':'s3'])\n",
    "display(songs[1:3])\n",
    "\n",
    "display(songs[songs.Time > 150])"
   ]
  },
  {
   "cell_type": "markdown",
   "metadata": {
    "pycharm": {
     "name": "#%% md\n"
    }
   },
   "source": [
    "Fancy indexing a `pd.DataFrame` object:"
   ]
  },
  {
   "cell_type": "code",
   "execution_count": 87,
   "metadata": {
    "pycharm": {
     "name": "#%%\n"
    }
   },
   "outputs": [
    {
     "data": {
      "text/plain": "                Title                            Album debut  Time\ns1  A Day in the Life  Sgt. Pepper's Lonely Hearts Club Band   300\ns3          Blackbird                            The Beatles   111",
      "text/html": "<div>\n<style scoped>\n    .dataframe tbody tr th:only-of-type {\n        vertical-align: middle;\n    }\n\n    .dataframe tbody tr th {\n        vertical-align: top;\n    }\n\n    .dataframe thead th {\n        text-align: right;\n    }\n</style>\n<table border=\"1\" class=\"dataframe\">\n  <thead>\n    <tr style=\"text-align: right;\">\n      <th></th>\n      <th>Title</th>\n      <th>Album debut</th>\n      <th>Time</th>\n    </tr>\n  </thead>\n  <tbody>\n    <tr>\n      <th>s1</th>\n      <td>A Day in the Life</td>\n      <td>Sgt. Pepper's Lonely Hearts Club Band</td>\n      <td>300</td>\n    </tr>\n    <tr>\n      <th>s3</th>\n      <td>Blackbird</td>\n      <td>The Beatles</td>\n      <td>111</td>\n    </tr>\n  </tbody>\n</table>\n</div>"
     },
     "execution_count": 87,
     "metadata": {},
     "output_type": "execute_result"
    }
   ],
   "source": [
    "songs.loc[['s1', 's3']]"
   ]
  },
  {
   "cell_type": "markdown",
   "metadata": {
    "pycharm": {
     "name": "#%% md\n"
    }
   },
   "source": [
    "Combined indexing:"
   ]
  },
  {
   "cell_type": "code",
   "execution_count": 88,
   "metadata": {
    "scrolled": true,
    "pycharm": {
     "name": "#%%\n"
    }
   },
   "outputs": [
    {
     "data": {
      "text/plain": "                Title                            Album debut\ns1  A Day in the Life  Sgt. Pepper's Lonely Hearts Club Band\ns3          Blackbird                            The Beatles",
      "text/html": "<div>\n<style scoped>\n    .dataframe tbody tr th:only-of-type {\n        vertical-align: middle;\n    }\n\n    .dataframe tbody tr th {\n        vertical-align: top;\n    }\n\n    .dataframe thead th {\n        text-align: right;\n    }\n</style>\n<table border=\"1\" class=\"dataframe\">\n  <thead>\n    <tr style=\"text-align: right;\">\n      <th></th>\n      <th>Title</th>\n      <th>Album debut</th>\n    </tr>\n  </thead>\n  <tbody>\n    <tr>\n      <th>s1</th>\n      <td>A Day in the Life</td>\n      <td>Sgt. Pepper's Lonely Hearts Club Band</td>\n    </tr>\n    <tr>\n      <th>s3</th>\n      <td>Blackbird</td>\n      <td>The Beatles</td>\n    </tr>\n  </tbody>\n</table>\n</div>"
     },
     "execution_count": 88,
     "metadata": {},
     "output_type": "execute_result"
    }
   ],
   "source": [
    "songs.loc[['s1', 's3'], 'Title':'Album debut']"
   ]
  },
  {
   "cell_type": "markdown",
   "metadata": {
    "pycharm": {
     "name": "#%% md\n"
    }
   },
   "source": [
    "**<u>Make sure</u>** to see [this](https://stackoverflow.com/questions/17071871/how-to-select-rows-from-a-dataframe-based-on-column-values) for *many* other different and useful functions and examples of selecting rows based on column values."
   ]
  },
  {
   "cell_type": "markdown",
   "metadata": {
    "pycharm": {
     "name": "#%% md\n"
    }
   },
   "source": [
    "## Ufuncs with *pd.Series* and *pd.DataFrame* objects"
   ]
  },
  {
   "cell_type": "markdown",
   "metadata": {
    "pycharm": {
     "name": "#%% md\n"
    }
   },
   "source": [
    "The following table lists Python operators and their equivalent Pandas object methods (ufuncs):\n",
    "\n",
    "| Python Operator | Pandas Method(s)                      |\n",
    "|-----------------|---------------------------------------|\n",
    "| ``+``           | ``add()``                             |\n",
    "| ``-``           | ``sub()``, ``subtract()``             |\n",
    "| ``*``           | ``mul()``, ``multiply()``             |\n",
    "| ``/``           | ``truediv()``, ``div()``, ``divide()``|\n",
    "| ``//``          | ``floordiv()``                        |\n",
    "| ``%``           | ``mod()``                             |\n",
    "| ``**``          | ``pow()``                             |\n"
   ]
  },
  {
   "cell_type": "markdown",
   "metadata": {
    "pycharm": {
     "name": "#%% md\n"
    }
   },
   "source": [
    "If the data is clean and the dimensions match each other, everything works as intuitively expected. Otherwise, `NaN` or `inf` values are inserted as the values of some elements/cells where Pandas cannot insert another value."
   ]
  },
  {
   "cell_type": "markdown",
   "metadata": {
    "pycharm": {
     "name": "#%% md\n"
    }
   },
   "source": [
    "### Ufuncs with *pd.Series* objects"
   ]
  },
  {
   "cell_type": "code",
   "execution_count": 89,
   "metadata": {
    "pycharm": {
     "name": "#%%\n"
    }
   },
   "outputs": [
    {
     "data": {
      "text/plain": "1963    26\n1964    38\n1965    38\n1966    24\nName: early, dtype: int64"
     },
     "metadata": {},
     "output_type": "display_data"
    },
    {
     "data": {
      "text/plain": "1963     NaN\n1964     NaN\n1965    36.0\n1966    23.0\n1967     NaN\n1968     NaN\n1969     NaN\n1970     NaN\ndtype: float64"
     },
     "metadata": {},
     "output_type": "display_data"
    },
    {
     "data": {
      "text/plain": "1963    23.0\n1964    34.0\n1965    36.0\n1966    23.0\n1967    17.0\n1968    20.0\n1969    21.0\n1970    12.0\ndtype: float64"
     },
     "metadata": {},
     "output_type": "display_data"
    }
   ],
   "source": [
    "# The 'name' argument allows for giving a name to a pd.Series object, i.e. to a column. When the pd.Series object is put in a pd.DataFrame, the column will be named according to the 'name' parameter.\n",
    "song_counts_1 = pd.Series({'1963': 3, '1964': 4, '1965': 5, '1966': 6}, name='early')\n",
    "song_counts_2 = pd.Series({'1963': 23, '1964': 34, '1965': 33, '1966': 18}, name='early')\n",
    "song_counts_3 = pd.Series({'1965': 3, '1966': 5, '1967': 17, '1968': 20, '1969': 21, '1970': 12}, name='late')\n",
    "\n",
    "display(song_counts_1 + song_counts_2)\n",
    "display(song_counts_2 + song_counts_3)\n",
    "display(song_counts_2.add(song_counts_3, fill_value=0))          # use fill_value wherever the real value is missing"
   ]
  },
  {
   "cell_type": "markdown",
   "metadata": {
    "pycharm": {
     "name": "#%% md\n"
    }
   },
   "source": [
    "### Ufuncs with *pd.DataFrame* objects"
   ]
  },
  {
   "cell_type": "code",
   "execution_count": 90,
   "metadata": {
    "pycharm": {
     "name": "#%%\n"
    }
   },
   "outputs": [
    {
     "data": {
      "text/plain": "   count 1  count 2\n0       16       13\n1       17       14",
      "text/html": "<div>\n<style scoped>\n    .dataframe tbody tr th:only-of-type {\n        vertical-align: middle;\n    }\n\n    .dataframe tbody tr th {\n        vertical-align: top;\n    }\n\n    .dataframe thead th {\n        text-align: right;\n    }\n</style>\n<table border=\"1\" class=\"dataframe\">\n  <thead>\n    <tr style=\"text-align: right;\">\n      <th></th>\n      <th>count 1</th>\n      <th>count 2</th>\n    </tr>\n  </thead>\n  <tbody>\n    <tr>\n      <th>0</th>\n      <td>16</td>\n      <td>13</td>\n    </tr>\n    <tr>\n      <th>1</th>\n      <td>17</td>\n      <td>14</td>\n    </tr>\n  </tbody>\n</table>\n</div>"
     },
     "execution_count": 90,
     "metadata": {},
     "output_type": "execute_result"
    }
   ],
   "source": [
    "rng = np.random.RandomState(42)\n",
    "S1 = pd.DataFrame(rng.randint(10, 20, (2, 2)), \n",
    "                  columns=['count 1', 'count 2'])\n",
    "S1"
   ]
  },
  {
   "cell_type": "code",
   "execution_count": 91,
   "metadata": {
    "pycharm": {
     "name": "#%%\n"
    }
   },
   "outputs": [
    {
     "data": {
      "text/plain": "   count 3  count 2  count 1\n0       16       19       12\n1       16       17       14\n2       13       17       17",
      "text/html": "<div>\n<style scoped>\n    .dataframe tbody tr th:only-of-type {\n        vertical-align: middle;\n    }\n\n    .dataframe tbody tr th {\n        vertical-align: top;\n    }\n\n    .dataframe thead th {\n        text-align: right;\n    }\n</style>\n<table border=\"1\" class=\"dataframe\">\n  <thead>\n    <tr style=\"text-align: right;\">\n      <th></th>\n      <th>count 3</th>\n      <th>count 2</th>\n      <th>count 1</th>\n    </tr>\n  </thead>\n  <tbody>\n    <tr>\n      <th>0</th>\n      <td>16</td>\n      <td>19</td>\n      <td>12</td>\n    </tr>\n    <tr>\n      <th>1</th>\n      <td>16</td>\n      <td>17</td>\n      <td>14</td>\n    </tr>\n    <tr>\n      <th>2</th>\n      <td>13</td>\n      <td>17</td>\n      <td>17</td>\n    </tr>\n  </tbody>\n</table>\n</div>"
     },
     "execution_count": 91,
     "metadata": {},
     "output_type": "execute_result"
    }
   ],
   "source": [
    "S2 = pd.DataFrame(rng.randint(10, 20, (3, 3)), \n",
    "                  columns=['count 3', 'count 2', 'count 1'])          # indices deliberately disaligned w.r.t. S1\n",
    "S2"
   ]
  },
  {
   "cell_type": "code",
   "execution_count": 92,
   "metadata": {
    "pycharm": {
     "name": "#%%\n"
    }
   },
   "outputs": [
    {
     "data": {
      "text/plain": "   count 1  count 2  count 3\n0     28.0     32.0      NaN\n1     31.0     31.0      NaN\n2      NaN      NaN      NaN",
      "text/html": "<div>\n<style scoped>\n    .dataframe tbody tr th:only-of-type {\n        vertical-align: middle;\n    }\n\n    .dataframe tbody tr th {\n        vertical-align: top;\n    }\n\n    .dataframe thead th {\n        text-align: right;\n    }\n</style>\n<table border=\"1\" class=\"dataframe\">\n  <thead>\n    <tr style=\"text-align: right;\">\n      <th></th>\n      <th>count 1</th>\n      <th>count 2</th>\n      <th>count 3</th>\n    </tr>\n  </thead>\n  <tbody>\n    <tr>\n      <th>0</th>\n      <td>28.0</td>\n      <td>32.0</td>\n      <td>NaN</td>\n    </tr>\n    <tr>\n      <th>1</th>\n      <td>31.0</td>\n      <td>31.0</td>\n      <td>NaN</td>\n    </tr>\n    <tr>\n      <th>2</th>\n      <td>NaN</td>\n      <td>NaN</td>\n      <td>NaN</td>\n    </tr>\n  </tbody>\n</table>\n</div>"
     },
     "execution_count": 92,
     "metadata": {},
     "output_type": "execute_result"
    }
   ],
   "source": [
    "S1 + S2                                                               # indices aligned in the result"
   ]
  },
  {
   "cell_type": "code",
   "execution_count": 93,
   "metadata": {
    "pycharm": {
     "name": "#%%\n"
    }
   },
   "outputs": [
    {
     "data": {
      "text/plain": "   count 1  count 2  count 3\n0     28.0     32.0     31.0\n1     31.0     31.0     31.0\n2     32.0     32.0     28.0",
      "text/html": "<div>\n<style scoped>\n    .dataframe tbody tr th:only-of-type {\n        vertical-align: middle;\n    }\n\n    .dataframe tbody tr th {\n        vertical-align: top;\n    }\n\n    .dataframe thead th {\n        text-align: right;\n    }\n</style>\n<table border=\"1\" class=\"dataframe\">\n  <thead>\n    <tr style=\"text-align: right;\">\n      <th></th>\n      <th>count 1</th>\n      <th>count 2</th>\n      <th>count 3</th>\n    </tr>\n  </thead>\n  <tbody>\n    <tr>\n      <th>0</th>\n      <td>28.0</td>\n      <td>32.0</td>\n      <td>31.0</td>\n    </tr>\n    <tr>\n      <th>1</th>\n      <td>31.0</td>\n      <td>31.0</td>\n      <td>31.0</td>\n    </tr>\n    <tr>\n      <th>2</th>\n      <td>32.0</td>\n      <td>32.0</td>\n      <td>28.0</td>\n    </tr>\n  </tbody>\n</table>\n</div>"
     },
     "execution_count": 93,
     "metadata": {},
     "output_type": "execute_result"
    }
   ],
   "source": [
    "fill = S1.stack().mean()                                              # stack(): convert df into equivalent multi-index Series\n",
    "S1.add(S2, fill_value=fill)                                           # mean(): calculate mean of ALL elements in that series"
   ]
  },
  {
   "cell_type": "markdown",
   "metadata": {
    "pycharm": {
     "name": "#%% md\n"
    }
   },
   "source": [
    "### Ufuncs between *pd.DataFrame* and *pd.Series* objects"
   ]
  },
  {
   "cell_type": "code",
   "execution_count": 94,
   "metadata": {
    "pycharm": {
     "name": "#%%\n"
    }
   },
   "outputs": [
    {
     "data": {
      "text/plain": "   count 3  count 2  count 1\n0        0        2       -2\n1        0        0        0\n2       -3        0        3",
      "text/html": "<div>\n<style scoped>\n    .dataframe tbody tr th:only-of-type {\n        vertical-align: middle;\n    }\n\n    .dataframe tbody tr th {\n        vertical-align: top;\n    }\n\n    .dataframe thead th {\n        text-align: right;\n    }\n</style>\n<table border=\"1\" class=\"dataframe\">\n  <thead>\n    <tr style=\"text-align: right;\">\n      <th></th>\n      <th>count 3</th>\n      <th>count 2</th>\n      <th>count 1</th>\n    </tr>\n  </thead>\n  <tbody>\n    <tr>\n      <th>0</th>\n      <td>0</td>\n      <td>2</td>\n      <td>-2</td>\n    </tr>\n    <tr>\n      <th>1</th>\n      <td>0</td>\n      <td>0</td>\n      <td>0</td>\n    </tr>\n    <tr>\n      <th>2</th>\n      <td>-3</td>\n      <td>0</td>\n      <td>3</td>\n    </tr>\n  </tbody>\n</table>\n</div>"
     },
     "execution_count": 94,
     "metadata": {},
     "output_type": "execute_result"
    }
   ],
   "source": [
    "S2 - S2.iloc[1]                                                       # effectively, row-wise broadcasting"
   ]
  },
  {
   "cell_type": "code",
   "execution_count": 95,
   "metadata": {
    "pycharm": {
     "name": "#%%\n"
    }
   },
   "outputs": [
    {
     "data": {
      "text/plain": "   count 3  count 2  count 1\n0        0        3       -4\n1        0        1       -2\n2        0        4        4",
      "text/html": "<div>\n<style scoped>\n    .dataframe tbody tr th:only-of-type {\n        vertical-align: middle;\n    }\n\n    .dataframe tbody tr th {\n        vertical-align: top;\n    }\n\n    .dataframe thead th {\n        text-align: right;\n    }\n</style>\n<table border=\"1\" class=\"dataframe\">\n  <thead>\n    <tr style=\"text-align: right;\">\n      <th></th>\n      <th>count 3</th>\n      <th>count 2</th>\n      <th>count 1</th>\n    </tr>\n  </thead>\n  <tbody>\n    <tr>\n      <th>0</th>\n      <td>0</td>\n      <td>3</td>\n      <td>-4</td>\n    </tr>\n    <tr>\n      <th>1</th>\n      <td>0</td>\n      <td>1</td>\n      <td>-2</td>\n    </tr>\n    <tr>\n      <th>2</th>\n      <td>0</td>\n      <td>4</td>\n      <td>4</td>\n    </tr>\n  </tbody>\n</table>\n</div>"
     },
     "execution_count": 95,
     "metadata": {},
     "output_type": "execute_result"
    }
   ],
   "source": [
    "S2.subtract(S2['count 3'], axis=0)"
   ]
  },
  {
   "cell_type": "markdown",
   "metadata": {
    "pycharm": {
     "name": "#%% md\n"
    }
   },
   "source": [
    "## Missing values"
   ]
  },
  {
   "cell_type": "markdown",
   "source": [
    "### *np.nan*\n",
    "`np.nan`, `.np.nansum()`, `np.nanmin()`, `np.nanmax()`, `np.nanmean()`, `np.nanmedian()`,...\n",
    "\n",
    "`np.nan` represents NAs (and is slightly different from `None`). `.np.nansum()`, `np.nanmin()`, `np.nanmax()`, `np.nanmean()`, `np.nanmedian()`,... make their respective calculations ignoring NAs."
   ],
   "metadata": {
    "collapsed": false,
    "pycharm": {
     "name": "#%% md\n"
    }
   }
  },
  {
   "cell_type": "code",
   "execution_count": 96,
   "metadata": {
    "pycharm": {
     "name": "#%%\n"
    }
   },
   "outputs": [
    {
     "data": {
      "text/plain": "nan"
     },
     "metadata": {},
     "output_type": "display_data"
    },
    {
     "data": {
      "text/plain": "nan"
     },
     "metadata": {},
     "output_type": "display_data"
    },
    {
     "name": "stdout",
     "output_type": "stream",
     "text": [
      "nan nan\n",
      "10.0 5.0 2.0 3.3333333333333335 3.0\n"
     ]
    }
   ],
   "source": [
    "v = np.array([2, np.nan, 3, 5])\n",
    "display(v[1])\n",
    "display(1 + v[1])\n",
    "print(v.sum(), v.max())\n",
    "print(np.nansum(v), np.nanmax(v), np.nanmin(v), np.nanmean(v), np.nanmedian(v))"
   ]
  },
  {
   "cell_type": "markdown",
   "metadata": {
    "pycharm": {
     "name": "#%% md\n"
    }
   },
   "source": [
    "### *isnull()* and *notnull()*\n",
    "Detect `None` and NA in `pd.Series` and `pd.DataFrame` objects and create the appropriate masks."
   ]
  },
  {
   "cell_type": "code",
   "execution_count": 97,
   "metadata": {
    "pycharm": {
     "name": "#%%\n"
    }
   },
   "outputs": [
    {
     "data": {
      "text/plain": "                Title                            Album debut\ns1  A Day in the Life  Sgt. Pepper's Lonely Hearts Club Band\ns2               None                             Abbey Road\ns3          Blackbird                            The Beatles\ns4                NaN                                    NaN",
      "text/html": "<div>\n<style scoped>\n    .dataframe tbody tr th:only-of-type {\n        vertical-align: middle;\n    }\n\n    .dataframe tbody tr th {\n        vertical-align: top;\n    }\n\n    .dataframe thead th {\n        text-align: right;\n    }\n</style>\n<table border=\"1\" class=\"dataframe\">\n  <thead>\n    <tr style=\"text-align: right;\">\n      <th></th>\n      <th>Title</th>\n      <th>Album debut</th>\n    </tr>\n  </thead>\n  <tbody>\n    <tr>\n      <th>s1</th>\n      <td>A Day in the Life</td>\n      <td>Sgt. Pepper's Lonely Hearts Club Band</td>\n    </tr>\n    <tr>\n      <th>s2</th>\n      <td>None</td>\n      <td>Abbey Road</td>\n    </tr>\n    <tr>\n      <th>s3</th>\n      <td>Blackbird</td>\n      <td>The Beatles</td>\n    </tr>\n    <tr>\n      <th>s4</th>\n      <td>NaN</td>\n      <td>NaN</td>\n    </tr>\n  </tbody>\n</table>\n</div>"
     },
     "execution_count": 97,
     "metadata": {},
     "output_type": "execute_result"
    }
   ],
   "source": [
    "indices = ['s1', 's2', 's3', 's4']\n",
    "titles = ['A Day in the Life', None, 'Blackbird', np.nan]\n",
    "album_debuts = ['Sgt. Pepper\\'s Lonely Hearts Club Band', 'Abbey Road', 'The Beatles', np.nan]\n",
    "\n",
    "s_titles = pd.Series(titles, index=indices)\n",
    "s_album_debuts = pd.Series(album_debuts, index=indices)\n",
    "\n",
    "songs = pd.DataFrame({'Title':s_titles, 'Album debut':s_album_debuts})\n",
    "# display(songs)\n",
    "songs"
   ]
  },
  {
   "cell_type": "code",
   "execution_count": 98,
   "metadata": {
    "pycharm": {
     "name": "#%%\n"
    }
   },
   "outputs": [
    {
     "data": {
      "text/plain": "s1    False\ns2     True\ns3    False\ns4     True\ndtype: bool"
     },
     "metadata": {},
     "output_type": "display_data"
    },
    {
     "data": {
      "text/plain": "<bound method Series.notnull of s1    A Day in the Life\ns2                 None\ns3            Blackbird\ns4                  NaN\ndtype: object>"
     },
     "metadata": {},
     "output_type": "display_data"
    },
    {
     "data": {
      "text/plain": "s1     True\ns2    False\ns3     True\ns4    False\ndtype: bool"
     },
     "metadata": {},
     "output_type": "display_data"
    },
    {
     "data": {
      "text/plain": "    Title  Album debut\ns1   True         True\ns2  False         True\ns3   True         True\ns4  False        False",
      "text/html": "<div>\n<style scoped>\n    .dataframe tbody tr th:only-of-type {\n        vertical-align: middle;\n    }\n\n    .dataframe tbody tr th {\n        vertical-align: top;\n    }\n\n    .dataframe thead th {\n        text-align: right;\n    }\n</style>\n<table border=\"1\" class=\"dataframe\">\n  <thead>\n    <tr style=\"text-align: right;\">\n      <th></th>\n      <th>Title</th>\n      <th>Album debut</th>\n    </tr>\n  </thead>\n  <tbody>\n    <tr>\n      <th>s1</th>\n      <td>True</td>\n      <td>True</td>\n    </tr>\n    <tr>\n      <th>s2</th>\n      <td>False</td>\n      <td>True</td>\n    </tr>\n    <tr>\n      <th>s3</th>\n      <td>True</td>\n      <td>True</td>\n    </tr>\n    <tr>\n      <th>s4</th>\n      <td>False</td>\n      <td>False</td>\n    </tr>\n  </tbody>\n</table>\n</div>"
     },
     "metadata": {},
     "output_type": "display_data"
    },
    {
     "data": {
      "text/plain": "s1    A Day in the Life\ns3            Blackbird\ndtype: object"
     },
     "metadata": {},
     "output_type": "display_data"
    }
   ],
   "source": [
    "display(s_titles.isnull())\n",
    "display(s_titles.notnull)\n",
    "display(s_titles.notnull())\n",
    "display(songs.notnull())\n",
    "display(s_titles[s_titles.notnull()])"
   ]
  },
  {
   "cell_type": "markdown",
   "metadata": {
    "pycharm": {
     "name": "#%% md\n"
    }
   },
   "source": [
    "### *dropna()*\n",
    "For a `pd.Series` object, drops all NA values."
   ]
  },
  {
   "cell_type": "code",
   "execution_count": 99,
   "metadata": {
    "pycharm": {
     "name": "#%%\n"
    }
   },
   "outputs": [
    {
     "data": {
      "text/plain": "s1    A Day in the Life\ns2                 None\ns3            Blackbird\ns4                  NaN\ndtype: object"
     },
     "metadata": {},
     "output_type": "display_data"
    },
    {
     "data": {
      "text/plain": "s1    A Day in the Life\ns3            Blackbird\ndtype: object"
     },
     "metadata": {},
     "output_type": "display_data"
    }
   ],
   "source": [
    "display(s_titles)\n",
    "display(s_titles.dropna())"
   ]
  },
  {
   "cell_type": "markdown",
   "metadata": {
    "pycharm": {
     "name": "#%% md\n"
    }
   },
   "source": [
    "For a `pd.DataFrame` object, no dropping individual NA values, just the entire rows/columns containing such values:"
   ]
  },
  {
   "cell_type": "code",
   "execution_count": 100,
   "metadata": {
    "pycharm": {
     "name": "#%%\n"
    }
   },
   "outputs": [
    {
     "data": {
      "text/plain": "                Title                            Album debut\ns1  A Day in the Life  Sgt. Pepper's Lonely Hearts Club Band\ns2               None                             Abbey Road\ns3          Blackbird                            The Beatles\ns4                NaN                                    NaN",
      "text/html": "<div>\n<style scoped>\n    .dataframe tbody tr th:only-of-type {\n        vertical-align: middle;\n    }\n\n    .dataframe tbody tr th {\n        vertical-align: top;\n    }\n\n    .dataframe thead th {\n        text-align: right;\n    }\n</style>\n<table border=\"1\" class=\"dataframe\">\n  <thead>\n    <tr style=\"text-align: right;\">\n      <th></th>\n      <th>Title</th>\n      <th>Album debut</th>\n    </tr>\n  </thead>\n  <tbody>\n    <tr>\n      <th>s1</th>\n      <td>A Day in the Life</td>\n      <td>Sgt. Pepper's Lonely Hearts Club Band</td>\n    </tr>\n    <tr>\n      <th>s2</th>\n      <td>None</td>\n      <td>Abbey Road</td>\n    </tr>\n    <tr>\n      <th>s3</th>\n      <td>Blackbird</td>\n      <td>The Beatles</td>\n    </tr>\n    <tr>\n      <th>s4</th>\n      <td>NaN</td>\n      <td>NaN</td>\n    </tr>\n  </tbody>\n</table>\n</div>"
     },
     "metadata": {},
     "output_type": "display_data"
    },
    {
     "data": {
      "text/plain": "                Title                            Album debut\ns1  A Day in the Life  Sgt. Pepper's Lonely Hearts Club Band\ns3          Blackbird                            The Beatles",
      "text/html": "<div>\n<style scoped>\n    .dataframe tbody tr th:only-of-type {\n        vertical-align: middle;\n    }\n\n    .dataframe tbody tr th {\n        vertical-align: top;\n    }\n\n    .dataframe thead th {\n        text-align: right;\n    }\n</style>\n<table border=\"1\" class=\"dataframe\">\n  <thead>\n    <tr style=\"text-align: right;\">\n      <th></th>\n      <th>Title</th>\n      <th>Album debut</th>\n    </tr>\n  </thead>\n  <tbody>\n    <tr>\n      <th>s1</th>\n      <td>A Day in the Life</td>\n      <td>Sgt. Pepper's Lonely Hearts Club Band</td>\n    </tr>\n    <tr>\n      <th>s3</th>\n      <td>Blackbird</td>\n      <td>The Beatles</td>\n    </tr>\n  </tbody>\n</table>\n</div>"
     },
     "metadata": {},
     "output_type": "display_data"
    },
    {
     "data": {
      "text/plain": "                Title                            Album debut\ns1  A Day in the Life  Sgt. Pepper's Lonely Hearts Club Band\ns3          Blackbird                            The Beatles",
      "text/html": "<div>\n<style scoped>\n    .dataframe tbody tr th:only-of-type {\n        vertical-align: middle;\n    }\n\n    .dataframe tbody tr th {\n        vertical-align: top;\n    }\n\n    .dataframe thead th {\n        text-align: right;\n    }\n</style>\n<table border=\"1\" class=\"dataframe\">\n  <thead>\n    <tr style=\"text-align: right;\">\n      <th></th>\n      <th>Title</th>\n      <th>Album debut</th>\n    </tr>\n  </thead>\n  <tbody>\n    <tr>\n      <th>s1</th>\n      <td>A Day in the Life</td>\n      <td>Sgt. Pepper's Lonely Hearts Club Band</td>\n    </tr>\n    <tr>\n      <th>s3</th>\n      <td>Blackbird</td>\n      <td>The Beatles</td>\n    </tr>\n  </tbody>\n</table>\n</div>"
     },
     "metadata": {},
     "output_type": "display_data"
    },
    {
     "data": {
      "text/plain": "Empty DataFrame\nColumns: []\nIndex: [s1, s2, s3, s4]",
      "text/html": "<div>\n<style scoped>\n    .dataframe tbody tr th:only-of-type {\n        vertical-align: middle;\n    }\n\n    .dataframe tbody tr th {\n        vertical-align: top;\n    }\n\n    .dataframe thead th {\n        text-align: right;\n    }\n</style>\n<table border=\"1\" class=\"dataframe\">\n  <thead>\n    <tr style=\"text-align: right;\">\n      <th></th>\n    </tr>\n  </thead>\n  <tbody>\n    <tr>\n      <th>s1</th>\n    </tr>\n    <tr>\n      <th>s2</th>\n    </tr>\n    <tr>\n      <th>s3</th>\n    </tr>\n    <tr>\n      <th>s4</th>\n    </tr>\n  </tbody>\n</table>\n</div>"
     },
     "metadata": {},
     "output_type": "display_data"
    },
    {
     "data": {
      "text/plain": "                              Album debut\ns1  Sgt. Pepper's Lonely Hearts Club Band\ns2                             Abbey Road\ns3                            The Beatles\ns4                            Rubber Soul",
      "text/html": "<div>\n<style scoped>\n    .dataframe tbody tr th:only-of-type {\n        vertical-align: middle;\n    }\n\n    .dataframe tbody tr th {\n        vertical-align: top;\n    }\n\n    .dataframe thead th {\n        text-align: right;\n    }\n</style>\n<table border=\"1\" class=\"dataframe\">\n  <thead>\n    <tr style=\"text-align: right;\">\n      <th></th>\n      <th>Album debut</th>\n    </tr>\n  </thead>\n  <tbody>\n    <tr>\n      <th>s1</th>\n      <td>Sgt. Pepper's Lonely Hearts Club Band</td>\n    </tr>\n    <tr>\n      <th>s2</th>\n      <td>Abbey Road</td>\n    </tr>\n    <tr>\n      <th>s3</th>\n      <td>The Beatles</td>\n    </tr>\n    <tr>\n      <th>s4</th>\n      <td>Rubber Soul</td>\n    </tr>\n  </tbody>\n</table>\n</div>"
     },
     "metadata": {},
     "output_type": "display_data"
    },
    {
     "data": {
      "text/plain": "                Title                            Album debut\ns1  A Day in the Life  Sgt. Pepper's Lonely Hearts Club Band\ns2               None                             Abbey Road\ns3          Blackbird                            The Beatles\ns4                NaN                                    NaN",
      "text/html": "<div>\n<style scoped>\n    .dataframe tbody tr th:only-of-type {\n        vertical-align: middle;\n    }\n\n    .dataframe tbody tr th {\n        vertical-align: top;\n    }\n\n    .dataframe thead th {\n        text-align: right;\n    }\n</style>\n<table border=\"1\" class=\"dataframe\">\n  <thead>\n    <tr style=\"text-align: right;\">\n      <th></th>\n      <th>Title</th>\n      <th>Album debut</th>\n    </tr>\n  </thead>\n  <tbody>\n    <tr>\n      <th>s1</th>\n      <td>A Day in the Life</td>\n      <td>Sgt. Pepper's Lonely Hearts Club Band</td>\n    </tr>\n    <tr>\n      <th>s2</th>\n      <td>None</td>\n      <td>Abbey Road</td>\n    </tr>\n    <tr>\n      <th>s3</th>\n      <td>Blackbird</td>\n      <td>The Beatles</td>\n    </tr>\n    <tr>\n      <th>s4</th>\n      <td>NaN</td>\n      <td>NaN</td>\n    </tr>\n  </tbody>\n</table>\n</div>"
     },
     "metadata": {},
     "output_type": "display_data"
    },
    {
     "data": {
      "text/plain": "                Title                            Album debut\ns1  A Day in the Life  Sgt. Pepper's Lonely Hearts Club Band\ns2               None                             Abbey Road\ns3          Blackbird                            The Beatles",
      "text/html": "<div>\n<style scoped>\n    .dataframe tbody tr th:only-of-type {\n        vertical-align: middle;\n    }\n\n    .dataframe tbody tr th {\n        vertical-align: top;\n    }\n\n    .dataframe thead th {\n        text-align: right;\n    }\n</style>\n<table border=\"1\" class=\"dataframe\">\n  <thead>\n    <tr style=\"text-align: right;\">\n      <th></th>\n      <th>Title</th>\n      <th>Album debut</th>\n    </tr>\n  </thead>\n  <tbody>\n    <tr>\n      <th>s1</th>\n      <td>A Day in the Life</td>\n      <td>Sgt. Pepper's Lonely Hearts Club Band</td>\n    </tr>\n    <tr>\n      <th>s2</th>\n      <td>None</td>\n      <td>Abbey Road</td>\n    </tr>\n    <tr>\n      <th>s3</th>\n      <td>Blackbird</td>\n      <td>The Beatles</td>\n    </tr>\n  </tbody>\n</table>\n</div>"
     },
     "metadata": {},
     "output_type": "display_data"
    },
    {
     "data": {
      "text/plain": "                              Album debut\ns1  Sgt. Pepper's Lonely Hearts Club Band\ns2                             Abbey Road\ns3                            The Beatles\ns4                                    NaN",
      "text/html": "<div>\n<style scoped>\n    .dataframe tbody tr th:only-of-type {\n        vertical-align: middle;\n    }\n\n    .dataframe tbody tr th {\n        vertical-align: top;\n    }\n\n    .dataframe thead th {\n        text-align: right;\n    }\n</style>\n<table border=\"1\" class=\"dataframe\">\n  <thead>\n    <tr style=\"text-align: right;\">\n      <th></th>\n      <th>Album debut</th>\n    </tr>\n  </thead>\n  <tbody>\n    <tr>\n      <th>s1</th>\n      <td>Sgt. Pepper's Lonely Hearts Club Band</td>\n    </tr>\n    <tr>\n      <th>s2</th>\n      <td>Abbey Road</td>\n    </tr>\n    <tr>\n      <th>s3</th>\n      <td>The Beatles</td>\n    </tr>\n    <tr>\n      <th>s4</th>\n      <td>NaN</td>\n    </tr>\n  </tbody>\n</table>\n</div>"
     },
     "metadata": {},
     "output_type": "display_data"
    }
   ],
   "source": [
    "songs = pd.DataFrame({'Title':s_titles, 'Album debut':s_album_debuts})\n",
    "display(songs)\n",
    "display(songs.dropna())                          # drop all rows in which ANY null value is present\n",
    "display(songs.dropna(axis='rows'))               # drop all rows in which ANY null value is present (axis='rows' is the default)\n",
    "display(songs.dropna(axis='columns'))            # drop all columns in which ANY null value is present\n",
    "songs['Album debut']['s4'] = 'Rubber Soul'\n",
    "display(songs.dropna(axis='columns'))            # drop all columns in which ANY null value is present\n",
    "\n",
    "songs = pd.DataFrame({'Title':s_titles, 'Album debut':s_album_debuts})\n",
    "display(songs)\n",
    "display(songs.dropna(how='all'))                 # drop only the rows in which ALL values are null (default is how='any')\n",
    "display(songs.dropna(axis='columns', thresh=3))  # drop the columns with thresh or more NON-null values"
   ]
  },
  {
   "cell_type": "markdown",
   "metadata": {
    "pycharm": {
     "name": "#%% md\n"
    }
   },
   "source": [
    "### *fillna()*\n",
    "For a `pd.Series` object, drops all NA values."
   ]
  },
  {
   "cell_type": "code",
   "execution_count": 101,
   "metadata": {
    "pycharm": {
     "name": "#%%\n"
    }
   },
   "outputs": [
    {
     "data": {
      "text/plain": "s1    A Day in the Life\ns2                 None\ns3            Blackbird\ns4                  NaN\ndtype: object"
     },
     "metadata": {},
     "output_type": "display_data"
    },
    {
     "data": {
      "text/plain": "s1    A Day in the Life\ns2            Let It Be\ns3            Blackbird\ns4            Let It Be\ndtype: object"
     },
     "metadata": {},
     "output_type": "display_data"
    }
   ],
   "source": [
    "display(s_titles)\n",
    "display(s_titles.fillna('Let It Be'))"
   ]
  },
  {
   "cell_type": "markdown",
   "metadata": {
    "pycharm": {
     "name": "#%% md\n"
    }
   },
   "source": [
    "Forward-fill or backward-fill each NA value with the previous one:"
   ]
  },
  {
   "cell_type": "code",
   "execution_count": 102,
   "metadata": {
    "scrolled": true,
    "pycharm": {
     "name": "#%%\n"
    }
   },
   "outputs": [
    {
     "data": {
      "text/plain": "                Title                            Album debut\ns1  A Day in the Life  Sgt. Pepper's Lonely Hearts Club Band\ns2               None                             Abbey Road\ns3          Blackbird                            The Beatles\ns4                NaN                                    NaN",
      "text/html": "<div>\n<style scoped>\n    .dataframe tbody tr th:only-of-type {\n        vertical-align: middle;\n    }\n\n    .dataframe tbody tr th {\n        vertical-align: top;\n    }\n\n    .dataframe thead th {\n        text-align: right;\n    }\n</style>\n<table border=\"1\" class=\"dataframe\">\n  <thead>\n    <tr style=\"text-align: right;\">\n      <th></th>\n      <th>Title</th>\n      <th>Album debut</th>\n    </tr>\n  </thead>\n  <tbody>\n    <tr>\n      <th>s1</th>\n      <td>A Day in the Life</td>\n      <td>Sgt. Pepper's Lonely Hearts Club Band</td>\n    </tr>\n    <tr>\n      <th>s2</th>\n      <td>None</td>\n      <td>Abbey Road</td>\n    </tr>\n    <tr>\n      <th>s3</th>\n      <td>Blackbird</td>\n      <td>The Beatles</td>\n    </tr>\n    <tr>\n      <th>s4</th>\n      <td>NaN</td>\n      <td>NaN</td>\n    </tr>\n  </tbody>\n</table>\n</div>"
     },
     "metadata": {},
     "output_type": "display_data"
    },
    {
     "data": {
      "text/plain": "s1    A Day in the Life\ns2                 None\ns3            Blackbird\ns4                  NaN\ndtype: object"
     },
     "metadata": {},
     "output_type": "display_data"
    },
    {
     "data": {
      "text/plain": "s1    A Day in the Life\ns2    A Day in the Life\ns3            Blackbird\ns4            Blackbird\ndtype: object"
     },
     "metadata": {},
     "output_type": "display_data"
    },
    {
     "data": {
      "text/plain": "s1    A Day in the Life\ns2            Blackbird\ns3            Blackbird\ns4                  NaN\ndtype: object"
     },
     "metadata": {},
     "output_type": "display_data"
    },
    {
     "data": {
      "text/plain": "                Title                            Album debut\ns1  A Day in the Life  Sgt. Pepper's Lonely Hearts Club Band\ns2  A Day in the Life                             Abbey Road\ns3          Blackbird                            The Beatles\ns4          Blackbird                            The Beatles",
      "text/html": "<div>\n<style scoped>\n    .dataframe tbody tr th:only-of-type {\n        vertical-align: middle;\n    }\n\n    .dataframe tbody tr th {\n        vertical-align: top;\n    }\n\n    .dataframe thead th {\n        text-align: right;\n    }\n</style>\n<table border=\"1\" class=\"dataframe\">\n  <thead>\n    <tr style=\"text-align: right;\">\n      <th></th>\n      <th>Title</th>\n      <th>Album debut</th>\n    </tr>\n  </thead>\n  <tbody>\n    <tr>\n      <th>s1</th>\n      <td>A Day in the Life</td>\n      <td>Sgt. Pepper's Lonely Hearts Club Band</td>\n    </tr>\n    <tr>\n      <th>s2</th>\n      <td>A Day in the Life</td>\n      <td>Abbey Road</td>\n    </tr>\n    <tr>\n      <th>s3</th>\n      <td>Blackbird</td>\n      <td>The Beatles</td>\n    </tr>\n    <tr>\n      <th>s4</th>\n      <td>Blackbird</td>\n      <td>The Beatles</td>\n    </tr>\n  </tbody>\n</table>\n</div>"
     },
     "metadata": {},
     "output_type": "display_data"
    },
    {
     "data": {
      "text/plain": "                Title                            Album debut\ns1  A Day in the Life  Sgt. Pepper's Lonely Hearts Club Band\ns2  A Day in the Life                             Abbey Road\ns3          Blackbird                            The Beatles\ns4          Blackbird                            The Beatles",
      "text/html": "<div>\n<style scoped>\n    .dataframe tbody tr th:only-of-type {\n        vertical-align: middle;\n    }\n\n    .dataframe tbody tr th {\n        vertical-align: top;\n    }\n\n    .dataframe thead th {\n        text-align: right;\n    }\n</style>\n<table border=\"1\" class=\"dataframe\">\n  <thead>\n    <tr style=\"text-align: right;\">\n      <th></th>\n      <th>Title</th>\n      <th>Album debut</th>\n    </tr>\n  </thead>\n  <tbody>\n    <tr>\n      <th>s1</th>\n      <td>A Day in the Life</td>\n      <td>Sgt. Pepper's Lonely Hearts Club Band</td>\n    </tr>\n    <tr>\n      <th>s2</th>\n      <td>A Day in the Life</td>\n      <td>Abbey Road</td>\n    </tr>\n    <tr>\n      <th>s3</th>\n      <td>Blackbird</td>\n      <td>The Beatles</td>\n    </tr>\n    <tr>\n      <th>s4</th>\n      <td>Blackbird</td>\n      <td>The Beatles</td>\n    </tr>\n  </tbody>\n</table>\n</div>"
     },
     "metadata": {},
     "output_type": "display_data"
    },
    {
     "data": {
      "text/plain": "                Title                            Album debut\ns1  A Day in the Life  Sgt. Pepper's Lonely Hearts Club Band\ns2         Abbey Road                             Abbey Road\ns3          Blackbird                            The Beatles\ns4                NaN                                    NaN",
      "text/html": "<div>\n<style scoped>\n    .dataframe tbody tr th:only-of-type {\n        vertical-align: middle;\n    }\n\n    .dataframe tbody tr th {\n        vertical-align: top;\n    }\n\n    .dataframe thead th {\n        text-align: right;\n    }\n</style>\n<table border=\"1\" class=\"dataframe\">\n  <thead>\n    <tr style=\"text-align: right;\">\n      <th></th>\n      <th>Title</th>\n      <th>Album debut</th>\n    </tr>\n  </thead>\n  <tbody>\n    <tr>\n      <th>s1</th>\n      <td>A Day in the Life</td>\n      <td>Sgt. Pepper's Lonely Hearts Club Band</td>\n    </tr>\n    <tr>\n      <th>s2</th>\n      <td>Abbey Road</td>\n      <td>Abbey Road</td>\n    </tr>\n    <tr>\n      <th>s3</th>\n      <td>Blackbird</td>\n      <td>The Beatles</td>\n    </tr>\n    <tr>\n      <th>s4</th>\n      <td>NaN</td>\n      <td>NaN</td>\n    </tr>\n  </tbody>\n</table>\n</div>"
     },
     "metadata": {},
     "output_type": "display_data"
    }
   ],
   "source": [
    "indices = ['s1', 's2', 's3', 's4']\n",
    "titles = ['A Day in the Life', None, 'Blackbird', np.nan]\n",
    "album_debuts = ['Sgt. Pepper\\'s Lonely Hearts Club Band', 'Abbey Road', 'The Beatles', np.nan]\n",
    "\n",
    "s_titles = pd.Series(titles, index=indices)\n",
    "s_album_debuts = pd.Series(album_debuts, index=indices)\n",
    "\n",
    "songs = pd.DataFrame({'Title':s_titles, 'Album debut':s_album_debuts})\n",
    "display(songs)\n",
    "\n",
    "display(s_titles)\n",
    "display(s_titles.fillna(method='ffill'))                          # forward-fill\n",
    "display(s_titles.fillna(method='bfill'))                          # backward-fill\n",
    "\n",
    "display(songs.fillna(method='ffill'))\n",
    "display(songs.fillna(method='ffill', axis=0))                     # axis=0 (default): fill along the columns\n",
    "display(songs.fillna(method='bfill', axis=1))                     # axis=1: fill along the rows"
   ]
  },
  {
   "cell_type": "markdown",
   "metadata": {
    "pycharm": {
     "name": "#%% md\n"
    }
   },
   "source": [
    "## Hierarchical indexing (Multi-indexing)\n",
    "Using more than one key in indices. The point is that *each extra level in a multi-index represents an extra dimension of data*. In other words, one can convert a multi-indexed `pd.Series` object to a `pd.DataFrame` object (using the `pd.Series.unstack()` method) in which each column directly corresponds to a key in the multi-index of the original `pd.Series` object."
   ]
  },
  {
   "cell_type": "markdown",
   "metadata": {
    "pycharm": {
     "name": "#%% md\n"
    }
   },
   "source": [
    "### Using Python tuples as keys\n",
    "This is the bad way and is not recommended. Still, it illustrates the idea and is an intro to the real multi-indexing."
   ]
  },
  {
   "cell_type": "code",
   "execution_count": 103,
   "metadata": {
    "pycharm": {
     "name": "#%%\n"
    }
   },
   "outputs": [
    {
     "data": {
      "text/plain": "(1963, Please, Please Me)       I Saw Her Standing There\n(1963, With The Beatles)              Till There Was You\n(1964, A Hard Day's Night)          Things We Said Today\n(1964, The Beatles for Sale)             Baby's In Black\n(1964, The Beatles for Sale)                    No Reply\ndtype: object"
     },
     "execution_count": 103,
     "metadata": {},
     "output_type": "execute_result"
    }
   ],
   "source": [
    "indices = [(1963, 'Please, Please Me'),\n",
    "           (1963, 'With The Beatles'),\n",
    "           (1964, 'A Hard Day\\'s Night'),\n",
    "           (1964, 'The Beatles for Sale'),\n",
    "           (1964, 'The Beatles for Sale')]\n",
    "s = pd.Series(['I Saw Her Standing There', \n",
    "               'Till There Was You', \n",
    "               'Things We Said Today', \n",
    "               'Baby\\'s In Black',\n",
    "               'No Reply'], \n",
    "              index=indices)\n",
    "s"
   ]
  },
  {
   "cell_type": "markdown",
   "metadata": {
    "pycharm": {
     "name": "#%% md\n"
    }
   },
   "source": [
    "Selecting only the songs from, e.g., 1964 (in a general case, i.e. when they are not pre-ordered) looks clumsy:"
   ]
  },
  {
   "cell_type": "code",
   "execution_count": 104,
   "metadata": {
    "pycharm": {
     "name": "#%%\n"
    }
   },
   "outputs": [
    {
     "data": {
      "text/plain": "(1964, A Hard Day's Night)      Things We Said Today\n(1964, The Beatles for Sale)         Baby's In Black\n(1964, The Beatles for Sale)                No Reply\n(1964, The Beatles for Sale)         Baby's In Black\n(1964, The Beatles for Sale)                No Reply\ndtype: object"
     },
     "execution_count": 104,
     "metadata": {},
     "output_type": "execute_result"
    }
   ],
   "source": [
    "s[[i for i in s.index if i[0] == 1964]]"
   ]
  },
  {
   "cell_type": "markdown",
   "metadata": {
    "pycharm": {
     "name": "#%% md\n"
    }
   },
   "source": [
    "### *pd.MultiIndex*\n",
    "This is the recommended way to do multi-indexing."
   ]
  },
  {
   "cell_type": "markdown",
   "source": [
    "#### *from_tuples()* and *reindex()*"
   ],
   "metadata": {
    "collapsed": false,
    "pycharm": {
     "name": "#%% md\n"
    }
   }
  },
  {
   "cell_type": "code",
   "execution_count": 105,
   "metadata": {
    "scrolled": true,
    "pycharm": {
     "name": "#%%\n"
    }
   },
   "outputs": [
    {
     "data": {
      "text/plain": "Year  Album               \n1963  Please, Please Me       I Saw Her Standing There\n      With The Beatles              Till There Was You\n1964  A Hard Day's Night          Things We Said Today\n      The Beatles for Sale             Baby's In Black\n      The Beatles for Sale                    No Reply\ndtype: object"
     },
     "execution_count": 105,
     "metadata": {},
     "output_type": "execute_result"
    }
   ],
   "source": [
    "indices = pd.MultiIndex.from_tuples([(1963, 'Please, Please Me'),\n",
    "                                     (1963, 'With The Beatles'),\n",
    "                                     (1964, 'A Hard Day\\'s Night'),\n",
    "                                     (1964, 'The Beatles for Sale'),\n",
    "                                     (1964, 'The Beatles for Sale')])\n",
    "indices.names = ['Year', 'Album']\n",
    "\n",
    "# #  Alternatively:\n",
    "# indices = pd.MultiIndex.from_tuples([(1963, 'Please, Please Me'),\n",
    "#                                      (1963, 'With The Beatles'),\n",
    "#                                      (1964, 'A Hard Day\\'s Night'),\n",
    "#                                      (1964, 'The Beatles for Sale'),\n",
    "#                                      (1964, 'The Beatles for Sale')],\n",
    "#                                    names=['Year', 'Album'])                # without it the index levels remain unlabeled\n",
    "\n",
    "s = s.reindex(indices)\n",
    "s"
   ]
  },
  {
   "cell_type": "markdown",
   "metadata": {
    "pycharm": {
     "name": "#%% md\n"
    }
   },
   "source": [
    "Selecting only the songs from, e.g., 1964 (in a general case, i.e. when they are not pre-ordered), as well as selecting only the songs from a specific album (i.e., along the second key in the index) and the like, is now direct:"
   ]
  },
  {
   "cell_type": "code",
   "execution_count": 106,
   "metadata": {
    "pycharm": {
     "name": "#%%\n"
    }
   },
   "outputs": [
    {
     "data": {
      "text/plain": "Album\nA Hard Day's Night      Things We Said Today\nThe Beatles for Sale         Baby's In Black\nThe Beatles for Sale                No Reply\ndtype: object"
     },
     "metadata": {},
     "output_type": "display_data"
    },
    {
     "data": {
      "text/plain": "Year\n1964    Baby's In Black\n1964           No Reply\ndtype: object"
     },
     "metadata": {},
     "output_type": "display_data"
    }
   ],
   "source": [
    "display(s[1964])\n",
    "display(s[:, 'The Beatles for Sale'])"
   ]
  },
  {
   "cell_type": "markdown",
   "metadata": {
    "pycharm": {
     "name": "#%% md\n"
    }
   },
   "source": [
    "#### *stack()* and *unstack()*\n",
    "Converting between multi-indexed `pd.Series` and the equivalent `pd.DataFrame` objects. Once again, remember that *each extra level in a multi-index represents an extra dimension of data*. <br>**HOWEVER**, each key combination in the relevant `pd.MultiIndex` object must be *unique* in order for `unstack()` to work!"
   ]
  },
  {
   "cell_type": "code",
   "execution_count": 107,
   "metadata": {
    "scrolled": true,
    "pycharm": {
     "name": "#%%\n"
    }
   },
   "outputs": [
    {
     "ename": "ValueError",
     "evalue": "The truth value of a Series is ambiguous. Use a.empty, a.bool(), a.item(), a.any() or a.all().",
     "output_type": "error",
     "traceback": [
      "\u001B[1;31m---------------------------------------------------------------------------\u001B[0m",
      "\u001B[1;31mValueError\u001B[0m                                Traceback (most recent call last)",
      "Input \u001B[1;32mIn [107]\u001B[0m, in \u001B[0;36m<cell line: 1>\u001B[1;34m()\u001B[0m\n\u001B[1;32m----> 1\u001B[0m s_df \u001B[38;5;241m=\u001B[39m \u001B[43ms\u001B[49m\u001B[38;5;241;43m.\u001B[39;49m\u001B[43munstack\u001B[49m\u001B[43m(\u001B[49m\u001B[43ms\u001B[49m\u001B[43m)\u001B[49m\n",
      "File \u001B[1;32m~\\AppData\\Local\\Programs\\Python\\Python310\\lib\\site-packages\\pandas\\core\\series.py:4157\u001B[0m, in \u001B[0;36mSeries.unstack\u001B[1;34m(self, level, fill_value)\u001B[0m\n\u001B[0;32m   4114\u001B[0m \u001B[38;5;124;03m\"\"\"\u001B[39;00m\n\u001B[0;32m   4115\u001B[0m \u001B[38;5;124;03mUnstack, also known as pivot, Series with MultiIndex to produce DataFrame.\u001B[39;00m\n\u001B[0;32m   4116\u001B[0m \n\u001B[1;32m   (...)\u001B[0m\n\u001B[0;32m   4153\u001B[0m \u001B[38;5;124;03mb    2    4\u001B[39;00m\n\u001B[0;32m   4154\u001B[0m \u001B[38;5;124;03m\"\"\"\u001B[39;00m\n\u001B[0;32m   4155\u001B[0m \u001B[38;5;28;01mfrom\u001B[39;00m \u001B[38;5;21;01mpandas\u001B[39;00m\u001B[38;5;21;01m.\u001B[39;00m\u001B[38;5;21;01mcore\u001B[39;00m\u001B[38;5;21;01m.\u001B[39;00m\u001B[38;5;21;01mreshape\u001B[39;00m\u001B[38;5;21;01m.\u001B[39;00m\u001B[38;5;21;01mreshape\u001B[39;00m \u001B[38;5;28;01mimport\u001B[39;00m unstack\n\u001B[1;32m-> 4157\u001B[0m \u001B[38;5;28;01mreturn\u001B[39;00m \u001B[43munstack\u001B[49m\u001B[43m(\u001B[49m\u001B[38;5;28;43mself\u001B[39;49m\u001B[43m,\u001B[49m\u001B[43m \u001B[49m\u001B[43mlevel\u001B[49m\u001B[43m,\u001B[49m\u001B[43m \u001B[49m\u001B[43mfill_value\u001B[49m\u001B[43m)\u001B[49m\n",
      "File \u001B[1;32m~\\AppData\\Local\\Programs\\Python\\Python310\\lib\\site-packages\\pandas\\core\\reshape\\reshape.py:473\u001B[0m, in \u001B[0;36munstack\u001B[1;34m(obj, level, fill_value)\u001B[0m\n\u001B[0;32m    470\u001B[0m         level \u001B[38;5;241m=\u001B[39m level[\u001B[38;5;241m0\u001B[39m]\n\u001B[0;32m    472\u001B[0m \u001B[38;5;66;03m# Prioritize integer interpretation (GH #21677):\u001B[39;00m\n\u001B[1;32m--> 473\u001B[0m \u001B[38;5;28;01mif\u001B[39;00m \u001B[38;5;129;01mnot\u001B[39;00m is_integer(level) \u001B[38;5;129;01mand\u001B[39;00m \u001B[38;5;129;01mnot\u001B[39;00m \u001B[43mlevel\u001B[49m\u001B[43m \u001B[49m\u001B[38;5;241;43m==\u001B[39;49m\u001B[43m \u001B[49m\u001B[38;5;124;43m\"\u001B[39;49m\u001B[38;5;124;43m__placeholder__\u001B[39;49m\u001B[38;5;124;43m\"\u001B[39;49m:\n\u001B[0;32m    474\u001B[0m     level \u001B[38;5;241m=\u001B[39m obj\u001B[38;5;241m.\u001B[39mindex\u001B[38;5;241m.\u001B[39m_get_level_number(level)\n\u001B[0;32m    476\u001B[0m \u001B[38;5;28;01mif\u001B[39;00m \u001B[38;5;28misinstance\u001B[39m(obj, DataFrame):\n",
      "File \u001B[1;32m~\\AppData\\Local\\Programs\\Python\\Python310\\lib\\site-packages\\pandas\\core\\generic.py:1527\u001B[0m, in \u001B[0;36mNDFrame.__nonzero__\u001B[1;34m(self)\u001B[0m\n\u001B[0;32m   1525\u001B[0m \u001B[38;5;129m@final\u001B[39m\n\u001B[0;32m   1526\u001B[0m \u001B[38;5;28;01mdef\u001B[39;00m \u001B[38;5;21m__nonzero__\u001B[39m(\u001B[38;5;28mself\u001B[39m):\n\u001B[1;32m-> 1527\u001B[0m     \u001B[38;5;28;01mraise\u001B[39;00m \u001B[38;5;167;01mValueError\u001B[39;00m(\n\u001B[0;32m   1528\u001B[0m         \u001B[38;5;124mf\u001B[39m\u001B[38;5;124m\"\u001B[39m\u001B[38;5;124mThe truth value of a \u001B[39m\u001B[38;5;132;01m{\u001B[39;00m\u001B[38;5;28mtype\u001B[39m(\u001B[38;5;28mself\u001B[39m)\u001B[38;5;241m.\u001B[39m\u001B[38;5;18m__name__\u001B[39m\u001B[38;5;132;01m}\u001B[39;00m\u001B[38;5;124m is ambiguous. \u001B[39m\u001B[38;5;124m\"\u001B[39m\n\u001B[0;32m   1529\u001B[0m         \u001B[38;5;124m\"\u001B[39m\u001B[38;5;124mUse a.empty, a.bool(), a.item(), a.any() or a.all().\u001B[39m\u001B[38;5;124m\"\u001B[39m\n\u001B[0;32m   1530\u001B[0m     )\n",
      "\u001B[1;31mValueError\u001B[0m: The truth value of a Series is ambiguous. Use a.empty, a.bool(), a.item(), a.any() or a.all()."
     ]
    }
   ],
   "source": [
    "s_df = s.unstack(s)                # with the non-unique indices as set above, this produces a ValueError"
   ]
  },
  {
   "cell_type": "markdown",
   "metadata": {
    "pycharm": {
     "name": "#%% md\n"
    }
   },
   "source": [
    "Create a multi-indexed `pd.Series` object where all key combinations in the multi-index are unique, and `unstack()` it to a `pd.DataFrame` object:"
   ]
  },
  {
   "cell_type": "code",
   "execution_count": null,
   "metadata": {
    "pycharm": {
     "name": "#%%\n"
    }
   },
   "outputs": [],
   "source": [
    "indices = pd.MultiIndex.from_tuples([(1963, 'Please, Please Me'),\n",
    "                                     (1963, 'With The Beatles'),\n",
    "                                     (1964, 'A Hard Day\\'s Night'),\n",
    "                                     (1964, 'The Beatles for Sale')], \n",
    "                                   names=['Year', 'Album'])\n",
    "s = pd.Series(['I Saw Her Standing There', \n",
    "               'Till There Was You', \n",
    "               'Things We Said Today', \n",
    "               'No Reply'],\n",
    "              index=indices)\n",
    "s_df = s.unstack()\n",
    "s_df"
   ]
  },
  {
   "cell_type": "code",
   "execution_count": null,
   "metadata": {
    "pycharm": {
     "name": "#%%\n"
    }
   },
   "outputs": [],
   "source": [
    "s_df.stack()"
   ]
  },
  {
   "cell_type": "markdown",
   "metadata": {
    "pycharm": {
     "name": "#%% md\n"
    }
   },
   "source": [
    "#### Explicit *pd.MultiIndex* constructors\n",
    "`from_arrays()`, `from_tuples()`, `from_product()`\n",
    "\n",
    "Provide flexibility in creating `pd.MultiIndex` objects. A `pd.MultiIndex` object created in any of these ways can be passed as the ``index`` argument when creating a `pd.Series` or a `pd.Dataframe` object, or be passed to the `reindex()` method of an existing `pd.Series` or `pd.Dataframe` object."
   ]
  },
  {
   "cell_type": "code",
   "execution_count": null,
   "metadata": {
    "pycharm": {
     "name": "#%%\n"
    }
   },
   "outputs": [],
   "source": [
    "indices = pd.MultiIndex.from_tuples([(1963, 'Please, Please Me'),\n",
    "                                     (1963, 'With The Beatles'),\n",
    "                                     (1964, 'A Hard Day\\'s Night'),\n",
    "                                     (1964, 'The Beatles for Sale')])\n",
    "display(indices)\n",
    "\n",
    "indices = pd.MultiIndex.from_arrays([[1963, 1963, 1964, 1964], \n",
    "                                     ['Please, Please Me', 'With The Beatles', 'A Hard Day\\'s Night', 'The Beatles for Sale']])\n",
    "display(indices)\n",
    "\n",
    "indices = pd.MultiIndex.from_product([[1963, 1964], \n",
    "                                      ['album', 'single']])                # Cartesian product\n",
    "display(indices)"
   ]
  },
  {
   "cell_type": "markdown",
   "metadata": {
    "pycharm": {
     "name": "#%% md\n"
    }
   },
   "source": [
    "#### Using *levels* and *codes*\n",
    "An alternative to using `from_product()`."
   ]
  },
  {
   "cell_type": "code",
   "execution_count": null,
   "metadata": {
    "pycharm": {
     "name": "#%%\n"
    }
   },
   "outputs": [],
   "source": [
    "indices = pd.MultiIndex(levels=[[1963, 1964], ['album', 'single']], \n",
    "                        codes=[[0, 0, 1, 1], [0, 1, 0, 1]])\n",
    "display(indices)\n",
    "\n",
    "print(indices[0], '\\n', indices[1])\n",
    "\n",
    "display(indices[1][1])"
   ]
  },
  {
   "cell_type": "markdown",
   "metadata": {
    "pycharm": {
     "name": "#%% md\n"
    }
   },
   "source": [
    "#### Multiindexing *pd.DataFrame* columns\n",
    "Just as the rows can have multiple levels of indices, the columns can have multiple levels as well."
   ]
  },
  {
   "cell_type": "code",
   "execution_count": null,
   "metadata": {
    "pycharm": {
     "name": "#%%\n"
    }
   },
   "outputs": [],
   "source": [
    "indices = pd.MultiIndex.from_product([[1963, 1964], \n",
    "                                      ['album', 'single']])                # Cartesian product\n",
    "columns = pd.MultiIndex.from_product([['No.1', 'No.2'], \n",
    "                                      ['UK', 'US']])\n",
    "# titles = np.array(['1', '2', '3', '4']).reshape(2, 2)                    # just testing\n",
    "titles = np.array(['No Reply',\n",
    "                   'I\\'m A Loser',\n",
    "                   'Baby\\'s In Black',\n",
    "                   'Rock And Roll Music',\n",
    "                   'I\\'ll Follow The Sun',\n",
    "                   'Mr Moonlight',\n",
    "                   'Kansas City/Hey-Hey-Hey-Hey!',\n",
    "                   'Eight Days A Week',\n",
    "                   'Words Of Love',\n",
    "                   'Honey Don\\'t',\n",
    "                   'Every Little Thing',\n",
    "                   'I Don\\'t Want To Spoil The Party',\n",
    "                   'What You\\'re Doing',\n",
    "                   'Everybody\\'s Trying To Be My Baby',\n",
    "                   'Please, Please Me',\n",
    "                   'Anna']).reshape(4, 4)\n",
    "# display(titles)\n",
    "np.random.shuffle(titles.flat)                                              # shuffle the songs to mimic randomness\n",
    "s = pd.DataFrame(titles, index=indices, columns=columns)\n",
    "s"
   ]
  },
  {
   "cell_type": "markdown",
   "metadata": {
    "pycharm": {
     "name": "#%% md\n"
    }
   },
   "source": [
    "And now some indexing and slicing (but remember that **the first index refers to columns!!!**):"
   ]
  },
  {
   "cell_type": "code",
   "execution_count": null,
   "metadata": {
    "pycharm": {
     "name": "#%%\n"
    }
   },
   "outputs": [],
   "source": [
    "display(s['No.1'])\n",
    "display(s['No.1']['UK'])\n",
    "display(s['No.1'][0:2])\n",
    "display(s['No.1']['UK'][1963])\n",
    "display(s['No.1']['UK'][1963, 'single'])"
   ]
  },
  {
   "cell_type": "markdown",
   "metadata": {
    "pycharm": {
     "name": "#%% md\n"
    }
   },
   "source": [
    "#### *sort_index()*"
   ]
  },
  {
   "cell_type": "code",
   "execution_count": null,
   "metadata": {
    "pycharm": {
     "name": "#%%\n"
    }
   },
   "outputs": [],
   "source": [
    "indices = pd.MultiIndex.from_tuples([(1964, 'A Hard Day\\'s Night'),               # unsorted multi-index\n",
    "                                     (1964, 'The Beatles for Sale'), \n",
    "                                     (1963, 'Please, Please Me'),\n",
    "                                     (1963, 'With The Beatles')],\n",
    "                                   names=['Year', 'Album'])\n",
    "s = pd.Series(['Things We Said Today', \n",
    "               'No Reply', \n",
    "               'I Saw Her Standing There', \n",
    "               'Till There Was You'],\n",
    "              index=indices)\n",
    "display(s)\n",
    "\n",
    "display(s[1964])\n",
    "\n",
    "# display(s.loc[1964:1963])                                                         # produces UnsortedIndexError\n",
    "\n",
    "s = s.sort_index()\n",
    "display(s.loc[1963:1964])                                                           # after sorting the index, it works"
   ]
  },
  {
   "cell_type": "markdown",
   "metadata": {
    "pycharm": {
     "name": "#%% md\n"
    }
   },
   "source": [
    "#### *unstack()* and *stack()*\n",
    "For `unstack()`, specifying the `level` tells Pandas which index level to represent as columns."
   ]
  },
  {
   "cell_type": "code",
   "execution_count": null,
   "metadata": {
    "scrolled": true,
    "pycharm": {
     "name": "#%%\n"
    }
   },
   "outputs": [],
   "source": [
    "# s_df = s.unstack()\n",
    "# s_df = s.unstack(level=1)                # same as s.unstack()\n",
    "s_df = s.unstack(level=0)\n",
    "s_df"
   ]
  },
  {
   "cell_type": "code",
   "execution_count": null,
   "metadata": {
    "scrolled": true,
    "pycharm": {
     "name": "#%%\n"
    }
   },
   "outputs": [],
   "source": [
    "s_df.stack()"
   ]
  },
  {
   "cell_type": "markdown",
   "metadata": {
    "pycharm": {
     "name": "#%% md\n"
    }
   },
   "source": [
    "#### *reset_index()* and *set_index()*"
   ]
  },
  {
   "cell_type": "code",
   "execution_count": null,
   "metadata": {
    "pycharm": {
     "name": "#%%\n"
    }
   },
   "outputs": [],
   "source": [
    "indices = pd.MultiIndex.from_tuples([(1964, 'A Hard Day\\'s Night'),               # unsorted multi-index\n",
    "                                     (1964, 'The Beatles for Sale'),\n",
    "                                     (1963, 'Please, Please Me'),\n",
    "                                     (1963, 'With The Beatles')],\n",
    "                                    names=['Year', 'Album'])\n",
    "s = pd.Series(['Things We Said Today',\n",
    "               'No Reply',\n",
    "               'I Saw Her Standing There',\n",
    "               'Till There Was You'],\n",
    "              index=indices)\n",
    "display(s)\n",
    "\n",
    "s.reset_index()\n",
    "# display(type(s.reset_index()))              # pd.DataFrame"
   ]
  },
  {
   "cell_type": "code",
   "execution_count": null,
   "metadata": {
    "scrolled": true,
    "pycharm": {
     "name": "#%%\n"
    }
   },
   "outputs": [],
   "source": [
    "s.reset_index(name='song')"
   ]
  },
  {
   "cell_type": "code",
   "execution_count": null,
   "metadata": {
    "pycharm": {
     "name": "#%%\n"
    }
   },
   "outputs": [],
   "source": [
    "s_flat = s.reset_index(name='song')\n",
    "display(s_flat)\n",
    "display(type(s_flat))\n",
    "\n",
    "s_flat.set_index(['Year', 'Album'])\n",
    "# s_flat.set_index(['Album', 'Year'])\n",
    "# display(type(s_flat.set_index(['Album', 'Year'])))              # pd.DataFrame"
   ]
  },
  {
   "cell_type": "markdown",
   "metadata": {
    "pycharm": {
     "name": "#%% md\n"
    }
   },
   "source": [
    "### Data aggregations on multi-indices\n",
    "For hierarchically indexed data, data aggregation methods (`mean()`, `sum()`, `max()`,...) can be passed a `level` parameter that controls which subset of the data the aggregate is computed on."
   ]
  },
  {
   "cell_type": "markdown",
   "metadata": {
    "pycharm": {
     "name": "#%% md\n"
    }
   },
   "source": [
    "Prepare some data:"
   ]
  },
  {
   "cell_type": "code",
   "execution_count": null,
   "metadata": {
    "pycharm": {
     "name": "#%%\n"
    }
   },
   "outputs": [],
   "source": [
    "indices = pd.MultiIndex.from_tuples([(1967, 'Sgt. Pepper'),\n",
    "                                     (1969, 'Abbey Road'),\n",
    "                                     (1969, 'Abbey Road'), \n",
    "                                     (1967, 'Sgt. Pepper')], \n",
    "                                    names=['Year', 'Album'])\n",
    "\n",
    "titles = ['A Day in the Life', 'Because', 'Golden Slumbers', 'Lovely Rita']\n",
    "lengths = [300, 200, 100, 150]\n",
    "releases = [50, 5, 30, 8]\n",
    "\n",
    "s_titles = pd.Series(titles, index=indices)\n",
    "s_lengths = pd.Series(lengths, index=indices)\n",
    "s_releases = pd.Series(releases, index=indices)\n",
    "\n",
    "songs = pd.DataFrame({'Title':s_titles, 'Length':s_lengths, 'Releases':s_releases},\n",
    "                     index=indices)\n",
    "display(songs)\n",
    "\n",
    "songs = songs.sort_index()\n",
    "songs"
   ]
  },
  {
   "cell_type": "markdown",
   "metadata": {
    "pycharm": {
     "name": "#%% md\n"
    }
   },
   "source": [
    "Run some aggregation operations on the data (use `drop()` to leave out some columns from the data frame if necessary; use `to_numeric()` or `astype()` to convert the type of columns in the resulting dataframe, if needed (see [this](https://stackoverflow.com/a/28648923) for details)):"
   ]
  },
  {
   "cell_type": "code",
   "execution_count": null,
   "metadata": {
    "pycharm": {
     "name": "#%%\n"
    }
   },
   "outputs": [],
   "source": [
    "# Compute mean song lengths and song releases by year\n",
    "# means_by_year = songs.drop(columns='Title')                           # just testing\n",
    "means_by_year = songs.drop(columns='Title').mean(level='Year')\n",
    "# means_by_year['Length'] = \\\n",
    "#   pd.to_numeric(round(means_by_year['Length']), downcast='integer')   # converts float output to int; round() is desirable\n",
    "# means_by_year['Releases'] = \\\n",
    "#   pd.to_numeric(round(means_by_year['Releases']), downcast='integer') # converts float output to int; round() is desirable\n",
    "# means_by_year = means_by_year.round().astype(int)                     # converts all columns to int; round() is desirable\n",
    "means_by_year = \\\n",
    "  means_by_year[['Length', 'Releases']].round().astype(int)             # converts selected columns to int; round() is desirable\n",
    "means_by_year"
   ]
  },
  {
   "cell_type": "code",
   "execution_count": null,
   "metadata": {
    "scrolled": true,
    "pycharm": {
     "name": "#%%\n"
    }
   },
   "outputs": [],
   "source": [
    "# Compute max song lengths and song releases by album\n",
    "max_by_album = songs.drop(columns='Title').max(level='Album')\n",
    "max_by_album"
   ]
  },
  {
   "cell_type": "code",
   "execution_count": null,
   "metadata": {
    "pycharm": {
     "name": "#%%\n"
    }
   },
   "outputs": [],
   "source": [
    "# Compute overall min values\n",
    "min_overall = songs.drop(columns='Title').min()\n",
    "min_overall"
   ]
  },
  {
   "cell_type": "markdown",
   "metadata": {
    "pycharm": {
     "name": "#%% md\n"
    }
   },
   "source": [
    "## Combining datasets: *pd.concat()* and *pd.append()*\n",
    "Concatenating `pd.Series` and `pd.DataFrame` objects."
   ]
  },
  {
   "cell_type": "markdown",
   "metadata": {
    "pycharm": {
     "name": "#%% md\n"
    }
   },
   "source": [
    "### *pd.concat()*\n",
    "Accepts lists and tuples as arguments."
   ]
  },
  {
   "cell_type": "markdown",
   "metadata": {
    "pycharm": {
     "name": "#%% md\n"
    }
   },
   "source": [
    "#### Row-wise concatenation\n",
    "Default concatenation is row-wise."
   ]
  },
  {
   "cell_type": "code",
   "execution_count": null,
   "metadata": {
    "pycharm": {
     "name": "#%%\n"
    }
   },
   "outputs": [],
   "source": [
    "titles = ['A Day in the Life', 'Can\\'t Buy Me Love', 'Blackbird', 'Taxman']\n",
    "s1 = pd.Series(titles[0:2])\n",
    "s2 = pd.Series(titles[-2:])\n",
    "display(s1)\n",
    "display(s2)\n",
    "\n",
    "s = pd.concat([s1, s2])\n",
    "display(s)\n",
    "\n",
    "lengths = [300, 150, 120, 160]\n",
    "\n",
    "s = pd.DataFrame({'Title':titles, 'Length':lengths})\n",
    "display(s)\n",
    "\n",
    "ss = pd.concat((s, s))\n",
    "ss"
   ]
  },
  {
   "cell_type": "markdown",
   "metadata": {
    "pycharm": {
     "name": "#%% md\n"
    }
   },
   "source": [
    "#### Handling duplicate indices by creating a new index - the `ignore_index` parameter\n",
    "Duplicate indices can be handled with `ignore_index=True`:"
   ]
  },
  {
   "cell_type": "code",
   "execution_count": null,
   "metadata": {
    "pycharm": {
     "name": "#%%\n"
    }
   },
   "outputs": [],
   "source": [
    "ss = pd.concat((s, s), ignore_index=True)\n",
    "ss"
   ]
  },
  {
   "cell_type": "markdown",
   "metadata": {
    "pycharm": {
     "name": "#%% md\n"
    }
   },
   "source": [
    "#### Handling duplicate indices by introducing multi-indices - the `keys` parameter\n",
    "Alternatively, multi-indices can be created using `keys` to label the data sources:"
   ]
  },
  {
   "cell_type": "code",
   "execution_count": null,
   "metadata": {
    "pycharm": {
     "name": "#%%\n"
    }
   },
   "outputs": [],
   "source": [
    "ss = pd.concat((s, s), keys=(1, 2))\n",
    "ss"
   ]
  },
  {
   "cell_type": "markdown",
   "metadata": {
    "pycharm": {
     "name": "#%% md\n"
    }
   },
   "source": [
    "#### Column-wise concatenation\n",
    "To concatenate column-wise, use `axis=1`:"
   ]
  },
  {
   "cell_type": "code",
   "execution_count": null,
   "metadata": {
    "pycharm": {
     "name": "#%%\n"
    }
   },
   "outputs": [],
   "source": [
    "ss = pd.concat([s, s], axis=1)\n",
    "display(ss)\n",
    "\n",
    "releases = pd.Series([20, 100, 10, 8], name='No. of releases')\n",
    "ss = pd.concat([s, releases], axis=1)\n",
    "ss\n",
    "\n",
    "# Alternatively, to add the 'No. of releases' column to s:\n",
    "# s['No. of releases'] = releases\n",
    "# s"
   ]
  },
  {
   "cell_type": "markdown",
   "metadata": {
    "pycharm": {
     "name": "#%% md\n"
    }
   },
   "source": [
    "#### Concatenation with joins\n",
    "Happens when the `pd.DataFrame` objects don't have all columns in common. By default, the entries for which no data is available are filled with NA values:"
   ]
  },
  {
   "cell_type": "code",
   "execution_count": null,
   "metadata": {
    "pycharm": {
     "name": "#%%\n"
    }
   },
   "outputs": [],
   "source": [
    "d1 = pd.DataFrame({'Title':pd.Series(['A Day in the Life', 'Can\\'t Buy Me Love']), \n",
    "                   'Length':pd.Series([300, 150])})\n",
    "d2 = pd.DataFrame({'Title':pd.Series(['Blackbird', 'Taxman'])})\n",
    "s = pd.concat([d1, d2])\n",
    "s"
   ]
  },
  {
   "cell_type": "markdown",
   "metadata": {
    "pycharm": {
     "name": "#%% md\n"
    }
   },
   "source": [
    "By default, the join is a union of the input columns (`join='outer'`), but we can change this to an intersection of the columns using `join='inner'`:"
   ]
  },
  {
   "cell_type": "code",
   "execution_count": null,
   "metadata": {
    "pycharm": {
     "name": "#%%\n"
    }
   },
   "outputs": [],
   "source": [
    "s = pd.concat([d1, d2], join='inner')\n",
    "s"
   ]
  },
  {
   "cell_type": "markdown",
   "metadata": {
    "pycharm": {
     "name": "#%% md\n"
    }
   },
   "source": [
    "To specify the columns to be used in the join, use `reindex()`. For example, to reindex `s2` to match `s1` columns, or vice versa:"
   ]
  },
  {
   "cell_type": "code",
   "execution_count": null,
   "metadata": {
    "pycharm": {
     "name": "#%%\n"
    }
   },
   "outputs": [],
   "source": [
    "d1['No. of releases'] = pd.Series([20, 100])\n",
    "d2['No. of releases'] = pd.Series([10, 8])\n",
    "display(d1)\n",
    "display(d2)\n",
    "\n",
    "# s = pd.concat([d1, d2.reindex(d1.columns, axis=1)])\n",
    "s = pd.concat([d1.reindex(d2.columns, axis=1), d2])\n",
    "s"
   ]
  },
  {
   "cell_type": "markdown",
   "metadata": {
    "pycharm": {
     "name": "#%% md\n"
    }
   },
   "source": [
    "### *append()*\n",
    "Deprecated. Use `pd.concat()` instead.\n",
    "Works much like `pd.concat()`, but appends a `pd.DataFrame` object to another one as a result of running the `append()` method for the other one."
   ]
  },
  {
   "cell_type": "code",
   "execution_count": null,
   "metadata": {
    "pycharm": {
     "name": "#%%\n"
    }
   },
   "outputs": [],
   "source": [
    "d1.append(d2)"
   ]
  },
  {
   "cell_type": "markdown",
   "metadata": {
    "pycharm": {
     "name": "#%% md\n"
    }
   },
   "source": [
    "## Combining datasets: *pd.merge()*\n",
    "Used for various merge and join operations on datasets (on-to-one joins, many-to-one joins, many-to-many joins)."
   ]
  },
  {
   "cell_type": "markdown",
   "metadata": {
    "pycharm": {
     "name": "#%% md\n"
    }
   },
   "source": [
    "### One-to-one joins\n",
    "Very similar to the column-wise concatenation with `pd.concat()`. `pd.merge()` recognizes that the `pd.DataFrame` objecs have a common column, and automatically joins using this column as a key. The result of the merge is a new `pd.DataFrame` object that combines the information from the two inputs.<br>\n",
    "Notice that the order of entries in each column is not necessarily maintained: the order of the key column can differ between the input dataframes, and `pd.merge()` correctly accounts for this.<br>\n",
    "Additionally, keep in mind that the merge in general discards the index, except in the special case of merges by index (see the `left_index` and `right_index` keywords, discussed momentarily)."
   ]
  },
  {
   "cell_type": "code",
   "execution_count": null,
   "metadata": {
    "scrolled": true,
    "pycharm": {
     "name": "#%%\n"
    }
   },
   "outputs": [],
   "source": [
    "d1 = pd.DataFrame({'Title':pd.Series(['A Day in the Life', 'Can\\'t Buy Me Love', 'Blackbird', 'Taxman']), \n",
    "                   'Length':pd.Series([300, 150, 120, 160])})\n",
    "d2 = pd.DataFrame({'Title':pd.Series(['Blackbird', 'Taxman', 'A Day in the Life', 'Can\\'t Buy Me Love']),\n",
    "                   'No. of releases':[10, 8, 20, 100]})\n",
    "display(d1)\n",
    "display(d2)\n",
    "s = pd.merge(d1, d2)\n",
    "s"
   ]
  },
  {
   "cell_type": "markdown",
   "metadata": {
    "pycharm": {
     "name": "#%% md\n"
    }
   },
   "source": [
    "### Many-to-one joins\n",
    "These are joins in which one of the two key columns contains duplicate entries. For the many-to-one case, the resulting `pd.DataFrame` will preserve those duplicate entries as appropriate. It will also one or more additional columns where the information is repeated in some locations as required by the inputs."
   ]
  },
  {
   "cell_type": "code",
   "execution_count": null,
   "metadata": {
    "pycharm": {
     "name": "#%%\n"
    }
   },
   "outputs": [],
   "source": [
    "d1 = pd.DataFrame({'Title':pd.Series(['A Day in the Life', \n",
    "                                      'Can\\'t Buy Me Love', \n",
    "                                      'Things We Said Today', \n",
    "                                      'Blackbird', \n",
    "                                      'Taxman']), \n",
    "                   'Album':pd.Series(['Sgt. Pepper', \n",
    "                                      'A Hard Day\\'s Night', \n",
    "                                      'A Hard Day\\'s Night', \n",
    "                                      'The Beatles',\n",
    "                                      'Revolver']),\n",
    "                   'Length':pd.Series([300, 150, 135, 120, 160])})\n",
    "d2 = pd.DataFrame({'Album':pd.Series(['Sgt. Pepper', \n",
    "                                      'A Hard Day\\'s Night', \n",
    "                                      'The Beatles',\n",
    "                                      'Revolver']),\n",
    "                   'Year':[1967, 1963, 1968, 1966], \n",
    "                   'Re-issues':[5, 6, 3, 2]})\n",
    "display(d1)\n",
    "display(d2)\n",
    "s = pd.merge(d1, d2)\n",
    "s"
   ]
  },
  {
   "cell_type": "markdown",
   "metadata": {
    "pycharm": {
     "name": "#%% md\n"
    }
   },
   "source": [
    "### Many-to-many joins\n",
    "A many-to-many join occurs when the key column in both the left and right array contains duplicates."
   ]
  },
  {
   "cell_type": "code",
   "execution_count": null,
   "metadata": {
    "pycharm": {
     "name": "#%%\n"
    }
   },
   "outputs": [],
   "source": [
    "d1 = pd.DataFrame({'Title':pd.Series(['A Day in the Life', \n",
    "                                      'Can\\'t Buy Me Love', \n",
    "                                      'Things We Said Today', \n",
    "                                      'Blackbird', \n",
    "                                      'Taxman', \n",
    "                                      'Fixing a Hole']), \n",
    "                   'Album':pd.Series(['Sgt. Pepper', \n",
    "                                      'A Hard Day\\'s Night', \n",
    "                                      'A Hard Day\\'s Night', \n",
    "                                      'The Beatles',\n",
    "                                      'Revolver', \n",
    "                                      'Sgt. Pepper']),\n",
    "                   'Length':pd.Series([300, 150, 135, 120, 160, 155])})\n",
    "d2 = pd.DataFrame({'Album':pd.Series(['Sgt. Pepper', \n",
    "                                      'Sgt. Pepper', \n",
    "                                      'A Hard Day\\'s Night', \n",
    "                                      'A Hard Day\\'s Night', \n",
    "                                      'The Beatles',\n",
    "                                      'The Beatles',\n",
    "                                      'Revolver',\n",
    "                                      'Revolver']),\n",
    "                   'Released / Remastered':[1967, 2017, 1963, 2013, 1968, np.NaN, 1966, np.NaN]}, \n",
    "                  dtype=object)   # not necessary, but avoids automatic conversion of int to float in 'Released / Remastered'\n",
    "display(d1)\n",
    "display(d2)\n",
    "s = pd.merge(d1, d2)\n",
    "s"
   ]
  },
  {
   "cell_type": "markdown",
   "metadata": {
    "pycharm": {
     "name": "#%% md\n"
    }
   },
   "source": [
    "### Specification of the merge key\n",
    "The default behavior of `pd.merge()` is: it looks for one or more matching column names between the two inputs, and uses this as the key.<br>\n",
    "However, often the column names will not match so nicely. `pd.merge()` provides a variety of options for handling this."
   ]
  },
  {
   "cell_type": "markdown",
   "metadata": {
    "pycharm": {
     "name": "#%% md\n"
    }
   },
   "source": [
    "#### The *on* keyword\n",
    "Most simply, you can explicitly specify the name of the key column using the `on` keyword, which takes a column name or a list of column names. This option works only if both the left and right `pd.DataFrame`s have the specified column name."
   ]
  },
  {
   "cell_type": "code",
   "execution_count": null,
   "metadata": {
    "pycharm": {
     "name": "#%%\n"
    }
   },
   "outputs": [],
   "source": [
    "d1 = pd.DataFrame({'Title':pd.Series(['A Day in the Life', 'Can\\'t Buy Me Love', 'Blackbird', 'Taxman']), \n",
    "                   'Length':pd.Series([300, 150, 120, 160])})\n",
    "d2 = pd.DataFrame({'Title':pd.Series(['Blackbird', 'Taxman', 'A Day in the Life', 'Can\\'t Buy Me Love']),\n",
    "                   'No. of releases':[10, 8, 20, 100]})\n",
    "display(d1)\n",
    "display(d2)\n",
    "s = pd.merge(d1, d2, on='Title')\n",
    "s"
   ]
  },
  {
   "cell_type": "markdown",
   "metadata": {
    "pycharm": {
     "name": "#%% md\n"
    }
   },
   "source": [
    "#### The *left_on* and *right_on* keywords\n",
    "\n",
    "If the two datasets to merge have all different column names, use the `left_on` and `right_on` keywords to specify the two column names. <br>\n",
    "For example, in a songs dataset the song title can be labeled as \"Title\", and in another dataset as \"Song title\"."
   ]
  },
  {
   "cell_type": "code",
   "execution_count": null,
   "metadata": {
    "pycharm": {
     "name": "#%%\n"
    }
   },
   "outputs": [],
   "source": [
    "d1 = pd.DataFrame({'Title':pd.Series(['A Day in the Life', 'Can\\'t Buy Me Love', 'Blackbird', 'Taxman']), \n",
    "                   'Length':pd.Series([300, 150, 120, 160])})\n",
    "d2 = pd.DataFrame({'Song title':pd.Series(['Blackbird', 'Taxman', 'A Day in the Life', 'Can\\'t Buy Me Love']),\n",
    "                   'No. of releases':[10, 8, 20, 100]})\n",
    "display(d1)\n",
    "display(d2)\n",
    "s = pd.merge(d1, d2, left_on='Title', right_on='Song title')\n",
    "s"
   ]
  },
  {
   "cell_type": "markdown",
   "metadata": {
    "pycharm": {
     "name": "#%% md\n"
    }
   },
   "source": [
    "To eliminate a redundant column, `drop()` comes handy:"
   ]
  },
  {
   "cell_type": "code",
   "execution_count": null,
   "metadata": {
    "pycharm": {
     "name": "#%%\n"
    }
   },
   "outputs": [],
   "source": [
    "s = pd.merge(d1, d2, left_on='Title', right_on='Song title').drop('Song title', axis=1)\n",
    "s"
   ]
  },
  {
   "cell_type": "markdown",
   "metadata": {
    "pycharm": {
     "name": "#%% md\n"
    }
   },
   "source": [
    "#### The *left_index* and *right_index* keywords\n",
    "Useful for merging on an index, rather than on a column (i.e. for using the index as the key for merging).<br>\n",
    "Can be combined with `left_on` and `right_on` (although the output in that case may require some extra work)."
   ]
  },
  {
   "cell_type": "code",
   "execution_count": null,
   "metadata": {
    "pycharm": {
     "name": "#%%\n"
    }
   },
   "outputs": [],
   "source": [
    "d1 = pd.DataFrame({'Title':pd.Series(['A Day in the Life', 'Can\\'t Buy Me Love', 'Blackbird', 'Taxman']), \n",
    "                   'Length':pd.Series([300, 150, 120, 160])})\n",
    "d2 = pd.DataFrame({'Title':pd.Series(['Blackbird', 'Taxman', 'A Day in the Life', 'Can\\'t Buy Me Love']),\n",
    "                   'No. of releases':[10, 8, 20, 100]})\n",
    "d1 = d1.set_index('Title')\n",
    "d2 = d2.set_index('Title')\n",
    "display(d1)\n",
    "display(d2)\n",
    "\n",
    "# s = pd.merge(d1, d2)                     # this won't work now - no common columns to perform the merge on\n",
    "s = pd.merge(d1, d2, left_index=True, right_index=True)\n",
    "display(s)\n",
    "\n",
    "d2 = pd.DataFrame({'Song title':pd.Series(['Blackbird', 'Taxman', 'A Day in the Life', 'Can\\'t Buy Me Love']),\n",
    "                   'No. of releases':[10, 8, 20, 100]})\n",
    "s = pd.merge(d1, d2, left_index=True, right_on='Song title')\n",
    "s"
   ]
  },
  {
   "cell_type": "markdown",
   "metadata": {
    "pycharm": {
     "name": "#%% md\n"
    }
   },
   "source": [
    "#### *join()*\n",
    "A shorthand for using `pd.merge()` with `left_index=True` and `right_index=True`."
   ]
  },
  {
   "cell_type": "code",
   "execution_count": null,
   "metadata": {
    "scrolled": true,
    "pycharm": {
     "name": "#%%\n"
    }
   },
   "outputs": [],
   "source": [
    "d1 = pd.DataFrame({'Title':pd.Series(['A Day in the Life', 'Can\\'t Buy Me Love', 'Blackbird', 'Taxman']), \n",
    "                   'Length':pd.Series([300, 150, 120, 160])})\n",
    "d2 = pd.DataFrame({'Title':pd.Series(['Blackbird', 'Taxman', 'A Day in the Life', 'Can\\'t Buy Me Love']),\n",
    "                   'No. of releases':[10, 8, 20, 100]})\n",
    "d1 = d1.set_index('Title')\n",
    "d2 = d2.set_index('Title')\n",
    "d1.join(d2)"
   ]
  },
  {
   "cell_type": "markdown",
   "metadata": {
    "pycharm": {
     "name": "#%% md\n"
    }
   },
   "source": [
    "#### The *how* keyword\n",
    "Important when a value appears in one key column but not the other. Possible values include `'inner'` (intersection; the default), `'outer'` (union), `'left'` and `'right'`."
   ]
  },
  {
   "cell_type": "code",
   "execution_count": null,
   "metadata": {
    "pycharm": {
     "name": "#%%\n"
    }
   },
   "outputs": [],
   "source": [
    "d1 = pd.DataFrame({'Title':pd.Series(['A Day in the Life', 'Can\\'t Buy Me Love', 'Blackbird']), \n",
    "                   'Length':pd.Series([300, 150, 120])})\n",
    "d2 = pd.DataFrame({'Title':pd.Series(['Blackbird', 'Taxman']),\n",
    "                   'No. of releases':[10, 8]})\n",
    "display(d1)\n",
    "display(d2)\n",
    "display(pd.merge(d1, d2))\n",
    "display(pd.merge(d1, d2, how='outer'))\n",
    "display(pd.merge(d1, d2, how='left'))\n",
    "display(pd.merge(d1, d2, how='right'))"
   ]
  },
  {
   "cell_type": "markdown",
   "metadata": {
    "pycharm": {
     "name": "#%% md\n"
    }
   },
   "source": [
    "#### The *suffixes* keyword\n",
    "Important when one or more columns *other than the key column* have the same (conflicting) names. By default, Pandas will create two columns in the resulting dataframe and will add the `_x` and `_y` suffixes to their names. The `suffixes` keyword enables superseding the defaults."
   ]
  },
  {
   "cell_type": "code",
   "execution_count": null,
   "metadata": {
    "scrolled": true,
    "pycharm": {
     "name": "#%%\n"
    }
   },
   "outputs": [],
   "source": [
    "# d1 = pd.DataFrame({'Title':pd.Series(['A Day in the Life', 'Can\\'t Buy Me Love', 'Blackbird', 'Taxman']), \n",
    "#                    'Length':pd.Series([300, 150, 120, 160])})\n",
    "# d2 = pd.DataFrame({'Title':pd.Series(['A Day in the Life', 'Can\\'t Buy Me Love', 'Blackbird', 'Taxman']), \n",
    "#                    'Length':pd.Series([300, 150, 120, 160])})\n",
    "d1 = pd.DataFrame({'Title':pd.Series(['A Day in the Life', 'Can\\'t Buy Me Love']), \n",
    "                   'Length':pd.Series([300, 150])})\n",
    "d2 = pd.DataFrame({'Title':pd.Series(['Blackbird', 'Taxman']), \n",
    "                   'Length':pd.Series([120, 160])})\n",
    "display(d1)\n",
    "display(d2)\n",
    "display(pd.merge(d1, d2, on='Title', how='outer'))\n",
    "# display(pd.merge(d1, d2, on='Title', how='outer', suffixes=['_d1', '_d2']))\n",
    "display(pd.merge(d1, d2, on='Title', how='outer', suffixes=('_d1', '_d2')))"
   ]
  },
  {
   "cell_type": "markdown",
   "metadata": {
    "pycharm": {
     "name": "#%% md\n"
    }
   },
   "source": [
    "## Exercises: The Beatles songs dataset"
   ]
  },
  {
   "cell_type": "markdown",
   "metadata": {
    "pycharm": {
     "name": "#%% md\n"
    }
   },
   "source": [
    "### Exercise 1\n",
    "Read a dataset and split it in two, column-wise. Keep one or more columns in both resulting datasets."
   ]
  },
  {
   "cell_type": "markdown",
   "metadata": {
    "pycharm": {
     "name": "#%% md\n"
    }
   },
   "source": [
    "#### Read the dataset\n",
    "The dataset used in this exercise does not contain NA values."
   ]
  },
  {
   "cell_type": "code",
   "execution_count": null,
   "metadata": {
    "pycharm": {
     "name": "#%%\n"
    }
   },
   "outputs": [],
   "source": [
    "songs = pd.read_csv('data/The Beatles songs dataset, v2, no NAs.csv')"
   ]
  },
  {
   "cell_type": "markdown",
   "metadata": {
    "pycharm": {
     "name": "#%% md\n"
    }
   },
   "source": [
    "#### Display some data from the dataset"
   ]
  },
  {
   "cell_type": "code",
   "execution_count": null,
   "metadata": {
    "pycharm": {
     "name": "#%%\n"
    }
   },
   "outputs": [],
   "source": [
    "# display(songs.head)\n",
    "display(songs['Title'].head)\n",
    "display(songs.columns)\n",
    "display(songs['Lead.vocal'].head)"
   ]
  },
  {
   "cell_type": "markdown",
   "metadata": {
    "pycharm": {
     "name": "#%% md\n"
    }
   },
   "source": [
    "#### Split the dataset in two by selecting different columns\n",
    "There are multiple ways to do it. <br>Whatever the way you use, if you also want to rearrange the columns in a dataset, see [this](https://stackoverflow.com/questions/13148429/how-to-change-the-order-of-dataframe-columns)."
   ]
  },
  {
   "cell_type": "markdown",
   "metadata": {
    "pycharm": {
     "name": "#%% md\n"
    }
   },
   "source": [
    "##### Method 1: using lists of columns"
   ]
  },
  {
   "cell_type": "markdown",
   "metadata": {
    "pycharm": {
     "name": "#%% md\n"
    }
   },
   "source": [
    "Based on [this](https://stackoverflow.com/a/13148611) idea.<br>\n",
    "Convert the columns `Index` object from the original dataset to a list of column names and select some columns for the two dataframes."
   ]
  },
  {
   "cell_type": "code",
   "execution_count": null,
   "metadata": {
    "pycharm": {
     "name": "#%%\n"
    }
   },
   "outputs": [],
   "source": [
    "cols = songs.columns.tolist()\n",
    "cols"
   ]
  },
  {
   "cell_type": "code",
   "execution_count": null,
   "metadata": {
    "pycharm": {
     "name": "#%%\n"
    }
   },
   "outputs": [],
   "source": [
    "cols1 = cols[0:5]\n",
    "display(cols1)\n",
    "# display(cols[0])\n",
    "# display([cols[0]])\n",
    "cols2 = [cols[0]] + cols[5:]\n",
    "display(cols2)"
   ]
  },
  {
   "cell_type": "markdown",
   "metadata": {
    "pycharm": {
     "name": "#%% md\n"
    }
   },
   "source": [
    "Create the two dataframes."
   ]
  },
  {
   "cell_type": "code",
   "execution_count": null,
   "metadata": {
    "pycharm": {
     "name": "#%%\n"
    }
   },
   "outputs": [],
   "source": [
    "songs1 = songs[cols1]\n",
    "songs2 = songs[cols2]\n",
    "display(songs1.head)\n",
    "display(songs2.head)"
   ]
  },
  {
   "cell_type": "markdown",
   "metadata": {
    "pycharm": {
     "name": "#%% md\n"
    }
   },
   "source": [
    "For the sake of the exercise, in the second dataframe deliberately change the name of the `Title` column to `Song title`."
   ]
  },
  {
   "cell_type": "code",
   "execution_count": null,
   "metadata": {
    "pycharm": {
     "name": "#%%\n"
    }
   },
   "outputs": [],
   "source": [
    "# songs2.rename(columns={'Title':'Song title'}, inplace=True)                 # throws a warning, so working on a copy can be better\n",
    "songs2 = songs2.copy().rename(columns={'Title':'Song title'})"
   ]
  },
  {
   "cell_type": "code",
   "execution_count": null,
   "metadata": {
    "pycharm": {
     "name": "#%%\n"
    }
   },
   "outputs": [],
   "source": [
    "display(songs2.columns)\n",
    "display(songs2.head)"
   ]
  },
  {
   "cell_type": "markdown",
   "metadata": {
    "pycharm": {
     "name": "#%% md\n"
    }
   },
   "source": [
    "##### Method 2: using *np.split()*\n",
    "Based on [this idea](https://stackoverflow.com/a/41624305)."
   ]
  },
  {
   "cell_type": "markdown",
   "metadata": {
    "pycharm": {
     "name": "#%% md\n"
    }
   },
   "source": [
    "Use `np.split()` to split the original dataframe to two or more smaller-width dataframes."
   ]
  },
  {
   "cell_type": "code",
   "execution_count": null,
   "metadata": {
    "scrolled": true,
    "pycharm": {
     "name": "#%%\n"
    }
   },
   "outputs": [],
   "source": [
    "display(songs.columns.tolist())\n",
    "s = np.split(songs, [5], axis=1)    # [5]: split on the 'Genre' column (the 6th one; it becomes the first one in the second df)\n",
    "songs1 = s[0]\n",
    "songs2 = s[1]\n",
    "# songs1.head\n",
    "# songs2.head\n",
    "songs2 = pd.concat([pd.DataFrame({'Song title':songs['Title']}), songs2], axis=1)\n",
    "# songs2.head\n",
    "display(songs1.columns.tolist())\n",
    "display(songs2.columns.tolist())"
   ]
  },
  {
   "cell_type": "markdown",
   "metadata": {
    "pycharm": {
     "name": "#%% md\n"
    }
   },
   "source": [
    "##### Method 3: using the *loc* and *iloc* indexers\n",
    "Based on [this idea](https://stackoverflow.com/a/41624272) and on the third example from the [`pd.DataFrame` as two-dimensional array](#pd.DataFrame-as-two-dimensional-array) section (Slicing a `pd.DataFrame` object)."
   ]
  },
  {
   "cell_type": "code",
   "execution_count": null,
   "metadata": {
    "pycharm": {
     "name": "#%%\n"
    }
   },
   "outputs": [],
   "source": [
    "# # Just testing\n",
    "# songs1 = songs.loc[:, ['Title', 'Year']]\n",
    "# display(songs1.head)\n",
    "# songs2 = songs.iloc[:, 5:]    # 5: split on the 'Genre' column (the 6th one; it becomes the first one in the second df)\n",
    "# display(songs2.head)\n",
    "# # display(songs.loc['s2':'s3', 'Title':'Album debut'])\n",
    "# # display(songs.iloc[:2, :2])\n",
    "\n",
    "songs1 = songs.iloc[:, :5]    # 5: split on the 'Genre' column (the 6th one; it becomes the first one in the second df)\n",
    "display(songs1.head)\n",
    "songs2 = songs.loc[:, 'Genre':'Top.50.Billboard']\n",
    "songs2 = pd.concat([pd.DataFrame({'Song title':songs['Title']}), songs2], axis=1)\n",
    "display(songs2.head)"
   ]
  },
  {
   "cell_type": "markdown",
   "metadata": {
    "pycharm": {
     "name": "#%% md\n"
    }
   },
   "source": [
    "#### Save the resulting datasets\n",
    "Based on [this](https://stackoverflow.com/q/16923281) and [this](https://stackoverflow.com/a/25230582).<br>\n",
    "As it is suggested [here](https://stackoverflow.com/a/25230582), iti is a good idea to include `index=False` in the call to `to_csv()` in order to avoid the index being saved as a separate column in the resulting `csv` file. See [Merge the two datasets into one, keeping only the relevant columns](#Merge-the-two-datasets-into-one,-keeping-only-the-relevant-columns) below or [this](https://stackoverflow.com/a/42978156) for details on how to eliminate this unnamed extra column from the `csv` file if it is present there."
   ]
  },
  {
   "cell_type": "code",
   "execution_count": null,
   "metadata": {
    "pycharm": {
     "name": "#%%\n"
    }
   },
   "outputs": [],
   "source": [
    "songs1.to_csv('data/The Beatles songs dataset, v2, no NAs, left.csv', index=False)\n",
    "songs2.to_csv('data/The Beatles songs dataset, v2, no NAs, right.csv', index=False)\n",
    "# songs1.to_csv('data/The Beatles songs dataset, v2, no NAs, left.csv')     # saves the csv file with the unnamed index column\n",
    "# songs2.to_csv('data/The Beatles songs dataset, v2, no NAs, right.csv')    # saves the csv file with the unnamed index column"
   ]
  },
  {
   "cell_type": "markdown",
   "metadata": {
    "pycharm": {
     "name": "#%% md\n"
    }
   },
   "source": [
    "### Exercise 2\n",
    "Using the two datasets generated in [Exercise 1](#Exercise-1), rank The Beatles albums released between 1962 and 1966 by the proportion of John Lennon's appearance as the lead vocalist in the songs from the corresponding album. Assume that the lead vocalist's name is listed as the first one in the `Lead.vocal` column. As for the album titles, take into account only the titles of the UK releases."
   ]
  },
  {
   "cell_type": "markdown",
   "metadata": {
    "pycharm": {
     "name": "#%% md\n"
    }
   },
   "source": [
    "#### Read the datasets"
   ]
  },
  {
   "cell_type": "code",
   "execution_count": 108,
   "metadata": {
    "pycharm": {
     "name": "#%%\n"
    }
   },
   "outputs": [],
   "source": [
    "songs1 = pd.read_csv('data/The Beatles songs dataset, v2, no NAs, left.csv')\n",
    "songs2 = pd.read_csv('data/The Beatles songs dataset, v2, no NAs, right.csv')\n",
    "# display(songs1.head)\n",
    "# display(songs2.head)"
   ]
  },
  {
   "cell_type": "markdown",
   "metadata": {
    "pycharm": {
     "name": "#%% md\n"
    }
   },
   "source": [
    "#### Merge the two datasets into one, keeping only the relevant columns"
   ]
  },
  {
   "cell_type": "code",
   "execution_count": 109,
   "metadata": {
    "pycharm": {
     "name": "#%%\n"
    }
   },
   "outputs": [
    {
     "data": {
      "text/plain": "Index(['Title', 'Year', 'Album.debut', 'Lead.vocal'], dtype='object')"
     },
     "metadata": {},
     "output_type": "display_data"
    },
    {
     "data": {
      "text/plain": "<bound method NDFrame.head of                                  Title  Year  \\\n0                      12-Bar Original  1965   \n1                    A Day in the Life  1967   \n2                   A Hard Day's Night  1964   \n3           A Shot of Rhythm and Blues  1963   \n4                     A Taste of Honey  1963   \n..                                 ...   ...   \n307     You're Going to Lose That Girl  1965   \n308  You've Got to Hide Your Love Away  1965   \n309     You've Really Got a Hold on Me  1963   \n310                        Young Blood  1963   \n311            Your Mother Should Know  1967   \n\n                                           Album.debut              Lead.vocal  \n0                                          Anthology 2                     NaN  \n1                Sgt. Pepper's Lonely Hearts Club Band    Lennon and McCartney  \n2                 UK: A Hard Day's Night US: 1962-1966  Lennon, with McCartney  \n3                                      Live at the BBC                  Lennon  \n4           UK: Please Please Me US: The Early Beatles               McCartney  \n..                                                 ...                     ...  \n307                                              Help!                  Lennon  \n308                                              Help!                  Lennon  \n309  UK: With the Beatles US: The Beatles Second Album     Lennon and Harrison  \n310                                    Live at the BBC                Harrison  \n311                               Magical Mystery Tour               McCartney  \n\n[312 rows x 4 columns]>"
     },
     "execution_count": 109,
     "metadata": {},
     "output_type": "execute_result"
    }
   ],
   "source": [
    "songs = pd.merge(songs1.drop(columns=['Duration', 'Other.releases'], axis=1),               # drop unnecessary columns (left)\n",
    "                 songs2.drop(columns=['Genre', 'Songwriter', 'Top.50.Billboard'], axis=1),  # drop unnecessary columns (right)\n",
    "                 left_on='Title', right_on='Song title',\n",
    "                 how='outer').drop('Song title', axis=1)                                    # drop duplicate info\n",
    "\n",
    "# songs.drop(['Unnamed: 0_x', 'Unnamed: 0_y'], axis=1).head  # in case the csv file(s) has (have) been created w. the index col.\n",
    "\n",
    "display(songs.columns)\n",
    "songs.head"
   ]
  },
  {
   "cell_type": "markdown",
   "metadata": {
    "pycharm": {
     "name": "#%% md\n"
    }
   },
   "source": [
    "#### Check for possible NA values in the resulting dataframe"
   ]
  },
  {
   "cell_type": "code",
   "execution_count": 110,
   "metadata": {
    "pycharm": {
     "name": "#%%\n"
    }
   },
   "outputs": [
    {
     "data": {
      "text/plain": "Title          False\nYear           False\nAlbum.debut     True\nLead.vocal      True\ndtype: bool"
     },
     "execution_count": 110,
     "metadata": {},
     "output_type": "execute_result"
    }
   ],
   "source": [
    "songs.isnull().any()"
   ]
  },
  {
   "cell_type": "markdown",
   "metadata": {
    "pycharm": {
     "name": "#%% md\n"
    }
   },
   "source": [
    "There *are* NA values in the `Album.debut` and `Lead.vocal` columns."
   ]
  },
  {
   "cell_type": "markdown",
   "metadata": {
    "pycharm": {
     "name": "#%% md\n"
    }
   },
   "source": [
    "Check the songs with NA values in the `Album.debut` column and, for convenience, replace these NA values with `Unknown`:"
   ]
  },
  {
   "cell_type": "code",
   "execution_count": 111,
   "metadata": {
    "pycharm": {
     "name": "#%%\n"
    }
   },
   "outputs": [
    {
     "data": {
      "text/plain": "22"
     },
     "metadata": {},
     "output_type": "display_data"
    },
    {
     "data": {
      "text/plain": "8"
     },
     "metadata": {},
     "output_type": "display_data"
    },
    {
     "data": {
      "text/plain": "                         Title  Year Album.debut               Lead.vocal\n37                    Catswalk  1962         NaN                      NaN\n42                     Circles  1968         NaN                 Harrison\n64                    Etcetera  1968         NaN                McCartney\n85                     Goodbye  1969         NaN                McCartney\n89                     Heather  1968         NaN                McCartney\n112      I Lost My Little Girl  1962         NaN                   Lennon\n127    I'll Keep You Satisfied  1963         NaN  Lennon and/or McCartney\n150            Jazz Piano Song  1969         NaN                McCartney\n151             Jessie's Dream  1967         NaN                      NaN\n167              Looking Glass  1962         NaN                McCartney\n169          Love of the Loved  1962         NaN                McCartney\n174                     Madman  1969         NaN                   Lennon\n201         One and One Is Two  1964         NaN                McCartney\n223      September in the Rain  1962         NaN                McCartney\n227     Shakin' in the Sixties  1969         NaN                   Lennon\n240              Sour Milk Sea  1968         NaN                 Harrison\n246  Take Good Care of My Baby  1962         NaN                 Harrison\n264                 The Saints  1962         NaN                 Sheridan\n274           Tip of My Tongue  1962         NaN         McCartney/Lennon\n281          Watching Rainbows  1969         NaN                   Lennon\n291             Winston's Walk  1960         NaN                      NaN\n294                      Woman  1965         NaN                McCartney",
      "text/html": "<div>\n<style scoped>\n    .dataframe tbody tr th:only-of-type {\n        vertical-align: middle;\n    }\n\n    .dataframe tbody tr th {\n        vertical-align: top;\n    }\n\n    .dataframe thead th {\n        text-align: right;\n    }\n</style>\n<table border=\"1\" class=\"dataframe\">\n  <thead>\n    <tr style=\"text-align: right;\">\n      <th></th>\n      <th>Title</th>\n      <th>Year</th>\n      <th>Album.debut</th>\n      <th>Lead.vocal</th>\n    </tr>\n  </thead>\n  <tbody>\n    <tr>\n      <th>37</th>\n      <td>Catswalk</td>\n      <td>1962</td>\n      <td>NaN</td>\n      <td>NaN</td>\n    </tr>\n    <tr>\n      <th>42</th>\n      <td>Circles</td>\n      <td>1968</td>\n      <td>NaN</td>\n      <td>Harrison</td>\n    </tr>\n    <tr>\n      <th>64</th>\n      <td>Etcetera</td>\n      <td>1968</td>\n      <td>NaN</td>\n      <td>McCartney</td>\n    </tr>\n    <tr>\n      <th>85</th>\n      <td>Goodbye</td>\n      <td>1969</td>\n      <td>NaN</td>\n      <td>McCartney</td>\n    </tr>\n    <tr>\n      <th>89</th>\n      <td>Heather</td>\n      <td>1968</td>\n      <td>NaN</td>\n      <td>McCartney</td>\n    </tr>\n    <tr>\n      <th>112</th>\n      <td>I Lost My Little Girl</td>\n      <td>1962</td>\n      <td>NaN</td>\n      <td>Lennon</td>\n    </tr>\n    <tr>\n      <th>127</th>\n      <td>I'll Keep You Satisfied</td>\n      <td>1963</td>\n      <td>NaN</td>\n      <td>Lennon and/or McCartney</td>\n    </tr>\n    <tr>\n      <th>150</th>\n      <td>Jazz Piano Song</td>\n      <td>1969</td>\n      <td>NaN</td>\n      <td>McCartney</td>\n    </tr>\n    <tr>\n      <th>151</th>\n      <td>Jessie's Dream</td>\n      <td>1967</td>\n      <td>NaN</td>\n      <td>NaN</td>\n    </tr>\n    <tr>\n      <th>167</th>\n      <td>Looking Glass</td>\n      <td>1962</td>\n      <td>NaN</td>\n      <td>McCartney</td>\n    </tr>\n    <tr>\n      <th>169</th>\n      <td>Love of the Loved</td>\n      <td>1962</td>\n      <td>NaN</td>\n      <td>McCartney</td>\n    </tr>\n    <tr>\n      <th>174</th>\n      <td>Madman</td>\n      <td>1969</td>\n      <td>NaN</td>\n      <td>Lennon</td>\n    </tr>\n    <tr>\n      <th>201</th>\n      <td>One and One Is Two</td>\n      <td>1964</td>\n      <td>NaN</td>\n      <td>McCartney</td>\n    </tr>\n    <tr>\n      <th>223</th>\n      <td>September in the Rain</td>\n      <td>1962</td>\n      <td>NaN</td>\n      <td>McCartney</td>\n    </tr>\n    <tr>\n      <th>227</th>\n      <td>Shakin' in the Sixties</td>\n      <td>1969</td>\n      <td>NaN</td>\n      <td>Lennon</td>\n    </tr>\n    <tr>\n      <th>240</th>\n      <td>Sour Milk Sea</td>\n      <td>1968</td>\n      <td>NaN</td>\n      <td>Harrison</td>\n    </tr>\n    <tr>\n      <th>246</th>\n      <td>Take Good Care of My Baby</td>\n      <td>1962</td>\n      <td>NaN</td>\n      <td>Harrison</td>\n    </tr>\n    <tr>\n      <th>264</th>\n      <td>The Saints</td>\n      <td>1962</td>\n      <td>NaN</td>\n      <td>Sheridan</td>\n    </tr>\n    <tr>\n      <th>274</th>\n      <td>Tip of My Tongue</td>\n      <td>1962</td>\n      <td>NaN</td>\n      <td>McCartney/Lennon</td>\n    </tr>\n    <tr>\n      <th>281</th>\n      <td>Watching Rainbows</td>\n      <td>1969</td>\n      <td>NaN</td>\n      <td>Lennon</td>\n    </tr>\n    <tr>\n      <th>291</th>\n      <td>Winston's Walk</td>\n      <td>1960</td>\n      <td>NaN</td>\n      <td>NaN</td>\n    </tr>\n    <tr>\n      <th>294</th>\n      <td>Woman</td>\n      <td>1965</td>\n      <td>NaN</td>\n      <td>McCartney</td>\n    </tr>\n  </tbody>\n</table>\n</div>"
     },
     "metadata": {},
     "output_type": "display_data"
    },
    {
     "data": {
      "text/plain": "Empty DataFrame\nColumns: [Title, Year, Album.debut, Lead.vocal]\nIndex: []",
      "text/html": "<div>\n<style scoped>\n    .dataframe tbody tr th:only-of-type {\n        vertical-align: middle;\n    }\n\n    .dataframe tbody tr th {\n        vertical-align: top;\n    }\n\n    .dataframe thead th {\n        text-align: right;\n    }\n</style>\n<table border=\"1\" class=\"dataframe\">\n  <thead>\n    <tr style=\"text-align: right;\">\n      <th></th>\n      <th>Title</th>\n      <th>Year</th>\n      <th>Album.debut</th>\n      <th>Lead.vocal</th>\n    </tr>\n  </thead>\n  <tbody>\n  </tbody>\n</table>\n</div>"
     },
     "metadata": {},
     "output_type": "display_data"
    },
    {
     "data": {
      "text/plain": "0"
     },
     "metadata": {},
     "output_type": "display_data"
    },
    {
     "data": {
      "text/plain": "                         Title  Year Album.debut               Lead.vocal\n37                    Catswalk  1962     Unknown                      NaN\n42                     Circles  1968     Unknown                 Harrison\n64                    Etcetera  1968     Unknown                McCartney\n85                     Goodbye  1969     Unknown                McCartney\n89                     Heather  1968     Unknown                McCartney\n112      I Lost My Little Girl  1962     Unknown                   Lennon\n127    I'll Keep You Satisfied  1963     Unknown  Lennon and/or McCartney\n150            Jazz Piano Song  1969     Unknown                McCartney\n151             Jessie's Dream  1967     Unknown                      NaN\n167              Looking Glass  1962     Unknown                McCartney\n169          Love of the Loved  1962     Unknown                McCartney\n174                     Madman  1969     Unknown                   Lennon\n201         One and One Is Two  1964     Unknown                McCartney\n223      September in the Rain  1962     Unknown                McCartney\n227     Shakin' in the Sixties  1969     Unknown                   Lennon\n240              Sour Milk Sea  1968     Unknown                 Harrison\n246  Take Good Care of My Baby  1962     Unknown                 Harrison\n264                 The Saints  1962     Unknown                 Sheridan\n274           Tip of My Tongue  1962     Unknown         McCartney/Lennon\n281          Watching Rainbows  1969     Unknown                   Lennon\n291             Winston's Walk  1960     Unknown                      NaN\n294                      Woman  1965     Unknown                McCartney",
      "text/html": "<div>\n<style scoped>\n    .dataframe tbody tr th:only-of-type {\n        vertical-align: middle;\n    }\n\n    .dataframe tbody tr th {\n        vertical-align: top;\n    }\n\n    .dataframe thead th {\n        text-align: right;\n    }\n</style>\n<table border=\"1\" class=\"dataframe\">\n  <thead>\n    <tr style=\"text-align: right;\">\n      <th></th>\n      <th>Title</th>\n      <th>Year</th>\n      <th>Album.debut</th>\n      <th>Lead.vocal</th>\n    </tr>\n  </thead>\n  <tbody>\n    <tr>\n      <th>37</th>\n      <td>Catswalk</td>\n      <td>1962</td>\n      <td>Unknown</td>\n      <td>NaN</td>\n    </tr>\n    <tr>\n      <th>42</th>\n      <td>Circles</td>\n      <td>1968</td>\n      <td>Unknown</td>\n      <td>Harrison</td>\n    </tr>\n    <tr>\n      <th>64</th>\n      <td>Etcetera</td>\n      <td>1968</td>\n      <td>Unknown</td>\n      <td>McCartney</td>\n    </tr>\n    <tr>\n      <th>85</th>\n      <td>Goodbye</td>\n      <td>1969</td>\n      <td>Unknown</td>\n      <td>McCartney</td>\n    </tr>\n    <tr>\n      <th>89</th>\n      <td>Heather</td>\n      <td>1968</td>\n      <td>Unknown</td>\n      <td>McCartney</td>\n    </tr>\n    <tr>\n      <th>112</th>\n      <td>I Lost My Little Girl</td>\n      <td>1962</td>\n      <td>Unknown</td>\n      <td>Lennon</td>\n    </tr>\n    <tr>\n      <th>127</th>\n      <td>I'll Keep You Satisfied</td>\n      <td>1963</td>\n      <td>Unknown</td>\n      <td>Lennon and/or McCartney</td>\n    </tr>\n    <tr>\n      <th>150</th>\n      <td>Jazz Piano Song</td>\n      <td>1969</td>\n      <td>Unknown</td>\n      <td>McCartney</td>\n    </tr>\n    <tr>\n      <th>151</th>\n      <td>Jessie's Dream</td>\n      <td>1967</td>\n      <td>Unknown</td>\n      <td>NaN</td>\n    </tr>\n    <tr>\n      <th>167</th>\n      <td>Looking Glass</td>\n      <td>1962</td>\n      <td>Unknown</td>\n      <td>McCartney</td>\n    </tr>\n    <tr>\n      <th>169</th>\n      <td>Love of the Loved</td>\n      <td>1962</td>\n      <td>Unknown</td>\n      <td>McCartney</td>\n    </tr>\n    <tr>\n      <th>174</th>\n      <td>Madman</td>\n      <td>1969</td>\n      <td>Unknown</td>\n      <td>Lennon</td>\n    </tr>\n    <tr>\n      <th>201</th>\n      <td>One and One Is Two</td>\n      <td>1964</td>\n      <td>Unknown</td>\n      <td>McCartney</td>\n    </tr>\n    <tr>\n      <th>223</th>\n      <td>September in the Rain</td>\n      <td>1962</td>\n      <td>Unknown</td>\n      <td>McCartney</td>\n    </tr>\n    <tr>\n      <th>227</th>\n      <td>Shakin' in the Sixties</td>\n      <td>1969</td>\n      <td>Unknown</td>\n      <td>Lennon</td>\n    </tr>\n    <tr>\n      <th>240</th>\n      <td>Sour Milk Sea</td>\n      <td>1968</td>\n      <td>Unknown</td>\n      <td>Harrison</td>\n    </tr>\n    <tr>\n      <th>246</th>\n      <td>Take Good Care of My Baby</td>\n      <td>1962</td>\n      <td>Unknown</td>\n      <td>Harrison</td>\n    </tr>\n    <tr>\n      <th>264</th>\n      <td>The Saints</td>\n      <td>1962</td>\n      <td>Unknown</td>\n      <td>Sheridan</td>\n    </tr>\n    <tr>\n      <th>274</th>\n      <td>Tip of My Tongue</td>\n      <td>1962</td>\n      <td>Unknown</td>\n      <td>McCartney/Lennon</td>\n    </tr>\n    <tr>\n      <th>281</th>\n      <td>Watching Rainbows</td>\n      <td>1969</td>\n      <td>Unknown</td>\n      <td>Lennon</td>\n    </tr>\n    <tr>\n      <th>291</th>\n      <td>Winston's Walk</td>\n      <td>1960</td>\n      <td>Unknown</td>\n      <td>NaN</td>\n    </tr>\n    <tr>\n      <th>294</th>\n      <td>Woman</td>\n      <td>1965</td>\n      <td>Unknown</td>\n      <td>McCartney</td>\n    </tr>\n  </tbody>\n</table>\n</div>"
     },
     "metadata": {},
     "output_type": "display_data"
    }
   ],
   "source": [
    "# songs[songs['Album.debut'].isnull()].head()\n",
    "display(len(songs[songs['Album.debut'].isnull()]))           # the number of rows with NA values in the Album.debut column\n",
    "display(len(songs[songs['Lead.vocal'].isnull()]))            # the number of rows with NA values in the Lead.vocal column\n",
    "\n",
    "display(songs[songs['Album.debut'].isnull()])                # check what are the songs with NA for Album.debut\n",
    "# For convenience, \n",
    "# replace the NA values in the Album.debut column \n",
    "# with 'Unknown'\n",
    "# songs[songs['Album.debut'].isnull()]['Album.debut'] = \\    # not recommended; throws warnings\n",
    "#     'Unknown'\n",
    "songs.loc[songs['Album.debut'].isnull(), 'Album.debut'] = \\\n",
    "    'Unknown'\n",
    "display(songs[songs['Album.debut'].isnull()])                # verify that there are no more NA values in the Album.debut column\n",
    "display(len(songs[songs['Album.debut'].isnull()]))\n",
    "display(songs[songs['Album.debut'] == 'Unknown'])"
   ]
  },
  {
   "cell_type": "markdown",
   "metadata": {
    "pycharm": {
     "name": "#%% md\n"
    }
   },
   "source": [
    "Check the songs with NA values in the `Lead.vocal` column and, for convenience, replace these NA values with `Instrumental/Unknown`:"
   ]
  },
  {
   "cell_type": "code",
   "execution_count": 112,
   "metadata": {
    "scrolled": true,
    "pycharm": {
     "name": "#%%\n"
    }
   },
   "outputs": [
    {
     "data": {
      "text/plain": "                Title  Year           Album.debut Lead.vocal\n0     12-Bar Original  1965           Anthology 2        NaN\n37           Catswalk  1962               Unknown        NaN\n38            Cayenne  1960           Anthology 1        NaN\n47   Cry for a Shadow  1961           Anthology 1        NaN\n70             Flying  1967  Magical Mystery Tour        NaN\n151    Jessie's Dream  1967               Unknown        NaN\n214      Revolution 9  1968           The Beatles        NaN\n291    Winston's Walk  1960               Unknown        NaN",
      "text/html": "<div>\n<style scoped>\n    .dataframe tbody tr th:only-of-type {\n        vertical-align: middle;\n    }\n\n    .dataframe tbody tr th {\n        vertical-align: top;\n    }\n\n    .dataframe thead th {\n        text-align: right;\n    }\n</style>\n<table border=\"1\" class=\"dataframe\">\n  <thead>\n    <tr style=\"text-align: right;\">\n      <th></th>\n      <th>Title</th>\n      <th>Year</th>\n      <th>Album.debut</th>\n      <th>Lead.vocal</th>\n    </tr>\n  </thead>\n  <tbody>\n    <tr>\n      <th>0</th>\n      <td>12-Bar Original</td>\n      <td>1965</td>\n      <td>Anthology 2</td>\n      <td>NaN</td>\n    </tr>\n    <tr>\n      <th>37</th>\n      <td>Catswalk</td>\n      <td>1962</td>\n      <td>Unknown</td>\n      <td>NaN</td>\n    </tr>\n    <tr>\n      <th>38</th>\n      <td>Cayenne</td>\n      <td>1960</td>\n      <td>Anthology 1</td>\n      <td>NaN</td>\n    </tr>\n    <tr>\n      <th>47</th>\n      <td>Cry for a Shadow</td>\n      <td>1961</td>\n      <td>Anthology 1</td>\n      <td>NaN</td>\n    </tr>\n    <tr>\n      <th>70</th>\n      <td>Flying</td>\n      <td>1967</td>\n      <td>Magical Mystery Tour</td>\n      <td>NaN</td>\n    </tr>\n    <tr>\n      <th>151</th>\n      <td>Jessie's Dream</td>\n      <td>1967</td>\n      <td>Unknown</td>\n      <td>NaN</td>\n    </tr>\n    <tr>\n      <th>214</th>\n      <td>Revolution 9</td>\n      <td>1968</td>\n      <td>The Beatles</td>\n      <td>NaN</td>\n    </tr>\n    <tr>\n      <th>291</th>\n      <td>Winston's Walk</td>\n      <td>1960</td>\n      <td>Unknown</td>\n      <td>NaN</td>\n    </tr>\n  </tbody>\n</table>\n</div>"
     },
     "metadata": {},
     "output_type": "display_data"
    },
    {
     "data": {
      "text/plain": "Empty DataFrame\nColumns: [Title, Year, Album.debut, Lead.vocal]\nIndex: []",
      "text/html": "<div>\n<style scoped>\n    .dataframe tbody tr th:only-of-type {\n        vertical-align: middle;\n    }\n\n    .dataframe tbody tr th {\n        vertical-align: top;\n    }\n\n    .dataframe thead th {\n        text-align: right;\n    }\n</style>\n<table border=\"1\" class=\"dataframe\">\n  <thead>\n    <tr style=\"text-align: right;\">\n      <th></th>\n      <th>Title</th>\n      <th>Year</th>\n      <th>Album.debut</th>\n      <th>Lead.vocal</th>\n    </tr>\n  </thead>\n  <tbody>\n  </tbody>\n</table>\n</div>"
     },
     "metadata": {},
     "output_type": "display_data"
    },
    {
     "data": {
      "text/plain": "0"
     },
     "metadata": {},
     "output_type": "display_data"
    },
    {
     "data": {
      "text/plain": "                Title  Year           Album.debut            Lead.vocal\n0     12-Bar Original  1965           Anthology 2  Instrumental/Unknown\n37           Catswalk  1962               Unknown  Instrumental/Unknown\n38            Cayenne  1960           Anthology 1  Instrumental/Unknown\n47   Cry for a Shadow  1961           Anthology 1  Instrumental/Unknown\n70             Flying  1967  Magical Mystery Tour  Instrumental/Unknown\n151    Jessie's Dream  1967               Unknown  Instrumental/Unknown\n214      Revolution 9  1968           The Beatles  Instrumental/Unknown\n291    Winston's Walk  1960               Unknown  Instrumental/Unknown",
      "text/html": "<div>\n<style scoped>\n    .dataframe tbody tr th:only-of-type {\n        vertical-align: middle;\n    }\n\n    .dataframe tbody tr th {\n        vertical-align: top;\n    }\n\n    .dataframe thead th {\n        text-align: right;\n    }\n</style>\n<table border=\"1\" class=\"dataframe\">\n  <thead>\n    <tr style=\"text-align: right;\">\n      <th></th>\n      <th>Title</th>\n      <th>Year</th>\n      <th>Album.debut</th>\n      <th>Lead.vocal</th>\n    </tr>\n  </thead>\n  <tbody>\n    <tr>\n      <th>0</th>\n      <td>12-Bar Original</td>\n      <td>1965</td>\n      <td>Anthology 2</td>\n      <td>Instrumental/Unknown</td>\n    </tr>\n    <tr>\n      <th>37</th>\n      <td>Catswalk</td>\n      <td>1962</td>\n      <td>Unknown</td>\n      <td>Instrumental/Unknown</td>\n    </tr>\n    <tr>\n      <th>38</th>\n      <td>Cayenne</td>\n      <td>1960</td>\n      <td>Anthology 1</td>\n      <td>Instrumental/Unknown</td>\n    </tr>\n    <tr>\n      <th>47</th>\n      <td>Cry for a Shadow</td>\n      <td>1961</td>\n      <td>Anthology 1</td>\n      <td>Instrumental/Unknown</td>\n    </tr>\n    <tr>\n      <th>70</th>\n      <td>Flying</td>\n      <td>1967</td>\n      <td>Magical Mystery Tour</td>\n      <td>Instrumental/Unknown</td>\n    </tr>\n    <tr>\n      <th>151</th>\n      <td>Jessie's Dream</td>\n      <td>1967</td>\n      <td>Unknown</td>\n      <td>Instrumental/Unknown</td>\n    </tr>\n    <tr>\n      <th>214</th>\n      <td>Revolution 9</td>\n      <td>1968</td>\n      <td>The Beatles</td>\n      <td>Instrumental/Unknown</td>\n    </tr>\n    <tr>\n      <th>291</th>\n      <td>Winston's Walk</td>\n      <td>1960</td>\n      <td>Unknown</td>\n      <td>Instrumental/Unknown</td>\n    </tr>\n  </tbody>\n</table>\n</div>"
     },
     "metadata": {},
     "output_type": "display_data"
    }
   ],
   "source": [
    "display(songs[songs['Lead.vocal'].isnull()])                 # check what are the songs with NA for Lead.vocal\n",
    "# For convenience, \n",
    "# replace the NA values in the Lead.vocal column \n",
    "# with 'Instrumental/Unknown'\n",
    "# songs[songs['Lead.vocal'].isnull()]['Lead.vocal'] = \\      # not recommended; throws warnings\n",
    "#     'Unknown'\n",
    "songs.loc[songs['Lead.vocal'].isnull(), 'Lead.vocal'] = \\\n",
    "    'Instrumental/Unknown'\n",
    "display(songs[songs['Lead.vocal'].isnull()])                 # verify that there are no more NA values in the Lead.vocal column\n",
    "display(len(songs[songs['Lead.vocal'].isnull()]))\n",
    "display(songs[songs['Lead.vocal'] == 'Instrumental/Unknown'])"
   ]
  },
  {
   "cell_type": "markdown",
   "metadata": {
    "pycharm": {
     "name": "#%% md\n"
    }
   },
   "source": [
    "Check the entire dataframe for NA values again:"
   ]
  },
  {
   "cell_type": "code",
   "execution_count": 113,
   "metadata": {
    "scrolled": true,
    "pycharm": {
     "name": "#%%\n"
    }
   },
   "outputs": [
    {
     "data": {
      "text/plain": "Title          False\nYear           False\nAlbum.debut    False\nLead.vocal     False\ndtype: bool"
     },
     "execution_count": 113,
     "metadata": {},
     "output_type": "execute_result"
    }
   ],
   "source": [
    "songs.isnull().any()"
   ]
  },
  {
   "cell_type": "markdown",
   "metadata": {
    "pycharm": {
     "name": "#%% md\n"
    }
   },
   "source": [
    "No more NA values."
   ]
  },
  {
   "cell_type": "markdown",
   "metadata": {
    "pycharm": {
     "name": "#%% md\n"
    }
   },
   "source": [
    "#### Select the relevant subset of the dataframe"
   ]
  },
  {
   "cell_type": "code",
   "execution_count": 114,
   "metadata": {
    "scrolled": true,
    "pycharm": {
     "name": "#%%\n"
    }
   },
   "outputs": [
    {
     "data": {
      "text/plain": "                        Title  Year  \\\n0             12-Bar Original  1965   \n2          A Hard Day's Night  1964   \n3  A Shot of Rhythm and Blues  1963   \n4            A Taste of Honey  1963   \n6               Act Naturally  1965   \n\n                                  Album.debut              Lead.vocal  \n0                                 Anthology 2    Instrumental/Unknown  \n2        UK: A Hard Day's Night US: 1962-1966  Lennon, with McCartney  \n3                             Live at the BBC                  Lennon  \n4  UK: Please Please Me US: The Early Beatles               McCartney  \n6           UK: Help! US: Yesterday and Today                 Starkey  ",
      "text/html": "<div>\n<style scoped>\n    .dataframe tbody tr th:only-of-type {\n        vertical-align: middle;\n    }\n\n    .dataframe tbody tr th {\n        vertical-align: top;\n    }\n\n    .dataframe thead th {\n        text-align: right;\n    }\n</style>\n<table border=\"1\" class=\"dataframe\">\n  <thead>\n    <tr style=\"text-align: right;\">\n      <th></th>\n      <th>Title</th>\n      <th>Year</th>\n      <th>Album.debut</th>\n      <th>Lead.vocal</th>\n    </tr>\n  </thead>\n  <tbody>\n    <tr>\n      <th>0</th>\n      <td>12-Bar Original</td>\n      <td>1965</td>\n      <td>Anthology 2</td>\n      <td>Instrumental/Unknown</td>\n    </tr>\n    <tr>\n      <th>2</th>\n      <td>A Hard Day's Night</td>\n      <td>1964</td>\n      <td>UK: A Hard Day's Night US: 1962-1966</td>\n      <td>Lennon, with McCartney</td>\n    </tr>\n    <tr>\n      <th>3</th>\n      <td>A Shot of Rhythm and Blues</td>\n      <td>1963</td>\n      <td>Live at the BBC</td>\n      <td>Lennon</td>\n    </tr>\n    <tr>\n      <th>4</th>\n      <td>A Taste of Honey</td>\n      <td>1963</td>\n      <td>UK: Please Please Me US: The Early Beatles</td>\n      <td>McCartney</td>\n    </tr>\n    <tr>\n      <th>6</th>\n      <td>Act Naturally</td>\n      <td>1965</td>\n      <td>UK: Help! US: Yesterday and Today</td>\n      <td>Starkey</td>\n    </tr>\n  </tbody>\n</table>\n</div>"
     },
     "metadata": {},
     "output_type": "display_data"
    },
    {
     "data": {
      "text/plain": "185"
     },
     "metadata": {},
     "output_type": "display_data"
    }
   ],
   "source": [
    "songs = songs[(songs['Year'] >= 1962) & (songs['Year'] <= 1966)]\n",
    "display(songs.head())\n",
    "display(len(songs))"
   ]
  },
  {
   "cell_type": "markdown",
   "metadata": {
    "pycharm": {
     "name": "#%% md\n"
    }
   },
   "source": [
    "An alternative way to do it is to use the [`groupby()-get_group()` approach](#get_group()) and then [`pd.concat()`](#pd.concat()) the groups for the relevant years."
   ]
  },
  {
   "cell_type": "markdown",
   "metadata": {
    "pycharm": {
     "name": "#%% md\n"
    }
   },
   "source": [
    "#### Compute the rank"
   ]
  },
  {
   "cell_type": "markdown",
   "metadata": {
    "pycharm": {
     "name": "#%% md\n"
    }
   },
   "source": [
    "Modify the `Album.debut` column to contain only the titles of the UK releases (**<u>note the use of</u> `pd.DataFrame.str.rpartition()`, `pd.DataFrame.str.rstrip()` and `pd.DataFrame.str.lstrip()`** to split the album titles, similarly to using `pd.DataFrame.str.startswith()` below; based on [this](https://stackoverflow.com/a/17958424); check also [`rpartition()` documentation](https://docs.python.org/3/library/stdtypes.html#str.rpartition) for the explanation of how `rpartition()` works, as well as [this](https://stackoverflow.com/a/21844040) for the explanation of how `find()` works):"
   ]
  },
  {
   "cell_type": "code",
   "execution_count": 115,
   "metadata": {
    "scrolled": false,
    "pycharm": {
     "name": "#%%\n"
    }
   },
   "outputs": [],
   "source": [
    "# display(songs['Album.debut'])\n",
    "# display(songs['Album.debut'].str.find('US:'))\n",
    "# display(list(songs['Album.debut'].str.find('US:')))\n",
    "\n",
    "# s = pd.read_csv('data/The Beatles songs dataset, v1, no NAs.csv')\n",
    "# display(list(s['Album.debut']))\n",
    "\n",
    "# display(len(songs['Album.debut'].str.find('US:')))\n",
    "# display(songs.loc[songs['Album.debut'].str.find('US:') != -1, 'Album.debut'])\n",
    "\n",
    "uk_album = songs['Album.debut'].str.find('US:')\n",
    "uk_album.head()\n",
    "songs.loc[uk_album != -1, 'Album.debut'] = \\\n",
    "    songs.loc[uk_album != -1, 'Album.debut'].str.rpartition('US:')[0].str.rstrip().str.lstrip('UK: ')"
   ]
  },
  {
   "cell_type": "markdown",
   "metadata": {
    "pycharm": {
     "name": "#%% md\n"
    }
   },
   "source": [
    "The warning possibly thrown in the above cell apparently has no effect - see [this](https://stackoverflow.com/a/27367693/1899061) and [this](https://stackoverflow.com/a/23296545/1899061)."
   ]
  },
  {
   "cell_type": "code",
   "execution_count": 116,
   "metadata": {
    "pycharm": {
     "name": "#%%\n"
    }
   },
   "outputs": [
    {
     "data": {
      "text/plain": "2    A Hard Day's Night\n4      Please Please Me\n6                 Help!\n8      With the Beatles\n9      With the Beatles\nName: Album.debut, dtype: object"
     },
     "metadata": {},
     "output_type": "display_data"
    },
    {
     "data": {
      "text/plain": "Int64Index([  2,   4,   6,   8,   9,  13,  14,  15,  17,  18,  19,  20,  23,\n             32,  34,  39,  49,  51,  54,  55,  56,  57,  61,  62,  65,  67,\n             74, 100, 101, 105, 106, 107, 115, 116, 117, 118, 122, 124, 125,\n            126, 128, 131, 134, 141, 142, 143, 147, 149, 155, 157, 163, 165,\n            168, 179, 184, 185, 188, 190, 192, 195, 204, 205, 208, 209, 211,\n            217, 219, 229, 231, 234, 235, 250, 251, 252, 267, 268, 270, 273,\n            278, 282, 283, 284, 286, 295, 298, 299, 300, 303, 309],\n           dtype='int64')"
     },
     "metadata": {},
     "output_type": "display_data"
    },
    {
     "data": {
      "text/plain": "2    A Hard Day's Night\n4      Please Please Me\n6                 Help!\nName: Album.debut, dtype: object"
     },
     "metadata": {},
     "output_type": "display_data"
    },
    {
     "data": {
      "text/plain": "2      A Hard Day's Night\n4        Please Please Me\n6                   Help!\n8        With the Beatles\n9        With the Beatles\n              ...        \n298              Rarities\n299                 Help!\n300    A Hard Day's Night\n303                 Help!\n309      With the Beatles\nName: Album.debut, Length: 89, dtype: object"
     },
     "metadata": {},
     "output_type": "display_data"
    }
   ],
   "source": [
    "display(songs.loc[uk_album != -1, 'Album.debut'].head())\n",
    "display(songs.loc[uk_album != -1, 'Album.debut'].index)\n",
    "display(songs.loc[[2, 4, 6], 'Album.debut'].head())\n",
    "rows = songs.loc[uk_album != -1, 'Album.debut'].index\n",
    "display(songs.loc[rows, 'Album.debut'])"
   ]
  },
  {
   "cell_type": "code",
   "execution_count": 118,
   "metadata": {
    "pycharm": {
     "name": "#%%\n"
    }
   },
   "outputs": [
    {
     "data": {
      "text/plain": "0             Anthology 2\n2      A Hard Day's Night\n3         Live at the BBC\n4        Please Please Me\n6                   Help!\n              ...        \n305           Rubber Soul\n307                 Help!\n308                 Help!\n309      With the Beatles\n310       Live at the BBC\nName: Album.debut, Length: 185, dtype: object"
     },
     "execution_count": 118,
     "metadata": {},
     "output_type": "execute_result"
    }
   ],
   "source": [
    "len(songs['Album.debut'])\n",
    "songs['Album.debut']"
   ]
  },
  {
   "cell_type": "markdown",
   "metadata": {
    "pycharm": {
     "name": "#%% md\n"
    }
   },
   "source": [
    "Sort the songs according to the `Album.debut` column; based on [this](https://stackoverflow.com/questions/37787698/how-to-sort-pandas-dataframe-from-one-column):"
   ]
  },
  {
   "cell_type": "code",
   "execution_count": 119,
   "metadata": {
    "pycharm": {
     "name": "#%%\n"
    }
   },
   "outputs": [],
   "source": [
    "# songs.sort_values('Album.debut', inplace=True)                 # throws a warning, so better use the next line\n",
    "songs = songs.sort_values('Album.debut')"
   ]
  },
  {
   "cell_type": "code",
   "execution_count": 120,
   "metadata": {
    "pycharm": {
     "name": "#%%\n"
    }
   },
   "outputs": [
    {
     "data": {
      "text/plain": "                          Title  Year                     Album.debut  \\\n74               From Me to You  1963  A Collection of Beatles Oldies   \n229               She Loves You  1963  A Collection of Beatles Oldies   \n205            Paperback Writer  1966  A Collection of Beatles Oldies   \n49                  Day Tripper  1965  A Collection of Beatles Oldies   \n107                 I Feel Fine  1964  A Collection of Beatles Oldies   \n..                          ...   ...                             ...   \n51           Devil in Her Heart  1963                With the Beatles   \n219         Roll Over Beethoven  1963                With the Beatles   \n57              Don't Bother Me  1963                With the Beatles   \n185  Money (That's What I Want)  1963                With the Beatles   \n163                Little Child  1963                With the Beatles   \n\n               Lead.vocal  \n74   Lennon and McCartney  \n229  Lennon and McCartney  \n205             McCartney  \n49   Lennon and McCartney  \n107                Lennon  \n..                    ...  \n51               Harrison  \n219              Harrison  \n57               Harrison  \n185                Lennon  \n163  Lennon and McCartney  \n\n[185 rows x 4 columns]",
      "text/html": "<div>\n<style scoped>\n    .dataframe tbody tr th:only-of-type {\n        vertical-align: middle;\n    }\n\n    .dataframe tbody tr th {\n        vertical-align: top;\n    }\n\n    .dataframe thead th {\n        text-align: right;\n    }\n</style>\n<table border=\"1\" class=\"dataframe\">\n  <thead>\n    <tr style=\"text-align: right;\">\n      <th></th>\n      <th>Title</th>\n      <th>Year</th>\n      <th>Album.debut</th>\n      <th>Lead.vocal</th>\n    </tr>\n  </thead>\n  <tbody>\n    <tr>\n      <th>74</th>\n      <td>From Me to You</td>\n      <td>1963</td>\n      <td>A Collection of Beatles Oldies</td>\n      <td>Lennon and McCartney</td>\n    </tr>\n    <tr>\n      <th>229</th>\n      <td>She Loves You</td>\n      <td>1963</td>\n      <td>A Collection of Beatles Oldies</td>\n      <td>Lennon and McCartney</td>\n    </tr>\n    <tr>\n      <th>205</th>\n      <td>Paperback Writer</td>\n      <td>1966</td>\n      <td>A Collection of Beatles Oldies</td>\n      <td>McCartney</td>\n    </tr>\n    <tr>\n      <th>49</th>\n      <td>Day Tripper</td>\n      <td>1965</td>\n      <td>A Collection of Beatles Oldies</td>\n      <td>Lennon and McCartney</td>\n    </tr>\n    <tr>\n      <th>107</th>\n      <td>I Feel Fine</td>\n      <td>1964</td>\n      <td>A Collection of Beatles Oldies</td>\n      <td>Lennon</td>\n    </tr>\n    <tr>\n      <th>...</th>\n      <td>...</td>\n      <td>...</td>\n      <td>...</td>\n      <td>...</td>\n    </tr>\n    <tr>\n      <th>51</th>\n      <td>Devil in Her Heart</td>\n      <td>1963</td>\n      <td>With the Beatles</td>\n      <td>Harrison</td>\n    </tr>\n    <tr>\n      <th>219</th>\n      <td>Roll Over Beethoven</td>\n      <td>1963</td>\n      <td>With the Beatles</td>\n      <td>Harrison</td>\n    </tr>\n    <tr>\n      <th>57</th>\n      <td>Don't Bother Me</td>\n      <td>1963</td>\n      <td>With the Beatles</td>\n      <td>Harrison</td>\n    </tr>\n    <tr>\n      <th>185</th>\n      <td>Money (That's What I Want)</td>\n      <td>1963</td>\n      <td>With the Beatles</td>\n      <td>Lennon</td>\n    </tr>\n    <tr>\n      <th>163</th>\n      <td>Little Child</td>\n      <td>1963</td>\n      <td>With the Beatles</td>\n      <td>Lennon and McCartney</td>\n    </tr>\n  </tbody>\n</table>\n<p>185 rows × 4 columns</p>\n</div>"
     },
     "execution_count": 120,
     "metadata": {},
     "output_type": "execute_result"
    }
   ],
   "source": [
    "songs"
   ]
  },
  {
   "cell_type": "markdown",
   "metadata": {
    "pycharm": {
     "name": "#%% md\n"
    }
   },
   "source": [
    "Re-index the dataframe, for convenience (optional). Use the Album.debut column as the new index:"
   ]
  },
  {
   "cell_type": "code",
   "execution_count": 121,
   "metadata": {
    "pycharm": {
     "name": "#%%\n"
    }
   },
   "outputs": [
    {
     "data": {
      "text/plain": "Index(['Title', 'Year', 'Album.debut', 'Lead.vocal'], dtype='object')"
     },
     "metadata": {},
     "output_type": "display_data"
    },
    {
     "data": {
      "text/plain": "                                           Title  Year            Lead.vocal\nAlbum.debut                                                                 \nA Collection of Beatles Oldies    From Me to You  1963  Lennon and McCartney\nA Collection of Beatles Oldies     She Loves You  1963  Lennon and McCartney\nA Collection of Beatles Oldies  Paperback Writer  1966             McCartney\nA Collection of Beatles Oldies       Day Tripper  1965  Lennon and McCartney\nA Collection of Beatles Oldies       I Feel Fine  1964                Lennon",
      "text/html": "<div>\n<style scoped>\n    .dataframe tbody tr th:only-of-type {\n        vertical-align: middle;\n    }\n\n    .dataframe tbody tr th {\n        vertical-align: top;\n    }\n\n    .dataframe thead th {\n        text-align: right;\n    }\n</style>\n<table border=\"1\" class=\"dataframe\">\n  <thead>\n    <tr style=\"text-align: right;\">\n      <th></th>\n      <th>Title</th>\n      <th>Year</th>\n      <th>Lead.vocal</th>\n    </tr>\n    <tr>\n      <th>Album.debut</th>\n      <th></th>\n      <th></th>\n      <th></th>\n    </tr>\n  </thead>\n  <tbody>\n    <tr>\n      <th>A Collection of Beatles Oldies</th>\n      <td>From Me to You</td>\n      <td>1963</td>\n      <td>Lennon and McCartney</td>\n    </tr>\n    <tr>\n      <th>A Collection of Beatles Oldies</th>\n      <td>She Loves You</td>\n      <td>1963</td>\n      <td>Lennon and McCartney</td>\n    </tr>\n    <tr>\n      <th>A Collection of Beatles Oldies</th>\n      <td>Paperback Writer</td>\n      <td>1966</td>\n      <td>McCartney</td>\n    </tr>\n    <tr>\n      <th>A Collection of Beatles Oldies</th>\n      <td>Day Tripper</td>\n      <td>1965</td>\n      <td>Lennon and McCartney</td>\n    </tr>\n    <tr>\n      <th>A Collection of Beatles Oldies</th>\n      <td>I Feel Fine</td>\n      <td>1964</td>\n      <td>Lennon</td>\n    </tr>\n  </tbody>\n</table>\n</div>"
     },
     "metadata": {},
     "output_type": "display_data"
    }
   ],
   "source": [
    "display(songs.columns)\n",
    "songs.set_index('Album.debut', inplace=True)\n",
    "display(songs.head())                                                                 # pretty display"
   ]
  },
  {
   "cell_type": "markdown",
   "metadata": {
    "pycharm": {
     "name": "#%% md\n"
    }
   },
   "source": [
    "Play a little with the newly arranged `songs` dataframe; somewhat based on [this](https://stackoverflow.com/questions/15943769/how-do-i-get-the-row-count-of-a-pandas-dataframe):"
   ]
  },
  {
   "cell_type": "code",
   "execution_count": 122,
   "metadata": {
    "pycharm": {
     "name": "#%%\n"
    }
   },
   "outputs": [
    {
     "data": {
      "text/plain": "185"
     },
     "metadata": {},
     "output_type": "display_data"
    },
    {
     "data": {
      "text/plain": "185"
     },
     "metadata": {},
     "output_type": "display_data"
    },
    {
     "data": {
      "text/plain": "185"
     },
     "metadata": {},
     "output_type": "display_data"
    },
    {
     "name": "stdout",
     "output_type": "stream",
     "text": [
      "\n"
     ]
    },
    {
     "data": {
      "text/plain": "8"
     },
     "metadata": {},
     "output_type": "display_data"
    },
    {
     "data": {
      "text/plain": "                                                   Title  Year  \\\nAlbum.debut                                                      \nA Collection of Beatles Oldies            From Me to You  1963   \nA Collection of Beatles Oldies             She Loves You  1963   \nA Collection of Beatles Oldies          Paperback Writer  1966   \nA Collection of Beatles Oldies               Day Tripper  1965   \nA Collection of Beatles Oldies               I Feel Fine  1964   \nA Collection of Beatles Oldies        We Can Work It Out  1965   \nA Collection of Beatles Oldies                   Bad Boy  1965   \nA Collection of Beatles Oldies  I Want to Hold Your Hand  1963   \n\n                                            Lead.vocal  \nAlbum.debut                                             \nA Collection of Beatles Oldies    Lennon and McCartney  \nA Collection of Beatles Oldies    Lennon and McCartney  \nA Collection of Beatles Oldies               McCartney  \nA Collection of Beatles Oldies    Lennon and McCartney  \nA Collection of Beatles Oldies                  Lennon  \nA Collection of Beatles Oldies  McCartney, with Lennon  \nA Collection of Beatles Oldies                  Lennon  \nA Collection of Beatles Oldies    Lennon and McCartney  ",
      "text/html": "<div>\n<style scoped>\n    .dataframe tbody tr th:only-of-type {\n        vertical-align: middle;\n    }\n\n    .dataframe tbody tr th {\n        vertical-align: top;\n    }\n\n    .dataframe thead th {\n        text-align: right;\n    }\n</style>\n<table border=\"1\" class=\"dataframe\">\n  <thead>\n    <tr style=\"text-align: right;\">\n      <th></th>\n      <th>Title</th>\n      <th>Year</th>\n      <th>Lead.vocal</th>\n    </tr>\n    <tr>\n      <th>Album.debut</th>\n      <th></th>\n      <th></th>\n      <th></th>\n    </tr>\n  </thead>\n  <tbody>\n    <tr>\n      <th>A Collection of Beatles Oldies</th>\n      <td>From Me to You</td>\n      <td>1963</td>\n      <td>Lennon and McCartney</td>\n    </tr>\n    <tr>\n      <th>A Collection of Beatles Oldies</th>\n      <td>She Loves You</td>\n      <td>1963</td>\n      <td>Lennon and McCartney</td>\n    </tr>\n    <tr>\n      <th>A Collection of Beatles Oldies</th>\n      <td>Paperback Writer</td>\n      <td>1966</td>\n      <td>McCartney</td>\n    </tr>\n    <tr>\n      <th>A Collection of Beatles Oldies</th>\n      <td>Day Tripper</td>\n      <td>1965</td>\n      <td>Lennon and McCartney</td>\n    </tr>\n    <tr>\n      <th>A Collection of Beatles Oldies</th>\n      <td>I Feel Fine</td>\n      <td>1964</td>\n      <td>Lennon</td>\n    </tr>\n    <tr>\n      <th>A Collection of Beatles Oldies</th>\n      <td>We Can Work It Out</td>\n      <td>1965</td>\n      <td>McCartney, with Lennon</td>\n    </tr>\n    <tr>\n      <th>A Collection of Beatles Oldies</th>\n      <td>Bad Boy</td>\n      <td>1965</td>\n      <td>Lennon</td>\n    </tr>\n    <tr>\n      <th>A Collection of Beatles Oldies</th>\n      <td>I Want to Hold Your Hand</td>\n      <td>1963</td>\n      <td>Lennon and McCartney</td>\n    </tr>\n  </tbody>\n</table>\n</div>"
     },
     "metadata": {},
     "output_type": "display_data"
    },
    {
     "data": {
      "text/plain": "pandas.core.frame.DataFrame"
     },
     "metadata": {},
     "output_type": "display_data"
    },
    {
     "name": "stdout",
     "output_type": "stream",
     "text": [
      "\n"
     ]
    },
    {
     "data": {
      "text/plain": "3"
     },
     "metadata": {},
     "output_type": "display_data"
    },
    {
     "data": {
      "text/plain": "Title         When I'm Sixty-Four\nYear                         1966\nLead.vocal              McCartney\nName: Sgt. Pepper's Lonely Hearts Club Band, dtype: object"
     },
     "metadata": {},
     "output_type": "display_data"
    },
    {
     "data": {
      "text/plain": "pandas.core.series.Series"
     },
     "metadata": {},
     "output_type": "display_data"
    },
    {
     "name": "stdout",
     "output_type": "stream",
     "text": [
      "\n"
     ]
    },
    {
     "data": {
      "text/plain": "(3,)"
     },
     "metadata": {},
     "output_type": "display_data"
    },
    {
     "data": {
      "text/plain": "Title         When I'm Sixty-Four\nYear                         1966\nLead.vocal              McCartney\nName: Sgt. Pepper's Lonely Hearts Club Band, dtype: object"
     },
     "metadata": {},
     "output_type": "display_data"
    },
    {
     "data": {
      "text/plain": "pandas.core.series.Series"
     },
     "metadata": {},
     "output_type": "display_data"
    },
    {
     "name": "stdout",
     "output_type": "stream",
     "text": [
      "\n"
     ]
    },
    {
     "data": {
      "text/plain": "Index(['A Collection of Beatles Oldies', 'A Collection of Beatles Oldies',\n       'A Collection of Beatles Oldies', 'A Collection of Beatles Oldies',\n       'A Collection of Beatles Oldies', 'A Collection of Beatles Oldies',\n       'A Collection of Beatles Oldies', 'A Collection of Beatles Oldies',\n       'A Hard Day's Night', 'A Hard Day's Night',\n       ...\n       'With the Beatles', 'With the Beatles', 'With the Beatles',\n       'With the Beatles', 'With the Beatles', 'With the Beatles',\n       'With the Beatles', 'With the Beatles', 'With the Beatles',\n       'With the Beatles'],\n      dtype='object', name='Album.debut', length=185)"
     },
     "metadata": {},
     "output_type": "display_data"
    },
    {
     "data": {
      "text/plain": "Index(['A Collection of Beatles Oldies', 'A Hard Day's Night', 'Anthology 1',\n       'Anthology 2', 'Beatles for Sale', 'Help!', 'Live at the BBC',\n       'Live! at the Star-Club in Hamburg, Germany; 1962',\n       'Magical Mystery Tour', 'On Air - Live at the BBC Volume 2',\n       'Past Masters Volume 1', 'Please Please Me', 'Rarities', 'Revolver',\n       'Rock 'n' Roll Music', 'Rubber Soul',\n       'Sgt. Pepper's Lonely Hearts Club Band',\n       'The Beatles Bootleg Recordings 1963', 'Unknown', 'With the Beatles'],\n      dtype='object', name='Album.debut')"
     },
     "metadata": {},
     "output_type": "display_data"
    },
    {
     "name": "stdout",
     "output_type": "stream",
     "text": [
      "\n"
     ]
    },
    {
     "data": {
      "text/plain": "'A Collection of Beatles Oldies'"
     },
     "metadata": {},
     "output_type": "display_data"
    },
    {
     "data": {
      "text/plain": "                                                   Title  Year  \\\nAlbum.debut                                                      \nA Collection of Beatles Oldies            From Me to You  1963   \nA Collection of Beatles Oldies             She Loves You  1963   \nA Collection of Beatles Oldies          Paperback Writer  1966   \nA Collection of Beatles Oldies               Day Tripper  1965   \nA Collection of Beatles Oldies               I Feel Fine  1964   \nA Collection of Beatles Oldies        We Can Work It Out  1965   \nA Collection of Beatles Oldies                   Bad Boy  1965   \nA Collection of Beatles Oldies  I Want to Hold Your Hand  1963   \n\n                                            Lead.vocal  \nAlbum.debut                                             \nA Collection of Beatles Oldies    Lennon and McCartney  \nA Collection of Beatles Oldies    Lennon and McCartney  \nA Collection of Beatles Oldies               McCartney  \nA Collection of Beatles Oldies    Lennon and McCartney  \nA Collection of Beatles Oldies                  Lennon  \nA Collection of Beatles Oldies  McCartney, with Lennon  \nA Collection of Beatles Oldies                  Lennon  \nA Collection of Beatles Oldies    Lennon and McCartney  ",
      "text/html": "<div>\n<style scoped>\n    .dataframe tbody tr th:only-of-type {\n        vertical-align: middle;\n    }\n\n    .dataframe tbody tr th {\n        vertical-align: top;\n    }\n\n    .dataframe thead th {\n        text-align: right;\n    }\n</style>\n<table border=\"1\" class=\"dataframe\">\n  <thead>\n    <tr style=\"text-align: right;\">\n      <th></th>\n      <th>Title</th>\n      <th>Year</th>\n      <th>Lead.vocal</th>\n    </tr>\n    <tr>\n      <th>Album.debut</th>\n      <th></th>\n      <th></th>\n      <th></th>\n    </tr>\n  </thead>\n  <tbody>\n    <tr>\n      <th>A Collection of Beatles Oldies</th>\n      <td>From Me to You</td>\n      <td>1963</td>\n      <td>Lennon and McCartney</td>\n    </tr>\n    <tr>\n      <th>A Collection of Beatles Oldies</th>\n      <td>She Loves You</td>\n      <td>1963</td>\n      <td>Lennon and McCartney</td>\n    </tr>\n    <tr>\n      <th>A Collection of Beatles Oldies</th>\n      <td>Paperback Writer</td>\n      <td>1966</td>\n      <td>McCartney</td>\n    </tr>\n    <tr>\n      <th>A Collection of Beatles Oldies</th>\n      <td>Day Tripper</td>\n      <td>1965</td>\n      <td>Lennon and McCartney</td>\n    </tr>\n    <tr>\n      <th>A Collection of Beatles Oldies</th>\n      <td>I Feel Fine</td>\n      <td>1964</td>\n      <td>Lennon</td>\n    </tr>\n    <tr>\n      <th>A Collection of Beatles Oldies</th>\n      <td>We Can Work It Out</td>\n      <td>1965</td>\n      <td>McCartney, with Lennon</td>\n    </tr>\n    <tr>\n      <th>A Collection of Beatles Oldies</th>\n      <td>Bad Boy</td>\n      <td>1965</td>\n      <td>Lennon</td>\n    </tr>\n    <tr>\n      <th>A Collection of Beatles Oldies</th>\n      <td>I Want to Hold Your Hand</td>\n      <td>1963</td>\n      <td>Lennon and McCartney</td>\n    </tr>\n  </tbody>\n</table>\n</div>"
     },
     "metadata": {},
     "output_type": "display_data"
    },
    {
     "data": {
      "text/plain": "\"A Hard Day's Night\""
     },
     "metadata": {},
     "output_type": "display_data"
    },
    {
     "data": {
      "text/plain": "                                               Title  Year  \\\nAlbum.debut                                                  \nA Hard Day's Night              Things We Said Today  1964   \nA Hard Day's Night                 Can't Buy Me Love  1964   \nA Hard Day's Night                       Tell Me Why  1964   \nA Hard Day's Night                   When I Get Home  1964   \nA Hard Day's Night        I Should Have Known Better  1964   \nA Hard Day's Night                   Any Time at All  1964   \nA Hard Day's Night                A Hard Day's Night  1964   \nA Hard Day's Night  I'm Happy Just to Dance with You  1964   \nA Hard Day's Night                  I'll Cry Instead  1964   \nA Hard Day's Night                         If I Fell  1964   \nA Hard Day's Night                 You Can't Do That  1964   \nA Hard Day's Night                      I'll Be Back  1964   \nA Hard Day's Night                    And I Love Her  1964   \n\n                                Lead.vocal  \nAlbum.debut                                 \nA Hard Day's Night               McCartney  \nA Hard Day's Night  McCartney, with Lennon  \nA Hard Day's Night                  Lennon  \nA Hard Day's Night                  Lennon  \nA Hard Day's Night                  Lennon  \nA Hard Day's Night  Lennon, with McCartney  \nA Hard Day's Night  Lennon, with McCartney  \nA Hard Day's Night                Harrison  \nA Hard Day's Night                  Lennon  \nA Hard Day's Night  Lennon, with McCartney  \nA Hard Day's Night                  Lennon  \nA Hard Day's Night  Lennon, with McCartney  \nA Hard Day's Night               McCartney  ",
      "text/html": "<div>\n<style scoped>\n    .dataframe tbody tr th:only-of-type {\n        vertical-align: middle;\n    }\n\n    .dataframe tbody tr th {\n        vertical-align: top;\n    }\n\n    .dataframe thead th {\n        text-align: right;\n    }\n</style>\n<table border=\"1\" class=\"dataframe\">\n  <thead>\n    <tr style=\"text-align: right;\">\n      <th></th>\n      <th>Title</th>\n      <th>Year</th>\n      <th>Lead.vocal</th>\n    </tr>\n    <tr>\n      <th>Album.debut</th>\n      <th></th>\n      <th></th>\n      <th></th>\n    </tr>\n  </thead>\n  <tbody>\n    <tr>\n      <th>A Hard Day's Night</th>\n      <td>Things We Said Today</td>\n      <td>1964</td>\n      <td>McCartney</td>\n    </tr>\n    <tr>\n      <th>A Hard Day's Night</th>\n      <td>Can't Buy Me Love</td>\n      <td>1964</td>\n      <td>McCartney, with Lennon</td>\n    </tr>\n    <tr>\n      <th>A Hard Day's Night</th>\n      <td>Tell Me Why</td>\n      <td>1964</td>\n      <td>Lennon</td>\n    </tr>\n    <tr>\n      <th>A Hard Day's Night</th>\n      <td>When I Get Home</td>\n      <td>1964</td>\n      <td>Lennon</td>\n    </tr>\n    <tr>\n      <th>A Hard Day's Night</th>\n      <td>I Should Have Known Better</td>\n      <td>1964</td>\n      <td>Lennon</td>\n    </tr>\n    <tr>\n      <th>A Hard Day's Night</th>\n      <td>Any Time at All</td>\n      <td>1964</td>\n      <td>Lennon, with McCartney</td>\n    </tr>\n    <tr>\n      <th>A Hard Day's Night</th>\n      <td>A Hard Day's Night</td>\n      <td>1964</td>\n      <td>Lennon, with McCartney</td>\n    </tr>\n    <tr>\n      <th>A Hard Day's Night</th>\n      <td>I'm Happy Just to Dance with You</td>\n      <td>1964</td>\n      <td>Harrison</td>\n    </tr>\n    <tr>\n      <th>A Hard Day's Night</th>\n      <td>I'll Cry Instead</td>\n      <td>1964</td>\n      <td>Lennon</td>\n    </tr>\n    <tr>\n      <th>A Hard Day's Night</th>\n      <td>If I Fell</td>\n      <td>1964</td>\n      <td>Lennon, with McCartney</td>\n    </tr>\n    <tr>\n      <th>A Hard Day's Night</th>\n      <td>You Can't Do That</td>\n      <td>1964</td>\n      <td>Lennon</td>\n    </tr>\n    <tr>\n      <th>A Hard Day's Night</th>\n      <td>I'll Be Back</td>\n      <td>1964</td>\n      <td>Lennon, with McCartney</td>\n    </tr>\n    <tr>\n      <th>A Hard Day's Night</th>\n      <td>And I Love Her</td>\n      <td>1964</td>\n      <td>McCartney</td>\n    </tr>\n  </tbody>\n</table>\n</div>"
     },
     "metadata": {},
     "output_type": "display_data"
    },
    {
     "data": {
      "text/plain": "'Anthology 1'"
     },
     "metadata": {},
     "output_type": "display_data"
    },
    {
     "data": {
      "text/plain": "                             Title  Year  \\\nAlbum.debut                                \nAnthology 1          Moonlight Bay  1963   \nAnthology 1           Bésame Mucho  1962   \nAnthology 1    You Know What to Do  1964   \nAnthology 1      How Do You Do It?  1962   \nAnthology 1       Like Dreamers Do  1962   \nAnthology 1  Leave My Kitten Alone  1964   \nAnthology 1     The Sheik of Araby  1962   \nAnthology 1      Lend Me Your Comb  1963   \nAnthology 1              Searchin'  1962   \nAnthology 1      Hello Little Girl  1962   \nAnthology 1                  Shout  1964   \nAnthology 1        Three Cool Cats  1962   \n\n                                                    Lead.vocal  \nAlbum.debut                                                     \nAnthology 1  Lennon, McCartney, Harrison, Eric Morecambe, E...  \nAnthology 1                                          McCartney  \nAnthology 1                                           Harrison  \nAnthology 1                                             Lennon  \nAnthology 1                                          McCartney  \nAnthology 1                                             Lennon  \nAnthology 1                                           Harrison  \nAnthology 1                               Lennon and McCartney  \nAnthology 1                                          McCartney  \nAnthology 1                                             Lennon  \nAnthology 1            Lennon, McCartney, Harrison and Starkey  \nAnthology 1                                           Harrison  ",
      "text/html": "<div>\n<style scoped>\n    .dataframe tbody tr th:only-of-type {\n        vertical-align: middle;\n    }\n\n    .dataframe tbody tr th {\n        vertical-align: top;\n    }\n\n    .dataframe thead th {\n        text-align: right;\n    }\n</style>\n<table border=\"1\" class=\"dataframe\">\n  <thead>\n    <tr style=\"text-align: right;\">\n      <th></th>\n      <th>Title</th>\n      <th>Year</th>\n      <th>Lead.vocal</th>\n    </tr>\n    <tr>\n      <th>Album.debut</th>\n      <th></th>\n      <th></th>\n      <th></th>\n    </tr>\n  </thead>\n  <tbody>\n    <tr>\n      <th>Anthology 1</th>\n      <td>Moonlight Bay</td>\n      <td>1963</td>\n      <td>Lennon, McCartney, Harrison, Eric Morecambe, E...</td>\n    </tr>\n    <tr>\n      <th>Anthology 1</th>\n      <td>Bésame Mucho</td>\n      <td>1962</td>\n      <td>McCartney</td>\n    </tr>\n    <tr>\n      <th>Anthology 1</th>\n      <td>You Know What to Do</td>\n      <td>1964</td>\n      <td>Harrison</td>\n    </tr>\n    <tr>\n      <th>Anthology 1</th>\n      <td>How Do You Do It?</td>\n      <td>1962</td>\n      <td>Lennon</td>\n    </tr>\n    <tr>\n      <th>Anthology 1</th>\n      <td>Like Dreamers Do</td>\n      <td>1962</td>\n      <td>McCartney</td>\n    </tr>\n    <tr>\n      <th>Anthology 1</th>\n      <td>Leave My Kitten Alone</td>\n      <td>1964</td>\n      <td>Lennon</td>\n    </tr>\n    <tr>\n      <th>Anthology 1</th>\n      <td>The Sheik of Araby</td>\n      <td>1962</td>\n      <td>Harrison</td>\n    </tr>\n    <tr>\n      <th>Anthology 1</th>\n      <td>Lend Me Your Comb</td>\n      <td>1963</td>\n      <td>Lennon and McCartney</td>\n    </tr>\n    <tr>\n      <th>Anthology 1</th>\n      <td>Searchin'</td>\n      <td>1962</td>\n      <td>McCartney</td>\n    </tr>\n    <tr>\n      <th>Anthology 1</th>\n      <td>Hello Little Girl</td>\n      <td>1962</td>\n      <td>Lennon</td>\n    </tr>\n    <tr>\n      <th>Anthology 1</th>\n      <td>Shout</td>\n      <td>1964</td>\n      <td>Lennon, McCartney, Harrison and Starkey</td>\n    </tr>\n    <tr>\n      <th>Anthology 1</th>\n      <td>Three Cool Cats</td>\n      <td>1962</td>\n      <td>Harrison</td>\n    </tr>\n  </tbody>\n</table>\n</div>"
     },
     "metadata": {},
     "output_type": "display_data"
    },
    {
     "data": {
      "text/plain": "'Anthology 2'"
     },
     "metadata": {},
     "output_type": "display_data"
    },
    {
     "data": {
      "text/plain": "                             Title  Year            Lead.vocal\nAlbum.debut                                                   \nAnthology 2  If You've Got Trouble  1965               Starkey\nAnthology 2        12-Bar Original  1965  Instrumental/Unknown\nAnthology 2       That Means a Lot  1965             McCartney",
      "text/html": "<div>\n<style scoped>\n    .dataframe tbody tr th:only-of-type {\n        vertical-align: middle;\n    }\n\n    .dataframe tbody tr th {\n        vertical-align: top;\n    }\n\n    .dataframe thead th {\n        text-align: right;\n    }\n</style>\n<table border=\"1\" class=\"dataframe\">\n  <thead>\n    <tr style=\"text-align: right;\">\n      <th></th>\n      <th>Title</th>\n      <th>Year</th>\n      <th>Lead.vocal</th>\n    </tr>\n    <tr>\n      <th>Album.debut</th>\n      <th></th>\n      <th></th>\n      <th></th>\n    </tr>\n  </thead>\n  <tbody>\n    <tr>\n      <th>Anthology 2</th>\n      <td>If You've Got Trouble</td>\n      <td>1965</td>\n      <td>Starkey</td>\n    </tr>\n    <tr>\n      <th>Anthology 2</th>\n      <td>12-Bar Original</td>\n      <td>1965</td>\n      <td>Instrumental/Unknown</td>\n    </tr>\n    <tr>\n      <th>Anthology 2</th>\n      <td>That Means a Lot</td>\n      <td>1965</td>\n      <td>McCartney</td>\n    </tr>\n  </tbody>\n</table>\n</div>"
     },
     "metadata": {},
     "output_type": "display_data"
    },
    {
     "data": {
      "text/plain": "'Beatles for Sale'"
     },
     "metadata": {},
     "output_type": "display_data"
    },
    {
     "data": {
      "text/plain": "                                             Title  Year  \\\nAlbum.debut                                                \nBeatles for Sale                          No Reply  1964   \nBeatles for Sale                 What You're Doing  1964   \nBeatles for Sale   I Don't Want to Spoil the Party  1964   \nBeatles for Sale                   Baby's in Black  1964   \nBeatles for Sale                     Words of Love  1964   \nBeatles for Sale                       Honey Don't  1964   \nBeatles for Sale               Rock and Roll Music  1964   \nBeatles for Sale                 Eight Days a Week  1964   \nBeatles for Sale               I'll Follow the Sun  1964   \nBeatles for Sale                     Mr. Moonlight  1964   \nBeatles for Sale    Kansas City/Hey, Hey, Hey, Hey  1964   \nBeatles for Sale                       I'm a Loser  1964   \nBeatles for Sale  Everybody's Trying to Be My Baby  1964   \nBeatles for Sale                Every Little Thing  1964   \n\n                              Lead.vocal  \nAlbum.debut                               \nBeatles for Sale  Lennon, with McCartney  \nBeatles for Sale               McCartney  \nBeatles for Sale                  Lennon  \nBeatles for Sale    Lennon and McCartney  \nBeatles for Sale    Lennon and McCartney  \nBeatles for Sale                 Starkey  \nBeatles for Sale                  Lennon  \nBeatles for Sale  Lennon, with McCartney  \nBeatles for Sale  McCartney, with Lennon  \nBeatles for Sale                  Lennon  \nBeatles for Sale               McCartney  \nBeatles for Sale                  Lennon  \nBeatles for Sale                Harrison  \nBeatles for Sale  Lennon, with McCartney  ",
      "text/html": "<div>\n<style scoped>\n    .dataframe tbody tr th:only-of-type {\n        vertical-align: middle;\n    }\n\n    .dataframe tbody tr th {\n        vertical-align: top;\n    }\n\n    .dataframe thead th {\n        text-align: right;\n    }\n</style>\n<table border=\"1\" class=\"dataframe\">\n  <thead>\n    <tr style=\"text-align: right;\">\n      <th></th>\n      <th>Title</th>\n      <th>Year</th>\n      <th>Lead.vocal</th>\n    </tr>\n    <tr>\n      <th>Album.debut</th>\n      <th></th>\n      <th></th>\n      <th></th>\n    </tr>\n  </thead>\n  <tbody>\n    <tr>\n      <th>Beatles for Sale</th>\n      <td>No Reply</td>\n      <td>1964</td>\n      <td>Lennon, with McCartney</td>\n    </tr>\n    <tr>\n      <th>Beatles for Sale</th>\n      <td>What You're Doing</td>\n      <td>1964</td>\n      <td>McCartney</td>\n    </tr>\n    <tr>\n      <th>Beatles for Sale</th>\n      <td>I Don't Want to Spoil the Party</td>\n      <td>1964</td>\n      <td>Lennon</td>\n    </tr>\n    <tr>\n      <th>Beatles for Sale</th>\n      <td>Baby's in Black</td>\n      <td>1964</td>\n      <td>Lennon and McCartney</td>\n    </tr>\n    <tr>\n      <th>Beatles for Sale</th>\n      <td>Words of Love</td>\n      <td>1964</td>\n      <td>Lennon and McCartney</td>\n    </tr>\n    <tr>\n      <th>Beatles for Sale</th>\n      <td>Honey Don't</td>\n      <td>1964</td>\n      <td>Starkey</td>\n    </tr>\n    <tr>\n      <th>Beatles for Sale</th>\n      <td>Rock and Roll Music</td>\n      <td>1964</td>\n      <td>Lennon</td>\n    </tr>\n    <tr>\n      <th>Beatles for Sale</th>\n      <td>Eight Days a Week</td>\n      <td>1964</td>\n      <td>Lennon, with McCartney</td>\n    </tr>\n    <tr>\n      <th>Beatles for Sale</th>\n      <td>I'll Follow the Sun</td>\n      <td>1964</td>\n      <td>McCartney, with Lennon</td>\n    </tr>\n    <tr>\n      <th>Beatles for Sale</th>\n      <td>Mr. Moonlight</td>\n      <td>1964</td>\n      <td>Lennon</td>\n    </tr>\n    <tr>\n      <th>Beatles for Sale</th>\n      <td>Kansas City/Hey, Hey, Hey, Hey</td>\n      <td>1964</td>\n      <td>McCartney</td>\n    </tr>\n    <tr>\n      <th>Beatles for Sale</th>\n      <td>I'm a Loser</td>\n      <td>1964</td>\n      <td>Lennon</td>\n    </tr>\n    <tr>\n      <th>Beatles for Sale</th>\n      <td>Everybody's Trying to Be My Baby</td>\n      <td>1964</td>\n      <td>Harrison</td>\n    </tr>\n    <tr>\n      <th>Beatles for Sale</th>\n      <td>Every Little Thing</td>\n      <td>1964</td>\n      <td>Lennon, with McCartney</td>\n    </tr>\n  </tbody>\n</table>\n</div>"
     },
     "metadata": {},
     "output_type": "display_data"
    },
    {
     "data": {
      "text/plain": "'Help!'"
     },
     "metadata": {},
     "output_type": "display_data"
    },
    {
     "data": {
      "text/plain": "                                         Title  Year              Lead.vocal\nAlbum.debut                                                                 \nHelp!                                Yesterday  1965               McCartney\nHelp!                             Another Girl  1965               McCartney\nHelp!                           It's Only Love  1965                  Lennon\nHelp!           You're Going to Lose That Girl  1965                  Lennon\nHelp!        You've Got to Hide Your Love Away  1965                  Lennon\nHelp!                               I Need You  1965                Harrison\nHelp!                            Act Naturally  1965                 Starkey\nHelp!                     You Like Me Too Much  1965                Harrison\nHelp!                    I've Just Seen a Face  1965               McCartney\nHelp!                                    Help!  1965                  Lennon\nHelp!                     Tell Me What You See  1965  McCartney, with Lennon\nHelp!                           Ticket to Ride  1965  Lennon, with McCartney\nHelp!                         The Night Before  1965               McCartney\nHelp!                        Dizzy, Miss Lizzy  1965                  Lennon",
      "text/html": "<div>\n<style scoped>\n    .dataframe tbody tr th:only-of-type {\n        vertical-align: middle;\n    }\n\n    .dataframe tbody tr th {\n        vertical-align: top;\n    }\n\n    .dataframe thead th {\n        text-align: right;\n    }\n</style>\n<table border=\"1\" class=\"dataframe\">\n  <thead>\n    <tr style=\"text-align: right;\">\n      <th></th>\n      <th>Title</th>\n      <th>Year</th>\n      <th>Lead.vocal</th>\n    </tr>\n    <tr>\n      <th>Album.debut</th>\n      <th></th>\n      <th></th>\n      <th></th>\n    </tr>\n  </thead>\n  <tbody>\n    <tr>\n      <th>Help!</th>\n      <td>Yesterday</td>\n      <td>1965</td>\n      <td>McCartney</td>\n    </tr>\n    <tr>\n      <th>Help!</th>\n      <td>Another Girl</td>\n      <td>1965</td>\n      <td>McCartney</td>\n    </tr>\n    <tr>\n      <th>Help!</th>\n      <td>It's Only Love</td>\n      <td>1965</td>\n      <td>Lennon</td>\n    </tr>\n    <tr>\n      <th>Help!</th>\n      <td>You're Going to Lose That Girl</td>\n      <td>1965</td>\n      <td>Lennon</td>\n    </tr>\n    <tr>\n      <th>Help!</th>\n      <td>You've Got to Hide Your Love Away</td>\n      <td>1965</td>\n      <td>Lennon</td>\n    </tr>\n    <tr>\n      <th>Help!</th>\n      <td>I Need You</td>\n      <td>1965</td>\n      <td>Harrison</td>\n    </tr>\n    <tr>\n      <th>Help!</th>\n      <td>Act Naturally</td>\n      <td>1965</td>\n      <td>Starkey</td>\n    </tr>\n    <tr>\n      <th>Help!</th>\n      <td>You Like Me Too Much</td>\n      <td>1965</td>\n      <td>Harrison</td>\n    </tr>\n    <tr>\n      <th>Help!</th>\n      <td>I've Just Seen a Face</td>\n      <td>1965</td>\n      <td>McCartney</td>\n    </tr>\n    <tr>\n      <th>Help!</th>\n      <td>Help!</td>\n      <td>1965</td>\n      <td>Lennon</td>\n    </tr>\n    <tr>\n      <th>Help!</th>\n      <td>Tell Me What You See</td>\n      <td>1965</td>\n      <td>McCartney, with Lennon</td>\n    </tr>\n    <tr>\n      <th>Help!</th>\n      <td>Ticket to Ride</td>\n      <td>1965</td>\n      <td>Lennon, with McCartney</td>\n    </tr>\n    <tr>\n      <th>Help!</th>\n      <td>The Night Before</td>\n      <td>1965</td>\n      <td>McCartney</td>\n    </tr>\n    <tr>\n      <th>Help!</th>\n      <td>Dizzy, Miss Lizzy</td>\n      <td>1965</td>\n      <td>Lennon</td>\n    </tr>\n  </tbody>\n</table>\n</div>"
     },
     "metadata": {},
     "output_type": "display_data"
    },
    {
     "data": {
      "text/plain": "'Live at the BBC'"
     },
     "metadata": {},
     "output_type": "display_data"
    },
    {
     "data": {
      "text/plain": "                                                         Title  Year  \\\nAlbum.debut                                                            \nLive at the BBC                Sure to Fall (In Love with You)  1963   \nLive at the BBC                                 Some Other Guy  1963   \nLive at the BBC                                Johnny B. Goode  1964   \nLive at the BBC           Soldier of Love (Lay Down Your Arms)  1963   \nLive at the BBC                  So How Come (No One Loves Me)  1963   \nLive at the BBC                        That's All Right (Mama)  1963   \nLive at the BBC                             Memphis, Tennessee  1963   \nLive at the BBC                       Too Much Monkey Business  1963   \nLive at the BBC                                   Ooh! My Soul  1963   \nLive at the BBC                      Lonesome Tears in My Eyes  1963   \nLive at the BBC                     To Know Her is to Love Her  1963   \nLive at the BBC                                        Lucille  1963   \nLive at the BBC  Nothin' Shakin' (But the Leaves on the Trees)  1963   \nLive at the BBC                             The Honeymoon Song  1963   \nLive at the BBC                           Sweet Little Sixteen  1963   \nLive at the BBC                    Keep Your Hands Off My Baby  1963   \nLive at the BBC                                    Young Blood  1963   \nLive at the BBC                     A Shot of Rhythm and Blues  1963   \nLive at the BBC                                          Carol  1963   \nLive at the BBC                                     Clarabella  1963   \nLive at the BBC                        Crying, Waiting, Hoping  1963   \nLive at the BBC                              Don't Ever Change  1963   \nLive at the BBC                                 From Us to You  1963   \nLive at the BBC                                  Glad All Over  1963   \nLive at the BBC    I'm Gonna Sit Right Down and Cry (Over You)  1963   \nLive at the BBC                              Hippy Hippy Shake  1963   \nLive at the BBC                 I Forgot to Remember to Forget  1964   \nLive at the BBC                                  I Got a Woman  1963   \nLive at the BBC                          I Got to Find My Baby  1963   \nLive at the BBC                        I Just Don't Understand  1963   \nLive at the BBC                              I'll Be on My Way  1963   \n\n                           Lead.vocal  \nAlbum.debut                            \nLive at the BBC             McCartney  \nLive at the BBC  Lennon and McCartney  \nLive at the BBC                Lennon  \nLive at the BBC                Lennon  \nLive at the BBC              Harrison  \nLive at the BBC             McCartney  \nLive at the BBC                Lennon  \nLive at the BBC                Lennon  \nLive at the BBC             McCartney  \nLive at the BBC                Lennon  \nLive at the BBC                Lennon  \nLive at the BBC             McCartney  \nLive at the BBC              Harrison  \nLive at the BBC             McCartney  \nLive at the BBC                Lennon  \nLive at the BBC                Lennon  \nLive at the BBC              Harrison  \nLive at the BBC                Lennon  \nLive at the BBC                Lennon  \nLive at the BBC             McCartney  \nLive at the BBC              Harrison  \nLive at the BBC              Harrison  \nLive at the BBC  Lennon and McCartney  \nLive at the BBC              Harrison  \nLive at the BBC                Lennon  \nLive at the BBC             McCartney  \nLive at the BBC              Harrison  \nLive at the BBC                Lennon  \nLive at the BBC                Lennon  \nLive at the BBC                Lennon  \nLive at the BBC                Lennon  ",
      "text/html": "<div>\n<style scoped>\n    .dataframe tbody tr th:only-of-type {\n        vertical-align: middle;\n    }\n\n    .dataframe tbody tr th {\n        vertical-align: top;\n    }\n\n    .dataframe thead th {\n        text-align: right;\n    }\n</style>\n<table border=\"1\" class=\"dataframe\">\n  <thead>\n    <tr style=\"text-align: right;\">\n      <th></th>\n      <th>Title</th>\n      <th>Year</th>\n      <th>Lead.vocal</th>\n    </tr>\n    <tr>\n      <th>Album.debut</th>\n      <th></th>\n      <th></th>\n      <th></th>\n    </tr>\n  </thead>\n  <tbody>\n    <tr>\n      <th>Live at the BBC</th>\n      <td>Sure to Fall (In Love with You)</td>\n      <td>1963</td>\n      <td>McCartney</td>\n    </tr>\n    <tr>\n      <th>Live at the BBC</th>\n      <td>Some Other Guy</td>\n      <td>1963</td>\n      <td>Lennon and McCartney</td>\n    </tr>\n    <tr>\n      <th>Live at the BBC</th>\n      <td>Johnny B. Goode</td>\n      <td>1964</td>\n      <td>Lennon</td>\n    </tr>\n    <tr>\n      <th>Live at the BBC</th>\n      <td>Soldier of Love (Lay Down Your Arms)</td>\n      <td>1963</td>\n      <td>Lennon</td>\n    </tr>\n    <tr>\n      <th>Live at the BBC</th>\n      <td>So How Come (No One Loves Me)</td>\n      <td>1963</td>\n      <td>Harrison</td>\n    </tr>\n    <tr>\n      <th>Live at the BBC</th>\n      <td>That's All Right (Mama)</td>\n      <td>1963</td>\n      <td>McCartney</td>\n    </tr>\n    <tr>\n      <th>Live at the BBC</th>\n      <td>Memphis, Tennessee</td>\n      <td>1963</td>\n      <td>Lennon</td>\n    </tr>\n    <tr>\n      <th>Live at the BBC</th>\n      <td>Too Much Monkey Business</td>\n      <td>1963</td>\n      <td>Lennon</td>\n    </tr>\n    <tr>\n      <th>Live at the BBC</th>\n      <td>Ooh! My Soul</td>\n      <td>1963</td>\n      <td>McCartney</td>\n    </tr>\n    <tr>\n      <th>Live at the BBC</th>\n      <td>Lonesome Tears in My Eyes</td>\n      <td>1963</td>\n      <td>Lennon</td>\n    </tr>\n    <tr>\n      <th>Live at the BBC</th>\n      <td>To Know Her is to Love Her</td>\n      <td>1963</td>\n      <td>Lennon</td>\n    </tr>\n    <tr>\n      <th>Live at the BBC</th>\n      <td>Lucille</td>\n      <td>1963</td>\n      <td>McCartney</td>\n    </tr>\n    <tr>\n      <th>Live at the BBC</th>\n      <td>Nothin' Shakin' (But the Leaves on the Trees)</td>\n      <td>1963</td>\n      <td>Harrison</td>\n    </tr>\n    <tr>\n      <th>Live at the BBC</th>\n      <td>The Honeymoon Song</td>\n      <td>1963</td>\n      <td>McCartney</td>\n    </tr>\n    <tr>\n      <th>Live at the BBC</th>\n      <td>Sweet Little Sixteen</td>\n      <td>1963</td>\n      <td>Lennon</td>\n    </tr>\n    <tr>\n      <th>Live at the BBC</th>\n      <td>Keep Your Hands Off My Baby</td>\n      <td>1963</td>\n      <td>Lennon</td>\n    </tr>\n    <tr>\n      <th>Live at the BBC</th>\n      <td>Young Blood</td>\n      <td>1963</td>\n      <td>Harrison</td>\n    </tr>\n    <tr>\n      <th>Live at the BBC</th>\n      <td>A Shot of Rhythm and Blues</td>\n      <td>1963</td>\n      <td>Lennon</td>\n    </tr>\n    <tr>\n      <th>Live at the BBC</th>\n      <td>Carol</td>\n      <td>1963</td>\n      <td>Lennon</td>\n    </tr>\n    <tr>\n      <th>Live at the BBC</th>\n      <td>Clarabella</td>\n      <td>1963</td>\n      <td>McCartney</td>\n    </tr>\n    <tr>\n      <th>Live at the BBC</th>\n      <td>Crying, Waiting, Hoping</td>\n      <td>1963</td>\n      <td>Harrison</td>\n    </tr>\n    <tr>\n      <th>Live at the BBC</th>\n      <td>Don't Ever Change</td>\n      <td>1963</td>\n      <td>Harrison</td>\n    </tr>\n    <tr>\n      <th>Live at the BBC</th>\n      <td>From Us to You</td>\n      <td>1963</td>\n      <td>Lennon and McCartney</td>\n    </tr>\n    <tr>\n      <th>Live at the BBC</th>\n      <td>Glad All Over</td>\n      <td>1963</td>\n      <td>Harrison</td>\n    </tr>\n    <tr>\n      <th>Live at the BBC</th>\n      <td>I'm Gonna Sit Right Down and Cry (Over You)</td>\n      <td>1963</td>\n      <td>Lennon</td>\n    </tr>\n    <tr>\n      <th>Live at the BBC</th>\n      <td>Hippy Hippy Shake</td>\n      <td>1963</td>\n      <td>McCartney</td>\n    </tr>\n    <tr>\n      <th>Live at the BBC</th>\n      <td>I Forgot to Remember to Forget</td>\n      <td>1964</td>\n      <td>Harrison</td>\n    </tr>\n    <tr>\n      <th>Live at the BBC</th>\n      <td>I Got a Woman</td>\n      <td>1963</td>\n      <td>Lennon</td>\n    </tr>\n    <tr>\n      <th>Live at the BBC</th>\n      <td>I Got to Find My Baby</td>\n      <td>1963</td>\n      <td>Lennon</td>\n    </tr>\n    <tr>\n      <th>Live at the BBC</th>\n      <td>I Just Don't Understand</td>\n      <td>1963</td>\n      <td>Lennon</td>\n    </tr>\n    <tr>\n      <th>Live at the BBC</th>\n      <td>I'll Be on My Way</td>\n      <td>1963</td>\n      <td>Lennon</td>\n    </tr>\n  </tbody>\n</table>\n</div>"
     },
     "metadata": {},
     "output_type": "display_data"
    },
    {
     "data": {
      "text/plain": "'Live! at the Star-Club in Hamburg, Germany; 1962'"
     },
     "metadata": {},
     "output_type": "display_data"
    },
    {
     "data": {
      "text/plain": "                                                                  Title  Year  \\\nAlbum.debut                                                                     \nLive! at the Star-Club in Hamburg, Germany; 1962  I'm Talking About You  1962   \nLive! at the Star-Club in Hamburg, Germany; 1962  I'm Talking About You  1962   \n\n                                                 Lead.vocal  \nAlbum.debut                                                  \nLive! at the Star-Club in Hamburg, Germany; 1962     Lennon  \nLive! at the Star-Club in Hamburg, Germany; 1962     Lennon  ",
      "text/html": "<div>\n<style scoped>\n    .dataframe tbody tr th:only-of-type {\n        vertical-align: middle;\n    }\n\n    .dataframe tbody tr th {\n        vertical-align: top;\n    }\n\n    .dataframe thead th {\n        text-align: right;\n    }\n</style>\n<table border=\"1\" class=\"dataframe\">\n  <thead>\n    <tr style=\"text-align: right;\">\n      <th></th>\n      <th>Title</th>\n      <th>Year</th>\n      <th>Lead.vocal</th>\n    </tr>\n    <tr>\n      <th>Album.debut</th>\n      <th></th>\n      <th></th>\n      <th></th>\n    </tr>\n  </thead>\n  <tbody>\n    <tr>\n      <th>Live! at the Star-Club in Hamburg, Germany; 1962</th>\n      <td>I'm Talking About You</td>\n      <td>1962</td>\n      <td>Lennon</td>\n    </tr>\n    <tr>\n      <th>Live! at the Star-Club in Hamburg, Germany; 1962</th>\n      <td>I'm Talking About You</td>\n      <td>1962</td>\n      <td>Lennon</td>\n    </tr>\n  </tbody>\n</table>\n</div>"
     },
     "metadata": {},
     "output_type": "display_data"
    },
    {
     "data": {
      "text/plain": "'Magical Mystery Tour'"
     },
     "metadata": {},
     "output_type": "display_data"
    },
    {
     "data": {
      "text/plain": "                                          Title  Year Lead.vocal\nAlbum.debut                                                     \nMagical Mystery Tour                 Penny Lane  1966  McCartney\nMagical Mystery Tour  Strawberry Fields Forever  1966     Lennon",
      "text/html": "<div>\n<style scoped>\n    .dataframe tbody tr th:only-of-type {\n        vertical-align: middle;\n    }\n\n    .dataframe tbody tr th {\n        vertical-align: top;\n    }\n\n    .dataframe thead th {\n        text-align: right;\n    }\n</style>\n<table border=\"1\" class=\"dataframe\">\n  <thead>\n    <tr style=\"text-align: right;\">\n      <th></th>\n      <th>Title</th>\n      <th>Year</th>\n      <th>Lead.vocal</th>\n    </tr>\n    <tr>\n      <th>Album.debut</th>\n      <th></th>\n      <th></th>\n      <th></th>\n    </tr>\n  </thead>\n  <tbody>\n    <tr>\n      <th>Magical Mystery Tour</th>\n      <td>Penny Lane</td>\n      <td>1966</td>\n      <td>McCartney</td>\n    </tr>\n    <tr>\n      <th>Magical Mystery Tour</th>\n      <td>Strawberry Fields Forever</td>\n      <td>1966</td>\n      <td>Lennon</td>\n    </tr>\n  </tbody>\n</table>\n</div>"
     },
     "metadata": {},
     "output_type": "display_data"
    },
    {
     "data": {
      "text/plain": "'On Air - Live at the BBC Volume 2'"
     },
     "metadata": {},
     "output_type": "display_data"
    },
    {
     "data": {
      "text/plain": "                                                   Title  Year Lead.vocal\nAlbum.debut                                                              \nOn Air - Live at the BBC Volume 2  I'm Talking About You  1963     Lennon\nOn Air - Live at the BBC Volume 2  I'm Talking About You  1963     Lennon\nOn Air - Live at the BBC Volume 2      Beautiful Dreamer  1963  McCartney",
      "text/html": "<div>\n<style scoped>\n    .dataframe tbody tr th:only-of-type {\n        vertical-align: middle;\n    }\n\n    .dataframe tbody tr th {\n        vertical-align: top;\n    }\n\n    .dataframe thead th {\n        text-align: right;\n    }\n</style>\n<table border=\"1\" class=\"dataframe\">\n  <thead>\n    <tr style=\"text-align: right;\">\n      <th></th>\n      <th>Title</th>\n      <th>Year</th>\n      <th>Lead.vocal</th>\n    </tr>\n    <tr>\n      <th>Album.debut</th>\n      <th></th>\n      <th></th>\n      <th></th>\n    </tr>\n  </thead>\n  <tbody>\n    <tr>\n      <th>On Air - Live at the BBC Volume 2</th>\n      <td>I'm Talking About You</td>\n      <td>1963</td>\n      <td>Lennon</td>\n    </tr>\n    <tr>\n      <th>On Air - Live at the BBC Volume 2</th>\n      <td>I'm Talking About You</td>\n      <td>1963</td>\n      <td>Lennon</td>\n    </tr>\n    <tr>\n      <th>On Air - Live at the BBC Volume 2</th>\n      <td>Beautiful Dreamer</td>\n      <td>1963</td>\n      <td>McCartney</td>\n    </tr>\n  </tbody>\n</table>\n</div>"
     },
     "metadata": {},
     "output_type": "display_data"
    },
    {
     "data": {
      "text/plain": "'Past Masters Volume 1'"
     },
     "metadata": {},
     "output_type": "display_data"
    },
    {
     "data": {
      "text/plain": "                                  Title  Year              Lead.vocal\nAlbum.debut                                                          \nPast Masters Volume 1  I Call Your Name  1964                  Lennon\nPast Masters Volume 1      I'll Get You  1963  Lennon, with McCartney",
      "text/html": "<div>\n<style scoped>\n    .dataframe tbody tr th:only-of-type {\n        vertical-align: middle;\n    }\n\n    .dataframe tbody tr th {\n        vertical-align: top;\n    }\n\n    .dataframe thead th {\n        text-align: right;\n    }\n</style>\n<table border=\"1\" class=\"dataframe\">\n  <thead>\n    <tr style=\"text-align: right;\">\n      <th></th>\n      <th>Title</th>\n      <th>Year</th>\n      <th>Lead.vocal</th>\n    </tr>\n    <tr>\n      <th>Album.debut</th>\n      <th></th>\n      <th></th>\n      <th></th>\n    </tr>\n  </thead>\n  <tbody>\n    <tr>\n      <th>Past Masters Volume 1</th>\n      <td>I Call Your Name</td>\n      <td>1964</td>\n      <td>Lennon</td>\n    </tr>\n    <tr>\n      <th>Past Masters Volume 1</th>\n      <td>I'll Get You</td>\n      <td>1963</td>\n      <td>Lennon, with McCartney</td>\n    </tr>\n  </tbody>\n</table>\n</div>"
     },
     "metadata": {},
     "output_type": "display_data"
    },
    {
     "data": {
      "text/plain": "'Please Please Me'"
     },
     "metadata": {},
     "output_type": "display_data"
    },
    {
     "data": {
      "text/plain": "                                          Title  Year  \\\nAlbum.debut                                             \nPlease Please Me                There's a Place  1963   \nPlease Please Me                         Chains  1963   \nPlease Please Me                           Boys  1963   \nPlease Please Me                Twist and Shout  1963   \nPlease Please Me               Please Please Me  1962   \nPlease Please Me                         Misery  1963   \nPlease Please Me                  Baby It's You  1963   \nPlease Please Me                     Ask Me Why  1962   \nPlease Please Me       I Saw Her Standing There  1963   \nPlease Please Me  Do You Want to Know a Secret?  1963   \nPlease Please Me               Anna (Go to Him)  1963   \nPlease Please Me                     Love Me Do  1962   \nPlease Please Me               A Taste of Honey  1963   \nPlease Please Me                P.S. I Love You  1962   \n\n                                           Lead.vocal  \nAlbum.debut                                            \nPlease Please Me                 Lennon and McCartney  \nPlease Please Me  Harrison, with Lennon and McCartney  \nPlease Please Me                       Starkey (Best)  \nPlease Please Me                               Lennon  \nPlease Please Me               Lennon, with McCartney  \nPlease Please Me               Lennon, with McCartney  \nPlease Please Me                               Lennon  \nPlease Please Me                               Lennon  \nPlease Please Me               McCartney, with Lennon  \nPlease Please Me                             Harrison  \nPlease Please Me                               Lennon  \nPlease Please Me               McCartney, with Lennon  \nPlease Please Me                            McCartney  \nPlease Please Me                            McCartney  ",
      "text/html": "<div>\n<style scoped>\n    .dataframe tbody tr th:only-of-type {\n        vertical-align: middle;\n    }\n\n    .dataframe tbody tr th {\n        vertical-align: top;\n    }\n\n    .dataframe thead th {\n        text-align: right;\n    }\n</style>\n<table border=\"1\" class=\"dataframe\">\n  <thead>\n    <tr style=\"text-align: right;\">\n      <th></th>\n      <th>Title</th>\n      <th>Year</th>\n      <th>Lead.vocal</th>\n    </tr>\n    <tr>\n      <th>Album.debut</th>\n      <th></th>\n      <th></th>\n      <th></th>\n    </tr>\n  </thead>\n  <tbody>\n    <tr>\n      <th>Please Please Me</th>\n      <td>There's a Place</td>\n      <td>1963</td>\n      <td>Lennon and McCartney</td>\n    </tr>\n    <tr>\n      <th>Please Please Me</th>\n      <td>Chains</td>\n      <td>1963</td>\n      <td>Harrison, with Lennon and McCartney</td>\n    </tr>\n    <tr>\n      <th>Please Please Me</th>\n      <td>Boys</td>\n      <td>1963</td>\n      <td>Starkey (Best)</td>\n    </tr>\n    <tr>\n      <th>Please Please Me</th>\n      <td>Twist and Shout</td>\n      <td>1963</td>\n      <td>Lennon</td>\n    </tr>\n    <tr>\n      <th>Please Please Me</th>\n      <td>Please Please Me</td>\n      <td>1962</td>\n      <td>Lennon, with McCartney</td>\n    </tr>\n    <tr>\n      <th>Please Please Me</th>\n      <td>Misery</td>\n      <td>1963</td>\n      <td>Lennon, with McCartney</td>\n    </tr>\n    <tr>\n      <th>Please Please Me</th>\n      <td>Baby It's You</td>\n      <td>1963</td>\n      <td>Lennon</td>\n    </tr>\n    <tr>\n      <th>Please Please Me</th>\n      <td>Ask Me Why</td>\n      <td>1962</td>\n      <td>Lennon</td>\n    </tr>\n    <tr>\n      <th>Please Please Me</th>\n      <td>I Saw Her Standing There</td>\n      <td>1963</td>\n      <td>McCartney, with Lennon</td>\n    </tr>\n    <tr>\n      <th>Please Please Me</th>\n      <td>Do You Want to Know a Secret?</td>\n      <td>1963</td>\n      <td>Harrison</td>\n    </tr>\n    <tr>\n      <th>Please Please Me</th>\n      <td>Anna (Go to Him)</td>\n      <td>1963</td>\n      <td>Lennon</td>\n    </tr>\n    <tr>\n      <th>Please Please Me</th>\n      <td>Love Me Do</td>\n      <td>1962</td>\n      <td>McCartney, with Lennon</td>\n    </tr>\n    <tr>\n      <th>Please Please Me</th>\n      <td>A Taste of Honey</td>\n      <td>1963</td>\n      <td>McCartney</td>\n    </tr>\n    <tr>\n      <th>Please Please Me</th>\n      <td>P.S. I Love You</td>\n      <td>1962</td>\n      <td>McCartney</td>\n    </tr>\n  </tbody>\n</table>\n</div>"
     },
     "metadata": {},
     "output_type": "display_data"
    },
    {
     "data": {
      "text/plain": "'Rarities'"
     },
     "metadata": {},
     "output_type": "display_data"
    },
    {
     "data": {
      "text/plain": "                               Title  Year  \\\nAlbum.debut                                  \nRarities                        Rain  1966   \nRarities              Thank You Girl  1963   \nRarities               She's a Woman  1964   \nRarities              Sie Liebt Dich  1964   \nRarities                    This Boy  1963   \nRarities     Komm Gib Mir Deine Hand  1964   \nRarities                   Yes It Is  1965   \n\n                                      Lead.vocal  \nAlbum.debut                                       \nRarities                                  Lennon  \nRarities                    Lennon and McCartney  \nRarities                               McCartney  \nRarities                        Lennon-McCartney  \nRarities     Lennon, with McCartney and Harrison  \nRarities                    Lennon and McCartney  \nRarities          Lennon, McCartney and Harrison  ",
      "text/html": "<div>\n<style scoped>\n    .dataframe tbody tr th:only-of-type {\n        vertical-align: middle;\n    }\n\n    .dataframe tbody tr th {\n        vertical-align: top;\n    }\n\n    .dataframe thead th {\n        text-align: right;\n    }\n</style>\n<table border=\"1\" class=\"dataframe\">\n  <thead>\n    <tr style=\"text-align: right;\">\n      <th></th>\n      <th>Title</th>\n      <th>Year</th>\n      <th>Lead.vocal</th>\n    </tr>\n    <tr>\n      <th>Album.debut</th>\n      <th></th>\n      <th></th>\n      <th></th>\n    </tr>\n  </thead>\n  <tbody>\n    <tr>\n      <th>Rarities</th>\n      <td>Rain</td>\n      <td>1966</td>\n      <td>Lennon</td>\n    </tr>\n    <tr>\n      <th>Rarities</th>\n      <td>Thank You Girl</td>\n      <td>1963</td>\n      <td>Lennon and McCartney</td>\n    </tr>\n    <tr>\n      <th>Rarities</th>\n      <td>She's a Woman</td>\n      <td>1964</td>\n      <td>McCartney</td>\n    </tr>\n    <tr>\n      <th>Rarities</th>\n      <td>Sie Liebt Dich</td>\n      <td>1964</td>\n      <td>Lennon-McCartney</td>\n    </tr>\n    <tr>\n      <th>Rarities</th>\n      <td>This Boy</td>\n      <td>1963</td>\n      <td>Lennon, with McCartney and Harrison</td>\n    </tr>\n    <tr>\n      <th>Rarities</th>\n      <td>Komm Gib Mir Deine Hand</td>\n      <td>1964</td>\n      <td>Lennon and McCartney</td>\n    </tr>\n    <tr>\n      <th>Rarities</th>\n      <td>Yes It Is</td>\n      <td>1965</td>\n      <td>Lennon, McCartney and Harrison</td>\n    </tr>\n  </tbody>\n</table>\n</div>"
     },
     "metadata": {},
     "output_type": "display_data"
    },
    {
     "data": {
      "text/plain": "'Revolver'"
     },
     "metadata": {},
     "output_type": "display_data"
    },
    {
     "data": {
      "text/plain": "                                   Title  Year Lead.vocal\nAlbum.debut                                              \nRevolver                Yellow Submarine  1966    Starkey\nRevolver                   Doctor Robert  1966     Lennon\nRevolver          And Your Bird Can Sing  1966     Lennon\nRevolver                          Taxman  1966   Harrison\nRevolver                   Eleanor Rigby  1966  McCartney\nRevolver              I Want to Tell You  1966   Harrison\nRevolver               I'm Only Sleeping  1966     Lennon\nRevolver            Tomorrow Never Knows  1966     Lennon\nRevolver                      For No One  1966  McCartney\nRevolver                     Love You To  1966   Harrison\nRevolver               Good Day Sunshine  1966  McCartney\nRevolver               She Said She Said  1966     Lennon\nRevolver     Got to Get You into My Life  1966  McCartney\nRevolver      Here, There and Everywhere  1966  McCartney",
      "text/html": "<div>\n<style scoped>\n    .dataframe tbody tr th:only-of-type {\n        vertical-align: middle;\n    }\n\n    .dataframe tbody tr th {\n        vertical-align: top;\n    }\n\n    .dataframe thead th {\n        text-align: right;\n    }\n</style>\n<table border=\"1\" class=\"dataframe\">\n  <thead>\n    <tr style=\"text-align: right;\">\n      <th></th>\n      <th>Title</th>\n      <th>Year</th>\n      <th>Lead.vocal</th>\n    </tr>\n    <tr>\n      <th>Album.debut</th>\n      <th></th>\n      <th></th>\n      <th></th>\n    </tr>\n  </thead>\n  <tbody>\n    <tr>\n      <th>Revolver</th>\n      <td>Yellow Submarine</td>\n      <td>1966</td>\n      <td>Starkey</td>\n    </tr>\n    <tr>\n      <th>Revolver</th>\n      <td>Doctor Robert</td>\n      <td>1966</td>\n      <td>Lennon</td>\n    </tr>\n    <tr>\n      <th>Revolver</th>\n      <td>And Your Bird Can Sing</td>\n      <td>1966</td>\n      <td>Lennon</td>\n    </tr>\n    <tr>\n      <th>Revolver</th>\n      <td>Taxman</td>\n      <td>1966</td>\n      <td>Harrison</td>\n    </tr>\n    <tr>\n      <th>Revolver</th>\n      <td>Eleanor Rigby</td>\n      <td>1966</td>\n      <td>McCartney</td>\n    </tr>\n    <tr>\n      <th>Revolver</th>\n      <td>I Want to Tell You</td>\n      <td>1966</td>\n      <td>Harrison</td>\n    </tr>\n    <tr>\n      <th>Revolver</th>\n      <td>I'm Only Sleeping</td>\n      <td>1966</td>\n      <td>Lennon</td>\n    </tr>\n    <tr>\n      <th>Revolver</th>\n      <td>Tomorrow Never Knows</td>\n      <td>1966</td>\n      <td>Lennon</td>\n    </tr>\n    <tr>\n      <th>Revolver</th>\n      <td>For No One</td>\n      <td>1966</td>\n      <td>McCartney</td>\n    </tr>\n    <tr>\n      <th>Revolver</th>\n      <td>Love You To</td>\n      <td>1966</td>\n      <td>Harrison</td>\n    </tr>\n    <tr>\n      <th>Revolver</th>\n      <td>Good Day Sunshine</td>\n      <td>1966</td>\n      <td>McCartney</td>\n    </tr>\n    <tr>\n      <th>Revolver</th>\n      <td>She Said She Said</td>\n      <td>1966</td>\n      <td>Lennon</td>\n    </tr>\n    <tr>\n      <th>Revolver</th>\n      <td>Got to Get You into My Life</td>\n      <td>1966</td>\n      <td>McCartney</td>\n    </tr>\n    <tr>\n      <th>Revolver</th>\n      <td>Here, There and Everywhere</td>\n      <td>1966</td>\n      <td>McCartney</td>\n    </tr>\n  </tbody>\n</table>\n</div>"
     },
     "metadata": {},
     "output_type": "display_data"
    },
    {
     "data": {
      "text/plain": "\"Rock 'n' Roll Music\""
     },
     "metadata": {},
     "output_type": "display_data"
    },
    {
     "data": {
      "text/plain": "                               Title  Year      Lead.vocal\nAlbum.debut                                               \nRock 'n' Roll Music        Slow Down  1964          Lennon\nRock 'n' Roll Music         Matchbox  1964  Starkey (Best)\nRock 'n' Roll Music         I'm Down  1965       McCartney\nRock 'n' Roll Music  Long Tall Sally  1964       McCartney",
      "text/html": "<div>\n<style scoped>\n    .dataframe tbody tr th:only-of-type {\n        vertical-align: middle;\n    }\n\n    .dataframe tbody tr th {\n        vertical-align: top;\n    }\n\n    .dataframe thead th {\n        text-align: right;\n    }\n</style>\n<table border=\"1\" class=\"dataframe\">\n  <thead>\n    <tr style=\"text-align: right;\">\n      <th></th>\n      <th>Title</th>\n      <th>Year</th>\n      <th>Lead.vocal</th>\n    </tr>\n    <tr>\n      <th>Album.debut</th>\n      <th></th>\n      <th></th>\n      <th></th>\n    </tr>\n  </thead>\n  <tbody>\n    <tr>\n      <th>Rock 'n' Roll Music</th>\n      <td>Slow Down</td>\n      <td>1964</td>\n      <td>Lennon</td>\n    </tr>\n    <tr>\n      <th>Rock 'n' Roll Music</th>\n      <td>Matchbox</td>\n      <td>1964</td>\n      <td>Starkey (Best)</td>\n    </tr>\n    <tr>\n      <th>Rock 'n' Roll Music</th>\n      <td>I'm Down</td>\n      <td>1965</td>\n      <td>McCartney</td>\n    </tr>\n    <tr>\n      <th>Rock 'n' Roll Music</th>\n      <td>Long Tall Sally</td>\n      <td>1964</td>\n      <td>McCartney</td>\n    </tr>\n  </tbody>\n</table>\n</div>"
     },
     "metadata": {},
     "output_type": "display_data"
    },
    {
     "data": {
      "text/plain": "'Rubber Soul'"
     },
     "metadata": {},
     "output_type": "display_data"
    },
    {
     "data": {
      "text/plain": "                                            Title  Year  \\\nAlbum.debut                                               \nRubber Soul                              The Word  1965   \nRubber Soul                                  Wait  1965   \nRubber Soul               I'm Looking Through You  1965   \nRubber Soul                          What Goes On  1965   \nRubber Soul                      You Won't See Me  1965   \nRubber Soul                   If I Needed Someone  1965   \nRubber Soul                     Run for Your Life  1965   \nRubber Soul                    Think for Yourself  1965   \nRubber Soul                          Drive My Car  1965   \nRubber Soul                              Michelle  1965   \nRubber Soul                                  Girl  1965   \nRubber Soul                            In My Life  1965   \nRubber Soul                           Nowhere Man  1965   \nRubber Soul  Norwegian Wood (This Bird Has Flown)  1965   \n\n                                 Lead.vocal  \nAlbum.debut                                  \nRubber Soul  Lennon, McCartney and Harrison  \nRubber Soul          McCartney, with Lennon  \nRubber Soul          McCartney, with Lennon  \nRubber Soul                         Starkey  \nRubber Soul                       McCartney  \nRubber Soul                        Harrison  \nRubber Soul                          Lennon  \nRubber Soul                        Harrison  \nRubber Soul          McCartney, with Lennon  \nRubber Soul                       McCartney  \nRubber Soul                          Lennon  \nRubber Soul                          Lennon  \nRubber Soul                          Lennon  \nRubber Soul                          Lennon  ",
      "text/html": "<div>\n<style scoped>\n    .dataframe tbody tr th:only-of-type {\n        vertical-align: middle;\n    }\n\n    .dataframe tbody tr th {\n        vertical-align: top;\n    }\n\n    .dataframe thead th {\n        text-align: right;\n    }\n</style>\n<table border=\"1\" class=\"dataframe\">\n  <thead>\n    <tr style=\"text-align: right;\">\n      <th></th>\n      <th>Title</th>\n      <th>Year</th>\n      <th>Lead.vocal</th>\n    </tr>\n    <tr>\n      <th>Album.debut</th>\n      <th></th>\n      <th></th>\n      <th></th>\n    </tr>\n  </thead>\n  <tbody>\n    <tr>\n      <th>Rubber Soul</th>\n      <td>The Word</td>\n      <td>1965</td>\n      <td>Lennon, McCartney and Harrison</td>\n    </tr>\n    <tr>\n      <th>Rubber Soul</th>\n      <td>Wait</td>\n      <td>1965</td>\n      <td>McCartney, with Lennon</td>\n    </tr>\n    <tr>\n      <th>Rubber Soul</th>\n      <td>I'm Looking Through You</td>\n      <td>1965</td>\n      <td>McCartney, with Lennon</td>\n    </tr>\n    <tr>\n      <th>Rubber Soul</th>\n      <td>What Goes On</td>\n      <td>1965</td>\n      <td>Starkey</td>\n    </tr>\n    <tr>\n      <th>Rubber Soul</th>\n      <td>You Won't See Me</td>\n      <td>1965</td>\n      <td>McCartney</td>\n    </tr>\n    <tr>\n      <th>Rubber Soul</th>\n      <td>If I Needed Someone</td>\n      <td>1965</td>\n      <td>Harrison</td>\n    </tr>\n    <tr>\n      <th>Rubber Soul</th>\n      <td>Run for Your Life</td>\n      <td>1965</td>\n      <td>Lennon</td>\n    </tr>\n    <tr>\n      <th>Rubber Soul</th>\n      <td>Think for Yourself</td>\n      <td>1965</td>\n      <td>Harrison</td>\n    </tr>\n    <tr>\n      <th>Rubber Soul</th>\n      <td>Drive My Car</td>\n      <td>1965</td>\n      <td>McCartney, with Lennon</td>\n    </tr>\n    <tr>\n      <th>Rubber Soul</th>\n      <td>Michelle</td>\n      <td>1965</td>\n      <td>McCartney</td>\n    </tr>\n    <tr>\n      <th>Rubber Soul</th>\n      <td>Girl</td>\n      <td>1965</td>\n      <td>Lennon</td>\n    </tr>\n    <tr>\n      <th>Rubber Soul</th>\n      <td>In My Life</td>\n      <td>1965</td>\n      <td>Lennon</td>\n    </tr>\n    <tr>\n      <th>Rubber Soul</th>\n      <td>Nowhere Man</td>\n      <td>1965</td>\n      <td>Lennon</td>\n    </tr>\n    <tr>\n      <th>Rubber Soul</th>\n      <td>Norwegian Wood (This Bird Has Flown)</td>\n      <td>1965</td>\n      <td>Lennon</td>\n    </tr>\n  </tbody>\n</table>\n</div>"
     },
     "metadata": {},
     "output_type": "display_data"
    },
    {
     "data": {
      "text/plain": "\"Sgt. Pepper's Lonely Hearts Club Band\""
     },
     "metadata": {},
     "output_type": "display_data"
    },
    {
     "data": {
      "text/plain": "Title         When I'm Sixty-Four\nYear                         1966\nLead.vocal              McCartney\nName: Sgt. Pepper's Lonely Hearts Club Band, dtype: object"
     },
     "metadata": {},
     "output_type": "display_data"
    },
    {
     "data": {
      "text/plain": "'The Beatles Bootleg Recordings 1963'"
     },
     "metadata": {},
     "output_type": "display_data"
    },
    {
     "data": {
      "text/plain": "                                           Title  Year Lead.vocal\nAlbum.debut                                                      \nThe Beatles Bootleg Recordings 1963    Bad to Me  1963     Lennon\nThe Beatles Bootleg Recordings 1963  I'm In Love  1963     Lennon",
      "text/html": "<div>\n<style scoped>\n    .dataframe tbody tr th:only-of-type {\n        vertical-align: middle;\n    }\n\n    .dataframe tbody tr th {\n        vertical-align: top;\n    }\n\n    .dataframe thead th {\n        text-align: right;\n    }\n</style>\n<table border=\"1\" class=\"dataframe\">\n  <thead>\n    <tr style=\"text-align: right;\">\n      <th></th>\n      <th>Title</th>\n      <th>Year</th>\n      <th>Lead.vocal</th>\n    </tr>\n    <tr>\n      <th>Album.debut</th>\n      <th></th>\n      <th></th>\n      <th></th>\n    </tr>\n  </thead>\n  <tbody>\n    <tr>\n      <th>The Beatles Bootleg Recordings 1963</th>\n      <td>Bad to Me</td>\n      <td>1963</td>\n      <td>Lennon</td>\n    </tr>\n    <tr>\n      <th>The Beatles Bootleg Recordings 1963</th>\n      <td>I'm In Love</td>\n      <td>1963</td>\n      <td>Lennon</td>\n    </tr>\n  </tbody>\n</table>\n</div>"
     },
     "metadata": {},
     "output_type": "display_data"
    },
    {
     "data": {
      "text/plain": "'Unknown'"
     },
     "metadata": {},
     "output_type": "display_data"
    },
    {
     "data": {
      "text/plain": "                                 Title  Year               Lead.vocal\nAlbum.debut                                                          \nUnknown              Love of the Loved  1962                McCartney\nUnknown        I'll Keep You Satisfied  1963  Lennon and/or McCartney\nUnknown                       Catswalk  1962     Instrumental/Unknown\nUnknown                  Looking Glass  1962                McCartney\nUnknown             One and One Is Two  1964                McCartney\nUnknown                          Woman  1965                McCartney\nUnknown                     The Saints  1962                 Sheridan\nUnknown      Take Good Care of My Baby  1962                 Harrison\nUnknown          September in the Rain  1962                McCartney\nUnknown               Tip of My Tongue  1962         McCartney/Lennon\nUnknown          I Lost My Little Girl  1962                   Lennon",
      "text/html": "<div>\n<style scoped>\n    .dataframe tbody tr th:only-of-type {\n        vertical-align: middle;\n    }\n\n    .dataframe tbody tr th {\n        vertical-align: top;\n    }\n\n    .dataframe thead th {\n        text-align: right;\n    }\n</style>\n<table border=\"1\" class=\"dataframe\">\n  <thead>\n    <tr style=\"text-align: right;\">\n      <th></th>\n      <th>Title</th>\n      <th>Year</th>\n      <th>Lead.vocal</th>\n    </tr>\n    <tr>\n      <th>Album.debut</th>\n      <th></th>\n      <th></th>\n      <th></th>\n    </tr>\n  </thead>\n  <tbody>\n    <tr>\n      <th>Unknown</th>\n      <td>Love of the Loved</td>\n      <td>1962</td>\n      <td>McCartney</td>\n    </tr>\n    <tr>\n      <th>Unknown</th>\n      <td>I'll Keep You Satisfied</td>\n      <td>1963</td>\n      <td>Lennon and/or McCartney</td>\n    </tr>\n    <tr>\n      <th>Unknown</th>\n      <td>Catswalk</td>\n      <td>1962</td>\n      <td>Instrumental/Unknown</td>\n    </tr>\n    <tr>\n      <th>Unknown</th>\n      <td>Looking Glass</td>\n      <td>1962</td>\n      <td>McCartney</td>\n    </tr>\n    <tr>\n      <th>Unknown</th>\n      <td>One and One Is Two</td>\n      <td>1964</td>\n      <td>McCartney</td>\n    </tr>\n    <tr>\n      <th>Unknown</th>\n      <td>Woman</td>\n      <td>1965</td>\n      <td>McCartney</td>\n    </tr>\n    <tr>\n      <th>Unknown</th>\n      <td>The Saints</td>\n      <td>1962</td>\n      <td>Sheridan</td>\n    </tr>\n    <tr>\n      <th>Unknown</th>\n      <td>Take Good Care of My Baby</td>\n      <td>1962</td>\n      <td>Harrison</td>\n    </tr>\n    <tr>\n      <th>Unknown</th>\n      <td>September in the Rain</td>\n      <td>1962</td>\n      <td>McCartney</td>\n    </tr>\n    <tr>\n      <th>Unknown</th>\n      <td>Tip of My Tongue</td>\n      <td>1962</td>\n      <td>McCartney/Lennon</td>\n    </tr>\n    <tr>\n      <th>Unknown</th>\n      <td>I Lost My Little Girl</td>\n      <td>1962</td>\n      <td>Lennon</td>\n    </tr>\n  </tbody>\n</table>\n</div>"
     },
     "metadata": {},
     "output_type": "display_data"
    },
    {
     "data": {
      "text/plain": "'With the Beatles'"
     },
     "metadata": {},
     "output_type": "display_data"
    },
    {
     "data": {
      "text/plain": "                                           Title  Year            Lead.vocal\nAlbum.debut                                                                 \nWith the Beatles                   All My Loving  1963             McCartney\nWith the Beatles              All I've Got to Do  1963                Lennon\nWith the Beatles             I Wanna Be Your Man  1963               Starkey\nWith the Beatles                It Won't Be Long  1963                Lennon\nWith the Beatles  You've Really Got a Hold on Me  1963   Lennon and Harrison\nWith the Beatles               Not a Second Time  1963                Lennon\nWith the Beatles              Till There Was You  1963             McCartney\nWith the Beatles                   Hold Me Tight  1963             McCartney\nWith the Beatles              Please Mr. Postman  1963                Lennon\nWith the Beatles              Devil in Her Heart  1963              Harrison\nWith the Beatles             Roll Over Beethoven  1963              Harrison\nWith the Beatles                 Don't Bother Me  1963              Harrison\nWith the Beatles      Money (That's What I Want)  1963                Lennon\nWith the Beatles                    Little Child  1963  Lennon and McCartney",
      "text/html": "<div>\n<style scoped>\n    .dataframe tbody tr th:only-of-type {\n        vertical-align: middle;\n    }\n\n    .dataframe tbody tr th {\n        vertical-align: top;\n    }\n\n    .dataframe thead th {\n        text-align: right;\n    }\n</style>\n<table border=\"1\" class=\"dataframe\">\n  <thead>\n    <tr style=\"text-align: right;\">\n      <th></th>\n      <th>Title</th>\n      <th>Year</th>\n      <th>Lead.vocal</th>\n    </tr>\n    <tr>\n      <th>Album.debut</th>\n      <th></th>\n      <th></th>\n      <th></th>\n    </tr>\n  </thead>\n  <tbody>\n    <tr>\n      <th>With the Beatles</th>\n      <td>All My Loving</td>\n      <td>1963</td>\n      <td>McCartney</td>\n    </tr>\n    <tr>\n      <th>With the Beatles</th>\n      <td>All I've Got to Do</td>\n      <td>1963</td>\n      <td>Lennon</td>\n    </tr>\n    <tr>\n      <th>With the Beatles</th>\n      <td>I Wanna Be Your Man</td>\n      <td>1963</td>\n      <td>Starkey</td>\n    </tr>\n    <tr>\n      <th>With the Beatles</th>\n      <td>It Won't Be Long</td>\n      <td>1963</td>\n      <td>Lennon</td>\n    </tr>\n    <tr>\n      <th>With the Beatles</th>\n      <td>You've Really Got a Hold on Me</td>\n      <td>1963</td>\n      <td>Lennon and Harrison</td>\n    </tr>\n    <tr>\n      <th>With the Beatles</th>\n      <td>Not a Second Time</td>\n      <td>1963</td>\n      <td>Lennon</td>\n    </tr>\n    <tr>\n      <th>With the Beatles</th>\n      <td>Till There Was You</td>\n      <td>1963</td>\n      <td>McCartney</td>\n    </tr>\n    <tr>\n      <th>With the Beatles</th>\n      <td>Hold Me Tight</td>\n      <td>1963</td>\n      <td>McCartney</td>\n    </tr>\n    <tr>\n      <th>With the Beatles</th>\n      <td>Please Mr. Postman</td>\n      <td>1963</td>\n      <td>Lennon</td>\n    </tr>\n    <tr>\n      <th>With the Beatles</th>\n      <td>Devil in Her Heart</td>\n      <td>1963</td>\n      <td>Harrison</td>\n    </tr>\n    <tr>\n      <th>With the Beatles</th>\n      <td>Roll Over Beethoven</td>\n      <td>1963</td>\n      <td>Harrison</td>\n    </tr>\n    <tr>\n      <th>With the Beatles</th>\n      <td>Don't Bother Me</td>\n      <td>1963</td>\n      <td>Harrison</td>\n    </tr>\n    <tr>\n      <th>With the Beatles</th>\n      <td>Money (That's What I Want)</td>\n      <td>1963</td>\n      <td>Lennon</td>\n    </tr>\n    <tr>\n      <th>With the Beatles</th>\n      <td>Little Child</td>\n      <td>1963</td>\n      <td>Lennon and McCartney</td>\n    </tr>\n  </tbody>\n</table>\n</div>"
     },
     "metadata": {},
     "output_type": "display_data"
    }
   ],
   "source": [
    "# Different ways\n",
    "display(len(songs))                                                    # 185\n",
    "display(len(songs.index))                                              # 185\n",
    "display(songs.shape[0])                                                # 185\n",
    "print()\n",
    "\n",
    "display(len(songs.loc['A Collection of Beatles Oldies']))              # 8\n",
    "display(songs.loc['A Collection of Beatles Oldies'])\n",
    "display(type(songs.loc['A Collection of Beatles Oldies']))             # pandas.core.frame.DataFrame\n",
    "print()\n",
    "\n",
    "display(len(songs.loc['Sgt. Pepper\\'s Lonely Hearts Club Band']))      # 3, although there is only one song there; in this case,\n",
    "display(songs.loc['Sgt. Pepper\\'s Lonely Hearts Club Band'])           # it is the length of the resulting Series object (row)\n",
    "display(type(songs.loc['Sgt. Pepper\\'s Lonely Hearts Club Band']))     # pandas.core.series.Series\n",
    "print()\n",
    "\n",
    "display(songs.loc['Sgt. Pepper\\'s Lonely Hearts Club Band'].shape)     # shape, instead of len(); it clearly shows that \n",
    "display(songs.loc['Sgt. Pepper\\'s Lonely Hearts Club Band'])           # the type of the resulting Series object (row) is not \n",
    "display(type(songs.loc['Sgt. Pepper\\'s Lonely Hearts Club Band']))     # pandas.core.series.DataFrame\n",
    "print()\n",
    "\n",
    "display(songs.index)                                                   # shows all indices, even though many of them repeat\n",
    "display(songs.index.unique())                                          # shows only unique indices\n",
    "print()\n",
    "\n",
    "for i in songs.index.unique():                                         # see what are the real albums there; if songs.loc[i]\n",
    "    display(i, songs.loc[i])                                           # doesn't show at least 2 songs, it's not an album"
   ]
  },
  {
   "cell_type": "markdown",
   "metadata": {
    "pycharm": {
     "name": "#%% md\n"
    }
   },
   "source": [
    "Only the `Sgt. Pepper's Lonely Hearts Club Band` index has only one corresponding row, and it will require special attention. "
   ]
  },
  {
   "cell_type": "markdown",
   "metadata": {
    "pycharm": {
     "name": "#%% md\n"
    }
   },
   "source": [
    "Compute the number of songs per album:"
   ]
  },
  {
   "cell_type": "code",
   "execution_count": 124,
   "metadata": {
    "pycharm": {
     "name": "#%%\n"
    }
   },
   "outputs": [
    {
     "data": {
      "text/plain": "                                                 No. of songs\nAlbum.debut                                                  \nA Collection of Beatles Oldies                              8\nA Hard Day's Night                                         13\nAnthology 1                                                12\nAnthology 2                                                 3\nBeatles for Sale                                           14\nHelp!                                                      14\nLive at the BBC                                            31\nLive! at the Star-Club in Hamburg, Germany; 1962            2\nMagical Mystery Tour                                        2\nOn Air - Live at the BBC Volume 2                           3\nPast Masters Volume 1                                       2\nPlease Please Me                                           14\nRarities                                                    7\nRevolver                                                   14\nRock 'n' Roll Music                                         4\nRubber Soul                                                14\nSgt. Pepper's Lonely Hearts Club Band                       1\nThe Beatles Bootleg Recordings 1963                         2\nUnknown                                                    11\nWith the Beatles                                           14",
      "text/html": "<div>\n<style scoped>\n    .dataframe tbody tr th:only-of-type {\n        vertical-align: middle;\n    }\n\n    .dataframe tbody tr th {\n        vertical-align: top;\n    }\n\n    .dataframe thead th {\n        text-align: right;\n    }\n</style>\n<table border=\"1\" class=\"dataframe\">\n  <thead>\n    <tr style=\"text-align: right;\">\n      <th></th>\n      <th>No. of songs</th>\n    </tr>\n    <tr>\n      <th>Album.debut</th>\n      <th></th>\n    </tr>\n  </thead>\n  <tbody>\n    <tr>\n      <th>A Collection of Beatles Oldies</th>\n      <td>8</td>\n    </tr>\n    <tr>\n      <th>A Hard Day's Night</th>\n      <td>13</td>\n    </tr>\n    <tr>\n      <th>Anthology 1</th>\n      <td>12</td>\n    </tr>\n    <tr>\n      <th>Anthology 2</th>\n      <td>3</td>\n    </tr>\n    <tr>\n      <th>Beatles for Sale</th>\n      <td>14</td>\n    </tr>\n    <tr>\n      <th>Help!</th>\n      <td>14</td>\n    </tr>\n    <tr>\n      <th>Live at the BBC</th>\n      <td>31</td>\n    </tr>\n    <tr>\n      <th>Live! at the Star-Club in Hamburg, Germany; 1962</th>\n      <td>2</td>\n    </tr>\n    <tr>\n      <th>Magical Mystery Tour</th>\n      <td>2</td>\n    </tr>\n    <tr>\n      <th>On Air - Live at the BBC Volume 2</th>\n      <td>3</td>\n    </tr>\n    <tr>\n      <th>Past Masters Volume 1</th>\n      <td>2</td>\n    </tr>\n    <tr>\n      <th>Please Please Me</th>\n      <td>14</td>\n    </tr>\n    <tr>\n      <th>Rarities</th>\n      <td>7</td>\n    </tr>\n    <tr>\n      <th>Revolver</th>\n      <td>14</td>\n    </tr>\n    <tr>\n      <th>Rock 'n' Roll Music</th>\n      <td>4</td>\n    </tr>\n    <tr>\n      <th>Rubber Soul</th>\n      <td>14</td>\n    </tr>\n    <tr>\n      <th>Sgt. Pepper's Lonely Hearts Club Band</th>\n      <td>1</td>\n    </tr>\n    <tr>\n      <th>The Beatles Bootleg Recordings 1963</th>\n      <td>2</td>\n    </tr>\n    <tr>\n      <th>Unknown</th>\n      <td>11</td>\n    </tr>\n    <tr>\n      <th>With the Beatles</th>\n      <td>14</td>\n    </tr>\n  </tbody>\n</table>\n</div>"
     },
     "metadata": {},
     "output_type": "display_data"
    }
   ],
   "source": [
    "result = pd.DataFrame(index=songs.index.unique(), columns=['No. of songs'])   # create an 'empty' df (i.e., with all NaN values)\n",
    "# display(result)\n",
    "# display(result.columns)\n",
    "# display(result.index)\n",
    "\n",
    "for i in result.index.unique():                                               # replace NaN values with the numbers of songs\n",
    "    result.loc[i, 'No. of songs'] = \\\n",
    "        len(songs.loc[i]) if len(songs.loc[i].shape) != 1 else 1\n",
    "\n",
    "# # Alternative for the above lines, plus the explanation\n",
    "# for i in result.index.unique():                                             # replace NaN values with the numbers of songs\n",
    "#     if len(songs.loc[i].shape) != 1:                                        # shape (m, n): more than 1 row is indexed by i\n",
    "#         result.loc[i, 'No. of songs'] = len(songs.loc[i])\n",
    "#     else:                                                                   # shape (m, ): only one row is indexed by i\n",
    "#         result.loc[i, 'No. of songs'] = 1\n",
    "\n",
    "# # Yet another alternative for the above lines, plus the explanation\n",
    "# # result.loc['Help!', 'No. of songs']\n",
    "# for i in result.index.unique():                                             # replace NaN values with the numbers of songs\n",
    "#     result.loc[i, 'No. of songs'] = len(songs.loc[i])\n",
    "# #     display(i, result.loc[i, 'No. of songs'])\n",
    "\n",
    "# # display(result.index[result['No. of songs'] == 3])                        # double-check those where 'No. of songs' is 3\n",
    "# for i in result.index[result['No. of songs'] == 3]:\n",
    "#     display(songs.loc[i])\n",
    "\n",
    "# result.loc['Sgt. Pepper\\'s Lonely Hearts Club Band', 'No. of songs'] = 1    # only 'Sgt. Pepper' should be set to 1\n",
    "\n",
    "display(result)"
   ]
  },
  {
   "cell_type": "markdown",
   "metadata": {
    "pycharm": {
     "name": "#%% md\n"
    }
   },
   "source": [
    "For each album, compute the number of songs where John Lennon sings the lead vocal (**<u>note the use of</u> `pd.DataFrame.str.startswith()`**, similar to using `pd.DataFrame.str.rpartition()`, `pd.DataFrame.str.rstrip()` and `pd.DataFrame.str.lstrip()` above; based on [this](https://stackoverflow.com/a/17958424))."
   ]
  },
  {
   "cell_type": "markdown",
   "metadata": {
    "pycharm": {
     "name": "#%% md\n"
    }
   },
   "source": [
    "In `songs`, select and keep only the rows where John Lennon is the lead vocalist:"
   ]
  },
  {
   "cell_type": "code",
   "execution_count": 125,
   "metadata": {
    "scrolled": true,
    "pycharm": {
     "name": "#%%\n"
    }
   },
   "outputs": [
    {
     "data": {
      "text/plain": "                                                         Title  Year  \\\nAlbum.debut                                                            \nA Collection of Beatles Oldies                  From Me to You  1963   \nA Collection of Beatles Oldies                   She Loves You  1963   \nA Collection of Beatles Oldies                     Day Tripper  1965   \nA Collection of Beatles Oldies                     I Feel Fine  1964   \nA Collection of Beatles Oldies                         Bad Boy  1965   \n...                                                        ...   ...   \nWith the Beatles                You've Really Got a Hold on Me  1963   \nWith the Beatles                             Not a Second Time  1963   \nWith the Beatles                            Please Mr. Postman  1963   \nWith the Beatles                    Money (That's What I Want)  1963   \nWith the Beatles                                  Little Child  1963   \n\n                                          Lead.vocal  \nAlbum.debut                                           \nA Collection of Beatles Oldies  Lennon and McCartney  \nA Collection of Beatles Oldies  Lennon and McCartney  \nA Collection of Beatles Oldies  Lennon and McCartney  \nA Collection of Beatles Oldies                Lennon  \nA Collection of Beatles Oldies                Lennon  \n...                                              ...  \nWith the Beatles                 Lennon and Harrison  \nWith the Beatles                              Lennon  \nWith the Beatles                              Lennon  \nWith the Beatles                              Lennon  \nWith the Beatles                Lennon and McCartney  \n\n[96 rows x 3 columns]",
      "text/html": "<div>\n<style scoped>\n    .dataframe tbody tr th:only-of-type {\n        vertical-align: middle;\n    }\n\n    .dataframe tbody tr th {\n        vertical-align: top;\n    }\n\n    .dataframe thead th {\n        text-align: right;\n    }\n</style>\n<table border=\"1\" class=\"dataframe\">\n  <thead>\n    <tr style=\"text-align: right;\">\n      <th></th>\n      <th>Title</th>\n      <th>Year</th>\n      <th>Lead.vocal</th>\n    </tr>\n    <tr>\n      <th>Album.debut</th>\n      <th></th>\n      <th></th>\n      <th></th>\n    </tr>\n  </thead>\n  <tbody>\n    <tr>\n      <th>A Collection of Beatles Oldies</th>\n      <td>From Me to You</td>\n      <td>1963</td>\n      <td>Lennon and McCartney</td>\n    </tr>\n    <tr>\n      <th>A Collection of Beatles Oldies</th>\n      <td>She Loves You</td>\n      <td>1963</td>\n      <td>Lennon and McCartney</td>\n    </tr>\n    <tr>\n      <th>A Collection of Beatles Oldies</th>\n      <td>Day Tripper</td>\n      <td>1965</td>\n      <td>Lennon and McCartney</td>\n    </tr>\n    <tr>\n      <th>A Collection of Beatles Oldies</th>\n      <td>I Feel Fine</td>\n      <td>1964</td>\n      <td>Lennon</td>\n    </tr>\n    <tr>\n      <th>A Collection of Beatles Oldies</th>\n      <td>Bad Boy</td>\n      <td>1965</td>\n      <td>Lennon</td>\n    </tr>\n    <tr>\n      <th>...</th>\n      <td>...</td>\n      <td>...</td>\n      <td>...</td>\n    </tr>\n    <tr>\n      <th>With the Beatles</th>\n      <td>You've Really Got a Hold on Me</td>\n      <td>1963</td>\n      <td>Lennon and Harrison</td>\n    </tr>\n    <tr>\n      <th>With the Beatles</th>\n      <td>Not a Second Time</td>\n      <td>1963</td>\n      <td>Lennon</td>\n    </tr>\n    <tr>\n      <th>With the Beatles</th>\n      <td>Please Mr. Postman</td>\n      <td>1963</td>\n      <td>Lennon</td>\n    </tr>\n    <tr>\n      <th>With the Beatles</th>\n      <td>Money (That's What I Want)</td>\n      <td>1963</td>\n      <td>Lennon</td>\n    </tr>\n    <tr>\n      <th>With the Beatles</th>\n      <td>Little Child</td>\n      <td>1963</td>\n      <td>Lennon and McCartney</td>\n    </tr>\n  </tbody>\n</table>\n<p>96 rows × 3 columns</p>\n</div>"
     },
     "execution_count": 125,
     "metadata": {},
     "output_type": "execute_result"
    }
   ],
   "source": [
    "# display(songs['Lead.vocal'].str.startswith('Lennon'))\n",
    "songs = songs[songs['Lead.vocal'].str.startswith('Lennon')]\n",
    "songs\n",
    "\n",
    "# # display(songs.head)                                                               # not a pretty display\n",
    "# display(songs.head())                                                               # pretty display\n",
    "# np.sum(songs['Lennon as the lead vocal'])"
   ]
  },
  {
   "cell_type": "markdown",
   "metadata": {
    "pycharm": {
     "name": "#%% md\n"
    }
   },
   "source": [
    "Update the `result` dataframe. **Note the use of `np.round()` (based on [this](https://numpy.org/doc/stable/reference/generated/numpy.round_.html)) and `pd.to_numeric()` (based on [this](https://pandas.pydata.org/pandas-docs/stable/reference/api/pandas.to_numeric.html))** - `np.round()` works with arrays, not with `pd.Series` objects, that's why `pd.to_numeric()` is necessary:"
   ]
  },
  {
   "cell_type": "code",
   "execution_count": 126,
   "metadata": {
    "pycharm": {
     "name": "#%%\n"
    }
   },
   "outputs": [
    {
     "data": {
      "text/plain": "                                                 No. of songs  \\\nAlbum.debut                                                     \nA Collection of Beatles Oldies                              8   \nA Hard Day's Night                                         13   \nAnthology 1                                                12   \nAnthology 2                                                 3   \nBeatles for Sale                                           14   \nHelp!                                                      14   \nLive at the BBC                                            31   \nLive! at the Star-Club in Hamburg, Germany; 1962            2   \nMagical Mystery Tour                                        2   \nOn Air - Live at the BBC Volume 2                           3   \nPast Masters Volume 1                                       2   \nPlease Please Me                                           14   \nRarities                                                    7   \nRevolver                                                   14   \nRock 'n' Roll Music                                         4   \nRubber Soul                                                14   \nSgt. Pepper's Lonely Hearts Club Band                       1   \nThe Beatles Bootleg Recordings 1963                         2   \nUnknown                                                    11   \nWith the Beatles                                           14   \n\n                                                  Lennon as the lead vocal  \\\nAlbum.debut                                                                  \nA Collection of Beatles Oldies                                           0   \nA Hard Day's Night                                                       0   \nAnthology 1                                                              0   \nAnthology 2                                                              0   \nBeatles for Sale                                                         0   \nHelp!                                                                    0   \nLive at the BBC                                                          0   \nLive! at the Star-Club in Hamburg, Germany; 1962                         0   \nMagical Mystery Tour                                                     0   \nOn Air - Live at the BBC Volume 2                                        0   \nPast Masters Volume 1                                                    0   \nPlease Please Me                                                         0   \nRarities                                                                 0   \nRevolver                                                                 0   \nRock 'n' Roll Music                                                      0   \nRubber Soul                                                              0   \nSgt. Pepper's Lonely Hearts Club Band                                    0   \nThe Beatles Bootleg Recordings 1963                                      0   \nUnknown                                                                  0   \nWith the Beatles                                                         0   \n\n                                                  Proportion  \nAlbum.debut                                                   \nA Collection of Beatles Oldies                             0  \nA Hard Day's Night                                         0  \nAnthology 1                                                0  \nAnthology 2                                                0  \nBeatles for Sale                                           0  \nHelp!                                                      0  \nLive at the BBC                                            0  \nLive! at the Star-Club in Hamburg, Germany; 1962           0  \nMagical Mystery Tour                                       0  \nOn Air - Live at the BBC Volume 2                          0  \nPast Masters Volume 1                                      0  \nPlease Please Me                                           0  \nRarities                                                   0  \nRevolver                                                   0  \nRock 'n' Roll Music                                        0  \nRubber Soul                                                0  \nSgt. Pepper's Lonely Hearts Club Band                      0  \nThe Beatles Bootleg Recordings 1963                        0  \nUnknown                                                    0  \nWith the Beatles                                           0  ",
      "text/html": "<div>\n<style scoped>\n    .dataframe tbody tr th:only-of-type {\n        vertical-align: middle;\n    }\n\n    .dataframe tbody tr th {\n        vertical-align: top;\n    }\n\n    .dataframe thead th {\n        text-align: right;\n    }\n</style>\n<table border=\"1\" class=\"dataframe\">\n  <thead>\n    <tr style=\"text-align: right;\">\n      <th></th>\n      <th>No. of songs</th>\n      <th>Lennon as the lead vocal</th>\n      <th>Proportion</th>\n    </tr>\n    <tr>\n      <th>Album.debut</th>\n      <th></th>\n      <th></th>\n      <th></th>\n    </tr>\n  </thead>\n  <tbody>\n    <tr>\n      <th>A Collection of Beatles Oldies</th>\n      <td>8</td>\n      <td>0</td>\n      <td>0</td>\n    </tr>\n    <tr>\n      <th>A Hard Day's Night</th>\n      <td>13</td>\n      <td>0</td>\n      <td>0</td>\n    </tr>\n    <tr>\n      <th>Anthology 1</th>\n      <td>12</td>\n      <td>0</td>\n      <td>0</td>\n    </tr>\n    <tr>\n      <th>Anthology 2</th>\n      <td>3</td>\n      <td>0</td>\n      <td>0</td>\n    </tr>\n    <tr>\n      <th>Beatles for Sale</th>\n      <td>14</td>\n      <td>0</td>\n      <td>0</td>\n    </tr>\n    <tr>\n      <th>Help!</th>\n      <td>14</td>\n      <td>0</td>\n      <td>0</td>\n    </tr>\n    <tr>\n      <th>Live at the BBC</th>\n      <td>31</td>\n      <td>0</td>\n      <td>0</td>\n    </tr>\n    <tr>\n      <th>Live! at the Star-Club in Hamburg, Germany; 1962</th>\n      <td>2</td>\n      <td>0</td>\n      <td>0</td>\n    </tr>\n    <tr>\n      <th>Magical Mystery Tour</th>\n      <td>2</td>\n      <td>0</td>\n      <td>0</td>\n    </tr>\n    <tr>\n      <th>On Air - Live at the BBC Volume 2</th>\n      <td>3</td>\n      <td>0</td>\n      <td>0</td>\n    </tr>\n    <tr>\n      <th>Past Masters Volume 1</th>\n      <td>2</td>\n      <td>0</td>\n      <td>0</td>\n    </tr>\n    <tr>\n      <th>Please Please Me</th>\n      <td>14</td>\n      <td>0</td>\n      <td>0</td>\n    </tr>\n    <tr>\n      <th>Rarities</th>\n      <td>7</td>\n      <td>0</td>\n      <td>0</td>\n    </tr>\n    <tr>\n      <th>Revolver</th>\n      <td>14</td>\n      <td>0</td>\n      <td>0</td>\n    </tr>\n    <tr>\n      <th>Rock 'n' Roll Music</th>\n      <td>4</td>\n      <td>0</td>\n      <td>0</td>\n    </tr>\n    <tr>\n      <th>Rubber Soul</th>\n      <td>14</td>\n      <td>0</td>\n      <td>0</td>\n    </tr>\n    <tr>\n      <th>Sgt. Pepper's Lonely Hearts Club Band</th>\n      <td>1</td>\n      <td>0</td>\n      <td>0</td>\n    </tr>\n    <tr>\n      <th>The Beatles Bootleg Recordings 1963</th>\n      <td>2</td>\n      <td>0</td>\n      <td>0</td>\n    </tr>\n    <tr>\n      <th>Unknown</th>\n      <td>11</td>\n      <td>0</td>\n      <td>0</td>\n    </tr>\n    <tr>\n      <th>With the Beatles</th>\n      <td>14</td>\n      <td>0</td>\n      <td>0</td>\n    </tr>\n  </tbody>\n</table>\n</div>"
     },
     "metadata": {},
     "output_type": "display_data"
    },
    {
     "data": {
      "text/plain": "                                                 No. of songs  \\\nAlbum.debut                                                     \nA Collection of Beatles Oldies                              8   \nA Hard Day's Night                                         13   \nAnthology 1                                                12   \nAnthology 2                                                 3   \nBeatles for Sale                                           14   \nHelp!                                                      14   \nLive at the BBC                                            31   \nLive! at the Star-Club in Hamburg, Germany; 1962            2   \nMagical Mystery Tour                                        2   \nOn Air - Live at the BBC Volume 2                           3   \nPast Masters Volume 1                                       2   \nPlease Please Me                                           14   \nRarities                                                    7   \nRevolver                                                   14   \nRock 'n' Roll Music                                         4   \nRubber Soul                                                14   \nSgt. Pepper's Lonely Hearts Club Band                       1   \nThe Beatles Bootleg Recordings 1963                         2   \nUnknown                                                    11   \nWith the Beatles                                           14   \n\n                                                  Lennon as the lead vocal  \\\nAlbum.debut                                                                  \nA Collection of Beatles Oldies                                           6   \nA Hard Day's Night                                                       9   \nAnthology 1                                                              6   \nAnthology 2                                                              0   \nBeatles for Sale                                                         9   \nHelp!                                                                    6   \nLive at the BBC                                                         17   \nLive! at the Star-Club in Hamburg, Germany; 1962                         2   \nMagical Mystery Tour                                                     1   \nOn Air - Live at the BBC Volume 2                                        2   \nPast Masters Volume 1                                                    2   \nPlease Please Me                                                         7   \nRarities                                                                 6   \nRevolver                                                                 5   \nRock 'n' Roll Music                                                      1   \nRubber Soul                                                              6   \nSgt. Pepper's Lonely Hearts Club Band                                    0   \nThe Beatles Bootleg Recordings 1963                                      2   \nUnknown                                                                  2   \nWith the Beatles                                                         7   \n\n                                                  Proportion  \nAlbum.debut                                                   \nA Collection of Beatles Oldies                          0.75  \nA Hard Day's Night                                      0.69  \nAnthology 1                                             0.50  \nAnthology 2                                             0.00  \nBeatles for Sale                                        0.64  \nHelp!                                                   0.43  \nLive at the BBC                                         0.55  \nLive! at the Star-Club in Hamburg, Germany; 1962        1.00  \nMagical Mystery Tour                                    0.50  \nOn Air - Live at the BBC Volume 2                       0.67  \nPast Masters Volume 1                                   1.00  \nPlease Please Me                                        0.50  \nRarities                                                0.86  \nRevolver                                                0.36  \nRock 'n' Roll Music                                     0.25  \nRubber Soul                                             0.43  \nSgt. Pepper's Lonely Hearts Club Band                   0.00  \nThe Beatles Bootleg Recordings 1963                     1.00  \nUnknown                                                 0.18  \nWith the Beatles                                        0.50  ",
      "text/html": "<div>\n<style scoped>\n    .dataframe tbody tr th:only-of-type {\n        vertical-align: middle;\n    }\n\n    .dataframe tbody tr th {\n        vertical-align: top;\n    }\n\n    .dataframe thead th {\n        text-align: right;\n    }\n</style>\n<table border=\"1\" class=\"dataframe\">\n  <thead>\n    <tr style=\"text-align: right;\">\n      <th></th>\n      <th>No. of songs</th>\n      <th>Lennon as the lead vocal</th>\n      <th>Proportion</th>\n    </tr>\n    <tr>\n      <th>Album.debut</th>\n      <th></th>\n      <th></th>\n      <th></th>\n    </tr>\n  </thead>\n  <tbody>\n    <tr>\n      <th>A Collection of Beatles Oldies</th>\n      <td>8</td>\n      <td>6</td>\n      <td>0.75</td>\n    </tr>\n    <tr>\n      <th>A Hard Day's Night</th>\n      <td>13</td>\n      <td>9</td>\n      <td>0.69</td>\n    </tr>\n    <tr>\n      <th>Anthology 1</th>\n      <td>12</td>\n      <td>6</td>\n      <td>0.50</td>\n    </tr>\n    <tr>\n      <th>Anthology 2</th>\n      <td>3</td>\n      <td>0</td>\n      <td>0.00</td>\n    </tr>\n    <tr>\n      <th>Beatles for Sale</th>\n      <td>14</td>\n      <td>9</td>\n      <td>0.64</td>\n    </tr>\n    <tr>\n      <th>Help!</th>\n      <td>14</td>\n      <td>6</td>\n      <td>0.43</td>\n    </tr>\n    <tr>\n      <th>Live at the BBC</th>\n      <td>31</td>\n      <td>17</td>\n      <td>0.55</td>\n    </tr>\n    <tr>\n      <th>Live! at the Star-Club in Hamburg, Germany; 1962</th>\n      <td>2</td>\n      <td>2</td>\n      <td>1.00</td>\n    </tr>\n    <tr>\n      <th>Magical Mystery Tour</th>\n      <td>2</td>\n      <td>1</td>\n      <td>0.50</td>\n    </tr>\n    <tr>\n      <th>On Air - Live at the BBC Volume 2</th>\n      <td>3</td>\n      <td>2</td>\n      <td>0.67</td>\n    </tr>\n    <tr>\n      <th>Past Masters Volume 1</th>\n      <td>2</td>\n      <td>2</td>\n      <td>1.00</td>\n    </tr>\n    <tr>\n      <th>Please Please Me</th>\n      <td>14</td>\n      <td>7</td>\n      <td>0.50</td>\n    </tr>\n    <tr>\n      <th>Rarities</th>\n      <td>7</td>\n      <td>6</td>\n      <td>0.86</td>\n    </tr>\n    <tr>\n      <th>Revolver</th>\n      <td>14</td>\n      <td>5</td>\n      <td>0.36</td>\n    </tr>\n    <tr>\n      <th>Rock 'n' Roll Music</th>\n      <td>4</td>\n      <td>1</td>\n      <td>0.25</td>\n    </tr>\n    <tr>\n      <th>Rubber Soul</th>\n      <td>14</td>\n      <td>6</td>\n      <td>0.43</td>\n    </tr>\n    <tr>\n      <th>Sgt. Pepper's Lonely Hearts Club Band</th>\n      <td>1</td>\n      <td>0</td>\n      <td>0.00</td>\n    </tr>\n    <tr>\n      <th>The Beatles Bootleg Recordings 1963</th>\n      <td>2</td>\n      <td>2</td>\n      <td>1.00</td>\n    </tr>\n    <tr>\n      <th>Unknown</th>\n      <td>11</td>\n      <td>2</td>\n      <td>0.18</td>\n    </tr>\n    <tr>\n      <th>With the Beatles</th>\n      <td>14</td>\n      <td>7</td>\n      <td>0.50</td>\n    </tr>\n  </tbody>\n</table>\n</div>"
     },
     "metadata": {},
     "output_type": "display_data"
    }
   ],
   "source": [
    "result['Lennon as the lead vocal'] = 0          # add new column for the number of songs where John Lennon is the lead vocal\n",
    "result['Proportion'] = 0                        # add new column for the proportion of songs where John Lennon is the lead vocal\n",
    "display(result)\n",
    "\n",
    "for i in songs.index.unique():\n",
    "    result.loc[i, 'Lennon as the lead vocal'] = len(songs.loc[i]) if len(songs.loc[i].shape) != 1 else 1\n",
    "    result['Proportion'] = result['Lennon as the lead vocal'] / result['No. of songs'] \n",
    "\n",
    "result['Proportion'] = np.round(pd.to_numeric(result['Proportion']), decimals=2)\n",
    "\n",
    "display(result)"
   ]
  },
  {
   "cell_type": "markdown",
   "metadata": {
    "pycharm": {
     "name": "#%% md\n"
    }
   },
   "source": [
    "Rank the albums by the proportion of John Lennon's appearance as the lead vocalist in the songs from the corresponding album:"
   ]
  },
  {
   "cell_type": "code",
   "execution_count": 127,
   "metadata": {
    "scrolled": true,
    "pycharm": {
     "name": "#%%\n"
    }
   },
   "outputs": [
    {
     "data": {
      "text/plain": "                                                 No. of songs  \\\nAlbum.debut                                                     \nPast Masters Volume 1                                       2   \nLive! at the Star-Club in Hamburg, Germany; 1962            2   \nThe Beatles Bootleg Recordings 1963                         2   \nRarities                                                    7   \nA Collection of Beatles Oldies                              8   \nA Hard Day's Night                                         13   \nOn Air - Live at the BBC Volume 2                           3   \nBeatles for Sale                                           14   \nLive at the BBC                                            31   \nMagical Mystery Tour                                        2   \nPlease Please Me                                           14   \nAnthology 1                                                12   \nWith the Beatles                                           14   \nHelp!                                                      14   \nRubber Soul                                                14   \nRevolver                                                   14   \nRock 'n' Roll Music                                         4   \nUnknown                                                    11   \nAnthology 2                                                 3   \nSgt. Pepper's Lonely Hearts Club Band                       1   \n\n                                                  Lennon as the lead vocal  \\\nAlbum.debut                                                                  \nPast Masters Volume 1                                                    2   \nLive! at the Star-Club in Hamburg, Germany; 1962                         2   \nThe Beatles Bootleg Recordings 1963                                      2   \nRarities                                                                 6   \nA Collection of Beatles Oldies                                           6   \nA Hard Day's Night                                                       9   \nOn Air - Live at the BBC Volume 2                                        2   \nBeatles for Sale                                                         9   \nLive at the BBC                                                         17   \nMagical Mystery Tour                                                     1   \nPlease Please Me                                                         7   \nAnthology 1                                                              6   \nWith the Beatles                                                         7   \nHelp!                                                                    6   \nRubber Soul                                                              6   \nRevolver                                                                 5   \nRock 'n' Roll Music                                                      1   \nUnknown                                                                  2   \nAnthology 2                                                              0   \nSgt. Pepper's Lonely Hearts Club Band                                    0   \n\n                                                  Proportion  \nAlbum.debut                                                   \nPast Masters Volume 1                                   1.00  \nLive! at the Star-Club in Hamburg, Germany; 1962        1.00  \nThe Beatles Bootleg Recordings 1963                     1.00  \nRarities                                                0.86  \nA Collection of Beatles Oldies                          0.75  \nA Hard Day's Night                                      0.69  \nOn Air - Live at the BBC Volume 2                       0.67  \nBeatles for Sale                                        0.64  \nLive at the BBC                                         0.55  \nMagical Mystery Tour                                    0.50  \nPlease Please Me                                        0.50  \nAnthology 1                                             0.50  \nWith the Beatles                                        0.50  \nHelp!                                                   0.43  \nRubber Soul                                             0.43  \nRevolver                                                0.36  \nRock 'n' Roll Music                                     0.25  \nUnknown                                                 0.18  \nAnthology 2                                             0.00  \nSgt. Pepper's Lonely Hearts Club Band                   0.00  ",
      "text/html": "<div>\n<style scoped>\n    .dataframe tbody tr th:only-of-type {\n        vertical-align: middle;\n    }\n\n    .dataframe tbody tr th {\n        vertical-align: top;\n    }\n\n    .dataframe thead th {\n        text-align: right;\n    }\n</style>\n<table border=\"1\" class=\"dataframe\">\n  <thead>\n    <tr style=\"text-align: right;\">\n      <th></th>\n      <th>No. of songs</th>\n      <th>Lennon as the lead vocal</th>\n      <th>Proportion</th>\n    </tr>\n    <tr>\n      <th>Album.debut</th>\n      <th></th>\n      <th></th>\n      <th></th>\n    </tr>\n  </thead>\n  <tbody>\n    <tr>\n      <th>Past Masters Volume 1</th>\n      <td>2</td>\n      <td>2</td>\n      <td>1.00</td>\n    </tr>\n    <tr>\n      <th>Live! at the Star-Club in Hamburg, Germany; 1962</th>\n      <td>2</td>\n      <td>2</td>\n      <td>1.00</td>\n    </tr>\n    <tr>\n      <th>The Beatles Bootleg Recordings 1963</th>\n      <td>2</td>\n      <td>2</td>\n      <td>1.00</td>\n    </tr>\n    <tr>\n      <th>Rarities</th>\n      <td>7</td>\n      <td>6</td>\n      <td>0.86</td>\n    </tr>\n    <tr>\n      <th>A Collection of Beatles Oldies</th>\n      <td>8</td>\n      <td>6</td>\n      <td>0.75</td>\n    </tr>\n    <tr>\n      <th>A Hard Day's Night</th>\n      <td>13</td>\n      <td>9</td>\n      <td>0.69</td>\n    </tr>\n    <tr>\n      <th>On Air - Live at the BBC Volume 2</th>\n      <td>3</td>\n      <td>2</td>\n      <td>0.67</td>\n    </tr>\n    <tr>\n      <th>Beatles for Sale</th>\n      <td>14</td>\n      <td>9</td>\n      <td>0.64</td>\n    </tr>\n    <tr>\n      <th>Live at the BBC</th>\n      <td>31</td>\n      <td>17</td>\n      <td>0.55</td>\n    </tr>\n    <tr>\n      <th>Magical Mystery Tour</th>\n      <td>2</td>\n      <td>1</td>\n      <td>0.50</td>\n    </tr>\n    <tr>\n      <th>Please Please Me</th>\n      <td>14</td>\n      <td>7</td>\n      <td>0.50</td>\n    </tr>\n    <tr>\n      <th>Anthology 1</th>\n      <td>12</td>\n      <td>6</td>\n      <td>0.50</td>\n    </tr>\n    <tr>\n      <th>With the Beatles</th>\n      <td>14</td>\n      <td>7</td>\n      <td>0.50</td>\n    </tr>\n    <tr>\n      <th>Help!</th>\n      <td>14</td>\n      <td>6</td>\n      <td>0.43</td>\n    </tr>\n    <tr>\n      <th>Rubber Soul</th>\n      <td>14</td>\n      <td>6</td>\n      <td>0.43</td>\n    </tr>\n    <tr>\n      <th>Revolver</th>\n      <td>14</td>\n      <td>5</td>\n      <td>0.36</td>\n    </tr>\n    <tr>\n      <th>Rock 'n' Roll Music</th>\n      <td>4</td>\n      <td>1</td>\n      <td>0.25</td>\n    </tr>\n    <tr>\n      <th>Unknown</th>\n      <td>11</td>\n      <td>2</td>\n      <td>0.18</td>\n    </tr>\n    <tr>\n      <th>Anthology 2</th>\n      <td>3</td>\n      <td>0</td>\n      <td>0.00</td>\n    </tr>\n    <tr>\n      <th>Sgt. Pepper's Lonely Hearts Club Band</th>\n      <td>1</td>\n      <td>0</td>\n      <td>0.00</td>\n    </tr>\n  </tbody>\n</table>\n</div>"
     },
     "execution_count": 127,
     "metadata": {},
     "output_type": "execute_result"
    }
   ],
   "source": [
    "result = result.sort_values('Proportion', ascending=False)\n",
    "result"
   ]
  },
  {
   "cell_type": "markdown",
   "metadata": {
    "pycharm": {
     "name": "#%% md\n"
    }
   },
   "source": [
    "## Aggregation\n",
    "Refers to computing simple aggregations like `sum()`, `mean()`, `median()`, `min()`, and `max()`, as well as using the `groupby` operation in order to run more sophisticated aggregations."
   ]
  },
  {
   "cell_type": "markdown",
   "source": [
    "Based on [this](https://stackoverflow.com/a/22149930/1899061), in all computations, `axis=...` refers to the axis **along which** the computation is done. By default, `axis=0`. This is consistent with the `numpy.mean` usage when axis is specified explicitly (in `numpy.mean`, `axis==None` by default, which computes the mean value over the flattened array), in which `axis=0` along the rows (namely, index in pandas), and `axis=1` along the columns.\n",
    "Note also that that `axis=0` indicates aggregating along rows and `axis=1` indicates aggregating along columns. This is consistent with how we index into a dataframe. In `df.iloc[<row>, <column>]`, `<row>` is in index position 0 and `<column>` is in index position 1. For added clarity, one may choose to specify `axis='index'` (instead of `axis=0`) or `axis='columns'` (instead of `axis=1`).\n",
    "**But**, `axis=0` means each row as a bulk - we manipulate a `pd.DataFrame` inter-row, instead of within-row. Likewise, 1 means each column as a bulk, i.e. we manipulate a `pd.DataFrame` inter-column instead of within-column. For example, `<pd.df>.drop(\"A\", axis=1)` will drop a whole column `'A'`."
   ],
   "metadata": {
    "collapsed": false,
    "pycharm": {
     "name": "#%% md\n"
    }
   }
  },
  {
   "cell_type": "markdown",
   "metadata": {
    "pycharm": {
     "name": "#%% md\n"
    }
   },
   "source": [
    "### Simple aggregation"
   ]
  },
  {
   "cell_type": "markdown",
   "metadata": {
    "pycharm": {
     "name": "#%% md\n"
    }
   },
   "source": [
    "Read a dataset and check its column types:"
   ]
  },
  {
   "cell_type": "code",
   "execution_count": 2,
   "metadata": {
    "pycharm": {
     "name": "#%%\n"
    }
   },
   "outputs": [
    {
     "data": {
      "text/plain": "Title               object\nYear                 int64\nAlbum.debut         object\nDuration             int64\nOther.releases       int64\nGenre               object\nSongwriter          object\nLead.vocal          object\nTop.50.Billboard     int64\ndtype: object"
     },
     "metadata": {},
     "output_type": "display_data"
    }
   ],
   "source": [
    "songs = pd.read_csv('data/The Beatles songs dataset, v2, no NAs.csv')\n",
    "display(songs.dtypes)"
   ]
  },
  {
   "cell_type": "markdown",
   "metadata": {
    "pycharm": {
     "name": "#%% md\n"
    }
   },
   "source": [
    "#### *describe()* the entire dataframe\n",
    "Computes several common aggregates for each column and returns the result. Pretty much like `summary()` in R. <br>By default, only numeric columns are taken into account in computation and the corresponding aggregates are returned. To compute aggregates for all columns, use `describe(include='all')`.<br>Note the use `dropna()` to omit rows with possible NA values."
   ]
  },
  {
   "cell_type": "code",
   "execution_count": 3,
   "metadata": {
    "scrolled": true,
    "pycharm": {
     "name": "#%%\n"
    }
   },
   "outputs": [
    {
     "data": {
      "text/plain": "              Year    Duration  Other.releases  Top.50.Billboard\ncount   282.000000  282.000000      282.000000        282.000000\nmean   1965.464539  158.631206       11.390071          3.570922\nstd       2.662609   51.859708       10.164325         11.680364\nmin    1958.000000   23.000000        0.000000         -1.000000\n25%    1963.000000  130.000000        2.500000         -1.000000\n50%    1965.000000  150.000000       10.000000         -1.000000\n75%    1968.000000  173.750000       17.000000         -1.000000\nmax    1980.000000  467.000000       56.000000         50.000000",
      "text/html": "<div>\n<style scoped>\n    .dataframe tbody tr th:only-of-type {\n        vertical-align: middle;\n    }\n\n    .dataframe tbody tr th {\n        vertical-align: top;\n    }\n\n    .dataframe thead th {\n        text-align: right;\n    }\n</style>\n<table border=\"1\" class=\"dataframe\">\n  <thead>\n    <tr style=\"text-align: right;\">\n      <th></th>\n      <th>Year</th>\n      <th>Duration</th>\n      <th>Other.releases</th>\n      <th>Top.50.Billboard</th>\n    </tr>\n  </thead>\n  <tbody>\n    <tr>\n      <th>count</th>\n      <td>282.000000</td>\n      <td>282.000000</td>\n      <td>282.000000</td>\n      <td>282.000000</td>\n    </tr>\n    <tr>\n      <th>mean</th>\n      <td>1965.464539</td>\n      <td>158.631206</td>\n      <td>11.390071</td>\n      <td>3.570922</td>\n    </tr>\n    <tr>\n      <th>std</th>\n      <td>2.662609</td>\n      <td>51.859708</td>\n      <td>10.164325</td>\n      <td>11.680364</td>\n    </tr>\n    <tr>\n      <th>min</th>\n      <td>1958.000000</td>\n      <td>23.000000</td>\n      <td>0.000000</td>\n      <td>-1.000000</td>\n    </tr>\n    <tr>\n      <th>25%</th>\n      <td>1963.000000</td>\n      <td>130.000000</td>\n      <td>2.500000</td>\n      <td>-1.000000</td>\n    </tr>\n    <tr>\n      <th>50%</th>\n      <td>1965.000000</td>\n      <td>150.000000</td>\n      <td>10.000000</td>\n      <td>-1.000000</td>\n    </tr>\n    <tr>\n      <th>75%</th>\n      <td>1968.000000</td>\n      <td>173.750000</td>\n      <td>17.000000</td>\n      <td>-1.000000</td>\n    </tr>\n    <tr>\n      <th>max</th>\n      <td>1980.000000</td>\n      <td>467.000000</td>\n      <td>56.000000</td>\n      <td>50.000000</td>\n    </tr>\n  </tbody>\n</table>\n</div>"
     },
     "metadata": {},
     "output_type": "display_data"
    },
    {
     "data": {
      "text/plain": "                        Title         Year      Album.debut    Duration  \\\ncount                     282   282.000000              282  282.000000   \nunique                    281          NaN               54         NaN   \ntop     I'm Talking About You          NaN  Live at the BBC         NaN   \nfreq                        2          NaN               31         NaN   \nmean                      NaN  1965.464539              NaN  158.631206   \nstd                       NaN     2.662609              NaN   51.859708   \nmin                       NaN  1958.000000              NaN   23.000000   \n25%                       NaN  1963.000000              NaN  130.000000   \n50%                       NaN  1965.000000              NaN  150.000000   \n75%                       NaN  1968.000000              NaN  173.750000   \nmax                       NaN  1980.000000              NaN  467.000000   \n\n        Other.releases     Genre Songwriter Lead.vocal  Top.50.Billboard  \ncount       282.000000       282        282        282        282.000000  \nunique             NaN       108         74         21               NaN  \ntop                NaN  Pop/Rock     Lennon     Lennon               NaN  \nfreq               NaN        54         62         95               NaN  \nmean         11.390071       NaN        NaN        NaN          3.570922  \nstd          10.164325       NaN        NaN        NaN         11.680364  \nmin           0.000000       NaN        NaN        NaN         -1.000000  \n25%           2.500000       NaN        NaN        NaN         -1.000000  \n50%          10.000000       NaN        NaN        NaN         -1.000000  \n75%          17.000000       NaN        NaN        NaN         -1.000000  \nmax          56.000000       NaN        NaN        NaN         50.000000  ",
      "text/html": "<div>\n<style scoped>\n    .dataframe tbody tr th:only-of-type {\n        vertical-align: middle;\n    }\n\n    .dataframe tbody tr th {\n        vertical-align: top;\n    }\n\n    .dataframe thead th {\n        text-align: right;\n    }\n</style>\n<table border=\"1\" class=\"dataframe\">\n  <thead>\n    <tr style=\"text-align: right;\">\n      <th></th>\n      <th>Title</th>\n      <th>Year</th>\n      <th>Album.debut</th>\n      <th>Duration</th>\n      <th>Other.releases</th>\n      <th>Genre</th>\n      <th>Songwriter</th>\n      <th>Lead.vocal</th>\n      <th>Top.50.Billboard</th>\n    </tr>\n  </thead>\n  <tbody>\n    <tr>\n      <th>count</th>\n      <td>282</td>\n      <td>282.000000</td>\n      <td>282</td>\n      <td>282.000000</td>\n      <td>282.000000</td>\n      <td>282</td>\n      <td>282</td>\n      <td>282</td>\n      <td>282.000000</td>\n    </tr>\n    <tr>\n      <th>unique</th>\n      <td>281</td>\n      <td>NaN</td>\n      <td>54</td>\n      <td>NaN</td>\n      <td>NaN</td>\n      <td>108</td>\n      <td>74</td>\n      <td>21</td>\n      <td>NaN</td>\n    </tr>\n    <tr>\n      <th>top</th>\n      <td>I'm Talking About You</td>\n      <td>NaN</td>\n      <td>Live at the BBC</td>\n      <td>NaN</td>\n      <td>NaN</td>\n      <td>Pop/Rock</td>\n      <td>Lennon</td>\n      <td>Lennon</td>\n      <td>NaN</td>\n    </tr>\n    <tr>\n      <th>freq</th>\n      <td>2</td>\n      <td>NaN</td>\n      <td>31</td>\n      <td>NaN</td>\n      <td>NaN</td>\n      <td>54</td>\n      <td>62</td>\n      <td>95</td>\n      <td>NaN</td>\n    </tr>\n    <tr>\n      <th>mean</th>\n      <td>NaN</td>\n      <td>1965.464539</td>\n      <td>NaN</td>\n      <td>158.631206</td>\n      <td>11.390071</td>\n      <td>NaN</td>\n      <td>NaN</td>\n      <td>NaN</td>\n      <td>3.570922</td>\n    </tr>\n    <tr>\n      <th>std</th>\n      <td>NaN</td>\n      <td>2.662609</td>\n      <td>NaN</td>\n      <td>51.859708</td>\n      <td>10.164325</td>\n      <td>NaN</td>\n      <td>NaN</td>\n      <td>NaN</td>\n      <td>11.680364</td>\n    </tr>\n    <tr>\n      <th>min</th>\n      <td>NaN</td>\n      <td>1958.000000</td>\n      <td>NaN</td>\n      <td>23.000000</td>\n      <td>0.000000</td>\n      <td>NaN</td>\n      <td>NaN</td>\n      <td>NaN</td>\n      <td>-1.000000</td>\n    </tr>\n    <tr>\n      <th>25%</th>\n      <td>NaN</td>\n      <td>1963.000000</td>\n      <td>NaN</td>\n      <td>130.000000</td>\n      <td>2.500000</td>\n      <td>NaN</td>\n      <td>NaN</td>\n      <td>NaN</td>\n      <td>-1.000000</td>\n    </tr>\n    <tr>\n      <th>50%</th>\n      <td>NaN</td>\n      <td>1965.000000</td>\n      <td>NaN</td>\n      <td>150.000000</td>\n      <td>10.000000</td>\n      <td>NaN</td>\n      <td>NaN</td>\n      <td>NaN</td>\n      <td>-1.000000</td>\n    </tr>\n    <tr>\n      <th>75%</th>\n      <td>NaN</td>\n      <td>1968.000000</td>\n      <td>NaN</td>\n      <td>173.750000</td>\n      <td>17.000000</td>\n      <td>NaN</td>\n      <td>NaN</td>\n      <td>NaN</td>\n      <td>-1.000000</td>\n    </tr>\n    <tr>\n      <th>max</th>\n      <td>NaN</td>\n      <td>1980.000000</td>\n      <td>NaN</td>\n      <td>467.000000</td>\n      <td>56.000000</td>\n      <td>NaN</td>\n      <td>NaN</td>\n      <td>NaN</td>\n      <td>50.000000</td>\n    </tr>\n  </tbody>\n</table>\n</div>"
     },
     "metadata": {},
     "output_type": "display_data"
    }
   ],
   "source": [
    "display(songs.dropna().describe())\n",
    "display(songs.dropna().describe(include='all'))"
   ]
  },
  {
   "cell_type": "markdown",
   "metadata": {
    "pycharm": {
     "name": "#%% md\n"
    }
   },
   "source": [
    "#### *describe()* a reduced version of the dataframe"
   ]
  },
  {
   "cell_type": "markdown",
   "metadata": {
    "pycharm": {
     "name": "#%% md\n"
    }
   },
   "source": [
    "Reduce the dataset to some numeric columns and make song titles indices of the `songs` dataframe:"
   ]
  },
  {
   "cell_type": "code",
   "execution_count": 4,
   "metadata": {
    "scrolled": true,
    "pycharm": {
     "name": "#%%\n"
    }
   },
   "outputs": [
    {
     "data": {
      "text/plain": "['Title',\n 'Year',\n 'Album.debut',\n 'Duration',\n 'Other.releases',\n 'Genre',\n 'Songwriter',\n 'Lead.vocal',\n 'Top.50.Billboard']"
     },
     "metadata": {},
     "output_type": "display_data"
    },
    {
     "data": {
      "text/plain": "['Title', 'Duration', 'Other.releases']"
     },
     "metadata": {},
     "output_type": "display_data"
    }
   ],
   "source": [
    "cols = songs.columns.tolist()\n",
    "display(cols)\n",
    "cols1 = [cols[0]] + [cols[3]] + [cols[4]]\n",
    "display(cols1)"
   ]
  },
  {
   "cell_type": "markdown",
   "metadata": {
    "pycharm": {
     "name": "#%% md\n"
    }
   },
   "source": [
    "<u>Careful with `np.split()`, it converts numeric columns to `object` columns!</u> :"
   ]
  },
  {
   "cell_type": "code",
   "execution_count": 5,
   "metadata": {
    "scrolled": false,
    "pycharm": {
     "name": "#%%\n"
    }
   },
   "outputs": [
    {
     "data": {
      "text/plain": "                        Title  Duration  Other.releases\n0             12-Bar Original       174               0\n1           A Day in the Life       335              12\n2          A Hard Day's Night       152              35\n3  A Shot of Rhythm and Blues       104               0\n4            A Taste of Honey       163              29",
      "text/html": "<div>\n<style scoped>\n    .dataframe tbody tr th:only-of-type {\n        vertical-align: middle;\n    }\n\n    .dataframe tbody tr th {\n        vertical-align: top;\n    }\n\n    .dataframe thead th {\n        text-align: right;\n    }\n</style>\n<table border=\"1\" class=\"dataframe\">\n  <thead>\n    <tr style=\"text-align: right;\">\n      <th></th>\n      <th>Title</th>\n      <th>Duration</th>\n      <th>Other.releases</th>\n    </tr>\n  </thead>\n  <tbody>\n    <tr>\n      <th>0</th>\n      <td>12-Bar Original</td>\n      <td>174</td>\n      <td>0</td>\n    </tr>\n    <tr>\n      <th>1</th>\n      <td>A Day in the Life</td>\n      <td>335</td>\n      <td>12</td>\n    </tr>\n    <tr>\n      <th>2</th>\n      <td>A Hard Day's Night</td>\n      <td>152</td>\n      <td>35</td>\n    </tr>\n    <tr>\n      <th>3</th>\n      <td>A Shot of Rhythm and Blues</td>\n      <td>104</td>\n      <td>0</td>\n    </tr>\n    <tr>\n      <th>4</th>\n      <td>A Taste of Honey</td>\n      <td>163</td>\n      <td>29</td>\n    </tr>\n  </tbody>\n</table>\n</div>"
     },
     "metadata": {},
     "output_type": "display_data"
    },
    {
     "data": {
      "text/plain": "Title             object\nDuration           int64\nOther.releases     int64\ndtype: object"
     },
     "metadata": {},
     "output_type": "display_data"
    },
    {
     "data": {
      "text/plain": "['Title', 'Duration', 'Other.releases']"
     },
     "metadata": {},
     "output_type": "display_data"
    },
    {
     "data": {
      "text/plain": "Title             object\nDuration           int64\nOther.releases     int64\ndtype: object"
     },
     "metadata": {},
     "output_type": "display_data"
    },
    {
     "data": {
      "text/plain": "Duration          object\nOther.releases    object\ndtype: object"
     },
     "metadata": {},
     "output_type": "display_data"
    },
    {
     "data": {
      "text/plain": "                           Duration Other.releases\nTitle                                             \n12-Bar Original                 174              0\nA Day in the Life               335             12\nA Hard Day's Night              152             35\nA Shot of Rhythm and Blues      104              0\nA Taste of Honey                163             29",
      "text/html": "<div>\n<style scoped>\n    .dataframe tbody tr th:only-of-type {\n        vertical-align: middle;\n    }\n\n    .dataframe tbody tr th {\n        vertical-align: top;\n    }\n\n    .dataframe thead th {\n        text-align: right;\n    }\n</style>\n<table border=\"1\" class=\"dataframe\">\n  <thead>\n    <tr style=\"text-align: right;\">\n      <th></th>\n      <th>Duration</th>\n      <th>Other.releases</th>\n    </tr>\n    <tr>\n      <th>Title</th>\n      <th></th>\n      <th></th>\n    </tr>\n  </thead>\n  <tbody>\n    <tr>\n      <th>12-Bar Original</th>\n      <td>174</td>\n      <td>0</td>\n    </tr>\n    <tr>\n      <th>A Day in the Life</th>\n      <td>335</td>\n      <td>12</td>\n    </tr>\n    <tr>\n      <th>A Hard Day's Night</th>\n      <td>152</td>\n      <td>35</td>\n    </tr>\n    <tr>\n      <th>A Shot of Rhythm and Blues</th>\n      <td>104</td>\n      <td>0</td>\n    </tr>\n    <tr>\n      <th>A Taste of Honey</th>\n      <td>163</td>\n      <td>29</td>\n    </tr>\n  </tbody>\n</table>\n</div>"
     },
     "metadata": {},
     "output_type": "display_data"
    }
   ],
   "source": [
    "songs = songs.loc[:, cols1]\n",
    "display(songs.head())\n",
    "display(songs.dtypes)\n",
    "\n",
    "songs.set_index(songs['Title'], inplace=True)\n",
    "display(songs.columns.tolist())\n",
    "display(songs.dtypes)                                 # up to this point, it's int64 for both Duration and Other.releases\n",
    "\n",
    "songs = np.split(songs, [1], axis=1)[1]\n",
    "display(songs.dtypes)                                 # but now it's object, for both Duration and Other.releases\n",
    "display(songs.head())"
   ]
  },
  {
   "cell_type": "markdown",
   "metadata": {
    "pycharm": {
     "name": "#%% md\n"
    }
   },
   "source": [
    "The output of `describe()` reflects the fact that now both `dtype`s are `object`:"
   ]
  },
  {
   "cell_type": "code",
   "execution_count": 8,
   "metadata": {
    "pycharm": {
     "name": "#%%\n"
    }
   },
   "outputs": [
    {
     "data": {
      "text/plain": "Duration          object\nOther.releases    object\ndtype: object"
     },
     "metadata": {},
     "output_type": "display_data"
    }
   ],
   "source": [
    "display(songs.dtypes)"
   ]
  },
  {
   "cell_type": "markdown",
   "metadata": {
    "pycharm": {
     "name": "#%% md\n"
    }
   },
   "source": [
    "Compute some simple aggregations. For a `pd.DataFrame` object, by default the aggregates return results within each column:"
   ]
  },
  {
   "cell_type": "code",
   "execution_count": 9,
   "outputs": [
    {
     "data": {
      "text/plain": "        Duration  Other.releases\ncount        310             310\nunique       133              37\ntop          150               0\nfreq          32              94",
      "text/html": "<div>\n<style scoped>\n    .dataframe tbody tr th:only-of-type {\n        vertical-align: middle;\n    }\n\n    .dataframe tbody tr th {\n        vertical-align: top;\n    }\n\n    .dataframe thead th {\n        text-align: right;\n    }\n</style>\n<table border=\"1\" class=\"dataframe\">\n  <thead>\n    <tr style=\"text-align: right;\">\n      <th></th>\n      <th>Duration</th>\n      <th>Other.releases</th>\n    </tr>\n  </thead>\n  <tbody>\n    <tr>\n      <th>count</th>\n      <td>310</td>\n      <td>310</td>\n    </tr>\n    <tr>\n      <th>unique</th>\n      <td>133</td>\n      <td>37</td>\n    </tr>\n    <tr>\n      <th>top</th>\n      <td>150</td>\n      <td>0</td>\n    </tr>\n    <tr>\n      <th>freq</th>\n      <td>32</td>\n      <td>94</td>\n    </tr>\n  </tbody>\n</table>\n</div>"
     },
     "metadata": {},
     "output_type": "display_data"
    }
   ],
   "source": [
    "display(songs.dropna().describe(include='all'))       # the output reflects the fact that both dtypes are object"
   ],
   "metadata": {
    "collapsed": false,
    "pycharm": {
     "name": "#%%\n"
    }
   }
  },
  {
   "cell_type": "markdown",
   "metadata": {
    "pycharm": {
     "name": "#%% md\n"
    }
   },
   "source": [
    "However, numeric aggregates are computed normally:"
   ]
  },
  {
   "cell_type": "code",
   "execution_count": 10,
   "metadata": {
    "scrolled": true,
    "pycharm": {
     "name": "#%%\n"
    }
   },
   "outputs": [
    {
     "data": {
      "text/plain": "Duration          23\nOther.releases     0\ndtype: object"
     },
     "metadata": {},
     "output_type": "display_data"
    },
    {
     "data": {
      "text/plain": "Duration          154.545455\nOther.releases      6.818182\ndtype: float64"
     },
     "metadata": {},
     "output_type": "display_data"
    }
   ],
   "source": [
    "display(songs.min())\n",
    "display(songs.iloc[23:34, :].mean())"
   ]
  },
  {
   "cell_type": "markdown",
   "metadata": {
    "pycharm": {
     "name": "#%% md\n"
    }
   },
   "source": [
    "Compute some simple aggregations by row (although semantically it makes no sense with the `songs` dataframe). It works in spite of the fact that both `dtype`s are `object`:"
   ]
  },
  {
   "cell_type": "code",
   "execution_count": 11,
   "metadata": {
    "pycharm": {
     "name": "#%%\n"
    }
   },
   "outputs": [
    {
     "data": {
      "text/plain": "Title\n12-Bar Original                      174.0\nA Day in the Life                    347.0\nA Hard Day's Night                   187.0\nA Shot of Rhythm and Blues           104.0\nA Taste of Honey                     192.0\n                                     ...  \nYou're Going to Lose That Girl       146.0\nYou've Got to Hide Your Love Away    143.0\nYou've Really Got a Hold on Me       184.0\nYoung Blood                          116.0\nYour Mother Should Know              162.0\nLength: 310, dtype: float64"
     },
     "metadata": {},
     "output_type": "display_data"
    }
   ],
   "source": [
    "display(songs.sum(axis=1))"
   ]
  },
  {
   "cell_type": "markdown",
   "metadata": {
    "pycharm": {
     "name": "#%% md\n"
    }
   },
   "source": [
    "Compute common aggregates for the `songs` dataframe. Use `dropna()` to omit rows with possible NA values. Since both `dtype`s are `object`, the output does not show mean, sd and the quartiles:"
   ]
  },
  {
   "cell_type": "code",
   "execution_count": 12,
   "metadata": {
    "scrolled": true,
    "pycharm": {
     "name": "#%%\n"
    }
   },
   "outputs": [
    {
     "data": {
      "text/plain": "Duration          False\nOther.releases    False\ndtype: bool"
     },
     "metadata": {},
     "output_type": "display_data"
    },
    {
     "data": {
      "text/plain": "        Duration  Other.releases\ncount        310             310\nunique       133              37\ntop          150               0\nfreq          32              94",
      "text/html": "<div>\n<style scoped>\n    .dataframe tbody tr th:only-of-type {\n        vertical-align: middle;\n    }\n\n    .dataframe tbody tr th {\n        vertical-align: top;\n    }\n\n    .dataframe thead th {\n        text-align: right;\n    }\n</style>\n<table border=\"1\" class=\"dataframe\">\n  <thead>\n    <tr style=\"text-align: right;\">\n      <th></th>\n      <th>Duration</th>\n      <th>Other.releases</th>\n    </tr>\n  </thead>\n  <tbody>\n    <tr>\n      <th>count</th>\n      <td>310</td>\n      <td>310</td>\n    </tr>\n    <tr>\n      <th>unique</th>\n      <td>133</td>\n      <td>37</td>\n    </tr>\n    <tr>\n      <th>top</th>\n      <td>150</td>\n      <td>0</td>\n    </tr>\n    <tr>\n      <th>freq</th>\n      <td>32</td>\n      <td>94</td>\n    </tr>\n  </tbody>\n</table>\n</div>"
     },
     "metadata": {},
     "output_type": "display_data"
    },
    {
     "data": {
      "text/plain": "Duration          object\nOther.releases    object\ndtype: object"
     },
     "metadata": {},
     "output_type": "display_data"
    }
   ],
   "source": [
    "display(songs.isnull().any())\n",
    "display(songs.dropna().describe())\n",
    "# display(songs.dropna().describe(include='all'))\n",
    "# display(songs.dropna().describe(include=[np.number]))\n",
    "display(songs.dtypes)"
   ]
  },
  {
   "cell_type": "markdown",
   "metadata": {
    "pycharm": {
     "name": "#%% md\n"
    }
   },
   "source": [
    "Convert both columns from `object` to `int` in order to show mean, sd and the quartiles: "
   ]
  },
  {
   "cell_type": "code",
   "execution_count": 13,
   "metadata": {
    "scrolled": true,
    "pycharm": {
     "name": "#%%\n"
    }
   },
   "outputs": [
    {
     "data": {
      "text/plain": "Duration          int32\nOther.releases    int32\ndtype: object"
     },
     "metadata": {},
     "output_type": "display_data"
    },
    {
     "data": {
      "text/plain": "         Duration  Other.releases\ncount  310.000000      310.000000\nmean   159.645161       10.422581\nstd     53.995774       10.197665\nmin     23.000000        0.000000\n25%    133.000000        0.000000\n50%    150.000000        9.000000\n75%    172.750000       16.000000\nmax    502.000000       56.000000",
      "text/html": "<div>\n<style scoped>\n    .dataframe tbody tr th:only-of-type {\n        vertical-align: middle;\n    }\n\n    .dataframe tbody tr th {\n        vertical-align: top;\n    }\n\n    .dataframe thead th {\n        text-align: right;\n    }\n</style>\n<table border=\"1\" class=\"dataframe\">\n  <thead>\n    <tr style=\"text-align: right;\">\n      <th></th>\n      <th>Duration</th>\n      <th>Other.releases</th>\n    </tr>\n  </thead>\n  <tbody>\n    <tr>\n      <th>count</th>\n      <td>310.000000</td>\n      <td>310.000000</td>\n    </tr>\n    <tr>\n      <th>mean</th>\n      <td>159.645161</td>\n      <td>10.422581</td>\n    </tr>\n    <tr>\n      <th>std</th>\n      <td>53.995774</td>\n      <td>10.197665</td>\n    </tr>\n    <tr>\n      <th>min</th>\n      <td>23.000000</td>\n      <td>0.000000</td>\n    </tr>\n    <tr>\n      <th>25%</th>\n      <td>133.000000</td>\n      <td>0.000000</td>\n    </tr>\n    <tr>\n      <th>50%</th>\n      <td>150.000000</td>\n      <td>9.000000</td>\n    </tr>\n    <tr>\n      <th>75%</th>\n      <td>172.750000</td>\n      <td>16.000000</td>\n    </tr>\n    <tr>\n      <th>max</th>\n      <td>502.000000</td>\n      <td>56.000000</td>\n    </tr>\n  </tbody>\n</table>\n</div>"
     },
     "metadata": {},
     "output_type": "display_data"
    }
   ],
   "source": [
    "songs['Duration'] = songs['Duration'].astype(int)\n",
    "songs['Other.releases'] = songs['Other.releases'].astype(int)\n",
    "display(songs.dtypes)\n",
    "display(songs.dropna().describe())"
   ]
  },
  {
   "cell_type": "markdown",
   "metadata": {
    "pycharm": {
     "name": "#%% md\n"
    }
   },
   "source": [
    "### *groupby()* aggregation\n",
    "Method of `pd.DataFrame` objects. <br><br>\n",
    "Implements the split-apply-combine pattern:<br>\n",
    "![](figures/split-apply-combine.png)"
   ]
  },
  {
   "cell_type": "markdown",
   "metadata": {
    "pycharm": {
     "name": "#%% md\n"
    }
   },
   "source": [
    "For a very simple example of grouping: see [this](https://www.kite.com/python/answers/how-to-split-a-pandas-dataframe-into-multiple-dataframes-by-column-value-in-python) - splitting a `pd.DataFrame` into multiple `pd.DataFrame`s by column value; all these `pd.DataFrame` objects are included in the resulting `DataFrameGroupBy` object.<br>\n",
    "VD: Note that the resulting `DataFrameGroupBy` object is actually a specific *view* of the original `pd.DataFrame` (pretty much like hashing; take a look at the figure above)."
   ]
  },
  {
   "cell_type": "markdown",
   "metadata": {
    "pycharm": {
     "name": "#%% md\n"
    }
   },
   "source": [
    "#### get_group()\n",
    "An example - use `groupby()` to split The Beatles songs dataframe by year and then display specific groups using `get_group()`:"
   ]
  },
  {
   "cell_type": "code",
   "execution_count": 17,
   "metadata": {
    "pycharm": {
     "name": "#%%\n"
    }
   },
   "outputs": [
    {
     "data": {
      "text/plain": "<pandas.core.groupby.generic.DataFrameGroupBy object at 0x0000026BDAB2E200>"
     },
     "metadata": {},
     "output_type": "display_data"
    },
    {
     "data": {
      "text/plain": "pandas.core.groupby.generic.DataFrameGroupBy"
     },
     "metadata": {},
     "output_type": "display_data"
    },
    {
     "data": {
      "text/plain": "14"
     },
     "metadata": {},
     "output_type": "display_data"
    },
    {
     "data": {
      "text/plain": "14"
     },
     "metadata": {},
     "output_type": "display_data"
    },
    {
     "data": {
      "text/plain": "         Title  Year Album.debut  Duration  Other.releases  \\\n113  I Me Mine  1970   Let It Be       145              10   \n\n                               Genre Songwriter Lead.vocal  Top.50.Billboard  \n113  Folk blues, Hard Rock, Pop/Rock   Harrison   Harrison                -1  ",
      "text/html": "<div>\n<style scoped>\n    .dataframe tbody tr th:only-of-type {\n        vertical-align: middle;\n    }\n\n    .dataframe tbody tr th {\n        vertical-align: top;\n    }\n\n    .dataframe thead th {\n        text-align: right;\n    }\n</style>\n<table border=\"1\" class=\"dataframe\">\n  <thead>\n    <tr style=\"text-align: right;\">\n      <th></th>\n      <th>Title</th>\n      <th>Year</th>\n      <th>Album.debut</th>\n      <th>Duration</th>\n      <th>Other.releases</th>\n      <th>Genre</th>\n      <th>Songwriter</th>\n      <th>Lead.vocal</th>\n      <th>Top.50.Billboard</th>\n    </tr>\n  </thead>\n  <tbody>\n    <tr>\n      <th>113</th>\n      <td>I Me Mine</td>\n      <td>1970</td>\n      <td>Let It Be</td>\n      <td>145</td>\n      <td>10</td>\n      <td>Folk blues, Hard Rock, Pop/Rock</td>\n      <td>Harrison</td>\n      <td>Harrison</td>\n      <td>-1</td>\n    </tr>\n  </tbody>\n</table>\n</div>"
     },
     "metadata": {},
     "output_type": "display_data"
    },
    {
     "data": {
      "text/plain": "                     Title  Year                           Album.debut  \\\n14  And Your Bird Can Sing  1966  UK: Revolver US: Yesterday and Today   \n56           Doctor Robert  1966  UK: Revolver US: Yesterday and Today   \n63           Eleanor Rigby  1966                              Revolver   \n71              For No One  1966                              Revolver   \n82       Good Day Sunshine  1966                              Revolver   \n\n    Duration  Other.releases                                  Genre  \\\n14       121               9   Power Pop, Psychedelic Pop, Pop/Rock   \n56       135               6  Psychedelic Rock, Power Pop, Pop/Rock   \n63       128              16        Baroque Pop, Art Rock, Pop/Rock   \n71       121               9                  Baroque Pop, Pop/Rock   \n82       129               7     Sunshine Pop, Music Hall, Pop/Rock   \n\n                Songwriter Lead.vocal  Top.50.Billboard  \n14  Lennon, with McCartney     Lennon                -1  \n56  Lennon, with McCartney     Lennon                -1  \n63               McCartney  McCartney                38  \n71               McCartney  McCartney                -1  \n82               McCartney  McCartney                -1  ",
      "text/html": "<div>\n<style scoped>\n    .dataframe tbody tr th:only-of-type {\n        vertical-align: middle;\n    }\n\n    .dataframe tbody tr th {\n        vertical-align: top;\n    }\n\n    .dataframe thead th {\n        text-align: right;\n    }\n</style>\n<table border=\"1\" class=\"dataframe\">\n  <thead>\n    <tr style=\"text-align: right;\">\n      <th></th>\n      <th>Title</th>\n      <th>Year</th>\n      <th>Album.debut</th>\n      <th>Duration</th>\n      <th>Other.releases</th>\n      <th>Genre</th>\n      <th>Songwriter</th>\n      <th>Lead.vocal</th>\n      <th>Top.50.Billboard</th>\n    </tr>\n  </thead>\n  <tbody>\n    <tr>\n      <th>14</th>\n      <td>And Your Bird Can Sing</td>\n      <td>1966</td>\n      <td>UK: Revolver US: Yesterday and Today</td>\n      <td>121</td>\n      <td>9</td>\n      <td>Power Pop, Psychedelic Pop, Pop/Rock</td>\n      <td>Lennon, with McCartney</td>\n      <td>Lennon</td>\n      <td>-1</td>\n    </tr>\n    <tr>\n      <th>56</th>\n      <td>Doctor Robert</td>\n      <td>1966</td>\n      <td>UK: Revolver US: Yesterday and Today</td>\n      <td>135</td>\n      <td>6</td>\n      <td>Psychedelic Rock, Power Pop, Pop/Rock</td>\n      <td>Lennon, with McCartney</td>\n      <td>Lennon</td>\n      <td>-1</td>\n    </tr>\n    <tr>\n      <th>63</th>\n      <td>Eleanor Rigby</td>\n      <td>1966</td>\n      <td>Revolver</td>\n      <td>128</td>\n      <td>16</td>\n      <td>Baroque Pop, Art Rock, Pop/Rock</td>\n      <td>McCartney</td>\n      <td>McCartney</td>\n      <td>38</td>\n    </tr>\n    <tr>\n      <th>71</th>\n      <td>For No One</td>\n      <td>1966</td>\n      <td>Revolver</td>\n      <td>121</td>\n      <td>9</td>\n      <td>Baroque Pop, Pop/Rock</td>\n      <td>McCartney</td>\n      <td>McCartney</td>\n      <td>-1</td>\n    </tr>\n    <tr>\n      <th>82</th>\n      <td>Good Day Sunshine</td>\n      <td>1966</td>\n      <td>Revolver</td>\n      <td>129</td>\n      <td>7</td>\n      <td>Sunshine Pop, Music Hall, Pop/Rock</td>\n      <td>McCartney</td>\n      <td>McCartney</td>\n      <td>-1</td>\n    </tr>\n  </tbody>\n</table>\n</div>"
     },
     "metadata": {},
     "output_type": "display_data"
    }
   ],
   "source": [
    "songs = pd.read_csv('data/The Beatles songs dataset, v2, no NAs.csv')\n",
    "songs_by_year = songs.groupby('Year')\n",
    "# songs_by_year = songs.groupby(songs.Year)                                   # this is OK as well\n",
    "# songs_by_year = songs.groupby(songs['Year'])                                # this is OK as well\n",
    "display(songs_by_year)\n",
    "display(type(songs_by_year))                                                  # DataFrameGroupBy\n",
    "display(len(songs_by_year))                                                   # 14\n",
    "display(len(songs['Year'].unique()))                                          # 14\n",
    "display(songs_by_year.get_group(1970))\n",
    "display(songs_by_year.get_group(1966).head())"
   ]
  },
  {
   "cell_type": "markdown",
   "metadata": {
    "pycharm": {
     "name": "#%% md\n"
    }
   },
   "source": [
    "Extract and individual `pd.DataFrame` object and get its number of rows (see [this](https://stackoverflow.com/questions/15943769/how-do-i-get-the-row-count-of-a-pandas-dataframe) for a discussion on performance issues - `len(df.index)` is faster than `df.shape`):"
   ]
  },
  {
   "cell_type": "code",
   "execution_count": 18,
   "metadata": {
    "scrolled": false,
    "pycharm": {
     "name": "#%%\n"
    }
   },
   "outputs": [
    {
     "data": {
      "text/plain": "pandas.core.frame.DataFrame"
     },
     "metadata": {},
     "output_type": "display_data"
    },
    {
     "data": {
      "text/plain": "(19, 9)"
     },
     "metadata": {},
     "output_type": "display_data"
    },
    {
     "data": {
      "text/plain": "19"
     },
     "metadata": {},
     "output_type": "display_data"
    }
   ],
   "source": [
    "y1966 = songs_by_year.get_group(1966)\n",
    "display(type(y1966))\n",
    "display(y1966.shape)\n",
    "display(len(y1966.index))                                                     # faster than shape"
   ]
  },
  {
   "cell_type": "markdown",
   "metadata": {
    "pycharm": {
     "name": "#%% md\n"
    }
   },
   "source": [
    "#### The *GroupBy* object\n",
    "Created by running the `groupby()` method of `pd.DataFrame`s.<br>\n",
    "The `GroupBy` object is essentially a group of `pd.DataFrame`s."
   ]
  },
  {
   "cell_type": "markdown",
   "metadata": {
    "pycharm": {
     "name": "#%% md\n"
    }
   },
   "source": [
    "Column indexing:"
   ]
  },
  {
   "cell_type": "code",
   "execution_count": 19,
   "metadata": {
    "pycharm": {
     "name": "#%%\n"
    }
   },
   "outputs": [
    {
     "data": {
      "text/plain": "<pandas.core.groupby.generic.SeriesGroupBy object at 0x0000026BF39BB280>"
     },
     "metadata": {},
     "output_type": "display_data"
    },
    {
     "data": {
      "text/plain": "pandas.core.groupby.generic.SeriesGroupBy"
     },
     "metadata": {},
     "output_type": "display_data"
    }
   ],
   "source": [
    "songs = pd.read_csv('data/The Beatles songs dataset, v2, no NAs.csv')\n",
    "songs_by_year = songs.groupby('Year')\n",
    "display(songs_by_year['Duration'])\n",
    "display(type(songs_by_year['Duration']))                                      # SeriesGroupBy"
   ]
  },
  {
   "cell_type": "code",
   "execution_count": 20,
   "metadata": {
    "pycharm": {
     "name": "#%%\n"
    }
   },
   "outputs": [
    {
     "data": {
      "text/plain": "Year\n1958    150.0\n1960    147.0\n1961    150.0\n1962    150.0\n1963    137.0\n1964    145.0\n1965    148.0\n1966    157.0\n1967    180.0\n1968    183.0\n1969    165.0\n1970    145.0\n1977    266.0\n1980    236.0\nName: Duration, dtype: float64"
     },
     "metadata": {},
     "output_type": "display_data"
    }
   ],
   "source": [
    "display(songs_by_year['Duration'].median())                                   # or sum(), mean(),..."
   ]
  },
  {
   "cell_type": "markdown",
   "metadata": {
    "pycharm": {
     "name": "#%% md\n"
    }
   },
   "source": [
    "Iterating over groups - the `GroupBy` object supports direct iteration over the groups, returning each group as a `Series` or `DataFrame` (**<u>make sure to provide a tuple of indices for the `for` loop</u>**, the first one to the index the elements within a single group, and the second one to represent the groups themselves):"
   ]
  },
  {
   "cell_type": "code",
   "execution_count": 21,
   "metadata": {
    "scrolled": true,
    "pycharm": {
     "name": "#%%\n"
    }
   },
   "outputs": [
    {
     "name": "stdout",
     "output_type": "stream",
     "text": [
      "1958   no. of songs released: 2\n",
      "1960   no. of songs released: 4\n",
      "1961   no. of songs released: 3\n",
      "1962   no. of songs released: 20\n",
      "1963   no. of songs released: 66\n",
      "1964   no. of songs released: 41\n",
      "1965   no. of songs released: 37\n",
      "1966   no. of songs released: 19\n",
      "1967   no. of songs released: 27\n",
      "1968   no. of songs released: 45\n",
      "1969   no. of songs released: 43\n",
      "1970   no. of songs released: 1\n",
      "1977   no. of songs released: 1\n",
      "1980   no. of songs released: 1\n"
     ]
    }
   ],
   "source": [
    "for year, group in songs.groupby('Year'):\n",
    "#     print(f'{year}   {group.shape}')\n",
    "#     print(f'{year}   no. of songs released: {group.shape[0]}')\n",
    "    print(f'{year}   no. of songs released: {len(group.index)}')              # faster than shape"
   ]
  },
  {
   "cell_type": "markdown",
   "metadata": {
    "pycharm": {
     "name": "#%% md\n"
    }
   },
   "source": [
    "Calling other methods (not explicitly implemented by the `GroupBy` object) on the groups, whether they are `pd.DataFrame` or `pd.Series` objects. *Any* valid `pd.DataFrame`/`pd.Series` method can be used on the corresponding `GroupBy` object. For example, the `describe()` method of `pd.DataFrame`s can be used to perform a set of aggregations that describe each group in the data:"
   ]
  },
  {
   "cell_type": "code",
   "execution_count": 22,
   "metadata": {
    "scrolled": true,
    "pycharm": {
     "name": "#%%\n"
    }
   },
   "outputs": [
    {
     "data": {
      "text/plain": "      count       mean        std   min   25%   50%   75%   max\nYear                                                           \n1958    2.0   0.000000   0.000000   0.0   0.0   0.0   0.0   0.0\n1960    4.0   0.000000   0.000000   0.0   0.0   0.0   0.0   0.0\n1961    3.0   7.333333   6.658328   0.0   4.5   9.0  11.0  13.0\n1962   20.0   7.250000  15.870778   0.0   0.0   0.0   0.0  56.0\n1963   66.0  10.045455  13.166895   0.0   0.0   0.0  20.5  45.0\n1964   41.0  16.243902  10.570668   0.0   9.0  16.0  22.0  42.0\n1965   37.0  13.162162   8.522889   0.0   9.0  12.0  18.0  34.0\n1966   19.0  12.368421   6.576140   5.0   7.5  10.0  15.5  27.0\n1967   27.0   9.629630   5.923539   0.0   6.0   8.0  13.0  25.0\n1968   45.0   8.933333   6.358244   0.0   7.0   9.0  11.0  28.0\n1969   43.0   7.883721   7.290598   0.0   0.0   7.0  12.0  28.0\n1970    1.0  10.000000        NaN  10.0  10.0  10.0  10.0  10.0\n1977    1.0   0.000000        NaN   0.0   0.0   0.0   0.0   0.0\n1980    1.0   2.000000        NaN   2.0   2.0   2.0   2.0   2.0",
      "text/html": "<div>\n<style scoped>\n    .dataframe tbody tr th:only-of-type {\n        vertical-align: middle;\n    }\n\n    .dataframe tbody tr th {\n        vertical-align: top;\n    }\n\n    .dataframe thead th {\n        text-align: right;\n    }\n</style>\n<table border=\"1\" class=\"dataframe\">\n  <thead>\n    <tr style=\"text-align: right;\">\n      <th></th>\n      <th>count</th>\n      <th>mean</th>\n      <th>std</th>\n      <th>min</th>\n      <th>25%</th>\n      <th>50%</th>\n      <th>75%</th>\n      <th>max</th>\n    </tr>\n    <tr>\n      <th>Year</th>\n      <th></th>\n      <th></th>\n      <th></th>\n      <th></th>\n      <th></th>\n      <th></th>\n      <th></th>\n      <th></th>\n    </tr>\n  </thead>\n  <tbody>\n    <tr>\n      <th>1958</th>\n      <td>2.0</td>\n      <td>0.000000</td>\n      <td>0.000000</td>\n      <td>0.0</td>\n      <td>0.0</td>\n      <td>0.0</td>\n      <td>0.0</td>\n      <td>0.0</td>\n    </tr>\n    <tr>\n      <th>1960</th>\n      <td>4.0</td>\n      <td>0.000000</td>\n      <td>0.000000</td>\n      <td>0.0</td>\n      <td>0.0</td>\n      <td>0.0</td>\n      <td>0.0</td>\n      <td>0.0</td>\n    </tr>\n    <tr>\n      <th>1961</th>\n      <td>3.0</td>\n      <td>7.333333</td>\n      <td>6.658328</td>\n      <td>0.0</td>\n      <td>4.5</td>\n      <td>9.0</td>\n      <td>11.0</td>\n      <td>13.0</td>\n    </tr>\n    <tr>\n      <th>1962</th>\n      <td>20.0</td>\n      <td>7.250000</td>\n      <td>15.870778</td>\n      <td>0.0</td>\n      <td>0.0</td>\n      <td>0.0</td>\n      <td>0.0</td>\n      <td>56.0</td>\n    </tr>\n    <tr>\n      <th>1963</th>\n      <td>66.0</td>\n      <td>10.045455</td>\n      <td>13.166895</td>\n      <td>0.0</td>\n      <td>0.0</td>\n      <td>0.0</td>\n      <td>20.5</td>\n      <td>45.0</td>\n    </tr>\n    <tr>\n      <th>1964</th>\n      <td>41.0</td>\n      <td>16.243902</td>\n      <td>10.570668</td>\n      <td>0.0</td>\n      <td>9.0</td>\n      <td>16.0</td>\n      <td>22.0</td>\n      <td>42.0</td>\n    </tr>\n    <tr>\n      <th>1965</th>\n      <td>37.0</td>\n      <td>13.162162</td>\n      <td>8.522889</td>\n      <td>0.0</td>\n      <td>9.0</td>\n      <td>12.0</td>\n      <td>18.0</td>\n      <td>34.0</td>\n    </tr>\n    <tr>\n      <th>1966</th>\n      <td>19.0</td>\n      <td>12.368421</td>\n      <td>6.576140</td>\n      <td>5.0</td>\n      <td>7.5</td>\n      <td>10.0</td>\n      <td>15.5</td>\n      <td>27.0</td>\n    </tr>\n    <tr>\n      <th>1967</th>\n      <td>27.0</td>\n      <td>9.629630</td>\n      <td>5.923539</td>\n      <td>0.0</td>\n      <td>6.0</td>\n      <td>8.0</td>\n      <td>13.0</td>\n      <td>25.0</td>\n    </tr>\n    <tr>\n      <th>1968</th>\n      <td>45.0</td>\n      <td>8.933333</td>\n      <td>6.358244</td>\n      <td>0.0</td>\n      <td>7.0</td>\n      <td>9.0</td>\n      <td>11.0</td>\n      <td>28.0</td>\n    </tr>\n    <tr>\n      <th>1969</th>\n      <td>43.0</td>\n      <td>7.883721</td>\n      <td>7.290598</td>\n      <td>0.0</td>\n      <td>0.0</td>\n      <td>7.0</td>\n      <td>12.0</td>\n      <td>28.0</td>\n    </tr>\n    <tr>\n      <th>1970</th>\n      <td>1.0</td>\n      <td>10.000000</td>\n      <td>NaN</td>\n      <td>10.0</td>\n      <td>10.0</td>\n      <td>10.0</td>\n      <td>10.0</td>\n      <td>10.0</td>\n    </tr>\n    <tr>\n      <th>1977</th>\n      <td>1.0</td>\n      <td>0.000000</td>\n      <td>NaN</td>\n      <td>0.0</td>\n      <td>0.0</td>\n      <td>0.0</td>\n      <td>0.0</td>\n      <td>0.0</td>\n    </tr>\n    <tr>\n      <th>1980</th>\n      <td>1.0</td>\n      <td>2.000000</td>\n      <td>NaN</td>\n      <td>2.0</td>\n      <td>2.0</td>\n      <td>2.0</td>\n      <td>2.0</td>\n      <td>2.0</td>\n    </tr>\n  </tbody>\n</table>\n</div>"
     },
     "metadata": {},
     "output_type": "display_data"
    },
    {
     "data": {
      "text/plain": "     Other.releases                                                      \\\n              count       mean        std   min   25%   50%   75%   max   \nYear                                                                      \n1958            2.0   0.000000   0.000000   0.0   0.0   0.0   0.0   0.0   \n1960            4.0   0.000000   0.000000   0.0   0.0   0.0   0.0   0.0   \n1961            3.0   7.333333   6.658328   0.0   4.5   9.0  11.0  13.0   \n1962           20.0   7.250000  15.870778   0.0   0.0   0.0   0.0  56.0   \n1963           66.0  10.045455  13.166895   0.0   0.0   0.0  20.5  45.0   \n1964           41.0  16.243902  10.570668   0.0   9.0  16.0  22.0  42.0   \n1965           37.0  13.162162   8.522889   0.0   9.0  12.0  18.0  34.0   \n1966           19.0  12.368421   6.576140   5.0   7.5  10.0  15.5  27.0   \n1967           27.0   9.629630   5.923539   0.0   6.0   8.0  13.0  25.0   \n1968           45.0   8.933333   6.358244   0.0   7.0   9.0  11.0  28.0   \n1969           43.0   7.883721   7.290598   0.0   0.0   7.0  12.0  28.0   \n1970            1.0  10.000000        NaN  10.0  10.0  10.0  10.0  10.0   \n1977            1.0   0.000000        NaN   0.0   0.0   0.0   0.0   0.0   \n1980            1.0   2.000000        NaN   2.0   2.0   2.0   2.0   2.0   \n\n     Duration                                                             \n        count        mean        std    min    25%    50%     75%    max  \nYear                                                                      \n1958      2.0  150.000000  19.798990  136.0  143.0  150.0  157.00  164.0  \n1960      4.0  136.750000  26.221810   98.0  132.5  147.0  151.25  155.0  \n1961      3.0  146.666667   5.773503  140.0  145.0  150.0  150.00  150.0  \n1962     20.0  140.900000  14.948684  105.0  127.5  150.0  150.00  156.0  \n1963     66.0  136.045455  22.645381   92.0  116.5  137.0  150.00  182.0  \n1964     41.0  144.048780  18.084456  106.0  130.0  145.0  155.00  183.0  \n1965     37.0  149.189189  18.255650  115.0  138.0  148.0  160.00  202.0  \n1966     19.0  157.473684  29.736563  121.0  136.5  157.0  178.50  245.0  \n1967     27.0  196.666667  68.833690   80.0  153.5  180.0  225.00  388.0  \n1968     45.0  194.511111  81.611224   52.0  148.0  183.0  226.00  502.0  \n1969     43.0  169.255814  73.975573   23.0  143.5  165.0  210.00  467.0  \n1970      1.0  145.000000        NaN  145.0  145.0  145.0  145.00  145.0  \n1977      1.0  266.000000        NaN  266.0  266.0  266.0  266.00  266.0  \n1980      1.0  236.000000        NaN  236.0  236.0  236.0  236.00  236.0  ",
      "text/html": "<div>\n<style scoped>\n    .dataframe tbody tr th:only-of-type {\n        vertical-align: middle;\n    }\n\n    .dataframe tbody tr th {\n        vertical-align: top;\n    }\n\n    .dataframe thead tr th {\n        text-align: left;\n    }\n\n    .dataframe thead tr:last-of-type th {\n        text-align: right;\n    }\n</style>\n<table border=\"1\" class=\"dataframe\">\n  <thead>\n    <tr>\n      <th></th>\n      <th colspan=\"8\" halign=\"left\">Other.releases</th>\n      <th colspan=\"8\" halign=\"left\">Duration</th>\n    </tr>\n    <tr>\n      <th></th>\n      <th>count</th>\n      <th>mean</th>\n      <th>std</th>\n      <th>min</th>\n      <th>25%</th>\n      <th>50%</th>\n      <th>75%</th>\n      <th>max</th>\n      <th>count</th>\n      <th>mean</th>\n      <th>std</th>\n      <th>min</th>\n      <th>25%</th>\n      <th>50%</th>\n      <th>75%</th>\n      <th>max</th>\n    </tr>\n    <tr>\n      <th>Year</th>\n      <th></th>\n      <th></th>\n      <th></th>\n      <th></th>\n      <th></th>\n      <th></th>\n      <th></th>\n      <th></th>\n      <th></th>\n      <th></th>\n      <th></th>\n      <th></th>\n      <th></th>\n      <th></th>\n      <th></th>\n      <th></th>\n    </tr>\n  </thead>\n  <tbody>\n    <tr>\n      <th>1958</th>\n      <td>2.0</td>\n      <td>0.000000</td>\n      <td>0.000000</td>\n      <td>0.0</td>\n      <td>0.0</td>\n      <td>0.0</td>\n      <td>0.0</td>\n      <td>0.0</td>\n      <td>2.0</td>\n      <td>150.000000</td>\n      <td>19.798990</td>\n      <td>136.0</td>\n      <td>143.0</td>\n      <td>150.0</td>\n      <td>157.00</td>\n      <td>164.0</td>\n    </tr>\n    <tr>\n      <th>1960</th>\n      <td>4.0</td>\n      <td>0.000000</td>\n      <td>0.000000</td>\n      <td>0.0</td>\n      <td>0.0</td>\n      <td>0.0</td>\n      <td>0.0</td>\n      <td>0.0</td>\n      <td>4.0</td>\n      <td>136.750000</td>\n      <td>26.221810</td>\n      <td>98.0</td>\n      <td>132.5</td>\n      <td>147.0</td>\n      <td>151.25</td>\n      <td>155.0</td>\n    </tr>\n    <tr>\n      <th>1961</th>\n      <td>3.0</td>\n      <td>7.333333</td>\n      <td>6.658328</td>\n      <td>0.0</td>\n      <td>4.5</td>\n      <td>9.0</td>\n      <td>11.0</td>\n      <td>13.0</td>\n      <td>3.0</td>\n      <td>146.666667</td>\n      <td>5.773503</td>\n      <td>140.0</td>\n      <td>145.0</td>\n      <td>150.0</td>\n      <td>150.00</td>\n      <td>150.0</td>\n    </tr>\n    <tr>\n      <th>1962</th>\n      <td>20.0</td>\n      <td>7.250000</td>\n      <td>15.870778</td>\n      <td>0.0</td>\n      <td>0.0</td>\n      <td>0.0</td>\n      <td>0.0</td>\n      <td>56.0</td>\n      <td>20.0</td>\n      <td>140.900000</td>\n      <td>14.948684</td>\n      <td>105.0</td>\n      <td>127.5</td>\n      <td>150.0</td>\n      <td>150.00</td>\n      <td>156.0</td>\n    </tr>\n    <tr>\n      <th>1963</th>\n      <td>66.0</td>\n      <td>10.045455</td>\n      <td>13.166895</td>\n      <td>0.0</td>\n      <td>0.0</td>\n      <td>0.0</td>\n      <td>20.5</td>\n      <td>45.0</td>\n      <td>66.0</td>\n      <td>136.045455</td>\n      <td>22.645381</td>\n      <td>92.0</td>\n      <td>116.5</td>\n      <td>137.0</td>\n      <td>150.00</td>\n      <td>182.0</td>\n    </tr>\n    <tr>\n      <th>1964</th>\n      <td>41.0</td>\n      <td>16.243902</td>\n      <td>10.570668</td>\n      <td>0.0</td>\n      <td>9.0</td>\n      <td>16.0</td>\n      <td>22.0</td>\n      <td>42.0</td>\n      <td>41.0</td>\n      <td>144.048780</td>\n      <td>18.084456</td>\n      <td>106.0</td>\n      <td>130.0</td>\n      <td>145.0</td>\n      <td>155.00</td>\n      <td>183.0</td>\n    </tr>\n    <tr>\n      <th>1965</th>\n      <td>37.0</td>\n      <td>13.162162</td>\n      <td>8.522889</td>\n      <td>0.0</td>\n      <td>9.0</td>\n      <td>12.0</td>\n      <td>18.0</td>\n      <td>34.0</td>\n      <td>37.0</td>\n      <td>149.189189</td>\n      <td>18.255650</td>\n      <td>115.0</td>\n      <td>138.0</td>\n      <td>148.0</td>\n      <td>160.00</td>\n      <td>202.0</td>\n    </tr>\n    <tr>\n      <th>1966</th>\n      <td>19.0</td>\n      <td>12.368421</td>\n      <td>6.576140</td>\n      <td>5.0</td>\n      <td>7.5</td>\n      <td>10.0</td>\n      <td>15.5</td>\n      <td>27.0</td>\n      <td>19.0</td>\n      <td>157.473684</td>\n      <td>29.736563</td>\n      <td>121.0</td>\n      <td>136.5</td>\n      <td>157.0</td>\n      <td>178.50</td>\n      <td>245.0</td>\n    </tr>\n    <tr>\n      <th>1967</th>\n      <td>27.0</td>\n      <td>9.629630</td>\n      <td>5.923539</td>\n      <td>0.0</td>\n      <td>6.0</td>\n      <td>8.0</td>\n      <td>13.0</td>\n      <td>25.0</td>\n      <td>27.0</td>\n      <td>196.666667</td>\n      <td>68.833690</td>\n      <td>80.0</td>\n      <td>153.5</td>\n      <td>180.0</td>\n      <td>225.00</td>\n      <td>388.0</td>\n    </tr>\n    <tr>\n      <th>1968</th>\n      <td>45.0</td>\n      <td>8.933333</td>\n      <td>6.358244</td>\n      <td>0.0</td>\n      <td>7.0</td>\n      <td>9.0</td>\n      <td>11.0</td>\n      <td>28.0</td>\n      <td>45.0</td>\n      <td>194.511111</td>\n      <td>81.611224</td>\n      <td>52.0</td>\n      <td>148.0</td>\n      <td>183.0</td>\n      <td>226.00</td>\n      <td>502.0</td>\n    </tr>\n    <tr>\n      <th>1969</th>\n      <td>43.0</td>\n      <td>7.883721</td>\n      <td>7.290598</td>\n      <td>0.0</td>\n      <td>0.0</td>\n      <td>7.0</td>\n      <td>12.0</td>\n      <td>28.0</td>\n      <td>43.0</td>\n      <td>169.255814</td>\n      <td>73.975573</td>\n      <td>23.0</td>\n      <td>143.5</td>\n      <td>165.0</td>\n      <td>210.00</td>\n      <td>467.0</td>\n    </tr>\n    <tr>\n      <th>1970</th>\n      <td>1.0</td>\n      <td>10.000000</td>\n      <td>NaN</td>\n      <td>10.0</td>\n      <td>10.0</td>\n      <td>10.0</td>\n      <td>10.0</td>\n      <td>10.0</td>\n      <td>1.0</td>\n      <td>145.000000</td>\n      <td>NaN</td>\n      <td>145.0</td>\n      <td>145.0</td>\n      <td>145.0</td>\n      <td>145.00</td>\n      <td>145.0</td>\n    </tr>\n    <tr>\n      <th>1977</th>\n      <td>1.0</td>\n      <td>0.000000</td>\n      <td>NaN</td>\n      <td>0.0</td>\n      <td>0.0</td>\n      <td>0.0</td>\n      <td>0.0</td>\n      <td>0.0</td>\n      <td>1.0</td>\n      <td>266.000000</td>\n      <td>NaN</td>\n      <td>266.0</td>\n      <td>266.0</td>\n      <td>266.0</td>\n      <td>266.00</td>\n      <td>266.0</td>\n    </tr>\n    <tr>\n      <th>1980</th>\n      <td>1.0</td>\n      <td>2.000000</td>\n      <td>NaN</td>\n      <td>2.0</td>\n      <td>2.0</td>\n      <td>2.0</td>\n      <td>2.0</td>\n      <td>2.0</td>\n      <td>1.0</td>\n      <td>236.000000</td>\n      <td>NaN</td>\n      <td>236.0</td>\n      <td>236.0</td>\n      <td>236.0</td>\n      <td>236.00</td>\n      <td>236.0</td>\n    </tr>\n  </tbody>\n</table>\n</div>"
     },
     "metadata": {},
     "output_type": "display_data"
    }
   ],
   "source": [
    "display(songs.groupby('Year')['Other.releases'].describe())\n",
    "display(songs.groupby('Year')[['Other.releases', 'Duration']].describe())"
   ]
  },
  {
   "cell_type": "markdown",
   "metadata": {
    "pycharm": {
     "name": "#%% md\n"
    }
   },
   "source": [
    "#### Aggregate, filter, transform, apply\n",
    "\n",
    "`GroupBy` objects have `aggregate()`, `filter()`, `transform()`, and `apply()` methods that efficiently implement a variety of useful operations *before* combining the grouped data."
   ]
  },
  {
   "cell_type": "markdown",
   "metadata": {
    "pycharm": {
     "name": "#%% md\n"
    }
   },
   "source": [
    "Read the dataset:"
   ]
  },
  {
   "cell_type": "code",
   "execution_count": 23,
   "metadata": {
    "pycharm": {
     "name": "#%%\n"
    }
   },
   "outputs": [],
   "source": [
    "songs = pd.read_csv('data/The Beatles songs dataset, v2, no NAs.csv')"
   ]
  },
  {
   "cell_type": "markdown",
   "metadata": {
    "pycharm": {
     "name": "#%% md\n"
    }
   },
   "source": [
    "##### aggregate()\n",
    "It can take a string, a function, or a list thereof, and compute all the aggregates at once. It can also take a dictionary specifying the aggregates to compute on specific columns:"
   ]
  },
  {
   "cell_type": "code",
   "execution_count": 24,
   "metadata": {
    "scrolled": true,
    "pycharm": {
     "name": "#%%\n"
    }
   },
   "outputs": [
    {
     "data": {
      "text/plain": "     Other.releases        Duration       \n                min median      min median\nYear                                      \n1958              0    0.0      136  150.0\n1960              0    0.0       98  147.0\n1961              0    9.0      140  150.0\n1962              0    0.0      105  150.0\n1963              0    0.0       92  137.0\n1964              0   16.0      106  145.0\n1965              0   12.0      115  148.0\n1966              5   10.0      121  157.0\n1967              0    8.0       80  180.0\n1968              0    9.0       52  183.0\n1969              0    7.0       23  165.0\n1970             10   10.0      145  145.0\n1977              0    0.0      266  266.0\n1980              2    2.0      236  236.0",
      "text/html": "<div>\n<style scoped>\n    .dataframe tbody tr th:only-of-type {\n        vertical-align: middle;\n    }\n\n    .dataframe tbody tr th {\n        vertical-align: top;\n    }\n\n    .dataframe thead tr th {\n        text-align: left;\n    }\n\n    .dataframe thead tr:last-of-type th {\n        text-align: right;\n    }\n</style>\n<table border=\"1\" class=\"dataframe\">\n  <thead>\n    <tr>\n      <th></th>\n      <th colspan=\"2\" halign=\"left\">Other.releases</th>\n      <th colspan=\"2\" halign=\"left\">Duration</th>\n    </tr>\n    <tr>\n      <th></th>\n      <th>min</th>\n      <th>median</th>\n      <th>min</th>\n      <th>median</th>\n    </tr>\n    <tr>\n      <th>Year</th>\n      <th></th>\n      <th></th>\n      <th></th>\n      <th></th>\n    </tr>\n  </thead>\n  <tbody>\n    <tr>\n      <th>1958</th>\n      <td>0</td>\n      <td>0.0</td>\n      <td>136</td>\n      <td>150.0</td>\n    </tr>\n    <tr>\n      <th>1960</th>\n      <td>0</td>\n      <td>0.0</td>\n      <td>98</td>\n      <td>147.0</td>\n    </tr>\n    <tr>\n      <th>1961</th>\n      <td>0</td>\n      <td>9.0</td>\n      <td>140</td>\n      <td>150.0</td>\n    </tr>\n    <tr>\n      <th>1962</th>\n      <td>0</td>\n      <td>0.0</td>\n      <td>105</td>\n      <td>150.0</td>\n    </tr>\n    <tr>\n      <th>1963</th>\n      <td>0</td>\n      <td>0.0</td>\n      <td>92</td>\n      <td>137.0</td>\n    </tr>\n    <tr>\n      <th>1964</th>\n      <td>0</td>\n      <td>16.0</td>\n      <td>106</td>\n      <td>145.0</td>\n    </tr>\n    <tr>\n      <th>1965</th>\n      <td>0</td>\n      <td>12.0</td>\n      <td>115</td>\n      <td>148.0</td>\n    </tr>\n    <tr>\n      <th>1966</th>\n      <td>5</td>\n      <td>10.0</td>\n      <td>121</td>\n      <td>157.0</td>\n    </tr>\n    <tr>\n      <th>1967</th>\n      <td>0</td>\n      <td>8.0</td>\n      <td>80</td>\n      <td>180.0</td>\n    </tr>\n    <tr>\n      <th>1968</th>\n      <td>0</td>\n      <td>9.0</td>\n      <td>52</td>\n      <td>183.0</td>\n    </tr>\n    <tr>\n      <th>1969</th>\n      <td>0</td>\n      <td>7.0</td>\n      <td>23</td>\n      <td>165.0</td>\n    </tr>\n    <tr>\n      <th>1970</th>\n      <td>10</td>\n      <td>10.0</td>\n      <td>145</td>\n      <td>145.0</td>\n    </tr>\n    <tr>\n      <th>1977</th>\n      <td>0</td>\n      <td>0.0</td>\n      <td>266</td>\n      <td>266.0</td>\n    </tr>\n    <tr>\n      <th>1980</th>\n      <td>2</td>\n      <td>2.0</td>\n      <td>236</td>\n      <td>236.0</td>\n    </tr>\n  </tbody>\n</table>\n</div>"
     },
     "metadata": {},
     "output_type": "display_data"
    },
    {
     "data": {
      "text/plain": "      Other.releases  Duration\nYear                          \n1958             0.0       164\n1960             0.0       155\n1961             9.0       150\n1962             0.0       156\n1963             0.0       182\n1964            16.0       183\n1965            12.0       202\n1966            10.0       245\n1967             8.0       388\n1968             9.0       502\n1969             7.0       467\n1970            10.0       145\n1977             0.0       266\n1980             2.0       236",
      "text/html": "<div>\n<style scoped>\n    .dataframe tbody tr th:only-of-type {\n        vertical-align: middle;\n    }\n\n    .dataframe tbody tr th {\n        vertical-align: top;\n    }\n\n    .dataframe thead th {\n        text-align: right;\n    }\n</style>\n<table border=\"1\" class=\"dataframe\">\n  <thead>\n    <tr style=\"text-align: right;\">\n      <th></th>\n      <th>Other.releases</th>\n      <th>Duration</th>\n    </tr>\n    <tr>\n      <th>Year</th>\n      <th></th>\n      <th></th>\n    </tr>\n  </thead>\n  <tbody>\n    <tr>\n      <th>1958</th>\n      <td>0.0</td>\n      <td>164</td>\n    </tr>\n    <tr>\n      <th>1960</th>\n      <td>0.0</td>\n      <td>155</td>\n    </tr>\n    <tr>\n      <th>1961</th>\n      <td>9.0</td>\n      <td>150</td>\n    </tr>\n    <tr>\n      <th>1962</th>\n      <td>0.0</td>\n      <td>156</td>\n    </tr>\n    <tr>\n      <th>1963</th>\n      <td>0.0</td>\n      <td>182</td>\n    </tr>\n    <tr>\n      <th>1964</th>\n      <td>16.0</td>\n      <td>183</td>\n    </tr>\n    <tr>\n      <th>1965</th>\n      <td>12.0</td>\n      <td>202</td>\n    </tr>\n    <tr>\n      <th>1966</th>\n      <td>10.0</td>\n      <td>245</td>\n    </tr>\n    <tr>\n      <th>1967</th>\n      <td>8.0</td>\n      <td>388</td>\n    </tr>\n    <tr>\n      <th>1968</th>\n      <td>9.0</td>\n      <td>502</td>\n    </tr>\n    <tr>\n      <th>1969</th>\n      <td>7.0</td>\n      <td>467</td>\n    </tr>\n    <tr>\n      <th>1970</th>\n      <td>10.0</td>\n      <td>145</td>\n    </tr>\n    <tr>\n      <th>1977</th>\n      <td>0.0</td>\n      <td>266</td>\n    </tr>\n    <tr>\n      <th>1980</th>\n      <td>2.0</td>\n      <td>236</td>\n    </tr>\n  </tbody>\n</table>\n</div>"
     },
     "metadata": {},
     "output_type": "display_data"
    }
   ],
   "source": [
    "display(songs.groupby('Year')[['Other.releases', 'Duration']].aggregate(['min', np.median]))\n",
    "display(songs.groupby('Year')[['Other.releases', 'Duration']].aggregate({'Other.releases': 'median',\n",
    "                                                                         'Duration': 'max'}))"
   ]
  },
  {
   "cell_type": "markdown",
   "metadata": {
    "pycharm": {
     "name": "#%% md\n"
    }
   },
   "source": [
    "##### filter()\n",
    "Drop groups based on a specific Boolean filter function."
   ]
  },
  {
   "cell_type": "code",
   "execution_count": 25,
   "metadata": {
    "pycharm": {
     "name": "#%%\n"
    }
   },
   "outputs": [
    {
     "data": {
      "text/plain": "                                                 Title  Year  \\\n5                                  Across the Universe  1968   \n22                                Back in the U.S.S.R.  1968   \n29                                            Birthday  1968   \n30                                           Blackbird  1968   \n40                                     Child of Nature  1968   \n42                                             Circles  1968   \n46                                        Cry Baby Cry  1968   \n50                                       Dear Prudence  1968   \n60                                    Don't Pass Me By  1968   \n64                                            Etcetera  1968   \n66   Everybody's Got Something to Hide Except Me an...  1968   \n80                                         Glass Onion  1968   \n84                                          Good Night  1968   \n88                             Happiness Is a Warm Gun  1968   \n89                                             Heather  1968   \n93                                      Helter Skelter  1968   \n97                                         Hey Bulldog  1968   \n98                                            Hey Jude  1968   \n102                                          Honey Pie  1968   \n121                                             I Will  1968   \n135                                       I'm So Tired  1968   \n151                                              Julia  1968   \n152                                               Junk  1968   \n156                                       Lady Madonna  1968   \n164                                   Long, Long, Long  1968   \n176                                     Martha My Dear  1968   \n185                                Mother Nature's Son  1968   \n191                                         Not Guilty  1968   \n194                                 Ob-La-Di, Ob-La-Da  1968   \n205                                            Piggies  1968   \n211                                       Revolution 1  1968   \n212                                       Revolution 9  1968   \n213                                         Revolution  1968   \n216                                      Rocky Raccoon  1968   \n219                                      Savoy Truffle  1968   \n222                                         Sexy Sadie  1968   \n238                                      Sour Milk Sea  1968   \n239                     Step Inside Love/Los Paranoias  1968   \n255              The Continuing Story of Bungalow Bill  1968   \n259                                    The Inner Light  1968   \n283                           What's The New Mary Jane  1968   \n286                       While My Guitar Gently Weeps  1968   \n287                    Why Don't We Do It in the Road?  1968   \n288                                     Wild Honey Pie  1968   \n295                                          Yer Blues  1968   \n\n                                         Album.debut  Duration  \\\n5                                          Let It Be       230   \n22                                       The Beatles       163   \n29                                       The Beatles       162   \n30                                       The Beatles       139   \n40   Let It Be... Naked - Fly on the Wall bonus disc       254   \n42                                               NaN       226   \n46                                       The Beatles       183   \n50                                       The Beatles       236   \n60                                       The Beatles       231   \n64                                               NaN       150   \n66                                       The Beatles       144   \n80                                       The Beatles       137   \n84                                       The Beatles       191   \n88                                       The Beatles       163   \n89                                               NaN       130   \n93                                       The Beatles       270   \n97                                  Yellow Submarine       194   \n98                        UK: 1967-1970 US: Hey Jude       431   \n102                                      The Beatles       161   \n121                                      The Beatles       106   \n135                                      The Beatles       123   \n151                                      The Beatles       174   \n152                                      Anthology 3       114   \n156                       UK: 1967-1970 US: Hey Jude       136   \n164                                      The Beatles       184   \n176                                      The Beatles       148   \n185                                      The Beatles       168   \n191                                      Anthology 3       215   \n194                                      The Beatles       187   \n205                                      The Beatles       124   \n211                                      The Beatles       201   \n212                                      The Beatles       502   \n213                       UK: 1967-1970 US: Hey Jude       201   \n216                                      The Beatles       213   \n219                                      The Beatles       174   \n222                                      The Beatles       195   \n238                                              NaN       236   \n239                                      Anthology 3       150   \n255                                      The Beatles       198   \n259                        UK: Rarities US: Rarities       156   \n283                                      Anthology 3       372   \n286                                      The Beatles       286   \n287                                      The Beatles       102   \n288                                      The Beatles        52   \n295                                      The Beatles       241   \n\n     Other.releases                                              Genre  \\\n5                19                         Psychedelic folk, Pop/Rock   \n22               13                 Rock and Roll, Hard Rock, Pop/Rock   \n29               11                 Hard Rock, Rock and Roll, Pop/Rock   \n30               12                                     Folk, Pop/Rock   \n40                0                                Soft Rock, Pop/Rock   \n42                0                         Hindustani Blues, Pop/Rock   \n46               10                                           Pop/Rock   \n50                9                                     Rock, Pop/Rock   \n60               11                             Country Rock, Pop/Rock   \n64                0                                           Pop/Rock   \n66               10                                Hard Rock, Pop/Rock   \n80                8                         Psychedelic Rock, Pop/Rock   \n84                8                  Orchestral Pop, Lullaby, Pop/Rock   \n88                7                                           Pop/Rock   \n89                0                                     Rock, Pop/Rock   \n93               13      Hard Rock, Heavy Metal[, Proto-Punk, Pop/Rock   \n97               12              Psychedelic Rock, Hard Rock, Pop/Rock   \n98               28                                     Rock, Pop/Rock   \n102               8                Music Hall, Jazz, Ragtime, Pop/Rock   \n121               8                                     Folk, Pop/Rock   \n135              11                               Blues Rock, Pop/Rock   \n151              10                                     Folk, Pop/Rock   \n152               0                                     Folk, Pop/Rock   \n156              21                            Rock and Roll, Pop/Rock   \n164               6                         Psychedelic Folk, Pop/Rock   \n176               6                               Music Hall, Pop/Rock   \n185              10                                     Folk, Pop/Rock   \n191               0                                 Jazz-Pop, Pop/Rock   \n194              16                                      Ska, Pop/Rock   \n205               9                        Baroque Pop, Folk, Pop/Rock   \n211               7                                Hard rock, Pop/Rock   \n212               7  Avant-Garde, Musique Concrete, Experimental, S...   \n213              23                                Hard rock, Pop/Rock   \n216               9                       Country, Folk Rock, Pop/Rock   \n219               7              Soul, Blues Rock, Hard Rock, Pop/Rock   \n222              11                                           Pop/Rock   \n238               0              Hard Rock, Psychedelic Rock, Pop/Rock   \n239               0                                Folk Rock, Pop/Rock   \n255               8                                Folk Rock, Pop/Rock   \n259              10                  Indian Music, Raga Rock, Pop/Rock   \n283               0  Psychedelic Rock, Musique Concrete, Experiment...   \n286              18       Rock, Psychedelic Rock, Blues Rock, Pop/Rock   \n287               8                              Rock, Blues, Pop/Rock   \n288               7  Experimental pop, Lo-Fi, Psychedelic Folk, Pop...   \n295              11                    Blues Rock, Hard Rock, Pop/Rock   \n\n                                            Songwriter  \\\n5                                               Lennon   \n22                                           McCartney   \n29                              McCartney, with Lennon   \n30                                           McCartney   \n40                                              Lennon   \n42                                            Harrison   \n46                                              Lennon   \n50                                              Lennon   \n60                                             Starkey   \n64                                           McCartney   \n66                                              Lennon   \n80                                              Lennon   \n84                                              Lennon   \n88                                              Lennon   \n89                                           McCartney   \n93                                           McCartney   \n97                                              Lennon   \n98                                           McCartney   \n102                                          McCartney   \n121                                          McCartney   \n135                                             Lennon   \n151                                             Lennon   \n152                                          McCartney   \n156                             McCartney, with Lennon   \n164                                           Harrison   \n176                                          McCartney   \n185                                          McCartney   \n191                                           Harrison   \n194                                          McCartney   \n205                                           Harrison   \n211                                             Lennon   \n212                      Lennon, with Ono and Harrison   \n213                                             Lennon   \n216                             McCartney, with Lennon   \n219                                           Harrison   \n222                                             Lennon   \n238                                           Harrison   \n239  McCartney (Step Inside Love); Lennon, McCartne...   \n255                                             Lennon   \n259                                           Harrison   \n283                                             Lennon   \n286                                           Harrison   \n287                                          McCartney   \n288                                          McCartney   \n295                                             Lennon   \n\n                 Lead.vocal  Top.50.Billboard  \n5                    Lennon                -1  \n22                McCartney                -1  \n29   McCartney, with Lennon                -1  \n30                McCartney                -1  \n40                   Lennon                -1  \n42                 Harrison                -1  \n46   Lennon, with McCartney                -1  \n50                   Lennon                -1  \n60                  Starkey                -1  \n64                McCartney                -1  \n66                   Lennon                -1  \n80                   Lennon                -1  \n84                  Starkey                -1  \n88                   Lennon                -1  \n89                McCartney                -1  \n93                McCartney                -1  \n97                   Lennon                -1  \n98                McCartney                 1  \n102               McCartney                -1  \n121               McCartney                -1  \n135                  Lennon                -1  \n151                  Lennon                -1  \n152               McCartney                -1  \n156               McCartney                22  \n164                Harrison                -1  \n176               McCartney                -1  \n185               McCartney                -1  \n191                Harrison                -1  \n194               McCartney                -1  \n205                Harrison                -1  \n211                  Lennon                -1  \n212                     NaN                -1  \n213                  Lennon                32  \n216               McCartney                -1  \n219                Harrison                -1  \n222                  Lennon                -1  \n238                Harrison                -1  \n239               McCartney                -1  \n255    Lennon, with Starkey                -1  \n259                Harrison                -1  \n283                  Lennon                -1  \n286                Harrison                -1  \n287               McCartney                -1  \n288               McCartney                -1  \n295                  Lennon                -1  ",
      "text/html": "<div>\n<style scoped>\n    .dataframe tbody tr th:only-of-type {\n        vertical-align: middle;\n    }\n\n    .dataframe tbody tr th {\n        vertical-align: top;\n    }\n\n    .dataframe thead th {\n        text-align: right;\n    }\n</style>\n<table border=\"1\" class=\"dataframe\">\n  <thead>\n    <tr style=\"text-align: right;\">\n      <th></th>\n      <th>Title</th>\n      <th>Year</th>\n      <th>Album.debut</th>\n      <th>Duration</th>\n      <th>Other.releases</th>\n      <th>Genre</th>\n      <th>Songwriter</th>\n      <th>Lead.vocal</th>\n      <th>Top.50.Billboard</th>\n    </tr>\n  </thead>\n  <tbody>\n    <tr>\n      <th>5</th>\n      <td>Across the Universe</td>\n      <td>1968</td>\n      <td>Let It Be</td>\n      <td>230</td>\n      <td>19</td>\n      <td>Psychedelic folk, Pop/Rock</td>\n      <td>Lennon</td>\n      <td>Lennon</td>\n      <td>-1</td>\n    </tr>\n    <tr>\n      <th>22</th>\n      <td>Back in the U.S.S.R.</td>\n      <td>1968</td>\n      <td>The Beatles</td>\n      <td>163</td>\n      <td>13</td>\n      <td>Rock and Roll, Hard Rock, Pop/Rock</td>\n      <td>McCartney</td>\n      <td>McCartney</td>\n      <td>-1</td>\n    </tr>\n    <tr>\n      <th>29</th>\n      <td>Birthday</td>\n      <td>1968</td>\n      <td>The Beatles</td>\n      <td>162</td>\n      <td>11</td>\n      <td>Hard Rock, Rock and Roll, Pop/Rock</td>\n      <td>McCartney, with Lennon</td>\n      <td>McCartney, with Lennon</td>\n      <td>-1</td>\n    </tr>\n    <tr>\n      <th>30</th>\n      <td>Blackbird</td>\n      <td>1968</td>\n      <td>The Beatles</td>\n      <td>139</td>\n      <td>12</td>\n      <td>Folk, Pop/Rock</td>\n      <td>McCartney</td>\n      <td>McCartney</td>\n      <td>-1</td>\n    </tr>\n    <tr>\n      <th>40</th>\n      <td>Child of Nature</td>\n      <td>1968</td>\n      <td>Let It Be... Naked - Fly on the Wall bonus disc</td>\n      <td>254</td>\n      <td>0</td>\n      <td>Soft Rock, Pop/Rock</td>\n      <td>Lennon</td>\n      <td>Lennon</td>\n      <td>-1</td>\n    </tr>\n    <tr>\n      <th>42</th>\n      <td>Circles</td>\n      <td>1968</td>\n      <td>NaN</td>\n      <td>226</td>\n      <td>0</td>\n      <td>Hindustani Blues, Pop/Rock</td>\n      <td>Harrison</td>\n      <td>Harrison</td>\n      <td>-1</td>\n    </tr>\n    <tr>\n      <th>46</th>\n      <td>Cry Baby Cry</td>\n      <td>1968</td>\n      <td>The Beatles</td>\n      <td>183</td>\n      <td>10</td>\n      <td>Pop/Rock</td>\n      <td>Lennon</td>\n      <td>Lennon, with McCartney</td>\n      <td>-1</td>\n    </tr>\n    <tr>\n      <th>50</th>\n      <td>Dear Prudence</td>\n      <td>1968</td>\n      <td>The Beatles</td>\n      <td>236</td>\n      <td>9</td>\n      <td>Rock, Pop/Rock</td>\n      <td>Lennon</td>\n      <td>Lennon</td>\n      <td>-1</td>\n    </tr>\n    <tr>\n      <th>60</th>\n      <td>Don't Pass Me By</td>\n      <td>1968</td>\n      <td>The Beatles</td>\n      <td>231</td>\n      <td>11</td>\n      <td>Country Rock, Pop/Rock</td>\n      <td>Starkey</td>\n      <td>Starkey</td>\n      <td>-1</td>\n    </tr>\n    <tr>\n      <th>64</th>\n      <td>Etcetera</td>\n      <td>1968</td>\n      <td>NaN</td>\n      <td>150</td>\n      <td>0</td>\n      <td>Pop/Rock</td>\n      <td>McCartney</td>\n      <td>McCartney</td>\n      <td>-1</td>\n    </tr>\n    <tr>\n      <th>66</th>\n      <td>Everybody's Got Something to Hide Except Me an...</td>\n      <td>1968</td>\n      <td>The Beatles</td>\n      <td>144</td>\n      <td>10</td>\n      <td>Hard Rock, Pop/Rock</td>\n      <td>Lennon</td>\n      <td>Lennon</td>\n      <td>-1</td>\n    </tr>\n    <tr>\n      <th>80</th>\n      <td>Glass Onion</td>\n      <td>1968</td>\n      <td>The Beatles</td>\n      <td>137</td>\n      <td>8</td>\n      <td>Psychedelic Rock, Pop/Rock</td>\n      <td>Lennon</td>\n      <td>Lennon</td>\n      <td>-1</td>\n    </tr>\n    <tr>\n      <th>84</th>\n      <td>Good Night</td>\n      <td>1968</td>\n      <td>The Beatles</td>\n      <td>191</td>\n      <td>8</td>\n      <td>Orchestral Pop, Lullaby, Pop/Rock</td>\n      <td>Lennon</td>\n      <td>Starkey</td>\n      <td>-1</td>\n    </tr>\n    <tr>\n      <th>88</th>\n      <td>Happiness Is a Warm Gun</td>\n      <td>1968</td>\n      <td>The Beatles</td>\n      <td>163</td>\n      <td>7</td>\n      <td>Pop/Rock</td>\n      <td>Lennon</td>\n      <td>Lennon</td>\n      <td>-1</td>\n    </tr>\n    <tr>\n      <th>89</th>\n      <td>Heather</td>\n      <td>1968</td>\n      <td>NaN</td>\n      <td>130</td>\n      <td>0</td>\n      <td>Rock, Pop/Rock</td>\n      <td>McCartney</td>\n      <td>McCartney</td>\n      <td>-1</td>\n    </tr>\n    <tr>\n      <th>93</th>\n      <td>Helter Skelter</td>\n      <td>1968</td>\n      <td>The Beatles</td>\n      <td>270</td>\n      <td>13</td>\n      <td>Hard Rock, Heavy Metal[, Proto-Punk, Pop/Rock</td>\n      <td>McCartney</td>\n      <td>McCartney</td>\n      <td>-1</td>\n    </tr>\n    <tr>\n      <th>97</th>\n      <td>Hey Bulldog</td>\n      <td>1968</td>\n      <td>Yellow Submarine</td>\n      <td>194</td>\n      <td>12</td>\n      <td>Psychedelic Rock, Hard Rock, Pop/Rock</td>\n      <td>Lennon</td>\n      <td>Lennon</td>\n      <td>-1</td>\n    </tr>\n    <tr>\n      <th>98</th>\n      <td>Hey Jude</td>\n      <td>1968</td>\n      <td>UK: 1967-1970 US: Hey Jude</td>\n      <td>431</td>\n      <td>28</td>\n      <td>Rock, Pop/Rock</td>\n      <td>McCartney</td>\n      <td>McCartney</td>\n      <td>1</td>\n    </tr>\n    <tr>\n      <th>102</th>\n      <td>Honey Pie</td>\n      <td>1968</td>\n      <td>The Beatles</td>\n      <td>161</td>\n      <td>8</td>\n      <td>Music Hall, Jazz, Ragtime, Pop/Rock</td>\n      <td>McCartney</td>\n      <td>McCartney</td>\n      <td>-1</td>\n    </tr>\n    <tr>\n      <th>121</th>\n      <td>I Will</td>\n      <td>1968</td>\n      <td>The Beatles</td>\n      <td>106</td>\n      <td>8</td>\n      <td>Folk, Pop/Rock</td>\n      <td>McCartney</td>\n      <td>McCartney</td>\n      <td>-1</td>\n    </tr>\n    <tr>\n      <th>135</th>\n      <td>I'm So Tired</td>\n      <td>1968</td>\n      <td>The Beatles</td>\n      <td>123</td>\n      <td>11</td>\n      <td>Blues Rock, Pop/Rock</td>\n      <td>Lennon</td>\n      <td>Lennon</td>\n      <td>-1</td>\n    </tr>\n    <tr>\n      <th>151</th>\n      <td>Julia</td>\n      <td>1968</td>\n      <td>The Beatles</td>\n      <td>174</td>\n      <td>10</td>\n      <td>Folk, Pop/Rock</td>\n      <td>Lennon</td>\n      <td>Lennon</td>\n      <td>-1</td>\n    </tr>\n    <tr>\n      <th>152</th>\n      <td>Junk</td>\n      <td>1968</td>\n      <td>Anthology 3</td>\n      <td>114</td>\n      <td>0</td>\n      <td>Folk, Pop/Rock</td>\n      <td>McCartney</td>\n      <td>McCartney</td>\n      <td>-1</td>\n    </tr>\n    <tr>\n      <th>156</th>\n      <td>Lady Madonna</td>\n      <td>1968</td>\n      <td>UK: 1967-1970 US: Hey Jude</td>\n      <td>136</td>\n      <td>21</td>\n      <td>Rock and Roll, Pop/Rock</td>\n      <td>McCartney, with Lennon</td>\n      <td>McCartney</td>\n      <td>22</td>\n    </tr>\n    <tr>\n      <th>164</th>\n      <td>Long, Long, Long</td>\n      <td>1968</td>\n      <td>The Beatles</td>\n      <td>184</td>\n      <td>6</td>\n      <td>Psychedelic Folk, Pop/Rock</td>\n      <td>Harrison</td>\n      <td>Harrison</td>\n      <td>-1</td>\n    </tr>\n    <tr>\n      <th>176</th>\n      <td>Martha My Dear</td>\n      <td>1968</td>\n      <td>The Beatles</td>\n      <td>148</td>\n      <td>6</td>\n      <td>Music Hall, Pop/Rock</td>\n      <td>McCartney</td>\n      <td>McCartney</td>\n      <td>-1</td>\n    </tr>\n    <tr>\n      <th>185</th>\n      <td>Mother Nature's Son</td>\n      <td>1968</td>\n      <td>The Beatles</td>\n      <td>168</td>\n      <td>10</td>\n      <td>Folk, Pop/Rock</td>\n      <td>McCartney</td>\n      <td>McCartney</td>\n      <td>-1</td>\n    </tr>\n    <tr>\n      <th>191</th>\n      <td>Not Guilty</td>\n      <td>1968</td>\n      <td>Anthology 3</td>\n      <td>215</td>\n      <td>0</td>\n      <td>Jazz-Pop, Pop/Rock</td>\n      <td>Harrison</td>\n      <td>Harrison</td>\n      <td>-1</td>\n    </tr>\n    <tr>\n      <th>194</th>\n      <td>Ob-La-Di, Ob-La-Da</td>\n      <td>1968</td>\n      <td>The Beatles</td>\n      <td>187</td>\n      <td>16</td>\n      <td>Ska, Pop/Rock</td>\n      <td>McCartney</td>\n      <td>McCartney</td>\n      <td>-1</td>\n    </tr>\n    <tr>\n      <th>205</th>\n      <td>Piggies</td>\n      <td>1968</td>\n      <td>The Beatles</td>\n      <td>124</td>\n      <td>9</td>\n      <td>Baroque Pop, Folk, Pop/Rock</td>\n      <td>Harrison</td>\n      <td>Harrison</td>\n      <td>-1</td>\n    </tr>\n    <tr>\n      <th>211</th>\n      <td>Revolution 1</td>\n      <td>1968</td>\n      <td>The Beatles</td>\n      <td>201</td>\n      <td>7</td>\n      <td>Hard rock, Pop/Rock</td>\n      <td>Lennon</td>\n      <td>Lennon</td>\n      <td>-1</td>\n    </tr>\n    <tr>\n      <th>212</th>\n      <td>Revolution 9</td>\n      <td>1968</td>\n      <td>The Beatles</td>\n      <td>502</td>\n      <td>7</td>\n      <td>Avant-Garde, Musique Concrete, Experimental, S...</td>\n      <td>Lennon, with Ono and Harrison</td>\n      <td>NaN</td>\n      <td>-1</td>\n    </tr>\n    <tr>\n      <th>213</th>\n      <td>Revolution</td>\n      <td>1968</td>\n      <td>UK: 1967-1970 US: Hey Jude</td>\n      <td>201</td>\n      <td>23</td>\n      <td>Hard rock, Pop/Rock</td>\n      <td>Lennon</td>\n      <td>Lennon</td>\n      <td>32</td>\n    </tr>\n    <tr>\n      <th>216</th>\n      <td>Rocky Raccoon</td>\n      <td>1968</td>\n      <td>The Beatles</td>\n      <td>213</td>\n      <td>9</td>\n      <td>Country, Folk Rock, Pop/Rock</td>\n      <td>McCartney, with Lennon</td>\n      <td>McCartney</td>\n      <td>-1</td>\n    </tr>\n    <tr>\n      <th>219</th>\n      <td>Savoy Truffle</td>\n      <td>1968</td>\n      <td>The Beatles</td>\n      <td>174</td>\n      <td>7</td>\n      <td>Soul, Blues Rock, Hard Rock, Pop/Rock</td>\n      <td>Harrison</td>\n      <td>Harrison</td>\n      <td>-1</td>\n    </tr>\n    <tr>\n      <th>222</th>\n      <td>Sexy Sadie</td>\n      <td>1968</td>\n      <td>The Beatles</td>\n      <td>195</td>\n      <td>11</td>\n      <td>Pop/Rock</td>\n      <td>Lennon</td>\n      <td>Lennon</td>\n      <td>-1</td>\n    </tr>\n    <tr>\n      <th>238</th>\n      <td>Sour Milk Sea</td>\n      <td>1968</td>\n      <td>NaN</td>\n      <td>236</td>\n      <td>0</td>\n      <td>Hard Rock, Psychedelic Rock, Pop/Rock</td>\n      <td>Harrison</td>\n      <td>Harrison</td>\n      <td>-1</td>\n    </tr>\n    <tr>\n      <th>239</th>\n      <td>Step Inside Love/Los Paranoias</td>\n      <td>1968</td>\n      <td>Anthology 3</td>\n      <td>150</td>\n      <td>0</td>\n      <td>Folk Rock, Pop/Rock</td>\n      <td>McCartney (Step Inside Love); Lennon, McCartne...</td>\n      <td>McCartney</td>\n      <td>-1</td>\n    </tr>\n    <tr>\n      <th>255</th>\n      <td>The Continuing Story of Bungalow Bill</td>\n      <td>1968</td>\n      <td>The Beatles</td>\n      <td>198</td>\n      <td>8</td>\n      <td>Folk Rock, Pop/Rock</td>\n      <td>Lennon</td>\n      <td>Lennon, with Starkey</td>\n      <td>-1</td>\n    </tr>\n    <tr>\n      <th>259</th>\n      <td>The Inner Light</td>\n      <td>1968</td>\n      <td>UK: Rarities US: Rarities</td>\n      <td>156</td>\n      <td>10</td>\n      <td>Indian Music, Raga Rock, Pop/Rock</td>\n      <td>Harrison</td>\n      <td>Harrison</td>\n      <td>-1</td>\n    </tr>\n    <tr>\n      <th>283</th>\n      <td>What's The New Mary Jane</td>\n      <td>1968</td>\n      <td>Anthology 3</td>\n      <td>372</td>\n      <td>0</td>\n      <td>Psychedelic Rock, Musique Concrete, Experiment...</td>\n      <td>Lennon</td>\n      <td>Lennon</td>\n      <td>-1</td>\n    </tr>\n    <tr>\n      <th>286</th>\n      <td>While My Guitar Gently Weeps</td>\n      <td>1968</td>\n      <td>The Beatles</td>\n      <td>286</td>\n      <td>18</td>\n      <td>Rock, Psychedelic Rock, Blues Rock, Pop/Rock</td>\n      <td>Harrison</td>\n      <td>Harrison</td>\n      <td>-1</td>\n    </tr>\n    <tr>\n      <th>287</th>\n      <td>Why Don't We Do It in the Road?</td>\n      <td>1968</td>\n      <td>The Beatles</td>\n      <td>102</td>\n      <td>8</td>\n      <td>Rock, Blues, Pop/Rock</td>\n      <td>McCartney</td>\n      <td>McCartney</td>\n      <td>-1</td>\n    </tr>\n    <tr>\n      <th>288</th>\n      <td>Wild Honey Pie</td>\n      <td>1968</td>\n      <td>The Beatles</td>\n      <td>52</td>\n      <td>7</td>\n      <td>Experimental pop, Lo-Fi, Psychedelic Folk, Pop...</td>\n      <td>McCartney</td>\n      <td>McCartney</td>\n      <td>-1</td>\n    </tr>\n    <tr>\n      <th>295</th>\n      <td>Yer Blues</td>\n      <td>1968</td>\n      <td>The Beatles</td>\n      <td>241</td>\n      <td>11</td>\n      <td>Blues Rock, Hard Rock, Pop/Rock</td>\n      <td>Lennon</td>\n      <td>Lennon</td>\n      <td>-1</td>\n    </tr>\n  </tbody>\n</table>\n</div>"
     },
     "metadata": {},
     "output_type": "display_data"
    }
   ],
   "source": [
    "def long_songs(x):\n",
    "    return x['Duration'].max() > 500\n",
    "\n",
    "display(songs.groupby('Year').filter(long_songs))"
   ]
  },
  {
   "cell_type": "markdown",
   "metadata": {
    "pycharm": {
     "name": "#%% md\n"
    }
   },
   "source": [
    "##### transform()\n",
    "Returns some transformed version of the full data (the output dataset has the same shape as the input dataset)."
   ]
  },
  {
   "cell_type": "code",
   "execution_count": 26,
   "metadata": {
    "pycharm": {
     "name": "#%%\n"
    }
   },
   "outputs": [
    {
     "data": {
      "text/plain": "     Other.releases  Duration\n0                34       202\n1                25       388\n2                42       183\n3                45       182\n4                45       182\n..              ...       ...\n305              34       202\n306              34       202\n307              45       182\n308              45       182\n309              25       388\n\n[310 rows x 2 columns]",
      "text/html": "<div>\n<style scoped>\n    .dataframe tbody tr th:only-of-type {\n        vertical-align: middle;\n    }\n\n    .dataframe tbody tr th {\n        vertical-align: top;\n    }\n\n    .dataframe thead th {\n        text-align: right;\n    }\n</style>\n<table border=\"1\" class=\"dataframe\">\n  <thead>\n    <tr style=\"text-align: right;\">\n      <th></th>\n      <th>Other.releases</th>\n      <th>Duration</th>\n    </tr>\n  </thead>\n  <tbody>\n    <tr>\n      <th>0</th>\n      <td>34</td>\n      <td>202</td>\n    </tr>\n    <tr>\n      <th>1</th>\n      <td>25</td>\n      <td>388</td>\n    </tr>\n    <tr>\n      <th>2</th>\n      <td>42</td>\n      <td>183</td>\n    </tr>\n    <tr>\n      <th>3</th>\n      <td>45</td>\n      <td>182</td>\n    </tr>\n    <tr>\n      <th>4</th>\n      <td>45</td>\n      <td>182</td>\n    </tr>\n    <tr>\n      <th>...</th>\n      <td>...</td>\n      <td>...</td>\n    </tr>\n    <tr>\n      <th>305</th>\n      <td>34</td>\n      <td>202</td>\n    </tr>\n    <tr>\n      <th>306</th>\n      <td>34</td>\n      <td>202</td>\n    </tr>\n    <tr>\n      <th>307</th>\n      <td>45</td>\n      <td>182</td>\n    </tr>\n    <tr>\n      <th>308</th>\n      <td>45</td>\n      <td>182</td>\n    </tr>\n    <tr>\n      <th>309</th>\n      <td>25</td>\n      <td>388</td>\n    </tr>\n  </tbody>\n</table>\n<p>310 rows × 2 columns</p>\n</div>"
     },
     "metadata": {},
     "output_type": "display_data"
    }
   ],
   "source": [
    "display(songs.groupby('Year')[['Other.releases', 'Duration']].transform(lambda x: max(x)))"
   ]
  },
  {
   "cell_type": "markdown",
   "metadata": {
    "pycharm": {
     "name": "#%% md\n"
    }
   },
   "source": [
    "##### apply()\n",
    "Takes an arbitrary function and applies it to the group results.\n",
    "The function should take a `pd.DataFrame` argument, and return either a Pandas object (e.g., `pd.DataFrame`, `pd.Series`) or a scalar. The combine operation will be tailored to the type of output returned."
   ]
  },
  {
   "cell_type": "code",
   "execution_count": 27,
   "metadata": {
    "scrolled": true,
    "pycharm": {
     "name": "#%%\n"
    }
   },
   "outputs": [
    {
     "data": {
      "text/plain": "                                 Title  Year  \\\n0                      12-Bar Original  1965   \n1                    A Day in the Life  1967   \n2                   A Hard Day's Night  1964   \n3           A Shot of Rhythm and Blues  1963   \n4                     A Taste of Honey  1963   \n..                                 ...   ...   \n305     You're Going to Lose That Girl  1965   \n306  You've Got to Hide Your Love Away  1965   \n307     You've Really Got a Hold on Me  1963   \n308                        Young Blood  1963   \n309            Your Mother Should Know  1967   \n\n                                  Songwriter  \n0    Lennon, McCartney, Harrison and Starkey  \n1                       Lennon and McCartney  \n2                                     Lennon  \n3                                   Thompson  \n4                              Scott, Marlow  \n..                                       ...  \n305                                   Lennon  \n306                                   Lennon  \n307                                 Robinson  \n308                          Leiber, Stoller  \n309                                McCartney  \n\n[310 rows x 3 columns]",
      "text/html": "<div>\n<style scoped>\n    .dataframe tbody tr th:only-of-type {\n        vertical-align: middle;\n    }\n\n    .dataframe tbody tr th {\n        vertical-align: top;\n    }\n\n    .dataframe thead th {\n        text-align: right;\n    }\n</style>\n<table border=\"1\" class=\"dataframe\">\n  <thead>\n    <tr style=\"text-align: right;\">\n      <th></th>\n      <th>Title</th>\n      <th>Year</th>\n      <th>Songwriter</th>\n    </tr>\n  </thead>\n  <tbody>\n    <tr>\n      <th>0</th>\n      <td>12-Bar Original</td>\n      <td>1965</td>\n      <td>Lennon, McCartney, Harrison and Starkey</td>\n    </tr>\n    <tr>\n      <th>1</th>\n      <td>A Day in the Life</td>\n      <td>1967</td>\n      <td>Lennon and McCartney</td>\n    </tr>\n    <tr>\n      <th>2</th>\n      <td>A Hard Day's Night</td>\n      <td>1964</td>\n      <td>Lennon</td>\n    </tr>\n    <tr>\n      <th>3</th>\n      <td>A Shot of Rhythm and Blues</td>\n      <td>1963</td>\n      <td>Thompson</td>\n    </tr>\n    <tr>\n      <th>4</th>\n      <td>A Taste of Honey</td>\n      <td>1963</td>\n      <td>Scott, Marlow</td>\n    </tr>\n    <tr>\n      <th>...</th>\n      <td>...</td>\n      <td>...</td>\n      <td>...</td>\n    </tr>\n    <tr>\n      <th>305</th>\n      <td>You're Going to Lose That Girl</td>\n      <td>1965</td>\n      <td>Lennon</td>\n    </tr>\n    <tr>\n      <th>306</th>\n      <td>You've Got to Hide Your Love Away</td>\n      <td>1965</td>\n      <td>Lennon</td>\n    </tr>\n    <tr>\n      <th>307</th>\n      <td>You've Really Got a Hold on Me</td>\n      <td>1963</td>\n      <td>Robinson</td>\n    </tr>\n    <tr>\n      <th>308</th>\n      <td>Young Blood</td>\n      <td>1963</td>\n      <td>Leiber, Stoller</td>\n    </tr>\n    <tr>\n      <th>309</th>\n      <td>Your Mother Should Know</td>\n      <td>1967</td>\n      <td>McCartney</td>\n    </tr>\n  </tbody>\n</table>\n<p>310 rows × 3 columns</p>\n</div>"
     },
     "metadata": {},
     "output_type": "display_data"
    }
   ],
   "source": [
    "def keep_a_few(x):\n",
    "    return x[['Title', 'Year', 'Songwriter']]\n",
    "\n",
    "display(songs.groupby('Year').apply(keep_a_few))"
   ]
  },
  {
   "cell_type": "markdown",
   "metadata": {
    "pycharm": {
     "name": "#%% md\n"
    }
   },
   "source": [
    "#### A list, array, series, or index providing the grouping keys\n",
    "Specifying the grouping keys not as the values of a dataframe column, but in a different way."
   ]
  },
  {
   "cell_type": "markdown",
   "metadata": {
    "pycharm": {
     "name": "#%% md\n"
    }
   },
   "source": [
    "##### List providing the grouping keys\n",
    "The length of the list must be the same as the number of rows in the dataframe."
   ]
  },
  {
   "cell_type": "markdown",
   "source": [
    "Generate `len(songs.index)` random numbers between 0 and 4, to simulate random grouping of the songs into 5 different playlists (based on [this](https://jakevdp.github.io/PythonDataScienceHandbook/03.08-aggregation-and-grouping.html#A-list,-array,-series,-or-index-providing-the-grouping-keys); if in doubt about how it works, see [this](https://stackoverflow.com/questions/59402554/can-pandas-use-a-list-for-groupby)):"
   ],
   "metadata": {
    "collapsed": false,
    "pycharm": {
     "name": "#%% md\n"
    }
   }
  },
  {
   "cell_type": "code",
   "execution_count": 38,
   "outputs": [
    {
     "name": "stdout",
     "output_type": "stream",
     "text": [
      "[2, 3, 3, 0, 0, 1, 1, 4, 3, 3, 2, 3, 0, 2, 0, 4, 0, 4, 0, 3, 1, 2, 4, 0, 0, 4, 2, 0, 4, 4, 0, 2, 0, 1, 3, 0, 3, 0, 0, 4, 2, 2, 2, 2, 1, 0, 3, 4, 4, 3, 1, 1, 3, 3, 0, 1, 1, 2, 4, 2, 0, 4, 2, 2, 1, 2, 1, 3, 0, 2, 0, 3, 0, 1, 1, 3, 0, 2, 1, 1, 2, 4, 2, 4, 0, 4, 1, 0, 3, 4, 0, 1, 3, 1, 1, 0, 0, 3, 4, 4, 2, 0, 1, 3, 4, 3, 1, 2, 2, 3, 1, 4, 4, 0, 1, 4, 1, 4, 2, 3, 3, 1, 1, 1, 3, 3, 0, 4, 2, 1, 2, 4, 2, 3, 4, 4, 3, 2, 2, 4, 3, 2, 1, 1, 3, 2, 0, 3, 4, 3, 4, 4, 2, 3, 1, 0, 1, 1, 4, 3, 2, 3, 0, 2, 3, 1, 1, 2, 1, 3, 0, 0, 1, 3, 3, 3, 4, 1, 0, 2, 2, 0, 3, 1, 1, 1, 4, 0, 1, 1, 1, 2, 1, 4, 2, 3, 0, 2, 3, 4, 1, 2, 4, 4, 1, 2, 3, 1, 3, 3, 4, 2, 3, 1, 3, 1, 2, 1, 1, 0, 1, 2, 1, 0, 4, 1, 4, 2, 1, 4, 4, 1, 0, 3, 4, 3, 3, 2, 3, 1, 2, 1, 1, 1, 4, 0, 1, 1, 4, 2, 0, 4, 4, 4, 1, 3, 1, 0, 4, 4, 1, 4, 0, 1, 0, 0, 0, 3, 1, 0, 0, 1, 4, 3, 0, 3, 2, 2, 2, 3, 4, 2, 3, 2, 3, 1, 2, 2, 3, 1, 4, 2, 4, 3, 4, 3, 2, 2, 3, 3, 4, 0, 0, 0, 0, 0, 0, 1, 0, 3]\n"
     ]
    }
   ],
   "source": [
    "import random\n",
    "random.seed(12)\n",
    "random_index_list = random.choices(list(range(5)), k=310)\n",
    "print(random_index_list)"
   ],
   "metadata": {
    "collapsed": false,
    "pycharm": {
     "name": "#%%\n"
    }
   }
  },
  {
   "cell_type": "code",
   "execution_count": 40,
   "outputs": [
    {
     "name": "stdout",
     "output_type": "stream",
     "text": [
      "No. of songs in playlist 1: 58\n",
      "No. of songs in playlist 2: 72\n",
      "No. of songs in playlist 3: 58\n",
      "No. of songs in playlist 4: 64\n",
      "No. of songs in playlist 5: 58\n"
     ]
    }
   ],
   "source": [
    "for i, playlist in songs.groupby(random_index_list):\n",
    "    print(f'No. of songs in playlist {i + 1}: {len(playlist.index)}')\n",
    "# for i, playlist in songs.groupby(random_index_list):\n",
    "#     display(playlist.head())"
   ],
   "metadata": {
    "collapsed": false,
    "pycharm": {
     "name": "#%%\n"
    }
   }
  },
  {
   "cell_type": "markdown",
   "source": [
    "##### Array (numpy.ndarray) providing the grouping keys\n",
    "The length of the list must be the same as the number of rows in the dataframe."
   ],
   "metadata": {
    "collapsed": false,
    "pycharm": {
     "name": "#%% md\n"
    }
   }
  },
  {
   "cell_type": "markdown",
   "metadata": {
    "pycharm": {
     "name": "#%% md\n"
    }
   },
   "source": [
    "Generate `len(songs.index)` random numbers between 0 and 4, to simulate random grouping of the songs into 5 different playlists (based on [this](https://jakevdp.github.io/PythonDataScienceHandbook/03.08-aggregation-and-grouping.html#A-list,-array,-series,-or-index-providing-the-grouping-keys); if in doubt about how it works, see [this](https://stackoverflow.com/questions/59402554/can-pandas-use-a-list-for-groupby)):"
   ]
  },
  {
   "cell_type": "code",
   "execution_count": 43,
   "metadata": {
    "pycharm": {
     "name": "#%%\n"
    }
   },
   "outputs": [
    {
     "name": "stdout",
     "output_type": "stream",
     "text": [
      "310\n",
      "[3 3 1 2 3 3 4 0 1 4 1 2 3 2 0 0 4 2 1 3 4 3 1 0 2 2 0 4 3 1 0 0 3 3 1 3 0\n",
      " 1 1 0 4 0 4 1 3 4 3 3 4 3 3 4 0 2 3 2 4 2 2 3 4 3 1 4 3 1 4 1 3 3 0 3 2 1\n",
      " 4 2 3 3 2 4 2 0 0 4 0 3 1 0 1 4 1 4 2 1 3 3 4 2 4 0 0 4 4 4 3 3 1 4 2 4 3\n",
      " 0 2 0 1 0 4 1 4 1 4 4 1 2 3 4 3 3 2 0 3 4 0 1 4 4 2 2 2 0 1 2 2 2 0 1 4 2\n",
      " 1 1 1 3 0 1 4 0 4 2 0 0 0 0 4 3 1 3 1 3 2 3 4 1 1 3 2 2 3 0 1 3 1 1 4 0 0\n",
      " 3 1 4 2 2 2 4 0 0 3 2 2 4 0 3 2 4 4 2 2 1 3 3 1 2 1 0 0 0 3 4 0 1 0 3 2 2\n",
      " 0 1 0 1 0 0 3 4 3 2 3 4 4 4 1 2 2 2 3 0 3 0 1 1 0 1 4 3 0 3 3 3 1 4 2 2 3\n",
      " 2 3 0 2 2 2 4 4 0 1 4 3 2 4 0 1 1 0 4 0 2 0 1 1 2 1 3 2 0 2 0 3 2 4 3 3 4\n",
      " 2 4 3 1 3 0 3 4 3 0 2 4 2 2]\n",
      "<class 'numpy.ndarray'>\n"
     ]
    }
   ],
   "source": [
    "print(len(songs.index))\n",
    "np.random.seed(12)\n",
    "random_index_list = np.random.choice(5, len(songs.index), replace=True)\n",
    "print(random_index_list)\n",
    "print(type(random_index_list))"
   ]
  },
  {
   "cell_type": "code",
   "execution_count": 45,
   "metadata": {
    "scrolled": true,
    "pycharm": {
     "name": "#%%\n"
    }
   },
   "outputs": [
    {
     "name": "stdout",
     "output_type": "stream",
     "text": [
      "No. of songs in playlist 1: 60\n",
      "No. of songs in playlist 2: 56\n",
      "No. of songs in playlist 3: 62\n",
      "No. of songs in playlist 4: 70\n",
      "No. of songs in playlist 5: 62\n"
     ]
    }
   ],
   "source": [
    "for i, playlist in songs.groupby(random_index_list):\n",
    "    print(f'No. of songs in playlist {i + 1}: {len(playlist.index)}')\n",
    "# for i, playlist in songs.groupby(random_index_list):\n",
    "#     display(playlist.head())"
   ]
  },
  {
   "cell_type": "markdown",
   "metadata": {
    "pycharm": {
     "name": "#%% md\n"
    }
   },
   "source": [
    "In the code snippet above, **<u>make sure to provide a tuple of indices for the `for` loop</u>**, the first one referring to the group index, and the second one representing the group itself."
   ]
  },
  {
   "cell_type": "markdown",
   "metadata": {
    "pycharm": {
     "name": "#%% md\n"
    }
   },
   "source": [
    "##### A dictionary (or series) mapping index to group\n",
    "\n",
    "Another method is to provide a dictionary that maps index values to the group keys."
   ]
  },
  {
   "cell_type": "markdown",
   "metadata": {
    "pycharm": {
     "name": "#%% md\n"
    }
   },
   "source": [
    "Read the dataset and set the index to `Year`:"
   ]
  },
  {
   "cell_type": "code",
   "execution_count": 46,
   "metadata": {
    "scrolled": true,
    "pycharm": {
     "name": "#%%\n"
    }
   },
   "outputs": [
    {
     "data": {
      "text/plain": "                                  Title  Year  \\\nYear                                            \n1965                    12-Bar Original  1965   \n1967                  A Day in the Life  1967   \n1964                 A Hard Day's Night  1964   \n1963         A Shot of Rhythm and Blues  1963   \n1963                   A Taste of Honey  1963   \n...                                 ...   ...   \n1965     You're Going to Lose That Girl  1965   \n1965  You've Got to Hide Your Love Away  1965   \n1963     You've Really Got a Hold on Me  1963   \n1963                        Young Blood  1963   \n1967            Your Mother Should Know  1967   \n\n                                            Album.debut  Duration  \\\nYear                                                                \n1965                                        Anthology 2       174   \n1967              Sgt. Pepper's Lonely Hearts Club Band       335   \n1964               UK: A Hard Day's Night US: 1962-1966       152   \n1963                                    Live at the BBC       104   \n1963         UK: Please Please Me US: The Early Beatles       163   \n...                                                 ...       ...   \n1965                                              Help!       140   \n1965                                              Help!       131   \n1963  UK: With the Beatles US: The Beatles Second Album       182   \n1963                                    Live at the BBC       116   \n1967                               Magical Mystery Tour       149   \n\n      Other.releases                                              Genre  \\\nYear                                                                      \n1965               0                                              Blues   \n1967              12               Psychedelic Rock, Art Rock, Pop/Rock   \n1964              35                         Rock, Electronic, Pop/Rock   \n1963               0                                      R&B, Pop/Rock   \n1963              29                       Pop/Rock, Jazz, Stage&Screen   \n...              ...                                                ...   \n1965               6                                     Rock, Pop/Rock   \n1965              12                                       FolkPop/Rock   \n1963               2                                     Soul, Pop/Rock   \n1963               0                                           Pop/Rock   \n1967              13  Music Hall, Vaudeville Rock, Psychedelic Pop, ...   \n\n                                   Songwriter              Lead.vocal  \\\nYear                                                                    \n1965  Lennon, McCartney, Harrison and Starkey                     NaN   \n1967                     Lennon and McCartney    Lennon and McCartney   \n1964                                   Lennon  Lennon, with McCartney   \n1963                                 Thompson                  Lennon   \n1963                            Scott, Marlow               McCartney   \n...                                       ...                     ...   \n1965                                   Lennon                  Lennon   \n1965                                   Lennon                  Lennon   \n1963                                 Robinson     Lennon and Harrison   \n1963                          Leiber, Stoller                Harrison   \n1967                                McCartney               McCartney   \n\n      Top.50.Billboard  \nYear                    \n1965                -1  \n1967                -1  \n1964                 8  \n1963                -1  \n1963                -1  \n...                ...  \n1965                -1  \n1965                -1  \n1963                -1  \n1963                -1  \n1967                -1  \n\n[310 rows x 9 columns]",
      "text/html": "<div>\n<style scoped>\n    .dataframe tbody tr th:only-of-type {\n        vertical-align: middle;\n    }\n\n    .dataframe tbody tr th {\n        vertical-align: top;\n    }\n\n    .dataframe thead th {\n        text-align: right;\n    }\n</style>\n<table border=\"1\" class=\"dataframe\">\n  <thead>\n    <tr style=\"text-align: right;\">\n      <th></th>\n      <th>Title</th>\n      <th>Year</th>\n      <th>Album.debut</th>\n      <th>Duration</th>\n      <th>Other.releases</th>\n      <th>Genre</th>\n      <th>Songwriter</th>\n      <th>Lead.vocal</th>\n      <th>Top.50.Billboard</th>\n    </tr>\n    <tr>\n      <th>Year</th>\n      <th></th>\n      <th></th>\n      <th></th>\n      <th></th>\n      <th></th>\n      <th></th>\n      <th></th>\n      <th></th>\n      <th></th>\n    </tr>\n  </thead>\n  <tbody>\n    <tr>\n      <th>1965</th>\n      <td>12-Bar Original</td>\n      <td>1965</td>\n      <td>Anthology 2</td>\n      <td>174</td>\n      <td>0</td>\n      <td>Blues</td>\n      <td>Lennon, McCartney, Harrison and Starkey</td>\n      <td>NaN</td>\n      <td>-1</td>\n    </tr>\n    <tr>\n      <th>1967</th>\n      <td>A Day in the Life</td>\n      <td>1967</td>\n      <td>Sgt. Pepper's Lonely Hearts Club Band</td>\n      <td>335</td>\n      <td>12</td>\n      <td>Psychedelic Rock, Art Rock, Pop/Rock</td>\n      <td>Lennon and McCartney</td>\n      <td>Lennon and McCartney</td>\n      <td>-1</td>\n    </tr>\n    <tr>\n      <th>1964</th>\n      <td>A Hard Day's Night</td>\n      <td>1964</td>\n      <td>UK: A Hard Day's Night US: 1962-1966</td>\n      <td>152</td>\n      <td>35</td>\n      <td>Rock, Electronic, Pop/Rock</td>\n      <td>Lennon</td>\n      <td>Lennon, with McCartney</td>\n      <td>8</td>\n    </tr>\n    <tr>\n      <th>1963</th>\n      <td>A Shot of Rhythm and Blues</td>\n      <td>1963</td>\n      <td>Live at the BBC</td>\n      <td>104</td>\n      <td>0</td>\n      <td>R&amp;B, Pop/Rock</td>\n      <td>Thompson</td>\n      <td>Lennon</td>\n      <td>-1</td>\n    </tr>\n    <tr>\n      <th>1963</th>\n      <td>A Taste of Honey</td>\n      <td>1963</td>\n      <td>UK: Please Please Me US: The Early Beatles</td>\n      <td>163</td>\n      <td>29</td>\n      <td>Pop/Rock, Jazz, Stage&amp;Screen</td>\n      <td>Scott, Marlow</td>\n      <td>McCartney</td>\n      <td>-1</td>\n    </tr>\n    <tr>\n      <th>...</th>\n      <td>...</td>\n      <td>...</td>\n      <td>...</td>\n      <td>...</td>\n      <td>...</td>\n      <td>...</td>\n      <td>...</td>\n      <td>...</td>\n      <td>...</td>\n    </tr>\n    <tr>\n      <th>1965</th>\n      <td>You're Going to Lose That Girl</td>\n      <td>1965</td>\n      <td>Help!</td>\n      <td>140</td>\n      <td>6</td>\n      <td>Rock, Pop/Rock</td>\n      <td>Lennon</td>\n      <td>Lennon</td>\n      <td>-1</td>\n    </tr>\n    <tr>\n      <th>1965</th>\n      <td>You've Got to Hide Your Love Away</td>\n      <td>1965</td>\n      <td>Help!</td>\n      <td>131</td>\n      <td>12</td>\n      <td>FolkPop/Rock</td>\n      <td>Lennon</td>\n      <td>Lennon</td>\n      <td>-1</td>\n    </tr>\n    <tr>\n      <th>1963</th>\n      <td>You've Really Got a Hold on Me</td>\n      <td>1963</td>\n      <td>UK: With the Beatles US: The Beatles Second Album</td>\n      <td>182</td>\n      <td>2</td>\n      <td>Soul, Pop/Rock</td>\n      <td>Robinson</td>\n      <td>Lennon and Harrison</td>\n      <td>-1</td>\n    </tr>\n    <tr>\n      <th>1963</th>\n      <td>Young Blood</td>\n      <td>1963</td>\n      <td>Live at the BBC</td>\n      <td>116</td>\n      <td>0</td>\n      <td>Pop/Rock</td>\n      <td>Leiber, Stoller</td>\n      <td>Harrison</td>\n      <td>-1</td>\n    </tr>\n    <tr>\n      <th>1967</th>\n      <td>Your Mother Should Know</td>\n      <td>1967</td>\n      <td>Magical Mystery Tour</td>\n      <td>149</td>\n      <td>13</td>\n      <td>Music Hall, Vaudeville Rock, Psychedelic Pop, ...</td>\n      <td>McCartney</td>\n      <td>McCartney</td>\n      <td>-1</td>\n    </tr>\n  </tbody>\n</table>\n<p>310 rows × 9 columns</p>\n</div>"
     },
     "execution_count": 46,
     "metadata": {},
     "output_type": "execute_result"
    }
   ],
   "source": [
    "songs = pd.read_csv('data/The Beatles songs dataset, v2, no NAs.csv')\n",
    "songs_by_year = songs.set_index(songs['Year'])\n",
    "songs_by_year"
   ]
  },
  {
   "cell_type": "markdown",
   "metadata": {
    "pycharm": {
     "name": "#%% md\n"
    }
   },
   "source": [
    "Create the mapping dictionary that splits the index in two halves:"
   ]
  },
  {
   "cell_type": "code",
   "execution_count": 47,
   "metadata": {
    "pycharm": {
     "name": "#%%\n"
    }
   },
   "outputs": [],
   "source": [
    "mapping = {1958 : 'First half', 1960 : 'First half', 1961: 'First half', \n",
    "           1962: 'First half', 1963: 'First half', 1964: 'First half', 1965: 'First half', \n",
    "           1966: 'Second half', 1967: 'Second half', 1968: 'Second half', 1969: 'Second half', 1970: 'Second half', \n",
    "           1977: 'Second half', 1980: 'Second half'}"
   ]
  },
  {
   "cell_type": "markdown",
   "metadata": {
    "pycharm": {
     "name": "#%% md\n"
    }
   },
   "source": [
    "Group the songs:"
   ]
  },
  {
   "cell_type": "code",
   "execution_count": 48,
   "metadata": {
    "scrolled": true,
    "pycharm": {
     "name": "#%%\n"
    }
   },
   "outputs": [
    {
     "data": {
      "text/plain": "                           Title  Year  \\\nYear                                     \n1965             12-Bar Original  1965   \n1964          A Hard Day's Night  1964   \n1963  A Shot of Rhythm and Blues  1963   \n1963            A Taste of Honey  1963   \n1965               Act Naturally  1965   \n\n                                     Album.debut  Duration  Other.releases  \\\nYear                                                                         \n1965                                 Anthology 2       174               0   \n1964        UK: A Hard Day's Night US: 1962-1966       152              35   \n1963                             Live at the BBC       104               0   \n1963  UK: Please Please Me US: The Early Beatles       163              29   \n1965           UK: Help! US: Yesterday and Today       139              14   \n\n                             Genre                               Songwriter  \\\nYear                                                                          \n1965                         Blues  Lennon, McCartney, Harrison and Starkey   \n1964    Rock, Electronic, Pop/Rock                                   Lennon   \n1963                 R&B, Pop/Rock                                 Thompson   \n1963  Pop/Rock, Jazz, Stage&Screen                            Scott, Marlow   \n1965             Country, Pop/Rock                        Russell, Morrison   \n\n                  Lead.vocal  Top.50.Billboard  \nYear                                            \n1965                     NaN                -1  \n1964  Lennon, with McCartney                 8  \n1963                  Lennon                -1  \n1963               McCartney                -1  \n1965                 Starkey                50  ",
      "text/html": "<div>\n<style scoped>\n    .dataframe tbody tr th:only-of-type {\n        vertical-align: middle;\n    }\n\n    .dataframe tbody tr th {\n        vertical-align: top;\n    }\n\n    .dataframe thead th {\n        text-align: right;\n    }\n</style>\n<table border=\"1\" class=\"dataframe\">\n  <thead>\n    <tr style=\"text-align: right;\">\n      <th></th>\n      <th>Title</th>\n      <th>Year</th>\n      <th>Album.debut</th>\n      <th>Duration</th>\n      <th>Other.releases</th>\n      <th>Genre</th>\n      <th>Songwriter</th>\n      <th>Lead.vocal</th>\n      <th>Top.50.Billboard</th>\n    </tr>\n    <tr>\n      <th>Year</th>\n      <th></th>\n      <th></th>\n      <th></th>\n      <th></th>\n      <th></th>\n      <th></th>\n      <th></th>\n      <th></th>\n      <th></th>\n    </tr>\n  </thead>\n  <tbody>\n    <tr>\n      <th>1965</th>\n      <td>12-Bar Original</td>\n      <td>1965</td>\n      <td>Anthology 2</td>\n      <td>174</td>\n      <td>0</td>\n      <td>Blues</td>\n      <td>Lennon, McCartney, Harrison and Starkey</td>\n      <td>NaN</td>\n      <td>-1</td>\n    </tr>\n    <tr>\n      <th>1964</th>\n      <td>A Hard Day's Night</td>\n      <td>1964</td>\n      <td>UK: A Hard Day's Night US: 1962-1966</td>\n      <td>152</td>\n      <td>35</td>\n      <td>Rock, Electronic, Pop/Rock</td>\n      <td>Lennon</td>\n      <td>Lennon, with McCartney</td>\n      <td>8</td>\n    </tr>\n    <tr>\n      <th>1963</th>\n      <td>A Shot of Rhythm and Blues</td>\n      <td>1963</td>\n      <td>Live at the BBC</td>\n      <td>104</td>\n      <td>0</td>\n      <td>R&amp;B, Pop/Rock</td>\n      <td>Thompson</td>\n      <td>Lennon</td>\n      <td>-1</td>\n    </tr>\n    <tr>\n      <th>1963</th>\n      <td>A Taste of Honey</td>\n      <td>1963</td>\n      <td>UK: Please Please Me US: The Early Beatles</td>\n      <td>163</td>\n      <td>29</td>\n      <td>Pop/Rock, Jazz, Stage&amp;Screen</td>\n      <td>Scott, Marlow</td>\n      <td>McCartney</td>\n      <td>-1</td>\n    </tr>\n    <tr>\n      <th>1965</th>\n      <td>Act Naturally</td>\n      <td>1965</td>\n      <td>UK: Help! US: Yesterday and Today</td>\n      <td>139</td>\n      <td>14</td>\n      <td>Country, Pop/Rock</td>\n      <td>Russell, Morrison</td>\n      <td>Starkey</td>\n      <td>50</td>\n    </tr>\n  </tbody>\n</table>\n</div>"
     },
     "metadata": {},
     "output_type": "display_data"
    },
    {
     "data": {
      "text/plain": "                     Title  Year                            Album.debut  \\\nYear                                                                      \n1967     A Day in the Life  1967  Sgt. Pepper's Lonely Hearts Club Band   \n1968   Across the Universe  1968                              Let It Be   \n1969  All Things Must Pass  1969                            Anthology 3   \n1967      All Together Now  1967                       Yellow Submarine   \n1967  All You Need Is Love  1967                   Magical Mystery Tour   \n\n      Duration  Other.releases                                 Genre  \\\nYear                                                                   \n1967       335              12  Psychedelic Rock, Art Rock, Pop/Rock   \n1968       230              19            Psychedelic folk, Pop/Rock   \n1969       227               0                   Folk Rock, Pop/Rock   \n1967       130               8                     Skiffle, Pop/Rock   \n1967       237              25                              Pop/Rock   \n\n                  Songwriter              Lead.vocal  Top.50.Billboard  \nYear                                                                    \n1967    Lennon and McCartney    Lennon and McCartney                -1  \n1968                  Lennon                  Lennon                -1  \n1969                Harrison                Harrison                -1  \n1967  McCartney, with Lennon  McCartney, with Lennon                -1  \n1967                  Lennon                  Lennon                15  ",
      "text/html": "<div>\n<style scoped>\n    .dataframe tbody tr th:only-of-type {\n        vertical-align: middle;\n    }\n\n    .dataframe tbody tr th {\n        vertical-align: top;\n    }\n\n    .dataframe thead th {\n        text-align: right;\n    }\n</style>\n<table border=\"1\" class=\"dataframe\">\n  <thead>\n    <tr style=\"text-align: right;\">\n      <th></th>\n      <th>Title</th>\n      <th>Year</th>\n      <th>Album.debut</th>\n      <th>Duration</th>\n      <th>Other.releases</th>\n      <th>Genre</th>\n      <th>Songwriter</th>\n      <th>Lead.vocal</th>\n      <th>Top.50.Billboard</th>\n    </tr>\n    <tr>\n      <th>Year</th>\n      <th></th>\n      <th></th>\n      <th></th>\n      <th></th>\n      <th></th>\n      <th></th>\n      <th></th>\n      <th></th>\n      <th></th>\n    </tr>\n  </thead>\n  <tbody>\n    <tr>\n      <th>1967</th>\n      <td>A Day in the Life</td>\n      <td>1967</td>\n      <td>Sgt. Pepper's Lonely Hearts Club Band</td>\n      <td>335</td>\n      <td>12</td>\n      <td>Psychedelic Rock, Art Rock, Pop/Rock</td>\n      <td>Lennon and McCartney</td>\n      <td>Lennon and McCartney</td>\n      <td>-1</td>\n    </tr>\n    <tr>\n      <th>1968</th>\n      <td>Across the Universe</td>\n      <td>1968</td>\n      <td>Let It Be</td>\n      <td>230</td>\n      <td>19</td>\n      <td>Psychedelic folk, Pop/Rock</td>\n      <td>Lennon</td>\n      <td>Lennon</td>\n      <td>-1</td>\n    </tr>\n    <tr>\n      <th>1969</th>\n      <td>All Things Must Pass</td>\n      <td>1969</td>\n      <td>Anthology 3</td>\n      <td>227</td>\n      <td>0</td>\n      <td>Folk Rock, Pop/Rock</td>\n      <td>Harrison</td>\n      <td>Harrison</td>\n      <td>-1</td>\n    </tr>\n    <tr>\n      <th>1967</th>\n      <td>All Together Now</td>\n      <td>1967</td>\n      <td>Yellow Submarine</td>\n      <td>130</td>\n      <td>8</td>\n      <td>Skiffle, Pop/Rock</td>\n      <td>McCartney, with Lennon</td>\n      <td>McCartney, with Lennon</td>\n      <td>-1</td>\n    </tr>\n    <tr>\n      <th>1967</th>\n      <td>All You Need Is Love</td>\n      <td>1967</td>\n      <td>Magical Mystery Tour</td>\n      <td>237</td>\n      <td>25</td>\n      <td>Pop/Rock</td>\n      <td>Lennon</td>\n      <td>Lennon</td>\n      <td>15</td>\n    </tr>\n  </tbody>\n</table>\n</div>"
     },
     "metadata": {},
     "output_type": "display_data"
    }
   ],
   "source": [
    "display(songs_by_year.groupby(mapping).get_group('First half').head())\n",
    "display(songs_by_year.groupby(mapping).get_group('Second half').head())"
   ]
  },
  {
   "cell_type": "markdown",
   "metadata": {
    "pycharm": {
     "name": "#%% md\n"
    }
   },
   "source": [
    "##### Any Python function defining the groups\n",
    "\n",
    "Similar to mapping, one can pass any Python function that will input the index value and output the group:"
   ]
  },
  {
   "cell_type": "code",
   "execution_count": 49,
   "metadata": {
    "pycharm": {
     "name": "#%%\n"
    }
   },
   "outputs": [
    {
     "data": {
      "text/plain": "                           Title  Year  Album.debut  Duration  Other.releases  \\\nYear                                                                            \n1961             Ain't She Sweet  1961  Anthology 1       150               9   \n1960                     Cayenne  1960  Anthology 1       144               0   \n1961            Cry for a Shadow  1961  Anthology 1       140               0   \n1960   Hallelujah, I Love Her So  1960  Anthology 1       155               0   \n1958  In Spite of All the Danger  1958  Anthology 1       164               0   \n\n                                        Genre              Songwriter  \\\nYear                                                                    \n1961                                 Pop/Rock            Yellen, Ager   \n1960              Instrumental Rock, Pop/Rock               McCartney   \n1961              Instrumental Rock, Pop/Rock     Lennon and Harrison   \n1960               Blues, Jazz, R&B, Pop/Rock                 Charles   \n1958  Skiffle, Blues, Rock and Roll, Pop/Rock  McCartney and Harrison   \n\n     Lead.vocal  Top.50.Billboard  \nYear                               \n1961     Lennon                41  \n1960        NaN                -1  \n1961        NaN                -1  \n1960  McCartney                -1  \n1958     Lennon                -1  ",
      "text/html": "<div>\n<style scoped>\n    .dataframe tbody tr th:only-of-type {\n        vertical-align: middle;\n    }\n\n    .dataframe tbody tr th {\n        vertical-align: top;\n    }\n\n    .dataframe thead th {\n        text-align: right;\n    }\n</style>\n<table border=\"1\" class=\"dataframe\">\n  <thead>\n    <tr style=\"text-align: right;\">\n      <th></th>\n      <th>Title</th>\n      <th>Year</th>\n      <th>Album.debut</th>\n      <th>Duration</th>\n      <th>Other.releases</th>\n      <th>Genre</th>\n      <th>Songwriter</th>\n      <th>Lead.vocal</th>\n      <th>Top.50.Billboard</th>\n    </tr>\n    <tr>\n      <th>Year</th>\n      <th></th>\n      <th></th>\n      <th></th>\n      <th></th>\n      <th></th>\n      <th></th>\n      <th></th>\n      <th></th>\n      <th></th>\n    </tr>\n  </thead>\n  <tbody>\n    <tr>\n      <th>1961</th>\n      <td>Ain't She Sweet</td>\n      <td>1961</td>\n      <td>Anthology 1</td>\n      <td>150</td>\n      <td>9</td>\n      <td>Pop/Rock</td>\n      <td>Yellen, Ager</td>\n      <td>Lennon</td>\n      <td>41</td>\n    </tr>\n    <tr>\n      <th>1960</th>\n      <td>Cayenne</td>\n      <td>1960</td>\n      <td>Anthology 1</td>\n      <td>144</td>\n      <td>0</td>\n      <td>Instrumental Rock, Pop/Rock</td>\n      <td>McCartney</td>\n      <td>NaN</td>\n      <td>-1</td>\n    </tr>\n    <tr>\n      <th>1961</th>\n      <td>Cry for a Shadow</td>\n      <td>1961</td>\n      <td>Anthology 1</td>\n      <td>140</td>\n      <td>0</td>\n      <td>Instrumental Rock, Pop/Rock</td>\n      <td>Lennon and Harrison</td>\n      <td>NaN</td>\n      <td>-1</td>\n    </tr>\n    <tr>\n      <th>1960</th>\n      <td>Hallelujah, I Love Her So</td>\n      <td>1960</td>\n      <td>Anthology 1</td>\n      <td>155</td>\n      <td>0</td>\n      <td>Blues, Jazz, R&amp;B, Pop/Rock</td>\n      <td>Charles</td>\n      <td>McCartney</td>\n      <td>-1</td>\n    </tr>\n    <tr>\n      <th>1958</th>\n      <td>In Spite of All the Danger</td>\n      <td>1958</td>\n      <td>Anthology 1</td>\n      <td>164</td>\n      <td>0</td>\n      <td>Skiffle, Blues, Rock and Roll, Pop/Rock</td>\n      <td>McCartney and Harrison</td>\n      <td>Lennon</td>\n      <td>-1</td>\n    </tr>\n  </tbody>\n</table>\n</div>"
     },
     "metadata": {},
     "output_type": "display_data"
    },
    {
     "data": {
      "text/plain": "                           Title  Year  \\\nYear                                     \n1965             12-Bar Original  1965   \n1967           A Day in the Life  1967   \n1964          A Hard Day's Night  1964   \n1963  A Shot of Rhythm and Blues  1963   \n1963            A Taste of Honey  1963   \n\n                                     Album.debut  Duration  Other.releases  \\\nYear                                                                         \n1965                                 Anthology 2       174               0   \n1967       Sgt. Pepper's Lonely Hearts Club Band       335              12   \n1964        UK: A Hard Day's Night US: 1962-1966       152              35   \n1963                             Live at the BBC       104               0   \n1963  UK: Please Please Me US: The Early Beatles       163              29   \n\n                                     Genre  \\\nYear                                         \n1965                                 Blues   \n1967  Psychedelic Rock, Art Rock, Pop/Rock   \n1964            Rock, Electronic, Pop/Rock   \n1963                         R&B, Pop/Rock   \n1963          Pop/Rock, Jazz, Stage&Screen   \n\n                                   Songwriter              Lead.vocal  \\\nYear                                                                    \n1965  Lennon, McCartney, Harrison and Starkey                     NaN   \n1967                     Lennon and McCartney    Lennon and McCartney   \n1964                                   Lennon  Lennon, with McCartney   \n1963                                 Thompson                  Lennon   \n1963                            Scott, Marlow               McCartney   \n\n      Top.50.Billboard  \nYear                    \n1965                -1  \n1967                -1  \n1964                 8  \n1963                -1  \n1963                -1  ",
      "text/html": "<div>\n<style scoped>\n    .dataframe tbody tr th:only-of-type {\n        vertical-align: middle;\n    }\n\n    .dataframe tbody tr th {\n        vertical-align: top;\n    }\n\n    .dataframe thead th {\n        text-align: right;\n    }\n</style>\n<table border=\"1\" class=\"dataframe\">\n  <thead>\n    <tr style=\"text-align: right;\">\n      <th></th>\n      <th>Title</th>\n      <th>Year</th>\n      <th>Album.debut</th>\n      <th>Duration</th>\n      <th>Other.releases</th>\n      <th>Genre</th>\n      <th>Songwriter</th>\n      <th>Lead.vocal</th>\n      <th>Top.50.Billboard</th>\n    </tr>\n    <tr>\n      <th>Year</th>\n      <th></th>\n      <th></th>\n      <th></th>\n      <th></th>\n      <th></th>\n      <th></th>\n      <th></th>\n      <th></th>\n      <th></th>\n    </tr>\n  </thead>\n  <tbody>\n    <tr>\n      <th>1965</th>\n      <td>12-Bar Original</td>\n      <td>1965</td>\n      <td>Anthology 2</td>\n      <td>174</td>\n      <td>0</td>\n      <td>Blues</td>\n      <td>Lennon, McCartney, Harrison and Starkey</td>\n      <td>NaN</td>\n      <td>-1</td>\n    </tr>\n    <tr>\n      <th>1967</th>\n      <td>A Day in the Life</td>\n      <td>1967</td>\n      <td>Sgt. Pepper's Lonely Hearts Club Band</td>\n      <td>335</td>\n      <td>12</td>\n      <td>Psychedelic Rock, Art Rock, Pop/Rock</td>\n      <td>Lennon and McCartney</td>\n      <td>Lennon and McCartney</td>\n      <td>-1</td>\n    </tr>\n    <tr>\n      <th>1964</th>\n      <td>A Hard Day's Night</td>\n      <td>1964</td>\n      <td>UK: A Hard Day's Night US: 1962-1966</td>\n      <td>152</td>\n      <td>35</td>\n      <td>Rock, Electronic, Pop/Rock</td>\n      <td>Lennon</td>\n      <td>Lennon, with McCartney</td>\n      <td>8</td>\n    </tr>\n    <tr>\n      <th>1963</th>\n      <td>A Shot of Rhythm and Blues</td>\n      <td>1963</td>\n      <td>Live at the BBC</td>\n      <td>104</td>\n      <td>0</td>\n      <td>R&amp;B, Pop/Rock</td>\n      <td>Thompson</td>\n      <td>Lennon</td>\n      <td>-1</td>\n    </tr>\n    <tr>\n      <th>1963</th>\n      <td>A Taste of Honey</td>\n      <td>1963</td>\n      <td>UK: Please Please Me US: The Early Beatles</td>\n      <td>163</td>\n      <td>29</td>\n      <td>Pop/Rock, Jazz, Stage&amp;Screen</td>\n      <td>Scott, Marlow</td>\n      <td>McCartney</td>\n      <td>-1</td>\n    </tr>\n  </tbody>\n</table>\n</div>"
     },
     "metadata": {},
     "output_type": "display_data"
    },
    {
     "data": {
      "text/plain": "               Title  Year  Album.debut  Duration  Other.releases  \\\nYear                                                                \n1977  Free as a Bird  1977  Anthology 1       266               0   \n1980       Real Love  1980  Anthology 2       236               2   \n\n               Genre                                    Songwriter  \\\nYear                                                                 \n1977  Rock, Pop/Rock  Lennon, with McCartney, Harrison and Starkey   \n1980  Rock, Pop/Rock     Lennon, with McCartney, Harrison, Starkey   \n\n                          Lead.vocal  Top.50.Billboard  \nYear                                                    \n1977  Lennon, McCartney and Harrison                39  \n1980                          Lennon                47  ",
      "text/html": "<div>\n<style scoped>\n    .dataframe tbody tr th:only-of-type {\n        vertical-align: middle;\n    }\n\n    .dataframe tbody tr th {\n        vertical-align: top;\n    }\n\n    .dataframe thead th {\n        text-align: right;\n    }\n</style>\n<table border=\"1\" class=\"dataframe\">\n  <thead>\n    <tr style=\"text-align: right;\">\n      <th></th>\n      <th>Title</th>\n      <th>Year</th>\n      <th>Album.debut</th>\n      <th>Duration</th>\n      <th>Other.releases</th>\n      <th>Genre</th>\n      <th>Songwriter</th>\n      <th>Lead.vocal</th>\n      <th>Top.50.Billboard</th>\n    </tr>\n    <tr>\n      <th>Year</th>\n      <th></th>\n      <th></th>\n      <th></th>\n      <th></th>\n      <th></th>\n      <th></th>\n      <th></th>\n      <th></th>\n      <th></th>\n    </tr>\n  </thead>\n  <tbody>\n    <tr>\n      <th>1977</th>\n      <td>Free as a Bird</td>\n      <td>1977</td>\n      <td>Anthology 1</td>\n      <td>266</td>\n      <td>0</td>\n      <td>Rock, Pop/Rock</td>\n      <td>Lennon, with McCartney, Harrison and Starkey</td>\n      <td>Lennon, McCartney and Harrison</td>\n      <td>39</td>\n    </tr>\n    <tr>\n      <th>1980</th>\n      <td>Real Love</td>\n      <td>1980</td>\n      <td>Anthology 2</td>\n      <td>236</td>\n      <td>2</td>\n      <td>Rock, Pop/Rock</td>\n      <td>Lennon, with McCartney, Harrison, Starkey</td>\n      <td>Lennon</td>\n      <td>47</td>\n    </tr>\n  </tbody>\n</table>\n</div>"
     },
     "metadata": {},
     "output_type": "display_data"
    }
   ],
   "source": [
    "def three_periods(x):\n",
    "    if x < 1962:\n",
    "        return 1\n",
    "    elif x < 1971:\n",
    "        return 2\n",
    "    return 3\n",
    "\n",
    "display(songs_by_year.groupby(three_periods).get_group(1).head())\n",
    "display(songs_by_year.groupby(three_periods).get_group(2).head())\n",
    "display(songs_by_year.groupby(three_periods).get_group(3).head())"
   ]
  },
  {
   "cell_type": "markdown",
   "metadata": {
    "pycharm": {
     "name": "#%% md\n"
    }
   },
   "source": [
    "##### Grouping on a multi-index\n",
    "Any of the preceding key choices can be combined to group on a multi-index:"
   ]
  },
  {
   "cell_type": "code",
   "execution_count": 50,
   "metadata": {
    "scrolled": true,
    "pycharm": {
     "name": "#%%\n"
    }
   },
   "outputs": [
    {
     "data": {
      "text/plain": "                            Title  Year  Album.debut  Duration  \\\nYear                                                             \n1969         All Things Must Pass  1969  Anthology 3       227   \n1968         Back in the U.S.S.R.  1968  The Beatles       163   \n1968                     Birthday  1968  The Beatles       162   \n1977               Free as a Bird  1977  Anthology 1       266   \n1966  Got to Get You into My Life  1966     Revolver       147   \n\n      Other.releases                               Genre  \\\nYear                                                       \n1969               0                 Folk Rock, Pop/Rock   \n1968              13  Rock and Roll, Hard Rock, Pop/Rock   \n1968              11  Hard Rock, Rock and Roll, Pop/Rock   \n1977               0                      Rock, Pop/Rock   \n1966               8    R&B, Rock, Jazz Fusion, Pop/Rock   \n\n                                        Songwriter  \\\nYear                                                 \n1969                                      Harrison   \n1968                                     McCartney   \n1968                        McCartney, with Lennon   \n1977  Lennon, with McCartney, Harrison and Starkey   \n1966                                     McCartney   \n\n                          Lead.vocal  Top.50.Billboard  \nYear                                                    \n1969                        Harrison                -1  \n1968                       McCartney                -1  \n1968          McCartney, with Lennon                -1  \n1977  Lennon, McCartney and Harrison                39  \n1966                       McCartney                23  ",
      "text/html": "<div>\n<style scoped>\n    .dataframe tbody tr th:only-of-type {\n        vertical-align: middle;\n    }\n\n    .dataframe tbody tr th {\n        vertical-align: top;\n    }\n\n    .dataframe thead th {\n        text-align: right;\n    }\n</style>\n<table border=\"1\" class=\"dataframe\">\n  <thead>\n    <tr style=\"text-align: right;\">\n      <th></th>\n      <th>Title</th>\n      <th>Year</th>\n      <th>Album.debut</th>\n      <th>Duration</th>\n      <th>Other.releases</th>\n      <th>Genre</th>\n      <th>Songwriter</th>\n      <th>Lead.vocal</th>\n      <th>Top.50.Billboard</th>\n    </tr>\n    <tr>\n      <th>Year</th>\n      <th></th>\n      <th></th>\n      <th></th>\n      <th></th>\n      <th></th>\n      <th></th>\n      <th></th>\n      <th></th>\n      <th></th>\n    </tr>\n  </thead>\n  <tbody>\n    <tr>\n      <th>1969</th>\n      <td>All Things Must Pass</td>\n      <td>1969</td>\n      <td>Anthology 3</td>\n      <td>227</td>\n      <td>0</td>\n      <td>Folk Rock, Pop/Rock</td>\n      <td>Harrison</td>\n      <td>Harrison</td>\n      <td>-1</td>\n    </tr>\n    <tr>\n      <th>1968</th>\n      <td>Back in the U.S.S.R.</td>\n      <td>1968</td>\n      <td>The Beatles</td>\n      <td>163</td>\n      <td>13</td>\n      <td>Rock and Roll, Hard Rock, Pop/Rock</td>\n      <td>McCartney</td>\n      <td>McCartney</td>\n      <td>-1</td>\n    </tr>\n    <tr>\n      <th>1968</th>\n      <td>Birthday</td>\n      <td>1968</td>\n      <td>The Beatles</td>\n      <td>162</td>\n      <td>11</td>\n      <td>Hard Rock, Rock and Roll, Pop/Rock</td>\n      <td>McCartney, with Lennon</td>\n      <td>McCartney, with Lennon</td>\n      <td>-1</td>\n    </tr>\n    <tr>\n      <th>1977</th>\n      <td>Free as a Bird</td>\n      <td>1977</td>\n      <td>Anthology 1</td>\n      <td>266</td>\n      <td>0</td>\n      <td>Rock, Pop/Rock</td>\n      <td>Lennon, with McCartney, Harrison and Starkey</td>\n      <td>Lennon, McCartney and Harrison</td>\n      <td>39</td>\n    </tr>\n    <tr>\n      <th>1966</th>\n      <td>Got to Get You into My Life</td>\n      <td>1966</td>\n      <td>Revolver</td>\n      <td>147</td>\n      <td>8</td>\n      <td>R&amp;B, Rock, Jazz Fusion, Pop/Rock</td>\n      <td>McCartney</td>\n      <td>McCartney</td>\n      <td>23</td>\n    </tr>\n  </tbody>\n</table>\n</div>"
     },
     "metadata": {},
     "output_type": "display_data"
    }
   ],
   "source": [
    "display(songs_by_year.groupby([random_index_list, mapping, ]).get_group((1, 'Second half')).head())"
   ]
  },
  {
   "cell_type": "markdown",
   "metadata": {
    "pycharm": {
     "name": "#%% md\n"
    }
   },
   "source": [
    "## Pivot tables\n",
    "A pivot table takes simple column-wise data as input, and groups the entries into a two-dimensional table that provides a multidimensional summarization of the data. Think of pivot tables as essentially a multidimensional version of `GroupBy` aggregation. That is, you split-apply-combine, but both the split and the combine happen across not a one-dimensional index, but across a two-dimensional grid."
   ]
  },
  {
   "cell_type": "markdown",
   "metadata": {
    "pycharm": {
     "name": "#%% md\n"
    }
   },
   "source": [
    "Read and extend the dataset:"
   ]
  },
  {
   "cell_type": "code",
   "execution_count": null,
   "metadata": {
    "pycharm": {
     "name": "#%%\n"
    }
   },
   "outputs": [],
   "source": [
    "songs = pd.read_csv('data/The Beatles songs dataset, v2, no NAs.csv')\n",
    "songs['Career period'] = 'First half'\n",
    "second_half = songs['Year'] > 1966\n",
    "songs.loc[second_half, 'Career period'] = 'Second half'\n",
    "display(songs.head())"
   ]
  },
  {
   "cell_type": "markdown",
   "metadata": {
    "pycharm": {
     "name": "#%% md\n"
    }
   },
   "source": [
    "Find the mean song duration by year, during the first and second halves of The Beatles career using `groupby()`:"
   ]
  },
  {
   "cell_type": "code",
   "execution_count": null,
   "metadata": {
    "scrolled": true,
    "pycharm": {
     "name": "#%%\n"
    }
   },
   "outputs": [],
   "source": [
    "songs.groupby(['Career period', 'Year', ])['Duration'].aggregate('mean').unstack()\n",
    "# songs.groupby(['Career period', 'Year', ])[['Duration', 'Other.releases']].aggregate('mean').unstack()"
   ]
  },
  {
   "cell_type": "markdown",
   "metadata": {
    "pycharm": {
     "name": "#%% md\n"
    }
   },
   "source": [
    "### `pivot_table()`"
   ]
  },
  {
   "cell_type": "markdown",
   "metadata": {
    "pycharm": {
     "name": "#%% md\n"
    }
   },
   "source": [
    "Do the same as above using `pivot_table()`:"
   ]
  },
  {
   "cell_type": "code",
   "execution_count": null,
   "metadata": {
    "scrolled": true,
    "pycharm": {
     "name": "#%%\n"
    }
   },
   "outputs": [],
   "source": [
    "songs.pivot_table('Duration', index='Career period', columns='Year')"
   ]
  },
  {
   "cell_type": "markdown",
   "metadata": {
    "pycharm": {
     "name": "#%% md\n"
    }
   },
   "source": [
    "### Multi-level pivot tables\n",
    "\n",
    "Just as in the ``GroupBy``, the grouping in pivot tables can be specified with multiple levels."
   ]
  },
  {
   "cell_type": "markdown",
   "metadata": {
    "pycharm": {
     "name": "#%% md\n"
    }
   },
   "source": [
    "#### `pd.cut()`\n",
    "Define bins for a range of values.<br>\n",
    "Note that the bins are defined in the `(m, n]` way, i.e. the left value is not included in the bin, but the right on is."
   ]
  },
  {
   "cell_type": "markdown",
   "metadata": {
    "pycharm": {
     "name": "#%% md\n"
    }
   },
   "source": [
    "Do the same as above, but introduce the third dimension: `Top.50.Billboard`. If `Top.50.Billboard` is -1, that's one bin (the song has not reached to Top 50); otherwise, it goes to the other bin."
   ]
  },
  {
   "cell_type": "code",
   "execution_count": null,
   "metadata": {
    "pycharm": {
     "name": "#%%\n"
    }
   },
   "outputs": [],
   "source": [
    "top_50 = pd.cut(songs['Top.50.Billboard'], [-2, 0, 50])                           # -2, not -1, because of the (m, n] bins)\n",
    "songs.pivot_table('Duration', index=['Career period', top_50], columns='Year')"
   ]
  },
  {
   "cell_type": "markdown",
   "metadata": {
    "pycharm": {
     "name": "#%% md\n"
    }
   },
   "source": [
    "#### `pd.qcut()`\n",
    "Define bins for a range of values and compute quantiles automatically."
   ]
  },
  {
   "cell_type": "markdown",
   "metadata": {
    "pycharm": {
     "name": "#%% md\n"
    }
   },
   "source": [
    "Add the fourth dimension to the above scenario - bins for `Other.releases` with automatically computed quantiles. Apply the same strategy as with `Top.50.Billboard`, this thme working with the columns:"
   ]
  },
  {
   "cell_type": "code",
   "execution_count": null,
   "metadata": {
    "scrolled": false,
    "pycharm": {
     "name": "#%%\n"
    }
   },
   "outputs": [],
   "source": [
    "other_releases = pd.qcut(songs['Other.releases'], 2)\n",
    "display(other_releases)\n",
    "songs.pivot_table('Duration', index=['Career period', top_50], columns=['Year', other_releases])\n",
    "# songs.pivot_table('Duration', index=['Career period', top_50], columns=['Year', other_releases]).unstack()"
   ]
  },
  {
   "cell_type": "markdown",
   "metadata": {
    "pycharm": {
     "name": "#%% md\n"
    }
   },
   "source": [
    "### Additional pivot table options\n",
    "The full call signature of the ``pivot_table`` method of ``DataFrame``s is as follows:\n",
    "\n",
    "```python\n",
    "# call signature as of Pandas 0.18\n",
    "DataFrame.pivot_table(data, values=None, index=None, columns=None,\n",
    "                      aggfunc='mean', fill_value=None, margins=False,\n",
    "                      dropna=True, margins_name='All')\n",
    "```"
   ]
  },
  {
   "cell_type": "markdown",
   "metadata": {
    "pycharm": {
     "name": "#%% md\n"
    }
   },
   "source": [
    "#### `aggfunc`\n",
    "Specify an aggregation function other than mean. If aggregations are computed for multiple columns, these other functions can be different for different columns. Use a dictionary to specify all that."
   ]
  },
  {
   "cell_type": "code",
   "execution_count": null,
   "metadata": {
    "scrolled": true,
    "pycharm": {
     "name": "#%%\n"
    }
   },
   "outputs": [],
   "source": [
    "# titanic.pivot_table(aggfunc={'survived': 'mean'}, index=['sex', age], columns=[fare, 'class'])\n",
    "songs.pivot_table(aggfunc={'Duration': 'mean', 'Other.releases': 'median'}, index=['Career period', top_50], columns='Year')"
   ]
  },
  {
   "cell_type": "markdown",
   "metadata": {
    "pycharm": {
     "name": "#%% md\n"
    }
   },
   "source": [
    "#### `margins`\n",
    "Compute totals along each grouping."
   ]
  },
  {
   "cell_type": "code",
   "execution_count": null,
   "metadata": {
    "scrolled": true,
    "pycharm": {
     "name": "#%%\n"
    }
   },
   "outputs": [],
   "source": [
    "display(songs.pivot_table('Duration', index='Career period', columns='Year', margins=True))\n",
    "display(songs.pivot_table('Duration', index='Career period', columns='Year', margins=True, aggfunc='max'))"
   ]
  },
  {
   "cell_type": "markdown",
   "metadata": {
    "pycharm": {
     "name": "#%% md\n"
    }
   },
   "source": [
    "## String operations in Pandas\n",
    "Pandas vectorized string operations."
   ]
  },
  {
   "cell_type": "markdown",
   "metadata": {
    "pycharm": {
     "name": "#%% md\n"
    }
   },
   "source": [
    "### Pandas vs. standard Python when working with strings"
   ]
  },
  {
   "cell_type": "markdown",
   "metadata": {
    "pycharm": {
     "name": "#%% md\n"
    }
   },
   "source": [
    "Looping through a list of strings with standard Python string operations breaks if there is a `None` (a missing value) in the list:"
   ]
  },
  {
   "cell_type": "code",
   "execution_count": null,
   "metadata": {
    "scrolled": true,
    "pycharm": {
     "name": "#%%\n"
    }
   },
   "outputs": [],
   "source": [
    "# This works well\n",
    "names = ['john', 'Paul', 'GEORGE', 'rINGO']\n",
    "[name.capitalize() for name in names]\n",
    "\n",
    "# But this does not:\n",
    "names = ['john', 'Paul', 'GEORGE', None, 'rINGO']\n",
    "[name.capitalize() for name in names]"
   ]
  },
  {
   "cell_type": "markdown",
   "metadata": {
    "pycharm": {
     "name": "#%% md\n"
    }
   },
   "source": [
    "### The *str* attribute of *pd.Series* and *pd.Index* objects containing strings"
   ]
  },
  {
   "cell_type": "markdown",
   "metadata": {
    "pycharm": {
     "name": "#%% md\n"
    }
   },
   "source": [
    "The above problem is easily eliminated with the `str` attribute of `pd.Series`:"
   ]
  },
  {
   "cell_type": "code",
   "execution_count": null,
   "metadata": {
    "scrolled": true,
    "pycharm": {
     "name": "#%%\n"
    }
   },
   "outputs": [],
   "source": [
    "names = ['john', 'Paul', 'GEORGE', None, 'rINGO']\n",
    "display(names)\n",
    "\n",
    "names = pd.Series(names)\n",
    "display(names.str.capitalize())"
   ]
  },
  {
   "cell_type": "markdown",
   "metadata": {
    "pycharm": {
     "name": "#%% md\n"
    }
   },
   "source": [
    "#### *str* methods similar to Python string methods"
   ]
  },
  {
   "cell_type": "markdown",
   "metadata": {
    "pycharm": {
     "name": "#%% md\n"
    }
   },
   "source": [
    "Nearly all Python's built-in string methods are mirrored by a Pandas vectorized string method. Here is a list of Pandas ``str`` methods that mirror Python string methods:\n",
    "\n",
    "|             |                  |                  |                  |\n",
    "|-------------|------------------|------------------|------------------|\n",
    "|``len()``    | ``lower()``      | ``translate()``  | ``islower()``    | \n",
    "|``ljust()``  | ``upper()``      | ``startswith()`` | ``isupper()``    | \n",
    "|``rjust()``  | ``find()``       | ``endswith()``   | ``isnumeric()``  | \n",
    "|``center()`` | ``rfind()``      | ``isalnum()``    | ``isdecimal()``  | \n",
    "|``zfill()``  | ``index()``      | ``isalpha()``    | ``split()``      | \n",
    "|``strip()``  | ``rindex()``     | ``isdigit()``    | ``rsplit()``     | \n",
    "|``rstrip()`` | ``capitalize()`` | ``isspace()``    | ``partition()``  | \n",
    "|``lstrip()`` |  ``swapcase()``  |  ``istitle()``   | ``rpartition()`` |"
   ]
  },
  {
   "cell_type": "markdown",
   "metadata": {
    "pycharm": {
     "name": "#%% md\n"
    }
   },
   "source": [
    "#### Miscelaneous *str* methods"
   ]
  },
  {
   "cell_type": "markdown",
   "metadata": {
    "pycharm": {
     "name": "#%% md\n"
    }
   },
   "source": [
    "There are other, miscellaneous methods that enable other convenient operations:\n",
    "\n",
    "| Method | Description |\n",
    "|--------|-------------|\n",
    "| ``get()`` | Index each element |\n",
    "| ``slice()`` | Slice each element|\n",
    "| ``slice_replace()`` | Replace slice in each element with passed value|\n",
    "| ``cat()``      | Concatenate strings|\n",
    "| ``repeat()`` | Repeat values |\n",
    "| ``normalize()`` | Return Unicode form of string |\n",
    "| ``pad()`` | Add whitespace to left, right, or both sides of strings|\n",
    "| ``wrap()`` | Split long strings into lines with length less than a given width|\n",
    "| ``join()`` | Join strings in each element of the Series with passed separator|\n",
    "| ``get_dummies()`` | extract dummy variables as a dataframe |"
   ]
  },
  {
   "cell_type": "code",
   "execution_count": null,
   "metadata": {
    "scrolled": false,
    "pycharm": {
     "name": "#%%\n"
    }
   },
   "outputs": [],
   "source": [
    "names = pd.Series(['John Lennon', 'Paul McCartney', 'George Harrison', 'Ringo Starr'])\n",
    "display(names.str.split())\n",
    "display(names.str.split().str.get(-1))\n",
    "\n",
    "display(names.str.slice(0, 4))\n",
    "display(names.str[0:4])\n",
    "\n",
    "display(names.str.len().describe())                 # statistics about the length of The Beatles members' names\n",
    "display(names[np.argmax(names.str.len())])          # Which member has the longest name?\n",
    "display(names[names.str.contains('[Hh]arrison')])   # Which element contains the word 'Harrison' or 'harrison'?"
   ]
  },
  {
   "cell_type": "markdown",
   "metadata": {
    "pycharm": {
     "name": "#%% md\n"
    }
   },
   "source": [
    "## *eval()* and *query()* - high-performance Pandas"
   ]
  },
  {
   "cell_type": "markdown",
   "metadata": {
    "pycharm": {
     "name": "#%% md\n"
    }
   },
   "source": [
    "Used for faster computation, especially with large arrays. (YAGNI, but anyway...)"
   ]
  },
  {
   "cell_type": "markdown",
   "metadata": {
    "pycharm": {
     "name": "#%% md\n"
    }
   },
   "source": [
    "### *pd.eval()*\n",
    "It's twice faster than ordinary array operations. The argument is supplied as a string."
   ]
  },
  {
   "cell_type": "code",
   "execution_count": null,
   "metadata": {
    "pycharm": {
     "name": "#%%\n"
    }
   },
   "outputs": [],
   "source": [
    "nrows, ncols = 100000, 100\n",
    "rng = np.random.RandomState(42)\n",
    "df1, df2, df3, df4 = (pd.DataFrame(rng.rand(nrows, ncols))\n",
    "                      for i in range(4))\n",
    "\n",
    "%timeit df1 + df2 + df3 + df4\n",
    "%timeit pd.eval('df1 + df2 + df3 + df4')                # the argument is supplied as a string\n",
    "\n",
    "np.allclose(df1 + df2 + df3 + df4,                      # returns True if two arrays are element-wise equal within a tolerance\n",
    "            pd.eval('df1 + df2 + df3 + df4'))"
   ]
  },
  {
   "cell_type": "markdown",
   "metadata": {
    "pycharm": {
     "name": "#%% md\n"
    }
   },
   "source": [
    "`pd.eval()` supports all arithmetic, relational and logical operators. In all cases, the argument must be supplied as a string (i.e., as an expression to evaluate)."
   ]
  },
  {
   "cell_type": "markdown",
   "metadata": {
    "pycharm": {
     "name": "#%% md\n"
    }
   },
   "source": [
    "### *pd.DataFrame.eval()*\n",
    "Allowes to access dataframe columns only by their names, instead of using the `df.<colname>` notation (required in case a dataframe column is accessed with `pd.eval()`). As with `pd.eval()`, the argument must be supplied as a string."
   ]
  },
  {
   "cell_type": "code",
   "execution_count": null,
   "metadata": {
    "pycharm": {
     "name": "#%%\n"
    }
   },
   "outputs": [],
   "source": [
    "df = pd.DataFrame(rng.rand(1000, 3), columns=['A', 'B', 'C'])\n",
    "display(df.head())\n",
    "\n",
    "# With pd.eval()\n",
    "result1 = (df['A'] + df['B']) / (df['C'] - 1)\n",
    "result2 = pd.eval('(df.A + df.B) / (df.C - 1)')\n",
    "display(np.allclose(result1, result2))\n",
    "\n",
    "# With pd.DataFrame.eval()\n",
    "result3 = df.eval('(A + B) / (C - 1)')\n",
    "display(np.allclose(result1, result3))\n",
    "\n",
    "df.eval('D = (A + B) / C', inplace=True)\n",
    "display(df.head())\n",
    "\n",
    "df.eval('D = (A - B) / C', inplace=True)\n",
    "display(df.head())\n",
    "\n",
    "# Combine column names with variable names\n",
    "column_mean = df.mean(1)                               # ordinary Python variable\n",
    "result1 = df['A'] + column_mean\n",
    "result2 = df.eval('A + @column_mean')                  # @ is used to differentiate variable names from dataframe column names\n",
    "np.allclose(result1, result2)                          # @ can be used only with pd.DataFrame.eval(), not with pd.eval()"
   ]
  },
  {
   "cell_type": "markdown",
   "metadata": {
    "pycharm": {
     "name": "#%% md\n"
    }
   },
   "source": [
    "### *pd.query()*\n",
    "Expressions like `pd.eval('df[(df.A < 0.5) & (df.B < 0.5)]')` cannot be used with `pd.DataFrame.eval()`, but `pd.query()` comes as a rescue:"
   ]
  },
  {
   "cell_type": "code",
   "execution_count": null,
   "metadata": {
    "pycharm": {
     "name": "#%%\n"
    }
   },
   "outputs": [],
   "source": [
    "result1 = df[(df.A < 0.5) & (df.B < 0.5)]\n",
    "result2 = df.query('A < 0.5 and B < 0.5')\n",
    "display(np.allclose(result1, result2))"
   ]
  },
  {
   "cell_type": "markdown",
   "metadata": {
    "pycharm": {
     "name": "#%% md\n"
    }
   },
   "source": [
    "Using variables in `pd.query()` is supported as well:"
   ]
  },
  {
   "cell_type": "code",
   "execution_count": null,
   "metadata": {
    "pycharm": {
     "name": "#%%\n"
    }
   },
   "outputs": [],
   "source": [
    "Cmean = df['C'].mean()\n",
    "result1 = df[(df.A < Cmean) & (df.B < Cmean)]\n",
    "result2 = df.query('A < @Cmean and B < @Cmean')\n",
    "np.allclose(result1, result2)"
   ]
  }
 ],
 "metadata": {
  "kernelspec": {
   "display_name": "Python 3",
   "language": "python",
   "name": "python3"
  },
  "language_info": {
   "codemirror_mode": {
    "name": "ipython",
    "version": 3
   },
   "file_extension": ".py",
   "mimetype": "text/x-python",
   "name": "python",
   "nbconvert_exporter": "python",
   "pygments_lexer": "ipython3",
   "version": "3.7.6"
  }
 },
 "nbformat": 4,
 "nbformat_minor": 4
}