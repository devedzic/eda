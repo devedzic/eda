{
 "cells": [
  {
   "cell_type": "markdown",
   "metadata": {
    "pycharm": {
     "name": "#%% md\n"
    }
   },
   "source": [
    "# Getting started with Pandas\n",
    "Introduction to Pandas' most useful and most frequently used classes and functions. Based on [Python Data Science Handbook](https://jakevdp.github.io/PythonDataScienceHandbook/) by Jake VanderPlas.<br>\n",
    "Another recommended set of good learning resources is [this one](https://qr.ae/pNsm5Y)."
   ]
  },
  {
   "cell_type": "markdown",
   "metadata": {
    "pycharm": {
     "name": "#%% md\n"
    }
   },
   "source": [
    "## Import packages"
   ]
  },
  {
   "cell_type": "code",
   "execution_count": 4,
   "metadata": {
    "pycharm": {
     "name": "#%%\n"
    }
   },
   "outputs": [
    {
     "name": "stdout",
     "output_type": "stream",
     "text": [
      "The autoreload extension is already loaded. To reload it, use:\n",
      "  %reload_ext autoreload\n"
     ]
    }
   ],
   "source": [
    "import numpy as np\n",
    "import pandas as pd\n",
    "%run \"import_packages.ipynb\""
   ]
  },
  {
   "cell_type": "markdown",
   "metadata": {
    "pycharm": {
     "name": "#%% md\n"
    }
   },
   "source": [
    "### Package versions"
   ]
  },
  {
   "cell_type": "code",
   "execution_count": 5,
   "metadata": {
    "scrolled": true,
    "pycharm": {
     "name": "#%%\n"
    }
   },
   "outputs": [
    {
     "data": {
      "text/plain": "'1.4.4'"
     },
     "execution_count": 5,
     "metadata": {},
     "output_type": "execute_result"
    }
   ],
   "source": [
    "np.__version__\n",
    "pd.__version__"
   ]
  },
  {
   "cell_type": "code",
   "execution_count": 6,
   "metadata": {
    "pycharm": {
     "name": "#%%\n"
    }
   },
   "outputs": [
    {
     "name": "stdout",
     "output_type": "stream",
     "text": [
      "1.23.2\n",
      "1.4.4\n"
     ]
    },
    {
     "data": {
      "text/plain": "'1.23.2'"
     },
     "metadata": {},
     "output_type": "display_data"
    },
    {
     "data": {
      "text/plain": "'1.4.4'"
     },
     "metadata": {},
     "output_type": "display_data"
    }
   ],
   "source": [
    "print(np.__version__)\n",
    "print(pd.__version__)\n",
    "display(np.__version__)\n",
    "display(pd.__version__)"
   ]
  },
  {
   "cell_type": "markdown",
   "metadata": {
    "pycharm": {
     "name": "#%% md\n"
    }
   },
   "source": [
    "## *pd.Series* objects"
   ]
  },
  {
   "cell_type": "code",
   "execution_count": 7,
   "metadata": {
    "pycharm": {
     "name": "#%%\n"
    }
   },
   "outputs": [
    {
     "data": {
      "text/plain": "0    1.200\n1   -0.450\n2    2.345\n3    0.000\ndtype: float64"
     },
     "execution_count": 7,
     "metadata": {},
     "output_type": "execute_result"
    }
   ],
   "source": [
    "s = pd.Series([1.2, -0.45, 2.345, 0])\n",
    "s"
   ]
  },
  {
   "cell_type": "markdown",
   "metadata": {
    "pycharm": {
     "name": "#%% md\n"
    }
   },
   "source": [
    "### Accessing elements of *pd.Series* objects"
   ]
  },
  {
   "cell_type": "code",
   "execution_count": 8,
   "metadata": {
    "pycharm": {
     "name": "#%%\n"
    }
   },
   "outputs": [
    {
     "data": {
      "text/plain": "-0.45"
     },
     "execution_count": 8,
     "metadata": {},
     "output_type": "execute_result"
    }
   ],
   "source": [
    "s[1]"
   ]
  },
  {
   "cell_type": "code",
   "execution_count": 9,
   "metadata": {
    "pycharm": {
     "name": "#%%\n"
    }
   },
   "outputs": [
    {
     "data": {
      "text/plain": "0     1.20\n1    -0.45\n2    24.00\n3     0.00\ndtype: float64"
     },
     "metadata": {},
     "output_type": "display_data"
    },
    {
     "data": {
      "text/plain": "0     1.20\n1    -0.45\n2    24.00\ndtype: float64"
     },
     "metadata": {},
     "output_type": "display_data"
    }
   ],
   "source": [
    "s[2] = 24\n",
    "# print(s)\n",
    "# print(s[:3])\n",
    "display(s)\n",
    "display(s[:3])"
   ]
  },
  {
   "cell_type": "markdown",
   "metadata": {
    "pycharm": {
     "name": "#%% md\n"
    }
   },
   "source": [
    "### *values* and *index* attributes"
   ]
  },
  {
   "cell_type": "code",
   "execution_count": 10,
   "metadata": {
    "pycharm": {
     "name": "#%%\n"
    }
   },
   "outputs": [
    {
     "data": {
      "text/plain": "array([ 1.2 , -0.45, 24.  ,  0.  ])"
     },
     "metadata": {},
     "output_type": "display_data"
    },
    {
     "data": {
      "text/plain": "RangeIndex(start=0, stop=4, step=1)"
     },
     "metadata": {},
     "output_type": "display_data"
    },
    {
     "data": {
      "text/plain": "numpy.ndarray"
     },
     "metadata": {},
     "output_type": "display_data"
    },
    {
     "data": {
      "text/plain": "pandas.core.indexes.range.RangeIndex"
     },
     "metadata": {},
     "output_type": "display_data"
    }
   ],
   "source": [
    "# print(s.values)\n",
    "# print(s.index)\n",
    "# print(type(s.values))\n",
    "# print(type(s.index))\n",
    "display(s.values)\n",
    "display(s.index)\n",
    "display(type(s.values))\n",
    "display(type(s.index))"
   ]
  },
  {
   "cell_type": "markdown",
   "metadata": {
    "pycharm": {
     "name": "#%% md\n"
    }
   },
   "source": [
    "### *pd.Series* objects as generalized NumPy arrays\n",
    "The essential difference is the presence of the index: while each NumPy array has an *implicitly* defined *integer* index used to access the values, each `pd.Series` object has an *explicitly* defined index associated with the values."
   ]
  },
  {
   "cell_type": "code",
   "execution_count": 11,
   "metadata": {
    "pycharm": {
     "name": "#%%\n"
    }
   },
   "outputs": [
    {
     "data": {
      "text/plain": "array([ 1.2  , -0.45 ,  2.345,  0.   ])"
     },
     "metadata": {},
     "output_type": "display_data"
    },
    {
     "data": {
      "text/plain": "0    1.200\n1   -0.450\n2    2.345\n3    0.000\ndtype: float64"
     },
     "metadata": {},
     "output_type": "display_data"
    },
    {
     "data": {
      "text/plain": "0    1.200\n1   -0.450\n2    2.345\n3    0.000\ndtype: float64"
     },
     "execution_count": 11,
     "metadata": {},
     "output_type": "execute_result"
    }
   ],
   "source": [
    "a = np.array([1.2, -0.45, 2.345, 0])\n",
    "s = pd.Series([1.2, -0.45, 2.345, 0])\n",
    "# print(a)\n",
    "# print(s)\n",
    "display(a)\n",
    "display(s)\n",
    "s"
   ]
  },
  {
   "cell_type": "code",
   "execution_count": 14,
   "metadata": {
    "pycharm": {
     "name": "#%%\n"
    }
   },
   "outputs": [
    {
     "data": {
      "text/plain": "1     1.200\n13   -0.450\n2     2.345\n4     0.000\ndtype: float64"
     },
     "metadata": {},
     "output_type": "display_data"
    },
    {
     "data": {
      "text/plain": "-0.45"
     },
     "execution_count": 14,
     "metadata": {},
     "output_type": "execute_result"
    }
   ],
   "source": [
    "s = pd.Series([1.2, -0.45, 2.345, 0], index = [1, 13, 2, 4])\n",
    "display(s)\n",
    "s[13]"
   ]
  },
  {
   "cell_type": "code",
   "execution_count": 15,
   "metadata": {
    "pycharm": {
     "name": "#%%\n"
    }
   },
   "outputs": [
    {
     "data": {
      "text/plain": "a    1.200\nb   -0.450\nc    2.345\nd    0.000\ndtype: float64"
     },
     "metadata": {},
     "output_type": "display_data"
    },
    {
     "data": {
      "text/plain": "23.0"
     },
     "metadata": {},
     "output_type": "display_data"
    },
    {
     "data": {
      "text/plain": "2.345"
     },
     "metadata": {},
     "output_type": "display_data"
    }
   ],
   "source": [
    "s = pd.Series([1.2, -0.45, 2.345, 0], index = ['a', 'b', 'c', 'd'])\n",
    "display(s)\n",
    "s['d'] = 23\n",
    "display(s['d'])\n",
    "display(s[2])"
   ]
  },
  {
   "cell_type": "markdown",
   "metadata": {
    "pycharm": {
     "name": "#%% md\n"
    }
   },
   "source": [
    "### *pd.Series* objects as specialized dictionaries"
   ]
  },
  {
   "cell_type": "code",
   "execution_count": 16,
   "metadata": {
    "pycharm": {
     "name": "#%%\n"
    }
   },
   "outputs": [
    {
     "data": {
      "text/plain": "The Beatles           1962\nThe Rolling Stones    1963\nJefferson Airplane    1965\ndtype: int64"
     },
     "metadata": {},
     "output_type": "display_data"
    },
    {
     "data": {
      "text/plain": "1962"
     },
     "metadata": {},
     "output_type": "display_data"
    },
    {
     "data": {
      "text/plain": "1962"
     },
     "metadata": {},
     "output_type": "display_data"
    },
    {
     "data": {
      "text/plain": "The Beatles           1962\nThe Rolling Stones    1963\ndtype: int64"
     },
     "metadata": {},
     "output_type": "display_data"
    },
    {
     "data": {
      "text/plain": "The Beatles    1962\ndtype: int64"
     },
     "metadata": {},
     "output_type": "display_data"
    }
   ],
   "source": [
    "bands = {'The Beatles': 1962,\n",
    "         'The Rolling Stones': 1963,\n",
    "         'Jefferson Airplane': 1965}\n",
    "bands_s = pd.Series(bands)\n",
    "display(bands_s)\n",
    "display(bands_s['The Beatles'])\n",
    "display(bands_s[0])\n",
    "display(bands_s['The Beatles':'The Rolling Stones'])      # includes the last index\n",
    "display(bands_s[0:1])                                     # does not include the last index"
   ]
  },
  {
   "cell_type": "code",
   "execution_count": 20,
   "metadata": {
    "pycharm": {
     "name": "#%%\n"
    }
   },
   "outputs": [
    {
     "data": {
      "text/plain": "The Beatles           1962\nThe Rolling Stones    1963\ndtype: int64"
     },
     "metadata": {},
     "output_type": "display_data"
    }
   ],
   "source": [
    "bands = ['The Beatles', \n",
    "         'The Rolling Stones']\n",
    "years = [1962, 1963]\n",
    "# bands_s = pd.Series(years, index=bands)\n",
    "# display(bands_s)\n",
    "\n",
    "# years = [1962, 1963, 1964, 1965]                      # error: there must be as many values as the index implies\n",
    "# bands_s = pd.Series(years, index=bands)\n",
    "\n",
    "bands_s = pd.Series({'The Beatles': 1962,\n",
    "                     'The Rolling Stones': 1963,\n",
    "                     'Jefferson Airplane': 1965}, \n",
    "                    index=bands)                        # the index can be explicitly set if a different result is preferred\n",
    "display(bands_s)"
   ]
  },
  {
   "cell_type": "markdown",
   "metadata": {
    "pycharm": {
     "name": "#%% md\n"
    }
   },
   "source": [
    "##  *pd.DataFrame* objects"
   ]
  },
  {
   "cell_type": "code",
   "execution_count": 21,
   "metadata": {
    "pycharm": {
     "name": "#%%\n"
    }
   },
   "outputs": [
    {
     "data": {
      "text/plain": "                Title                            Album debut\ns1  A Day in the Life  Sgt. Pepper's Lonely Hearts Club Band\ns2            Because                             Abbey Road\ns3          Blackbird                            The Beatles",
      "text/html": "<div>\n<style scoped>\n    .dataframe tbody tr th:only-of-type {\n        vertical-align: middle;\n    }\n\n    .dataframe tbody tr th {\n        vertical-align: top;\n    }\n\n    .dataframe thead th {\n        text-align: right;\n    }\n</style>\n<table border=\"1\" class=\"dataframe\">\n  <thead>\n    <tr style=\"text-align: right;\">\n      <th></th>\n      <th>Title</th>\n      <th>Album debut</th>\n    </tr>\n  </thead>\n  <tbody>\n    <tr>\n      <th>s1</th>\n      <td>A Day in the Life</td>\n      <td>Sgt. Pepper's Lonely Hearts Club Band</td>\n    </tr>\n    <tr>\n      <th>s2</th>\n      <td>Because</td>\n      <td>Abbey Road</td>\n    </tr>\n    <tr>\n      <th>s3</th>\n      <td>Blackbird</td>\n      <td>The Beatles</td>\n    </tr>\n  </tbody>\n</table>\n</div>"
     },
     "metadata": {},
     "output_type": "display_data"
    },
    {
     "data": {
      "text/plain": "                Title                            Album debut\ns1  A Day in the Life  Sgt. Pepper's Lonely Hearts Club Band\ns2            Because                             Abbey Road\ns3          Blackbird                            The Beatles",
      "text/html": "<div>\n<style scoped>\n    .dataframe tbody tr th:only-of-type {\n        vertical-align: middle;\n    }\n\n    .dataframe tbody tr th {\n        vertical-align: top;\n    }\n\n    .dataframe thead th {\n        text-align: right;\n    }\n</style>\n<table border=\"1\" class=\"dataframe\">\n  <thead>\n    <tr style=\"text-align: right;\">\n      <th></th>\n      <th>Title</th>\n      <th>Album debut</th>\n    </tr>\n  </thead>\n  <tbody>\n    <tr>\n      <th>s1</th>\n      <td>A Day in the Life</td>\n      <td>Sgt. Pepper's Lonely Hearts Club Band</td>\n    </tr>\n    <tr>\n      <th>s2</th>\n      <td>Because</td>\n      <td>Abbey Road</td>\n    </tr>\n    <tr>\n      <th>s3</th>\n      <td>Blackbird</td>\n      <td>The Beatles</td>\n    </tr>\n  </tbody>\n</table>\n</div>"
     },
     "execution_count": 21,
     "metadata": {},
     "output_type": "execute_result"
    }
   ],
   "source": [
    "indices = ['s1', 's2', 's3']\n",
    "titles = ['A Day in the Life', 'Because', 'Blackbird']\n",
    "album_debuts = ['Sgt. Pepper\\'s Lonely Hearts Club Band', 'Abbey Road', 'The Beatles']\n",
    "\n",
    "s_titles = pd.Series(titles, index=indices)\n",
    "s_album_debuts = pd.Series(album_debuts, index=indices)\n",
    "\n",
    "songs = pd.DataFrame({'Title':s_titles, 'Album debut':s_album_debuts})\n",
    "display(songs)\n",
    "songs\n",
    "\n",
    "# songs = pd.DataFrame(s_titles, columns=['Title'])     # create a single-column pd.DataFrame object from a pd.Series object\n",
    "# display(songs)\n",
    "\n",
    "# pd.DataFrame(np.random.rand(3, 2),                    # create a pd.DataFrame object from a 2-dimensional NumPy array\n",
    "#              columns=['foo', 'bar'],\n",
    "#              index=['a', 'b', 'c'])"
   ]
  },
  {
   "cell_type": "markdown",
   "metadata": {
    "pycharm": {
     "name": "#%% md\n"
    }
   },
   "source": [
    "### *index* and *columns* attributes"
   ]
  },
  {
   "cell_type": "code",
   "execution_count": 22,
   "metadata": {
    "scrolled": true,
    "pycharm": {
     "name": "#%%\n"
    }
   },
   "outputs": [
    {
     "data": {
      "text/plain": "Index(['s1', 's2', 's3'], dtype='object')"
     },
     "metadata": {},
     "output_type": "display_data"
    },
    {
     "data": {
      "text/plain": "pandas.core.indexes.base.Index"
     },
     "metadata": {},
     "output_type": "display_data"
    },
    {
     "data": {
      "text/plain": "Index(['Title', 'Album debut'], dtype='object')"
     },
     "metadata": {},
     "output_type": "display_data"
    },
    {
     "data": {
      "text/plain": "pandas.core.indexes.base.Index"
     },
     "metadata": {},
     "output_type": "display_data"
    }
   ],
   "source": [
    "display(songs.index)\n",
    "display(type(songs.index))\n",
    "\n",
    "display(songs.columns)\n",
    "display(type(songs.columns))"
   ]
  },
  {
   "cell_type": "markdown",
   "metadata": {
    "pycharm": {
     "name": "#%% md\n"
    }
   },
   "source": [
    "### *dtype* and *dtypes* attributes"
   ]
  },
  {
   "cell_type": "code",
   "execution_count": 23,
   "metadata": {
    "pycharm": {
     "name": "#%%\n"
    }
   },
   "outputs": [
    {
     "data": {
      "text/plain": "dtype('O')"
     },
     "metadata": {},
     "output_type": "display_data"
    },
    {
     "data": {
      "text/plain": "dtype('O')"
     },
     "metadata": {},
     "output_type": "display_data"
    },
    {
     "data": {
      "text/plain": "Title          object\nAlbum debut    object\ndtype: object"
     },
     "metadata": {},
     "output_type": "display_data"
    }
   ],
   "source": [
    "display(songs.Title.dtype)                    # 'O' (object)\n",
    "display(songs['Album debut'].dtype)           # 'O' (object)\n",
    "display(songs.dtypes)"
   ]
  },
  {
   "cell_type": "markdown",
   "metadata": {
    "pycharm": {
     "name": "#%% md\n"
    }
   },
   "source": [
    "### *pd.DataFrame* objects as specialized dictionaries (or as \"arrays of arrays (columns)\")"
   ]
  },
  {
   "cell_type": "code",
   "execution_count": 24,
   "metadata": {
    "pycharm": {
     "name": "#%%\n"
    }
   },
   "outputs": [
    {
     "data": {
      "text/plain": "s1    A Day in the Life\ns2              Because\ns3            Blackbird\nName: Title, dtype: object"
     },
     "metadata": {},
     "output_type": "display_data"
    },
    {
     "data": {
      "text/plain": "pandas.core.series.Series"
     },
     "metadata": {},
     "output_type": "display_data"
    }
   ],
   "source": [
    "display(songs['Title'])                       # a pd.DataFrame is a generalized dictionary (or \"an array of arrays (columns)\"); \n",
    "display(type(songs['Title']))                 # each value-element of that dictionary (array) is a pd.Series object (a column)"
   ]
  },
  {
   "cell_type": "code",
   "execution_count": 26,
   "metadata": {
    "scrolled": true,
    "pycharm": {
     "name": "#%%\n"
    }
   },
   "outputs": [
    {
     "data": {
      "text/plain": "Empty DataFrame\nColumns: []\nIndex: []",
      "text/html": "<div>\n<style scoped>\n    .dataframe tbody tr th:only-of-type {\n        vertical-align: middle;\n    }\n\n    .dataframe tbody tr th {\n        vertical-align: top;\n    }\n\n    .dataframe thead th {\n        text-align: right;\n    }\n</style>\n<table border=\"1\" class=\"dataframe\">\n  <thead>\n    <tr style=\"text-align: right;\">\n      <th></th>\n    </tr>\n  </thead>\n  <tbody>\n  </tbody>\n</table>\n</div>"
     },
     "metadata": {},
     "output_type": "display_data"
    },
    {
     "data": {
      "text/plain": "Index([], dtype='object')"
     },
     "metadata": {},
     "output_type": "display_data"
    },
    {
     "data": {
      "text/plain": "Index([], dtype='object')"
     },
     "metadata": {},
     "output_type": "display_data"
    },
    {
     "data": {
      "text/plain": "                Title\ns1  A Day in the Life\ns2            Because\ns3          Blackbird",
      "text/html": "<div>\n<style scoped>\n    .dataframe tbody tr th:only-of-type {\n        vertical-align: middle;\n    }\n\n    .dataframe tbody tr th {\n        vertical-align: top;\n    }\n\n    .dataframe thead th {\n        text-align: right;\n    }\n</style>\n<table border=\"1\" class=\"dataframe\">\n  <thead>\n    <tr style=\"text-align: right;\">\n      <th></th>\n      <th>Title</th>\n    </tr>\n  </thead>\n  <tbody>\n    <tr>\n      <th>s1</th>\n      <td>A Day in the Life</td>\n    </tr>\n    <tr>\n      <th>s2</th>\n      <td>Because</td>\n    </tr>\n    <tr>\n      <th>s3</th>\n      <td>Blackbird</td>\n    </tr>\n  </tbody>\n</table>\n</div>"
     },
     "metadata": {},
     "output_type": "display_data"
    }
   ],
   "source": [
    "e = pd.DataFrame()                          # create an empty df\n",
    "display(e)\n",
    "display(e.columns)\n",
    "display(e.index)\n",
    "\n",
    "e['Title'] = s_titles                       # add new column (new element to the corresponding dictionary)\n",
    "display(e)"
   ]
  },
  {
   "cell_type": "markdown",
   "metadata": {
    "pycharm": {
     "name": "#%% md\n"
    }
   },
   "source": [
    "## *pd.Index* objects"
   ]
  },
  {
   "cell_type": "code",
   "execution_count": 27,
   "metadata": {
    "pycharm": {
     "name": "#%%\n"
    }
   },
   "outputs": [
    {
     "data": {
      "text/plain": "Int64Index([5, 3, 7, 9, 1], dtype='int64')"
     },
     "execution_count": 27,
     "metadata": {},
     "output_type": "execute_result"
    }
   ],
   "source": [
    "i = pd.Index([5, 3, 7, 9, 1])\n",
    "i"
   ]
  },
  {
   "cell_type": "code",
   "execution_count": 28,
   "metadata": {
    "pycharm": {
     "name": "#%%\n"
    }
   },
   "outputs": [
    {
     "data": {
      "text/plain": "3"
     },
     "metadata": {},
     "output_type": "display_data"
    }
   ],
   "source": [
    "display(i[1])\n",
    "\n",
    "# i[1] = 4                                  # no! pd.Index objects are immutable"
   ]
  },
  {
   "cell_type": "code",
   "execution_count": 31,
   "metadata": {
    "pycharm": {
     "name": "#%%\n"
    }
   },
   "outputs": [
    {
     "name": "stdout",
     "output_type": "stream",
     "text": [
      "songs_index: Index(['s1', 's2', 's3'], dtype='object')\n",
      "songs_index attributes: (3,) 3 1 object\n"
     ]
    }
   ],
   "source": [
    "songs_index = songs.index\n",
    "# display('songs_index:', songs_index)      # in this case, the output looks better with print()\n",
    "# display('songs_index attributes:', songs_index.shape, songs_index.size, songs_index.ndim, songs_index.dtype)\n",
    "print('songs_index:', songs_index)\n",
    "print('songs_index attributes:', songs_index.shape, songs_index.size, songs_index.ndim, songs_index.dtype)"
   ]
  },
  {
   "cell_type": "markdown",
   "metadata": {
    "pycharm": {
     "name": "#%% md\n"
    }
   },
   "source": [
    "## Data selection in *pd.Series* objects"
   ]
  },
  {
   "cell_type": "markdown",
   "metadata": {
    "pycharm": {
     "name": "#%% md\n"
    }
   },
   "source": [
    "The patterns of data indexing and selection in `pd.Series` objects rely on the fact that, in many ways, `pd.Serias` objects act like standard Python dictionaries, and in many ways like a one-dimensional NumPy arrays."
   ]
  },
  {
   "cell_type": "markdown",
   "metadata": {
    "pycharm": {
     "name": "#%% md\n"
    }
   },
   "source": [
    "### *pd.Series* object as Python dictionary"
   ]
  },
  {
   "cell_type": "code",
   "execution_count": 34,
   "metadata": {
    "pycharm": {
     "name": "#%%\n"
    }
   },
   "outputs": [
    {
     "data": {
      "text/plain": "s1    A Day in the Life\ns2          I Feel Fine\ns3            Let It Be\ns4       One After 9:09\ndtype: object"
     },
     "metadata": {},
     "output_type": "display_data"
    }
   ],
   "source": [
    "# titles = pd.Series(data=['A Day in the Life', 'I Feel Fine', 'Let It Be', 'One After 9:09'],\n",
    "#                    index=['s1', 's2', 's3', 's4'])\n",
    "titles = pd.Series(['A Day in the Life', 'I Feel Fine', 'Let It Be', 'One After 9:09'],\n",
    "                   index=['s1', 's2', 's3', 's4'])\n",
    "display(titles)"
   ]
  },
  {
   "cell_type": "code",
   "execution_count": 37,
   "metadata": {
    "pycharm": {
     "name": "#%%\n"
    }
   },
   "outputs": [
    {
     "data": {
      "text/plain": "'I Feel Fine'"
     },
     "metadata": {},
     "output_type": "display_data"
    },
    {
     "data": {
      "text/plain": "s1    A Day in the Life\ns2          I Feel Fine\ns3            Let It Be\ns4       One After 9:09\ns5          Oh, Darling\ndtype: object"
     },
     "metadata": {},
     "output_type": "display_data"
    },
    {
     "data": {
      "text/plain": "Index(['s1', 's2', 's3', 's4', 's5'], dtype='object')"
     },
     "metadata": {},
     "output_type": "display_data"
    },
    {
     "data": {
      "text/plain": "<bound method Series.keys of s1    A Day in the Life\ns2          I Feel Fine\ns3            Let It Be\ns4       One After 9:09\ns5          Oh, Darling\ndtype: object>"
     },
     "metadata": {},
     "output_type": "display_data"
    },
    {
     "data": {
      "text/plain": "array(['A Day in the Life', 'I Feel Fine', 'Let It Be', 'One After 9:09',\n       'Oh, Darling'], dtype=object)"
     },
     "metadata": {},
     "output_type": "display_data"
    },
    {
     "data": {
      "text/plain": "<zip at 0x2a929897c00>"
     },
     "metadata": {},
     "output_type": "display_data"
    },
    {
     "data": {
      "text/plain": "<bound method Series.items of s1    A Day in the Life\ns2          I Feel Fine\ns3            Let It Be\ns4       One After 9:09\ns5          Oh, Darling\ndtype: object>"
     },
     "metadata": {},
     "output_type": "display_data"
    }
   ],
   "source": [
    "display(titles['s2'])\n",
    "titles['s5'] = 'Oh, Darling'\n",
    "display(titles)\n",
    "\n",
    "display(titles.keys())\n",
    "display(titles.keys)\n",
    "# display(titles.values())                   # error! 'numpy.ndarray' object is not callable\n",
    "display(titles.values)\n",
    "display(titles.items())\n",
    "display(titles.items)"
   ]
  },
  {
   "cell_type": "markdown",
   "metadata": {
    "pycharm": {
     "name": "#%% md\n"
    }
   },
   "source": [
    "### *pd.Series* object as one-dimensional array"
   ]
  },
  {
   "cell_type": "code",
   "execution_count": 38,
   "metadata": {
    "pycharm": {
     "name": "#%%\n"
    }
   },
   "outputs": [
    {
     "data": {
      "text/plain": "s2       I Feel Fine\ns3         Let It Be\ns4    One After 9:09\ndtype: object"
     },
     "metadata": {},
     "output_type": "display_data"
    },
    {
     "data": {
      "text/plain": "s1    A Day in the Life\ns2          I Feel Fine\ndtype: object"
     },
     "metadata": {},
     "output_type": "display_data"
    },
    {
     "data": {
      "text/plain": "s5          Oh, Darling\ns1    A Day in the Life\ndtype: object"
     },
     "metadata": {},
     "output_type": "display_data"
    },
    {
     "data": {
      "text/plain": "s1    A Day in the Life\ns3            Let It Be\ndtype: object"
     },
     "metadata": {},
     "output_type": "display_data"
    },
    {
     "data": {
      "text/plain": "a    300\nb    160\nc    210\ndtype: int64"
     },
     "metadata": {},
     "output_type": "display_data"
    },
    {
     "data": {
      "text/plain": "<generator object <genexpr> at 0x000002A929690820>"
     },
     "metadata": {},
     "output_type": "display_data"
    },
    {
     "data": {
      "text/plain": "['One After 9:09', 'Oh, Darling']"
     },
     "metadata": {},
     "output_type": "display_data"
    }
   ],
   "source": [
    "# slicing\n",
    "display(titles['s2':'s4'])\n",
    "display(titles[0:2])\n",
    "\n",
    "# fancy indexing\n",
    "display(titles[['s5', 's1']])\n",
    "display(titles[[0, 2]])\n",
    "\n",
    "# masking\n",
    "times = pd.Series([300, 160, 210, 123, 150],\n",
    "                  index=['a', 'b', 'c', 'd', 'e'])\n",
    "display(times[times > 150])\n",
    "\n",
    "# print the titles that start with 'O'\n",
    "display(titles.values[i] for i in range(titles.size))\n",
    "display(list(titles.values[i] for i in range(titles.size) if titles.values[i].startswith('O')))"
   ]
  },
  {
   "cell_type": "markdown",
   "metadata": {
    "pycharm": {
     "name": "#%% md\n"
    }
   },
   "source": [
    "### *loc* and *iloc* indexers\n",
    "`loc` refers to explicit `pd.Series` object indices. `iloc` refers to implicit Python-style indices."
   ]
  },
  {
   "cell_type": "code",
   "execution_count": 39,
   "metadata": {
    "scrolled": true,
    "pycharm": {
     "name": "#%%\n"
    }
   },
   "outputs": [
    {
     "data": {
      "text/plain": "3    A Day in the Life\n8          I Feel Fine\n2            Let It Be\n4       One After 9:09\ndtype: object"
     },
     "metadata": {},
     "output_type": "display_data"
    },
    {
     "data": {
      "text/plain": "8    I Feel Fine\n2      Let It Be\ndtype: object"
     },
     "metadata": {},
     "output_type": "display_data"
    },
    {
     "data": {
      "text/plain": "8       I Feel Fine\n2         Let It Be\n4    One After 9:09\ndtype: object"
     },
     "metadata": {},
     "output_type": "display_data"
    },
    {
     "data": {
      "text/plain": "4    One After 9:09\n2         Let It Be\ndtype: object"
     },
     "metadata": {},
     "output_type": "display_data"
    },
    {
     "data": {
      "text/plain": "8       I Feel Fine\n2         Let It Be\n4    One After 9:09\ndtype: object"
     },
     "metadata": {},
     "output_type": "display_data"
    }
   ],
   "source": [
    "titles = pd.Series(['A Day in the Life', 'I Feel Fine', 'Let It Be', 'One After 9:09'], \n",
    "                   index=[3, 8, 2, 4])\n",
    "display(titles)\n",
    "\n",
    "# explicit indexing\n",
    "display(titles.loc[[8, 2]])\n",
    "display(titles.loc[8:4])\n",
    "\n",
    "# implicit indexing\n",
    "display(titles.iloc[[3, 2]])\n",
    "display(titles.iloc[1:4])"
   ]
  },
  {
   "cell_type": "markdown",
   "metadata": {
    "pycharm": {
     "name": "#%% md\n"
    }
   },
   "source": [
    "## Data selection in *pd.DataFrame* objects"
   ]
  },
  {
   "cell_type": "markdown",
   "metadata": {
    "pycharm": {
     "name": "#%% md\n"
    }
   },
   "source": [
    "Create a simple `pd.DataFrame` objects with a couple of The Beatles songs:"
   ]
  },
  {
   "cell_type": "code",
   "execution_count": 40,
   "metadata": {
    "pycharm": {
     "name": "#%%\n"
    }
   },
   "outputs": [
    {
     "data": {
      "text/plain": "                Title                            Album debut\ns1  A Day in the Life  Sgt. Pepper's Lonely Hearts Club Band\ns2            Because                             Abbey Road\ns3          Blackbird                            The Beatles",
      "text/html": "<div>\n<style scoped>\n    .dataframe tbody tr th:only-of-type {\n        vertical-align: middle;\n    }\n\n    .dataframe tbody tr th {\n        vertical-align: top;\n    }\n\n    .dataframe thead th {\n        text-align: right;\n    }\n</style>\n<table border=\"1\" class=\"dataframe\">\n  <thead>\n    <tr style=\"text-align: right;\">\n      <th></th>\n      <th>Title</th>\n      <th>Album debut</th>\n    </tr>\n  </thead>\n  <tbody>\n    <tr>\n      <th>s1</th>\n      <td>A Day in the Life</td>\n      <td>Sgt. Pepper's Lonely Hearts Club Band</td>\n    </tr>\n    <tr>\n      <th>s2</th>\n      <td>Because</td>\n      <td>Abbey Road</td>\n    </tr>\n    <tr>\n      <th>s3</th>\n      <td>Blackbird</td>\n      <td>The Beatles</td>\n    </tr>\n  </tbody>\n</table>\n</div>"
     },
     "execution_count": 40,
     "metadata": {},
     "output_type": "execute_result"
    }
   ],
   "source": [
    "indices = ['s1', 's2', 's3']\n",
    "titles = ['A Day in the Life', 'Because', 'Blackbird']\n",
    "album_debuts = ['Sgt. Pepper\\'s Lonely Hearts Club Band', 'Abbey Road', 'The Beatles']\n",
    "\n",
    "s_titles = pd.Series(titles, index=indices)\n",
    "s_album_debuts = pd.Series(album_debuts, index=indices)\n",
    "\n",
    "songs = pd.DataFrame({'Title':s_titles, 'Album debut':s_album_debuts})\n",
    "# print(songs)\n",
    "songs"
   ]
  },
  {
   "cell_type": "markdown",
   "metadata": {
    "pycharm": {
     "name": "#%% md\n"
    }
   },
   "source": [
    "### *pd.DataFrame* object as Python dictionary"
   ]
  },
  {
   "cell_type": "markdown",
   "metadata": {
    "pycharm": {
     "name": "#%% md\n"
    }
   },
   "source": [
    "Access specific columns in two equivalent ways:"
   ]
  },
  {
   "cell_type": "code",
   "execution_count": 41,
   "metadata": {
    "scrolled": true,
    "pycharm": {
     "name": "#%%\n"
    }
   },
   "outputs": [
    {
     "data": {
      "text/plain": "s1    A Day in the Life\ns2              Because\ns3            Blackbird\nName: Title, dtype: object"
     },
     "metadata": {},
     "output_type": "display_data"
    },
    {
     "data": {
      "text/plain": "s1    A Day in the Life\ns2              Because\ns3            Blackbird\nName: Title, dtype: object"
     },
     "metadata": {},
     "output_type": "display_data"
    }
   ],
   "source": [
    "display(songs['Title'])\n",
    "display(songs.Title)"
   ]
  },
  {
   "cell_type": "markdown",
   "metadata": {
    "pycharm": {
     "name": "#%% md\n"
    }
   },
   "source": [
    "Add new column:"
   ]
  },
  {
   "cell_type": "code",
   "execution_count": 42,
   "metadata": {
    "scrolled": true,
    "pycharm": {
     "name": "#%%\n"
    }
   },
   "outputs": [
    {
     "data": {
      "text/plain": "                Title                            Album debut  Time\ns1  A Day in the Life  Sgt. Pepper's Lonely Hearts Club Band   300\ns2            Because                             Abbey Road   200\ns3          Blackbird                            The Beatles   111",
      "text/html": "<div>\n<style scoped>\n    .dataframe tbody tr th:only-of-type {\n        vertical-align: middle;\n    }\n\n    .dataframe tbody tr th {\n        vertical-align: top;\n    }\n\n    .dataframe thead th {\n        text-align: right;\n    }\n</style>\n<table border=\"1\" class=\"dataframe\">\n  <thead>\n    <tr style=\"text-align: right;\">\n      <th></th>\n      <th>Title</th>\n      <th>Album debut</th>\n      <th>Time</th>\n    </tr>\n  </thead>\n  <tbody>\n    <tr>\n      <th>s1</th>\n      <td>A Day in the Life</td>\n      <td>Sgt. Pepper's Lonely Hearts Club Band</td>\n      <td>300</td>\n    </tr>\n    <tr>\n      <th>s2</th>\n      <td>Because</td>\n      <td>Abbey Road</td>\n      <td>200</td>\n    </tr>\n    <tr>\n      <th>s3</th>\n      <td>Blackbird</td>\n      <td>The Beatles</td>\n      <td>111</td>\n    </tr>\n  </tbody>\n</table>\n</div>"
     },
     "execution_count": 42,
     "metadata": {},
     "output_type": "execute_result"
    }
   ],
   "source": [
    "songs['Time'] = pd.Series([300, 200, 111, ], index=indices)\n",
    "# songs['Time'] = [300, 200, 111, ]                             # works as well\n",
    "# songs['Time'] = pd.Series([300, 200, 111, ])                  # adds NaNs, because the indices don't match\n",
    "# display(songs.Time.dtype)                                     # int64\n",
    "\n",
    "songs"
   ]
  },
  {
   "cell_type": "markdown",
   "metadata": {
    "pycharm": {
     "name": "#%% md\n"
    }
   },
   "source": [
    "#### *rename()*\n",
    "Rename a specific column. Based on [this](https://stackoverflow.com/questions/19758364/rename-specific-columns-in-pandas)."
   ]
  },
  {
   "cell_type": "code",
   "execution_count": 43,
   "metadata": {
    "pycharm": {
     "name": "#%%\n"
    }
   },
   "outputs": [
    {
     "data": {
      "text/plain": "                Title                            Album debut  Length\ns1  A Day in the Life  Sgt. Pepper's Lonely Hearts Club Band     300\ns2            Because                             Abbey Road     200\ns3          Blackbird                            The Beatles     111",
      "text/html": "<div>\n<style scoped>\n    .dataframe tbody tr th:only-of-type {\n        vertical-align: middle;\n    }\n\n    .dataframe tbody tr th {\n        vertical-align: top;\n    }\n\n    .dataframe thead th {\n        text-align: right;\n    }\n</style>\n<table border=\"1\" class=\"dataframe\">\n  <thead>\n    <tr style=\"text-align: right;\">\n      <th></th>\n      <th>Title</th>\n      <th>Album debut</th>\n      <th>Length</th>\n    </tr>\n  </thead>\n  <tbody>\n    <tr>\n      <th>s1</th>\n      <td>A Day in the Life</td>\n      <td>Sgt. Pepper's Lonely Hearts Club Band</td>\n      <td>300</td>\n    </tr>\n    <tr>\n      <th>s2</th>\n      <td>Because</td>\n      <td>Abbey Road</td>\n      <td>200</td>\n    </tr>\n    <tr>\n      <th>s3</th>\n      <td>Blackbird</td>\n      <td>The Beatles</td>\n      <td>111</td>\n    </tr>\n  </tbody>\n</table>\n</div>"
     },
     "metadata": {},
     "output_type": "display_data"
    }
   ],
   "source": [
    "songs.rename(columns={'Time':'Length'}, inplace=True)\n",
    "display(songs)\n",
    "\n",
    "songs.rename(columns={'Length':'Time'}, inplace=True)           # bring back the previous name, for later processing"
   ]
  },
  {
   "cell_type": "markdown",
   "metadata": {
    "pycharm": {
     "name": "#%% md\n"
    }
   },
   "source": [
    "### *pd.DataFrame* as two-dimensional array"
   ]
  },
  {
   "cell_type": "markdown",
   "metadata": {
    "pycharm": {
     "name": "#%% md\n"
    }
   },
   "source": [
    "Transpose a `pd.DataFrame` object:"
   ]
  },
  {
   "cell_type": "code",
   "execution_count": 44,
   "metadata": {
    "pycharm": {
     "name": "#%%\n"
    }
   },
   "outputs": [
    {
     "data": {
      "text/plain": "                                                s1          s2           s3\nTitle                            A Day in the Life     Because    Blackbird\nAlbum debut  Sgt. Pepper's Lonely Hearts Club Band  Abbey Road  The Beatles\nTime                                           300         200          111",
      "text/html": "<div>\n<style scoped>\n    .dataframe tbody tr th:only-of-type {\n        vertical-align: middle;\n    }\n\n    .dataframe tbody tr th {\n        vertical-align: top;\n    }\n\n    .dataframe thead th {\n        text-align: right;\n    }\n</style>\n<table border=\"1\" class=\"dataframe\">\n  <thead>\n    <tr style=\"text-align: right;\">\n      <th></th>\n      <th>s1</th>\n      <th>s2</th>\n      <th>s3</th>\n    </tr>\n  </thead>\n  <tbody>\n    <tr>\n      <th>Title</th>\n      <td>A Day in the Life</td>\n      <td>Because</td>\n      <td>Blackbird</td>\n    </tr>\n    <tr>\n      <th>Album debut</th>\n      <td>Sgt. Pepper's Lonely Hearts Club Band</td>\n      <td>Abbey Road</td>\n      <td>The Beatles</td>\n    </tr>\n    <tr>\n      <th>Time</th>\n      <td>300</td>\n      <td>200</td>\n      <td>111</td>\n    </tr>\n  </tbody>\n</table>\n</div>"
     },
     "execution_count": 44,
     "metadata": {},
     "output_type": "execute_result"
    }
   ],
   "source": [
    "songs.T"
   ]
  },
  {
   "cell_type": "markdown",
   "metadata": {
    "pycharm": {
     "name": "#%% md\n"
    }
   },
   "source": [
    "Access single rows/columns:"
   ]
  },
  {
   "cell_type": "code",
   "execution_count": 45,
   "metadata": {
    "pycharm": {
     "name": "#%%\n"
    }
   },
   "outputs": [
    {
     "data": {
      "text/plain": "Title             Because\nAlbum debut    Abbey Road\nTime                  200\nName: s2, dtype: object"
     },
     "metadata": {},
     "output_type": "display_data"
    },
    {
     "data": {
      "text/plain": "pandas.core.series.Series"
     },
     "metadata": {},
     "output_type": "display_data"
    },
    {
     "data": {
      "text/plain": "s1    A Day in the Life\ns2              Because\ns3            Blackbird\nName: Title, dtype: object"
     },
     "metadata": {},
     "output_type": "display_data"
    },
    {
     "data": {
      "text/plain": "pandas.core.series.Series"
     },
     "metadata": {},
     "output_type": "display_data"
    }
   ],
   "source": [
    "display(songs.loc['s2'])                  # access a row\n",
    "display(type(songs.loc['s2']))            # a pd.Series object\n",
    "\n",
    "display(songs['Title'])                   # access a column\n",
    "display(type(songs['Title']))             # a pd.Series object"
   ]
  },
  {
   "cell_type": "markdown",
   "metadata": {
    "pycharm": {
     "name": "#%% md\n"
    }
   },
   "source": [
    "Slicing a `pd.DataFrame` object:"
   ]
  },
  {
   "cell_type": "code",
   "execution_count": 46,
   "metadata": {
    "scrolled": false,
    "pycharm": {
     "name": "#%%\n"
    }
   },
   "outputs": [
    {
     "data": {
      "text/plain": "        Title  Album debut\ns2    Because   Abbey Road\ns3  Blackbird  The Beatles",
      "text/html": "<div>\n<style scoped>\n    .dataframe tbody tr th:only-of-type {\n        vertical-align: middle;\n    }\n\n    .dataframe tbody tr th {\n        vertical-align: top;\n    }\n\n    .dataframe thead th {\n        text-align: right;\n    }\n</style>\n<table border=\"1\" class=\"dataframe\">\n  <thead>\n    <tr style=\"text-align: right;\">\n      <th></th>\n      <th>Title</th>\n      <th>Album debut</th>\n    </tr>\n  </thead>\n  <tbody>\n    <tr>\n      <th>s2</th>\n      <td>Because</td>\n      <td>Abbey Road</td>\n    </tr>\n    <tr>\n      <th>s3</th>\n      <td>Blackbird</td>\n      <td>The Beatles</td>\n    </tr>\n  </tbody>\n</table>\n</div>"
     },
     "metadata": {},
     "output_type": "display_data"
    },
    {
     "data": {
      "text/plain": "                Title                            Album debut\ns1  A Day in the Life  Sgt. Pepper's Lonely Hearts Club Band\ns2            Because                             Abbey Road",
      "text/html": "<div>\n<style scoped>\n    .dataframe tbody tr th:only-of-type {\n        vertical-align: middle;\n    }\n\n    .dataframe tbody tr th {\n        vertical-align: top;\n    }\n\n    .dataframe thead th {\n        text-align: right;\n    }\n</style>\n<table border=\"1\" class=\"dataframe\">\n  <thead>\n    <tr style=\"text-align: right;\">\n      <th></th>\n      <th>Title</th>\n      <th>Album debut</th>\n    </tr>\n  </thead>\n  <tbody>\n    <tr>\n      <th>s1</th>\n      <td>A Day in the Life</td>\n      <td>Sgt. Pepper's Lonely Hearts Club Band</td>\n    </tr>\n    <tr>\n      <th>s2</th>\n      <td>Because</td>\n      <td>Abbey Road</td>\n    </tr>\n  </tbody>\n</table>\n</div>"
     },
     "metadata": {},
     "output_type": "display_data"
    }
   ],
   "source": [
    "display(songs.loc['s2':'s3', 'Title':'Album debut'])\n",
    "display(songs.iloc[:2, :2])"
   ]
  },
  {
   "cell_type": "markdown",
   "metadata": {
    "pycharm": {
     "name": "#%% md\n"
    }
   },
   "source": [
    "Slicing and masking refer to *rows* when using only one index, not to columns:"
   ]
  },
  {
   "cell_type": "code",
   "execution_count": 47,
   "metadata": {
    "pycharm": {
     "name": "#%%\n"
    }
   },
   "outputs": [
    {
     "data": {
      "text/plain": "        Title  Album debut  Time\ns2    Because   Abbey Road   200\ns3  Blackbird  The Beatles   111",
      "text/html": "<div>\n<style scoped>\n    .dataframe tbody tr th:only-of-type {\n        vertical-align: middle;\n    }\n\n    .dataframe tbody tr th {\n        vertical-align: top;\n    }\n\n    .dataframe thead th {\n        text-align: right;\n    }\n</style>\n<table border=\"1\" class=\"dataframe\">\n  <thead>\n    <tr style=\"text-align: right;\">\n      <th></th>\n      <th>Title</th>\n      <th>Album debut</th>\n      <th>Time</th>\n    </tr>\n  </thead>\n  <tbody>\n    <tr>\n      <th>s2</th>\n      <td>Because</td>\n      <td>Abbey Road</td>\n      <td>200</td>\n    </tr>\n    <tr>\n      <th>s3</th>\n      <td>Blackbird</td>\n      <td>The Beatles</td>\n      <td>111</td>\n    </tr>\n  </tbody>\n</table>\n</div>"
     },
     "metadata": {},
     "output_type": "display_data"
    },
    {
     "data": {
      "text/plain": "        Title  Album debut  Time\ns2    Because   Abbey Road   200\ns3  Blackbird  The Beatles   111",
      "text/html": "<div>\n<style scoped>\n    .dataframe tbody tr th:only-of-type {\n        vertical-align: middle;\n    }\n\n    .dataframe tbody tr th {\n        vertical-align: top;\n    }\n\n    .dataframe thead th {\n        text-align: right;\n    }\n</style>\n<table border=\"1\" class=\"dataframe\">\n  <thead>\n    <tr style=\"text-align: right;\">\n      <th></th>\n      <th>Title</th>\n      <th>Album debut</th>\n      <th>Time</th>\n    </tr>\n  </thead>\n  <tbody>\n    <tr>\n      <th>s2</th>\n      <td>Because</td>\n      <td>Abbey Road</td>\n      <td>200</td>\n    </tr>\n    <tr>\n      <th>s3</th>\n      <td>Blackbird</td>\n      <td>The Beatles</td>\n      <td>111</td>\n    </tr>\n  </tbody>\n</table>\n</div>"
     },
     "metadata": {},
     "output_type": "display_data"
    },
    {
     "data": {
      "text/plain": "                Title                            Album debut  Time\ns1  A Day in the Life  Sgt. Pepper's Lonely Hearts Club Band   300\ns2            Because                             Abbey Road   200",
      "text/html": "<div>\n<style scoped>\n    .dataframe tbody tr th:only-of-type {\n        vertical-align: middle;\n    }\n\n    .dataframe tbody tr th {\n        vertical-align: top;\n    }\n\n    .dataframe thead th {\n        text-align: right;\n    }\n</style>\n<table border=\"1\" class=\"dataframe\">\n  <thead>\n    <tr style=\"text-align: right;\">\n      <th></th>\n      <th>Title</th>\n      <th>Album debut</th>\n      <th>Time</th>\n    </tr>\n  </thead>\n  <tbody>\n    <tr>\n      <th>s1</th>\n      <td>A Day in the Life</td>\n      <td>Sgt. Pepper's Lonely Hearts Club Band</td>\n      <td>300</td>\n    </tr>\n    <tr>\n      <th>s2</th>\n      <td>Because</td>\n      <td>Abbey Road</td>\n      <td>200</td>\n    </tr>\n  </tbody>\n</table>\n</div>"
     },
     "metadata": {},
     "output_type": "display_data"
    }
   ],
   "source": [
    "display(songs['s2':'s3'])\n",
    "display(songs[1:3])\n",
    "\n",
    "display(songs[songs.Time > 150])"
   ]
  },
  {
   "cell_type": "markdown",
   "metadata": {
    "pycharm": {
     "name": "#%% md\n"
    }
   },
   "source": [
    "Fancy indexing a `pd.DataFrame` object:"
   ]
  },
  {
   "cell_type": "code",
   "execution_count": 48,
   "metadata": {
    "pycharm": {
     "name": "#%%\n"
    }
   },
   "outputs": [
    {
     "data": {
      "text/plain": "                Title                            Album debut  Time\ns1  A Day in the Life  Sgt. Pepper's Lonely Hearts Club Band   300\ns3          Blackbird                            The Beatles   111",
      "text/html": "<div>\n<style scoped>\n    .dataframe tbody tr th:only-of-type {\n        vertical-align: middle;\n    }\n\n    .dataframe tbody tr th {\n        vertical-align: top;\n    }\n\n    .dataframe thead th {\n        text-align: right;\n    }\n</style>\n<table border=\"1\" class=\"dataframe\">\n  <thead>\n    <tr style=\"text-align: right;\">\n      <th></th>\n      <th>Title</th>\n      <th>Album debut</th>\n      <th>Time</th>\n    </tr>\n  </thead>\n  <tbody>\n    <tr>\n      <th>s1</th>\n      <td>A Day in the Life</td>\n      <td>Sgt. Pepper's Lonely Hearts Club Band</td>\n      <td>300</td>\n    </tr>\n    <tr>\n      <th>s3</th>\n      <td>Blackbird</td>\n      <td>The Beatles</td>\n      <td>111</td>\n    </tr>\n  </tbody>\n</table>\n</div>"
     },
     "execution_count": 48,
     "metadata": {},
     "output_type": "execute_result"
    }
   ],
   "source": [
    "songs.loc[['s1', 's3']]"
   ]
  },
  {
   "cell_type": "markdown",
   "metadata": {
    "pycharm": {
     "name": "#%% md\n"
    }
   },
   "source": [
    "Combined indexing:"
   ]
  },
  {
   "cell_type": "code",
   "execution_count": 49,
   "metadata": {
    "scrolled": true,
    "pycharm": {
     "name": "#%%\n"
    }
   },
   "outputs": [
    {
     "data": {
      "text/plain": "                Title                            Album debut\ns1  A Day in the Life  Sgt. Pepper's Lonely Hearts Club Band\ns3          Blackbird                            The Beatles",
      "text/html": "<div>\n<style scoped>\n    .dataframe tbody tr th:only-of-type {\n        vertical-align: middle;\n    }\n\n    .dataframe tbody tr th {\n        vertical-align: top;\n    }\n\n    .dataframe thead th {\n        text-align: right;\n    }\n</style>\n<table border=\"1\" class=\"dataframe\">\n  <thead>\n    <tr style=\"text-align: right;\">\n      <th></th>\n      <th>Title</th>\n      <th>Album debut</th>\n    </tr>\n  </thead>\n  <tbody>\n    <tr>\n      <th>s1</th>\n      <td>A Day in the Life</td>\n      <td>Sgt. Pepper's Lonely Hearts Club Band</td>\n    </tr>\n    <tr>\n      <th>s3</th>\n      <td>Blackbird</td>\n      <td>The Beatles</td>\n    </tr>\n  </tbody>\n</table>\n</div>"
     },
     "execution_count": 49,
     "metadata": {},
     "output_type": "execute_result"
    }
   ],
   "source": [
    "songs.loc[['s1', 's3'], 'Title':'Album debut']"
   ]
  },
  {
   "cell_type": "markdown",
   "metadata": {
    "pycharm": {
     "name": "#%% md\n"
    }
   },
   "source": [
    "**<u>Make sure</u>** to see [this](https://stackoverflow.com/questions/17071871/how-to-select-rows-from-a-dataframe-based-on-column-values) for *many* other different and useful functions and examples of selecting rows based on column values."
   ]
  },
  {
   "cell_type": "markdown",
   "metadata": {
    "pycharm": {
     "name": "#%% md\n"
    }
   },
   "source": [
    "## Ufuncs with *pd.Series* and *pd.DataFrame* objects"
   ]
  },
  {
   "cell_type": "markdown",
   "metadata": {
    "pycharm": {
     "name": "#%% md\n"
    }
   },
   "source": [
    "The following table lists Python operators and their equivalent Pandas object methods (ufuncs):\n",
    "\n",
    "| Python Operator | Pandas Method(s)                      |\n",
    "|-----------------|---------------------------------------|\n",
    "| ``+``           | ``add()``                             |\n",
    "| ``-``           | ``sub()``, ``subtract()``             |\n",
    "| ``*``           | ``mul()``, ``multiply()``             |\n",
    "| ``/``           | ``truediv()``, ``div()``, ``divide()``|\n",
    "| ``//``          | ``floordiv()``                        |\n",
    "| ``%``           | ``mod()``                             |\n",
    "| ``**``          | ``pow()``                             |\n"
   ]
  },
  {
   "cell_type": "markdown",
   "metadata": {
    "pycharm": {
     "name": "#%% md\n"
    }
   },
   "source": [
    "If the data is clean and the dimensions match each other, everything works as intuitively expected. Otherwise, `NaN` or `inf` values are inserted as the values of some elements/cells where Pandas cannot insert another value."
   ]
  },
  {
   "cell_type": "markdown",
   "metadata": {
    "pycharm": {
     "name": "#%% md\n"
    }
   },
   "source": [
    "### Ufuncs with *pd.Series* objects"
   ]
  },
  {
   "cell_type": "code",
   "execution_count": 50,
   "metadata": {
    "pycharm": {
     "name": "#%%\n"
    }
   },
   "outputs": [
    {
     "data": {
      "text/plain": "1963    26\n1964    38\n1965    38\n1966    24\nName: early, dtype: int64"
     },
     "metadata": {},
     "output_type": "display_data"
    },
    {
     "data": {
      "text/plain": "1963     NaN\n1964     NaN\n1965    36.0\n1966    23.0\n1967     NaN\n1968     NaN\n1969     NaN\n1970     NaN\ndtype: float64"
     },
     "metadata": {},
     "output_type": "display_data"
    },
    {
     "data": {
      "text/plain": "1963    23.0\n1964    34.0\n1965    36.0\n1966    23.0\n1967    17.0\n1968    20.0\n1969    21.0\n1970    12.0\ndtype: float64"
     },
     "metadata": {},
     "output_type": "display_data"
    }
   ],
   "source": [
    "# The 'name' argument allows for giving a name to a pd.Series object, i.e. to a column. When the pd.Series object is put in a pd.DataFrame, the column will be named according to the 'name' parameter.\n",
    "song_counts_1 = pd.Series({'1963': 3, '1964': 4, '1965': 5, '1966': 6}, name='early')\n",
    "song_counts_2 = pd.Series({'1963': 23, '1964': 34, '1965': 33, '1966': 18}, name='early')\n",
    "song_counts_3 = pd.Series({'1965': 3, '1966': 5, '1967': 17, '1968': 20, '1969': 21, '1970': 12}, name='late')\n",
    "\n",
    "display(song_counts_1 + song_counts_2)\n",
    "display(song_counts_2 + song_counts_3)\n",
    "display(song_counts_2.add(song_counts_3, fill_value=0))          # use fill_value wherever the real value is missing"
   ]
  },
  {
   "cell_type": "markdown",
   "metadata": {
    "pycharm": {
     "name": "#%% md\n"
    }
   },
   "source": [
    "### Ufuncs with *pd.DataFrame* objects"
   ]
  },
  {
   "cell_type": "code",
   "execution_count": 54,
   "metadata": {
    "pycharm": {
     "name": "#%%\n"
    }
   },
   "outputs": [
    {
     "data": {
      "text/plain": "   count 1  count 2\n0       16       13\n1       17       14",
      "text/html": "<div>\n<style scoped>\n    .dataframe tbody tr th:only-of-type {\n        vertical-align: middle;\n    }\n\n    .dataframe tbody tr th {\n        vertical-align: top;\n    }\n\n    .dataframe thead th {\n        text-align: right;\n    }\n</style>\n<table border=\"1\" class=\"dataframe\">\n  <thead>\n    <tr style=\"text-align: right;\">\n      <th></th>\n      <th>count 1</th>\n      <th>count 2</th>\n    </tr>\n  </thead>\n  <tbody>\n    <tr>\n      <th>0</th>\n      <td>16</td>\n      <td>13</td>\n    </tr>\n    <tr>\n      <th>1</th>\n      <td>17</td>\n      <td>14</td>\n    </tr>\n  </tbody>\n</table>\n</div>"
     },
     "execution_count": 54,
     "metadata": {},
     "output_type": "execute_result"
    }
   ],
   "source": [
    "rng = np.random.RandomState(42)\n",
    "S1 = pd.DataFrame(rng.randint(10, 20, (2, 2)), \n",
    "                  columns=['count 1', 'count 2'])\n",
    "S1"
   ]
  },
  {
   "cell_type": "code",
   "execution_count": 55,
   "metadata": {
    "pycharm": {
     "name": "#%%\n"
    }
   },
   "outputs": [
    {
     "data": {
      "text/plain": "   count 3  count 2  count 1\n0       16       19       12\n1       16       17       14\n2       13       17       17",
      "text/html": "<div>\n<style scoped>\n    .dataframe tbody tr th:only-of-type {\n        vertical-align: middle;\n    }\n\n    .dataframe tbody tr th {\n        vertical-align: top;\n    }\n\n    .dataframe thead th {\n        text-align: right;\n    }\n</style>\n<table border=\"1\" class=\"dataframe\">\n  <thead>\n    <tr style=\"text-align: right;\">\n      <th></th>\n      <th>count 3</th>\n      <th>count 2</th>\n      <th>count 1</th>\n    </tr>\n  </thead>\n  <tbody>\n    <tr>\n      <th>0</th>\n      <td>16</td>\n      <td>19</td>\n      <td>12</td>\n    </tr>\n    <tr>\n      <th>1</th>\n      <td>16</td>\n      <td>17</td>\n      <td>14</td>\n    </tr>\n    <tr>\n      <th>2</th>\n      <td>13</td>\n      <td>17</td>\n      <td>17</td>\n    </tr>\n  </tbody>\n</table>\n</div>"
     },
     "execution_count": 55,
     "metadata": {},
     "output_type": "execute_result"
    }
   ],
   "source": [
    "S2 = pd.DataFrame(rng.randint(10, 20, (3, 3)), \n",
    "                  columns=['count 3', 'count 2', 'count 1'])          # indices deliberately disaligned w.r.t. S1\n",
    "S2"
   ]
  },
  {
   "cell_type": "code",
   "execution_count": 56,
   "metadata": {
    "pycharm": {
     "name": "#%%\n"
    }
   },
   "outputs": [
    {
     "data": {
      "text/plain": "   count 1  count 2  count 3\n0     28.0     32.0      NaN\n1     31.0     31.0      NaN\n2      NaN      NaN      NaN",
      "text/html": "<div>\n<style scoped>\n    .dataframe tbody tr th:only-of-type {\n        vertical-align: middle;\n    }\n\n    .dataframe tbody tr th {\n        vertical-align: top;\n    }\n\n    .dataframe thead th {\n        text-align: right;\n    }\n</style>\n<table border=\"1\" class=\"dataframe\">\n  <thead>\n    <tr style=\"text-align: right;\">\n      <th></th>\n      <th>count 1</th>\n      <th>count 2</th>\n      <th>count 3</th>\n    </tr>\n  </thead>\n  <tbody>\n    <tr>\n      <th>0</th>\n      <td>28.0</td>\n      <td>32.0</td>\n      <td>NaN</td>\n    </tr>\n    <tr>\n      <th>1</th>\n      <td>31.0</td>\n      <td>31.0</td>\n      <td>NaN</td>\n    </tr>\n    <tr>\n      <th>2</th>\n      <td>NaN</td>\n      <td>NaN</td>\n      <td>NaN</td>\n    </tr>\n  </tbody>\n</table>\n</div>"
     },
     "execution_count": 56,
     "metadata": {},
     "output_type": "execute_result"
    }
   ],
   "source": [
    "S1 + S2                                                               # indices aligned in the result"
   ]
  },
  {
   "cell_type": "code",
   "execution_count": 57,
   "metadata": {
    "pycharm": {
     "name": "#%%\n"
    }
   },
   "outputs": [
    {
     "data": {
      "text/plain": "   count 1  count 2  count 3\n0     28.0     32.0     31.0\n1     31.0     31.0     31.0\n2     32.0     32.0     28.0",
      "text/html": "<div>\n<style scoped>\n    .dataframe tbody tr th:only-of-type {\n        vertical-align: middle;\n    }\n\n    .dataframe tbody tr th {\n        vertical-align: top;\n    }\n\n    .dataframe thead th {\n        text-align: right;\n    }\n</style>\n<table border=\"1\" class=\"dataframe\">\n  <thead>\n    <tr style=\"text-align: right;\">\n      <th></th>\n      <th>count 1</th>\n      <th>count 2</th>\n      <th>count 3</th>\n    </tr>\n  </thead>\n  <tbody>\n    <tr>\n      <th>0</th>\n      <td>28.0</td>\n      <td>32.0</td>\n      <td>31.0</td>\n    </tr>\n    <tr>\n      <th>1</th>\n      <td>31.0</td>\n      <td>31.0</td>\n      <td>31.0</td>\n    </tr>\n    <tr>\n      <th>2</th>\n      <td>32.0</td>\n      <td>32.0</td>\n      <td>28.0</td>\n    </tr>\n  </tbody>\n</table>\n</div>"
     },
     "execution_count": 57,
     "metadata": {},
     "output_type": "execute_result"
    }
   ],
   "source": [
    "fill = S1.stack().mean()                                              # stack(): convert df into equivalent multi-index Series\n",
    "S1.add(S2, fill_value=fill)                                           # mean(): calculate mean of ALL elements in that series"
   ]
  },
  {
   "cell_type": "markdown",
   "metadata": {
    "pycharm": {
     "name": "#%% md\n"
    }
   },
   "source": [
    "### Ufuncs between *pd.DataFrame* and *pd.Series* objects"
   ]
  },
  {
   "cell_type": "code",
   "execution_count": 58,
   "metadata": {
    "pycharm": {
     "name": "#%%\n"
    }
   },
   "outputs": [
    {
     "data": {
      "text/plain": "   count 3  count 2  count 1\n0        0        2       -2\n1        0        0        0\n2       -3        0        3",
      "text/html": "<div>\n<style scoped>\n    .dataframe tbody tr th:only-of-type {\n        vertical-align: middle;\n    }\n\n    .dataframe tbody tr th {\n        vertical-align: top;\n    }\n\n    .dataframe thead th {\n        text-align: right;\n    }\n</style>\n<table border=\"1\" class=\"dataframe\">\n  <thead>\n    <tr style=\"text-align: right;\">\n      <th></th>\n      <th>count 3</th>\n      <th>count 2</th>\n      <th>count 1</th>\n    </tr>\n  </thead>\n  <tbody>\n    <tr>\n      <th>0</th>\n      <td>0</td>\n      <td>2</td>\n      <td>-2</td>\n    </tr>\n    <tr>\n      <th>1</th>\n      <td>0</td>\n      <td>0</td>\n      <td>0</td>\n    </tr>\n    <tr>\n      <th>2</th>\n      <td>-3</td>\n      <td>0</td>\n      <td>3</td>\n    </tr>\n  </tbody>\n</table>\n</div>"
     },
     "execution_count": 58,
     "metadata": {},
     "output_type": "execute_result"
    }
   ],
   "source": [
    "S2 - S2.iloc[1]                                                       # effectively, row-wise broadcasting"
   ]
  },
  {
   "cell_type": "code",
   "execution_count": 59,
   "metadata": {
    "pycharm": {
     "name": "#%%\n"
    }
   },
   "outputs": [
    {
     "data": {
      "text/plain": "   count 3  count 2  count 1\n0        0        3       -4\n1        0        1       -2\n2        0        4        4",
      "text/html": "<div>\n<style scoped>\n    .dataframe tbody tr th:only-of-type {\n        vertical-align: middle;\n    }\n\n    .dataframe tbody tr th {\n        vertical-align: top;\n    }\n\n    .dataframe thead th {\n        text-align: right;\n    }\n</style>\n<table border=\"1\" class=\"dataframe\">\n  <thead>\n    <tr style=\"text-align: right;\">\n      <th></th>\n      <th>count 3</th>\n      <th>count 2</th>\n      <th>count 1</th>\n    </tr>\n  </thead>\n  <tbody>\n    <tr>\n      <th>0</th>\n      <td>0</td>\n      <td>3</td>\n      <td>-4</td>\n    </tr>\n    <tr>\n      <th>1</th>\n      <td>0</td>\n      <td>1</td>\n      <td>-2</td>\n    </tr>\n    <tr>\n      <th>2</th>\n      <td>0</td>\n      <td>4</td>\n      <td>4</td>\n    </tr>\n  </tbody>\n</table>\n</div>"
     },
     "execution_count": 59,
     "metadata": {},
     "output_type": "execute_result"
    }
   ],
   "source": [
    "S2.subtract(S2['count 3'], axis=0)"
   ]
  },
  {
   "cell_type": "markdown",
   "metadata": {
    "pycharm": {
     "name": "#%% md\n"
    }
   },
   "source": [
    "## Missing values"
   ]
  },
  {
   "cell_type": "markdown",
   "source": [
    "### *np.nan*\n",
    "`np.nan`, `.np.nansum()`, `np.nanmin()`, `np.nanmax()`, `np.nanmean()`, `np.nanmedian()`,...\n",
    "\n",
    "`np.nan` represents NAs (and is slightly different from `None`). `.np.nansum()`, `np.nanmin()`, `np.nanmax()`, `np.nanmean()`, `np.nanmedian()`,... make their respective calculations ignoring NAs."
   ],
   "metadata": {
    "collapsed": false,
    "pycharm": {
     "name": "#%% md\n"
    }
   }
  },
  {
   "cell_type": "code",
   "execution_count": 183,
   "metadata": {
    "pycharm": {
     "name": "#%%\n"
    }
   },
   "outputs": [
    {
     "data": {
      "text/plain": [
       "nan"
      ]
     },
     "metadata": {},
     "output_type": "display_data"
    },
    {
     "data": {
      "text/plain": [
       "nan"
      ]
     },
     "metadata": {},
     "output_type": "display_data"
    },
    {
     "name": "stdout",
     "output_type": "stream",
     "text": [
      "nan nan\n",
      "10.0 5.0 2.0 3.3333333333333335 3.0\n"
     ]
    }
   ],
   "source": [
    "v = np.array([2, np.nan, 3, 5])\n",
    "display(v[1])\n",
    "display(1 + v[1])\n",
    "print(v.sum(), v.max())\n",
    "print(np.nansum(v), np.nanmax(v), np.nanmin(v), np.nanmean(v), np.nanmedian(v))"
   ]
  },
  {
   "cell_type": "markdown",
   "metadata": {
    "pycharm": {
     "name": "#%% md\n"
    }
   },
   "source": [
    "### *isnull()* and *notnull()*\n",
    "Detect `None` and NA in `pd.Series` and `pd.DataFrame` objects and create the appropriate masks."
   ]
  },
  {
   "cell_type": "code",
   "execution_count": 60,
   "metadata": {
    "pycharm": {
     "name": "#%%\n"
    }
   },
   "outputs": [
    {
     "data": {
      "text/plain": "                Title                            Album debut\ns1  A Day in the Life  Sgt. Pepper's Lonely Hearts Club Band\ns2               None                             Abbey Road\ns3          Blackbird                            The Beatles\ns4                NaN                                    NaN",
      "text/html": "<div>\n<style scoped>\n    .dataframe tbody tr th:only-of-type {\n        vertical-align: middle;\n    }\n\n    .dataframe tbody tr th {\n        vertical-align: top;\n    }\n\n    .dataframe thead th {\n        text-align: right;\n    }\n</style>\n<table border=\"1\" class=\"dataframe\">\n  <thead>\n    <tr style=\"text-align: right;\">\n      <th></th>\n      <th>Title</th>\n      <th>Album debut</th>\n    </tr>\n  </thead>\n  <tbody>\n    <tr>\n      <th>s1</th>\n      <td>A Day in the Life</td>\n      <td>Sgt. Pepper's Lonely Hearts Club Band</td>\n    </tr>\n    <tr>\n      <th>s2</th>\n      <td>None</td>\n      <td>Abbey Road</td>\n    </tr>\n    <tr>\n      <th>s3</th>\n      <td>Blackbird</td>\n      <td>The Beatles</td>\n    </tr>\n    <tr>\n      <th>s4</th>\n      <td>NaN</td>\n      <td>NaN</td>\n    </tr>\n  </tbody>\n</table>\n</div>"
     },
     "execution_count": 60,
     "metadata": {},
     "output_type": "execute_result"
    }
   ],
   "source": [
    "indices = ['s1', 's2', 's3', 's4']\n",
    "titles = ['A Day in the Life', None, 'Blackbird', np.nan]\n",
    "album_debuts = ['Sgt. Pepper\\'s Lonely Hearts Club Band', 'Abbey Road', 'The Beatles', np.nan]\n",
    "\n",
    "s_titles = pd.Series(titles, index=indices)\n",
    "s_album_debuts = pd.Series(album_debuts, index=indices)\n",
    "\n",
    "songs = pd.DataFrame({'Title':s_titles, 'Album debut':s_album_debuts})\n",
    "# display(songs)\n",
    "songs"
   ]
  },
  {
   "cell_type": "code",
   "execution_count": 66,
   "metadata": {
    "pycharm": {
     "name": "#%%\n"
    }
   },
   "outputs": [
    {
     "data": {
      "text/plain": "s1    A Day in the Life\ns3            Blackbird\ndtype: object"
     },
     "metadata": {},
     "output_type": "display_data"
    }
   ],
   "source": [
    "display(s_titles.isnull())\n",
    "display(s_titles.notnull)\n",
    "display(s_titles.notnull())\n",
    "display(songs.notnull())\n",
    "display(s_titles[s_titles.notnull()])"
   ]
  },
  {
   "cell_type": "markdown",
   "metadata": {
    "pycharm": {
     "name": "#%% md\n"
    }
   },
   "source": [
    "### *dropna()*\n",
    "For a `pd.Series` object, drops all NA values."
   ]
  },
  {
   "cell_type": "code",
   "execution_count": 67,
   "metadata": {
    "pycharm": {
     "name": "#%%\n"
    }
   },
   "outputs": [
    {
     "data": {
      "text/plain": "s1    A Day in the Life\ns2                 None\ns3            Blackbird\ns4                  NaN\ndtype: object"
     },
     "metadata": {},
     "output_type": "display_data"
    },
    {
     "data": {
      "text/plain": "s1    A Day in the Life\ns3            Blackbird\ndtype: object"
     },
     "metadata": {},
     "output_type": "display_data"
    }
   ],
   "source": [
    "display(s_titles)\n",
    "display(s_titles.dropna())"
   ]
  },
  {
   "cell_type": "markdown",
   "metadata": {
    "pycharm": {
     "name": "#%% md\n"
    }
   },
   "source": [
    "For a `pd.DataFrame` object, no dropping individual NA values, just the entire rows/columns containing such values:"
   ]
  },
  {
   "cell_type": "code",
   "execution_count": 68,
   "metadata": {
    "pycharm": {
     "name": "#%%\n"
    }
   },
   "outputs": [
    {
     "data": {
      "text/plain": "                Title                            Album debut\ns1  A Day in the Life  Sgt. Pepper's Lonely Hearts Club Band\ns2               None                             Abbey Road\ns3          Blackbird                            The Beatles\ns4                NaN                                    NaN",
      "text/html": "<div>\n<style scoped>\n    .dataframe tbody tr th:only-of-type {\n        vertical-align: middle;\n    }\n\n    .dataframe tbody tr th {\n        vertical-align: top;\n    }\n\n    .dataframe thead th {\n        text-align: right;\n    }\n</style>\n<table border=\"1\" class=\"dataframe\">\n  <thead>\n    <tr style=\"text-align: right;\">\n      <th></th>\n      <th>Title</th>\n      <th>Album debut</th>\n    </tr>\n  </thead>\n  <tbody>\n    <tr>\n      <th>s1</th>\n      <td>A Day in the Life</td>\n      <td>Sgt. Pepper's Lonely Hearts Club Band</td>\n    </tr>\n    <tr>\n      <th>s2</th>\n      <td>None</td>\n      <td>Abbey Road</td>\n    </tr>\n    <tr>\n      <th>s3</th>\n      <td>Blackbird</td>\n      <td>The Beatles</td>\n    </tr>\n    <tr>\n      <th>s4</th>\n      <td>NaN</td>\n      <td>NaN</td>\n    </tr>\n  </tbody>\n</table>\n</div>"
     },
     "metadata": {},
     "output_type": "display_data"
    },
    {
     "data": {
      "text/plain": "                Title                            Album debut\ns1  A Day in the Life  Sgt. Pepper's Lonely Hearts Club Band\ns3          Blackbird                            The Beatles",
      "text/html": "<div>\n<style scoped>\n    .dataframe tbody tr th:only-of-type {\n        vertical-align: middle;\n    }\n\n    .dataframe tbody tr th {\n        vertical-align: top;\n    }\n\n    .dataframe thead th {\n        text-align: right;\n    }\n</style>\n<table border=\"1\" class=\"dataframe\">\n  <thead>\n    <tr style=\"text-align: right;\">\n      <th></th>\n      <th>Title</th>\n      <th>Album debut</th>\n    </tr>\n  </thead>\n  <tbody>\n    <tr>\n      <th>s1</th>\n      <td>A Day in the Life</td>\n      <td>Sgt. Pepper's Lonely Hearts Club Band</td>\n    </tr>\n    <tr>\n      <th>s3</th>\n      <td>Blackbird</td>\n      <td>The Beatles</td>\n    </tr>\n  </tbody>\n</table>\n</div>"
     },
     "metadata": {},
     "output_type": "display_data"
    },
    {
     "data": {
      "text/plain": "                Title                            Album debut\ns1  A Day in the Life  Sgt. Pepper's Lonely Hearts Club Band\ns3          Blackbird                            The Beatles",
      "text/html": "<div>\n<style scoped>\n    .dataframe tbody tr th:only-of-type {\n        vertical-align: middle;\n    }\n\n    .dataframe tbody tr th {\n        vertical-align: top;\n    }\n\n    .dataframe thead th {\n        text-align: right;\n    }\n</style>\n<table border=\"1\" class=\"dataframe\">\n  <thead>\n    <tr style=\"text-align: right;\">\n      <th></th>\n      <th>Title</th>\n      <th>Album debut</th>\n    </tr>\n  </thead>\n  <tbody>\n    <tr>\n      <th>s1</th>\n      <td>A Day in the Life</td>\n      <td>Sgt. Pepper's Lonely Hearts Club Band</td>\n    </tr>\n    <tr>\n      <th>s3</th>\n      <td>Blackbird</td>\n      <td>The Beatles</td>\n    </tr>\n  </tbody>\n</table>\n</div>"
     },
     "metadata": {},
     "output_type": "display_data"
    },
    {
     "data": {
      "text/plain": "Empty DataFrame\nColumns: []\nIndex: [s1, s2, s3, s4]",
      "text/html": "<div>\n<style scoped>\n    .dataframe tbody tr th:only-of-type {\n        vertical-align: middle;\n    }\n\n    .dataframe tbody tr th {\n        vertical-align: top;\n    }\n\n    .dataframe thead th {\n        text-align: right;\n    }\n</style>\n<table border=\"1\" class=\"dataframe\">\n  <thead>\n    <tr style=\"text-align: right;\">\n      <th></th>\n    </tr>\n  </thead>\n  <tbody>\n    <tr>\n      <th>s1</th>\n    </tr>\n    <tr>\n      <th>s2</th>\n    </tr>\n    <tr>\n      <th>s3</th>\n    </tr>\n    <tr>\n      <th>s4</th>\n    </tr>\n  </tbody>\n</table>\n</div>"
     },
     "metadata": {},
     "output_type": "display_data"
    },
    {
     "data": {
      "text/plain": "                              Album debut\ns1  Sgt. Pepper's Lonely Hearts Club Band\ns2                             Abbey Road\ns3                            The Beatles\ns4                            Rubber Soul",
      "text/html": "<div>\n<style scoped>\n    .dataframe tbody tr th:only-of-type {\n        vertical-align: middle;\n    }\n\n    .dataframe tbody tr th {\n        vertical-align: top;\n    }\n\n    .dataframe thead th {\n        text-align: right;\n    }\n</style>\n<table border=\"1\" class=\"dataframe\">\n  <thead>\n    <tr style=\"text-align: right;\">\n      <th></th>\n      <th>Album debut</th>\n    </tr>\n  </thead>\n  <tbody>\n    <tr>\n      <th>s1</th>\n      <td>Sgt. Pepper's Lonely Hearts Club Band</td>\n    </tr>\n    <tr>\n      <th>s2</th>\n      <td>Abbey Road</td>\n    </tr>\n    <tr>\n      <th>s3</th>\n      <td>The Beatles</td>\n    </tr>\n    <tr>\n      <th>s4</th>\n      <td>Rubber Soul</td>\n    </tr>\n  </tbody>\n</table>\n</div>"
     },
     "metadata": {},
     "output_type": "display_data"
    },
    {
     "data": {
      "text/plain": "                Title                            Album debut\ns1  A Day in the Life  Sgt. Pepper's Lonely Hearts Club Band\ns2               None                             Abbey Road\ns3          Blackbird                            The Beatles\ns4                NaN                                    NaN",
      "text/html": "<div>\n<style scoped>\n    .dataframe tbody tr th:only-of-type {\n        vertical-align: middle;\n    }\n\n    .dataframe tbody tr th {\n        vertical-align: top;\n    }\n\n    .dataframe thead th {\n        text-align: right;\n    }\n</style>\n<table border=\"1\" class=\"dataframe\">\n  <thead>\n    <tr style=\"text-align: right;\">\n      <th></th>\n      <th>Title</th>\n      <th>Album debut</th>\n    </tr>\n  </thead>\n  <tbody>\n    <tr>\n      <th>s1</th>\n      <td>A Day in the Life</td>\n      <td>Sgt. Pepper's Lonely Hearts Club Band</td>\n    </tr>\n    <tr>\n      <th>s2</th>\n      <td>None</td>\n      <td>Abbey Road</td>\n    </tr>\n    <tr>\n      <th>s3</th>\n      <td>Blackbird</td>\n      <td>The Beatles</td>\n    </tr>\n    <tr>\n      <th>s4</th>\n      <td>NaN</td>\n      <td>NaN</td>\n    </tr>\n  </tbody>\n</table>\n</div>"
     },
     "metadata": {},
     "output_type": "display_data"
    },
    {
     "data": {
      "text/plain": "                Title                            Album debut\ns1  A Day in the Life  Sgt. Pepper's Lonely Hearts Club Band\ns2               None                             Abbey Road\ns3          Blackbird                            The Beatles",
      "text/html": "<div>\n<style scoped>\n    .dataframe tbody tr th:only-of-type {\n        vertical-align: middle;\n    }\n\n    .dataframe tbody tr th {\n        vertical-align: top;\n    }\n\n    .dataframe thead th {\n        text-align: right;\n    }\n</style>\n<table border=\"1\" class=\"dataframe\">\n  <thead>\n    <tr style=\"text-align: right;\">\n      <th></th>\n      <th>Title</th>\n      <th>Album debut</th>\n    </tr>\n  </thead>\n  <tbody>\n    <tr>\n      <th>s1</th>\n      <td>A Day in the Life</td>\n      <td>Sgt. Pepper's Lonely Hearts Club Band</td>\n    </tr>\n    <tr>\n      <th>s2</th>\n      <td>None</td>\n      <td>Abbey Road</td>\n    </tr>\n    <tr>\n      <th>s3</th>\n      <td>Blackbird</td>\n      <td>The Beatles</td>\n    </tr>\n  </tbody>\n</table>\n</div>"
     },
     "metadata": {},
     "output_type": "display_data"
    },
    {
     "data": {
      "text/plain": "                              Album debut\ns1  Sgt. Pepper's Lonely Hearts Club Band\ns2                             Abbey Road\ns3                            The Beatles\ns4                                    NaN",
      "text/html": "<div>\n<style scoped>\n    .dataframe tbody tr th:only-of-type {\n        vertical-align: middle;\n    }\n\n    .dataframe tbody tr th {\n        vertical-align: top;\n    }\n\n    .dataframe thead th {\n        text-align: right;\n    }\n</style>\n<table border=\"1\" class=\"dataframe\">\n  <thead>\n    <tr style=\"text-align: right;\">\n      <th></th>\n      <th>Album debut</th>\n    </tr>\n  </thead>\n  <tbody>\n    <tr>\n      <th>s1</th>\n      <td>Sgt. Pepper's Lonely Hearts Club Band</td>\n    </tr>\n    <tr>\n      <th>s2</th>\n      <td>Abbey Road</td>\n    </tr>\n    <tr>\n      <th>s3</th>\n      <td>The Beatles</td>\n    </tr>\n    <tr>\n      <th>s4</th>\n      <td>NaN</td>\n    </tr>\n  </tbody>\n</table>\n</div>"
     },
     "metadata": {},
     "output_type": "display_data"
    }
   ],
   "source": [
    "songs = pd.DataFrame({'Title':s_titles, 'Album debut':s_album_debuts})\n",
    "display(songs)\n",
    "display(songs.dropna())                          # drop all rows in which ANY null value is present\n",
    "display(songs.dropna(axis='rows'))               # drop all rows in which ANY null value is present (axis='rows' is the default)\n",
    "display(songs.dropna(axis='columns'))            # drop all columns in which ANY null value is present\n",
    "songs['Album debut']['s4'] = 'Rubber Soul'\n",
    "display(songs.dropna(axis='columns'))            # drop all columns in which ANY null value is present\n",
    "\n",
    "songs = pd.DataFrame({'Title':s_titles, 'Album debut':s_album_debuts})\n",
    "display(songs)\n",
    "display(songs.dropna(how='all'))                 # drop only the rows in which ALL values are null (default is how='any')\n",
    "display(songs.dropna(axis='columns', thresh=3))  # drop the columns with thresh or more NON-null values"
   ]
  },
  {
   "cell_type": "markdown",
   "metadata": {
    "pycharm": {
     "name": "#%% md\n"
    }
   },
   "source": [
    "### *fillna()*\n",
    "For a `pd.Series` object, drops all NA values."
   ]
  },
  {
   "cell_type": "code",
   "execution_count": 69,
   "metadata": {
    "pycharm": {
     "name": "#%%\n"
    }
   },
   "outputs": [
    {
     "data": {
      "text/plain": "s1    A Day in the Life\ns2                 None\ns3            Blackbird\ns4                  NaN\ndtype: object"
     },
     "metadata": {},
     "output_type": "display_data"
    },
    {
     "data": {
      "text/plain": "s1    A Day in the Life\ns2            Let It Be\ns3            Blackbird\ns4            Let It Be\ndtype: object"
     },
     "metadata": {},
     "output_type": "display_data"
    }
   ],
   "source": [
    "display(s_titles)\n",
    "display(s_titles.fillna('Let It Be'))"
   ]
  },
  {
   "cell_type": "markdown",
   "metadata": {
    "pycharm": {
     "name": "#%% md\n"
    }
   },
   "source": [
    "Forward-fill or backward-fill each NA value with the previous one:"
   ]
  },
  {
   "cell_type": "code",
   "execution_count": 70,
   "metadata": {
    "scrolled": true,
    "pycharm": {
     "name": "#%%\n"
    }
   },
   "outputs": [
    {
     "data": {
      "text/plain": "                Title                            Album debut\ns1  A Day in the Life  Sgt. Pepper's Lonely Hearts Club Band\ns2               None                             Abbey Road\ns3          Blackbird                            The Beatles\ns4                NaN                                    NaN",
      "text/html": "<div>\n<style scoped>\n    .dataframe tbody tr th:only-of-type {\n        vertical-align: middle;\n    }\n\n    .dataframe tbody tr th {\n        vertical-align: top;\n    }\n\n    .dataframe thead th {\n        text-align: right;\n    }\n</style>\n<table border=\"1\" class=\"dataframe\">\n  <thead>\n    <tr style=\"text-align: right;\">\n      <th></th>\n      <th>Title</th>\n      <th>Album debut</th>\n    </tr>\n  </thead>\n  <tbody>\n    <tr>\n      <th>s1</th>\n      <td>A Day in the Life</td>\n      <td>Sgt. Pepper's Lonely Hearts Club Band</td>\n    </tr>\n    <tr>\n      <th>s2</th>\n      <td>None</td>\n      <td>Abbey Road</td>\n    </tr>\n    <tr>\n      <th>s3</th>\n      <td>Blackbird</td>\n      <td>The Beatles</td>\n    </tr>\n    <tr>\n      <th>s4</th>\n      <td>NaN</td>\n      <td>NaN</td>\n    </tr>\n  </tbody>\n</table>\n</div>"
     },
     "metadata": {},
     "output_type": "display_data"
    },
    {
     "data": {
      "text/plain": "s1    A Day in the Life\ns2                 None\ns3            Blackbird\ns4                  NaN\ndtype: object"
     },
     "metadata": {},
     "output_type": "display_data"
    },
    {
     "data": {
      "text/plain": "s1    A Day in the Life\ns2    A Day in the Life\ns3            Blackbird\ns4            Blackbird\ndtype: object"
     },
     "metadata": {},
     "output_type": "display_data"
    },
    {
     "data": {
      "text/plain": "s1    A Day in the Life\ns2            Blackbird\ns3            Blackbird\ns4                  NaN\ndtype: object"
     },
     "metadata": {},
     "output_type": "display_data"
    },
    {
     "data": {
      "text/plain": "                Title                            Album debut\ns1  A Day in the Life  Sgt. Pepper's Lonely Hearts Club Band\ns2  A Day in the Life                             Abbey Road\ns3          Blackbird                            The Beatles\ns4          Blackbird                            The Beatles",
      "text/html": "<div>\n<style scoped>\n    .dataframe tbody tr th:only-of-type {\n        vertical-align: middle;\n    }\n\n    .dataframe tbody tr th {\n        vertical-align: top;\n    }\n\n    .dataframe thead th {\n        text-align: right;\n    }\n</style>\n<table border=\"1\" class=\"dataframe\">\n  <thead>\n    <tr style=\"text-align: right;\">\n      <th></th>\n      <th>Title</th>\n      <th>Album debut</th>\n    </tr>\n  </thead>\n  <tbody>\n    <tr>\n      <th>s1</th>\n      <td>A Day in the Life</td>\n      <td>Sgt. Pepper's Lonely Hearts Club Band</td>\n    </tr>\n    <tr>\n      <th>s2</th>\n      <td>A Day in the Life</td>\n      <td>Abbey Road</td>\n    </tr>\n    <tr>\n      <th>s3</th>\n      <td>Blackbird</td>\n      <td>The Beatles</td>\n    </tr>\n    <tr>\n      <th>s4</th>\n      <td>Blackbird</td>\n      <td>The Beatles</td>\n    </tr>\n  </tbody>\n</table>\n</div>"
     },
     "metadata": {},
     "output_type": "display_data"
    },
    {
     "data": {
      "text/plain": "                Title                            Album debut\ns1  A Day in the Life  Sgt. Pepper's Lonely Hearts Club Band\ns2  A Day in the Life                             Abbey Road\ns3          Blackbird                            The Beatles\ns4          Blackbird                            The Beatles",
      "text/html": "<div>\n<style scoped>\n    .dataframe tbody tr th:only-of-type {\n        vertical-align: middle;\n    }\n\n    .dataframe tbody tr th {\n        vertical-align: top;\n    }\n\n    .dataframe thead th {\n        text-align: right;\n    }\n</style>\n<table border=\"1\" class=\"dataframe\">\n  <thead>\n    <tr style=\"text-align: right;\">\n      <th></th>\n      <th>Title</th>\n      <th>Album debut</th>\n    </tr>\n  </thead>\n  <tbody>\n    <tr>\n      <th>s1</th>\n      <td>A Day in the Life</td>\n      <td>Sgt. Pepper's Lonely Hearts Club Band</td>\n    </tr>\n    <tr>\n      <th>s2</th>\n      <td>A Day in the Life</td>\n      <td>Abbey Road</td>\n    </tr>\n    <tr>\n      <th>s3</th>\n      <td>Blackbird</td>\n      <td>The Beatles</td>\n    </tr>\n    <tr>\n      <th>s4</th>\n      <td>Blackbird</td>\n      <td>The Beatles</td>\n    </tr>\n  </tbody>\n</table>\n</div>"
     },
     "metadata": {},
     "output_type": "display_data"
    },
    {
     "data": {
      "text/plain": "                Title                            Album debut\ns1  A Day in the Life  Sgt. Pepper's Lonely Hearts Club Band\ns2         Abbey Road                             Abbey Road\ns3          Blackbird                            The Beatles\ns4                NaN                                    NaN",
      "text/html": "<div>\n<style scoped>\n    .dataframe tbody tr th:only-of-type {\n        vertical-align: middle;\n    }\n\n    .dataframe tbody tr th {\n        vertical-align: top;\n    }\n\n    .dataframe thead th {\n        text-align: right;\n    }\n</style>\n<table border=\"1\" class=\"dataframe\">\n  <thead>\n    <tr style=\"text-align: right;\">\n      <th></th>\n      <th>Title</th>\n      <th>Album debut</th>\n    </tr>\n  </thead>\n  <tbody>\n    <tr>\n      <th>s1</th>\n      <td>A Day in the Life</td>\n      <td>Sgt. Pepper's Lonely Hearts Club Band</td>\n    </tr>\n    <tr>\n      <th>s2</th>\n      <td>Abbey Road</td>\n      <td>Abbey Road</td>\n    </tr>\n    <tr>\n      <th>s3</th>\n      <td>Blackbird</td>\n      <td>The Beatles</td>\n    </tr>\n    <tr>\n      <th>s4</th>\n      <td>NaN</td>\n      <td>NaN</td>\n    </tr>\n  </tbody>\n</table>\n</div>"
     },
     "metadata": {},
     "output_type": "display_data"
    }
   ],
   "source": [
    "indices = ['s1', 's2', 's3', 's4']\n",
    "titles = ['A Day in the Life', None, 'Blackbird', np.nan]\n",
    "album_debuts = ['Sgt. Pepper\\'s Lonely Hearts Club Band', 'Abbey Road', 'The Beatles', np.nan]\n",
    "\n",
    "s_titles = pd.Series(titles, index=indices)\n",
    "s_album_debuts = pd.Series(album_debuts, index=indices)\n",
    "\n",
    "songs = pd.DataFrame({'Title':s_titles, 'Album debut':s_album_debuts})\n",
    "display(songs)\n",
    "\n",
    "display(s_titles)\n",
    "display(s_titles.fillna(method='ffill'))                          # forward-fill\n",
    "display(s_titles.fillna(method='bfill'))                          # backward-fill\n",
    "\n",
    "display(songs.fillna(method='ffill'))\n",
    "display(songs.fillna(method='ffill', axis=0))                     # axis=0 (default): fill along the columns\n",
    "display(songs.fillna(method='bfill', axis=1))                     # axis=1: fill along the rows"
   ]
  },
  {
   "cell_type": "markdown",
   "metadata": {
    "pycharm": {
     "name": "#%% md\n"
    }
   },
   "source": [
    "## Hierarchical indexing (Multi-indexing)\n",
    "Using more than one key in indices. The point is that *each extra level in a multi-index represents an extra dimension of data*. In other words, one can convert a multi-indexed `pd.Series` object to a `pd.DataFrame` object (using the `pd.Series.unstack()` method) in which each column directly corresponds to a key in the multi-index of the original `pd.Series` object."
   ]
  },
  {
   "cell_type": "markdown",
   "metadata": {
    "pycharm": {
     "name": "#%% md\n"
    }
   },
   "source": [
    "### Using Python tuples as keys\n",
    "This is the bad way and is not recommended. Still, it illustrates the idea and is an intro to the real multi-indexing."
   ]
  },
  {
   "cell_type": "code",
   "execution_count": 71,
   "metadata": {
    "pycharm": {
     "name": "#%%\n"
    }
   },
   "outputs": [
    {
     "data": {
      "text/plain": "(1963, Please, Please Me)       I Saw Her Standing There\n(1963, With The Beatles)              Till There Was You\n(1964, A Hard Day's Night)          Things We Said Today\n(1964, The Beatles for Sale)             Baby's In Black\n(1964, The Beatles for Sale)                    No Reply\ndtype: object"
     },
     "execution_count": 71,
     "metadata": {},
     "output_type": "execute_result"
    }
   ],
   "source": [
    "indices = [(1963, 'Please, Please Me'),\n",
    "           (1963, 'With The Beatles'),\n",
    "           (1964, 'A Hard Day\\'s Night'),\n",
    "           (1964, 'The Beatles for Sale'),\n",
    "           (1964, 'The Beatles for Sale')]\n",
    "s = pd.Series(['I Saw Her Standing There', \n",
    "               'Till There Was You', \n",
    "               'Things We Said Today', \n",
    "               'Baby\\'s In Black',\n",
    "               'No Reply'], \n",
    "              index=indices)\n",
    "s"
   ]
  },
  {
   "cell_type": "markdown",
   "metadata": {
    "pycharm": {
     "name": "#%% md\n"
    }
   },
   "source": [
    "Selecting only the songs from, e.g., 1964 (in a general case, i.e. when they are not pre-ordered) looks clumsy:"
   ]
  },
  {
   "cell_type": "code",
   "execution_count": 72,
   "metadata": {
    "pycharm": {
     "name": "#%%\n"
    }
   },
   "outputs": [
    {
     "data": {
      "text/plain": "(1964, A Hard Day's Night)      Things We Said Today\n(1964, The Beatles for Sale)         Baby's In Black\n(1964, The Beatles for Sale)                No Reply\n(1964, The Beatles for Sale)         Baby's In Black\n(1964, The Beatles for Sale)                No Reply\ndtype: object"
     },
     "execution_count": 72,
     "metadata": {},
     "output_type": "execute_result"
    }
   ],
   "source": [
    "s[[i for i in s.index if i[0] == 1964]]"
   ]
  },
  {
   "cell_type": "markdown",
   "metadata": {
    "pycharm": {
     "name": "#%% md\n"
    }
   },
   "source": [
    "### *pd.MultiIndex*\n",
    "This is the recommended way to do multi-indexing."
   ]
  },
  {
   "cell_type": "markdown",
   "source": [
    "#### *from_tuples()* and *reindex()*"
   ],
   "metadata": {
    "collapsed": false,
    "pycharm": {
     "name": "#%% md\n"
    }
   }
  },
  {
   "cell_type": "code",
   "execution_count": 73,
   "metadata": {
    "scrolled": true,
    "pycharm": {
     "name": "#%%\n"
    }
   },
   "outputs": [
    {
     "data": {
      "text/plain": "Year  Album               \n1963  Please, Please Me       I Saw Her Standing There\n      With The Beatles              Till There Was You\n1964  A Hard Day's Night          Things We Said Today\n      The Beatles for Sale             Baby's In Black\n      The Beatles for Sale                    No Reply\ndtype: object"
     },
     "execution_count": 73,
     "metadata": {},
     "output_type": "execute_result"
    }
   ],
   "source": [
    "indices = pd.MultiIndex.from_tuples([(1963, 'Please, Please Me'),\n",
    "                                     (1963, 'With The Beatles'),\n",
    "                                     (1964, 'A Hard Day\\'s Night'),\n",
    "                                     (1964, 'The Beatles for Sale'),\n",
    "                                     (1964, 'The Beatles for Sale')])\n",
    "indices.names = ['Year', 'Album']\n",
    "\n",
    "# #  Alternatively:\n",
    "# indices = pd.MultiIndex.from_tuples([(1963, 'Please, Please Me'),\n",
    "#                                      (1963, 'With The Beatles'),\n",
    "#                                      (1964, 'A Hard Day\\'s Night'),\n",
    "#                                      (1964, 'The Beatles for Sale'),\n",
    "#                                      (1964, 'The Beatles for Sale')],\n",
    "#                                    names=['Year', 'Album'])                # without it the index levels remain unlabeled\n",
    "\n",
    "s = s.reindex(indices)\n",
    "s"
   ]
  },
  {
   "cell_type": "markdown",
   "metadata": {
    "pycharm": {
     "name": "#%% md\n"
    }
   },
   "source": [
    "Selecting only the songs from, e.g., 1964 (in a general case, i.e. when they are not pre-ordered), as well as selecting only the songs from a specific album (i.e., along the second key in the index) and the like, is now direct:"
   ]
  },
  {
   "cell_type": "code",
   "execution_count": 74,
   "metadata": {
    "pycharm": {
     "name": "#%%\n"
    }
   },
   "outputs": [
    {
     "data": {
      "text/plain": "Album\nA Hard Day's Night      Things We Said Today\nThe Beatles for Sale         Baby's In Black\nThe Beatles for Sale                No Reply\ndtype: object"
     },
     "metadata": {},
     "output_type": "display_data"
    },
    {
     "data": {
      "text/plain": "Year\n1964    Baby's In Black\n1964           No Reply\ndtype: object"
     },
     "metadata": {},
     "output_type": "display_data"
    }
   ],
   "source": [
    "display(s[1964])\n",
    "display(s[:, 'The Beatles for Sale'])"
   ]
  },
  {
   "cell_type": "markdown",
   "metadata": {
    "pycharm": {
     "name": "#%% md\n"
    }
   },
   "source": [
    "#### *stack()* and *unstack()*\n",
    "Converting between multi-indexed `pd.Series` and the equivalent `pd.DataFrame` objects. Once again, remember that *each extra level in a multi-index represents an extra dimension of data*. <br>**HOWEVER**, each key combination in the relevant `pd.MultiIndex` object must be *unique* in order for `unstack()` to work!"
   ]
  },
  {
   "cell_type": "code",
   "execution_count": 75,
   "metadata": {
    "scrolled": true,
    "pycharm": {
     "name": "#%%\n"
    }
   },
   "outputs": [
    {
     "ename": "ValueError",
     "evalue": "The truth value of a Series is ambiguous. Use a.empty, a.bool(), a.item(), a.any() or a.all().",
     "output_type": "error",
     "traceback": [
      "\u001B[1;31m---------------------------------------------------------------------------\u001B[0m",
      "\u001B[1;31mValueError\u001B[0m                                Traceback (most recent call last)",
      "Input \u001B[1;32mIn [75]\u001B[0m, in \u001B[0;36m<cell line: 1>\u001B[1;34m()\u001B[0m\n\u001B[1;32m----> 1\u001B[0m s_df \u001B[38;5;241m=\u001B[39m \u001B[43ms\u001B[49m\u001B[38;5;241;43m.\u001B[39;49m\u001B[43munstack\u001B[49m\u001B[43m(\u001B[49m\u001B[43ms\u001B[49m\u001B[43m)\u001B[49m\n",
      "File \u001B[1;32m~\\AppData\\Local\\Programs\\Python\\Python310\\lib\\site-packages\\pandas\\core\\series.py:4157\u001B[0m, in \u001B[0;36mSeries.unstack\u001B[1;34m(self, level, fill_value)\u001B[0m\n\u001B[0;32m   4114\u001B[0m \u001B[38;5;124;03m\"\"\"\u001B[39;00m\n\u001B[0;32m   4115\u001B[0m \u001B[38;5;124;03mUnstack, also known as pivot, Series with MultiIndex to produce DataFrame.\u001B[39;00m\n\u001B[0;32m   4116\u001B[0m \n\u001B[1;32m   (...)\u001B[0m\n\u001B[0;32m   4153\u001B[0m \u001B[38;5;124;03mb    2    4\u001B[39;00m\n\u001B[0;32m   4154\u001B[0m \u001B[38;5;124;03m\"\"\"\u001B[39;00m\n\u001B[0;32m   4155\u001B[0m \u001B[38;5;28;01mfrom\u001B[39;00m \u001B[38;5;21;01mpandas\u001B[39;00m\u001B[38;5;21;01m.\u001B[39;00m\u001B[38;5;21;01mcore\u001B[39;00m\u001B[38;5;21;01m.\u001B[39;00m\u001B[38;5;21;01mreshape\u001B[39;00m\u001B[38;5;21;01m.\u001B[39;00m\u001B[38;5;21;01mreshape\u001B[39;00m \u001B[38;5;28;01mimport\u001B[39;00m unstack\n\u001B[1;32m-> 4157\u001B[0m \u001B[38;5;28;01mreturn\u001B[39;00m \u001B[43munstack\u001B[49m\u001B[43m(\u001B[49m\u001B[38;5;28;43mself\u001B[39;49m\u001B[43m,\u001B[49m\u001B[43m \u001B[49m\u001B[43mlevel\u001B[49m\u001B[43m,\u001B[49m\u001B[43m \u001B[49m\u001B[43mfill_value\u001B[49m\u001B[43m)\u001B[49m\n",
      "File \u001B[1;32m~\\AppData\\Local\\Programs\\Python\\Python310\\lib\\site-packages\\pandas\\core\\reshape\\reshape.py:473\u001B[0m, in \u001B[0;36munstack\u001B[1;34m(obj, level, fill_value)\u001B[0m\n\u001B[0;32m    470\u001B[0m         level \u001B[38;5;241m=\u001B[39m level[\u001B[38;5;241m0\u001B[39m]\n\u001B[0;32m    472\u001B[0m \u001B[38;5;66;03m# Prioritize integer interpretation (GH #21677):\u001B[39;00m\n\u001B[1;32m--> 473\u001B[0m \u001B[38;5;28;01mif\u001B[39;00m \u001B[38;5;129;01mnot\u001B[39;00m is_integer(level) \u001B[38;5;129;01mand\u001B[39;00m \u001B[38;5;129;01mnot\u001B[39;00m \u001B[43mlevel\u001B[49m\u001B[43m \u001B[49m\u001B[38;5;241;43m==\u001B[39;49m\u001B[43m \u001B[49m\u001B[38;5;124;43m\"\u001B[39;49m\u001B[38;5;124;43m__placeholder__\u001B[39;49m\u001B[38;5;124;43m\"\u001B[39;49m:\n\u001B[0;32m    474\u001B[0m     level \u001B[38;5;241m=\u001B[39m obj\u001B[38;5;241m.\u001B[39mindex\u001B[38;5;241m.\u001B[39m_get_level_number(level)\n\u001B[0;32m    476\u001B[0m \u001B[38;5;28;01mif\u001B[39;00m \u001B[38;5;28misinstance\u001B[39m(obj, DataFrame):\n",
      "File \u001B[1;32m~\\AppData\\Local\\Programs\\Python\\Python310\\lib\\site-packages\\pandas\\core\\generic.py:1527\u001B[0m, in \u001B[0;36mNDFrame.__nonzero__\u001B[1;34m(self)\u001B[0m\n\u001B[0;32m   1525\u001B[0m \u001B[38;5;129m@final\u001B[39m\n\u001B[0;32m   1526\u001B[0m \u001B[38;5;28;01mdef\u001B[39;00m \u001B[38;5;21m__nonzero__\u001B[39m(\u001B[38;5;28mself\u001B[39m):\n\u001B[1;32m-> 1527\u001B[0m     \u001B[38;5;28;01mraise\u001B[39;00m \u001B[38;5;167;01mValueError\u001B[39;00m(\n\u001B[0;32m   1528\u001B[0m         \u001B[38;5;124mf\u001B[39m\u001B[38;5;124m\"\u001B[39m\u001B[38;5;124mThe truth value of a \u001B[39m\u001B[38;5;132;01m{\u001B[39;00m\u001B[38;5;28mtype\u001B[39m(\u001B[38;5;28mself\u001B[39m)\u001B[38;5;241m.\u001B[39m\u001B[38;5;18m__name__\u001B[39m\u001B[38;5;132;01m}\u001B[39;00m\u001B[38;5;124m is ambiguous. \u001B[39m\u001B[38;5;124m\"\u001B[39m\n\u001B[0;32m   1529\u001B[0m         \u001B[38;5;124m\"\u001B[39m\u001B[38;5;124mUse a.empty, a.bool(), a.item(), a.any() or a.all().\u001B[39m\u001B[38;5;124m\"\u001B[39m\n\u001B[0;32m   1530\u001B[0m     )\n",
      "\u001B[1;31mValueError\u001B[0m: The truth value of a Series is ambiguous. Use a.empty, a.bool(), a.item(), a.any() or a.all()."
     ]
    }
   ],
   "source": [
    "s_df = s.unstack(s)                # with the non-unique indices as set above, this produces a ValueError"
   ]
  },
  {
   "cell_type": "markdown",
   "metadata": {
    "pycharm": {
     "name": "#%% md\n"
    }
   },
   "source": [
    "Create a multi-indexed `pd.Series` object where all key combinations in the multi-index are unique, and `unstack()` it to a `pd.DataFrame` object:"
   ]
  },
  {
   "cell_type": "code",
   "execution_count": 76,
   "metadata": {
    "pycharm": {
     "name": "#%%\n"
    }
   },
   "outputs": [
    {
     "data": {
      "text/plain": "Album    A Hard Day's Night         Please, Please Me The Beatles for Sale  \\\nYear                                                                         \n1963                    NaN  I Saw Her Standing There                  NaN   \n1964   Things We Said Today                       NaN             No Reply   \n\nAlbum    With The Beatles  \nYear                       \n1963   Till There Was You  \n1964                  NaN  ",
      "text/html": "<div>\n<style scoped>\n    .dataframe tbody tr th:only-of-type {\n        vertical-align: middle;\n    }\n\n    .dataframe tbody tr th {\n        vertical-align: top;\n    }\n\n    .dataframe thead th {\n        text-align: right;\n    }\n</style>\n<table border=\"1\" class=\"dataframe\">\n  <thead>\n    <tr style=\"text-align: right;\">\n      <th>Album</th>\n      <th>A Hard Day's Night</th>\n      <th>Please, Please Me</th>\n      <th>The Beatles for Sale</th>\n      <th>With The Beatles</th>\n    </tr>\n    <tr>\n      <th>Year</th>\n      <th></th>\n      <th></th>\n      <th></th>\n      <th></th>\n    </tr>\n  </thead>\n  <tbody>\n    <tr>\n      <th>1963</th>\n      <td>NaN</td>\n      <td>I Saw Her Standing There</td>\n      <td>NaN</td>\n      <td>Till There Was You</td>\n    </tr>\n    <tr>\n      <th>1964</th>\n      <td>Things We Said Today</td>\n      <td>NaN</td>\n      <td>No Reply</td>\n      <td>NaN</td>\n    </tr>\n  </tbody>\n</table>\n</div>"
     },
     "execution_count": 76,
     "metadata": {},
     "output_type": "execute_result"
    }
   ],
   "source": [
    "indices = pd.MultiIndex.from_tuples([(1963, 'Please, Please Me'),\n",
    "                                     (1963, 'With The Beatles'),\n",
    "                                     (1964, 'A Hard Day\\'s Night'),\n",
    "                                     (1964, 'The Beatles for Sale')], \n",
    "                                   names=['Year', 'Album'])\n",
    "s = pd.Series(['I Saw Her Standing There', \n",
    "               'Till There Was You', \n",
    "               'Things We Said Today', \n",
    "               'No Reply'],\n",
    "              index=indices)\n",
    "s_df = s.unstack()\n",
    "s_df"
   ]
  },
  {
   "cell_type": "code",
   "execution_count": 77,
   "metadata": {
    "pycharm": {
     "name": "#%%\n"
    }
   },
   "outputs": [
    {
     "data": {
      "text/plain": "Year  Album               \n1963  Please, Please Me       I Saw Her Standing There\n      With The Beatles              Till There Was You\n1964  A Hard Day's Night          Things We Said Today\n      The Beatles for Sale                    No Reply\ndtype: object"
     },
     "execution_count": 77,
     "metadata": {},
     "output_type": "execute_result"
    }
   ],
   "source": [
    "s_df.stack()"
   ]
  },
  {
   "cell_type": "markdown",
   "metadata": {
    "pycharm": {
     "name": "#%% md\n"
    }
   },
   "source": [
    "#### Explicit *pd.MultiIndex* constructors\n",
    "`from_arrays()`, `from_tuples()`, `from_product()`\n",
    "\n",
    "Provide flexibility in creating `pd.MultiIndex` objects. A `pd.MultiIndex` object created in any of these ways can be passed as the ``index`` argument when creating a `pd.Series` or a `pd.Dataframe` object, or be passed to the `reindex()` method of an existing `pd.Series` or `pd.Dataframe` object."
   ]
  },
  {
   "cell_type": "code",
   "execution_count": 78,
   "metadata": {
    "pycharm": {
     "name": "#%%\n"
    }
   },
   "outputs": [
    {
     "data": {
      "text/plain": "MultiIndex([(1963,    'Please, Please Me'),\n            (1963,     'With The Beatles'),\n            (1964,   'A Hard Day's Night'),\n            (1964, 'The Beatles for Sale')],\n           )"
     },
     "metadata": {},
     "output_type": "display_data"
    },
    {
     "data": {
      "text/plain": "MultiIndex([(1963,    'Please, Please Me'),\n            (1963,     'With The Beatles'),\n            (1964,   'A Hard Day's Night'),\n            (1964, 'The Beatles for Sale')],\n           )"
     },
     "metadata": {},
     "output_type": "display_data"
    },
    {
     "data": {
      "text/plain": "MultiIndex([(1963,  'album'),\n            (1963, 'single'),\n            (1964,  'album'),\n            (1964, 'single')],\n           )"
     },
     "metadata": {},
     "output_type": "display_data"
    }
   ],
   "source": [
    "indices = pd.MultiIndex.from_tuples([(1963, 'Please, Please Me'),\n",
    "                                     (1963, 'With The Beatles'),\n",
    "                                     (1964, 'A Hard Day\\'s Night'),\n",
    "                                     (1964, 'The Beatles for Sale')])\n",
    "display(indices)\n",
    "\n",
    "indices = pd.MultiIndex.from_arrays([[1963, 1963, 1964, 1964], \n",
    "                                     ['Please, Please Me', 'With The Beatles', 'A Hard Day\\'s Night', 'The Beatles for Sale']])\n",
    "display(indices)\n",
    "\n",
    "indices = pd.MultiIndex.from_product([[1963, 1964], \n",
    "                                      ['album', 'single']])                # Cartesian product\n",
    "display(indices)"
   ]
  },
  {
   "cell_type": "markdown",
   "metadata": {
    "pycharm": {
     "name": "#%% md\n"
    }
   },
   "source": [
    "#### Using *levels* and *codes*\n",
    "An alternative to using `from_product()`."
   ]
  },
  {
   "cell_type": "code",
   "execution_count": 79,
   "metadata": {
    "pycharm": {
     "name": "#%%\n"
    }
   },
   "outputs": [
    {
     "data": {
      "text/plain": "MultiIndex([(1963,  'album'),\n            (1963, 'single'),\n            (1964,  'album'),\n            (1964, 'single')],\n           )"
     },
     "metadata": {},
     "output_type": "display_data"
    },
    {
     "name": "stdout",
     "output_type": "stream",
     "text": [
      "(1963, 'album') \n",
      " (1963, 'single')\n"
     ]
    },
    {
     "data": {
      "text/plain": "'single'"
     },
     "metadata": {},
     "output_type": "display_data"
    }
   ],
   "source": [
    "indices = pd.MultiIndex(levels=[[1963, 1964], ['album', 'single']], \n",
    "                        codes=[[0, 0, 1, 1], [0, 1, 0, 1]])\n",
    "display(indices)\n",
    "\n",
    "print(indices[0], '\\n', indices[1])\n",
    "\n",
    "display(indices[1][1])"
   ]
  },
  {
   "cell_type": "markdown",
   "metadata": {
    "pycharm": {
     "name": "#%% md\n"
    }
   },
   "source": [
    "#### Multiindexing *pd.DataFrame* columns\n",
    "Just as the rows can have multiple levels of indices, the columns can have multiple levels as well."
   ]
  },
  {
   "cell_type": "code",
   "execution_count": 80,
   "metadata": {
    "pycharm": {
     "name": "#%%\n"
    }
   },
   "outputs": [
    {
     "name": "stderr",
     "output_type": "stream",
     "text": [
      "C:\\Users\\Vladan\\AppData\\Local\\Temp\\ipykernel_33028\\1054621489.py:23: UserWarning: you are shuffling a 'flatiter' object which is not a subclass of 'Sequence'; `shuffle` is not guaranteed to behave correctly. E.g., non-numpy array/tensor objects with view semantics may contain duplicates after shuffling.\n",
      "  np.random.shuffle(titles.flat)                                              # shuffle the songs to mimic randomness\n"
     ]
    },
    {
     "data": {
      "text/plain": "                                        No.1                       \\\n                                          UK                   US   \n1963 album                              Anna    What You're Doing   \n     single     Kansas City/Hey-Hey-Hey-Hey!  I'll Follow The Sun   \n1964 album               Rock And Roll Music          Honey Don't   \n     single  I Don't Want To Spoil The Party        Words Of Love   \n\n                                         No.2                      \n                                           UK                  US  \n1963 album                           No Reply         I'm A Loser  \n     single  Everybody's Trying To Be My Baby  Every Little Thing  \n1964 album                    Baby's In Black        Mr Moonlight  \n     single                 Eight Days A Week   Please, Please Me  ",
      "text/html": "<div>\n<style scoped>\n    .dataframe tbody tr th:only-of-type {\n        vertical-align: middle;\n    }\n\n    .dataframe tbody tr th {\n        vertical-align: top;\n    }\n\n    .dataframe thead tr th {\n        text-align: left;\n    }\n</style>\n<table border=\"1\" class=\"dataframe\">\n  <thead>\n    <tr>\n      <th></th>\n      <th></th>\n      <th colspan=\"2\" halign=\"left\">No.1</th>\n      <th colspan=\"2\" halign=\"left\">No.2</th>\n    </tr>\n    <tr>\n      <th></th>\n      <th></th>\n      <th>UK</th>\n      <th>US</th>\n      <th>UK</th>\n      <th>US</th>\n    </tr>\n  </thead>\n  <tbody>\n    <tr>\n      <th rowspan=\"2\" valign=\"top\">1963</th>\n      <th>album</th>\n      <td>Anna</td>\n      <td>What You're Doing</td>\n      <td>No Reply</td>\n      <td>I'm A Loser</td>\n    </tr>\n    <tr>\n      <th>single</th>\n      <td>Kansas City/Hey-Hey-Hey-Hey!</td>\n      <td>I'll Follow The Sun</td>\n      <td>Everybody's Trying To Be My Baby</td>\n      <td>Every Little Thing</td>\n    </tr>\n    <tr>\n      <th rowspan=\"2\" valign=\"top\">1964</th>\n      <th>album</th>\n      <td>Rock And Roll Music</td>\n      <td>Honey Don't</td>\n      <td>Baby's In Black</td>\n      <td>Mr Moonlight</td>\n    </tr>\n    <tr>\n      <th>single</th>\n      <td>I Don't Want To Spoil The Party</td>\n      <td>Words Of Love</td>\n      <td>Eight Days A Week</td>\n      <td>Please, Please Me</td>\n    </tr>\n  </tbody>\n</table>\n</div>"
     },
     "execution_count": 80,
     "metadata": {},
     "output_type": "execute_result"
    }
   ],
   "source": [
    "indices = pd.MultiIndex.from_product([[1963, 1964], \n",
    "                                      ['album', 'single']])                # Cartesian product\n",
    "columns = pd.MultiIndex.from_product([['No.1', 'No.2'], \n",
    "                                      ['UK', 'US']])\n",
    "# titles = np.array(['1', '2', '3', '4']).reshape(2, 2)                    # just testing\n",
    "titles = np.array(['No Reply',\n",
    "                   'I\\'m A Loser',\n",
    "                   'Baby\\'s In Black',\n",
    "                   'Rock And Roll Music',\n",
    "                   'I\\'ll Follow The Sun',\n",
    "                   'Mr Moonlight',\n",
    "                   'Kansas City/Hey-Hey-Hey-Hey!',\n",
    "                   'Eight Days A Week',\n",
    "                   'Words Of Love',\n",
    "                   'Honey Don\\'t',\n",
    "                   'Every Little Thing',\n",
    "                   'I Don\\'t Want To Spoil The Party',\n",
    "                   'What You\\'re Doing',\n",
    "                   'Everybody\\'s Trying To Be My Baby',\n",
    "                   'Please, Please Me',\n",
    "                   'Anna']).reshape(4, 4)\n",
    "# display(titles)\n",
    "np.random.shuffle(titles.flat)                                              # shuffle the songs to mimic randomness\n",
    "s = pd.DataFrame(titles, index=indices, columns=columns)\n",
    "s"
   ]
  },
  {
   "cell_type": "markdown",
   "metadata": {
    "pycharm": {
     "name": "#%% md\n"
    }
   },
   "source": [
    "And now some indexing and slicing (but remember that **the first index refers to columns!!!**):"
   ]
  },
  {
   "cell_type": "code",
   "execution_count": 81,
   "metadata": {
    "pycharm": {
     "name": "#%%\n"
    }
   },
   "outputs": [
    {
     "data": {
      "text/plain": "                                          UK                   US\n1963 album                              Anna    What You're Doing\n     single     Kansas City/Hey-Hey-Hey-Hey!  I'll Follow The Sun\n1964 album               Rock And Roll Music          Honey Don't\n     single  I Don't Want To Spoil The Party        Words Of Love",
      "text/html": "<div>\n<style scoped>\n    .dataframe tbody tr th:only-of-type {\n        vertical-align: middle;\n    }\n\n    .dataframe tbody tr th {\n        vertical-align: top;\n    }\n\n    .dataframe thead th {\n        text-align: right;\n    }\n</style>\n<table border=\"1\" class=\"dataframe\">\n  <thead>\n    <tr style=\"text-align: right;\">\n      <th></th>\n      <th></th>\n      <th>UK</th>\n      <th>US</th>\n    </tr>\n  </thead>\n  <tbody>\n    <tr>\n      <th rowspan=\"2\" valign=\"top\">1963</th>\n      <th>album</th>\n      <td>Anna</td>\n      <td>What You're Doing</td>\n    </tr>\n    <tr>\n      <th>single</th>\n      <td>Kansas City/Hey-Hey-Hey-Hey!</td>\n      <td>I'll Follow The Sun</td>\n    </tr>\n    <tr>\n      <th rowspan=\"2\" valign=\"top\">1964</th>\n      <th>album</th>\n      <td>Rock And Roll Music</td>\n      <td>Honey Don't</td>\n    </tr>\n    <tr>\n      <th>single</th>\n      <td>I Don't Want To Spoil The Party</td>\n      <td>Words Of Love</td>\n    </tr>\n  </tbody>\n</table>\n</div>"
     },
     "metadata": {},
     "output_type": "display_data"
    },
    {
     "data": {
      "text/plain": "1963  album                                Anna\n      single       Kansas City/Hey-Hey-Hey-Hey!\n1964  album                 Rock And Roll Music\n      single    I Don't Want To Spoil The Party\nName: UK, dtype: object"
     },
     "metadata": {},
     "output_type": "display_data"
    },
    {
     "data": {
      "text/plain": "                                       UK                   US\n1963 album                           Anna    What You're Doing\n     single  Kansas City/Hey-Hey-Hey-Hey!  I'll Follow The Sun",
      "text/html": "<div>\n<style scoped>\n    .dataframe tbody tr th:only-of-type {\n        vertical-align: middle;\n    }\n\n    .dataframe tbody tr th {\n        vertical-align: top;\n    }\n\n    .dataframe thead th {\n        text-align: right;\n    }\n</style>\n<table border=\"1\" class=\"dataframe\">\n  <thead>\n    <tr style=\"text-align: right;\">\n      <th></th>\n      <th></th>\n      <th>UK</th>\n      <th>US</th>\n    </tr>\n  </thead>\n  <tbody>\n    <tr>\n      <th rowspan=\"2\" valign=\"top\">1963</th>\n      <th>album</th>\n      <td>Anna</td>\n      <td>What You're Doing</td>\n    </tr>\n    <tr>\n      <th>single</th>\n      <td>Kansas City/Hey-Hey-Hey-Hey!</td>\n      <td>I'll Follow The Sun</td>\n    </tr>\n  </tbody>\n</table>\n</div>"
     },
     "metadata": {},
     "output_type": "display_data"
    },
    {
     "data": {
      "text/plain": "album                             Anna\nsingle    Kansas City/Hey-Hey-Hey-Hey!\nName: UK, dtype: object"
     },
     "metadata": {},
     "output_type": "display_data"
    },
    {
     "data": {
      "text/plain": "'Kansas City/Hey-Hey-Hey-Hey!'"
     },
     "metadata": {},
     "output_type": "display_data"
    }
   ],
   "source": [
    "display(s['No.1'])\n",
    "display(s['No.1']['UK'])\n",
    "display(s['No.1'][0:2])\n",
    "display(s['No.1']['UK'][1963])\n",
    "display(s['No.1']['UK'][1963, 'single'])"
   ]
  },
  {
   "cell_type": "markdown",
   "metadata": {
    "pycharm": {
     "name": "#%% md\n"
    }
   },
   "source": [
    "#### *sort_index()*"
   ]
  },
  {
   "cell_type": "code",
   "execution_count": 82,
   "metadata": {
    "pycharm": {
     "name": "#%%\n"
    }
   },
   "outputs": [
    {
     "data": {
      "text/plain": "Year  Album               \n1964  A Hard Day's Night          Things We Said Today\n      The Beatles for Sale                    No Reply\n1963  Please, Please Me       I Saw Her Standing There\n      With The Beatles              Till There Was You\ndtype: object"
     },
     "metadata": {},
     "output_type": "display_data"
    },
    {
     "data": {
      "text/plain": "Album\nA Hard Day's Night      Things We Said Today\nThe Beatles for Sale                No Reply\ndtype: object"
     },
     "metadata": {},
     "output_type": "display_data"
    },
    {
     "data": {
      "text/plain": "Year  Album               \n1963  Please, Please Me       I Saw Her Standing There\n      With The Beatles              Till There Was You\n1964  A Hard Day's Night          Things We Said Today\n      The Beatles for Sale                    No Reply\ndtype: object"
     },
     "metadata": {},
     "output_type": "display_data"
    }
   ],
   "source": [
    "indices = pd.MultiIndex.from_tuples([(1964, 'A Hard Day\\'s Night'),               # unsorted multi-index\n",
    "                                     (1964, 'The Beatles for Sale'), \n",
    "                                     (1963, 'Please, Please Me'),\n",
    "                                     (1963, 'With The Beatles')],\n",
    "                                   names=['Year', 'Album'])\n",
    "s = pd.Series(['Things We Said Today', \n",
    "               'No Reply', \n",
    "               'I Saw Her Standing There', \n",
    "               'Till There Was You'],\n",
    "              index=indices)\n",
    "display(s)\n",
    "\n",
    "display(s[1964])\n",
    "\n",
    "# display(s.loc[1964:1963])                                                         # produces UnsortedIndexError\n",
    "\n",
    "s = s.sort_index()\n",
    "display(s.loc[1963:1964])                                                           # after sorting the index, it works"
   ]
  },
  {
   "cell_type": "markdown",
   "metadata": {
    "pycharm": {
     "name": "#%% md\n"
    }
   },
   "source": [
    "#### *unstack()* and *stack()*\n",
    "For `unstack()`, specifying the `level` tells Pandas which index level to represent as columns."
   ]
  },
  {
   "cell_type": "code",
   "execution_count": 83,
   "metadata": {
    "scrolled": true,
    "pycharm": {
     "name": "#%%\n"
    }
   },
   "outputs": [
    {
     "data": {
      "text/plain": "Year                                      1963                  1964\nAlbum                                                               \nA Hard Day's Night                         NaN  Things We Said Today\nPlease, Please Me     I Saw Her Standing There                   NaN\nThe Beatles for Sale                       NaN              No Reply\nWith The Beatles            Till There Was You                   NaN",
      "text/html": "<div>\n<style scoped>\n    .dataframe tbody tr th:only-of-type {\n        vertical-align: middle;\n    }\n\n    .dataframe tbody tr th {\n        vertical-align: top;\n    }\n\n    .dataframe thead th {\n        text-align: right;\n    }\n</style>\n<table border=\"1\" class=\"dataframe\">\n  <thead>\n    <tr style=\"text-align: right;\">\n      <th>Year</th>\n      <th>1963</th>\n      <th>1964</th>\n    </tr>\n    <tr>\n      <th>Album</th>\n      <th></th>\n      <th></th>\n    </tr>\n  </thead>\n  <tbody>\n    <tr>\n      <th>A Hard Day's Night</th>\n      <td>NaN</td>\n      <td>Things We Said Today</td>\n    </tr>\n    <tr>\n      <th>Please, Please Me</th>\n      <td>I Saw Her Standing There</td>\n      <td>NaN</td>\n    </tr>\n    <tr>\n      <th>The Beatles for Sale</th>\n      <td>NaN</td>\n      <td>No Reply</td>\n    </tr>\n    <tr>\n      <th>With The Beatles</th>\n      <td>Till There Was You</td>\n      <td>NaN</td>\n    </tr>\n  </tbody>\n</table>\n</div>"
     },
     "execution_count": 83,
     "metadata": {},
     "output_type": "execute_result"
    }
   ],
   "source": [
    "# s_df = s.unstack()\n",
    "# s_df = s.unstack(level=1)                # same as s.unstack()\n",
    "s_df = s.unstack(level=0)\n",
    "s_df"
   ]
  },
  {
   "cell_type": "code",
   "execution_count": 84,
   "metadata": {
    "scrolled": true,
    "pycharm": {
     "name": "#%%\n"
    }
   },
   "outputs": [
    {
     "data": {
      "text/plain": "Album                 Year\nA Hard Day's Night    1964        Things We Said Today\nPlease, Please Me     1963    I Saw Her Standing There\nThe Beatles for Sale  1964                    No Reply\nWith The Beatles      1963          Till There Was You\ndtype: object"
     },
     "execution_count": 84,
     "metadata": {},
     "output_type": "execute_result"
    }
   ],
   "source": [
    "s_df.stack()"
   ]
  },
  {
   "cell_type": "markdown",
   "metadata": {
    "pycharm": {
     "name": "#%% md\n"
    }
   },
   "source": [
    "#### *reset_index()* and *set_index()*"
   ]
  },
  {
   "cell_type": "code",
   "execution_count": 88,
   "metadata": {
    "pycharm": {
     "name": "#%%\n"
    }
   },
   "outputs": [
    {
     "data": {
      "text/plain": "Year  Album               \n1964  A Hard Day's Night          Things We Said Today\n      The Beatles for Sale                    No Reply\n1963  Please, Please Me       I Saw Her Standing There\n      With The Beatles              Till There Was You\ndtype: object"
     },
     "metadata": {},
     "output_type": "display_data"
    },
    {
     "data": {
      "text/plain": "   Year                 Album                         0\n0  1964    A Hard Day's Night      Things We Said Today\n1  1964  The Beatles for Sale                  No Reply\n2  1963     Please, Please Me  I Saw Her Standing There\n3  1963      With The Beatles        Till There Was You",
      "text/html": "<div>\n<style scoped>\n    .dataframe tbody tr th:only-of-type {\n        vertical-align: middle;\n    }\n\n    .dataframe tbody tr th {\n        vertical-align: top;\n    }\n\n    .dataframe thead th {\n        text-align: right;\n    }\n</style>\n<table border=\"1\" class=\"dataframe\">\n  <thead>\n    <tr style=\"text-align: right;\">\n      <th></th>\n      <th>Year</th>\n      <th>Album</th>\n      <th>0</th>\n    </tr>\n  </thead>\n  <tbody>\n    <tr>\n      <th>0</th>\n      <td>1964</td>\n      <td>A Hard Day's Night</td>\n      <td>Things We Said Today</td>\n    </tr>\n    <tr>\n      <th>1</th>\n      <td>1964</td>\n      <td>The Beatles for Sale</td>\n      <td>No Reply</td>\n    </tr>\n    <tr>\n      <th>2</th>\n      <td>1963</td>\n      <td>Please, Please Me</td>\n      <td>I Saw Her Standing There</td>\n    </tr>\n    <tr>\n      <th>3</th>\n      <td>1963</td>\n      <td>With The Beatles</td>\n      <td>Till There Was You</td>\n    </tr>\n  </tbody>\n</table>\n</div>"
     },
     "execution_count": 88,
     "metadata": {},
     "output_type": "execute_result"
    }
   ],
   "source": [
    "indices = pd.MultiIndex.from_tuples([(1964, 'A Hard Day\\'s Night'),               # unsorted multi-index\n",
    "                                     (1964, 'The Beatles for Sale'),\n",
    "                                     (1963, 'Please, Please Me'),\n",
    "                                     (1963, 'With The Beatles')],\n",
    "                                    names=['Year', 'Album'])\n",
    "s = pd.Series(['Things We Said Today',\n",
    "               'No Reply',\n",
    "               'I Saw Her Standing There',\n",
    "               'Till There Was You'],\n",
    "              index=indices)\n",
    "display(s)\n",
    "\n",
    "s.reset_index()\n",
    "# display(type(s.reset_index()))              # pd.DataFrame"
   ]
  },
  {
   "cell_type": "code",
   "execution_count": 89,
   "metadata": {
    "scrolled": true,
    "pycharm": {
     "name": "#%%\n"
    }
   },
   "outputs": [
    {
     "data": {
      "text/plain": "   Year                 Album                      song\n0  1964    A Hard Day's Night      Things We Said Today\n1  1964  The Beatles for Sale                  No Reply\n2  1963     Please, Please Me  I Saw Her Standing There\n3  1963      With The Beatles        Till There Was You",
      "text/html": "<div>\n<style scoped>\n    .dataframe tbody tr th:only-of-type {\n        vertical-align: middle;\n    }\n\n    .dataframe tbody tr th {\n        vertical-align: top;\n    }\n\n    .dataframe thead th {\n        text-align: right;\n    }\n</style>\n<table border=\"1\" class=\"dataframe\">\n  <thead>\n    <tr style=\"text-align: right;\">\n      <th></th>\n      <th>Year</th>\n      <th>Album</th>\n      <th>song</th>\n    </tr>\n  </thead>\n  <tbody>\n    <tr>\n      <th>0</th>\n      <td>1964</td>\n      <td>A Hard Day's Night</td>\n      <td>Things We Said Today</td>\n    </tr>\n    <tr>\n      <th>1</th>\n      <td>1964</td>\n      <td>The Beatles for Sale</td>\n      <td>No Reply</td>\n    </tr>\n    <tr>\n      <th>2</th>\n      <td>1963</td>\n      <td>Please, Please Me</td>\n      <td>I Saw Her Standing There</td>\n    </tr>\n    <tr>\n      <th>3</th>\n      <td>1963</td>\n      <td>With The Beatles</td>\n      <td>Till There Was You</td>\n    </tr>\n  </tbody>\n</table>\n</div>"
     },
     "execution_count": 89,
     "metadata": {},
     "output_type": "execute_result"
    }
   ],
   "source": [
    "s.reset_index(name='song')"
   ]
  },
  {
   "cell_type": "code",
   "execution_count": 90,
   "metadata": {
    "pycharm": {
     "name": "#%%\n"
    }
   },
   "outputs": [
    {
     "data": {
      "text/plain": "   Year                 Album                      song\n0  1964    A Hard Day's Night      Things We Said Today\n1  1964  The Beatles for Sale                  No Reply\n2  1963     Please, Please Me  I Saw Her Standing There\n3  1963      With The Beatles        Till There Was You",
      "text/html": "<div>\n<style scoped>\n    .dataframe tbody tr th:only-of-type {\n        vertical-align: middle;\n    }\n\n    .dataframe tbody tr th {\n        vertical-align: top;\n    }\n\n    .dataframe thead th {\n        text-align: right;\n    }\n</style>\n<table border=\"1\" class=\"dataframe\">\n  <thead>\n    <tr style=\"text-align: right;\">\n      <th></th>\n      <th>Year</th>\n      <th>Album</th>\n      <th>song</th>\n    </tr>\n  </thead>\n  <tbody>\n    <tr>\n      <th>0</th>\n      <td>1964</td>\n      <td>A Hard Day's Night</td>\n      <td>Things We Said Today</td>\n    </tr>\n    <tr>\n      <th>1</th>\n      <td>1964</td>\n      <td>The Beatles for Sale</td>\n      <td>No Reply</td>\n    </tr>\n    <tr>\n      <th>2</th>\n      <td>1963</td>\n      <td>Please, Please Me</td>\n      <td>I Saw Her Standing There</td>\n    </tr>\n    <tr>\n      <th>3</th>\n      <td>1963</td>\n      <td>With The Beatles</td>\n      <td>Till There Was You</td>\n    </tr>\n  </tbody>\n</table>\n</div>"
     },
     "metadata": {},
     "output_type": "display_data"
    },
    {
     "data": {
      "text/plain": "pandas.core.frame.DataFrame"
     },
     "metadata": {},
     "output_type": "display_data"
    },
    {
     "data": {
      "text/plain": "                                               song\nYear Album                                         \n1964 A Hard Day's Night        Things We Said Today\n     The Beatles for Sale                  No Reply\n1963 Please, Please Me     I Saw Her Standing There\n     With The Beatles            Till There Was You",
      "text/html": "<div>\n<style scoped>\n    .dataframe tbody tr th:only-of-type {\n        vertical-align: middle;\n    }\n\n    .dataframe tbody tr th {\n        vertical-align: top;\n    }\n\n    .dataframe thead th {\n        text-align: right;\n    }\n</style>\n<table border=\"1\" class=\"dataframe\">\n  <thead>\n    <tr style=\"text-align: right;\">\n      <th></th>\n      <th></th>\n      <th>song</th>\n    </tr>\n    <tr>\n      <th>Year</th>\n      <th>Album</th>\n      <th></th>\n    </tr>\n  </thead>\n  <tbody>\n    <tr>\n      <th rowspan=\"2\" valign=\"top\">1964</th>\n      <th>A Hard Day's Night</th>\n      <td>Things We Said Today</td>\n    </tr>\n    <tr>\n      <th>The Beatles for Sale</th>\n      <td>No Reply</td>\n    </tr>\n    <tr>\n      <th rowspan=\"2\" valign=\"top\">1963</th>\n      <th>Please, Please Me</th>\n      <td>I Saw Her Standing There</td>\n    </tr>\n    <tr>\n      <th>With The Beatles</th>\n      <td>Till There Was You</td>\n    </tr>\n  </tbody>\n</table>\n</div>"
     },
     "execution_count": 90,
     "metadata": {},
     "output_type": "execute_result"
    }
   ],
   "source": [
    "s_flat = s.reset_index(name='song')\n",
    "display(s_flat)\n",
    "display(type(s_flat))\n",
    "\n",
    "s_flat.set_index(['Year', 'Album'])\n",
    "# s_flat.set_index(['Album', 'Year'])\n",
    "# display(type(s_flat.set_index(['Album', 'Year'])))              # pd.DataFrame"
   ]
  },
  {
   "cell_type": "markdown",
   "metadata": {
    "pycharm": {
     "name": "#%% md\n"
    }
   },
   "source": [
    "### Data aggregations on multi-indices\n",
    "For hierarchically indexed data, data aggregation methods (`mean()`, `sum()`, `max()`,...) can be passed a `level` parameter that controls which subset of the data the aggregate is computed on."
   ]
  },
  {
   "cell_type": "markdown",
   "metadata": {
    "pycharm": {
     "name": "#%% md\n"
    }
   },
   "source": [
    "Prepare some data:"
   ]
  },
  {
   "cell_type": "code",
   "execution_count": 91,
   "metadata": {
    "pycharm": {
     "name": "#%%\n"
    }
   },
   "outputs": [
    {
     "data": {
      "text/plain": "                              Title  Length  Releases\nYear Album                                           \n1967 Sgt. Pepper  A Day in the Life     300        50\n1969 Abbey Road             Because     200         5\n     Abbey Road     Golden Slumbers     100        30\n1967 Sgt. Pepper        Lovely Rita     150         8",
      "text/html": "<div>\n<style scoped>\n    .dataframe tbody tr th:only-of-type {\n        vertical-align: middle;\n    }\n\n    .dataframe tbody tr th {\n        vertical-align: top;\n    }\n\n    .dataframe thead th {\n        text-align: right;\n    }\n</style>\n<table border=\"1\" class=\"dataframe\">\n  <thead>\n    <tr style=\"text-align: right;\">\n      <th></th>\n      <th></th>\n      <th>Title</th>\n      <th>Length</th>\n      <th>Releases</th>\n    </tr>\n    <tr>\n      <th>Year</th>\n      <th>Album</th>\n      <th></th>\n      <th></th>\n      <th></th>\n    </tr>\n  </thead>\n  <tbody>\n    <tr>\n      <th>1967</th>\n      <th>Sgt. Pepper</th>\n      <td>A Day in the Life</td>\n      <td>300</td>\n      <td>50</td>\n    </tr>\n    <tr>\n      <th rowspan=\"2\" valign=\"top\">1969</th>\n      <th>Abbey Road</th>\n      <td>Because</td>\n      <td>200</td>\n      <td>5</td>\n    </tr>\n    <tr>\n      <th>Abbey Road</th>\n      <td>Golden Slumbers</td>\n      <td>100</td>\n      <td>30</td>\n    </tr>\n    <tr>\n      <th>1967</th>\n      <th>Sgt. Pepper</th>\n      <td>Lovely Rita</td>\n      <td>150</td>\n      <td>8</td>\n    </tr>\n  </tbody>\n</table>\n</div>"
     },
     "metadata": {},
     "output_type": "display_data"
    },
    {
     "data": {
      "text/plain": "                              Title  Length  Releases\nYear Album                                           \n1967 Sgt. Pepper  A Day in the Life     300        50\n     Sgt. Pepper        Lovely Rita     150         8\n1969 Abbey Road             Because     200         5\n     Abbey Road     Golden Slumbers     100        30",
      "text/html": "<div>\n<style scoped>\n    .dataframe tbody tr th:only-of-type {\n        vertical-align: middle;\n    }\n\n    .dataframe tbody tr th {\n        vertical-align: top;\n    }\n\n    .dataframe thead th {\n        text-align: right;\n    }\n</style>\n<table border=\"1\" class=\"dataframe\">\n  <thead>\n    <tr style=\"text-align: right;\">\n      <th></th>\n      <th></th>\n      <th>Title</th>\n      <th>Length</th>\n      <th>Releases</th>\n    </tr>\n    <tr>\n      <th>Year</th>\n      <th>Album</th>\n      <th></th>\n      <th></th>\n      <th></th>\n    </tr>\n  </thead>\n  <tbody>\n    <tr>\n      <th rowspan=\"2\" valign=\"top\">1967</th>\n      <th>Sgt. Pepper</th>\n      <td>A Day in the Life</td>\n      <td>300</td>\n      <td>50</td>\n    </tr>\n    <tr>\n      <th>Sgt. Pepper</th>\n      <td>Lovely Rita</td>\n      <td>150</td>\n      <td>8</td>\n    </tr>\n    <tr>\n      <th rowspan=\"2\" valign=\"top\">1969</th>\n      <th>Abbey Road</th>\n      <td>Because</td>\n      <td>200</td>\n      <td>5</td>\n    </tr>\n    <tr>\n      <th>Abbey Road</th>\n      <td>Golden Slumbers</td>\n      <td>100</td>\n      <td>30</td>\n    </tr>\n  </tbody>\n</table>\n</div>"
     },
     "execution_count": 91,
     "metadata": {},
     "output_type": "execute_result"
    }
   ],
   "source": [
    "indices = pd.MultiIndex.from_tuples([(1967, 'Sgt. Pepper'),\n",
    "                                     (1969, 'Abbey Road'),\n",
    "                                     (1969, 'Abbey Road'), \n",
    "                                     (1967, 'Sgt. Pepper')], \n",
    "                                    names=['Year', 'Album'])\n",
    "\n",
    "titles = ['A Day in the Life', 'Because', 'Golden Slumbers', 'Lovely Rita']\n",
    "lengths = [300, 200, 100, 150]\n",
    "releases = [50, 5, 30, 8]\n",
    "\n",
    "s_titles = pd.Series(titles, index=indices)\n",
    "s_lengths = pd.Series(lengths, index=indices)\n",
    "s_releases = pd.Series(releases, index=indices)\n",
    "\n",
    "songs = pd.DataFrame({'Title':s_titles, 'Length':s_lengths, 'Releases':s_releases},\n",
    "                     index=indices)\n",
    "display(songs)\n",
    "\n",
    "songs = songs.sort_index()\n",
    "songs"
   ]
  },
  {
   "cell_type": "markdown",
   "metadata": {
    "pycharm": {
     "name": "#%% md\n"
    }
   },
   "source": [
    "Run some aggregation operations on the data (use `drop()` to leave out some columns from the data frame if necessary; use `to_numeric()` or `astype()` to convert the type of columns in the resulting dataframe, if needed (see [this](https://stackoverflow.com/a/28648923) for details)):"
   ]
  },
  {
   "cell_type": "code",
   "execution_count": 92,
   "metadata": {
    "pycharm": {
     "name": "#%%\n"
    }
   },
   "outputs": [
    {
     "name": "stderr",
     "output_type": "stream",
     "text": [
      "C:\\Users\\Vladan\\AppData\\Local\\Temp\\ipykernel_33028\\1167750802.py:3: FutureWarning: Using the level keyword in DataFrame and Series aggregations is deprecated and will be removed in a future version. Use groupby instead. df.median(level=1) should use df.groupby(level=1).median().\n",
      "  means_by_year = songs.drop(columns='Title').mean(level='Year')\n"
     ]
    },
    {
     "data": {
      "text/plain": "      Length  Releases\nYear                  \n1967     225        29\n1969     150        18",
      "text/html": "<div>\n<style scoped>\n    .dataframe tbody tr th:only-of-type {\n        vertical-align: middle;\n    }\n\n    .dataframe tbody tr th {\n        vertical-align: top;\n    }\n\n    .dataframe thead th {\n        text-align: right;\n    }\n</style>\n<table border=\"1\" class=\"dataframe\">\n  <thead>\n    <tr style=\"text-align: right;\">\n      <th></th>\n      <th>Length</th>\n      <th>Releases</th>\n    </tr>\n    <tr>\n      <th>Year</th>\n      <th></th>\n      <th></th>\n    </tr>\n  </thead>\n  <tbody>\n    <tr>\n      <th>1967</th>\n      <td>225</td>\n      <td>29</td>\n    </tr>\n    <tr>\n      <th>1969</th>\n      <td>150</td>\n      <td>18</td>\n    </tr>\n  </tbody>\n</table>\n</div>"
     },
     "execution_count": 92,
     "metadata": {},
     "output_type": "execute_result"
    }
   ],
   "source": [
    "# Compute mean song lengths and song releases by year\n",
    "# means_by_year = songs.drop(columns='Title')                           # just testing\n",
    "means_by_year = songs.drop(columns='Title').mean(level='Year')\n",
    "# means_by_year['Length'] = \\\n",
    "#   pd.to_numeric(round(means_by_year['Length']), downcast='integer')   # converts float output to int; round() is desirable\n",
    "# means_by_year['Releases'] = \\\n",
    "#   pd.to_numeric(round(means_by_year['Releases']), downcast='integer') # converts float output to int; round() is desirable\n",
    "# means_by_year = means_by_year.round().astype(int)                     # converts all columns to int; round() is desirable\n",
    "means_by_year = \\\n",
    "  means_by_year[['Length', 'Releases']].round().astype(int)             # converts selected columns to int; round() is desirable\n",
    "means_by_year"
   ]
  },
  {
   "cell_type": "code",
   "execution_count": 93,
   "metadata": {
    "scrolled": true,
    "pycharm": {
     "name": "#%%\n"
    }
   },
   "outputs": [
    {
     "name": "stderr",
     "output_type": "stream",
     "text": [
      "C:\\Users\\Vladan\\AppData\\Local\\Temp\\ipykernel_33028\\2404931486.py:2: FutureWarning: Using the level keyword in DataFrame and Series aggregations is deprecated and will be removed in a future version. Use groupby instead. df.median(level=1) should use df.groupby(level=1).median().\n",
      "  max_by_album = songs.drop(columns='Title').max(level='Album')\n"
     ]
    },
    {
     "data": {
      "text/plain": "             Length  Releases\nAlbum                        \nSgt. Pepper     300        50\nAbbey Road      200        30",
      "text/html": "<div>\n<style scoped>\n    .dataframe tbody tr th:only-of-type {\n        vertical-align: middle;\n    }\n\n    .dataframe tbody tr th {\n        vertical-align: top;\n    }\n\n    .dataframe thead th {\n        text-align: right;\n    }\n</style>\n<table border=\"1\" class=\"dataframe\">\n  <thead>\n    <tr style=\"text-align: right;\">\n      <th></th>\n      <th>Length</th>\n      <th>Releases</th>\n    </tr>\n    <tr>\n      <th>Album</th>\n      <th></th>\n      <th></th>\n    </tr>\n  </thead>\n  <tbody>\n    <tr>\n      <th>Sgt. Pepper</th>\n      <td>300</td>\n      <td>50</td>\n    </tr>\n    <tr>\n      <th>Abbey Road</th>\n      <td>200</td>\n      <td>30</td>\n    </tr>\n  </tbody>\n</table>\n</div>"
     },
     "execution_count": 93,
     "metadata": {},
     "output_type": "execute_result"
    }
   ],
   "source": [
    "# Compute max song lengths and song releases by album\n",
    "max_by_album = songs.drop(columns='Title').max(level='Album')\n",
    "max_by_album"
   ]
  },
  {
   "cell_type": "code",
   "execution_count": 94,
   "metadata": {
    "pycharm": {
     "name": "#%%\n"
    }
   },
   "outputs": [
    {
     "data": {
      "text/plain": "Length      100\nReleases      5\ndtype: int64"
     },
     "execution_count": 94,
     "metadata": {},
     "output_type": "execute_result"
    }
   ],
   "source": [
    "# Compute overall min values\n",
    "min_overall = songs.drop(columns='Title').min()\n",
    "min_overall"
   ]
  },
  {
   "cell_type": "markdown",
   "metadata": {
    "pycharm": {
     "name": "#%% md\n"
    }
   },
   "source": [
    "## Combining datasets: *pd.concat()* and *pd.append()*\n",
    "Concatenating `pd.Series` and `pd.DataFrame` objects."
   ]
  },
  {
   "cell_type": "markdown",
   "metadata": {
    "pycharm": {
     "name": "#%% md\n"
    }
   },
   "source": [
    "### *pd.concat()*\n",
    "Accepts lists and tuples as arguments."
   ]
  },
  {
   "cell_type": "markdown",
   "metadata": {
    "pycharm": {
     "name": "#%% md\n"
    }
   },
   "source": [
    "#### Row-wise concatenation\n",
    "Default concatenation is row-wise."
   ]
  },
  {
   "cell_type": "code",
   "execution_count": 211,
   "metadata": {
    "pycharm": {
     "name": "#%%\n"
    }
   },
   "outputs": [
    {
     "data": {
      "text/plain": [
       "0    A Day in the Life\n",
       "1    Can't Buy Me Love\n",
       "dtype: object"
      ]
     },
     "metadata": {},
     "output_type": "display_data"
    },
    {
     "data": {
      "text/plain": [
       "0    Blackbird\n",
       "1       Taxman\n",
       "dtype: object"
      ]
     },
     "metadata": {},
     "output_type": "display_data"
    },
    {
     "data": {
      "text/plain": [
       "0    A Day in the Life\n",
       "1    Can't Buy Me Love\n",
       "0            Blackbird\n",
       "1               Taxman\n",
       "dtype: object"
      ]
     },
     "metadata": {},
     "output_type": "display_data"
    },
    {
     "data": {
      "text/html": [
       "<div>\n",
       "<style scoped>\n",
       "    .dataframe tbody tr th:only-of-type {\n",
       "        vertical-align: middle;\n",
       "    }\n",
       "\n",
       "    .dataframe tbody tr th {\n",
       "        vertical-align: top;\n",
       "    }\n",
       "\n",
       "    .dataframe thead th {\n",
       "        text-align: right;\n",
       "    }\n",
       "</style>\n",
       "<table border=\"1\" class=\"dataframe\">\n",
       "  <thead>\n",
       "    <tr style=\"text-align: right;\">\n",
       "      <th></th>\n",
       "      <th>Title</th>\n",
       "      <th>Length</th>\n",
       "    </tr>\n",
       "  </thead>\n",
       "  <tbody>\n",
       "    <tr>\n",
       "      <th>0</th>\n",
       "      <td>A Day in the Life</td>\n",
       "      <td>300</td>\n",
       "    </tr>\n",
       "    <tr>\n",
       "      <th>1</th>\n",
       "      <td>Can't Buy Me Love</td>\n",
       "      <td>150</td>\n",
       "    </tr>\n",
       "    <tr>\n",
       "      <th>2</th>\n",
       "      <td>Blackbird</td>\n",
       "      <td>120</td>\n",
       "    </tr>\n",
       "    <tr>\n",
       "      <th>3</th>\n",
       "      <td>Taxman</td>\n",
       "      <td>160</td>\n",
       "    </tr>\n",
       "  </tbody>\n",
       "</table>\n",
       "</div>"
      ],
      "text/plain": [
       "               Title  Length\n",
       "0  A Day in the Life     300\n",
       "1  Can't Buy Me Love     150\n",
       "2          Blackbird     120\n",
       "3             Taxman     160"
      ]
     },
     "metadata": {},
     "output_type": "display_data"
    },
    {
     "data": {
      "text/html": [
       "<div>\n",
       "<style scoped>\n",
       "    .dataframe tbody tr th:only-of-type {\n",
       "        vertical-align: middle;\n",
       "    }\n",
       "\n",
       "    .dataframe tbody tr th {\n",
       "        vertical-align: top;\n",
       "    }\n",
       "\n",
       "    .dataframe thead th {\n",
       "        text-align: right;\n",
       "    }\n",
       "</style>\n",
       "<table border=\"1\" class=\"dataframe\">\n",
       "  <thead>\n",
       "    <tr style=\"text-align: right;\">\n",
       "      <th></th>\n",
       "      <th>Title</th>\n",
       "      <th>Length</th>\n",
       "    </tr>\n",
       "  </thead>\n",
       "  <tbody>\n",
       "    <tr>\n",
       "      <th>0</th>\n",
       "      <td>A Day in the Life</td>\n",
       "      <td>300</td>\n",
       "    </tr>\n",
       "    <tr>\n",
       "      <th>1</th>\n",
       "      <td>Can't Buy Me Love</td>\n",
       "      <td>150</td>\n",
       "    </tr>\n",
       "    <tr>\n",
       "      <th>2</th>\n",
       "      <td>Blackbird</td>\n",
       "      <td>120</td>\n",
       "    </tr>\n",
       "    <tr>\n",
       "      <th>3</th>\n",
       "      <td>Taxman</td>\n",
       "      <td>160</td>\n",
       "    </tr>\n",
       "    <tr>\n",
       "      <th>0</th>\n",
       "      <td>A Day in the Life</td>\n",
       "      <td>300</td>\n",
       "    </tr>\n",
       "    <tr>\n",
       "      <th>1</th>\n",
       "      <td>Can't Buy Me Love</td>\n",
       "      <td>150</td>\n",
       "    </tr>\n",
       "    <tr>\n",
       "      <th>2</th>\n",
       "      <td>Blackbird</td>\n",
       "      <td>120</td>\n",
       "    </tr>\n",
       "    <tr>\n",
       "      <th>3</th>\n",
       "      <td>Taxman</td>\n",
       "      <td>160</td>\n",
       "    </tr>\n",
       "  </tbody>\n",
       "</table>\n",
       "</div>"
      ],
      "text/plain": [
       "               Title  Length\n",
       "0  A Day in the Life     300\n",
       "1  Can't Buy Me Love     150\n",
       "2          Blackbird     120\n",
       "3             Taxman     160\n",
       "0  A Day in the Life     300\n",
       "1  Can't Buy Me Love     150\n",
       "2          Blackbird     120\n",
       "3             Taxman     160"
      ]
     },
     "execution_count": 211,
     "metadata": {},
     "output_type": "execute_result"
    }
   ],
   "source": [
    "titles = ['A Day in the Life', 'Can\\'t Buy Me Love', 'Blackbird', 'Taxman']\n",
    "s1 = pd.Series(titles[0:2])\n",
    "s2 = pd.Series(titles[-2:])\n",
    "display(s1)\n",
    "display(s2)\n",
    "\n",
    "s = pd.concat([s1, s2])\n",
    "display(s)\n",
    "\n",
    "lengths = [300, 150, 120, 160]\n",
    "\n",
    "s = pd.DataFrame({'Title':titles, 'Length':lengths})\n",
    "display(s)\n",
    "\n",
    "ss = pd.concat((s, s))\n",
    "ss"
   ]
  },
  {
   "cell_type": "markdown",
   "metadata": {
    "pycharm": {
     "name": "#%% md\n"
    }
   },
   "source": [
    "#### Handling duplicate indices by creating a new index - the `ignore_index` parameter\n",
    "Duplicate indices can be handled with `ignore_index=True`:"
   ]
  },
  {
   "cell_type": "code",
   "execution_count": 212,
   "metadata": {
    "pycharm": {
     "name": "#%%\n"
    }
   },
   "outputs": [
    {
     "data": {
      "text/html": [
       "<div>\n",
       "<style scoped>\n",
       "    .dataframe tbody tr th:only-of-type {\n",
       "        vertical-align: middle;\n",
       "    }\n",
       "\n",
       "    .dataframe tbody tr th {\n",
       "        vertical-align: top;\n",
       "    }\n",
       "\n",
       "    .dataframe thead th {\n",
       "        text-align: right;\n",
       "    }\n",
       "</style>\n",
       "<table border=\"1\" class=\"dataframe\">\n",
       "  <thead>\n",
       "    <tr style=\"text-align: right;\">\n",
       "      <th></th>\n",
       "      <th>Title</th>\n",
       "      <th>Length</th>\n",
       "    </tr>\n",
       "  </thead>\n",
       "  <tbody>\n",
       "    <tr>\n",
       "      <th>0</th>\n",
       "      <td>A Day in the Life</td>\n",
       "      <td>300</td>\n",
       "    </tr>\n",
       "    <tr>\n",
       "      <th>1</th>\n",
       "      <td>Can't Buy Me Love</td>\n",
       "      <td>150</td>\n",
       "    </tr>\n",
       "    <tr>\n",
       "      <th>2</th>\n",
       "      <td>Blackbird</td>\n",
       "      <td>120</td>\n",
       "    </tr>\n",
       "    <tr>\n",
       "      <th>3</th>\n",
       "      <td>Taxman</td>\n",
       "      <td>160</td>\n",
       "    </tr>\n",
       "    <tr>\n",
       "      <th>4</th>\n",
       "      <td>A Day in the Life</td>\n",
       "      <td>300</td>\n",
       "    </tr>\n",
       "    <tr>\n",
       "      <th>5</th>\n",
       "      <td>Can't Buy Me Love</td>\n",
       "      <td>150</td>\n",
       "    </tr>\n",
       "    <tr>\n",
       "      <th>6</th>\n",
       "      <td>Blackbird</td>\n",
       "      <td>120</td>\n",
       "    </tr>\n",
       "    <tr>\n",
       "      <th>7</th>\n",
       "      <td>Taxman</td>\n",
       "      <td>160</td>\n",
       "    </tr>\n",
       "  </tbody>\n",
       "</table>\n",
       "</div>"
      ],
      "text/plain": [
       "               Title  Length\n",
       "0  A Day in the Life     300\n",
       "1  Can't Buy Me Love     150\n",
       "2          Blackbird     120\n",
       "3             Taxman     160\n",
       "4  A Day in the Life     300\n",
       "5  Can't Buy Me Love     150\n",
       "6          Blackbird     120\n",
       "7             Taxman     160"
      ]
     },
     "execution_count": 212,
     "metadata": {},
     "output_type": "execute_result"
    }
   ],
   "source": [
    "ss = pd.concat((s, s), ignore_index=True)\n",
    "ss"
   ]
  },
  {
   "cell_type": "markdown",
   "metadata": {
    "pycharm": {
     "name": "#%% md\n"
    }
   },
   "source": [
    "#### Handling duplicate indices by introducing multi-indices - the `keys` parameter\n",
    "Alternatively, multi-indices can be created using `keys` to label the data sources:"
   ]
  },
  {
   "cell_type": "code",
   "execution_count": 213,
   "metadata": {
    "pycharm": {
     "name": "#%%\n"
    }
   },
   "outputs": [
    {
     "data": {
      "text/html": [
       "<div>\n",
       "<style scoped>\n",
       "    .dataframe tbody tr th:only-of-type {\n",
       "        vertical-align: middle;\n",
       "    }\n",
       "\n",
       "    .dataframe tbody tr th {\n",
       "        vertical-align: top;\n",
       "    }\n",
       "\n",
       "    .dataframe thead th {\n",
       "        text-align: right;\n",
       "    }\n",
       "</style>\n",
       "<table border=\"1\" class=\"dataframe\">\n",
       "  <thead>\n",
       "    <tr style=\"text-align: right;\">\n",
       "      <th></th>\n",
       "      <th></th>\n",
       "      <th>Title</th>\n",
       "      <th>Length</th>\n",
       "    </tr>\n",
       "  </thead>\n",
       "  <tbody>\n",
       "    <tr>\n",
       "      <th rowspan=\"4\" valign=\"top\">1</th>\n",
       "      <th>0</th>\n",
       "      <td>A Day in the Life</td>\n",
       "      <td>300</td>\n",
       "    </tr>\n",
       "    <tr>\n",
       "      <th>1</th>\n",
       "      <td>Can't Buy Me Love</td>\n",
       "      <td>150</td>\n",
       "    </tr>\n",
       "    <tr>\n",
       "      <th>2</th>\n",
       "      <td>Blackbird</td>\n",
       "      <td>120</td>\n",
       "    </tr>\n",
       "    <tr>\n",
       "      <th>3</th>\n",
       "      <td>Taxman</td>\n",
       "      <td>160</td>\n",
       "    </tr>\n",
       "    <tr>\n",
       "      <th rowspan=\"4\" valign=\"top\">2</th>\n",
       "      <th>0</th>\n",
       "      <td>A Day in the Life</td>\n",
       "      <td>300</td>\n",
       "    </tr>\n",
       "    <tr>\n",
       "      <th>1</th>\n",
       "      <td>Can't Buy Me Love</td>\n",
       "      <td>150</td>\n",
       "    </tr>\n",
       "    <tr>\n",
       "      <th>2</th>\n",
       "      <td>Blackbird</td>\n",
       "      <td>120</td>\n",
       "    </tr>\n",
       "    <tr>\n",
       "      <th>3</th>\n",
       "      <td>Taxman</td>\n",
       "      <td>160</td>\n",
       "    </tr>\n",
       "  </tbody>\n",
       "</table>\n",
       "</div>"
      ],
      "text/plain": [
       "                 Title  Length\n",
       "1 0  A Day in the Life     300\n",
       "  1  Can't Buy Me Love     150\n",
       "  2          Blackbird     120\n",
       "  3             Taxman     160\n",
       "2 0  A Day in the Life     300\n",
       "  1  Can't Buy Me Love     150\n",
       "  2          Blackbird     120\n",
       "  3             Taxman     160"
      ]
     },
     "execution_count": 213,
     "metadata": {},
     "output_type": "execute_result"
    }
   ],
   "source": [
    "ss = pd.concat((s, s), keys=(1, 2))\n",
    "ss"
   ]
  },
  {
   "cell_type": "markdown",
   "metadata": {
    "pycharm": {
     "name": "#%% md\n"
    }
   },
   "source": [
    "#### Column-wise concatenation\n",
    "To concatenate column-wise, use `axis=1`:"
   ]
  },
  {
   "cell_type": "code",
   "execution_count": 214,
   "metadata": {
    "pycharm": {
     "name": "#%%\n"
    }
   },
   "outputs": [
    {
     "data": {
      "text/html": [
       "<div>\n",
       "<style scoped>\n",
       "    .dataframe tbody tr th:only-of-type {\n",
       "        vertical-align: middle;\n",
       "    }\n",
       "\n",
       "    .dataframe tbody tr th {\n",
       "        vertical-align: top;\n",
       "    }\n",
       "\n",
       "    .dataframe thead th {\n",
       "        text-align: right;\n",
       "    }\n",
       "</style>\n",
       "<table border=\"1\" class=\"dataframe\">\n",
       "  <thead>\n",
       "    <tr style=\"text-align: right;\">\n",
       "      <th></th>\n",
       "      <th>Title</th>\n",
       "      <th>Length</th>\n",
       "      <th>Title</th>\n",
       "      <th>Length</th>\n",
       "    </tr>\n",
       "  </thead>\n",
       "  <tbody>\n",
       "    <tr>\n",
       "      <th>0</th>\n",
       "      <td>A Day in the Life</td>\n",
       "      <td>300</td>\n",
       "      <td>A Day in the Life</td>\n",
       "      <td>300</td>\n",
       "    </tr>\n",
       "    <tr>\n",
       "      <th>1</th>\n",
       "      <td>Can't Buy Me Love</td>\n",
       "      <td>150</td>\n",
       "      <td>Can't Buy Me Love</td>\n",
       "      <td>150</td>\n",
       "    </tr>\n",
       "    <tr>\n",
       "      <th>2</th>\n",
       "      <td>Blackbird</td>\n",
       "      <td>120</td>\n",
       "      <td>Blackbird</td>\n",
       "      <td>120</td>\n",
       "    </tr>\n",
       "    <tr>\n",
       "      <th>3</th>\n",
       "      <td>Taxman</td>\n",
       "      <td>160</td>\n",
       "      <td>Taxman</td>\n",
       "      <td>160</td>\n",
       "    </tr>\n",
       "  </tbody>\n",
       "</table>\n",
       "</div>"
      ],
      "text/plain": [
       "               Title  Length              Title  Length\n",
       "0  A Day in the Life     300  A Day in the Life     300\n",
       "1  Can't Buy Me Love     150  Can't Buy Me Love     150\n",
       "2          Blackbird     120          Blackbird     120\n",
       "3             Taxman     160             Taxman     160"
      ]
     },
     "metadata": {},
     "output_type": "display_data"
    },
    {
     "data": {
      "text/html": [
       "<div>\n",
       "<style scoped>\n",
       "    .dataframe tbody tr th:only-of-type {\n",
       "        vertical-align: middle;\n",
       "    }\n",
       "\n",
       "    .dataframe tbody tr th {\n",
       "        vertical-align: top;\n",
       "    }\n",
       "\n",
       "    .dataframe thead th {\n",
       "        text-align: right;\n",
       "    }\n",
       "</style>\n",
       "<table border=\"1\" class=\"dataframe\">\n",
       "  <thead>\n",
       "    <tr style=\"text-align: right;\">\n",
       "      <th></th>\n",
       "      <th>Title</th>\n",
       "      <th>Length</th>\n",
       "      <th>No. of releases</th>\n",
       "    </tr>\n",
       "  </thead>\n",
       "  <tbody>\n",
       "    <tr>\n",
       "      <th>0</th>\n",
       "      <td>A Day in the Life</td>\n",
       "      <td>300</td>\n",
       "      <td>20</td>\n",
       "    </tr>\n",
       "    <tr>\n",
       "      <th>1</th>\n",
       "      <td>Can't Buy Me Love</td>\n",
       "      <td>150</td>\n",
       "      <td>100</td>\n",
       "    </tr>\n",
       "    <tr>\n",
       "      <th>2</th>\n",
       "      <td>Blackbird</td>\n",
       "      <td>120</td>\n",
       "      <td>10</td>\n",
       "    </tr>\n",
       "    <tr>\n",
       "      <th>3</th>\n",
       "      <td>Taxman</td>\n",
       "      <td>160</td>\n",
       "      <td>8</td>\n",
       "    </tr>\n",
       "  </tbody>\n",
       "</table>\n",
       "</div>"
      ],
      "text/plain": [
       "               Title  Length  No. of releases\n",
       "0  A Day in the Life     300               20\n",
       "1  Can't Buy Me Love     150              100\n",
       "2          Blackbird     120               10\n",
       "3             Taxman     160                8"
      ]
     },
     "execution_count": 214,
     "metadata": {},
     "output_type": "execute_result"
    }
   ],
   "source": [
    "ss = pd.concat([s, s], axis=1)\n",
    "display(ss)\n",
    "\n",
    "releases = pd.Series([20, 100, 10, 8], name='No. of releases')\n",
    "ss = pd.concat([s, releases], axis=1)\n",
    "ss\n",
    "\n",
    "# Alternatively, to add the 'No. of releases' column to s:\n",
    "# s['No. of releases'] = releases\n",
    "# s"
   ]
  },
  {
   "cell_type": "markdown",
   "metadata": {
    "pycharm": {
     "name": "#%% md\n"
    }
   },
   "source": [
    "#### Concatenation with joins\n",
    "Happens when the `pd.DataFrame` objects don't have all columns in common. By default, the entries for which no data is available are filled with NA values:"
   ]
  },
  {
   "cell_type": "code",
   "execution_count": 215,
   "metadata": {
    "pycharm": {
     "name": "#%%\n"
    }
   },
   "outputs": [
    {
     "data": {
      "text/html": [
       "<div>\n",
       "<style scoped>\n",
       "    .dataframe tbody tr th:only-of-type {\n",
       "        vertical-align: middle;\n",
       "    }\n",
       "\n",
       "    .dataframe tbody tr th {\n",
       "        vertical-align: top;\n",
       "    }\n",
       "\n",
       "    .dataframe thead th {\n",
       "        text-align: right;\n",
       "    }\n",
       "</style>\n",
       "<table border=\"1\" class=\"dataframe\">\n",
       "  <thead>\n",
       "    <tr style=\"text-align: right;\">\n",
       "      <th></th>\n",
       "      <th>Title</th>\n",
       "      <th>Length</th>\n",
       "    </tr>\n",
       "  </thead>\n",
       "  <tbody>\n",
       "    <tr>\n",
       "      <th>0</th>\n",
       "      <td>A Day in the Life</td>\n",
       "      <td>300.0</td>\n",
       "    </tr>\n",
       "    <tr>\n",
       "      <th>1</th>\n",
       "      <td>Can't Buy Me Love</td>\n",
       "      <td>150.0</td>\n",
       "    </tr>\n",
       "    <tr>\n",
       "      <th>0</th>\n",
       "      <td>Blackbird</td>\n",
       "      <td>NaN</td>\n",
       "    </tr>\n",
       "    <tr>\n",
       "      <th>1</th>\n",
       "      <td>Taxman</td>\n",
       "      <td>NaN</td>\n",
       "    </tr>\n",
       "  </tbody>\n",
       "</table>\n",
       "</div>"
      ],
      "text/plain": [
       "               Title  Length\n",
       "0  A Day in the Life   300.0\n",
       "1  Can't Buy Me Love   150.0\n",
       "0          Blackbird     NaN\n",
       "1             Taxman     NaN"
      ]
     },
     "execution_count": 215,
     "metadata": {},
     "output_type": "execute_result"
    }
   ],
   "source": [
    "d1 = pd.DataFrame({'Title':pd.Series(['A Day in the Life', 'Can\\'t Buy Me Love']), \n",
    "                   'Length':pd.Series([300, 150])})\n",
    "d2 = pd.DataFrame({'Title':pd.Series(['Blackbird', 'Taxman'])})\n",
    "s = pd.concat([d1, d2])\n",
    "s"
   ]
  },
  {
   "cell_type": "markdown",
   "metadata": {
    "pycharm": {
     "name": "#%% md\n"
    }
   },
   "source": [
    "By default, the join is a union of the input columns (`join='outer'`), but we can change this to an intersection of the columns using `join='inner'`:"
   ]
  },
  {
   "cell_type": "code",
   "execution_count": 216,
   "metadata": {
    "pycharm": {
     "name": "#%%\n"
    }
   },
   "outputs": [
    {
     "data": {
      "text/html": [
       "<div>\n",
       "<style scoped>\n",
       "    .dataframe tbody tr th:only-of-type {\n",
       "        vertical-align: middle;\n",
       "    }\n",
       "\n",
       "    .dataframe tbody tr th {\n",
       "        vertical-align: top;\n",
       "    }\n",
       "\n",
       "    .dataframe thead th {\n",
       "        text-align: right;\n",
       "    }\n",
       "</style>\n",
       "<table border=\"1\" class=\"dataframe\">\n",
       "  <thead>\n",
       "    <tr style=\"text-align: right;\">\n",
       "      <th></th>\n",
       "      <th>Title</th>\n",
       "    </tr>\n",
       "  </thead>\n",
       "  <tbody>\n",
       "    <tr>\n",
       "      <th>0</th>\n",
       "      <td>A Day in the Life</td>\n",
       "    </tr>\n",
       "    <tr>\n",
       "      <th>1</th>\n",
       "      <td>Can't Buy Me Love</td>\n",
       "    </tr>\n",
       "    <tr>\n",
       "      <th>0</th>\n",
       "      <td>Blackbird</td>\n",
       "    </tr>\n",
       "    <tr>\n",
       "      <th>1</th>\n",
       "      <td>Taxman</td>\n",
       "    </tr>\n",
       "  </tbody>\n",
       "</table>\n",
       "</div>"
      ],
      "text/plain": [
       "               Title\n",
       "0  A Day in the Life\n",
       "1  Can't Buy Me Love\n",
       "0          Blackbird\n",
       "1             Taxman"
      ]
     },
     "execution_count": 216,
     "metadata": {},
     "output_type": "execute_result"
    }
   ],
   "source": [
    "s = pd.concat([d1, d2], join='inner')\n",
    "s"
   ]
  },
  {
   "cell_type": "markdown",
   "metadata": {
    "pycharm": {
     "name": "#%% md\n"
    }
   },
   "source": [
    "To specify the columns to be used in the join, use `reindex()`. For example, to reindex `s2` to match `s1` columns, or vice versa:"
   ]
  },
  {
   "cell_type": "code",
   "execution_count": 217,
   "metadata": {
    "pycharm": {
     "name": "#%%\n"
    }
   },
   "outputs": [
    {
     "data": {
      "text/html": [
       "<div>\n",
       "<style scoped>\n",
       "    .dataframe tbody tr th:only-of-type {\n",
       "        vertical-align: middle;\n",
       "    }\n",
       "\n",
       "    .dataframe tbody tr th {\n",
       "        vertical-align: top;\n",
       "    }\n",
       "\n",
       "    .dataframe thead th {\n",
       "        text-align: right;\n",
       "    }\n",
       "</style>\n",
       "<table border=\"1\" class=\"dataframe\">\n",
       "  <thead>\n",
       "    <tr style=\"text-align: right;\">\n",
       "      <th></th>\n",
       "      <th>Title</th>\n",
       "      <th>Length</th>\n",
       "      <th>No. of releases</th>\n",
       "    </tr>\n",
       "  </thead>\n",
       "  <tbody>\n",
       "    <tr>\n",
       "      <th>0</th>\n",
       "      <td>A Day in the Life</td>\n",
       "      <td>300</td>\n",
       "      <td>20</td>\n",
       "    </tr>\n",
       "    <tr>\n",
       "      <th>1</th>\n",
       "      <td>Can't Buy Me Love</td>\n",
       "      <td>150</td>\n",
       "      <td>100</td>\n",
       "    </tr>\n",
       "  </tbody>\n",
       "</table>\n",
       "</div>"
      ],
      "text/plain": [
       "               Title  Length  No. of releases\n",
       "0  A Day in the Life     300               20\n",
       "1  Can't Buy Me Love     150              100"
      ]
     },
     "metadata": {},
     "output_type": "display_data"
    },
    {
     "data": {
      "text/html": [
       "<div>\n",
       "<style scoped>\n",
       "    .dataframe tbody tr th:only-of-type {\n",
       "        vertical-align: middle;\n",
       "    }\n",
       "\n",
       "    .dataframe tbody tr th {\n",
       "        vertical-align: top;\n",
       "    }\n",
       "\n",
       "    .dataframe thead th {\n",
       "        text-align: right;\n",
       "    }\n",
       "</style>\n",
       "<table border=\"1\" class=\"dataframe\">\n",
       "  <thead>\n",
       "    <tr style=\"text-align: right;\">\n",
       "      <th></th>\n",
       "      <th>Title</th>\n",
       "      <th>No. of releases</th>\n",
       "    </tr>\n",
       "  </thead>\n",
       "  <tbody>\n",
       "    <tr>\n",
       "      <th>0</th>\n",
       "      <td>Blackbird</td>\n",
       "      <td>10</td>\n",
       "    </tr>\n",
       "    <tr>\n",
       "      <th>1</th>\n",
       "      <td>Taxman</td>\n",
       "      <td>8</td>\n",
       "    </tr>\n",
       "  </tbody>\n",
       "</table>\n",
       "</div>"
      ],
      "text/plain": [
       "       Title  No. of releases\n",
       "0  Blackbird               10\n",
       "1     Taxman                8"
      ]
     },
     "metadata": {},
     "output_type": "display_data"
    },
    {
     "data": {
      "text/html": [
       "<div>\n",
       "<style scoped>\n",
       "    .dataframe tbody tr th:only-of-type {\n",
       "        vertical-align: middle;\n",
       "    }\n",
       "\n",
       "    .dataframe tbody tr th {\n",
       "        vertical-align: top;\n",
       "    }\n",
       "\n",
       "    .dataframe thead th {\n",
       "        text-align: right;\n",
       "    }\n",
       "</style>\n",
       "<table border=\"1\" class=\"dataframe\">\n",
       "  <thead>\n",
       "    <tr style=\"text-align: right;\">\n",
       "      <th></th>\n",
       "      <th>Title</th>\n",
       "      <th>No. of releases</th>\n",
       "    </tr>\n",
       "  </thead>\n",
       "  <tbody>\n",
       "    <tr>\n",
       "      <th>0</th>\n",
       "      <td>A Day in the Life</td>\n",
       "      <td>20</td>\n",
       "    </tr>\n",
       "    <tr>\n",
       "      <th>1</th>\n",
       "      <td>Can't Buy Me Love</td>\n",
       "      <td>100</td>\n",
       "    </tr>\n",
       "    <tr>\n",
       "      <th>0</th>\n",
       "      <td>Blackbird</td>\n",
       "      <td>10</td>\n",
       "    </tr>\n",
       "    <tr>\n",
       "      <th>1</th>\n",
       "      <td>Taxman</td>\n",
       "      <td>8</td>\n",
       "    </tr>\n",
       "  </tbody>\n",
       "</table>\n",
       "</div>"
      ],
      "text/plain": [
       "               Title  No. of releases\n",
       "0  A Day in the Life               20\n",
       "1  Can't Buy Me Love              100\n",
       "0          Blackbird               10\n",
       "1             Taxman                8"
      ]
     },
     "execution_count": 217,
     "metadata": {},
     "output_type": "execute_result"
    }
   ],
   "source": [
    "d1['No. of releases'] = pd.Series([20, 100])\n",
    "d2['No. of releases'] = pd.Series([10, 8])\n",
    "display(d1)\n",
    "display(d2)\n",
    "\n",
    "# s = pd.concat([d1, d2.reindex(d1.columns, axis=1)])\n",
    "s = pd.concat([d1.reindex(d2.columns, axis=1), d2])\n",
    "s"
   ]
  },
  {
   "cell_type": "markdown",
   "metadata": {
    "pycharm": {
     "name": "#%% md\n"
    }
   },
   "source": [
    "### *append()*\n",
    "Works much like `pd.concat()`, but appends a `pd.DataFrame` object to another one as a result of running the `append()` method for the other one."
   ]
  },
  {
   "cell_type": "code",
   "execution_count": 218,
   "metadata": {
    "pycharm": {
     "name": "#%%\n"
    }
   },
   "outputs": [
    {
     "data": {
      "text/html": [
       "<div>\n",
       "<style scoped>\n",
       "    .dataframe tbody tr th:only-of-type {\n",
       "        vertical-align: middle;\n",
       "    }\n",
       "\n",
       "    .dataframe tbody tr th {\n",
       "        vertical-align: top;\n",
       "    }\n",
       "\n",
       "    .dataframe thead th {\n",
       "        text-align: right;\n",
       "    }\n",
       "</style>\n",
       "<table border=\"1\" class=\"dataframe\">\n",
       "  <thead>\n",
       "    <tr style=\"text-align: right;\">\n",
       "      <th></th>\n",
       "      <th>Title</th>\n",
       "      <th>Length</th>\n",
       "      <th>No. of releases</th>\n",
       "    </tr>\n",
       "  </thead>\n",
       "  <tbody>\n",
       "    <tr>\n",
       "      <th>0</th>\n",
       "      <td>A Day in the Life</td>\n",
       "      <td>300.0</td>\n",
       "      <td>20</td>\n",
       "    </tr>\n",
       "    <tr>\n",
       "      <th>1</th>\n",
       "      <td>Can't Buy Me Love</td>\n",
       "      <td>150.0</td>\n",
       "      <td>100</td>\n",
       "    </tr>\n",
       "    <tr>\n",
       "      <th>0</th>\n",
       "      <td>Blackbird</td>\n",
       "      <td>NaN</td>\n",
       "      <td>10</td>\n",
       "    </tr>\n",
       "    <tr>\n",
       "      <th>1</th>\n",
       "      <td>Taxman</td>\n",
       "      <td>NaN</td>\n",
       "      <td>8</td>\n",
       "    </tr>\n",
       "  </tbody>\n",
       "</table>\n",
       "</div>"
      ],
      "text/plain": [
       "               Title  Length  No. of releases\n",
       "0  A Day in the Life   300.0               20\n",
       "1  Can't Buy Me Love   150.0              100\n",
       "0          Blackbird     NaN               10\n",
       "1             Taxman     NaN                8"
      ]
     },
     "execution_count": 218,
     "metadata": {},
     "output_type": "execute_result"
    }
   ],
   "source": [
    "d1.append(d2)"
   ]
  },
  {
   "cell_type": "markdown",
   "metadata": {
    "pycharm": {
     "name": "#%% md\n"
    }
   },
   "source": [
    "## Combining datasets: `pd.merge()`\n",
    "Used for various merge and join operations on datasets (on-to-one joins, many-to-one joins, many-to-many joins)."
   ]
  },
  {
   "cell_type": "markdown",
   "metadata": {
    "pycharm": {
     "name": "#%% md\n"
    }
   },
   "source": [
    "### One-to-one joins\n",
    "Very similar to the column-wise concatenation with `pd.concat()`. `pd.merge()` recognizes that the `pd.DataFrame` objecs have a common column, and automatically joins using this column as a key. The result of the merge is a new `pd.DataFrame` object that combines the information from the two inputs.<br>\n",
    "Notice that the order of entries in each column is not necessarily maintained: the order of the key column can differ between the input dataframes, and `pd.merge()` correctly accounts for this.<br>\n",
    "Additionally, keep in mind that the merge in general discards the index, except in the special case of merges by index (see the `left_index` and `right_index` keywords, discussed momentarily)."
   ]
  },
  {
   "cell_type": "code",
   "execution_count": 219,
   "metadata": {
    "scrolled": true,
    "pycharm": {
     "name": "#%%\n"
    }
   },
   "outputs": [
    {
     "data": {
      "text/html": [
       "<div>\n",
       "<style scoped>\n",
       "    .dataframe tbody tr th:only-of-type {\n",
       "        vertical-align: middle;\n",
       "    }\n",
       "\n",
       "    .dataframe tbody tr th {\n",
       "        vertical-align: top;\n",
       "    }\n",
       "\n",
       "    .dataframe thead th {\n",
       "        text-align: right;\n",
       "    }\n",
       "</style>\n",
       "<table border=\"1\" class=\"dataframe\">\n",
       "  <thead>\n",
       "    <tr style=\"text-align: right;\">\n",
       "      <th></th>\n",
       "      <th>Title</th>\n",
       "      <th>Length</th>\n",
       "    </tr>\n",
       "  </thead>\n",
       "  <tbody>\n",
       "    <tr>\n",
       "      <th>0</th>\n",
       "      <td>A Day in the Life</td>\n",
       "      <td>300</td>\n",
       "    </tr>\n",
       "    <tr>\n",
       "      <th>1</th>\n",
       "      <td>Can't Buy Me Love</td>\n",
       "      <td>150</td>\n",
       "    </tr>\n",
       "    <tr>\n",
       "      <th>2</th>\n",
       "      <td>Blackbird</td>\n",
       "      <td>120</td>\n",
       "    </tr>\n",
       "    <tr>\n",
       "      <th>3</th>\n",
       "      <td>Taxman</td>\n",
       "      <td>160</td>\n",
       "    </tr>\n",
       "  </tbody>\n",
       "</table>\n",
       "</div>"
      ],
      "text/plain": [
       "               Title  Length\n",
       "0  A Day in the Life     300\n",
       "1  Can't Buy Me Love     150\n",
       "2          Blackbird     120\n",
       "3             Taxman     160"
      ]
     },
     "metadata": {},
     "output_type": "display_data"
    },
    {
     "data": {
      "text/html": [
       "<div>\n",
       "<style scoped>\n",
       "    .dataframe tbody tr th:only-of-type {\n",
       "        vertical-align: middle;\n",
       "    }\n",
       "\n",
       "    .dataframe tbody tr th {\n",
       "        vertical-align: top;\n",
       "    }\n",
       "\n",
       "    .dataframe thead th {\n",
       "        text-align: right;\n",
       "    }\n",
       "</style>\n",
       "<table border=\"1\" class=\"dataframe\">\n",
       "  <thead>\n",
       "    <tr style=\"text-align: right;\">\n",
       "      <th></th>\n",
       "      <th>Title</th>\n",
       "      <th>No. of releases</th>\n",
       "    </tr>\n",
       "  </thead>\n",
       "  <tbody>\n",
       "    <tr>\n",
       "      <th>0</th>\n",
       "      <td>Blackbird</td>\n",
       "      <td>10</td>\n",
       "    </tr>\n",
       "    <tr>\n",
       "      <th>1</th>\n",
       "      <td>Taxman</td>\n",
       "      <td>8</td>\n",
       "    </tr>\n",
       "    <tr>\n",
       "      <th>2</th>\n",
       "      <td>A Day in the Life</td>\n",
       "      <td>20</td>\n",
       "    </tr>\n",
       "    <tr>\n",
       "      <th>3</th>\n",
       "      <td>Can't Buy Me Love</td>\n",
       "      <td>100</td>\n",
       "    </tr>\n",
       "  </tbody>\n",
       "</table>\n",
       "</div>"
      ],
      "text/plain": [
       "               Title  No. of releases\n",
       "0          Blackbird               10\n",
       "1             Taxman                8\n",
       "2  A Day in the Life               20\n",
       "3  Can't Buy Me Love              100"
      ]
     },
     "metadata": {},
     "output_type": "display_data"
    },
    {
     "data": {
      "text/html": [
       "<div>\n",
       "<style scoped>\n",
       "    .dataframe tbody tr th:only-of-type {\n",
       "        vertical-align: middle;\n",
       "    }\n",
       "\n",
       "    .dataframe tbody tr th {\n",
       "        vertical-align: top;\n",
       "    }\n",
       "\n",
       "    .dataframe thead th {\n",
       "        text-align: right;\n",
       "    }\n",
       "</style>\n",
       "<table border=\"1\" class=\"dataframe\">\n",
       "  <thead>\n",
       "    <tr style=\"text-align: right;\">\n",
       "      <th></th>\n",
       "      <th>Title</th>\n",
       "      <th>Length</th>\n",
       "      <th>No. of releases</th>\n",
       "    </tr>\n",
       "  </thead>\n",
       "  <tbody>\n",
       "    <tr>\n",
       "      <th>0</th>\n",
       "      <td>A Day in the Life</td>\n",
       "      <td>300</td>\n",
       "      <td>20</td>\n",
       "    </tr>\n",
       "    <tr>\n",
       "      <th>1</th>\n",
       "      <td>Can't Buy Me Love</td>\n",
       "      <td>150</td>\n",
       "      <td>100</td>\n",
       "    </tr>\n",
       "    <tr>\n",
       "      <th>2</th>\n",
       "      <td>Blackbird</td>\n",
       "      <td>120</td>\n",
       "      <td>10</td>\n",
       "    </tr>\n",
       "    <tr>\n",
       "      <th>3</th>\n",
       "      <td>Taxman</td>\n",
       "      <td>160</td>\n",
       "      <td>8</td>\n",
       "    </tr>\n",
       "  </tbody>\n",
       "</table>\n",
       "</div>"
      ],
      "text/plain": [
       "               Title  Length  No. of releases\n",
       "0  A Day in the Life     300               20\n",
       "1  Can't Buy Me Love     150              100\n",
       "2          Blackbird     120               10\n",
       "3             Taxman     160                8"
      ]
     },
     "execution_count": 219,
     "metadata": {},
     "output_type": "execute_result"
    }
   ],
   "source": [
    "d1 = pd.DataFrame({'Title':pd.Series(['A Day in the Life', 'Can\\'t Buy Me Love', 'Blackbird', 'Taxman']), \n",
    "                   'Length':pd.Series([300, 150, 120, 160])})\n",
    "d2 = pd.DataFrame({'Title':pd.Series(['Blackbird', 'Taxman', 'A Day in the Life', 'Can\\'t Buy Me Love']),\n",
    "                   'No. of releases':[10, 8, 20, 100]})\n",
    "display(d1)\n",
    "display(d2)\n",
    "s = pd.merge(d1, d2)\n",
    "s"
   ]
  },
  {
   "cell_type": "markdown",
   "metadata": {
    "pycharm": {
     "name": "#%% md\n"
    }
   },
   "source": [
    "### Many-to-one joins\n",
    "These are joins in which one of the two key columns contains duplicate entries. For the many-to-one case, the resulting `pd.DataFrame` will preserve those duplicate entries as appropriate. It will also one or more additional columns where the information is repeated in some locations as required by the inputs."
   ]
  },
  {
   "cell_type": "code",
   "execution_count": 220,
   "metadata": {
    "pycharm": {
     "name": "#%%\n"
    }
   },
   "outputs": [
    {
     "data": {
      "text/html": [
       "<div>\n",
       "<style scoped>\n",
       "    .dataframe tbody tr th:only-of-type {\n",
       "        vertical-align: middle;\n",
       "    }\n",
       "\n",
       "    .dataframe tbody tr th {\n",
       "        vertical-align: top;\n",
       "    }\n",
       "\n",
       "    .dataframe thead th {\n",
       "        text-align: right;\n",
       "    }\n",
       "</style>\n",
       "<table border=\"1\" class=\"dataframe\">\n",
       "  <thead>\n",
       "    <tr style=\"text-align: right;\">\n",
       "      <th></th>\n",
       "      <th>Title</th>\n",
       "      <th>Album</th>\n",
       "      <th>Length</th>\n",
       "    </tr>\n",
       "  </thead>\n",
       "  <tbody>\n",
       "    <tr>\n",
       "      <th>0</th>\n",
       "      <td>A Day in the Life</td>\n",
       "      <td>Sgt. Pepper</td>\n",
       "      <td>300</td>\n",
       "    </tr>\n",
       "    <tr>\n",
       "      <th>1</th>\n",
       "      <td>Can't Buy Me Love</td>\n",
       "      <td>A Hard Day's Night</td>\n",
       "      <td>150</td>\n",
       "    </tr>\n",
       "    <tr>\n",
       "      <th>2</th>\n",
       "      <td>Things We Said Today</td>\n",
       "      <td>A Hard Day's Night</td>\n",
       "      <td>135</td>\n",
       "    </tr>\n",
       "    <tr>\n",
       "      <th>3</th>\n",
       "      <td>Blackbird</td>\n",
       "      <td>The Beatles</td>\n",
       "      <td>120</td>\n",
       "    </tr>\n",
       "    <tr>\n",
       "      <th>4</th>\n",
       "      <td>Taxman</td>\n",
       "      <td>Revolver</td>\n",
       "      <td>160</td>\n",
       "    </tr>\n",
       "  </tbody>\n",
       "</table>\n",
       "</div>"
      ],
      "text/plain": [
       "                  Title               Album  Length\n",
       "0     A Day in the Life         Sgt. Pepper     300\n",
       "1     Can't Buy Me Love  A Hard Day's Night     150\n",
       "2  Things We Said Today  A Hard Day's Night     135\n",
       "3             Blackbird         The Beatles     120\n",
       "4                Taxman            Revolver     160"
      ]
     },
     "metadata": {},
     "output_type": "display_data"
    },
    {
     "data": {
      "text/html": [
       "<div>\n",
       "<style scoped>\n",
       "    .dataframe tbody tr th:only-of-type {\n",
       "        vertical-align: middle;\n",
       "    }\n",
       "\n",
       "    .dataframe tbody tr th {\n",
       "        vertical-align: top;\n",
       "    }\n",
       "\n",
       "    .dataframe thead th {\n",
       "        text-align: right;\n",
       "    }\n",
       "</style>\n",
       "<table border=\"1\" class=\"dataframe\">\n",
       "  <thead>\n",
       "    <tr style=\"text-align: right;\">\n",
       "      <th></th>\n",
       "      <th>Album</th>\n",
       "      <th>Year</th>\n",
       "      <th>Re-issues</th>\n",
       "    </tr>\n",
       "  </thead>\n",
       "  <tbody>\n",
       "    <tr>\n",
       "      <th>0</th>\n",
       "      <td>Sgt. Pepper</td>\n",
       "      <td>1967</td>\n",
       "      <td>5</td>\n",
       "    </tr>\n",
       "    <tr>\n",
       "      <th>1</th>\n",
       "      <td>A Hard Day's Night</td>\n",
       "      <td>1963</td>\n",
       "      <td>6</td>\n",
       "    </tr>\n",
       "    <tr>\n",
       "      <th>2</th>\n",
       "      <td>The Beatles</td>\n",
       "      <td>1968</td>\n",
       "      <td>3</td>\n",
       "    </tr>\n",
       "    <tr>\n",
       "      <th>3</th>\n",
       "      <td>Revolver</td>\n",
       "      <td>1966</td>\n",
       "      <td>2</td>\n",
       "    </tr>\n",
       "  </tbody>\n",
       "</table>\n",
       "</div>"
      ],
      "text/plain": [
       "                Album  Year  Re-issues\n",
       "0         Sgt. Pepper  1967          5\n",
       "1  A Hard Day's Night  1963          6\n",
       "2         The Beatles  1968          3\n",
       "3            Revolver  1966          2"
      ]
     },
     "metadata": {},
     "output_type": "display_data"
    },
    {
     "data": {
      "text/html": [
       "<div>\n",
       "<style scoped>\n",
       "    .dataframe tbody tr th:only-of-type {\n",
       "        vertical-align: middle;\n",
       "    }\n",
       "\n",
       "    .dataframe tbody tr th {\n",
       "        vertical-align: top;\n",
       "    }\n",
       "\n",
       "    .dataframe thead th {\n",
       "        text-align: right;\n",
       "    }\n",
       "</style>\n",
       "<table border=\"1\" class=\"dataframe\">\n",
       "  <thead>\n",
       "    <tr style=\"text-align: right;\">\n",
       "      <th></th>\n",
       "      <th>Title</th>\n",
       "      <th>Album</th>\n",
       "      <th>Length</th>\n",
       "      <th>Year</th>\n",
       "      <th>Re-issues</th>\n",
       "    </tr>\n",
       "  </thead>\n",
       "  <tbody>\n",
       "    <tr>\n",
       "      <th>0</th>\n",
       "      <td>A Day in the Life</td>\n",
       "      <td>Sgt. Pepper</td>\n",
       "      <td>300</td>\n",
       "      <td>1967</td>\n",
       "      <td>5</td>\n",
       "    </tr>\n",
       "    <tr>\n",
       "      <th>1</th>\n",
       "      <td>Can't Buy Me Love</td>\n",
       "      <td>A Hard Day's Night</td>\n",
       "      <td>150</td>\n",
       "      <td>1963</td>\n",
       "      <td>6</td>\n",
       "    </tr>\n",
       "    <tr>\n",
       "      <th>2</th>\n",
       "      <td>Things We Said Today</td>\n",
       "      <td>A Hard Day's Night</td>\n",
       "      <td>135</td>\n",
       "      <td>1963</td>\n",
       "      <td>6</td>\n",
       "    </tr>\n",
       "    <tr>\n",
       "      <th>3</th>\n",
       "      <td>Blackbird</td>\n",
       "      <td>The Beatles</td>\n",
       "      <td>120</td>\n",
       "      <td>1968</td>\n",
       "      <td>3</td>\n",
       "    </tr>\n",
       "    <tr>\n",
       "      <th>4</th>\n",
       "      <td>Taxman</td>\n",
       "      <td>Revolver</td>\n",
       "      <td>160</td>\n",
       "      <td>1966</td>\n",
       "      <td>2</td>\n",
       "    </tr>\n",
       "  </tbody>\n",
       "</table>\n",
       "</div>"
      ],
      "text/plain": [
       "                  Title               Album  Length  Year  Re-issues\n",
       "0     A Day in the Life         Sgt. Pepper     300  1967          5\n",
       "1     Can't Buy Me Love  A Hard Day's Night     150  1963          6\n",
       "2  Things We Said Today  A Hard Day's Night     135  1963          6\n",
       "3             Blackbird         The Beatles     120  1968          3\n",
       "4                Taxman            Revolver     160  1966          2"
      ]
     },
     "execution_count": 220,
     "metadata": {},
     "output_type": "execute_result"
    }
   ],
   "source": [
    "d1 = pd.DataFrame({'Title':pd.Series(['A Day in the Life', \n",
    "                                      'Can\\'t Buy Me Love', \n",
    "                                      'Things We Said Today', \n",
    "                                      'Blackbird', \n",
    "                                      'Taxman']), \n",
    "                   'Album':pd.Series(['Sgt. Pepper', \n",
    "                                      'A Hard Day\\'s Night', \n",
    "                                      'A Hard Day\\'s Night', \n",
    "                                      'The Beatles',\n",
    "                                      'Revolver']),\n",
    "                   'Length':pd.Series([300, 150, 135, 120, 160])})\n",
    "d2 = pd.DataFrame({'Album':pd.Series(['Sgt. Pepper', \n",
    "                                      'A Hard Day\\'s Night', \n",
    "                                      'The Beatles',\n",
    "                                      'Revolver']),\n",
    "                   'Year':[1967, 1963, 1968, 1966], \n",
    "                   'Re-issues':[5, 6, 3, 2]})\n",
    "display(d1)\n",
    "display(d2)\n",
    "s = pd.merge(d1, d2)\n",
    "s"
   ]
  },
  {
   "cell_type": "markdown",
   "metadata": {
    "pycharm": {
     "name": "#%% md\n"
    }
   },
   "source": [
    "### Many-to-many joins\n",
    "A many-to-many join occurs when the key column in both the left and right array contains duplicates."
   ]
  },
  {
   "cell_type": "code",
   "execution_count": 221,
   "metadata": {
    "pycharm": {
     "name": "#%%\n"
    }
   },
   "outputs": [
    {
     "data": {
      "text/html": [
       "<div>\n",
       "<style scoped>\n",
       "    .dataframe tbody tr th:only-of-type {\n",
       "        vertical-align: middle;\n",
       "    }\n",
       "\n",
       "    .dataframe tbody tr th {\n",
       "        vertical-align: top;\n",
       "    }\n",
       "\n",
       "    .dataframe thead th {\n",
       "        text-align: right;\n",
       "    }\n",
       "</style>\n",
       "<table border=\"1\" class=\"dataframe\">\n",
       "  <thead>\n",
       "    <tr style=\"text-align: right;\">\n",
       "      <th></th>\n",
       "      <th>Title</th>\n",
       "      <th>Album</th>\n",
       "      <th>Length</th>\n",
       "    </tr>\n",
       "  </thead>\n",
       "  <tbody>\n",
       "    <tr>\n",
       "      <th>0</th>\n",
       "      <td>A Day in the Life</td>\n",
       "      <td>Sgt. Pepper</td>\n",
       "      <td>300</td>\n",
       "    </tr>\n",
       "    <tr>\n",
       "      <th>1</th>\n",
       "      <td>Can't Buy Me Love</td>\n",
       "      <td>A Hard Day's Night</td>\n",
       "      <td>150</td>\n",
       "    </tr>\n",
       "    <tr>\n",
       "      <th>2</th>\n",
       "      <td>Things We Said Today</td>\n",
       "      <td>A Hard Day's Night</td>\n",
       "      <td>135</td>\n",
       "    </tr>\n",
       "    <tr>\n",
       "      <th>3</th>\n",
       "      <td>Blackbird</td>\n",
       "      <td>The Beatles</td>\n",
       "      <td>120</td>\n",
       "    </tr>\n",
       "    <tr>\n",
       "      <th>4</th>\n",
       "      <td>Taxman</td>\n",
       "      <td>Revolver</td>\n",
       "      <td>160</td>\n",
       "    </tr>\n",
       "    <tr>\n",
       "      <th>5</th>\n",
       "      <td>Fixing a Hole</td>\n",
       "      <td>Sgt. Pepper</td>\n",
       "      <td>155</td>\n",
       "    </tr>\n",
       "  </tbody>\n",
       "</table>\n",
       "</div>"
      ],
      "text/plain": [
       "                  Title               Album  Length\n",
       "0     A Day in the Life         Sgt. Pepper     300\n",
       "1     Can't Buy Me Love  A Hard Day's Night     150\n",
       "2  Things We Said Today  A Hard Day's Night     135\n",
       "3             Blackbird         The Beatles     120\n",
       "4                Taxman            Revolver     160\n",
       "5         Fixing a Hole         Sgt. Pepper     155"
      ]
     },
     "metadata": {},
     "output_type": "display_data"
    },
    {
     "data": {
      "text/html": [
       "<div>\n",
       "<style scoped>\n",
       "    .dataframe tbody tr th:only-of-type {\n",
       "        vertical-align: middle;\n",
       "    }\n",
       "\n",
       "    .dataframe tbody tr th {\n",
       "        vertical-align: top;\n",
       "    }\n",
       "\n",
       "    .dataframe thead th {\n",
       "        text-align: right;\n",
       "    }\n",
       "</style>\n",
       "<table border=\"1\" class=\"dataframe\">\n",
       "  <thead>\n",
       "    <tr style=\"text-align: right;\">\n",
       "      <th></th>\n",
       "      <th>Album</th>\n",
       "      <th>Released / Remastered</th>\n",
       "    </tr>\n",
       "  </thead>\n",
       "  <tbody>\n",
       "    <tr>\n",
       "      <th>0</th>\n",
       "      <td>Sgt. Pepper</td>\n",
       "      <td>1967</td>\n",
       "    </tr>\n",
       "    <tr>\n",
       "      <th>1</th>\n",
       "      <td>Sgt. Pepper</td>\n",
       "      <td>2017</td>\n",
       "    </tr>\n",
       "    <tr>\n",
       "      <th>2</th>\n",
       "      <td>A Hard Day's Night</td>\n",
       "      <td>1963</td>\n",
       "    </tr>\n",
       "    <tr>\n",
       "      <th>3</th>\n",
       "      <td>A Hard Day's Night</td>\n",
       "      <td>2013</td>\n",
       "    </tr>\n",
       "    <tr>\n",
       "      <th>4</th>\n",
       "      <td>The Beatles</td>\n",
       "      <td>1968</td>\n",
       "    </tr>\n",
       "    <tr>\n",
       "      <th>5</th>\n",
       "      <td>The Beatles</td>\n",
       "      <td>NaN</td>\n",
       "    </tr>\n",
       "    <tr>\n",
       "      <th>6</th>\n",
       "      <td>Revolver</td>\n",
       "      <td>1966</td>\n",
       "    </tr>\n",
       "    <tr>\n",
       "      <th>7</th>\n",
       "      <td>Revolver</td>\n",
       "      <td>NaN</td>\n",
       "    </tr>\n",
       "  </tbody>\n",
       "</table>\n",
       "</div>"
      ],
      "text/plain": [
       "                Album Released / Remastered\n",
       "0         Sgt. Pepper                  1967\n",
       "1         Sgt. Pepper                  2017\n",
       "2  A Hard Day's Night                  1963\n",
       "3  A Hard Day's Night                  2013\n",
       "4         The Beatles                  1968\n",
       "5         The Beatles                   NaN\n",
       "6            Revolver                  1966\n",
       "7            Revolver                   NaN"
      ]
     },
     "metadata": {},
     "output_type": "display_data"
    },
    {
     "data": {
      "text/html": [
       "<div>\n",
       "<style scoped>\n",
       "    .dataframe tbody tr th:only-of-type {\n",
       "        vertical-align: middle;\n",
       "    }\n",
       "\n",
       "    .dataframe tbody tr th {\n",
       "        vertical-align: top;\n",
       "    }\n",
       "\n",
       "    .dataframe thead th {\n",
       "        text-align: right;\n",
       "    }\n",
       "</style>\n",
       "<table border=\"1\" class=\"dataframe\">\n",
       "  <thead>\n",
       "    <tr style=\"text-align: right;\">\n",
       "      <th></th>\n",
       "      <th>Title</th>\n",
       "      <th>Album</th>\n",
       "      <th>Length</th>\n",
       "      <th>Released / Remastered</th>\n",
       "    </tr>\n",
       "  </thead>\n",
       "  <tbody>\n",
       "    <tr>\n",
       "      <th>0</th>\n",
       "      <td>A Day in the Life</td>\n",
       "      <td>Sgt. Pepper</td>\n",
       "      <td>300</td>\n",
       "      <td>1967</td>\n",
       "    </tr>\n",
       "    <tr>\n",
       "      <th>1</th>\n",
       "      <td>A Day in the Life</td>\n",
       "      <td>Sgt. Pepper</td>\n",
       "      <td>300</td>\n",
       "      <td>2017</td>\n",
       "    </tr>\n",
       "    <tr>\n",
       "      <th>2</th>\n",
       "      <td>Fixing a Hole</td>\n",
       "      <td>Sgt. Pepper</td>\n",
       "      <td>155</td>\n",
       "      <td>1967</td>\n",
       "    </tr>\n",
       "    <tr>\n",
       "      <th>3</th>\n",
       "      <td>Fixing a Hole</td>\n",
       "      <td>Sgt. Pepper</td>\n",
       "      <td>155</td>\n",
       "      <td>2017</td>\n",
       "    </tr>\n",
       "    <tr>\n",
       "      <th>4</th>\n",
       "      <td>Can't Buy Me Love</td>\n",
       "      <td>A Hard Day's Night</td>\n",
       "      <td>150</td>\n",
       "      <td>1963</td>\n",
       "    </tr>\n",
       "    <tr>\n",
       "      <th>5</th>\n",
       "      <td>Can't Buy Me Love</td>\n",
       "      <td>A Hard Day's Night</td>\n",
       "      <td>150</td>\n",
       "      <td>2013</td>\n",
       "    </tr>\n",
       "    <tr>\n",
       "      <th>6</th>\n",
       "      <td>Things We Said Today</td>\n",
       "      <td>A Hard Day's Night</td>\n",
       "      <td>135</td>\n",
       "      <td>1963</td>\n",
       "    </tr>\n",
       "    <tr>\n",
       "      <th>7</th>\n",
       "      <td>Things We Said Today</td>\n",
       "      <td>A Hard Day's Night</td>\n",
       "      <td>135</td>\n",
       "      <td>2013</td>\n",
       "    </tr>\n",
       "    <tr>\n",
       "      <th>8</th>\n",
       "      <td>Blackbird</td>\n",
       "      <td>The Beatles</td>\n",
       "      <td>120</td>\n",
       "      <td>1968</td>\n",
       "    </tr>\n",
       "    <tr>\n",
       "      <th>9</th>\n",
       "      <td>Blackbird</td>\n",
       "      <td>The Beatles</td>\n",
       "      <td>120</td>\n",
       "      <td>NaN</td>\n",
       "    </tr>\n",
       "    <tr>\n",
       "      <th>10</th>\n",
       "      <td>Taxman</td>\n",
       "      <td>Revolver</td>\n",
       "      <td>160</td>\n",
       "      <td>1966</td>\n",
       "    </tr>\n",
       "    <tr>\n",
       "      <th>11</th>\n",
       "      <td>Taxman</td>\n",
       "      <td>Revolver</td>\n",
       "      <td>160</td>\n",
       "      <td>NaN</td>\n",
       "    </tr>\n",
       "  </tbody>\n",
       "</table>\n",
       "</div>"
      ],
      "text/plain": [
       "                   Title               Album  Length Released / Remastered\n",
       "0      A Day in the Life         Sgt. Pepper     300                  1967\n",
       "1      A Day in the Life         Sgt. Pepper     300                  2017\n",
       "2          Fixing a Hole         Sgt. Pepper     155                  1967\n",
       "3          Fixing a Hole         Sgt. Pepper     155                  2017\n",
       "4      Can't Buy Me Love  A Hard Day's Night     150                  1963\n",
       "5      Can't Buy Me Love  A Hard Day's Night     150                  2013\n",
       "6   Things We Said Today  A Hard Day's Night     135                  1963\n",
       "7   Things We Said Today  A Hard Day's Night     135                  2013\n",
       "8              Blackbird         The Beatles     120                  1968\n",
       "9              Blackbird         The Beatles     120                   NaN\n",
       "10                Taxman            Revolver     160                  1966\n",
       "11                Taxman            Revolver     160                   NaN"
      ]
     },
     "execution_count": 221,
     "metadata": {},
     "output_type": "execute_result"
    }
   ],
   "source": [
    "d1 = pd.DataFrame({'Title':pd.Series(['A Day in the Life', \n",
    "                                      'Can\\'t Buy Me Love', \n",
    "                                      'Things We Said Today', \n",
    "                                      'Blackbird', \n",
    "                                      'Taxman', \n",
    "                                      'Fixing a Hole']), \n",
    "                   'Album':pd.Series(['Sgt. Pepper', \n",
    "                                      'A Hard Day\\'s Night', \n",
    "                                      'A Hard Day\\'s Night', \n",
    "                                      'The Beatles',\n",
    "                                      'Revolver', \n",
    "                                      'Sgt. Pepper']),\n",
    "                   'Length':pd.Series([300, 150, 135, 120, 160, 155])})\n",
    "d2 = pd.DataFrame({'Album':pd.Series(['Sgt. Pepper', \n",
    "                                      'Sgt. Pepper', \n",
    "                                      'A Hard Day\\'s Night', \n",
    "                                      'A Hard Day\\'s Night', \n",
    "                                      'The Beatles',\n",
    "                                      'The Beatles',\n",
    "                                      'Revolver',\n",
    "                                      'Revolver']),\n",
    "                   'Released / Remastered':[1967, 2017, 1963, 2013, 1968, np.NaN, 1966, np.NaN]}, \n",
    "                  dtype=object)   # not necessary, but avoids automatic conversion of int to float in 'Released / Remastered'\n",
    "display(d1)\n",
    "display(d2)\n",
    "s = pd.merge(d1, d2)\n",
    "s"
   ]
  },
  {
   "cell_type": "markdown",
   "metadata": {
    "pycharm": {
     "name": "#%% md\n"
    }
   },
   "source": [
    "### Specification of the merge key\n",
    "The default behavior of `pd.merge()` is: it looks for one or more matching column names between the two inputs, and uses this as the key.<br>\n",
    "However, often the column names will not match so nicely. `pd.merge()` provides a variety of options for handling this."
   ]
  },
  {
   "cell_type": "markdown",
   "metadata": {
    "pycharm": {
     "name": "#%% md\n"
    }
   },
   "source": [
    "#### The `on` keyword\n",
    "Most simply, you can explicitly specify the name of the key column using the `on` keyword, which takes a column name or a list of column names. This option works only if both the left and right `pd.DataFrame`s have the specified column name."
   ]
  },
  {
   "cell_type": "code",
   "execution_count": 223,
   "metadata": {
    "pycharm": {
     "name": "#%%\n"
    }
   },
   "outputs": [
    {
     "data": {
      "text/html": [
       "<div>\n",
       "<style scoped>\n",
       "    .dataframe tbody tr th:only-of-type {\n",
       "        vertical-align: middle;\n",
       "    }\n",
       "\n",
       "    .dataframe tbody tr th {\n",
       "        vertical-align: top;\n",
       "    }\n",
       "\n",
       "    .dataframe thead th {\n",
       "        text-align: right;\n",
       "    }\n",
       "</style>\n",
       "<table border=\"1\" class=\"dataframe\">\n",
       "  <thead>\n",
       "    <tr style=\"text-align: right;\">\n",
       "      <th></th>\n",
       "      <th>Title</th>\n",
       "      <th>Length</th>\n",
       "    </tr>\n",
       "  </thead>\n",
       "  <tbody>\n",
       "    <tr>\n",
       "      <th>0</th>\n",
       "      <td>A Day in the Life</td>\n",
       "      <td>300</td>\n",
       "    </tr>\n",
       "    <tr>\n",
       "      <th>1</th>\n",
       "      <td>Can't Buy Me Love</td>\n",
       "      <td>150</td>\n",
       "    </tr>\n",
       "    <tr>\n",
       "      <th>2</th>\n",
       "      <td>Blackbird</td>\n",
       "      <td>120</td>\n",
       "    </tr>\n",
       "    <tr>\n",
       "      <th>3</th>\n",
       "      <td>Taxman</td>\n",
       "      <td>160</td>\n",
       "    </tr>\n",
       "  </tbody>\n",
       "</table>\n",
       "</div>"
      ],
      "text/plain": [
       "               Title  Length\n",
       "0  A Day in the Life     300\n",
       "1  Can't Buy Me Love     150\n",
       "2          Blackbird     120\n",
       "3             Taxman     160"
      ]
     },
     "metadata": {},
     "output_type": "display_data"
    },
    {
     "data": {
      "text/html": [
       "<div>\n",
       "<style scoped>\n",
       "    .dataframe tbody tr th:only-of-type {\n",
       "        vertical-align: middle;\n",
       "    }\n",
       "\n",
       "    .dataframe tbody tr th {\n",
       "        vertical-align: top;\n",
       "    }\n",
       "\n",
       "    .dataframe thead th {\n",
       "        text-align: right;\n",
       "    }\n",
       "</style>\n",
       "<table border=\"1\" class=\"dataframe\">\n",
       "  <thead>\n",
       "    <tr style=\"text-align: right;\">\n",
       "      <th></th>\n",
       "      <th>Title</th>\n",
       "      <th>No. of releases</th>\n",
       "    </tr>\n",
       "  </thead>\n",
       "  <tbody>\n",
       "    <tr>\n",
       "      <th>0</th>\n",
       "      <td>Blackbird</td>\n",
       "      <td>10</td>\n",
       "    </tr>\n",
       "    <tr>\n",
       "      <th>1</th>\n",
       "      <td>Taxman</td>\n",
       "      <td>8</td>\n",
       "    </tr>\n",
       "    <tr>\n",
       "      <th>2</th>\n",
       "      <td>A Day in the Life</td>\n",
       "      <td>20</td>\n",
       "    </tr>\n",
       "    <tr>\n",
       "      <th>3</th>\n",
       "      <td>Can't Buy Me Love</td>\n",
       "      <td>100</td>\n",
       "    </tr>\n",
       "  </tbody>\n",
       "</table>\n",
       "</div>"
      ],
      "text/plain": [
       "               Title  No. of releases\n",
       "0          Blackbird               10\n",
       "1             Taxman                8\n",
       "2  A Day in the Life               20\n",
       "3  Can't Buy Me Love              100"
      ]
     },
     "metadata": {},
     "output_type": "display_data"
    },
    {
     "data": {
      "text/html": [
       "<div>\n",
       "<style scoped>\n",
       "    .dataframe tbody tr th:only-of-type {\n",
       "        vertical-align: middle;\n",
       "    }\n",
       "\n",
       "    .dataframe tbody tr th {\n",
       "        vertical-align: top;\n",
       "    }\n",
       "\n",
       "    .dataframe thead th {\n",
       "        text-align: right;\n",
       "    }\n",
       "</style>\n",
       "<table border=\"1\" class=\"dataframe\">\n",
       "  <thead>\n",
       "    <tr style=\"text-align: right;\">\n",
       "      <th></th>\n",
       "      <th>Title</th>\n",
       "      <th>Length</th>\n",
       "      <th>No. of releases</th>\n",
       "    </tr>\n",
       "  </thead>\n",
       "  <tbody>\n",
       "    <tr>\n",
       "      <th>0</th>\n",
       "      <td>A Day in the Life</td>\n",
       "      <td>300</td>\n",
       "      <td>20</td>\n",
       "    </tr>\n",
       "    <tr>\n",
       "      <th>1</th>\n",
       "      <td>Can't Buy Me Love</td>\n",
       "      <td>150</td>\n",
       "      <td>100</td>\n",
       "    </tr>\n",
       "    <tr>\n",
       "      <th>2</th>\n",
       "      <td>Blackbird</td>\n",
       "      <td>120</td>\n",
       "      <td>10</td>\n",
       "    </tr>\n",
       "    <tr>\n",
       "      <th>3</th>\n",
       "      <td>Taxman</td>\n",
       "      <td>160</td>\n",
       "      <td>8</td>\n",
       "    </tr>\n",
       "  </tbody>\n",
       "</table>\n",
       "</div>"
      ],
      "text/plain": [
       "               Title  Length  No. of releases\n",
       "0  A Day in the Life     300               20\n",
       "1  Can't Buy Me Love     150              100\n",
       "2          Blackbird     120               10\n",
       "3             Taxman     160                8"
      ]
     },
     "execution_count": 223,
     "metadata": {},
     "output_type": "execute_result"
    }
   ],
   "source": [
    "d1 = pd.DataFrame({'Title':pd.Series(['A Day in the Life', 'Can\\'t Buy Me Love', 'Blackbird', 'Taxman']), \n",
    "                   'Length':pd.Series([300, 150, 120, 160])})\n",
    "d2 = pd.DataFrame({'Title':pd.Series(['Blackbird', 'Taxman', 'A Day in the Life', 'Can\\'t Buy Me Love']),\n",
    "                   'No. of releases':[10, 8, 20, 100]})\n",
    "display(d1)\n",
    "display(d2)\n",
    "s = pd.merge(d1, d2, on='Title')\n",
    "s"
   ]
  },
  {
   "cell_type": "markdown",
   "metadata": {
    "pycharm": {
     "name": "#%% md\n"
    }
   },
   "source": [
    "#### The `left_on` and `right_on` keywords\n",
    "\n",
    "If the two datasets to merge have all different column names, use the `left_on` and `right_on` keywords to specify the two column names. <br>\n",
    "For example, in a songs dataset the song title can be labeled as \"Title\", and in another dataset as \"Song title\"."
   ]
  },
  {
   "cell_type": "code",
   "execution_count": 225,
   "metadata": {
    "pycharm": {
     "name": "#%%\n"
    }
   },
   "outputs": [
    {
     "data": {
      "text/html": [
       "<div>\n",
       "<style scoped>\n",
       "    .dataframe tbody tr th:only-of-type {\n",
       "        vertical-align: middle;\n",
       "    }\n",
       "\n",
       "    .dataframe tbody tr th {\n",
       "        vertical-align: top;\n",
       "    }\n",
       "\n",
       "    .dataframe thead th {\n",
       "        text-align: right;\n",
       "    }\n",
       "</style>\n",
       "<table border=\"1\" class=\"dataframe\">\n",
       "  <thead>\n",
       "    <tr style=\"text-align: right;\">\n",
       "      <th></th>\n",
       "      <th>Title</th>\n",
       "      <th>Length</th>\n",
       "    </tr>\n",
       "  </thead>\n",
       "  <tbody>\n",
       "    <tr>\n",
       "      <th>0</th>\n",
       "      <td>A Day in the Life</td>\n",
       "      <td>300</td>\n",
       "    </tr>\n",
       "    <tr>\n",
       "      <th>1</th>\n",
       "      <td>Can't Buy Me Love</td>\n",
       "      <td>150</td>\n",
       "    </tr>\n",
       "    <tr>\n",
       "      <th>2</th>\n",
       "      <td>Blackbird</td>\n",
       "      <td>120</td>\n",
       "    </tr>\n",
       "    <tr>\n",
       "      <th>3</th>\n",
       "      <td>Taxman</td>\n",
       "      <td>160</td>\n",
       "    </tr>\n",
       "  </tbody>\n",
       "</table>\n",
       "</div>"
      ],
      "text/plain": [
       "               Title  Length\n",
       "0  A Day in the Life     300\n",
       "1  Can't Buy Me Love     150\n",
       "2          Blackbird     120\n",
       "3             Taxman     160"
      ]
     },
     "metadata": {},
     "output_type": "display_data"
    },
    {
     "data": {
      "text/html": [
       "<div>\n",
       "<style scoped>\n",
       "    .dataframe tbody tr th:only-of-type {\n",
       "        vertical-align: middle;\n",
       "    }\n",
       "\n",
       "    .dataframe tbody tr th {\n",
       "        vertical-align: top;\n",
       "    }\n",
       "\n",
       "    .dataframe thead th {\n",
       "        text-align: right;\n",
       "    }\n",
       "</style>\n",
       "<table border=\"1\" class=\"dataframe\">\n",
       "  <thead>\n",
       "    <tr style=\"text-align: right;\">\n",
       "      <th></th>\n",
       "      <th>Song title</th>\n",
       "      <th>No. of releases</th>\n",
       "    </tr>\n",
       "  </thead>\n",
       "  <tbody>\n",
       "    <tr>\n",
       "      <th>0</th>\n",
       "      <td>Blackbird</td>\n",
       "      <td>10</td>\n",
       "    </tr>\n",
       "    <tr>\n",
       "      <th>1</th>\n",
       "      <td>Taxman</td>\n",
       "      <td>8</td>\n",
       "    </tr>\n",
       "    <tr>\n",
       "      <th>2</th>\n",
       "      <td>A Day in the Life</td>\n",
       "      <td>20</td>\n",
       "    </tr>\n",
       "    <tr>\n",
       "      <th>3</th>\n",
       "      <td>Can't Buy Me Love</td>\n",
       "      <td>100</td>\n",
       "    </tr>\n",
       "  </tbody>\n",
       "</table>\n",
       "</div>"
      ],
      "text/plain": [
       "          Song title  No. of releases\n",
       "0          Blackbird               10\n",
       "1             Taxman                8\n",
       "2  A Day in the Life               20\n",
       "3  Can't Buy Me Love              100"
      ]
     },
     "metadata": {},
     "output_type": "display_data"
    },
    {
     "data": {
      "text/html": [
       "<div>\n",
       "<style scoped>\n",
       "    .dataframe tbody tr th:only-of-type {\n",
       "        vertical-align: middle;\n",
       "    }\n",
       "\n",
       "    .dataframe tbody tr th {\n",
       "        vertical-align: top;\n",
       "    }\n",
       "\n",
       "    .dataframe thead th {\n",
       "        text-align: right;\n",
       "    }\n",
       "</style>\n",
       "<table border=\"1\" class=\"dataframe\">\n",
       "  <thead>\n",
       "    <tr style=\"text-align: right;\">\n",
       "      <th></th>\n",
       "      <th>Title</th>\n",
       "      <th>Length</th>\n",
       "      <th>Song title</th>\n",
       "      <th>No. of releases</th>\n",
       "    </tr>\n",
       "  </thead>\n",
       "  <tbody>\n",
       "    <tr>\n",
       "      <th>0</th>\n",
       "      <td>A Day in the Life</td>\n",
       "      <td>300</td>\n",
       "      <td>A Day in the Life</td>\n",
       "      <td>20</td>\n",
       "    </tr>\n",
       "    <tr>\n",
       "      <th>1</th>\n",
       "      <td>Can't Buy Me Love</td>\n",
       "      <td>150</td>\n",
       "      <td>Can't Buy Me Love</td>\n",
       "      <td>100</td>\n",
       "    </tr>\n",
       "    <tr>\n",
       "      <th>2</th>\n",
       "      <td>Blackbird</td>\n",
       "      <td>120</td>\n",
       "      <td>Blackbird</td>\n",
       "      <td>10</td>\n",
       "    </tr>\n",
       "    <tr>\n",
       "      <th>3</th>\n",
       "      <td>Taxman</td>\n",
       "      <td>160</td>\n",
       "      <td>Taxman</td>\n",
       "      <td>8</td>\n",
       "    </tr>\n",
       "  </tbody>\n",
       "</table>\n",
       "</div>"
      ],
      "text/plain": [
       "               Title  Length         Song title  No. of releases\n",
       "0  A Day in the Life     300  A Day in the Life               20\n",
       "1  Can't Buy Me Love     150  Can't Buy Me Love              100\n",
       "2          Blackbird     120          Blackbird               10\n",
       "3             Taxman     160             Taxman                8"
      ]
     },
     "execution_count": 225,
     "metadata": {},
     "output_type": "execute_result"
    }
   ],
   "source": [
    "d1 = pd.DataFrame({'Title':pd.Series(['A Day in the Life', 'Can\\'t Buy Me Love', 'Blackbird', 'Taxman']), \n",
    "                   'Length':pd.Series([300, 150, 120, 160])})\n",
    "d2 = pd.DataFrame({'Song title':pd.Series(['Blackbird', 'Taxman', 'A Day in the Life', 'Can\\'t Buy Me Love']),\n",
    "                   'No. of releases':[10, 8, 20, 100]})\n",
    "display(d1)\n",
    "display(d2)\n",
    "s = pd.merge(d1, d2, left_on='Title', right_on='Song title')\n",
    "s"
   ]
  },
  {
   "cell_type": "markdown",
   "metadata": {
    "pycharm": {
     "name": "#%% md\n"
    }
   },
   "source": [
    "To eliminate a redundant column, `drop()` comes handy:"
   ]
  },
  {
   "cell_type": "code",
   "execution_count": 226,
   "metadata": {
    "pycharm": {
     "name": "#%%\n"
    }
   },
   "outputs": [
    {
     "data": {
      "text/html": [
       "<div>\n",
       "<style scoped>\n",
       "    .dataframe tbody tr th:only-of-type {\n",
       "        vertical-align: middle;\n",
       "    }\n",
       "\n",
       "    .dataframe tbody tr th {\n",
       "        vertical-align: top;\n",
       "    }\n",
       "\n",
       "    .dataframe thead th {\n",
       "        text-align: right;\n",
       "    }\n",
       "</style>\n",
       "<table border=\"1\" class=\"dataframe\">\n",
       "  <thead>\n",
       "    <tr style=\"text-align: right;\">\n",
       "      <th></th>\n",
       "      <th>Title</th>\n",
       "      <th>Length</th>\n",
       "      <th>No. of releases</th>\n",
       "    </tr>\n",
       "  </thead>\n",
       "  <tbody>\n",
       "    <tr>\n",
       "      <th>0</th>\n",
       "      <td>A Day in the Life</td>\n",
       "      <td>300</td>\n",
       "      <td>20</td>\n",
       "    </tr>\n",
       "    <tr>\n",
       "      <th>1</th>\n",
       "      <td>Can't Buy Me Love</td>\n",
       "      <td>150</td>\n",
       "      <td>100</td>\n",
       "    </tr>\n",
       "    <tr>\n",
       "      <th>2</th>\n",
       "      <td>Blackbird</td>\n",
       "      <td>120</td>\n",
       "      <td>10</td>\n",
       "    </tr>\n",
       "    <tr>\n",
       "      <th>3</th>\n",
       "      <td>Taxman</td>\n",
       "      <td>160</td>\n",
       "      <td>8</td>\n",
       "    </tr>\n",
       "  </tbody>\n",
       "</table>\n",
       "</div>"
      ],
      "text/plain": [
       "               Title  Length  No. of releases\n",
       "0  A Day in the Life     300               20\n",
       "1  Can't Buy Me Love     150              100\n",
       "2          Blackbird     120               10\n",
       "3             Taxman     160                8"
      ]
     },
     "execution_count": 226,
     "metadata": {},
     "output_type": "execute_result"
    }
   ],
   "source": [
    "s = pd.merge(d1, d2, left_on='Title', right_on='Song title').drop('Song title', axis=1)\n",
    "s"
   ]
  },
  {
   "cell_type": "markdown",
   "metadata": {
    "pycharm": {
     "name": "#%% md\n"
    }
   },
   "source": [
    "#### The `left_index` and `right_index` keywords\n",
    "Useful for merging on an index, rather than on a column (i.e. for using the index as the key for merging).<br>\n",
    "Can be combined with `left_on` and `right_on` (although the output in that case may require some extra work)."
   ]
  },
  {
   "cell_type": "code",
   "execution_count": 234,
   "metadata": {
    "pycharm": {
     "name": "#%%\n"
    }
   },
   "outputs": [
    {
     "data": {
      "text/html": [
       "<div>\n",
       "<style scoped>\n",
       "    .dataframe tbody tr th:only-of-type {\n",
       "        vertical-align: middle;\n",
       "    }\n",
       "\n",
       "    .dataframe tbody tr th {\n",
       "        vertical-align: top;\n",
       "    }\n",
       "\n",
       "    .dataframe thead th {\n",
       "        text-align: right;\n",
       "    }\n",
       "</style>\n",
       "<table border=\"1\" class=\"dataframe\">\n",
       "  <thead>\n",
       "    <tr style=\"text-align: right;\">\n",
       "      <th></th>\n",
       "      <th>Length</th>\n",
       "    </tr>\n",
       "    <tr>\n",
       "      <th>Title</th>\n",
       "      <th></th>\n",
       "    </tr>\n",
       "  </thead>\n",
       "  <tbody>\n",
       "    <tr>\n",
       "      <th>A Day in the Life</th>\n",
       "      <td>300</td>\n",
       "    </tr>\n",
       "    <tr>\n",
       "      <th>Can't Buy Me Love</th>\n",
       "      <td>150</td>\n",
       "    </tr>\n",
       "    <tr>\n",
       "      <th>Blackbird</th>\n",
       "      <td>120</td>\n",
       "    </tr>\n",
       "    <tr>\n",
       "      <th>Taxman</th>\n",
       "      <td>160</td>\n",
       "    </tr>\n",
       "  </tbody>\n",
       "</table>\n",
       "</div>"
      ],
      "text/plain": [
       "                   Length\n",
       "Title                    \n",
       "A Day in the Life     300\n",
       "Can't Buy Me Love     150\n",
       "Blackbird             120\n",
       "Taxman                160"
      ]
     },
     "metadata": {},
     "output_type": "display_data"
    },
    {
     "data": {
      "text/html": [
       "<div>\n",
       "<style scoped>\n",
       "    .dataframe tbody tr th:only-of-type {\n",
       "        vertical-align: middle;\n",
       "    }\n",
       "\n",
       "    .dataframe tbody tr th {\n",
       "        vertical-align: top;\n",
       "    }\n",
       "\n",
       "    .dataframe thead th {\n",
       "        text-align: right;\n",
       "    }\n",
       "</style>\n",
       "<table border=\"1\" class=\"dataframe\">\n",
       "  <thead>\n",
       "    <tr style=\"text-align: right;\">\n",
       "      <th></th>\n",
       "      <th>No. of releases</th>\n",
       "    </tr>\n",
       "    <tr>\n",
       "      <th>Title</th>\n",
       "      <th></th>\n",
       "    </tr>\n",
       "  </thead>\n",
       "  <tbody>\n",
       "    <tr>\n",
       "      <th>Blackbird</th>\n",
       "      <td>10</td>\n",
       "    </tr>\n",
       "    <tr>\n",
       "      <th>Taxman</th>\n",
       "      <td>8</td>\n",
       "    </tr>\n",
       "    <tr>\n",
       "      <th>A Day in the Life</th>\n",
       "      <td>20</td>\n",
       "    </tr>\n",
       "    <tr>\n",
       "      <th>Can't Buy Me Love</th>\n",
       "      <td>100</td>\n",
       "    </tr>\n",
       "  </tbody>\n",
       "</table>\n",
       "</div>"
      ],
      "text/plain": [
       "                   No. of releases\n",
       "Title                             \n",
       "Blackbird                       10\n",
       "Taxman                           8\n",
       "A Day in the Life               20\n",
       "Can't Buy Me Love              100"
      ]
     },
     "metadata": {},
     "output_type": "display_data"
    },
    {
     "data": {
      "text/html": [
       "<div>\n",
       "<style scoped>\n",
       "    .dataframe tbody tr th:only-of-type {\n",
       "        vertical-align: middle;\n",
       "    }\n",
       "\n",
       "    .dataframe tbody tr th {\n",
       "        vertical-align: top;\n",
       "    }\n",
       "\n",
       "    .dataframe thead th {\n",
       "        text-align: right;\n",
       "    }\n",
       "</style>\n",
       "<table border=\"1\" class=\"dataframe\">\n",
       "  <thead>\n",
       "    <tr style=\"text-align: right;\">\n",
       "      <th></th>\n",
       "      <th>Length</th>\n",
       "      <th>No. of releases</th>\n",
       "    </tr>\n",
       "    <tr>\n",
       "      <th>Title</th>\n",
       "      <th></th>\n",
       "      <th></th>\n",
       "    </tr>\n",
       "  </thead>\n",
       "  <tbody>\n",
       "    <tr>\n",
       "      <th>A Day in the Life</th>\n",
       "      <td>300</td>\n",
       "      <td>20</td>\n",
       "    </tr>\n",
       "    <tr>\n",
       "      <th>Can't Buy Me Love</th>\n",
       "      <td>150</td>\n",
       "      <td>100</td>\n",
       "    </tr>\n",
       "    <tr>\n",
       "      <th>Blackbird</th>\n",
       "      <td>120</td>\n",
       "      <td>10</td>\n",
       "    </tr>\n",
       "    <tr>\n",
       "      <th>Taxman</th>\n",
       "      <td>160</td>\n",
       "      <td>8</td>\n",
       "    </tr>\n",
       "  </tbody>\n",
       "</table>\n",
       "</div>"
      ],
      "text/plain": [
       "                   Length  No. of releases\n",
       "Title                                     \n",
       "A Day in the Life     300               20\n",
       "Can't Buy Me Love     150              100\n",
       "Blackbird             120               10\n",
       "Taxman                160                8"
      ]
     },
     "metadata": {},
     "output_type": "display_data"
    },
    {
     "data": {
      "text/html": [
       "<div>\n",
       "<style scoped>\n",
       "    .dataframe tbody tr th:only-of-type {\n",
       "        vertical-align: middle;\n",
       "    }\n",
       "\n",
       "    .dataframe tbody tr th {\n",
       "        vertical-align: top;\n",
       "    }\n",
       "\n",
       "    .dataframe thead th {\n",
       "        text-align: right;\n",
       "    }\n",
       "</style>\n",
       "<table border=\"1\" class=\"dataframe\">\n",
       "  <thead>\n",
       "    <tr style=\"text-align: right;\">\n",
       "      <th></th>\n",
       "      <th>Length</th>\n",
       "      <th>Song title</th>\n",
       "      <th>No. of releases</th>\n",
       "    </tr>\n",
       "  </thead>\n",
       "  <tbody>\n",
       "    <tr>\n",
       "      <th>2</th>\n",
       "      <td>300</td>\n",
       "      <td>A Day in the Life</td>\n",
       "      <td>20</td>\n",
       "    </tr>\n",
       "    <tr>\n",
       "      <th>3</th>\n",
       "      <td>150</td>\n",
       "      <td>Can't Buy Me Love</td>\n",
       "      <td>100</td>\n",
       "    </tr>\n",
       "    <tr>\n",
       "      <th>0</th>\n",
       "      <td>120</td>\n",
       "      <td>Blackbird</td>\n",
       "      <td>10</td>\n",
       "    </tr>\n",
       "    <tr>\n",
       "      <th>1</th>\n",
       "      <td>160</td>\n",
       "      <td>Taxman</td>\n",
       "      <td>8</td>\n",
       "    </tr>\n",
       "  </tbody>\n",
       "</table>\n",
       "</div>"
      ],
      "text/plain": [
       "   Length         Song title  No. of releases\n",
       "2     300  A Day in the Life               20\n",
       "3     150  Can't Buy Me Love              100\n",
       "0     120          Blackbird               10\n",
       "1     160             Taxman                8"
      ]
     },
     "execution_count": 234,
     "metadata": {},
     "output_type": "execute_result"
    }
   ],
   "source": [
    "d1 = pd.DataFrame({'Title':pd.Series(['A Day in the Life', 'Can\\'t Buy Me Love', 'Blackbird', 'Taxman']), \n",
    "                   'Length':pd.Series([300, 150, 120, 160])})\n",
    "d2 = pd.DataFrame({'Title':pd.Series(['Blackbird', 'Taxman', 'A Day in the Life', 'Can\\'t Buy Me Love']),\n",
    "                   'No. of releases':[10, 8, 20, 100]})\n",
    "d1 = d1.set_index('Title')\n",
    "d2 = d2.set_index('Title')\n",
    "display(d1)\n",
    "display(d2)\n",
    "\n",
    "# s = pd.merge(d1, d2)                     # this won't work now - no common columns to perform the merge on\n",
    "s = pd.merge(d1, d2, left_index=True, right_index=True)\n",
    "display(s)\n",
    "\n",
    "d2 = pd.DataFrame({'Song title':pd.Series(['Blackbird', 'Taxman', 'A Day in the Life', 'Can\\'t Buy Me Love']),\n",
    "                   'No. of releases':[10, 8, 20, 100]})\n",
    "s = pd.merge(d1, d2, left_index=True, right_on='Song title')\n",
    "s"
   ]
  },
  {
   "cell_type": "markdown",
   "metadata": {
    "pycharm": {
     "name": "#%% md\n"
    }
   },
   "source": [
    "#### `join()`\n",
    "A shorthand for using `pd.merge()` with `left_index=True` and `right_index=True`."
   ]
  },
  {
   "cell_type": "code",
   "execution_count": 237,
   "metadata": {
    "scrolled": true,
    "pycharm": {
     "name": "#%%\n"
    }
   },
   "outputs": [
    {
     "data": {
      "text/html": [
       "<div>\n",
       "<style scoped>\n",
       "    .dataframe tbody tr th:only-of-type {\n",
       "        vertical-align: middle;\n",
       "    }\n",
       "\n",
       "    .dataframe tbody tr th {\n",
       "        vertical-align: top;\n",
       "    }\n",
       "\n",
       "    .dataframe thead th {\n",
       "        text-align: right;\n",
       "    }\n",
       "</style>\n",
       "<table border=\"1\" class=\"dataframe\">\n",
       "  <thead>\n",
       "    <tr style=\"text-align: right;\">\n",
       "      <th></th>\n",
       "      <th>Length</th>\n",
       "      <th>No. of releases</th>\n",
       "    </tr>\n",
       "    <tr>\n",
       "      <th>Title</th>\n",
       "      <th></th>\n",
       "      <th></th>\n",
       "    </tr>\n",
       "  </thead>\n",
       "  <tbody>\n",
       "    <tr>\n",
       "      <th>A Day in the Life</th>\n",
       "      <td>300</td>\n",
       "      <td>20</td>\n",
       "    </tr>\n",
       "    <tr>\n",
       "      <th>Can't Buy Me Love</th>\n",
       "      <td>150</td>\n",
       "      <td>100</td>\n",
       "    </tr>\n",
       "    <tr>\n",
       "      <th>Blackbird</th>\n",
       "      <td>120</td>\n",
       "      <td>10</td>\n",
       "    </tr>\n",
       "    <tr>\n",
       "      <th>Taxman</th>\n",
       "      <td>160</td>\n",
       "      <td>8</td>\n",
       "    </tr>\n",
       "  </tbody>\n",
       "</table>\n",
       "</div>"
      ],
      "text/plain": [
       "                   Length  No. of releases\n",
       "Title                                     \n",
       "A Day in the Life     300               20\n",
       "Can't Buy Me Love     150              100\n",
       "Blackbird             120               10\n",
       "Taxman                160                8"
      ]
     },
     "execution_count": 237,
     "metadata": {},
     "output_type": "execute_result"
    }
   ],
   "source": [
    "d1 = pd.DataFrame({'Title':pd.Series(['A Day in the Life', 'Can\\'t Buy Me Love', 'Blackbird', 'Taxman']), \n",
    "                   'Length':pd.Series([300, 150, 120, 160])})\n",
    "d2 = pd.DataFrame({'Title':pd.Series(['Blackbird', 'Taxman', 'A Day in the Life', 'Can\\'t Buy Me Love']),\n",
    "                   'No. of releases':[10, 8, 20, 100]})\n",
    "d1 = d1.set_index('Title')\n",
    "d2 = d2.set_index('Title')\n",
    "d1.join(d2)"
   ]
  },
  {
   "cell_type": "markdown",
   "metadata": {
    "pycharm": {
     "name": "#%% md\n"
    }
   },
   "source": [
    "#### The `how` keyword\n",
    "Important when a value appears in one key column but not the other. Possible values include `'inner'` (intersection; the default), `'outer'` (union), `'left'` and `'right'`."
   ]
  },
  {
   "cell_type": "code",
   "execution_count": 7,
   "metadata": {
    "pycharm": {
     "name": "#%%\n"
    }
   },
   "outputs": [
    {
     "data": {
      "text/html": [
       "<div>\n",
       "<style scoped>\n",
       "    .dataframe tbody tr th:only-of-type {\n",
       "        vertical-align: middle;\n",
       "    }\n",
       "\n",
       "    .dataframe tbody tr th {\n",
       "        vertical-align: top;\n",
       "    }\n",
       "\n",
       "    .dataframe thead th {\n",
       "        text-align: right;\n",
       "    }\n",
       "</style>\n",
       "<table border=\"1\" class=\"dataframe\">\n",
       "  <thead>\n",
       "    <tr style=\"text-align: right;\">\n",
       "      <th></th>\n",
       "      <th>Title</th>\n",
       "      <th>Length</th>\n",
       "    </tr>\n",
       "  </thead>\n",
       "  <tbody>\n",
       "    <tr>\n",
       "      <th>0</th>\n",
       "      <td>A Day in the Life</td>\n",
       "      <td>300</td>\n",
       "    </tr>\n",
       "    <tr>\n",
       "      <th>1</th>\n",
       "      <td>Can't Buy Me Love</td>\n",
       "      <td>150</td>\n",
       "    </tr>\n",
       "    <tr>\n",
       "      <th>2</th>\n",
       "      <td>Blackbird</td>\n",
       "      <td>120</td>\n",
       "    </tr>\n",
       "  </tbody>\n",
       "</table>\n",
       "</div>"
      ],
      "text/plain": [
       "               Title  Length\n",
       "0  A Day in the Life     300\n",
       "1  Can't Buy Me Love     150\n",
       "2          Blackbird     120"
      ]
     },
     "metadata": {},
     "output_type": "display_data"
    },
    {
     "data": {
      "text/html": [
       "<div>\n",
       "<style scoped>\n",
       "    .dataframe tbody tr th:only-of-type {\n",
       "        vertical-align: middle;\n",
       "    }\n",
       "\n",
       "    .dataframe tbody tr th {\n",
       "        vertical-align: top;\n",
       "    }\n",
       "\n",
       "    .dataframe thead th {\n",
       "        text-align: right;\n",
       "    }\n",
       "</style>\n",
       "<table border=\"1\" class=\"dataframe\">\n",
       "  <thead>\n",
       "    <tr style=\"text-align: right;\">\n",
       "      <th></th>\n",
       "      <th>Title</th>\n",
       "      <th>No. of releases</th>\n",
       "    </tr>\n",
       "  </thead>\n",
       "  <tbody>\n",
       "    <tr>\n",
       "      <th>0</th>\n",
       "      <td>Blackbird</td>\n",
       "      <td>10</td>\n",
       "    </tr>\n",
       "    <tr>\n",
       "      <th>1</th>\n",
       "      <td>Taxman</td>\n",
       "      <td>8</td>\n",
       "    </tr>\n",
       "  </tbody>\n",
       "</table>\n",
       "</div>"
      ],
      "text/plain": [
       "       Title  No. of releases\n",
       "0  Blackbird               10\n",
       "1     Taxman                8"
      ]
     },
     "metadata": {},
     "output_type": "display_data"
    },
    {
     "data": {
      "text/html": [
       "<div>\n",
       "<style scoped>\n",
       "    .dataframe tbody tr th:only-of-type {\n",
       "        vertical-align: middle;\n",
       "    }\n",
       "\n",
       "    .dataframe tbody tr th {\n",
       "        vertical-align: top;\n",
       "    }\n",
       "\n",
       "    .dataframe thead th {\n",
       "        text-align: right;\n",
       "    }\n",
       "</style>\n",
       "<table border=\"1\" class=\"dataframe\">\n",
       "  <thead>\n",
       "    <tr style=\"text-align: right;\">\n",
       "      <th></th>\n",
       "      <th>Title</th>\n",
       "      <th>Length</th>\n",
       "      <th>No. of releases</th>\n",
       "    </tr>\n",
       "  </thead>\n",
       "  <tbody>\n",
       "    <tr>\n",
       "      <th>0</th>\n",
       "      <td>Blackbird</td>\n",
       "      <td>120</td>\n",
       "      <td>10</td>\n",
       "    </tr>\n",
       "  </tbody>\n",
       "</table>\n",
       "</div>"
      ],
      "text/plain": [
       "       Title  Length  No. of releases\n",
       "0  Blackbird     120               10"
      ]
     },
     "metadata": {},
     "output_type": "display_data"
    },
    {
     "data": {
      "text/html": [
       "<div>\n",
       "<style scoped>\n",
       "    .dataframe tbody tr th:only-of-type {\n",
       "        vertical-align: middle;\n",
       "    }\n",
       "\n",
       "    .dataframe tbody tr th {\n",
       "        vertical-align: top;\n",
       "    }\n",
       "\n",
       "    .dataframe thead th {\n",
       "        text-align: right;\n",
       "    }\n",
       "</style>\n",
       "<table border=\"1\" class=\"dataframe\">\n",
       "  <thead>\n",
       "    <tr style=\"text-align: right;\">\n",
       "      <th></th>\n",
       "      <th>Title</th>\n",
       "      <th>Length</th>\n",
       "      <th>No. of releases</th>\n",
       "    </tr>\n",
       "  </thead>\n",
       "  <tbody>\n",
       "    <tr>\n",
       "      <th>0</th>\n",
       "      <td>A Day in the Life</td>\n",
       "      <td>300.0</td>\n",
       "      <td>NaN</td>\n",
       "    </tr>\n",
       "    <tr>\n",
       "      <th>1</th>\n",
       "      <td>Can't Buy Me Love</td>\n",
       "      <td>150.0</td>\n",
       "      <td>NaN</td>\n",
       "    </tr>\n",
       "    <tr>\n",
       "      <th>2</th>\n",
       "      <td>Blackbird</td>\n",
       "      <td>120.0</td>\n",
       "      <td>10.0</td>\n",
       "    </tr>\n",
       "    <tr>\n",
       "      <th>3</th>\n",
       "      <td>Taxman</td>\n",
       "      <td>NaN</td>\n",
       "      <td>8.0</td>\n",
       "    </tr>\n",
       "  </tbody>\n",
       "</table>\n",
       "</div>"
      ],
      "text/plain": [
       "               Title  Length  No. of releases\n",
       "0  A Day in the Life   300.0              NaN\n",
       "1  Can't Buy Me Love   150.0              NaN\n",
       "2          Blackbird   120.0             10.0\n",
       "3             Taxman     NaN              8.0"
      ]
     },
     "metadata": {},
     "output_type": "display_data"
    },
    {
     "data": {
      "text/html": [
       "<div>\n",
       "<style scoped>\n",
       "    .dataframe tbody tr th:only-of-type {\n",
       "        vertical-align: middle;\n",
       "    }\n",
       "\n",
       "    .dataframe tbody tr th {\n",
       "        vertical-align: top;\n",
       "    }\n",
       "\n",
       "    .dataframe thead th {\n",
       "        text-align: right;\n",
       "    }\n",
       "</style>\n",
       "<table border=\"1\" class=\"dataframe\">\n",
       "  <thead>\n",
       "    <tr style=\"text-align: right;\">\n",
       "      <th></th>\n",
       "      <th>Title</th>\n",
       "      <th>Length</th>\n",
       "      <th>No. of releases</th>\n",
       "    </tr>\n",
       "  </thead>\n",
       "  <tbody>\n",
       "    <tr>\n",
       "      <th>0</th>\n",
       "      <td>A Day in the Life</td>\n",
       "      <td>300</td>\n",
       "      <td>NaN</td>\n",
       "    </tr>\n",
       "    <tr>\n",
       "      <th>1</th>\n",
       "      <td>Can't Buy Me Love</td>\n",
       "      <td>150</td>\n",
       "      <td>NaN</td>\n",
       "    </tr>\n",
       "    <tr>\n",
       "      <th>2</th>\n",
       "      <td>Blackbird</td>\n",
       "      <td>120</td>\n",
       "      <td>10.0</td>\n",
       "    </tr>\n",
       "  </tbody>\n",
       "</table>\n",
       "</div>"
      ],
      "text/plain": [
       "               Title  Length  No. of releases\n",
       "0  A Day in the Life     300              NaN\n",
       "1  Can't Buy Me Love     150              NaN\n",
       "2          Blackbird     120             10.0"
      ]
     },
     "metadata": {},
     "output_type": "display_data"
    },
    {
     "data": {
      "text/html": [
       "<div>\n",
       "<style scoped>\n",
       "    .dataframe tbody tr th:only-of-type {\n",
       "        vertical-align: middle;\n",
       "    }\n",
       "\n",
       "    .dataframe tbody tr th {\n",
       "        vertical-align: top;\n",
       "    }\n",
       "\n",
       "    .dataframe thead th {\n",
       "        text-align: right;\n",
       "    }\n",
       "</style>\n",
       "<table border=\"1\" class=\"dataframe\">\n",
       "  <thead>\n",
       "    <tr style=\"text-align: right;\">\n",
       "      <th></th>\n",
       "      <th>Title</th>\n",
       "      <th>Length</th>\n",
       "      <th>No. of releases</th>\n",
       "    </tr>\n",
       "  </thead>\n",
       "  <tbody>\n",
       "    <tr>\n",
       "      <th>0</th>\n",
       "      <td>Blackbird</td>\n",
       "      <td>120.0</td>\n",
       "      <td>10</td>\n",
       "    </tr>\n",
       "    <tr>\n",
       "      <th>1</th>\n",
       "      <td>Taxman</td>\n",
       "      <td>NaN</td>\n",
       "      <td>8</td>\n",
       "    </tr>\n",
       "  </tbody>\n",
       "</table>\n",
       "</div>"
      ],
      "text/plain": [
       "       Title  Length  No. of releases\n",
       "0  Blackbird   120.0               10\n",
       "1     Taxman     NaN                8"
      ]
     },
     "metadata": {},
     "output_type": "display_data"
    }
   ],
   "source": [
    "d1 = pd.DataFrame({'Title':pd.Series(['A Day in the Life', 'Can\\'t Buy Me Love', 'Blackbird']), \n",
    "                   'Length':pd.Series([300, 150, 120])})\n",
    "d2 = pd.DataFrame({'Title':pd.Series(['Blackbird', 'Taxman']),\n",
    "                   'No. of releases':[10, 8]})\n",
    "display(d1)\n",
    "display(d2)\n",
    "display(pd.merge(d1, d2))\n",
    "display(pd.merge(d1, d2, how='outer'))\n",
    "display(pd.merge(d1, d2, how='left'))\n",
    "display(pd.merge(d1, d2, how='right'))"
   ]
  },
  {
   "cell_type": "markdown",
   "metadata": {
    "pycharm": {
     "name": "#%% md\n"
    }
   },
   "source": [
    "#### The `suffixes` keyword\n",
    "Important when one or more columns *other than the key column* have the same (conflicting) names. By default, Pandas will create two columns in the resulting dataframe and will add the `_x` and `_y` suffixes to their names. The `suffixes` keyword enables superseding the defaults."
   ]
  },
  {
   "cell_type": "code",
   "execution_count": 15,
   "metadata": {
    "scrolled": true,
    "pycharm": {
     "name": "#%%\n"
    }
   },
   "outputs": [
    {
     "data": {
      "text/html": [
       "<div>\n",
       "<style scoped>\n",
       "    .dataframe tbody tr th:only-of-type {\n",
       "        vertical-align: middle;\n",
       "    }\n",
       "\n",
       "    .dataframe tbody tr th {\n",
       "        vertical-align: top;\n",
       "    }\n",
       "\n",
       "    .dataframe thead th {\n",
       "        text-align: right;\n",
       "    }\n",
       "</style>\n",
       "<table border=\"1\" class=\"dataframe\">\n",
       "  <thead>\n",
       "    <tr style=\"text-align: right;\">\n",
       "      <th></th>\n",
       "      <th>Title</th>\n",
       "      <th>Length</th>\n",
       "    </tr>\n",
       "  </thead>\n",
       "  <tbody>\n",
       "    <tr>\n",
       "      <th>0</th>\n",
       "      <td>A Day in the Life</td>\n",
       "      <td>300</td>\n",
       "    </tr>\n",
       "    <tr>\n",
       "      <th>1</th>\n",
       "      <td>Can't Buy Me Love</td>\n",
       "      <td>150</td>\n",
       "    </tr>\n",
       "  </tbody>\n",
       "</table>\n",
       "</div>"
      ],
      "text/plain": [
       "               Title  Length\n",
       "0  A Day in the Life     300\n",
       "1  Can't Buy Me Love     150"
      ]
     },
     "metadata": {},
     "output_type": "display_data"
    },
    {
     "data": {
      "text/html": [
       "<div>\n",
       "<style scoped>\n",
       "    .dataframe tbody tr th:only-of-type {\n",
       "        vertical-align: middle;\n",
       "    }\n",
       "\n",
       "    .dataframe tbody tr th {\n",
       "        vertical-align: top;\n",
       "    }\n",
       "\n",
       "    .dataframe thead th {\n",
       "        text-align: right;\n",
       "    }\n",
       "</style>\n",
       "<table border=\"1\" class=\"dataframe\">\n",
       "  <thead>\n",
       "    <tr style=\"text-align: right;\">\n",
       "      <th></th>\n",
       "      <th>Title</th>\n",
       "      <th>Length</th>\n",
       "    </tr>\n",
       "  </thead>\n",
       "  <tbody>\n",
       "    <tr>\n",
       "      <th>0</th>\n",
       "      <td>Blackbird</td>\n",
       "      <td>120</td>\n",
       "    </tr>\n",
       "    <tr>\n",
       "      <th>1</th>\n",
       "      <td>Taxman</td>\n",
       "      <td>160</td>\n",
       "    </tr>\n",
       "  </tbody>\n",
       "</table>\n",
       "</div>"
      ],
      "text/plain": [
       "       Title  Length\n",
       "0  Blackbird     120\n",
       "1     Taxman     160"
      ]
     },
     "metadata": {},
     "output_type": "display_data"
    },
    {
     "data": {
      "text/html": [
       "<div>\n",
       "<style scoped>\n",
       "    .dataframe tbody tr th:only-of-type {\n",
       "        vertical-align: middle;\n",
       "    }\n",
       "\n",
       "    .dataframe tbody tr th {\n",
       "        vertical-align: top;\n",
       "    }\n",
       "\n",
       "    .dataframe thead th {\n",
       "        text-align: right;\n",
       "    }\n",
       "</style>\n",
       "<table border=\"1\" class=\"dataframe\">\n",
       "  <thead>\n",
       "    <tr style=\"text-align: right;\">\n",
       "      <th></th>\n",
       "      <th>Title</th>\n",
       "      <th>Length_x</th>\n",
       "      <th>Length_y</th>\n",
       "    </tr>\n",
       "  </thead>\n",
       "  <tbody>\n",
       "    <tr>\n",
       "      <th>0</th>\n",
       "      <td>A Day in the Life</td>\n",
       "      <td>300.0</td>\n",
       "      <td>NaN</td>\n",
       "    </tr>\n",
       "    <tr>\n",
       "      <th>1</th>\n",
       "      <td>Can't Buy Me Love</td>\n",
       "      <td>150.0</td>\n",
       "      <td>NaN</td>\n",
       "    </tr>\n",
       "    <tr>\n",
       "      <th>2</th>\n",
       "      <td>Blackbird</td>\n",
       "      <td>NaN</td>\n",
       "      <td>120.0</td>\n",
       "    </tr>\n",
       "    <tr>\n",
       "      <th>3</th>\n",
       "      <td>Taxman</td>\n",
       "      <td>NaN</td>\n",
       "      <td>160.0</td>\n",
       "    </tr>\n",
       "  </tbody>\n",
       "</table>\n",
       "</div>"
      ],
      "text/plain": [
       "               Title  Length_x  Length_y\n",
       "0  A Day in the Life     300.0       NaN\n",
       "1  Can't Buy Me Love     150.0       NaN\n",
       "2          Blackbird       NaN     120.0\n",
       "3             Taxman       NaN     160.0"
      ]
     },
     "metadata": {},
     "output_type": "display_data"
    },
    {
     "data": {
      "text/html": [
       "<div>\n",
       "<style scoped>\n",
       "    .dataframe tbody tr th:only-of-type {\n",
       "        vertical-align: middle;\n",
       "    }\n",
       "\n",
       "    .dataframe tbody tr th {\n",
       "        vertical-align: top;\n",
       "    }\n",
       "\n",
       "    .dataframe thead th {\n",
       "        text-align: right;\n",
       "    }\n",
       "</style>\n",
       "<table border=\"1\" class=\"dataframe\">\n",
       "  <thead>\n",
       "    <tr style=\"text-align: right;\">\n",
       "      <th></th>\n",
       "      <th>Title</th>\n",
       "      <th>Length_d1</th>\n",
       "      <th>Length_d2</th>\n",
       "    </tr>\n",
       "  </thead>\n",
       "  <tbody>\n",
       "    <tr>\n",
       "      <th>0</th>\n",
       "      <td>A Day in the Life</td>\n",
       "      <td>300.0</td>\n",
       "      <td>NaN</td>\n",
       "    </tr>\n",
       "    <tr>\n",
       "      <th>1</th>\n",
       "      <td>Can't Buy Me Love</td>\n",
       "      <td>150.0</td>\n",
       "      <td>NaN</td>\n",
       "    </tr>\n",
       "    <tr>\n",
       "      <th>2</th>\n",
       "      <td>Blackbird</td>\n",
       "      <td>NaN</td>\n",
       "      <td>120.0</td>\n",
       "    </tr>\n",
       "    <tr>\n",
       "      <th>3</th>\n",
       "      <td>Taxman</td>\n",
       "      <td>NaN</td>\n",
       "      <td>160.0</td>\n",
       "    </tr>\n",
       "  </tbody>\n",
       "</table>\n",
       "</div>"
      ],
      "text/plain": [
       "               Title  Length_d1  Length_d2\n",
       "0  A Day in the Life      300.0        NaN\n",
       "1  Can't Buy Me Love      150.0        NaN\n",
       "2          Blackbird        NaN      120.0\n",
       "3             Taxman        NaN      160.0"
      ]
     },
     "metadata": {},
     "output_type": "display_data"
    }
   ],
   "source": [
    "# d1 = pd.DataFrame({'Title':pd.Series(['A Day in the Life', 'Can\\'t Buy Me Love', 'Blackbird', 'Taxman']), \n",
    "#                    'Length':pd.Series([300, 150, 120, 160])})\n",
    "# d2 = pd.DataFrame({'Title':pd.Series(['A Day in the Life', 'Can\\'t Buy Me Love', 'Blackbird', 'Taxman']), \n",
    "#                    'Length':pd.Series([300, 150, 120, 160])})\n",
    "d1 = pd.DataFrame({'Title':pd.Series(['A Day in the Life', 'Can\\'t Buy Me Love']), \n",
    "                   'Length':pd.Series([300, 150])})\n",
    "d2 = pd.DataFrame({'Title':pd.Series(['Blackbird', 'Taxman']), \n",
    "                   'Length':pd.Series([120, 160])})\n",
    "display(d1)\n",
    "display(d2)\n",
    "display(pd.merge(d1, d2, on='Title', how='outer'))\n",
    "display(pd.merge(d1, d2, on='Title', how='outer', suffixes=['_d1', '_d2']))"
   ]
  },
  {
   "cell_type": "markdown",
   "metadata": {
    "pycharm": {
     "name": "#%% md\n"
    }
   },
   "source": [
    "## Exercises: The Beatles songs dataset"
   ]
  },
  {
   "cell_type": "markdown",
   "metadata": {
    "pycharm": {
     "name": "#%% md\n"
    }
   },
   "source": [
    "### Exercise 1\n",
    "Read a dataset and split it in two, column-wise. Keep one or more columns in both resulting datasets."
   ]
  },
  {
   "cell_type": "markdown",
   "metadata": {
    "pycharm": {
     "name": "#%% md\n"
    }
   },
   "source": [
    "#### Read the dataset\n",
    "The dataset used in this exercise does not contain NA values."
   ]
  },
  {
   "cell_type": "code",
   "execution_count": 3,
   "metadata": {
    "pycharm": {
     "name": "#%%\n"
    }
   },
   "outputs": [],
   "source": [
    "songs = pd.read_csv('data/The Beatles songs dataset, v2, no NAs.csv')"
   ]
  },
  {
   "cell_type": "markdown",
   "metadata": {
    "pycharm": {
     "name": "#%% md\n"
    }
   },
   "source": [
    "#### Display some data from the dataset"
   ]
  },
  {
   "cell_type": "code",
   "execution_count": 4,
   "metadata": {
    "pycharm": {
     "name": "#%%\n"
    }
   },
   "outputs": [
    {
     "data": {
      "text/plain": "<bound method NDFrame.head of 0                        12-Bar Original\n1                      A Day in the Life\n2                     A Hard Day's Night\n3             A Shot of Rhythm and Blues\n4                       A Taste of Honey\n                     ...                \n305       You're Going to Lose That Girl\n306    You've Got to Hide Your Love Away\n307       You've Really Got a Hold on Me\n308                          Young Blood\n309              Your Mother Should Know\nName: Title, Length: 310, dtype: object>"
     },
     "metadata": {},
     "output_type": "display_data"
    },
    {
     "data": {
      "text/plain": "Index(['Title', 'Year', 'Album.debut', 'Duration', 'Other.releases', 'Genre',\n       'Songwriter', 'Lead.vocal', 'Top.50.Billboard'],\n      dtype='object')"
     },
     "metadata": {},
     "output_type": "display_data"
    },
    {
     "data": {
      "text/plain": "<bound method NDFrame.head of 0                         NaN\n1        Lennon and McCartney\n2      Lennon, with McCartney\n3                      Lennon\n4                   McCartney\n                ...          \n305                    Lennon\n306                    Lennon\n307       Lennon and Harrison\n308                  Harrison\n309                 McCartney\nName: Lead.vocal, Length: 310, dtype: object>"
     },
     "metadata": {},
     "output_type": "display_data"
    }
   ],
   "source": [
    "# display(songs.head)\n",
    "display(songs['Title'].head)\n",
    "display(songs.columns)\n",
    "display(songs['Lead.vocal'].head)"
   ]
  },
  {
   "cell_type": "markdown",
   "metadata": {
    "pycharm": {
     "name": "#%% md\n"
    }
   },
   "source": [
    "#### Split the dataset in two by selecting different columns\n",
    "There are multiple ways to do it. <br>Whatever the way you use, if you also want to rearrange the columns in a dataset, see [this](https://stackoverflow.com/questions/13148429/how-to-change-the-order-of-dataframe-columns)."
   ]
  },
  {
   "cell_type": "markdown",
   "metadata": {
    "pycharm": {
     "name": "#%% md\n"
    }
   },
   "source": [
    "##### Method 1: using lists of columns"
   ]
  },
  {
   "cell_type": "markdown",
   "metadata": {
    "pycharm": {
     "name": "#%% md\n"
    }
   },
   "source": [
    "Based on [this](https://stackoverflow.com/a/13148611) idea.<br>\n",
    "Convert the columns `Index` object from the original dataset to a list of column names and select some columns for the two dataframes."
   ]
  },
  {
   "cell_type": "code",
   "execution_count": 5,
   "metadata": {
    "pycharm": {
     "name": "#%%\n"
    }
   },
   "outputs": [
    {
     "data": {
      "text/plain": "['Title',\n 'Year',\n 'Album.debut',\n 'Duration',\n 'Other.releases',\n 'Genre',\n 'Songwriter',\n 'Lead.vocal',\n 'Top.50.Billboard']"
     },
     "execution_count": 5,
     "metadata": {},
     "output_type": "execute_result"
    }
   ],
   "source": [
    "cols = songs.columns.tolist()\n",
    "cols"
   ]
  },
  {
   "cell_type": "code",
   "execution_count": 6,
   "metadata": {
    "pycharm": {
     "name": "#%%\n"
    }
   },
   "outputs": [
    {
     "data": {
      "text/plain": "['Title', 'Year', 'Album.debut', 'Duration', 'Other.releases']"
     },
     "metadata": {},
     "output_type": "display_data"
    },
    {
     "data": {
      "text/plain": "['Title', 'Genre', 'Songwriter', 'Lead.vocal', 'Top.50.Billboard']"
     },
     "metadata": {},
     "output_type": "display_data"
    }
   ],
   "source": [
    "cols1 = cols[0:5]\n",
    "display(cols1)\n",
    "# display(cols[0])\n",
    "# display([cols[0]])\n",
    "cols2 = [cols[0]] + cols[5:]\n",
    "display(cols2)"
   ]
  },
  {
   "cell_type": "markdown",
   "metadata": {
    "pycharm": {
     "name": "#%% md\n"
    }
   },
   "source": [
    "Create the two dataframes."
   ]
  },
  {
   "cell_type": "code",
   "execution_count": 7,
   "metadata": {
    "pycharm": {
     "name": "#%%\n"
    }
   },
   "outputs": [],
   "source": [
    "songs1 = songs[cols1]\n",
    "songs2 = songs[cols2]\n",
    "# display(songs1.head)\n",
    "# display(songs2.head)"
   ]
  },
  {
   "cell_type": "markdown",
   "metadata": {
    "pycharm": {
     "name": "#%% md\n"
    }
   },
   "source": [
    "For the sake of the exercise, in the second dataframe deliberately change the name of the `Title` column to `Song title`."
   ]
  },
  {
   "cell_type": "code",
   "execution_count": 8,
   "metadata": {
    "pycharm": {
     "name": "#%%\n"
    }
   },
   "outputs": [],
   "source": [
    "# songs2.rename(columns={'Title':'Song title'}, inplace=True)                 # throws a warning, so working on a copy is better\n",
    "songs2 = songs2.copy().rename(columns={'Title':'Song title'})"
   ]
  },
  {
   "cell_type": "code",
   "execution_count": 9,
   "metadata": {
    "pycharm": {
     "name": "#%%\n"
    }
   },
   "outputs": [
    {
     "data": {
      "text/plain": "Index(['Song title', 'Genre', 'Songwriter', 'Lead.vocal', 'Top.50.Billboard'], dtype='object')"
     },
     "metadata": {},
     "output_type": "display_data"
    },
    {
     "data": {
      "text/plain": "<bound method NDFrame.head of                             Song title  \\\n0                      12-Bar Original   \n1                    A Day in the Life   \n2                   A Hard Day's Night   \n3           A Shot of Rhythm and Blues   \n4                     A Taste of Honey   \n..                                 ...   \n305     You're Going to Lose That Girl   \n306  You've Got to Hide Your Love Away   \n307     You've Really Got a Hold on Me   \n308                        Young Blood   \n309            Your Mother Should Know   \n\n                                                 Genre  \\\n0                                                Blues   \n1                 Psychedelic Rock, Art Rock, Pop/Rock   \n2                           Rock, Electronic, Pop/Rock   \n3                                        R&B, Pop/Rock   \n4                         Pop/Rock, Jazz, Stage&Screen   \n..                                                 ...   \n305                                     Rock, Pop/Rock   \n306                                       FolkPop/Rock   \n307                                     Soul, Pop/Rock   \n308                                           Pop/Rock   \n309  Music Hall, Vaudeville Rock, Psychedelic Pop, ...   \n\n                                  Songwriter              Lead.vocal  \\\n0    Lennon, McCartney, Harrison and Starkey                     NaN   \n1                       Lennon and McCartney    Lennon and McCartney   \n2                                     Lennon  Lennon, with McCartney   \n3                                   Thompson                  Lennon   \n4                              Scott, Marlow               McCartney   \n..                                       ...                     ...   \n305                                   Lennon                  Lennon   \n306                                   Lennon                  Lennon   \n307                                 Robinson     Lennon and Harrison   \n308                          Leiber, Stoller                Harrison   \n309                                McCartney               McCartney   \n\n     Top.50.Billboard  \n0                  -1  \n1                  -1  \n2                   8  \n3                  -1  \n4                  -1  \n..                ...  \n305                -1  \n306                -1  \n307                -1  \n308                -1  \n309                -1  \n\n[310 rows x 5 columns]>"
     },
     "metadata": {},
     "output_type": "display_data"
    }
   ],
   "source": [
    "display(songs2.columns)\n",
    "display(songs2.head)"
   ]
  },
  {
   "cell_type": "markdown",
   "metadata": {
    "pycharm": {
     "name": "#%% md\n"
    }
   },
   "source": [
    "##### Method 2: using `np.split()`\n",
    "Based on [this idea](https://stackoverflow.com/a/41624305)."
   ]
  },
  {
   "cell_type": "markdown",
   "metadata": {
    "pycharm": {
     "name": "#%% md\n"
    }
   },
   "source": [
    "Use `np.split()` to split the original dataframe to two or more smaller-width dataframes."
   ]
  },
  {
   "cell_type": "code",
   "execution_count": 10,
   "metadata": {
    "scrolled": true,
    "pycharm": {
     "name": "#%%\n"
    }
   },
   "outputs": [
    {
     "data": {
      "text/plain": "['Title',\n 'Year',\n 'Album.debut',\n 'Duration',\n 'Other.releases',\n 'Genre',\n 'Songwriter',\n 'Lead.vocal',\n 'Top.50.Billboard']"
     },
     "metadata": {},
     "output_type": "display_data"
    },
    {
     "data": {
      "text/plain": "['Title', 'Year', 'Album.debut', 'Duration', 'Other.releases']"
     },
     "metadata": {},
     "output_type": "display_data"
    },
    {
     "data": {
      "text/plain": "['Song title', 'Genre', 'Songwriter', 'Lead.vocal', 'Top.50.Billboard']"
     },
     "metadata": {},
     "output_type": "display_data"
    }
   ],
   "source": [
    "display(songs.columns.tolist())\n",
    "s = np.split(songs, [5], axis=1)    # [5]: split on the 'Genre' column (the 6th one; it becomes the first one in the second df)\n",
    "songs1 = s[0]\n",
    "songs2 = s[1]\n",
    "# songs1.head\n",
    "# songs2.head\n",
    "songs2 = pd.concat([pd.DataFrame({'Song title':songs['Title']}), songs2], axis=1)\n",
    "# songs2.head\n",
    "display(songs1.columns.tolist())\n",
    "display(songs2.columns.tolist())"
   ]
  },
  {
   "cell_type": "markdown",
   "metadata": {
    "pycharm": {
     "name": "#%% md\n"
    }
   },
   "source": [
    "##### Method 3: using the `loc` and `iloc` indexers\n",
    "Based on [this idea](https://stackoverflow.com/a/41624272) and on the third example from the [`pd.DataFrame` as two-dimensional array](#pd.DataFrame-as-two-dimensional-array) section (Slicing a `pd.DataFrame` object)."
   ]
  },
  {
   "cell_type": "code",
   "execution_count": 11,
   "metadata": {
    "pycharm": {
     "name": "#%%\n"
    }
   },
   "outputs": [
    {
     "data": {
      "text/plain": "<bound method NDFrame.head of                                  Title  Year  \\\n0                      12-Bar Original  1965   \n1                    A Day in the Life  1967   \n2                   A Hard Day's Night  1964   \n3           A Shot of Rhythm and Blues  1963   \n4                     A Taste of Honey  1963   \n..                                 ...   ...   \n305     You're Going to Lose That Girl  1965   \n306  You've Got to Hide Your Love Away  1965   \n307     You've Really Got a Hold on Me  1963   \n308                        Young Blood  1963   \n309            Your Mother Should Know  1967   \n\n                                           Album.debut  Duration  \\\n0                                          Anthology 2       174   \n1                Sgt. Pepper's Lonely Hearts Club Band       335   \n2                 UK: A Hard Day's Night US: 1962-1966       152   \n3                                      Live at the BBC       104   \n4           UK: Please Please Me US: The Early Beatles       163   \n..                                                 ...       ...   \n305                                              Help!       140   \n306                                              Help!       131   \n307  UK: With the Beatles US: The Beatles Second Album       182   \n308                                    Live at the BBC       116   \n309                               Magical Mystery Tour       149   \n\n     Other.releases  \n0                 0  \n1                12  \n2                35  \n3                 0  \n4                29  \n..              ...  \n305               6  \n306              12  \n307               2  \n308               0  \n309              13  \n\n[310 rows x 5 columns]>"
     },
     "metadata": {},
     "output_type": "display_data"
    },
    {
     "data": {
      "text/plain": "<bound method NDFrame.head of                             Song title  \\\n0                      12-Bar Original   \n1                    A Day in the Life   \n2                   A Hard Day's Night   \n3           A Shot of Rhythm and Blues   \n4                     A Taste of Honey   \n..                                 ...   \n305     You're Going to Lose That Girl   \n306  You've Got to Hide Your Love Away   \n307     You've Really Got a Hold on Me   \n308                        Young Blood   \n309            Your Mother Should Know   \n\n                                                 Genre  \\\n0                                                Blues   \n1                 Psychedelic Rock, Art Rock, Pop/Rock   \n2                           Rock, Electronic, Pop/Rock   \n3                                        R&B, Pop/Rock   \n4                         Pop/Rock, Jazz, Stage&Screen   \n..                                                 ...   \n305                                     Rock, Pop/Rock   \n306                                       FolkPop/Rock   \n307                                     Soul, Pop/Rock   \n308                                           Pop/Rock   \n309  Music Hall, Vaudeville Rock, Psychedelic Pop, ...   \n\n                                  Songwriter              Lead.vocal  \\\n0    Lennon, McCartney, Harrison and Starkey                     NaN   \n1                       Lennon and McCartney    Lennon and McCartney   \n2                                     Lennon  Lennon, with McCartney   \n3                                   Thompson                  Lennon   \n4                              Scott, Marlow               McCartney   \n..                                       ...                     ...   \n305                                   Lennon                  Lennon   \n306                                   Lennon                  Lennon   \n307                                 Robinson     Lennon and Harrison   \n308                          Leiber, Stoller                Harrison   \n309                                McCartney               McCartney   \n\n     Top.50.Billboard  \n0                  -1  \n1                  -1  \n2                   8  \n3                  -1  \n4                  -1  \n..                ...  \n305                -1  \n306                -1  \n307                -1  \n308                -1  \n309                -1  \n\n[310 rows x 5 columns]>"
     },
     "metadata": {},
     "output_type": "display_data"
    }
   ],
   "source": [
    "# # Just testing\n",
    "# songs1 = songs.loc[:, ['Title', 'Year']]\n",
    "# display(songs1.head)\n",
    "# songs2 = songs.iloc[:, 5:]    # 5: split on the 'Genre' column (the 6th one; it becomes the first one in the second df)\n",
    "# display(songs2.head)\n",
    "# # display(songs.loc['s2':'s3', 'Title':'Album debut'])\n",
    "# # display(songs.iloc[:2, :2])\n",
    "\n",
    "songs1 = songs.iloc[:, :5]    # 5: split on the 'Genre' column (the 6th one; it becomes the first one in the second df)\n",
    "display(songs1.head)\n",
    "songs2 = songs.loc[:, 'Genre':'Top.50.Billboard']\n",
    "songs2 = pd.concat([pd.DataFrame({'Song title':songs['Title']}), songs2], axis=1)\n",
    "display(songs2.head)"
   ]
  },
  {
   "cell_type": "markdown",
   "metadata": {
    "pycharm": {
     "name": "#%% md\n"
    }
   },
   "source": [
    "#### Save the resulting datasets\n",
    "Based on [this](https://stackoverflow.com/q/16923281) and [this](https://stackoverflow.com/a/25230582).<br>\n",
    "As iti is suggested [here](https://stackoverflow.com/a/25230582), iti is a good idea to include `index=False` in the call to `to_csv()` in order to avoid the index being saved as a separate column in the resulting `csv` file. See [Merge the two datasets into one, keeping only the relevant columns](#Merge-the-two-datasets-into-one,-keeping-only-the-relevant-columns) below or [this](https://stackoverflow.com/a/42978156) for details on how to eliminate this unnamed extra column from the `csv` file if it is present there."
   ]
  },
  {
   "cell_type": "code",
   "execution_count": 12,
   "metadata": {
    "pycharm": {
     "name": "#%%\n"
    }
   },
   "outputs": [],
   "source": [
    "songs1.to_csv('data/The Beatles songs dataset, v2, no NAs, left.csv', index=False)\n",
    "songs2.to_csv('data/The Beatles songs dataset, v2, no NAs, right.csv', index=False)\n",
    "# songs1.to_csv('data/The Beatles songs dataset, v2, no NAs, left.csv')     # saves the csv file with the unnamed index column\n",
    "# songs2.to_csv('data/The Beatles songs dataset, v2, no NAs, right.csv')    # saves the csv file with the unnamed index column"
   ]
  },
  {
   "cell_type": "markdown",
   "metadata": {
    "pycharm": {
     "name": "#%% md\n"
    }
   },
   "source": [
    "### Exercise 2\n",
    "Using the two datasets generated in [Exercise 1](#Exercise-1), rank The Beatles albums released between 1962 and 1966 by the proportion of John Lennon's appearance as the lead vocalist in the songs from the corresponding album. Assume that the lead vocalist's name is listed as the first one in the `Lead.vocal` column. As for the album titles, take into account only the titles of the UK releases."
   ]
  },
  {
   "cell_type": "markdown",
   "metadata": {
    "pycharm": {
     "name": "#%% md\n"
    }
   },
   "source": [
    "#### Read the datasets"
   ]
  },
  {
   "cell_type": "code",
   "execution_count": 13,
   "metadata": {
    "pycharm": {
     "name": "#%%\n"
    }
   },
   "outputs": [],
   "source": [
    "songs1 = pd.read_csv('data/The Beatles songs dataset, v2, no NAs, left.csv')\n",
    "songs2 = pd.read_csv('data/The Beatles songs dataset, v2, no NAs, right.csv')\n",
    "# display(songs1.head)\n",
    "# display(songs2.head)"
   ]
  },
  {
   "cell_type": "markdown",
   "metadata": {
    "pycharm": {
     "name": "#%% md\n"
    }
   },
   "source": [
    "#### Merge the two datasets into one, keeping only the relevant columns"
   ]
  },
  {
   "cell_type": "code",
   "execution_count": 14,
   "metadata": {
    "pycharm": {
     "name": "#%%\n"
    }
   },
   "outputs": [
    {
     "data": {
      "text/plain": "<bound method NDFrame.head of                                  Title  Year  \\\n0                      12-Bar Original  1965   \n1                    A Day in the Life  1967   \n2                   A Hard Day's Night  1964   \n3           A Shot of Rhythm and Blues  1963   \n4                     A Taste of Honey  1963   \n..                                 ...   ...   \n307     You're Going to Lose That Girl  1965   \n308  You've Got to Hide Your Love Away  1965   \n309     You've Really Got a Hold on Me  1963   \n310                        Young Blood  1963   \n311            Your Mother Should Know  1967   \n\n                                           Album.debut              Lead.vocal  \n0                                          Anthology 2                     NaN  \n1                Sgt. Pepper's Lonely Hearts Club Band    Lennon and McCartney  \n2                 UK: A Hard Day's Night US: 1962-1966  Lennon, with McCartney  \n3                                      Live at the BBC                  Lennon  \n4           UK: Please Please Me US: The Early Beatles               McCartney  \n..                                                 ...                     ...  \n307                                              Help!                  Lennon  \n308                                              Help!                  Lennon  \n309  UK: With the Beatles US: The Beatles Second Album     Lennon and Harrison  \n310                                    Live at the BBC                Harrison  \n311                               Magical Mystery Tour               McCartney  \n\n[312 rows x 4 columns]>"
     },
     "execution_count": 14,
     "metadata": {},
     "output_type": "execute_result"
    }
   ],
   "source": [
    "songs = pd.merge(songs1.drop(columns=['Duration', 'Other.releases'], axis=1),               # drop unnecessary columns (left)\n",
    "                 songs2.drop(columns=['Genre', 'Songwriter', 'Top.50.Billboard'], axis=1),  # drop unnecessary columns (right)\n",
    "                 left_on='Title', right_on='Song title',\n",
    "                 how='outer').drop('Song title', axis=1)                                    # drop duplicate info\n",
    "\n",
    "# songs.drop(['Unnamed: 0_x', 'Unnamed: 0_y'], axis=1).head  # in case the csv file(s) has (have) been created w. the index col.\n",
    "\n",
    "songs.head"
   ]
  },
  {
   "cell_type": "markdown",
   "metadata": {
    "pycharm": {
     "name": "#%% md\n"
    }
   },
   "source": [
    "#### Check for possible NA values in the resulting dataframe"
   ]
  },
  {
   "cell_type": "code",
   "execution_count": 15,
   "metadata": {
    "pycharm": {
     "name": "#%%\n"
    }
   },
   "outputs": [
    {
     "data": {
      "text/plain": "Title          False\nYear           False\nAlbum.debut     True\nLead.vocal      True\ndtype: bool"
     },
     "execution_count": 15,
     "metadata": {},
     "output_type": "execute_result"
    }
   ],
   "source": [
    "songs.isnull().any()"
   ]
  },
  {
   "cell_type": "markdown",
   "metadata": {
    "pycharm": {
     "name": "#%% md\n"
    }
   },
   "source": [
    "There *are* NA values in the `Album.debut` and `Lead.vocal` columns."
   ]
  },
  {
   "cell_type": "markdown",
   "metadata": {
    "pycharm": {
     "name": "#%% md\n"
    }
   },
   "source": [
    "Check the songs with NA values in the `Album.debut` column and, for convenience, replace these NA values with `Unknown`:"
   ]
  },
  {
   "cell_type": "code",
   "execution_count": 16,
   "metadata": {
    "pycharm": {
     "name": "#%%\n"
    }
   },
   "outputs": [
    {
     "data": {
      "text/plain": "22"
     },
     "metadata": {},
     "output_type": "display_data"
    },
    {
     "data": {
      "text/plain": "8"
     },
     "metadata": {},
     "output_type": "display_data"
    },
    {
     "data": {
      "text/plain": "                         Title  Year Album.debut               Lead.vocal\n37                    Catswalk  1962         NaN                      NaN\n42                     Circles  1968         NaN                 Harrison\n64                    Etcetera  1968         NaN                McCartney\n85                     Goodbye  1969         NaN                McCartney\n89                     Heather  1968         NaN                McCartney\n112      I Lost My Little Girl  1962         NaN                   Lennon\n127    I'll Keep You Satisfied  1963         NaN  Lennon and/or McCartney\n150            Jazz Piano Song  1969         NaN                McCartney\n151             Jessie's Dream  1967         NaN                      NaN\n167              Looking Glass  1962         NaN                McCartney\n169          Love of the Loved  1962         NaN                McCartney\n174                     Madman  1969         NaN                   Lennon\n201         One and One Is Two  1964         NaN                McCartney\n223      September in the Rain  1962         NaN                McCartney\n227     Shakin' in the Sixties  1969         NaN                   Lennon\n240              Sour Milk Sea  1968         NaN                 Harrison\n246  Take Good Care of My Baby  1962         NaN                 Harrison\n264                 The Saints  1962         NaN                 Sheridan\n274           Tip of My Tongue  1962         NaN         McCartney/Lennon\n281          Watching Rainbows  1969         NaN                   Lennon\n291             Winston's Walk  1960         NaN                      NaN\n294                      Woman  1965         NaN                McCartney",
      "text/html": "<div>\n<style scoped>\n    .dataframe tbody tr th:only-of-type {\n        vertical-align: middle;\n    }\n\n    .dataframe tbody tr th {\n        vertical-align: top;\n    }\n\n    .dataframe thead th {\n        text-align: right;\n    }\n</style>\n<table border=\"1\" class=\"dataframe\">\n  <thead>\n    <tr style=\"text-align: right;\">\n      <th></th>\n      <th>Title</th>\n      <th>Year</th>\n      <th>Album.debut</th>\n      <th>Lead.vocal</th>\n    </tr>\n  </thead>\n  <tbody>\n    <tr>\n      <th>37</th>\n      <td>Catswalk</td>\n      <td>1962</td>\n      <td>NaN</td>\n      <td>NaN</td>\n    </tr>\n    <tr>\n      <th>42</th>\n      <td>Circles</td>\n      <td>1968</td>\n      <td>NaN</td>\n      <td>Harrison</td>\n    </tr>\n    <tr>\n      <th>64</th>\n      <td>Etcetera</td>\n      <td>1968</td>\n      <td>NaN</td>\n      <td>McCartney</td>\n    </tr>\n    <tr>\n      <th>85</th>\n      <td>Goodbye</td>\n      <td>1969</td>\n      <td>NaN</td>\n      <td>McCartney</td>\n    </tr>\n    <tr>\n      <th>89</th>\n      <td>Heather</td>\n      <td>1968</td>\n      <td>NaN</td>\n      <td>McCartney</td>\n    </tr>\n    <tr>\n      <th>112</th>\n      <td>I Lost My Little Girl</td>\n      <td>1962</td>\n      <td>NaN</td>\n      <td>Lennon</td>\n    </tr>\n    <tr>\n      <th>127</th>\n      <td>I'll Keep You Satisfied</td>\n      <td>1963</td>\n      <td>NaN</td>\n      <td>Lennon and/or McCartney</td>\n    </tr>\n    <tr>\n      <th>150</th>\n      <td>Jazz Piano Song</td>\n      <td>1969</td>\n      <td>NaN</td>\n      <td>McCartney</td>\n    </tr>\n    <tr>\n      <th>151</th>\n      <td>Jessie's Dream</td>\n      <td>1967</td>\n      <td>NaN</td>\n      <td>NaN</td>\n    </tr>\n    <tr>\n      <th>167</th>\n      <td>Looking Glass</td>\n      <td>1962</td>\n      <td>NaN</td>\n      <td>McCartney</td>\n    </tr>\n    <tr>\n      <th>169</th>\n      <td>Love of the Loved</td>\n      <td>1962</td>\n      <td>NaN</td>\n      <td>McCartney</td>\n    </tr>\n    <tr>\n      <th>174</th>\n      <td>Madman</td>\n      <td>1969</td>\n      <td>NaN</td>\n      <td>Lennon</td>\n    </tr>\n    <tr>\n      <th>201</th>\n      <td>One and One Is Two</td>\n      <td>1964</td>\n      <td>NaN</td>\n      <td>McCartney</td>\n    </tr>\n    <tr>\n      <th>223</th>\n      <td>September in the Rain</td>\n      <td>1962</td>\n      <td>NaN</td>\n      <td>McCartney</td>\n    </tr>\n    <tr>\n      <th>227</th>\n      <td>Shakin' in the Sixties</td>\n      <td>1969</td>\n      <td>NaN</td>\n      <td>Lennon</td>\n    </tr>\n    <tr>\n      <th>240</th>\n      <td>Sour Milk Sea</td>\n      <td>1968</td>\n      <td>NaN</td>\n      <td>Harrison</td>\n    </tr>\n    <tr>\n      <th>246</th>\n      <td>Take Good Care of My Baby</td>\n      <td>1962</td>\n      <td>NaN</td>\n      <td>Harrison</td>\n    </tr>\n    <tr>\n      <th>264</th>\n      <td>The Saints</td>\n      <td>1962</td>\n      <td>NaN</td>\n      <td>Sheridan</td>\n    </tr>\n    <tr>\n      <th>274</th>\n      <td>Tip of My Tongue</td>\n      <td>1962</td>\n      <td>NaN</td>\n      <td>McCartney/Lennon</td>\n    </tr>\n    <tr>\n      <th>281</th>\n      <td>Watching Rainbows</td>\n      <td>1969</td>\n      <td>NaN</td>\n      <td>Lennon</td>\n    </tr>\n    <tr>\n      <th>291</th>\n      <td>Winston's Walk</td>\n      <td>1960</td>\n      <td>NaN</td>\n      <td>NaN</td>\n    </tr>\n    <tr>\n      <th>294</th>\n      <td>Woman</td>\n      <td>1965</td>\n      <td>NaN</td>\n      <td>McCartney</td>\n    </tr>\n  </tbody>\n</table>\n</div>"
     },
     "metadata": {},
     "output_type": "display_data"
    },
    {
     "data": {
      "text/plain": "Empty DataFrame\nColumns: [Title, Year, Album.debut, Lead.vocal]\nIndex: []",
      "text/html": "<div>\n<style scoped>\n    .dataframe tbody tr th:only-of-type {\n        vertical-align: middle;\n    }\n\n    .dataframe tbody tr th {\n        vertical-align: top;\n    }\n\n    .dataframe thead th {\n        text-align: right;\n    }\n</style>\n<table border=\"1\" class=\"dataframe\">\n  <thead>\n    <tr style=\"text-align: right;\">\n      <th></th>\n      <th>Title</th>\n      <th>Year</th>\n      <th>Album.debut</th>\n      <th>Lead.vocal</th>\n    </tr>\n  </thead>\n  <tbody>\n  </tbody>\n</table>\n</div>"
     },
     "metadata": {},
     "output_type": "display_data"
    },
    {
     "data": {
      "text/plain": "0"
     },
     "metadata": {},
     "output_type": "display_data"
    },
    {
     "data": {
      "text/plain": "                         Title  Year Album.debut               Lead.vocal\n37                    Catswalk  1962     Unknown                      NaN\n42                     Circles  1968     Unknown                 Harrison\n64                    Etcetera  1968     Unknown                McCartney\n85                     Goodbye  1969     Unknown                McCartney\n89                     Heather  1968     Unknown                McCartney\n112      I Lost My Little Girl  1962     Unknown                   Lennon\n127    I'll Keep You Satisfied  1963     Unknown  Lennon and/or McCartney\n150            Jazz Piano Song  1969     Unknown                McCartney\n151             Jessie's Dream  1967     Unknown                      NaN\n167              Looking Glass  1962     Unknown                McCartney\n169          Love of the Loved  1962     Unknown                McCartney\n174                     Madman  1969     Unknown                   Lennon\n201         One and One Is Two  1964     Unknown                McCartney\n223      September in the Rain  1962     Unknown                McCartney\n227     Shakin' in the Sixties  1969     Unknown                   Lennon\n240              Sour Milk Sea  1968     Unknown                 Harrison\n246  Take Good Care of My Baby  1962     Unknown                 Harrison\n264                 The Saints  1962     Unknown                 Sheridan\n274           Tip of My Tongue  1962     Unknown         McCartney/Lennon\n281          Watching Rainbows  1969     Unknown                   Lennon\n291             Winston's Walk  1960     Unknown                      NaN\n294                      Woman  1965     Unknown                McCartney",
      "text/html": "<div>\n<style scoped>\n    .dataframe tbody tr th:only-of-type {\n        vertical-align: middle;\n    }\n\n    .dataframe tbody tr th {\n        vertical-align: top;\n    }\n\n    .dataframe thead th {\n        text-align: right;\n    }\n</style>\n<table border=\"1\" class=\"dataframe\">\n  <thead>\n    <tr style=\"text-align: right;\">\n      <th></th>\n      <th>Title</th>\n      <th>Year</th>\n      <th>Album.debut</th>\n      <th>Lead.vocal</th>\n    </tr>\n  </thead>\n  <tbody>\n    <tr>\n      <th>37</th>\n      <td>Catswalk</td>\n      <td>1962</td>\n      <td>Unknown</td>\n      <td>NaN</td>\n    </tr>\n    <tr>\n      <th>42</th>\n      <td>Circles</td>\n      <td>1968</td>\n      <td>Unknown</td>\n      <td>Harrison</td>\n    </tr>\n    <tr>\n      <th>64</th>\n      <td>Etcetera</td>\n      <td>1968</td>\n      <td>Unknown</td>\n      <td>McCartney</td>\n    </tr>\n    <tr>\n      <th>85</th>\n      <td>Goodbye</td>\n      <td>1969</td>\n      <td>Unknown</td>\n      <td>McCartney</td>\n    </tr>\n    <tr>\n      <th>89</th>\n      <td>Heather</td>\n      <td>1968</td>\n      <td>Unknown</td>\n      <td>McCartney</td>\n    </tr>\n    <tr>\n      <th>112</th>\n      <td>I Lost My Little Girl</td>\n      <td>1962</td>\n      <td>Unknown</td>\n      <td>Lennon</td>\n    </tr>\n    <tr>\n      <th>127</th>\n      <td>I'll Keep You Satisfied</td>\n      <td>1963</td>\n      <td>Unknown</td>\n      <td>Lennon and/or McCartney</td>\n    </tr>\n    <tr>\n      <th>150</th>\n      <td>Jazz Piano Song</td>\n      <td>1969</td>\n      <td>Unknown</td>\n      <td>McCartney</td>\n    </tr>\n    <tr>\n      <th>151</th>\n      <td>Jessie's Dream</td>\n      <td>1967</td>\n      <td>Unknown</td>\n      <td>NaN</td>\n    </tr>\n    <tr>\n      <th>167</th>\n      <td>Looking Glass</td>\n      <td>1962</td>\n      <td>Unknown</td>\n      <td>McCartney</td>\n    </tr>\n    <tr>\n      <th>169</th>\n      <td>Love of the Loved</td>\n      <td>1962</td>\n      <td>Unknown</td>\n      <td>McCartney</td>\n    </tr>\n    <tr>\n      <th>174</th>\n      <td>Madman</td>\n      <td>1969</td>\n      <td>Unknown</td>\n      <td>Lennon</td>\n    </tr>\n    <tr>\n      <th>201</th>\n      <td>One and One Is Two</td>\n      <td>1964</td>\n      <td>Unknown</td>\n      <td>McCartney</td>\n    </tr>\n    <tr>\n      <th>223</th>\n      <td>September in the Rain</td>\n      <td>1962</td>\n      <td>Unknown</td>\n      <td>McCartney</td>\n    </tr>\n    <tr>\n      <th>227</th>\n      <td>Shakin' in the Sixties</td>\n      <td>1969</td>\n      <td>Unknown</td>\n      <td>Lennon</td>\n    </tr>\n    <tr>\n      <th>240</th>\n      <td>Sour Milk Sea</td>\n      <td>1968</td>\n      <td>Unknown</td>\n      <td>Harrison</td>\n    </tr>\n    <tr>\n      <th>246</th>\n      <td>Take Good Care of My Baby</td>\n      <td>1962</td>\n      <td>Unknown</td>\n      <td>Harrison</td>\n    </tr>\n    <tr>\n      <th>264</th>\n      <td>The Saints</td>\n      <td>1962</td>\n      <td>Unknown</td>\n      <td>Sheridan</td>\n    </tr>\n    <tr>\n      <th>274</th>\n      <td>Tip of My Tongue</td>\n      <td>1962</td>\n      <td>Unknown</td>\n      <td>McCartney/Lennon</td>\n    </tr>\n    <tr>\n      <th>281</th>\n      <td>Watching Rainbows</td>\n      <td>1969</td>\n      <td>Unknown</td>\n      <td>Lennon</td>\n    </tr>\n    <tr>\n      <th>291</th>\n      <td>Winston's Walk</td>\n      <td>1960</td>\n      <td>Unknown</td>\n      <td>NaN</td>\n    </tr>\n    <tr>\n      <th>294</th>\n      <td>Woman</td>\n      <td>1965</td>\n      <td>Unknown</td>\n      <td>McCartney</td>\n    </tr>\n  </tbody>\n</table>\n</div>"
     },
     "metadata": {},
     "output_type": "display_data"
    }
   ],
   "source": [
    "# songs[songs['Album.debut'].isnull()].head()\n",
    "display(len(songs[songs['Album.debut'].isnull()]))           # the number of rows with NA values in the Album.debut column\n",
    "display(len(songs[songs['Lead.vocal'].isnull()]))            # the number of rows with NA values in the Lead.vocal column\n",
    "\n",
    "display(songs[songs['Album.debut'].isnull()])                # check what are the songs with NA for Album.debut\n",
    "# For convenience, \n",
    "# replace the NA values in the Album.debut column \n",
    "# with 'Unknown'\n",
    "# songs[songs['Album.debut'].isnull()]['Album.debut'] = \\    # not recommended; throws warnings\n",
    "#     'Unknown'\n",
    "songs.loc[songs['Album.debut'].isnull(), 'Album.debut'] = \\\n",
    "    'Unknown'\n",
    "display(songs[songs['Album.debut'].isnull()])                # verify that there are no more NA values in the Album.debut column\n",
    "display(len(songs[songs['Album.debut'].isnull()]))\n",
    "display(songs[songs['Album.debut'] == 'Unknown'])"
   ]
  },
  {
   "cell_type": "markdown",
   "metadata": {
    "pycharm": {
     "name": "#%% md\n"
    }
   },
   "source": [
    "Check the songs with NA values in the `Lead.vocal` column and, for convenience, replace these NA values with `Instrumental/Unknown`:"
   ]
  },
  {
   "cell_type": "code",
   "execution_count": 17,
   "metadata": {
    "scrolled": true,
    "pycharm": {
     "name": "#%%\n"
    }
   },
   "outputs": [
    {
     "data": {
      "text/plain": "                Title  Year           Album.debut Lead.vocal\n0     12-Bar Original  1965           Anthology 2        NaN\n37           Catswalk  1962               Unknown        NaN\n38            Cayenne  1960           Anthology 1        NaN\n47   Cry for a Shadow  1961           Anthology 1        NaN\n70             Flying  1967  Magical Mystery Tour        NaN\n151    Jessie's Dream  1967               Unknown        NaN\n214      Revolution 9  1968           The Beatles        NaN\n291    Winston's Walk  1960               Unknown        NaN",
      "text/html": "<div>\n<style scoped>\n    .dataframe tbody tr th:only-of-type {\n        vertical-align: middle;\n    }\n\n    .dataframe tbody tr th {\n        vertical-align: top;\n    }\n\n    .dataframe thead th {\n        text-align: right;\n    }\n</style>\n<table border=\"1\" class=\"dataframe\">\n  <thead>\n    <tr style=\"text-align: right;\">\n      <th></th>\n      <th>Title</th>\n      <th>Year</th>\n      <th>Album.debut</th>\n      <th>Lead.vocal</th>\n    </tr>\n  </thead>\n  <tbody>\n    <tr>\n      <th>0</th>\n      <td>12-Bar Original</td>\n      <td>1965</td>\n      <td>Anthology 2</td>\n      <td>NaN</td>\n    </tr>\n    <tr>\n      <th>37</th>\n      <td>Catswalk</td>\n      <td>1962</td>\n      <td>Unknown</td>\n      <td>NaN</td>\n    </tr>\n    <tr>\n      <th>38</th>\n      <td>Cayenne</td>\n      <td>1960</td>\n      <td>Anthology 1</td>\n      <td>NaN</td>\n    </tr>\n    <tr>\n      <th>47</th>\n      <td>Cry for a Shadow</td>\n      <td>1961</td>\n      <td>Anthology 1</td>\n      <td>NaN</td>\n    </tr>\n    <tr>\n      <th>70</th>\n      <td>Flying</td>\n      <td>1967</td>\n      <td>Magical Mystery Tour</td>\n      <td>NaN</td>\n    </tr>\n    <tr>\n      <th>151</th>\n      <td>Jessie's Dream</td>\n      <td>1967</td>\n      <td>Unknown</td>\n      <td>NaN</td>\n    </tr>\n    <tr>\n      <th>214</th>\n      <td>Revolution 9</td>\n      <td>1968</td>\n      <td>The Beatles</td>\n      <td>NaN</td>\n    </tr>\n    <tr>\n      <th>291</th>\n      <td>Winston's Walk</td>\n      <td>1960</td>\n      <td>Unknown</td>\n      <td>NaN</td>\n    </tr>\n  </tbody>\n</table>\n</div>"
     },
     "metadata": {},
     "output_type": "display_data"
    },
    {
     "data": {
      "text/plain": "Empty DataFrame\nColumns: [Title, Year, Album.debut, Lead.vocal]\nIndex: []",
      "text/html": "<div>\n<style scoped>\n    .dataframe tbody tr th:only-of-type {\n        vertical-align: middle;\n    }\n\n    .dataframe tbody tr th {\n        vertical-align: top;\n    }\n\n    .dataframe thead th {\n        text-align: right;\n    }\n</style>\n<table border=\"1\" class=\"dataframe\">\n  <thead>\n    <tr style=\"text-align: right;\">\n      <th></th>\n      <th>Title</th>\n      <th>Year</th>\n      <th>Album.debut</th>\n      <th>Lead.vocal</th>\n    </tr>\n  </thead>\n  <tbody>\n  </tbody>\n</table>\n</div>"
     },
     "metadata": {},
     "output_type": "display_data"
    },
    {
     "data": {
      "text/plain": "0"
     },
     "metadata": {},
     "output_type": "display_data"
    },
    {
     "data": {
      "text/plain": "                Title  Year           Album.debut            Lead.vocal\n0     12-Bar Original  1965           Anthology 2  Instrumental/Unknown\n37           Catswalk  1962               Unknown  Instrumental/Unknown\n38            Cayenne  1960           Anthology 1  Instrumental/Unknown\n47   Cry for a Shadow  1961           Anthology 1  Instrumental/Unknown\n70             Flying  1967  Magical Mystery Tour  Instrumental/Unknown\n151    Jessie's Dream  1967               Unknown  Instrumental/Unknown\n214      Revolution 9  1968           The Beatles  Instrumental/Unknown\n291    Winston's Walk  1960               Unknown  Instrumental/Unknown",
      "text/html": "<div>\n<style scoped>\n    .dataframe tbody tr th:only-of-type {\n        vertical-align: middle;\n    }\n\n    .dataframe tbody tr th {\n        vertical-align: top;\n    }\n\n    .dataframe thead th {\n        text-align: right;\n    }\n</style>\n<table border=\"1\" class=\"dataframe\">\n  <thead>\n    <tr style=\"text-align: right;\">\n      <th></th>\n      <th>Title</th>\n      <th>Year</th>\n      <th>Album.debut</th>\n      <th>Lead.vocal</th>\n    </tr>\n  </thead>\n  <tbody>\n    <tr>\n      <th>0</th>\n      <td>12-Bar Original</td>\n      <td>1965</td>\n      <td>Anthology 2</td>\n      <td>Instrumental/Unknown</td>\n    </tr>\n    <tr>\n      <th>37</th>\n      <td>Catswalk</td>\n      <td>1962</td>\n      <td>Unknown</td>\n      <td>Instrumental/Unknown</td>\n    </tr>\n    <tr>\n      <th>38</th>\n      <td>Cayenne</td>\n      <td>1960</td>\n      <td>Anthology 1</td>\n      <td>Instrumental/Unknown</td>\n    </tr>\n    <tr>\n      <th>47</th>\n      <td>Cry for a Shadow</td>\n      <td>1961</td>\n      <td>Anthology 1</td>\n      <td>Instrumental/Unknown</td>\n    </tr>\n    <tr>\n      <th>70</th>\n      <td>Flying</td>\n      <td>1967</td>\n      <td>Magical Mystery Tour</td>\n      <td>Instrumental/Unknown</td>\n    </tr>\n    <tr>\n      <th>151</th>\n      <td>Jessie's Dream</td>\n      <td>1967</td>\n      <td>Unknown</td>\n      <td>Instrumental/Unknown</td>\n    </tr>\n    <tr>\n      <th>214</th>\n      <td>Revolution 9</td>\n      <td>1968</td>\n      <td>The Beatles</td>\n      <td>Instrumental/Unknown</td>\n    </tr>\n    <tr>\n      <th>291</th>\n      <td>Winston's Walk</td>\n      <td>1960</td>\n      <td>Unknown</td>\n      <td>Instrumental/Unknown</td>\n    </tr>\n  </tbody>\n</table>\n</div>"
     },
     "metadata": {},
     "output_type": "display_data"
    }
   ],
   "source": [
    "display(songs[songs['Lead.vocal'].isnull()])                 # check what are the songs with NA for Lead.vocal\n",
    "# For convenience, \n",
    "# replace the NA values in the Lead.vocal column \n",
    "# with 'Instrumental/Unknown'\n",
    "# songs[songs['Lead.vocal'].isnull()]['Lead.vocal'] = \\      # not recommended; throws warnings\n",
    "#     'Unknown'\n",
    "songs.loc[songs['Lead.vocal'].isnull(), 'Lead.vocal'] = \\\n",
    "    'Instrumental/Unknown'\n",
    "display(songs[songs['Lead.vocal'].isnull()])                 # verify that there are no more NA values in the Lead.vocal column\n",
    "display(len(songs[songs['Lead.vocal'].isnull()]))\n",
    "display(songs[songs['Lead.vocal'] == 'Instrumental/Unknown'])"
   ]
  },
  {
   "cell_type": "markdown",
   "metadata": {
    "pycharm": {
     "name": "#%% md\n"
    }
   },
   "source": [
    "Check the entire dataframe for NA values again:"
   ]
  },
  {
   "cell_type": "code",
   "execution_count": 288,
   "metadata": {
    "scrolled": true,
    "pycharm": {
     "name": "#%%\n"
    }
   },
   "outputs": [
    {
     "data": {
      "text/plain": [
       "Title          False\n",
       "Year           False\n",
       "Album.debut    False\n",
       "Lead.vocal     False\n",
       "dtype: bool"
      ]
     },
     "execution_count": 288,
     "metadata": {},
     "output_type": "execute_result"
    }
   ],
   "source": [
    "songs.isnull().any()"
   ]
  },
  {
   "cell_type": "markdown",
   "metadata": {
    "pycharm": {
     "name": "#%% md\n"
    }
   },
   "source": [
    "No more NA values."
   ]
  },
  {
   "cell_type": "markdown",
   "metadata": {
    "pycharm": {
     "name": "#%% md\n"
    }
   },
   "source": [
    "#### Select the relevant subset of the dataframe"
   ]
  },
  {
   "cell_type": "code",
   "execution_count": 289,
   "metadata": {
    "scrolled": true,
    "pycharm": {
     "name": "#%%\n"
    }
   },
   "outputs": [
    {
     "data": {
      "text/html": [
       "<div>\n",
       "<style scoped>\n",
       "    .dataframe tbody tr th:only-of-type {\n",
       "        vertical-align: middle;\n",
       "    }\n",
       "\n",
       "    .dataframe tbody tr th {\n",
       "        vertical-align: top;\n",
       "    }\n",
       "\n",
       "    .dataframe thead th {\n",
       "        text-align: right;\n",
       "    }\n",
       "</style>\n",
       "<table border=\"1\" class=\"dataframe\">\n",
       "  <thead>\n",
       "    <tr style=\"text-align: right;\">\n",
       "      <th></th>\n",
       "      <th>Title</th>\n",
       "      <th>Year</th>\n",
       "      <th>Album.debut</th>\n",
       "      <th>Lead.vocal</th>\n",
       "    </tr>\n",
       "  </thead>\n",
       "  <tbody>\n",
       "    <tr>\n",
       "      <th>0</th>\n",
       "      <td>12-Bar Original</td>\n",
       "      <td>1965</td>\n",
       "      <td>Anthology 2</td>\n",
       "      <td>Instrumental/Unknown</td>\n",
       "    </tr>\n",
       "    <tr>\n",
       "      <th>2</th>\n",
       "      <td>A Hard Day's Night</td>\n",
       "      <td>1964</td>\n",
       "      <td>UK: A Hard Day's Night US: 1962-1966</td>\n",
       "      <td>Lennon, with McCartney</td>\n",
       "    </tr>\n",
       "    <tr>\n",
       "      <th>3</th>\n",
       "      <td>A Shot of Rhythm and Blues</td>\n",
       "      <td>1963</td>\n",
       "      <td>Live at the BBC</td>\n",
       "      <td>Lennon</td>\n",
       "    </tr>\n",
       "    <tr>\n",
       "      <th>4</th>\n",
       "      <td>A Taste of Honey</td>\n",
       "      <td>1963</td>\n",
       "      <td>UK: Please Please Me US: The Early Beatles</td>\n",
       "      <td>McCartney</td>\n",
       "    </tr>\n",
       "    <tr>\n",
       "      <th>6</th>\n",
       "      <td>Act Naturally</td>\n",
       "      <td>1965</td>\n",
       "      <td>UK: Help! US: Yesterday and Today</td>\n",
       "      <td>Starkey</td>\n",
       "    </tr>\n",
       "  </tbody>\n",
       "</table>\n",
       "</div>"
      ],
      "text/plain": [
       "                        Title  Year  \\\n",
       "0             12-Bar Original  1965   \n",
       "2          A Hard Day's Night  1964   \n",
       "3  A Shot of Rhythm and Blues  1963   \n",
       "4            A Taste of Honey  1963   \n",
       "6               Act Naturally  1965   \n",
       "\n",
       "                                  Album.debut              Lead.vocal  \n",
       "0                                 Anthology 2    Instrumental/Unknown  \n",
       "2        UK: A Hard Day's Night US: 1962-1966  Lennon, with McCartney  \n",
       "3                             Live at the BBC                  Lennon  \n",
       "4  UK: Please Please Me US: The Early Beatles               McCartney  \n",
       "6           UK: Help! US: Yesterday and Today                 Starkey  "
      ]
     },
     "metadata": {},
     "output_type": "display_data"
    },
    {
     "data": {
      "text/plain": [
       "185"
      ]
     },
     "metadata": {},
     "output_type": "display_data"
    }
   ],
   "source": [
    "songs = songs[(songs['Year'] >= 1962) & (songs['Year'] <= 1966)]\n",
    "display(songs.head())\n",
    "display(len(songs))"
   ]
  },
  {
   "cell_type": "markdown",
   "metadata": {
    "pycharm": {
     "name": "#%% md\n"
    }
   },
   "source": [
    "An alternative way to do it is to use the [`groupby()-get_group()` approach](#get_group()) and then [`pd.concat()`](#pd.concat()) the groups for the relevant years."
   ]
  },
  {
   "cell_type": "markdown",
   "metadata": {
    "pycharm": {
     "name": "#%% md\n"
    }
   },
   "source": [
    "#### Compute the rank"
   ]
  },
  {
   "cell_type": "markdown",
   "metadata": {
    "pycharm": {
     "name": "#%% md\n"
    }
   },
   "source": [
    "Modify the `Album.debut` column to contain only the titles of the UK releases (**<u>note the use of</u> `pd.DataFrame.str.rpartition()`, `pd.DataFrame.str.rstrip()` and `pd.DataFrame.str.lstrip()`** to split the album titles, similarly to using `pd.DataFrame.str.startswith()` below; based on [this](https://stackoverflow.com/a/17958424); check also [`rpartition()` documentation](https://docs.python.org/3/library/stdtypes.html#str.rpartition) for the explanation of how `rpartition()` works, as well as [this](https://stackoverflow.com/a/21844040) for the explanation of how `find()` works):"
   ]
  },
  {
   "cell_type": "code",
   "execution_count": null,
   "metadata": {
    "pycharm": {
     "name": "#%%\n"
    }
   },
   "outputs": [],
   "source": []
  },
  {
   "cell_type": "code",
   "execution_count": 290,
   "metadata": {
    "scrolled": false,
    "pycharm": {
     "name": "#%%\n"
    }
   },
   "outputs": [
    {
     "name": "stderr",
     "output_type": "stream",
     "text": [
      "C:\\Users\\Vladan\\anaconda3\\lib\\site-packages\\pandas\\core\\indexing.py:965: SettingWithCopyWarning: \n",
      "A value is trying to be set on a copy of a slice from a DataFrame.\n",
      "Try using .loc[row_indexer,col_indexer] = value instead\n",
      "\n",
      "See the caveats in the documentation: https://pandas.pydata.org/pandas-docs/stable/user_guide/indexing.html#returning-a-view-versus-a-copy\n",
      "  self.obj[item] = s\n"
     ]
    }
   ],
   "source": [
    "uk_album = songs['Album.debut'].str.find('US:')\n",
    "# uk_album.head()\n",
    "songs.loc[uk_album != -1, 'Album.debut'] = \\\n",
    "    songs.loc[uk_album != -1, ('Album.debut')].str.rpartition('US:')[0].str.rstrip().str.lstrip('UK: ')"
   ]
  },
  {
   "cell_type": "markdown",
   "metadata": {
    "pycharm": {
     "name": "#%% md\n"
    }
   },
   "source": [
    "The warning thrown in the above cell apparently has no effect - see [this](https://stackoverflow.com/a/27367693/1899061) and [this](https://stackoverflow.com/a/23296545/1899061)."
   ]
  },
  {
   "cell_type": "code",
   "execution_count": 291,
   "metadata": {
    "pycharm": {
     "name": "#%%\n"
    }
   },
   "outputs": [
    {
     "data": {
      "text/plain": [
       "2    A Hard Day's Night\n",
       "4      Please Please Me\n",
       "6                 Help!\n",
       "8      With the Beatles\n",
       "9      With the Beatles\n",
       "Name: Album.debut, dtype: object"
      ]
     },
     "metadata": {},
     "output_type": "display_data"
    },
    {
     "data": {
      "text/plain": [
       "Int64Index([  2,   4,   6,   8,   9,  13,  14,  15,  17,  18,  19,  20,  23,\n",
       "             32,  34,  39,  49,  51,  54,  55,  56,  57,  61,  62,  65,  67,\n",
       "             74, 100, 101, 105, 106, 107, 115, 116, 117, 118, 122, 124, 125,\n",
       "            126, 128, 131, 134, 141, 142, 143, 147, 149, 155, 157, 163, 165,\n",
       "            168, 179, 184, 185, 188, 190, 192, 195, 204, 205, 208, 209, 211,\n",
       "            217, 219, 229, 231, 234, 235, 250, 251, 252, 267, 268, 270, 273,\n",
       "            278, 282, 283, 284, 286, 295, 298, 299, 300, 303, 309],\n",
       "           dtype='int64')"
      ]
     },
     "metadata": {},
     "output_type": "display_data"
    },
    {
     "data": {
      "text/plain": [
       "2    A Hard Day's Night\n",
       "4      Please Please Me\n",
       "6                 Help!\n",
       "Name: Album.debut, dtype: object"
      ]
     },
     "metadata": {},
     "output_type": "display_data"
    },
    {
     "data": {
      "text/plain": [
       "2      A Hard Day's Night\n",
       "4        Please Please Me\n",
       "6                   Help!\n",
       "8        With the Beatles\n",
       "9        With the Beatles\n",
       "              ...        \n",
       "298              Rarities\n",
       "299                 Help!\n",
       "300    A Hard Day's Night\n",
       "303                 Help!\n",
       "309      With the Beatles\n",
       "Name: Album.debut, Length: 89, dtype: object"
      ]
     },
     "metadata": {},
     "output_type": "display_data"
    }
   ],
   "source": [
    "display(songs.loc[uk_album != -1, 'Album.debut'].head())\n",
    "display(songs.loc[uk_album != -1, 'Album.debut'].index)\n",
    "display(songs.loc[[2, 4, 6], 'Album.debut'].head())\n",
    "rows = songs.loc[uk_album != -1, 'Album.debut'].index\n",
    "display(songs.loc[rows, 'Album.debut'])"
   ]
  },
  {
   "cell_type": "code",
   "execution_count": 292,
   "metadata": {
    "pycharm": {
     "name": "#%%\n"
    }
   },
   "outputs": [
    {
     "data": {
      "text/plain": [
       "0             Anthology 2\n",
       "2      A Hard Day's Night\n",
       "3         Live at the BBC\n",
       "4        Please Please Me\n",
       "6                   Help!\n",
       "              ...        \n",
       "305           Rubber Soul\n",
       "307                 Help!\n",
       "308                 Help!\n",
       "309      With the Beatles\n",
       "310       Live at the BBC\n",
       "Name: Album.debut, Length: 185, dtype: object"
      ]
     },
     "execution_count": 292,
     "metadata": {},
     "output_type": "execute_result"
    }
   ],
   "source": [
    "songs['Album.debut']"
   ]
  },
  {
   "cell_type": "markdown",
   "metadata": {
    "pycharm": {
     "name": "#%% md\n"
    }
   },
   "source": [
    "Sort the songs according to the `Album.debut` column; based on [this](https://stackoverflow.com/questions/37787698/how-to-sort-pandas-dataframe-from-one-column):"
   ]
  },
  {
   "cell_type": "code",
   "execution_count": 293,
   "metadata": {
    "pycharm": {
     "name": "#%%\n"
    }
   },
   "outputs": [],
   "source": [
    "# songs.sort_values('Album.debut', inplace=True)                 # throws a warning, so better use the next line\n",
    "songs = songs.sort_values('Album.debut')"
   ]
  },
  {
   "cell_type": "code",
   "execution_count": 294,
   "metadata": {
    "pycharm": {
     "name": "#%%\n"
    }
   },
   "outputs": [
    {
     "data": {
      "text/html": [
       "<div>\n",
       "<style scoped>\n",
       "    .dataframe tbody tr th:only-of-type {\n",
       "        vertical-align: middle;\n",
       "    }\n",
       "\n",
       "    .dataframe tbody tr th {\n",
       "        vertical-align: top;\n",
       "    }\n",
       "\n",
       "    .dataframe thead th {\n",
       "        text-align: right;\n",
       "    }\n",
       "</style>\n",
       "<table border=\"1\" class=\"dataframe\">\n",
       "  <thead>\n",
       "    <tr style=\"text-align: right;\">\n",
       "      <th></th>\n",
       "      <th>Title</th>\n",
       "      <th>Year</th>\n",
       "      <th>Album.debut</th>\n",
       "      <th>Lead.vocal</th>\n",
       "    </tr>\n",
       "  </thead>\n",
       "  <tbody>\n",
       "    <tr>\n",
       "      <th>74</th>\n",
       "      <td>From Me to You</td>\n",
       "      <td>1963</td>\n",
       "      <td>A Collection of Beatles Oldies</td>\n",
       "      <td>Lennon and McCartney</td>\n",
       "    </tr>\n",
       "    <tr>\n",
       "      <th>229</th>\n",
       "      <td>She Loves You</td>\n",
       "      <td>1963</td>\n",
       "      <td>A Collection of Beatles Oldies</td>\n",
       "      <td>Lennon and McCartney</td>\n",
       "    </tr>\n",
       "    <tr>\n",
       "      <th>205</th>\n",
       "      <td>Paperback Writer</td>\n",
       "      <td>1966</td>\n",
       "      <td>A Collection of Beatles Oldies</td>\n",
       "      <td>McCartney</td>\n",
       "    </tr>\n",
       "    <tr>\n",
       "      <th>49</th>\n",
       "      <td>Day Tripper</td>\n",
       "      <td>1965</td>\n",
       "      <td>A Collection of Beatles Oldies</td>\n",
       "      <td>Lennon and McCartney</td>\n",
       "    </tr>\n",
       "    <tr>\n",
       "      <th>107</th>\n",
       "      <td>I Feel Fine</td>\n",
       "      <td>1964</td>\n",
       "      <td>A Collection of Beatles Oldies</td>\n",
       "      <td>Lennon</td>\n",
       "    </tr>\n",
       "    <tr>\n",
       "      <th>...</th>\n",
       "      <td>...</td>\n",
       "      <td>...</td>\n",
       "      <td>...</td>\n",
       "      <td>...</td>\n",
       "    </tr>\n",
       "    <tr>\n",
       "      <th>51</th>\n",
       "      <td>Devil in Her Heart</td>\n",
       "      <td>1963</td>\n",
       "      <td>With the Beatles</td>\n",
       "      <td>Harrison</td>\n",
       "    </tr>\n",
       "    <tr>\n",
       "      <th>219</th>\n",
       "      <td>Roll Over Beethoven</td>\n",
       "      <td>1963</td>\n",
       "      <td>With the Beatles</td>\n",
       "      <td>Harrison</td>\n",
       "    </tr>\n",
       "    <tr>\n",
       "      <th>57</th>\n",
       "      <td>Don't Bother Me</td>\n",
       "      <td>1963</td>\n",
       "      <td>With the Beatles</td>\n",
       "      <td>Harrison</td>\n",
       "    </tr>\n",
       "    <tr>\n",
       "      <th>185</th>\n",
       "      <td>Money (That's What I Want)</td>\n",
       "      <td>1963</td>\n",
       "      <td>With the Beatles</td>\n",
       "      <td>Lennon</td>\n",
       "    </tr>\n",
       "    <tr>\n",
       "      <th>163</th>\n",
       "      <td>Little Child</td>\n",
       "      <td>1963</td>\n",
       "      <td>With the Beatles</td>\n",
       "      <td>Lennon and McCartney</td>\n",
       "    </tr>\n",
       "  </tbody>\n",
       "</table>\n",
       "<p>185 rows × 4 columns</p>\n",
       "</div>"
      ],
      "text/plain": [
       "                          Title  Year                     Album.debut  \\\n",
       "74               From Me to You  1963  A Collection of Beatles Oldies   \n",
       "229               She Loves You  1963  A Collection of Beatles Oldies   \n",
       "205            Paperback Writer  1966  A Collection of Beatles Oldies   \n",
       "49                  Day Tripper  1965  A Collection of Beatles Oldies   \n",
       "107                 I Feel Fine  1964  A Collection of Beatles Oldies   \n",
       "..                          ...   ...                             ...   \n",
       "51           Devil in Her Heart  1963                With the Beatles   \n",
       "219         Roll Over Beethoven  1963                With the Beatles   \n",
       "57              Don't Bother Me  1963                With the Beatles   \n",
       "185  Money (That's What I Want)  1963                With the Beatles   \n",
       "163                Little Child  1963                With the Beatles   \n",
       "\n",
       "               Lead.vocal  \n",
       "74   Lennon and McCartney  \n",
       "229  Lennon and McCartney  \n",
       "205             McCartney  \n",
       "49   Lennon and McCartney  \n",
       "107                Lennon  \n",
       "..                    ...  \n",
       "51               Harrison  \n",
       "219              Harrison  \n",
       "57               Harrison  \n",
       "185                Lennon  \n",
       "163  Lennon and McCartney  \n",
       "\n",
       "[185 rows x 4 columns]"
      ]
     },
     "execution_count": 294,
     "metadata": {},
     "output_type": "execute_result"
    }
   ],
   "source": [
    "songs"
   ]
  },
  {
   "cell_type": "markdown",
   "metadata": {
    "pycharm": {
     "name": "#%% md\n"
    }
   },
   "source": [
    "Re-index the dataframe, for convenience (optional). Use the Album.debut column as the new index:"
   ]
  },
  {
   "cell_type": "code",
   "execution_count": 295,
   "metadata": {
    "pycharm": {
     "name": "#%%\n"
    }
   },
   "outputs": [
    {
     "data": {
      "text/plain": [
       "Index(['Title', 'Year', 'Album.debut', 'Lead.vocal'], dtype='object')"
      ]
     },
     "metadata": {},
     "output_type": "display_data"
    },
    {
     "data": {
      "text/html": [
       "<div>\n",
       "<style scoped>\n",
       "    .dataframe tbody tr th:only-of-type {\n",
       "        vertical-align: middle;\n",
       "    }\n",
       "\n",
       "    .dataframe tbody tr th {\n",
       "        vertical-align: top;\n",
       "    }\n",
       "\n",
       "    .dataframe thead th {\n",
       "        text-align: right;\n",
       "    }\n",
       "</style>\n",
       "<table border=\"1\" class=\"dataframe\">\n",
       "  <thead>\n",
       "    <tr style=\"text-align: right;\">\n",
       "      <th></th>\n",
       "      <th>Title</th>\n",
       "      <th>Year</th>\n",
       "      <th>Lead.vocal</th>\n",
       "    </tr>\n",
       "    <tr>\n",
       "      <th>Album.debut</th>\n",
       "      <th></th>\n",
       "      <th></th>\n",
       "      <th></th>\n",
       "    </tr>\n",
       "  </thead>\n",
       "  <tbody>\n",
       "    <tr>\n",
       "      <th>A Collection of Beatles Oldies</th>\n",
       "      <td>From Me to You</td>\n",
       "      <td>1963</td>\n",
       "      <td>Lennon and McCartney</td>\n",
       "    </tr>\n",
       "    <tr>\n",
       "      <th>A Collection of Beatles Oldies</th>\n",
       "      <td>She Loves You</td>\n",
       "      <td>1963</td>\n",
       "      <td>Lennon and McCartney</td>\n",
       "    </tr>\n",
       "    <tr>\n",
       "      <th>A Collection of Beatles Oldies</th>\n",
       "      <td>Paperback Writer</td>\n",
       "      <td>1966</td>\n",
       "      <td>McCartney</td>\n",
       "    </tr>\n",
       "    <tr>\n",
       "      <th>A Collection of Beatles Oldies</th>\n",
       "      <td>Day Tripper</td>\n",
       "      <td>1965</td>\n",
       "      <td>Lennon and McCartney</td>\n",
       "    </tr>\n",
       "    <tr>\n",
       "      <th>A Collection of Beatles Oldies</th>\n",
       "      <td>I Feel Fine</td>\n",
       "      <td>1964</td>\n",
       "      <td>Lennon</td>\n",
       "    </tr>\n",
       "  </tbody>\n",
       "</table>\n",
       "</div>"
      ],
      "text/plain": [
       "                                           Title  Year            Lead.vocal\n",
       "Album.debut                                                                 \n",
       "A Collection of Beatles Oldies    From Me to You  1963  Lennon and McCartney\n",
       "A Collection of Beatles Oldies     She Loves You  1963  Lennon and McCartney\n",
       "A Collection of Beatles Oldies  Paperback Writer  1966             McCartney\n",
       "A Collection of Beatles Oldies       Day Tripper  1965  Lennon and McCartney\n",
       "A Collection of Beatles Oldies       I Feel Fine  1964                Lennon"
      ]
     },
     "metadata": {},
     "output_type": "display_data"
    }
   ],
   "source": [
    "display(songs.columns)\n",
    "songs.set_index('Album.debut', inplace=True)\n",
    "display(songs.head())                                                                 # pretty display"
   ]
  },
  {
   "cell_type": "markdown",
   "metadata": {
    "pycharm": {
     "name": "#%% md\n"
    }
   },
   "source": [
    "Play a little with the newly arranged `songs` dataframe; somewhat based on [this](https://stackoverflow.com/questions/15943769/how-do-i-get-the-row-count-of-a-pandas-dataframe):"
   ]
  },
  {
   "cell_type": "code",
   "execution_count": 296,
   "metadata": {
    "pycharm": {
     "name": "#%%\n"
    }
   },
   "outputs": [
    {
     "data": {
      "text/plain": [
       "185"
      ]
     },
     "metadata": {},
     "output_type": "display_data"
    },
    {
     "data": {
      "text/plain": [
       "185"
      ]
     },
     "metadata": {},
     "output_type": "display_data"
    },
    {
     "data": {
      "text/plain": [
       "185"
      ]
     },
     "metadata": {},
     "output_type": "display_data"
    },
    {
     "name": "stdout",
     "output_type": "stream",
     "text": [
      "\n"
     ]
    },
    {
     "data": {
      "text/plain": [
       "8"
      ]
     },
     "metadata": {},
     "output_type": "display_data"
    },
    {
     "data": {
      "text/html": [
       "<div>\n",
       "<style scoped>\n",
       "    .dataframe tbody tr th:only-of-type {\n",
       "        vertical-align: middle;\n",
       "    }\n",
       "\n",
       "    .dataframe tbody tr th {\n",
       "        vertical-align: top;\n",
       "    }\n",
       "\n",
       "    .dataframe thead th {\n",
       "        text-align: right;\n",
       "    }\n",
       "</style>\n",
       "<table border=\"1\" class=\"dataframe\">\n",
       "  <thead>\n",
       "    <tr style=\"text-align: right;\">\n",
       "      <th></th>\n",
       "      <th>Title</th>\n",
       "      <th>Year</th>\n",
       "      <th>Lead.vocal</th>\n",
       "    </tr>\n",
       "    <tr>\n",
       "      <th>Album.debut</th>\n",
       "      <th></th>\n",
       "      <th></th>\n",
       "      <th></th>\n",
       "    </tr>\n",
       "  </thead>\n",
       "  <tbody>\n",
       "    <tr>\n",
       "      <th>A Collection of Beatles Oldies</th>\n",
       "      <td>From Me to You</td>\n",
       "      <td>1963</td>\n",
       "      <td>Lennon and McCartney</td>\n",
       "    </tr>\n",
       "    <tr>\n",
       "      <th>A Collection of Beatles Oldies</th>\n",
       "      <td>She Loves You</td>\n",
       "      <td>1963</td>\n",
       "      <td>Lennon and McCartney</td>\n",
       "    </tr>\n",
       "    <tr>\n",
       "      <th>A Collection of Beatles Oldies</th>\n",
       "      <td>Paperback Writer</td>\n",
       "      <td>1966</td>\n",
       "      <td>McCartney</td>\n",
       "    </tr>\n",
       "    <tr>\n",
       "      <th>A Collection of Beatles Oldies</th>\n",
       "      <td>Day Tripper</td>\n",
       "      <td>1965</td>\n",
       "      <td>Lennon and McCartney</td>\n",
       "    </tr>\n",
       "    <tr>\n",
       "      <th>A Collection of Beatles Oldies</th>\n",
       "      <td>I Feel Fine</td>\n",
       "      <td>1964</td>\n",
       "      <td>Lennon</td>\n",
       "    </tr>\n",
       "    <tr>\n",
       "      <th>A Collection of Beatles Oldies</th>\n",
       "      <td>We Can Work It Out</td>\n",
       "      <td>1965</td>\n",
       "      <td>McCartney, with Lennon</td>\n",
       "    </tr>\n",
       "    <tr>\n",
       "      <th>A Collection of Beatles Oldies</th>\n",
       "      <td>Bad Boy</td>\n",
       "      <td>1965</td>\n",
       "      <td>Lennon</td>\n",
       "    </tr>\n",
       "    <tr>\n",
       "      <th>A Collection of Beatles Oldies</th>\n",
       "      <td>I Want to Hold Your Hand</td>\n",
       "      <td>1963</td>\n",
       "      <td>Lennon and McCartney</td>\n",
       "    </tr>\n",
       "  </tbody>\n",
       "</table>\n",
       "</div>"
      ],
      "text/plain": [
       "                                                   Title  Year  \\\n",
       "Album.debut                                                      \n",
       "A Collection of Beatles Oldies            From Me to You  1963   \n",
       "A Collection of Beatles Oldies             She Loves You  1963   \n",
       "A Collection of Beatles Oldies          Paperback Writer  1966   \n",
       "A Collection of Beatles Oldies               Day Tripper  1965   \n",
       "A Collection of Beatles Oldies               I Feel Fine  1964   \n",
       "A Collection of Beatles Oldies        We Can Work It Out  1965   \n",
       "A Collection of Beatles Oldies                   Bad Boy  1965   \n",
       "A Collection of Beatles Oldies  I Want to Hold Your Hand  1963   \n",
       "\n",
       "                                            Lead.vocal  \n",
       "Album.debut                                             \n",
       "A Collection of Beatles Oldies    Lennon and McCartney  \n",
       "A Collection of Beatles Oldies    Lennon and McCartney  \n",
       "A Collection of Beatles Oldies               McCartney  \n",
       "A Collection of Beatles Oldies    Lennon and McCartney  \n",
       "A Collection of Beatles Oldies                  Lennon  \n",
       "A Collection of Beatles Oldies  McCartney, with Lennon  \n",
       "A Collection of Beatles Oldies                  Lennon  \n",
       "A Collection of Beatles Oldies    Lennon and McCartney  "
      ]
     },
     "metadata": {},
     "output_type": "display_data"
    },
    {
     "data": {
      "text/plain": [
       "pandas.core.frame.DataFrame"
      ]
     },
     "metadata": {},
     "output_type": "display_data"
    },
    {
     "name": "stdout",
     "output_type": "stream",
     "text": [
      "\n"
     ]
    },
    {
     "data": {
      "text/plain": [
       "3"
      ]
     },
     "metadata": {},
     "output_type": "display_data"
    },
    {
     "data": {
      "text/plain": [
       "Title         When I'm Sixty-Four\n",
       "Year                         1966\n",
       "Lead.vocal              McCartney\n",
       "Name: Sgt. Pepper's Lonely Hearts Club Band, dtype: object"
      ]
     },
     "metadata": {},
     "output_type": "display_data"
    },
    {
     "data": {
      "text/plain": [
       "pandas.core.series.Series"
      ]
     },
     "metadata": {},
     "output_type": "display_data"
    },
    {
     "name": "stdout",
     "output_type": "stream",
     "text": [
      "\n"
     ]
    },
    {
     "data": {
      "text/plain": [
       "(3,)"
      ]
     },
     "metadata": {},
     "output_type": "display_data"
    },
    {
     "data": {
      "text/plain": [
       "Title         When I'm Sixty-Four\n",
       "Year                         1966\n",
       "Lead.vocal              McCartney\n",
       "Name: Sgt. Pepper's Lonely Hearts Club Band, dtype: object"
      ]
     },
     "metadata": {},
     "output_type": "display_data"
    },
    {
     "data": {
      "text/plain": [
       "pandas.core.series.Series"
      ]
     },
     "metadata": {},
     "output_type": "display_data"
    },
    {
     "name": "stdout",
     "output_type": "stream",
     "text": [
      "\n"
     ]
    },
    {
     "data": {
      "text/plain": [
       "Index(['A Collection of Beatles Oldies', 'A Collection of Beatles Oldies',\n",
       "       'A Collection of Beatles Oldies', 'A Collection of Beatles Oldies',\n",
       "       'A Collection of Beatles Oldies', 'A Collection of Beatles Oldies',\n",
       "       'A Collection of Beatles Oldies', 'A Collection of Beatles Oldies',\n",
       "       'A Hard Day's Night', 'A Hard Day's Night',\n",
       "       ...\n",
       "       'With the Beatles', 'With the Beatles', 'With the Beatles',\n",
       "       'With the Beatles', 'With the Beatles', 'With the Beatles',\n",
       "       'With the Beatles', 'With the Beatles', 'With the Beatles',\n",
       "       'With the Beatles'],\n",
       "      dtype='object', name='Album.debut', length=185)"
      ]
     },
     "metadata": {},
     "output_type": "display_data"
    },
    {
     "data": {
      "text/plain": [
       "Index(['A Collection of Beatles Oldies', 'A Hard Day's Night', 'Anthology 1',\n",
       "       'Anthology 2', 'Beatles for Sale', 'Help!', 'Live at the BBC',\n",
       "       'Live! at the Star-Club in Hamburg, Germany; 1962',\n",
       "       'Magical Mystery Tour', 'On Air - Live at the BBC Volume 2',\n",
       "       'Past Masters Volume 1', 'Please Please Me', 'Rarities', 'Revolver',\n",
       "       'Rock 'n' Roll Music', 'Rubber Soul',\n",
       "       'Sgt. Pepper's Lonely Hearts Club Band',\n",
       "       'The Beatles Bootleg Recordings 1963', 'Unknown', 'With the Beatles'],\n",
       "      dtype='object', name='Album.debut')"
      ]
     },
     "metadata": {},
     "output_type": "display_data"
    },
    {
     "name": "stdout",
     "output_type": "stream",
     "text": [
      "\n"
     ]
    },
    {
     "data": {
      "text/plain": [
       "'A Collection of Beatles Oldies'"
      ]
     },
     "metadata": {},
     "output_type": "display_data"
    },
    {
     "data": {
      "text/html": [
       "<div>\n",
       "<style scoped>\n",
       "    .dataframe tbody tr th:only-of-type {\n",
       "        vertical-align: middle;\n",
       "    }\n",
       "\n",
       "    .dataframe tbody tr th {\n",
       "        vertical-align: top;\n",
       "    }\n",
       "\n",
       "    .dataframe thead th {\n",
       "        text-align: right;\n",
       "    }\n",
       "</style>\n",
       "<table border=\"1\" class=\"dataframe\">\n",
       "  <thead>\n",
       "    <tr style=\"text-align: right;\">\n",
       "      <th></th>\n",
       "      <th>Title</th>\n",
       "      <th>Year</th>\n",
       "      <th>Lead.vocal</th>\n",
       "    </tr>\n",
       "    <tr>\n",
       "      <th>Album.debut</th>\n",
       "      <th></th>\n",
       "      <th></th>\n",
       "      <th></th>\n",
       "    </tr>\n",
       "  </thead>\n",
       "  <tbody>\n",
       "    <tr>\n",
       "      <th>A Collection of Beatles Oldies</th>\n",
       "      <td>From Me to You</td>\n",
       "      <td>1963</td>\n",
       "      <td>Lennon and McCartney</td>\n",
       "    </tr>\n",
       "    <tr>\n",
       "      <th>A Collection of Beatles Oldies</th>\n",
       "      <td>She Loves You</td>\n",
       "      <td>1963</td>\n",
       "      <td>Lennon and McCartney</td>\n",
       "    </tr>\n",
       "    <tr>\n",
       "      <th>A Collection of Beatles Oldies</th>\n",
       "      <td>Paperback Writer</td>\n",
       "      <td>1966</td>\n",
       "      <td>McCartney</td>\n",
       "    </tr>\n",
       "    <tr>\n",
       "      <th>A Collection of Beatles Oldies</th>\n",
       "      <td>Day Tripper</td>\n",
       "      <td>1965</td>\n",
       "      <td>Lennon and McCartney</td>\n",
       "    </tr>\n",
       "    <tr>\n",
       "      <th>A Collection of Beatles Oldies</th>\n",
       "      <td>I Feel Fine</td>\n",
       "      <td>1964</td>\n",
       "      <td>Lennon</td>\n",
       "    </tr>\n",
       "    <tr>\n",
       "      <th>A Collection of Beatles Oldies</th>\n",
       "      <td>We Can Work It Out</td>\n",
       "      <td>1965</td>\n",
       "      <td>McCartney, with Lennon</td>\n",
       "    </tr>\n",
       "    <tr>\n",
       "      <th>A Collection of Beatles Oldies</th>\n",
       "      <td>Bad Boy</td>\n",
       "      <td>1965</td>\n",
       "      <td>Lennon</td>\n",
       "    </tr>\n",
       "    <tr>\n",
       "      <th>A Collection of Beatles Oldies</th>\n",
       "      <td>I Want to Hold Your Hand</td>\n",
       "      <td>1963</td>\n",
       "      <td>Lennon and McCartney</td>\n",
       "    </tr>\n",
       "  </tbody>\n",
       "</table>\n",
       "</div>"
      ],
      "text/plain": [
       "                                                   Title  Year  \\\n",
       "Album.debut                                                      \n",
       "A Collection of Beatles Oldies            From Me to You  1963   \n",
       "A Collection of Beatles Oldies             She Loves You  1963   \n",
       "A Collection of Beatles Oldies          Paperback Writer  1966   \n",
       "A Collection of Beatles Oldies               Day Tripper  1965   \n",
       "A Collection of Beatles Oldies               I Feel Fine  1964   \n",
       "A Collection of Beatles Oldies        We Can Work It Out  1965   \n",
       "A Collection of Beatles Oldies                   Bad Boy  1965   \n",
       "A Collection of Beatles Oldies  I Want to Hold Your Hand  1963   \n",
       "\n",
       "                                            Lead.vocal  \n",
       "Album.debut                                             \n",
       "A Collection of Beatles Oldies    Lennon and McCartney  \n",
       "A Collection of Beatles Oldies    Lennon and McCartney  \n",
       "A Collection of Beatles Oldies               McCartney  \n",
       "A Collection of Beatles Oldies    Lennon and McCartney  \n",
       "A Collection of Beatles Oldies                  Lennon  \n",
       "A Collection of Beatles Oldies  McCartney, with Lennon  \n",
       "A Collection of Beatles Oldies                  Lennon  \n",
       "A Collection of Beatles Oldies    Lennon and McCartney  "
      ]
     },
     "metadata": {},
     "output_type": "display_data"
    },
    {
     "data": {
      "text/plain": [
       "\"A Hard Day's Night\""
      ]
     },
     "metadata": {},
     "output_type": "display_data"
    },
    {
     "data": {
      "text/html": [
       "<div>\n",
       "<style scoped>\n",
       "    .dataframe tbody tr th:only-of-type {\n",
       "        vertical-align: middle;\n",
       "    }\n",
       "\n",
       "    .dataframe tbody tr th {\n",
       "        vertical-align: top;\n",
       "    }\n",
       "\n",
       "    .dataframe thead th {\n",
       "        text-align: right;\n",
       "    }\n",
       "</style>\n",
       "<table border=\"1\" class=\"dataframe\">\n",
       "  <thead>\n",
       "    <tr style=\"text-align: right;\">\n",
       "      <th></th>\n",
       "      <th>Title</th>\n",
       "      <th>Year</th>\n",
       "      <th>Lead.vocal</th>\n",
       "    </tr>\n",
       "    <tr>\n",
       "      <th>Album.debut</th>\n",
       "      <th></th>\n",
       "      <th></th>\n",
       "      <th></th>\n",
       "    </tr>\n",
       "  </thead>\n",
       "  <tbody>\n",
       "    <tr>\n",
       "      <th>A Hard Day's Night</th>\n",
       "      <td>Things We Said Today</td>\n",
       "      <td>1964</td>\n",
       "      <td>McCartney</td>\n",
       "    </tr>\n",
       "    <tr>\n",
       "      <th>A Hard Day's Night</th>\n",
       "      <td>Can't Buy Me Love</td>\n",
       "      <td>1964</td>\n",
       "      <td>McCartney, with Lennon</td>\n",
       "    </tr>\n",
       "    <tr>\n",
       "      <th>A Hard Day's Night</th>\n",
       "      <td>Tell Me Why</td>\n",
       "      <td>1964</td>\n",
       "      <td>Lennon</td>\n",
       "    </tr>\n",
       "    <tr>\n",
       "      <th>A Hard Day's Night</th>\n",
       "      <td>When I Get Home</td>\n",
       "      <td>1964</td>\n",
       "      <td>Lennon</td>\n",
       "    </tr>\n",
       "    <tr>\n",
       "      <th>A Hard Day's Night</th>\n",
       "      <td>I Should Have Known Better</td>\n",
       "      <td>1964</td>\n",
       "      <td>Lennon</td>\n",
       "    </tr>\n",
       "    <tr>\n",
       "      <th>A Hard Day's Night</th>\n",
       "      <td>Any Time at All</td>\n",
       "      <td>1964</td>\n",
       "      <td>Lennon, with McCartney</td>\n",
       "    </tr>\n",
       "    <tr>\n",
       "      <th>A Hard Day's Night</th>\n",
       "      <td>A Hard Day's Night</td>\n",
       "      <td>1964</td>\n",
       "      <td>Lennon, with McCartney</td>\n",
       "    </tr>\n",
       "    <tr>\n",
       "      <th>A Hard Day's Night</th>\n",
       "      <td>I'm Happy Just to Dance with You</td>\n",
       "      <td>1964</td>\n",
       "      <td>Harrison</td>\n",
       "    </tr>\n",
       "    <tr>\n",
       "      <th>A Hard Day's Night</th>\n",
       "      <td>I'll Cry Instead</td>\n",
       "      <td>1964</td>\n",
       "      <td>Lennon</td>\n",
       "    </tr>\n",
       "    <tr>\n",
       "      <th>A Hard Day's Night</th>\n",
       "      <td>If I Fell</td>\n",
       "      <td>1964</td>\n",
       "      <td>Lennon, with McCartney</td>\n",
       "    </tr>\n",
       "    <tr>\n",
       "      <th>A Hard Day's Night</th>\n",
       "      <td>You Can't Do That</td>\n",
       "      <td>1964</td>\n",
       "      <td>Lennon</td>\n",
       "    </tr>\n",
       "    <tr>\n",
       "      <th>A Hard Day's Night</th>\n",
       "      <td>I'll Be Back</td>\n",
       "      <td>1964</td>\n",
       "      <td>Lennon, with McCartney</td>\n",
       "    </tr>\n",
       "    <tr>\n",
       "      <th>A Hard Day's Night</th>\n",
       "      <td>And I Love Her</td>\n",
       "      <td>1964</td>\n",
       "      <td>McCartney</td>\n",
       "    </tr>\n",
       "  </tbody>\n",
       "</table>\n",
       "</div>"
      ],
      "text/plain": [
       "                                               Title  Year  \\\n",
       "Album.debut                                                  \n",
       "A Hard Day's Night              Things We Said Today  1964   \n",
       "A Hard Day's Night                 Can't Buy Me Love  1964   \n",
       "A Hard Day's Night                       Tell Me Why  1964   \n",
       "A Hard Day's Night                   When I Get Home  1964   \n",
       "A Hard Day's Night        I Should Have Known Better  1964   \n",
       "A Hard Day's Night                   Any Time at All  1964   \n",
       "A Hard Day's Night                A Hard Day's Night  1964   \n",
       "A Hard Day's Night  I'm Happy Just to Dance with You  1964   \n",
       "A Hard Day's Night                  I'll Cry Instead  1964   \n",
       "A Hard Day's Night                         If I Fell  1964   \n",
       "A Hard Day's Night                 You Can't Do That  1964   \n",
       "A Hard Day's Night                      I'll Be Back  1964   \n",
       "A Hard Day's Night                    And I Love Her  1964   \n",
       "\n",
       "                                Lead.vocal  \n",
       "Album.debut                                 \n",
       "A Hard Day's Night               McCartney  \n",
       "A Hard Day's Night  McCartney, with Lennon  \n",
       "A Hard Day's Night                  Lennon  \n",
       "A Hard Day's Night                  Lennon  \n",
       "A Hard Day's Night                  Lennon  \n",
       "A Hard Day's Night  Lennon, with McCartney  \n",
       "A Hard Day's Night  Lennon, with McCartney  \n",
       "A Hard Day's Night                Harrison  \n",
       "A Hard Day's Night                  Lennon  \n",
       "A Hard Day's Night  Lennon, with McCartney  \n",
       "A Hard Day's Night                  Lennon  \n",
       "A Hard Day's Night  Lennon, with McCartney  \n",
       "A Hard Day's Night               McCartney  "
      ]
     },
     "metadata": {},
     "output_type": "display_data"
    },
    {
     "data": {
      "text/plain": [
       "'Anthology 1'"
      ]
     },
     "metadata": {},
     "output_type": "display_data"
    },
    {
     "data": {
      "text/html": [
       "<div>\n",
       "<style scoped>\n",
       "    .dataframe tbody tr th:only-of-type {\n",
       "        vertical-align: middle;\n",
       "    }\n",
       "\n",
       "    .dataframe tbody tr th {\n",
       "        vertical-align: top;\n",
       "    }\n",
       "\n",
       "    .dataframe thead th {\n",
       "        text-align: right;\n",
       "    }\n",
       "</style>\n",
       "<table border=\"1\" class=\"dataframe\">\n",
       "  <thead>\n",
       "    <tr style=\"text-align: right;\">\n",
       "      <th></th>\n",
       "      <th>Title</th>\n",
       "      <th>Year</th>\n",
       "      <th>Lead.vocal</th>\n",
       "    </tr>\n",
       "    <tr>\n",
       "      <th>Album.debut</th>\n",
       "      <th></th>\n",
       "      <th></th>\n",
       "      <th></th>\n",
       "    </tr>\n",
       "  </thead>\n",
       "  <tbody>\n",
       "    <tr>\n",
       "      <th>Anthology 1</th>\n",
       "      <td>Moonlight Bay</td>\n",
       "      <td>1963</td>\n",
       "      <td>Lennon, McCartney, Harrison, Eric Morecambe, E...</td>\n",
       "    </tr>\n",
       "    <tr>\n",
       "      <th>Anthology 1</th>\n",
       "      <td>Bésame Mucho</td>\n",
       "      <td>1962</td>\n",
       "      <td>McCartney</td>\n",
       "    </tr>\n",
       "    <tr>\n",
       "      <th>Anthology 1</th>\n",
       "      <td>You Know What to Do</td>\n",
       "      <td>1964</td>\n",
       "      <td>Harrison</td>\n",
       "    </tr>\n",
       "    <tr>\n",
       "      <th>Anthology 1</th>\n",
       "      <td>How Do You Do It?</td>\n",
       "      <td>1962</td>\n",
       "      <td>Lennon</td>\n",
       "    </tr>\n",
       "    <tr>\n",
       "      <th>Anthology 1</th>\n",
       "      <td>Like Dreamers Do</td>\n",
       "      <td>1962</td>\n",
       "      <td>McCartney</td>\n",
       "    </tr>\n",
       "    <tr>\n",
       "      <th>Anthology 1</th>\n",
       "      <td>Leave My Kitten Alone</td>\n",
       "      <td>1964</td>\n",
       "      <td>Lennon</td>\n",
       "    </tr>\n",
       "    <tr>\n",
       "      <th>Anthology 1</th>\n",
       "      <td>The Sheik of Araby</td>\n",
       "      <td>1962</td>\n",
       "      <td>Harrison</td>\n",
       "    </tr>\n",
       "    <tr>\n",
       "      <th>Anthology 1</th>\n",
       "      <td>Lend Me Your Comb</td>\n",
       "      <td>1963</td>\n",
       "      <td>Lennon and McCartney</td>\n",
       "    </tr>\n",
       "    <tr>\n",
       "      <th>Anthology 1</th>\n",
       "      <td>Searchin'</td>\n",
       "      <td>1962</td>\n",
       "      <td>McCartney</td>\n",
       "    </tr>\n",
       "    <tr>\n",
       "      <th>Anthology 1</th>\n",
       "      <td>Hello Little Girl</td>\n",
       "      <td>1962</td>\n",
       "      <td>Lennon</td>\n",
       "    </tr>\n",
       "    <tr>\n",
       "      <th>Anthology 1</th>\n",
       "      <td>Shout</td>\n",
       "      <td>1964</td>\n",
       "      <td>Lennon, McCartney, Harrison and Starkey</td>\n",
       "    </tr>\n",
       "    <tr>\n",
       "      <th>Anthology 1</th>\n",
       "      <td>Three Cool Cats</td>\n",
       "      <td>1962</td>\n",
       "      <td>Harrison</td>\n",
       "    </tr>\n",
       "  </tbody>\n",
       "</table>\n",
       "</div>"
      ],
      "text/plain": [
       "                             Title  Year  \\\n",
       "Album.debut                                \n",
       "Anthology 1          Moonlight Bay  1963   \n",
       "Anthology 1           Bésame Mucho  1962   \n",
       "Anthology 1    You Know What to Do  1964   \n",
       "Anthology 1      How Do You Do It?  1962   \n",
       "Anthology 1       Like Dreamers Do  1962   \n",
       "Anthology 1  Leave My Kitten Alone  1964   \n",
       "Anthology 1     The Sheik of Araby  1962   \n",
       "Anthology 1      Lend Me Your Comb  1963   \n",
       "Anthology 1              Searchin'  1962   \n",
       "Anthology 1      Hello Little Girl  1962   \n",
       "Anthology 1                  Shout  1964   \n",
       "Anthology 1        Three Cool Cats  1962   \n",
       "\n",
       "                                                    Lead.vocal  \n",
       "Album.debut                                                     \n",
       "Anthology 1  Lennon, McCartney, Harrison, Eric Morecambe, E...  \n",
       "Anthology 1                                          McCartney  \n",
       "Anthology 1                                           Harrison  \n",
       "Anthology 1                                             Lennon  \n",
       "Anthology 1                                          McCartney  \n",
       "Anthology 1                                             Lennon  \n",
       "Anthology 1                                           Harrison  \n",
       "Anthology 1                               Lennon and McCartney  \n",
       "Anthology 1                                          McCartney  \n",
       "Anthology 1                                             Lennon  \n",
       "Anthology 1            Lennon, McCartney, Harrison and Starkey  \n",
       "Anthology 1                                           Harrison  "
      ]
     },
     "metadata": {},
     "output_type": "display_data"
    },
    {
     "data": {
      "text/plain": [
       "'Anthology 2'"
      ]
     },
     "metadata": {},
     "output_type": "display_data"
    },
    {
     "data": {
      "text/html": [
       "<div>\n",
       "<style scoped>\n",
       "    .dataframe tbody tr th:only-of-type {\n",
       "        vertical-align: middle;\n",
       "    }\n",
       "\n",
       "    .dataframe tbody tr th {\n",
       "        vertical-align: top;\n",
       "    }\n",
       "\n",
       "    .dataframe thead th {\n",
       "        text-align: right;\n",
       "    }\n",
       "</style>\n",
       "<table border=\"1\" class=\"dataframe\">\n",
       "  <thead>\n",
       "    <tr style=\"text-align: right;\">\n",
       "      <th></th>\n",
       "      <th>Title</th>\n",
       "      <th>Year</th>\n",
       "      <th>Lead.vocal</th>\n",
       "    </tr>\n",
       "    <tr>\n",
       "      <th>Album.debut</th>\n",
       "      <th></th>\n",
       "      <th></th>\n",
       "      <th></th>\n",
       "    </tr>\n",
       "  </thead>\n",
       "  <tbody>\n",
       "    <tr>\n",
       "      <th>Anthology 2</th>\n",
       "      <td>If You've Got Trouble</td>\n",
       "      <td>1965</td>\n",
       "      <td>Starkey</td>\n",
       "    </tr>\n",
       "    <tr>\n",
       "      <th>Anthology 2</th>\n",
       "      <td>12-Bar Original</td>\n",
       "      <td>1965</td>\n",
       "      <td>Instrumental/Unknown</td>\n",
       "    </tr>\n",
       "    <tr>\n",
       "      <th>Anthology 2</th>\n",
       "      <td>That Means a Lot</td>\n",
       "      <td>1965</td>\n",
       "      <td>McCartney</td>\n",
       "    </tr>\n",
       "  </tbody>\n",
       "</table>\n",
       "</div>"
      ],
      "text/plain": [
       "                             Title  Year            Lead.vocal\n",
       "Album.debut                                                   \n",
       "Anthology 2  If You've Got Trouble  1965               Starkey\n",
       "Anthology 2        12-Bar Original  1965  Instrumental/Unknown\n",
       "Anthology 2       That Means a Lot  1965             McCartney"
      ]
     },
     "metadata": {},
     "output_type": "display_data"
    },
    {
     "data": {
      "text/plain": [
       "'Beatles for Sale'"
      ]
     },
     "metadata": {},
     "output_type": "display_data"
    },
    {
     "data": {
      "text/html": [
       "<div>\n",
       "<style scoped>\n",
       "    .dataframe tbody tr th:only-of-type {\n",
       "        vertical-align: middle;\n",
       "    }\n",
       "\n",
       "    .dataframe tbody tr th {\n",
       "        vertical-align: top;\n",
       "    }\n",
       "\n",
       "    .dataframe thead th {\n",
       "        text-align: right;\n",
       "    }\n",
       "</style>\n",
       "<table border=\"1\" class=\"dataframe\">\n",
       "  <thead>\n",
       "    <tr style=\"text-align: right;\">\n",
       "      <th></th>\n",
       "      <th>Title</th>\n",
       "      <th>Year</th>\n",
       "      <th>Lead.vocal</th>\n",
       "    </tr>\n",
       "    <tr>\n",
       "      <th>Album.debut</th>\n",
       "      <th></th>\n",
       "      <th></th>\n",
       "      <th></th>\n",
       "    </tr>\n",
       "  </thead>\n",
       "  <tbody>\n",
       "    <tr>\n",
       "      <th>Beatles for Sale</th>\n",
       "      <td>No Reply</td>\n",
       "      <td>1964</td>\n",
       "      <td>Lennon, with McCartney</td>\n",
       "    </tr>\n",
       "    <tr>\n",
       "      <th>Beatles for Sale</th>\n",
       "      <td>What You're Doing</td>\n",
       "      <td>1964</td>\n",
       "      <td>McCartney</td>\n",
       "    </tr>\n",
       "    <tr>\n",
       "      <th>Beatles for Sale</th>\n",
       "      <td>I Don't Want to Spoil the Party</td>\n",
       "      <td>1964</td>\n",
       "      <td>Lennon</td>\n",
       "    </tr>\n",
       "    <tr>\n",
       "      <th>Beatles for Sale</th>\n",
       "      <td>Baby's in Black</td>\n",
       "      <td>1964</td>\n",
       "      <td>Lennon and McCartney</td>\n",
       "    </tr>\n",
       "    <tr>\n",
       "      <th>Beatles for Sale</th>\n",
       "      <td>Words of Love</td>\n",
       "      <td>1964</td>\n",
       "      <td>Lennon and McCartney</td>\n",
       "    </tr>\n",
       "    <tr>\n",
       "      <th>Beatles for Sale</th>\n",
       "      <td>Honey Don't</td>\n",
       "      <td>1964</td>\n",
       "      <td>Starkey</td>\n",
       "    </tr>\n",
       "    <tr>\n",
       "      <th>Beatles for Sale</th>\n",
       "      <td>Rock and Roll Music</td>\n",
       "      <td>1964</td>\n",
       "      <td>Lennon</td>\n",
       "    </tr>\n",
       "    <tr>\n",
       "      <th>Beatles for Sale</th>\n",
       "      <td>Eight Days a Week</td>\n",
       "      <td>1964</td>\n",
       "      <td>Lennon, with McCartney</td>\n",
       "    </tr>\n",
       "    <tr>\n",
       "      <th>Beatles for Sale</th>\n",
       "      <td>I'll Follow the Sun</td>\n",
       "      <td>1964</td>\n",
       "      <td>McCartney, with Lennon</td>\n",
       "    </tr>\n",
       "    <tr>\n",
       "      <th>Beatles for Sale</th>\n",
       "      <td>Mr. Moonlight</td>\n",
       "      <td>1964</td>\n",
       "      <td>Lennon</td>\n",
       "    </tr>\n",
       "    <tr>\n",
       "      <th>Beatles for Sale</th>\n",
       "      <td>Kansas City/Hey, Hey, Hey, Hey</td>\n",
       "      <td>1964</td>\n",
       "      <td>McCartney</td>\n",
       "    </tr>\n",
       "    <tr>\n",
       "      <th>Beatles for Sale</th>\n",
       "      <td>I'm a Loser</td>\n",
       "      <td>1964</td>\n",
       "      <td>Lennon</td>\n",
       "    </tr>\n",
       "    <tr>\n",
       "      <th>Beatles for Sale</th>\n",
       "      <td>Everybody's Trying to Be My Baby</td>\n",
       "      <td>1964</td>\n",
       "      <td>Harrison</td>\n",
       "    </tr>\n",
       "    <tr>\n",
       "      <th>Beatles for Sale</th>\n",
       "      <td>Every Little Thing</td>\n",
       "      <td>1964</td>\n",
       "      <td>Lennon, with McCartney</td>\n",
       "    </tr>\n",
       "  </tbody>\n",
       "</table>\n",
       "</div>"
      ],
      "text/plain": [
       "                                             Title  Year  \\\n",
       "Album.debut                                                \n",
       "Beatles for Sale                          No Reply  1964   \n",
       "Beatles for Sale                 What You're Doing  1964   \n",
       "Beatles for Sale   I Don't Want to Spoil the Party  1964   \n",
       "Beatles for Sale                   Baby's in Black  1964   \n",
       "Beatles for Sale                     Words of Love  1964   \n",
       "Beatles for Sale                       Honey Don't  1964   \n",
       "Beatles for Sale               Rock and Roll Music  1964   \n",
       "Beatles for Sale                 Eight Days a Week  1964   \n",
       "Beatles for Sale               I'll Follow the Sun  1964   \n",
       "Beatles for Sale                     Mr. Moonlight  1964   \n",
       "Beatles for Sale    Kansas City/Hey, Hey, Hey, Hey  1964   \n",
       "Beatles for Sale                       I'm a Loser  1964   \n",
       "Beatles for Sale  Everybody's Trying to Be My Baby  1964   \n",
       "Beatles for Sale                Every Little Thing  1964   \n",
       "\n",
       "                              Lead.vocal  \n",
       "Album.debut                               \n",
       "Beatles for Sale  Lennon, with McCartney  \n",
       "Beatles for Sale               McCartney  \n",
       "Beatles for Sale                  Lennon  \n",
       "Beatles for Sale    Lennon and McCartney  \n",
       "Beatles for Sale    Lennon and McCartney  \n",
       "Beatles for Sale                 Starkey  \n",
       "Beatles for Sale                  Lennon  \n",
       "Beatles for Sale  Lennon, with McCartney  \n",
       "Beatles for Sale  McCartney, with Lennon  \n",
       "Beatles for Sale                  Lennon  \n",
       "Beatles for Sale               McCartney  \n",
       "Beatles for Sale                  Lennon  \n",
       "Beatles for Sale                Harrison  \n",
       "Beatles for Sale  Lennon, with McCartney  "
      ]
     },
     "metadata": {},
     "output_type": "display_data"
    },
    {
     "data": {
      "text/plain": [
       "'Help!'"
      ]
     },
     "metadata": {},
     "output_type": "display_data"
    },
    {
     "data": {
      "text/html": [
       "<div>\n",
       "<style scoped>\n",
       "    .dataframe tbody tr th:only-of-type {\n",
       "        vertical-align: middle;\n",
       "    }\n",
       "\n",
       "    .dataframe tbody tr th {\n",
       "        vertical-align: top;\n",
       "    }\n",
       "\n",
       "    .dataframe thead th {\n",
       "        text-align: right;\n",
       "    }\n",
       "</style>\n",
       "<table border=\"1\" class=\"dataframe\">\n",
       "  <thead>\n",
       "    <tr style=\"text-align: right;\">\n",
       "      <th></th>\n",
       "      <th>Title</th>\n",
       "      <th>Year</th>\n",
       "      <th>Lead.vocal</th>\n",
       "    </tr>\n",
       "    <tr>\n",
       "      <th>Album.debut</th>\n",
       "      <th></th>\n",
       "      <th></th>\n",
       "      <th></th>\n",
       "    </tr>\n",
       "  </thead>\n",
       "  <tbody>\n",
       "    <tr>\n",
       "      <th>Help!</th>\n",
       "      <td>Yesterday</td>\n",
       "      <td>1965</td>\n",
       "      <td>McCartney</td>\n",
       "    </tr>\n",
       "    <tr>\n",
       "      <th>Help!</th>\n",
       "      <td>Another Girl</td>\n",
       "      <td>1965</td>\n",
       "      <td>McCartney</td>\n",
       "    </tr>\n",
       "    <tr>\n",
       "      <th>Help!</th>\n",
       "      <td>It's Only Love</td>\n",
       "      <td>1965</td>\n",
       "      <td>Lennon</td>\n",
       "    </tr>\n",
       "    <tr>\n",
       "      <th>Help!</th>\n",
       "      <td>You're Going to Lose That Girl</td>\n",
       "      <td>1965</td>\n",
       "      <td>Lennon</td>\n",
       "    </tr>\n",
       "    <tr>\n",
       "      <th>Help!</th>\n",
       "      <td>You've Got to Hide Your Love Away</td>\n",
       "      <td>1965</td>\n",
       "      <td>Lennon</td>\n",
       "    </tr>\n",
       "    <tr>\n",
       "      <th>Help!</th>\n",
       "      <td>I Need You</td>\n",
       "      <td>1965</td>\n",
       "      <td>Harrison</td>\n",
       "    </tr>\n",
       "    <tr>\n",
       "      <th>Help!</th>\n",
       "      <td>Act Naturally</td>\n",
       "      <td>1965</td>\n",
       "      <td>Starkey</td>\n",
       "    </tr>\n",
       "    <tr>\n",
       "      <th>Help!</th>\n",
       "      <td>You Like Me Too Much</td>\n",
       "      <td>1965</td>\n",
       "      <td>Harrison</td>\n",
       "    </tr>\n",
       "    <tr>\n",
       "      <th>Help!</th>\n",
       "      <td>I've Just Seen a Face</td>\n",
       "      <td>1965</td>\n",
       "      <td>McCartney</td>\n",
       "    </tr>\n",
       "    <tr>\n",
       "      <th>Help!</th>\n",
       "      <td>Help!</td>\n",
       "      <td>1965</td>\n",
       "      <td>Lennon</td>\n",
       "    </tr>\n",
       "    <tr>\n",
       "      <th>Help!</th>\n",
       "      <td>Tell Me What You See</td>\n",
       "      <td>1965</td>\n",
       "      <td>McCartney, with Lennon</td>\n",
       "    </tr>\n",
       "    <tr>\n",
       "      <th>Help!</th>\n",
       "      <td>Ticket to Ride</td>\n",
       "      <td>1965</td>\n",
       "      <td>Lennon, with McCartney</td>\n",
       "    </tr>\n",
       "    <tr>\n",
       "      <th>Help!</th>\n",
       "      <td>The Night Before</td>\n",
       "      <td>1965</td>\n",
       "      <td>McCartney</td>\n",
       "    </tr>\n",
       "    <tr>\n",
       "      <th>Help!</th>\n",
       "      <td>Dizzy, Miss Lizzy</td>\n",
       "      <td>1965</td>\n",
       "      <td>Lennon</td>\n",
       "    </tr>\n",
       "  </tbody>\n",
       "</table>\n",
       "</div>"
      ],
      "text/plain": [
       "                                         Title  Year              Lead.vocal\n",
       "Album.debut                                                                 \n",
       "Help!                                Yesterday  1965               McCartney\n",
       "Help!                             Another Girl  1965               McCartney\n",
       "Help!                           It's Only Love  1965                  Lennon\n",
       "Help!           You're Going to Lose That Girl  1965                  Lennon\n",
       "Help!        You've Got to Hide Your Love Away  1965                  Lennon\n",
       "Help!                               I Need You  1965                Harrison\n",
       "Help!                            Act Naturally  1965                 Starkey\n",
       "Help!                     You Like Me Too Much  1965                Harrison\n",
       "Help!                    I've Just Seen a Face  1965               McCartney\n",
       "Help!                                    Help!  1965                  Lennon\n",
       "Help!                     Tell Me What You See  1965  McCartney, with Lennon\n",
       "Help!                           Ticket to Ride  1965  Lennon, with McCartney\n",
       "Help!                         The Night Before  1965               McCartney\n",
       "Help!                        Dizzy, Miss Lizzy  1965                  Lennon"
      ]
     },
     "metadata": {},
     "output_type": "display_data"
    },
    {
     "data": {
      "text/plain": [
       "'Live at the BBC'"
      ]
     },
     "metadata": {},
     "output_type": "display_data"
    },
    {
     "data": {
      "text/html": [
       "<div>\n",
       "<style scoped>\n",
       "    .dataframe tbody tr th:only-of-type {\n",
       "        vertical-align: middle;\n",
       "    }\n",
       "\n",
       "    .dataframe tbody tr th {\n",
       "        vertical-align: top;\n",
       "    }\n",
       "\n",
       "    .dataframe thead th {\n",
       "        text-align: right;\n",
       "    }\n",
       "</style>\n",
       "<table border=\"1\" class=\"dataframe\">\n",
       "  <thead>\n",
       "    <tr style=\"text-align: right;\">\n",
       "      <th></th>\n",
       "      <th>Title</th>\n",
       "      <th>Year</th>\n",
       "      <th>Lead.vocal</th>\n",
       "    </tr>\n",
       "    <tr>\n",
       "      <th>Album.debut</th>\n",
       "      <th></th>\n",
       "      <th></th>\n",
       "      <th></th>\n",
       "    </tr>\n",
       "  </thead>\n",
       "  <tbody>\n",
       "    <tr>\n",
       "      <th>Live at the BBC</th>\n",
       "      <td>Sure to Fall (In Love with You)</td>\n",
       "      <td>1963</td>\n",
       "      <td>McCartney</td>\n",
       "    </tr>\n",
       "    <tr>\n",
       "      <th>Live at the BBC</th>\n",
       "      <td>Some Other Guy</td>\n",
       "      <td>1963</td>\n",
       "      <td>Lennon and McCartney</td>\n",
       "    </tr>\n",
       "    <tr>\n",
       "      <th>Live at the BBC</th>\n",
       "      <td>Johnny B. Goode</td>\n",
       "      <td>1964</td>\n",
       "      <td>Lennon</td>\n",
       "    </tr>\n",
       "    <tr>\n",
       "      <th>Live at the BBC</th>\n",
       "      <td>Soldier of Love (Lay Down Your Arms)</td>\n",
       "      <td>1963</td>\n",
       "      <td>Lennon</td>\n",
       "    </tr>\n",
       "    <tr>\n",
       "      <th>Live at the BBC</th>\n",
       "      <td>So How Come (No One Loves Me)</td>\n",
       "      <td>1963</td>\n",
       "      <td>Harrison</td>\n",
       "    </tr>\n",
       "    <tr>\n",
       "      <th>Live at the BBC</th>\n",
       "      <td>That's All Right (Mama)</td>\n",
       "      <td>1963</td>\n",
       "      <td>McCartney</td>\n",
       "    </tr>\n",
       "    <tr>\n",
       "      <th>Live at the BBC</th>\n",
       "      <td>Memphis, Tennessee</td>\n",
       "      <td>1963</td>\n",
       "      <td>Lennon</td>\n",
       "    </tr>\n",
       "    <tr>\n",
       "      <th>Live at the BBC</th>\n",
       "      <td>Too Much Monkey Business</td>\n",
       "      <td>1963</td>\n",
       "      <td>Lennon</td>\n",
       "    </tr>\n",
       "    <tr>\n",
       "      <th>Live at the BBC</th>\n",
       "      <td>Ooh! My Soul</td>\n",
       "      <td>1963</td>\n",
       "      <td>McCartney</td>\n",
       "    </tr>\n",
       "    <tr>\n",
       "      <th>Live at the BBC</th>\n",
       "      <td>Lonesome Tears in My Eyes</td>\n",
       "      <td>1963</td>\n",
       "      <td>Lennon</td>\n",
       "    </tr>\n",
       "    <tr>\n",
       "      <th>Live at the BBC</th>\n",
       "      <td>To Know Her is to Love Her</td>\n",
       "      <td>1963</td>\n",
       "      <td>Lennon</td>\n",
       "    </tr>\n",
       "    <tr>\n",
       "      <th>Live at the BBC</th>\n",
       "      <td>Lucille</td>\n",
       "      <td>1963</td>\n",
       "      <td>McCartney</td>\n",
       "    </tr>\n",
       "    <tr>\n",
       "      <th>Live at the BBC</th>\n",
       "      <td>Nothin' Shakin' (But the Leaves on the Trees)</td>\n",
       "      <td>1963</td>\n",
       "      <td>Harrison</td>\n",
       "    </tr>\n",
       "    <tr>\n",
       "      <th>Live at the BBC</th>\n",
       "      <td>The Honeymoon Song</td>\n",
       "      <td>1963</td>\n",
       "      <td>McCartney</td>\n",
       "    </tr>\n",
       "    <tr>\n",
       "      <th>Live at the BBC</th>\n",
       "      <td>Sweet Little Sixteen</td>\n",
       "      <td>1963</td>\n",
       "      <td>Lennon</td>\n",
       "    </tr>\n",
       "    <tr>\n",
       "      <th>Live at the BBC</th>\n",
       "      <td>Keep Your Hands Off My Baby</td>\n",
       "      <td>1963</td>\n",
       "      <td>Lennon</td>\n",
       "    </tr>\n",
       "    <tr>\n",
       "      <th>Live at the BBC</th>\n",
       "      <td>Young Blood</td>\n",
       "      <td>1963</td>\n",
       "      <td>Harrison</td>\n",
       "    </tr>\n",
       "    <tr>\n",
       "      <th>Live at the BBC</th>\n",
       "      <td>A Shot of Rhythm and Blues</td>\n",
       "      <td>1963</td>\n",
       "      <td>Lennon</td>\n",
       "    </tr>\n",
       "    <tr>\n",
       "      <th>Live at the BBC</th>\n",
       "      <td>Carol</td>\n",
       "      <td>1963</td>\n",
       "      <td>Lennon</td>\n",
       "    </tr>\n",
       "    <tr>\n",
       "      <th>Live at the BBC</th>\n",
       "      <td>Clarabella</td>\n",
       "      <td>1963</td>\n",
       "      <td>McCartney</td>\n",
       "    </tr>\n",
       "    <tr>\n",
       "      <th>Live at the BBC</th>\n",
       "      <td>Crying, Waiting, Hoping</td>\n",
       "      <td>1963</td>\n",
       "      <td>Harrison</td>\n",
       "    </tr>\n",
       "    <tr>\n",
       "      <th>Live at the BBC</th>\n",
       "      <td>Don't Ever Change</td>\n",
       "      <td>1963</td>\n",
       "      <td>Harrison</td>\n",
       "    </tr>\n",
       "    <tr>\n",
       "      <th>Live at the BBC</th>\n",
       "      <td>From Us to You</td>\n",
       "      <td>1963</td>\n",
       "      <td>Lennon and McCartney</td>\n",
       "    </tr>\n",
       "    <tr>\n",
       "      <th>Live at the BBC</th>\n",
       "      <td>Glad All Over</td>\n",
       "      <td>1963</td>\n",
       "      <td>Harrison</td>\n",
       "    </tr>\n",
       "    <tr>\n",
       "      <th>Live at the BBC</th>\n",
       "      <td>I'm Gonna Sit Right Down and Cry (Over You)</td>\n",
       "      <td>1963</td>\n",
       "      <td>Lennon</td>\n",
       "    </tr>\n",
       "    <tr>\n",
       "      <th>Live at the BBC</th>\n",
       "      <td>Hippy Hippy Shake</td>\n",
       "      <td>1963</td>\n",
       "      <td>McCartney</td>\n",
       "    </tr>\n",
       "    <tr>\n",
       "      <th>Live at the BBC</th>\n",
       "      <td>I Forgot to Remember to Forget</td>\n",
       "      <td>1964</td>\n",
       "      <td>Harrison</td>\n",
       "    </tr>\n",
       "    <tr>\n",
       "      <th>Live at the BBC</th>\n",
       "      <td>I Got a Woman</td>\n",
       "      <td>1963</td>\n",
       "      <td>Lennon</td>\n",
       "    </tr>\n",
       "    <tr>\n",
       "      <th>Live at the BBC</th>\n",
       "      <td>I Got to Find My Baby</td>\n",
       "      <td>1963</td>\n",
       "      <td>Lennon</td>\n",
       "    </tr>\n",
       "    <tr>\n",
       "      <th>Live at the BBC</th>\n",
       "      <td>I Just Don't Understand</td>\n",
       "      <td>1963</td>\n",
       "      <td>Lennon</td>\n",
       "    </tr>\n",
       "    <tr>\n",
       "      <th>Live at the BBC</th>\n",
       "      <td>I'll Be on My Way</td>\n",
       "      <td>1963</td>\n",
       "      <td>Lennon</td>\n",
       "    </tr>\n",
       "  </tbody>\n",
       "</table>\n",
       "</div>"
      ],
      "text/plain": [
       "                                                         Title  Year  \\\n",
       "Album.debut                                                            \n",
       "Live at the BBC                Sure to Fall (In Love with You)  1963   \n",
       "Live at the BBC                                 Some Other Guy  1963   \n",
       "Live at the BBC                                Johnny B. Goode  1964   \n",
       "Live at the BBC           Soldier of Love (Lay Down Your Arms)  1963   \n",
       "Live at the BBC                  So How Come (No One Loves Me)  1963   \n",
       "Live at the BBC                        That's All Right (Mama)  1963   \n",
       "Live at the BBC                             Memphis, Tennessee  1963   \n",
       "Live at the BBC                       Too Much Monkey Business  1963   \n",
       "Live at the BBC                                   Ooh! My Soul  1963   \n",
       "Live at the BBC                      Lonesome Tears in My Eyes  1963   \n",
       "Live at the BBC                     To Know Her is to Love Her  1963   \n",
       "Live at the BBC                                        Lucille  1963   \n",
       "Live at the BBC  Nothin' Shakin' (But the Leaves on the Trees)  1963   \n",
       "Live at the BBC                             The Honeymoon Song  1963   \n",
       "Live at the BBC                           Sweet Little Sixteen  1963   \n",
       "Live at the BBC                    Keep Your Hands Off My Baby  1963   \n",
       "Live at the BBC                                    Young Blood  1963   \n",
       "Live at the BBC                     A Shot of Rhythm and Blues  1963   \n",
       "Live at the BBC                                          Carol  1963   \n",
       "Live at the BBC                                     Clarabella  1963   \n",
       "Live at the BBC                        Crying, Waiting, Hoping  1963   \n",
       "Live at the BBC                              Don't Ever Change  1963   \n",
       "Live at the BBC                                 From Us to You  1963   \n",
       "Live at the BBC                                  Glad All Over  1963   \n",
       "Live at the BBC    I'm Gonna Sit Right Down and Cry (Over You)  1963   \n",
       "Live at the BBC                              Hippy Hippy Shake  1963   \n",
       "Live at the BBC                 I Forgot to Remember to Forget  1964   \n",
       "Live at the BBC                                  I Got a Woman  1963   \n",
       "Live at the BBC                          I Got to Find My Baby  1963   \n",
       "Live at the BBC                        I Just Don't Understand  1963   \n",
       "Live at the BBC                              I'll Be on My Way  1963   \n",
       "\n",
       "                           Lead.vocal  \n",
       "Album.debut                            \n",
       "Live at the BBC             McCartney  \n",
       "Live at the BBC  Lennon and McCartney  \n",
       "Live at the BBC                Lennon  \n",
       "Live at the BBC                Lennon  \n",
       "Live at the BBC              Harrison  \n",
       "Live at the BBC             McCartney  \n",
       "Live at the BBC                Lennon  \n",
       "Live at the BBC                Lennon  \n",
       "Live at the BBC             McCartney  \n",
       "Live at the BBC                Lennon  \n",
       "Live at the BBC                Lennon  \n",
       "Live at the BBC             McCartney  \n",
       "Live at the BBC              Harrison  \n",
       "Live at the BBC             McCartney  \n",
       "Live at the BBC                Lennon  \n",
       "Live at the BBC                Lennon  \n",
       "Live at the BBC              Harrison  \n",
       "Live at the BBC                Lennon  \n",
       "Live at the BBC                Lennon  \n",
       "Live at the BBC             McCartney  \n",
       "Live at the BBC              Harrison  \n",
       "Live at the BBC              Harrison  \n",
       "Live at the BBC  Lennon and McCartney  \n",
       "Live at the BBC              Harrison  \n",
       "Live at the BBC                Lennon  \n",
       "Live at the BBC             McCartney  \n",
       "Live at the BBC              Harrison  \n",
       "Live at the BBC                Lennon  \n",
       "Live at the BBC                Lennon  \n",
       "Live at the BBC                Lennon  \n",
       "Live at the BBC                Lennon  "
      ]
     },
     "metadata": {},
     "output_type": "display_data"
    },
    {
     "data": {
      "text/plain": [
       "'Live! at the Star-Club in Hamburg, Germany; 1962'"
      ]
     },
     "metadata": {},
     "output_type": "display_data"
    },
    {
     "data": {
      "text/html": [
       "<div>\n",
       "<style scoped>\n",
       "    .dataframe tbody tr th:only-of-type {\n",
       "        vertical-align: middle;\n",
       "    }\n",
       "\n",
       "    .dataframe tbody tr th {\n",
       "        vertical-align: top;\n",
       "    }\n",
       "\n",
       "    .dataframe thead th {\n",
       "        text-align: right;\n",
       "    }\n",
       "</style>\n",
       "<table border=\"1\" class=\"dataframe\">\n",
       "  <thead>\n",
       "    <tr style=\"text-align: right;\">\n",
       "      <th></th>\n",
       "      <th>Title</th>\n",
       "      <th>Year</th>\n",
       "      <th>Lead.vocal</th>\n",
       "    </tr>\n",
       "    <tr>\n",
       "      <th>Album.debut</th>\n",
       "      <th></th>\n",
       "      <th></th>\n",
       "      <th></th>\n",
       "    </tr>\n",
       "  </thead>\n",
       "  <tbody>\n",
       "    <tr>\n",
       "      <th>Live! at the Star-Club in Hamburg, Germany; 1962</th>\n",
       "      <td>I'm Talking About You</td>\n",
       "      <td>1962</td>\n",
       "      <td>Lennon</td>\n",
       "    </tr>\n",
       "    <tr>\n",
       "      <th>Live! at the Star-Club in Hamburg, Germany; 1962</th>\n",
       "      <td>I'm Talking About You</td>\n",
       "      <td>1962</td>\n",
       "      <td>Lennon</td>\n",
       "    </tr>\n",
       "  </tbody>\n",
       "</table>\n",
       "</div>"
      ],
      "text/plain": [
       "                                                                  Title  Year  \\\n",
       "Album.debut                                                                     \n",
       "Live! at the Star-Club in Hamburg, Germany; 1962  I'm Talking About You  1962   \n",
       "Live! at the Star-Club in Hamburg, Germany; 1962  I'm Talking About You  1962   \n",
       "\n",
       "                                                 Lead.vocal  \n",
       "Album.debut                                                  \n",
       "Live! at the Star-Club in Hamburg, Germany; 1962     Lennon  \n",
       "Live! at the Star-Club in Hamburg, Germany; 1962     Lennon  "
      ]
     },
     "metadata": {},
     "output_type": "display_data"
    },
    {
     "data": {
      "text/plain": [
       "'Magical Mystery Tour'"
      ]
     },
     "metadata": {},
     "output_type": "display_data"
    },
    {
     "data": {
      "text/html": [
       "<div>\n",
       "<style scoped>\n",
       "    .dataframe tbody tr th:only-of-type {\n",
       "        vertical-align: middle;\n",
       "    }\n",
       "\n",
       "    .dataframe tbody tr th {\n",
       "        vertical-align: top;\n",
       "    }\n",
       "\n",
       "    .dataframe thead th {\n",
       "        text-align: right;\n",
       "    }\n",
       "</style>\n",
       "<table border=\"1\" class=\"dataframe\">\n",
       "  <thead>\n",
       "    <tr style=\"text-align: right;\">\n",
       "      <th></th>\n",
       "      <th>Title</th>\n",
       "      <th>Year</th>\n",
       "      <th>Lead.vocal</th>\n",
       "    </tr>\n",
       "    <tr>\n",
       "      <th>Album.debut</th>\n",
       "      <th></th>\n",
       "      <th></th>\n",
       "      <th></th>\n",
       "    </tr>\n",
       "  </thead>\n",
       "  <tbody>\n",
       "    <tr>\n",
       "      <th>Magical Mystery Tour</th>\n",
       "      <td>Penny Lane</td>\n",
       "      <td>1966</td>\n",
       "      <td>McCartney</td>\n",
       "    </tr>\n",
       "    <tr>\n",
       "      <th>Magical Mystery Tour</th>\n",
       "      <td>Strawberry Fields Forever</td>\n",
       "      <td>1966</td>\n",
       "      <td>Lennon</td>\n",
       "    </tr>\n",
       "  </tbody>\n",
       "</table>\n",
       "</div>"
      ],
      "text/plain": [
       "                                          Title  Year Lead.vocal\n",
       "Album.debut                                                     \n",
       "Magical Mystery Tour                 Penny Lane  1966  McCartney\n",
       "Magical Mystery Tour  Strawberry Fields Forever  1966     Lennon"
      ]
     },
     "metadata": {},
     "output_type": "display_data"
    },
    {
     "data": {
      "text/plain": [
       "'On Air - Live at the BBC Volume 2'"
      ]
     },
     "metadata": {},
     "output_type": "display_data"
    },
    {
     "data": {
      "text/html": [
       "<div>\n",
       "<style scoped>\n",
       "    .dataframe tbody tr th:only-of-type {\n",
       "        vertical-align: middle;\n",
       "    }\n",
       "\n",
       "    .dataframe tbody tr th {\n",
       "        vertical-align: top;\n",
       "    }\n",
       "\n",
       "    .dataframe thead th {\n",
       "        text-align: right;\n",
       "    }\n",
       "</style>\n",
       "<table border=\"1\" class=\"dataframe\">\n",
       "  <thead>\n",
       "    <tr style=\"text-align: right;\">\n",
       "      <th></th>\n",
       "      <th>Title</th>\n",
       "      <th>Year</th>\n",
       "      <th>Lead.vocal</th>\n",
       "    </tr>\n",
       "    <tr>\n",
       "      <th>Album.debut</th>\n",
       "      <th></th>\n",
       "      <th></th>\n",
       "      <th></th>\n",
       "    </tr>\n",
       "  </thead>\n",
       "  <tbody>\n",
       "    <tr>\n",
       "      <th>On Air - Live at the BBC Volume 2</th>\n",
       "      <td>I'm Talking About You</td>\n",
       "      <td>1963</td>\n",
       "      <td>Lennon</td>\n",
       "    </tr>\n",
       "    <tr>\n",
       "      <th>On Air - Live at the BBC Volume 2</th>\n",
       "      <td>I'm Talking About You</td>\n",
       "      <td>1963</td>\n",
       "      <td>Lennon</td>\n",
       "    </tr>\n",
       "    <tr>\n",
       "      <th>On Air - Live at the BBC Volume 2</th>\n",
       "      <td>Beautiful Dreamer</td>\n",
       "      <td>1963</td>\n",
       "      <td>McCartney</td>\n",
       "    </tr>\n",
       "  </tbody>\n",
       "</table>\n",
       "</div>"
      ],
      "text/plain": [
       "                                                   Title  Year Lead.vocal\n",
       "Album.debut                                                              \n",
       "On Air - Live at the BBC Volume 2  I'm Talking About You  1963     Lennon\n",
       "On Air - Live at the BBC Volume 2  I'm Talking About You  1963     Lennon\n",
       "On Air - Live at the BBC Volume 2      Beautiful Dreamer  1963  McCartney"
      ]
     },
     "metadata": {},
     "output_type": "display_data"
    },
    {
     "data": {
      "text/plain": [
       "'Past Masters Volume 1'"
      ]
     },
     "metadata": {},
     "output_type": "display_data"
    },
    {
     "data": {
      "text/html": [
       "<div>\n",
       "<style scoped>\n",
       "    .dataframe tbody tr th:only-of-type {\n",
       "        vertical-align: middle;\n",
       "    }\n",
       "\n",
       "    .dataframe tbody tr th {\n",
       "        vertical-align: top;\n",
       "    }\n",
       "\n",
       "    .dataframe thead th {\n",
       "        text-align: right;\n",
       "    }\n",
       "</style>\n",
       "<table border=\"1\" class=\"dataframe\">\n",
       "  <thead>\n",
       "    <tr style=\"text-align: right;\">\n",
       "      <th></th>\n",
       "      <th>Title</th>\n",
       "      <th>Year</th>\n",
       "      <th>Lead.vocal</th>\n",
       "    </tr>\n",
       "    <tr>\n",
       "      <th>Album.debut</th>\n",
       "      <th></th>\n",
       "      <th></th>\n",
       "      <th></th>\n",
       "    </tr>\n",
       "  </thead>\n",
       "  <tbody>\n",
       "    <tr>\n",
       "      <th>Past Masters Volume 1</th>\n",
       "      <td>I Call Your Name</td>\n",
       "      <td>1964</td>\n",
       "      <td>Lennon</td>\n",
       "    </tr>\n",
       "    <tr>\n",
       "      <th>Past Masters Volume 1</th>\n",
       "      <td>I'll Get You</td>\n",
       "      <td>1963</td>\n",
       "      <td>Lennon, with McCartney</td>\n",
       "    </tr>\n",
       "  </tbody>\n",
       "</table>\n",
       "</div>"
      ],
      "text/plain": [
       "                                  Title  Year              Lead.vocal\n",
       "Album.debut                                                          \n",
       "Past Masters Volume 1  I Call Your Name  1964                  Lennon\n",
       "Past Masters Volume 1      I'll Get You  1963  Lennon, with McCartney"
      ]
     },
     "metadata": {},
     "output_type": "display_data"
    },
    {
     "data": {
      "text/plain": [
       "'Please Please Me'"
      ]
     },
     "metadata": {},
     "output_type": "display_data"
    },
    {
     "data": {
      "text/html": [
       "<div>\n",
       "<style scoped>\n",
       "    .dataframe tbody tr th:only-of-type {\n",
       "        vertical-align: middle;\n",
       "    }\n",
       "\n",
       "    .dataframe tbody tr th {\n",
       "        vertical-align: top;\n",
       "    }\n",
       "\n",
       "    .dataframe thead th {\n",
       "        text-align: right;\n",
       "    }\n",
       "</style>\n",
       "<table border=\"1\" class=\"dataframe\">\n",
       "  <thead>\n",
       "    <tr style=\"text-align: right;\">\n",
       "      <th></th>\n",
       "      <th>Title</th>\n",
       "      <th>Year</th>\n",
       "      <th>Lead.vocal</th>\n",
       "    </tr>\n",
       "    <tr>\n",
       "      <th>Album.debut</th>\n",
       "      <th></th>\n",
       "      <th></th>\n",
       "      <th></th>\n",
       "    </tr>\n",
       "  </thead>\n",
       "  <tbody>\n",
       "    <tr>\n",
       "      <th>Please Please Me</th>\n",
       "      <td>There's a Place</td>\n",
       "      <td>1963</td>\n",
       "      <td>Lennon and McCartney</td>\n",
       "    </tr>\n",
       "    <tr>\n",
       "      <th>Please Please Me</th>\n",
       "      <td>Chains</td>\n",
       "      <td>1963</td>\n",
       "      <td>Harrison, with Lennon and McCartney</td>\n",
       "    </tr>\n",
       "    <tr>\n",
       "      <th>Please Please Me</th>\n",
       "      <td>Boys</td>\n",
       "      <td>1963</td>\n",
       "      <td>Starkey (Best)</td>\n",
       "    </tr>\n",
       "    <tr>\n",
       "      <th>Please Please Me</th>\n",
       "      <td>Twist and Shout</td>\n",
       "      <td>1963</td>\n",
       "      <td>Lennon</td>\n",
       "    </tr>\n",
       "    <tr>\n",
       "      <th>Please Please Me</th>\n",
       "      <td>Please Please Me</td>\n",
       "      <td>1962</td>\n",
       "      <td>Lennon, with McCartney</td>\n",
       "    </tr>\n",
       "    <tr>\n",
       "      <th>Please Please Me</th>\n",
       "      <td>Misery</td>\n",
       "      <td>1963</td>\n",
       "      <td>Lennon, with McCartney</td>\n",
       "    </tr>\n",
       "    <tr>\n",
       "      <th>Please Please Me</th>\n",
       "      <td>Baby It's You</td>\n",
       "      <td>1963</td>\n",
       "      <td>Lennon</td>\n",
       "    </tr>\n",
       "    <tr>\n",
       "      <th>Please Please Me</th>\n",
       "      <td>Ask Me Why</td>\n",
       "      <td>1962</td>\n",
       "      <td>Lennon</td>\n",
       "    </tr>\n",
       "    <tr>\n",
       "      <th>Please Please Me</th>\n",
       "      <td>I Saw Her Standing There</td>\n",
       "      <td>1963</td>\n",
       "      <td>McCartney, with Lennon</td>\n",
       "    </tr>\n",
       "    <tr>\n",
       "      <th>Please Please Me</th>\n",
       "      <td>Do You Want to Know a Secret?</td>\n",
       "      <td>1963</td>\n",
       "      <td>Harrison</td>\n",
       "    </tr>\n",
       "    <tr>\n",
       "      <th>Please Please Me</th>\n",
       "      <td>Anna (Go to Him)</td>\n",
       "      <td>1963</td>\n",
       "      <td>Lennon</td>\n",
       "    </tr>\n",
       "    <tr>\n",
       "      <th>Please Please Me</th>\n",
       "      <td>Love Me Do</td>\n",
       "      <td>1962</td>\n",
       "      <td>McCartney, with Lennon</td>\n",
       "    </tr>\n",
       "    <tr>\n",
       "      <th>Please Please Me</th>\n",
       "      <td>A Taste of Honey</td>\n",
       "      <td>1963</td>\n",
       "      <td>McCartney</td>\n",
       "    </tr>\n",
       "    <tr>\n",
       "      <th>Please Please Me</th>\n",
       "      <td>P.S. I Love You</td>\n",
       "      <td>1962</td>\n",
       "      <td>McCartney</td>\n",
       "    </tr>\n",
       "  </tbody>\n",
       "</table>\n",
       "</div>"
      ],
      "text/plain": [
       "                                          Title  Year  \\\n",
       "Album.debut                                             \n",
       "Please Please Me                There's a Place  1963   \n",
       "Please Please Me                         Chains  1963   \n",
       "Please Please Me                           Boys  1963   \n",
       "Please Please Me                Twist and Shout  1963   \n",
       "Please Please Me               Please Please Me  1962   \n",
       "Please Please Me                         Misery  1963   \n",
       "Please Please Me                  Baby It's You  1963   \n",
       "Please Please Me                     Ask Me Why  1962   \n",
       "Please Please Me       I Saw Her Standing There  1963   \n",
       "Please Please Me  Do You Want to Know a Secret?  1963   \n",
       "Please Please Me               Anna (Go to Him)  1963   \n",
       "Please Please Me                     Love Me Do  1962   \n",
       "Please Please Me               A Taste of Honey  1963   \n",
       "Please Please Me                P.S. I Love You  1962   \n",
       "\n",
       "                                           Lead.vocal  \n",
       "Album.debut                                            \n",
       "Please Please Me                 Lennon and McCartney  \n",
       "Please Please Me  Harrison, with Lennon and McCartney  \n",
       "Please Please Me                       Starkey (Best)  \n",
       "Please Please Me                               Lennon  \n",
       "Please Please Me               Lennon, with McCartney  \n",
       "Please Please Me               Lennon, with McCartney  \n",
       "Please Please Me                               Lennon  \n",
       "Please Please Me                               Lennon  \n",
       "Please Please Me               McCartney, with Lennon  \n",
       "Please Please Me                             Harrison  \n",
       "Please Please Me                               Lennon  \n",
       "Please Please Me               McCartney, with Lennon  \n",
       "Please Please Me                            McCartney  \n",
       "Please Please Me                            McCartney  "
      ]
     },
     "metadata": {},
     "output_type": "display_data"
    },
    {
     "data": {
      "text/plain": [
       "'Rarities'"
      ]
     },
     "metadata": {},
     "output_type": "display_data"
    },
    {
     "data": {
      "text/html": [
       "<div>\n",
       "<style scoped>\n",
       "    .dataframe tbody tr th:only-of-type {\n",
       "        vertical-align: middle;\n",
       "    }\n",
       "\n",
       "    .dataframe tbody tr th {\n",
       "        vertical-align: top;\n",
       "    }\n",
       "\n",
       "    .dataframe thead th {\n",
       "        text-align: right;\n",
       "    }\n",
       "</style>\n",
       "<table border=\"1\" class=\"dataframe\">\n",
       "  <thead>\n",
       "    <tr style=\"text-align: right;\">\n",
       "      <th></th>\n",
       "      <th>Title</th>\n",
       "      <th>Year</th>\n",
       "      <th>Lead.vocal</th>\n",
       "    </tr>\n",
       "    <tr>\n",
       "      <th>Album.debut</th>\n",
       "      <th></th>\n",
       "      <th></th>\n",
       "      <th></th>\n",
       "    </tr>\n",
       "  </thead>\n",
       "  <tbody>\n",
       "    <tr>\n",
       "      <th>Rarities</th>\n",
       "      <td>Rain</td>\n",
       "      <td>1966</td>\n",
       "      <td>Lennon</td>\n",
       "    </tr>\n",
       "    <tr>\n",
       "      <th>Rarities</th>\n",
       "      <td>Thank You Girl</td>\n",
       "      <td>1963</td>\n",
       "      <td>Lennon and McCartney</td>\n",
       "    </tr>\n",
       "    <tr>\n",
       "      <th>Rarities</th>\n",
       "      <td>She's a Woman</td>\n",
       "      <td>1964</td>\n",
       "      <td>McCartney</td>\n",
       "    </tr>\n",
       "    <tr>\n",
       "      <th>Rarities</th>\n",
       "      <td>Sie Liebt Dich</td>\n",
       "      <td>1964</td>\n",
       "      <td>Lennon-McCartney</td>\n",
       "    </tr>\n",
       "    <tr>\n",
       "      <th>Rarities</th>\n",
       "      <td>This Boy</td>\n",
       "      <td>1963</td>\n",
       "      <td>Lennon, with McCartney and Harrison</td>\n",
       "    </tr>\n",
       "    <tr>\n",
       "      <th>Rarities</th>\n",
       "      <td>Komm Gib Mir Deine Hand</td>\n",
       "      <td>1964</td>\n",
       "      <td>Lennon and McCartney</td>\n",
       "    </tr>\n",
       "    <tr>\n",
       "      <th>Rarities</th>\n",
       "      <td>Yes It Is</td>\n",
       "      <td>1965</td>\n",
       "      <td>Lennon, McCartney and Harrison</td>\n",
       "    </tr>\n",
       "  </tbody>\n",
       "</table>\n",
       "</div>"
      ],
      "text/plain": [
       "                               Title  Year  \\\n",
       "Album.debut                                  \n",
       "Rarities                        Rain  1966   \n",
       "Rarities              Thank You Girl  1963   \n",
       "Rarities               She's a Woman  1964   \n",
       "Rarities              Sie Liebt Dich  1964   \n",
       "Rarities                    This Boy  1963   \n",
       "Rarities     Komm Gib Mir Deine Hand  1964   \n",
       "Rarities                   Yes It Is  1965   \n",
       "\n",
       "                                      Lead.vocal  \n",
       "Album.debut                                       \n",
       "Rarities                                  Lennon  \n",
       "Rarities                    Lennon and McCartney  \n",
       "Rarities                               McCartney  \n",
       "Rarities                        Lennon-McCartney  \n",
       "Rarities     Lennon, with McCartney and Harrison  \n",
       "Rarities                    Lennon and McCartney  \n",
       "Rarities          Lennon, McCartney and Harrison  "
      ]
     },
     "metadata": {},
     "output_type": "display_data"
    },
    {
     "data": {
      "text/plain": [
       "'Revolver'"
      ]
     },
     "metadata": {},
     "output_type": "display_data"
    },
    {
     "data": {
      "text/html": [
       "<div>\n",
       "<style scoped>\n",
       "    .dataframe tbody tr th:only-of-type {\n",
       "        vertical-align: middle;\n",
       "    }\n",
       "\n",
       "    .dataframe tbody tr th {\n",
       "        vertical-align: top;\n",
       "    }\n",
       "\n",
       "    .dataframe thead th {\n",
       "        text-align: right;\n",
       "    }\n",
       "</style>\n",
       "<table border=\"1\" class=\"dataframe\">\n",
       "  <thead>\n",
       "    <tr style=\"text-align: right;\">\n",
       "      <th></th>\n",
       "      <th>Title</th>\n",
       "      <th>Year</th>\n",
       "      <th>Lead.vocal</th>\n",
       "    </tr>\n",
       "    <tr>\n",
       "      <th>Album.debut</th>\n",
       "      <th></th>\n",
       "      <th></th>\n",
       "      <th></th>\n",
       "    </tr>\n",
       "  </thead>\n",
       "  <tbody>\n",
       "    <tr>\n",
       "      <th>Revolver</th>\n",
       "      <td>Yellow Submarine</td>\n",
       "      <td>1966</td>\n",
       "      <td>Starkey</td>\n",
       "    </tr>\n",
       "    <tr>\n",
       "      <th>Revolver</th>\n",
       "      <td>Doctor Robert</td>\n",
       "      <td>1966</td>\n",
       "      <td>Lennon</td>\n",
       "    </tr>\n",
       "    <tr>\n",
       "      <th>Revolver</th>\n",
       "      <td>And Your Bird Can Sing</td>\n",
       "      <td>1966</td>\n",
       "      <td>Lennon</td>\n",
       "    </tr>\n",
       "    <tr>\n",
       "      <th>Revolver</th>\n",
       "      <td>Taxman</td>\n",
       "      <td>1966</td>\n",
       "      <td>Harrison</td>\n",
       "    </tr>\n",
       "    <tr>\n",
       "      <th>Revolver</th>\n",
       "      <td>Eleanor Rigby</td>\n",
       "      <td>1966</td>\n",
       "      <td>McCartney</td>\n",
       "    </tr>\n",
       "    <tr>\n",
       "      <th>Revolver</th>\n",
       "      <td>I Want to Tell You</td>\n",
       "      <td>1966</td>\n",
       "      <td>Harrison</td>\n",
       "    </tr>\n",
       "    <tr>\n",
       "      <th>Revolver</th>\n",
       "      <td>I'm Only Sleeping</td>\n",
       "      <td>1966</td>\n",
       "      <td>Lennon</td>\n",
       "    </tr>\n",
       "    <tr>\n",
       "      <th>Revolver</th>\n",
       "      <td>Tomorrow Never Knows</td>\n",
       "      <td>1966</td>\n",
       "      <td>Lennon</td>\n",
       "    </tr>\n",
       "    <tr>\n",
       "      <th>Revolver</th>\n",
       "      <td>For No One</td>\n",
       "      <td>1966</td>\n",
       "      <td>McCartney</td>\n",
       "    </tr>\n",
       "    <tr>\n",
       "      <th>Revolver</th>\n",
       "      <td>Love You To</td>\n",
       "      <td>1966</td>\n",
       "      <td>Harrison</td>\n",
       "    </tr>\n",
       "    <tr>\n",
       "      <th>Revolver</th>\n",
       "      <td>Good Day Sunshine</td>\n",
       "      <td>1966</td>\n",
       "      <td>McCartney</td>\n",
       "    </tr>\n",
       "    <tr>\n",
       "      <th>Revolver</th>\n",
       "      <td>She Said She Said</td>\n",
       "      <td>1966</td>\n",
       "      <td>Lennon</td>\n",
       "    </tr>\n",
       "    <tr>\n",
       "      <th>Revolver</th>\n",
       "      <td>Got to Get You into My Life</td>\n",
       "      <td>1966</td>\n",
       "      <td>McCartney</td>\n",
       "    </tr>\n",
       "    <tr>\n",
       "      <th>Revolver</th>\n",
       "      <td>Here, There and Everywhere</td>\n",
       "      <td>1966</td>\n",
       "      <td>McCartney</td>\n",
       "    </tr>\n",
       "  </tbody>\n",
       "</table>\n",
       "</div>"
      ],
      "text/plain": [
       "                                   Title  Year Lead.vocal\n",
       "Album.debut                                              \n",
       "Revolver                Yellow Submarine  1966    Starkey\n",
       "Revolver                   Doctor Robert  1966     Lennon\n",
       "Revolver          And Your Bird Can Sing  1966     Lennon\n",
       "Revolver                          Taxman  1966   Harrison\n",
       "Revolver                   Eleanor Rigby  1966  McCartney\n",
       "Revolver              I Want to Tell You  1966   Harrison\n",
       "Revolver               I'm Only Sleeping  1966     Lennon\n",
       "Revolver            Tomorrow Never Knows  1966     Lennon\n",
       "Revolver                      For No One  1966  McCartney\n",
       "Revolver                     Love You To  1966   Harrison\n",
       "Revolver               Good Day Sunshine  1966  McCartney\n",
       "Revolver               She Said She Said  1966     Lennon\n",
       "Revolver     Got to Get You into My Life  1966  McCartney\n",
       "Revolver      Here, There and Everywhere  1966  McCartney"
      ]
     },
     "metadata": {},
     "output_type": "display_data"
    },
    {
     "data": {
      "text/plain": [
       "\"Rock 'n' Roll Music\""
      ]
     },
     "metadata": {},
     "output_type": "display_data"
    },
    {
     "data": {
      "text/html": [
       "<div>\n",
       "<style scoped>\n",
       "    .dataframe tbody tr th:only-of-type {\n",
       "        vertical-align: middle;\n",
       "    }\n",
       "\n",
       "    .dataframe tbody tr th {\n",
       "        vertical-align: top;\n",
       "    }\n",
       "\n",
       "    .dataframe thead th {\n",
       "        text-align: right;\n",
       "    }\n",
       "</style>\n",
       "<table border=\"1\" class=\"dataframe\">\n",
       "  <thead>\n",
       "    <tr style=\"text-align: right;\">\n",
       "      <th></th>\n",
       "      <th>Title</th>\n",
       "      <th>Year</th>\n",
       "      <th>Lead.vocal</th>\n",
       "    </tr>\n",
       "    <tr>\n",
       "      <th>Album.debut</th>\n",
       "      <th></th>\n",
       "      <th></th>\n",
       "      <th></th>\n",
       "    </tr>\n",
       "  </thead>\n",
       "  <tbody>\n",
       "    <tr>\n",
       "      <th>Rock 'n' Roll Music</th>\n",
       "      <td>Slow Down</td>\n",
       "      <td>1964</td>\n",
       "      <td>Lennon</td>\n",
       "    </tr>\n",
       "    <tr>\n",
       "      <th>Rock 'n' Roll Music</th>\n",
       "      <td>Matchbox</td>\n",
       "      <td>1964</td>\n",
       "      <td>Starkey (Best)</td>\n",
       "    </tr>\n",
       "    <tr>\n",
       "      <th>Rock 'n' Roll Music</th>\n",
       "      <td>I'm Down</td>\n",
       "      <td>1965</td>\n",
       "      <td>McCartney</td>\n",
       "    </tr>\n",
       "    <tr>\n",
       "      <th>Rock 'n' Roll Music</th>\n",
       "      <td>Long Tall Sally</td>\n",
       "      <td>1964</td>\n",
       "      <td>McCartney</td>\n",
       "    </tr>\n",
       "  </tbody>\n",
       "</table>\n",
       "</div>"
      ],
      "text/plain": [
       "                               Title  Year      Lead.vocal\n",
       "Album.debut                                               \n",
       "Rock 'n' Roll Music        Slow Down  1964          Lennon\n",
       "Rock 'n' Roll Music         Matchbox  1964  Starkey (Best)\n",
       "Rock 'n' Roll Music         I'm Down  1965       McCartney\n",
       "Rock 'n' Roll Music  Long Tall Sally  1964       McCartney"
      ]
     },
     "metadata": {},
     "output_type": "display_data"
    },
    {
     "data": {
      "text/plain": [
       "'Rubber Soul'"
      ]
     },
     "metadata": {},
     "output_type": "display_data"
    },
    {
     "data": {
      "text/html": [
       "<div>\n",
       "<style scoped>\n",
       "    .dataframe tbody tr th:only-of-type {\n",
       "        vertical-align: middle;\n",
       "    }\n",
       "\n",
       "    .dataframe tbody tr th {\n",
       "        vertical-align: top;\n",
       "    }\n",
       "\n",
       "    .dataframe thead th {\n",
       "        text-align: right;\n",
       "    }\n",
       "</style>\n",
       "<table border=\"1\" class=\"dataframe\">\n",
       "  <thead>\n",
       "    <tr style=\"text-align: right;\">\n",
       "      <th></th>\n",
       "      <th>Title</th>\n",
       "      <th>Year</th>\n",
       "      <th>Lead.vocal</th>\n",
       "    </tr>\n",
       "    <tr>\n",
       "      <th>Album.debut</th>\n",
       "      <th></th>\n",
       "      <th></th>\n",
       "      <th></th>\n",
       "    </tr>\n",
       "  </thead>\n",
       "  <tbody>\n",
       "    <tr>\n",
       "      <th>Rubber Soul</th>\n",
       "      <td>The Word</td>\n",
       "      <td>1965</td>\n",
       "      <td>Lennon, McCartney and Harrison</td>\n",
       "    </tr>\n",
       "    <tr>\n",
       "      <th>Rubber Soul</th>\n",
       "      <td>Wait</td>\n",
       "      <td>1965</td>\n",
       "      <td>McCartney, with Lennon</td>\n",
       "    </tr>\n",
       "    <tr>\n",
       "      <th>Rubber Soul</th>\n",
       "      <td>I'm Looking Through You</td>\n",
       "      <td>1965</td>\n",
       "      <td>McCartney, with Lennon</td>\n",
       "    </tr>\n",
       "    <tr>\n",
       "      <th>Rubber Soul</th>\n",
       "      <td>What Goes On</td>\n",
       "      <td>1965</td>\n",
       "      <td>Starkey</td>\n",
       "    </tr>\n",
       "    <tr>\n",
       "      <th>Rubber Soul</th>\n",
       "      <td>You Won't See Me</td>\n",
       "      <td>1965</td>\n",
       "      <td>McCartney</td>\n",
       "    </tr>\n",
       "    <tr>\n",
       "      <th>Rubber Soul</th>\n",
       "      <td>If I Needed Someone</td>\n",
       "      <td>1965</td>\n",
       "      <td>Harrison</td>\n",
       "    </tr>\n",
       "    <tr>\n",
       "      <th>Rubber Soul</th>\n",
       "      <td>Run for Your Life</td>\n",
       "      <td>1965</td>\n",
       "      <td>Lennon</td>\n",
       "    </tr>\n",
       "    <tr>\n",
       "      <th>Rubber Soul</th>\n",
       "      <td>Think for Yourself</td>\n",
       "      <td>1965</td>\n",
       "      <td>Harrison</td>\n",
       "    </tr>\n",
       "    <tr>\n",
       "      <th>Rubber Soul</th>\n",
       "      <td>Drive My Car</td>\n",
       "      <td>1965</td>\n",
       "      <td>McCartney, with Lennon</td>\n",
       "    </tr>\n",
       "    <tr>\n",
       "      <th>Rubber Soul</th>\n",
       "      <td>Michelle</td>\n",
       "      <td>1965</td>\n",
       "      <td>McCartney</td>\n",
       "    </tr>\n",
       "    <tr>\n",
       "      <th>Rubber Soul</th>\n",
       "      <td>Girl</td>\n",
       "      <td>1965</td>\n",
       "      <td>Lennon</td>\n",
       "    </tr>\n",
       "    <tr>\n",
       "      <th>Rubber Soul</th>\n",
       "      <td>In My Life</td>\n",
       "      <td>1965</td>\n",
       "      <td>Lennon</td>\n",
       "    </tr>\n",
       "    <tr>\n",
       "      <th>Rubber Soul</th>\n",
       "      <td>Nowhere Man</td>\n",
       "      <td>1965</td>\n",
       "      <td>Lennon</td>\n",
       "    </tr>\n",
       "    <tr>\n",
       "      <th>Rubber Soul</th>\n",
       "      <td>Norwegian Wood (This Bird Has Flown)</td>\n",
       "      <td>1965</td>\n",
       "      <td>Lennon</td>\n",
       "    </tr>\n",
       "  </tbody>\n",
       "</table>\n",
       "</div>"
      ],
      "text/plain": [
       "                                            Title  Year  \\\n",
       "Album.debut                                               \n",
       "Rubber Soul                              The Word  1965   \n",
       "Rubber Soul                                  Wait  1965   \n",
       "Rubber Soul               I'm Looking Through You  1965   \n",
       "Rubber Soul                          What Goes On  1965   \n",
       "Rubber Soul                      You Won't See Me  1965   \n",
       "Rubber Soul                   If I Needed Someone  1965   \n",
       "Rubber Soul                     Run for Your Life  1965   \n",
       "Rubber Soul                    Think for Yourself  1965   \n",
       "Rubber Soul                          Drive My Car  1965   \n",
       "Rubber Soul                              Michelle  1965   \n",
       "Rubber Soul                                  Girl  1965   \n",
       "Rubber Soul                            In My Life  1965   \n",
       "Rubber Soul                           Nowhere Man  1965   \n",
       "Rubber Soul  Norwegian Wood (This Bird Has Flown)  1965   \n",
       "\n",
       "                                 Lead.vocal  \n",
       "Album.debut                                  \n",
       "Rubber Soul  Lennon, McCartney and Harrison  \n",
       "Rubber Soul          McCartney, with Lennon  \n",
       "Rubber Soul          McCartney, with Lennon  \n",
       "Rubber Soul                         Starkey  \n",
       "Rubber Soul                       McCartney  \n",
       "Rubber Soul                        Harrison  \n",
       "Rubber Soul                          Lennon  \n",
       "Rubber Soul                        Harrison  \n",
       "Rubber Soul          McCartney, with Lennon  \n",
       "Rubber Soul                       McCartney  \n",
       "Rubber Soul                          Lennon  \n",
       "Rubber Soul                          Lennon  \n",
       "Rubber Soul                          Lennon  \n",
       "Rubber Soul                          Lennon  "
      ]
     },
     "metadata": {},
     "output_type": "display_data"
    },
    {
     "data": {
      "text/plain": [
       "\"Sgt. Pepper's Lonely Hearts Club Band\""
      ]
     },
     "metadata": {},
     "output_type": "display_data"
    },
    {
     "data": {
      "text/plain": [
       "Title         When I'm Sixty-Four\n",
       "Year                         1966\n",
       "Lead.vocal              McCartney\n",
       "Name: Sgt. Pepper's Lonely Hearts Club Band, dtype: object"
      ]
     },
     "metadata": {},
     "output_type": "display_data"
    },
    {
     "data": {
      "text/plain": [
       "'The Beatles Bootleg Recordings 1963'"
      ]
     },
     "metadata": {},
     "output_type": "display_data"
    },
    {
     "data": {
      "text/html": [
       "<div>\n",
       "<style scoped>\n",
       "    .dataframe tbody tr th:only-of-type {\n",
       "        vertical-align: middle;\n",
       "    }\n",
       "\n",
       "    .dataframe tbody tr th {\n",
       "        vertical-align: top;\n",
       "    }\n",
       "\n",
       "    .dataframe thead th {\n",
       "        text-align: right;\n",
       "    }\n",
       "</style>\n",
       "<table border=\"1\" class=\"dataframe\">\n",
       "  <thead>\n",
       "    <tr style=\"text-align: right;\">\n",
       "      <th></th>\n",
       "      <th>Title</th>\n",
       "      <th>Year</th>\n",
       "      <th>Lead.vocal</th>\n",
       "    </tr>\n",
       "    <tr>\n",
       "      <th>Album.debut</th>\n",
       "      <th></th>\n",
       "      <th></th>\n",
       "      <th></th>\n",
       "    </tr>\n",
       "  </thead>\n",
       "  <tbody>\n",
       "    <tr>\n",
       "      <th>The Beatles Bootleg Recordings 1963</th>\n",
       "      <td>Bad to Me</td>\n",
       "      <td>1963</td>\n",
       "      <td>Lennon</td>\n",
       "    </tr>\n",
       "    <tr>\n",
       "      <th>The Beatles Bootleg Recordings 1963</th>\n",
       "      <td>I'm In Love</td>\n",
       "      <td>1963</td>\n",
       "      <td>Lennon</td>\n",
       "    </tr>\n",
       "  </tbody>\n",
       "</table>\n",
       "</div>"
      ],
      "text/plain": [
       "                                           Title  Year Lead.vocal\n",
       "Album.debut                                                      \n",
       "The Beatles Bootleg Recordings 1963    Bad to Me  1963     Lennon\n",
       "The Beatles Bootleg Recordings 1963  I'm In Love  1963     Lennon"
      ]
     },
     "metadata": {},
     "output_type": "display_data"
    },
    {
     "data": {
      "text/plain": [
       "'Unknown'"
      ]
     },
     "metadata": {},
     "output_type": "display_data"
    },
    {
     "data": {
      "text/html": [
       "<div>\n",
       "<style scoped>\n",
       "    .dataframe tbody tr th:only-of-type {\n",
       "        vertical-align: middle;\n",
       "    }\n",
       "\n",
       "    .dataframe tbody tr th {\n",
       "        vertical-align: top;\n",
       "    }\n",
       "\n",
       "    .dataframe thead th {\n",
       "        text-align: right;\n",
       "    }\n",
       "</style>\n",
       "<table border=\"1\" class=\"dataframe\">\n",
       "  <thead>\n",
       "    <tr style=\"text-align: right;\">\n",
       "      <th></th>\n",
       "      <th>Title</th>\n",
       "      <th>Year</th>\n",
       "      <th>Lead.vocal</th>\n",
       "    </tr>\n",
       "    <tr>\n",
       "      <th>Album.debut</th>\n",
       "      <th></th>\n",
       "      <th></th>\n",
       "      <th></th>\n",
       "    </tr>\n",
       "  </thead>\n",
       "  <tbody>\n",
       "    <tr>\n",
       "      <th>Unknown</th>\n",
       "      <td>Love of the Loved</td>\n",
       "      <td>1962</td>\n",
       "      <td>McCartney</td>\n",
       "    </tr>\n",
       "    <tr>\n",
       "      <th>Unknown</th>\n",
       "      <td>I'll Keep You Satisfied</td>\n",
       "      <td>1963</td>\n",
       "      <td>Lennon and/or McCartney</td>\n",
       "    </tr>\n",
       "    <tr>\n",
       "      <th>Unknown</th>\n",
       "      <td>Catswalk</td>\n",
       "      <td>1962</td>\n",
       "      <td>Instrumental/Unknown</td>\n",
       "    </tr>\n",
       "    <tr>\n",
       "      <th>Unknown</th>\n",
       "      <td>Looking Glass</td>\n",
       "      <td>1962</td>\n",
       "      <td>McCartney</td>\n",
       "    </tr>\n",
       "    <tr>\n",
       "      <th>Unknown</th>\n",
       "      <td>One and One Is Two</td>\n",
       "      <td>1964</td>\n",
       "      <td>McCartney</td>\n",
       "    </tr>\n",
       "    <tr>\n",
       "      <th>Unknown</th>\n",
       "      <td>Woman</td>\n",
       "      <td>1965</td>\n",
       "      <td>McCartney</td>\n",
       "    </tr>\n",
       "    <tr>\n",
       "      <th>Unknown</th>\n",
       "      <td>The Saints</td>\n",
       "      <td>1962</td>\n",
       "      <td>Sheridan</td>\n",
       "    </tr>\n",
       "    <tr>\n",
       "      <th>Unknown</th>\n",
       "      <td>Take Good Care of My Baby</td>\n",
       "      <td>1962</td>\n",
       "      <td>Harrison</td>\n",
       "    </tr>\n",
       "    <tr>\n",
       "      <th>Unknown</th>\n",
       "      <td>September in the Rain</td>\n",
       "      <td>1962</td>\n",
       "      <td>McCartney</td>\n",
       "    </tr>\n",
       "    <tr>\n",
       "      <th>Unknown</th>\n",
       "      <td>Tip of My Tongue</td>\n",
       "      <td>1962</td>\n",
       "      <td>McCartney/Lennon</td>\n",
       "    </tr>\n",
       "    <tr>\n",
       "      <th>Unknown</th>\n",
       "      <td>I Lost My Little Girl</td>\n",
       "      <td>1962</td>\n",
       "      <td>Lennon</td>\n",
       "    </tr>\n",
       "  </tbody>\n",
       "</table>\n",
       "</div>"
      ],
      "text/plain": [
       "                                 Title  Year               Lead.vocal\n",
       "Album.debut                                                          \n",
       "Unknown              Love of the Loved  1962                McCartney\n",
       "Unknown        I'll Keep You Satisfied  1963  Lennon and/or McCartney\n",
       "Unknown                       Catswalk  1962     Instrumental/Unknown\n",
       "Unknown                  Looking Glass  1962                McCartney\n",
       "Unknown             One and One Is Two  1964                McCartney\n",
       "Unknown                          Woman  1965                McCartney\n",
       "Unknown                     The Saints  1962                 Sheridan\n",
       "Unknown      Take Good Care of My Baby  1962                 Harrison\n",
       "Unknown          September in the Rain  1962                McCartney\n",
       "Unknown               Tip of My Tongue  1962         McCartney/Lennon\n",
       "Unknown          I Lost My Little Girl  1962                   Lennon"
      ]
     },
     "metadata": {},
     "output_type": "display_data"
    },
    {
     "data": {
      "text/plain": [
       "'With the Beatles'"
      ]
     },
     "metadata": {},
     "output_type": "display_data"
    },
    {
     "data": {
      "text/html": [
       "<div>\n",
       "<style scoped>\n",
       "    .dataframe tbody tr th:only-of-type {\n",
       "        vertical-align: middle;\n",
       "    }\n",
       "\n",
       "    .dataframe tbody tr th {\n",
       "        vertical-align: top;\n",
       "    }\n",
       "\n",
       "    .dataframe thead th {\n",
       "        text-align: right;\n",
       "    }\n",
       "</style>\n",
       "<table border=\"1\" class=\"dataframe\">\n",
       "  <thead>\n",
       "    <tr style=\"text-align: right;\">\n",
       "      <th></th>\n",
       "      <th>Title</th>\n",
       "      <th>Year</th>\n",
       "      <th>Lead.vocal</th>\n",
       "    </tr>\n",
       "    <tr>\n",
       "      <th>Album.debut</th>\n",
       "      <th></th>\n",
       "      <th></th>\n",
       "      <th></th>\n",
       "    </tr>\n",
       "  </thead>\n",
       "  <tbody>\n",
       "    <tr>\n",
       "      <th>With the Beatles</th>\n",
       "      <td>All My Loving</td>\n",
       "      <td>1963</td>\n",
       "      <td>McCartney</td>\n",
       "    </tr>\n",
       "    <tr>\n",
       "      <th>With the Beatles</th>\n",
       "      <td>All I've Got to Do</td>\n",
       "      <td>1963</td>\n",
       "      <td>Lennon</td>\n",
       "    </tr>\n",
       "    <tr>\n",
       "      <th>With the Beatles</th>\n",
       "      <td>I Wanna Be Your Man</td>\n",
       "      <td>1963</td>\n",
       "      <td>Starkey</td>\n",
       "    </tr>\n",
       "    <tr>\n",
       "      <th>With the Beatles</th>\n",
       "      <td>It Won't Be Long</td>\n",
       "      <td>1963</td>\n",
       "      <td>Lennon</td>\n",
       "    </tr>\n",
       "    <tr>\n",
       "      <th>With the Beatles</th>\n",
       "      <td>You've Really Got a Hold on Me</td>\n",
       "      <td>1963</td>\n",
       "      <td>Lennon and Harrison</td>\n",
       "    </tr>\n",
       "    <tr>\n",
       "      <th>With the Beatles</th>\n",
       "      <td>Not a Second Time</td>\n",
       "      <td>1963</td>\n",
       "      <td>Lennon</td>\n",
       "    </tr>\n",
       "    <tr>\n",
       "      <th>With the Beatles</th>\n",
       "      <td>Till There Was You</td>\n",
       "      <td>1963</td>\n",
       "      <td>McCartney</td>\n",
       "    </tr>\n",
       "    <tr>\n",
       "      <th>With the Beatles</th>\n",
       "      <td>Hold Me Tight</td>\n",
       "      <td>1963</td>\n",
       "      <td>McCartney</td>\n",
       "    </tr>\n",
       "    <tr>\n",
       "      <th>With the Beatles</th>\n",
       "      <td>Please Mr. Postman</td>\n",
       "      <td>1963</td>\n",
       "      <td>Lennon</td>\n",
       "    </tr>\n",
       "    <tr>\n",
       "      <th>With the Beatles</th>\n",
       "      <td>Devil in Her Heart</td>\n",
       "      <td>1963</td>\n",
       "      <td>Harrison</td>\n",
       "    </tr>\n",
       "    <tr>\n",
       "      <th>With the Beatles</th>\n",
       "      <td>Roll Over Beethoven</td>\n",
       "      <td>1963</td>\n",
       "      <td>Harrison</td>\n",
       "    </tr>\n",
       "    <tr>\n",
       "      <th>With the Beatles</th>\n",
       "      <td>Don't Bother Me</td>\n",
       "      <td>1963</td>\n",
       "      <td>Harrison</td>\n",
       "    </tr>\n",
       "    <tr>\n",
       "      <th>With the Beatles</th>\n",
       "      <td>Money (That's What I Want)</td>\n",
       "      <td>1963</td>\n",
       "      <td>Lennon</td>\n",
       "    </tr>\n",
       "    <tr>\n",
       "      <th>With the Beatles</th>\n",
       "      <td>Little Child</td>\n",
       "      <td>1963</td>\n",
       "      <td>Lennon and McCartney</td>\n",
       "    </tr>\n",
       "  </tbody>\n",
       "</table>\n",
       "</div>"
      ],
      "text/plain": [
       "                                           Title  Year            Lead.vocal\n",
       "Album.debut                                                                 \n",
       "With the Beatles                   All My Loving  1963             McCartney\n",
       "With the Beatles              All I've Got to Do  1963                Lennon\n",
       "With the Beatles             I Wanna Be Your Man  1963               Starkey\n",
       "With the Beatles                It Won't Be Long  1963                Lennon\n",
       "With the Beatles  You've Really Got a Hold on Me  1963   Lennon and Harrison\n",
       "With the Beatles               Not a Second Time  1963                Lennon\n",
       "With the Beatles              Till There Was You  1963             McCartney\n",
       "With the Beatles                   Hold Me Tight  1963             McCartney\n",
       "With the Beatles              Please Mr. Postman  1963                Lennon\n",
       "With the Beatles              Devil in Her Heart  1963              Harrison\n",
       "With the Beatles             Roll Over Beethoven  1963              Harrison\n",
       "With the Beatles                 Don't Bother Me  1963              Harrison\n",
       "With the Beatles      Money (That's What I Want)  1963                Lennon\n",
       "With the Beatles                    Little Child  1963  Lennon and McCartney"
      ]
     },
     "metadata": {},
     "output_type": "display_data"
    }
   ],
   "source": [
    "# Different ways\n",
    "display(len(songs))                                                    # 185\n",
    "display(len(songs.index))                                              # 185\n",
    "display(songs.shape[0])                                                # 185\n",
    "print()\n",
    "\n",
    "display(len(songs.loc['A Collection of Beatles Oldies']))              # 8\n",
    "display(songs.loc['A Collection of Beatles Oldies'])\n",
    "display(type(songs.loc['A Collection of Beatles Oldies']))             # pandas.core.frame.DataFrame\n",
    "print()\n",
    "\n",
    "display(len(songs.loc['Sgt. Pepper\\'s Lonely Hearts Club Band']))      # 3, although there is only one song there; in this case,\n",
    "display(songs.loc['Sgt. Pepper\\'s Lonely Hearts Club Band'])           # it is the length of the resulting Series object (row)\n",
    "display(type(songs.loc['Sgt. Pepper\\'s Lonely Hearts Club Band']))     # pandas.core.series.Series\n",
    "print()\n",
    "\n",
    "display(songs.loc['Sgt. Pepper\\'s Lonely Hearts Club Band'].shape)     # shape, instead of len(); it clearly shows that \n",
    "display(songs.loc['Sgt. Pepper\\'s Lonely Hearts Club Band'])           # the type of the resulting Series object (row) is not \n",
    "display(type(songs.loc['Sgt. Pepper\\'s Lonely Hearts Club Band']))     # pandas.core.series.DataFrame\n",
    "print()\n",
    "\n",
    "display(songs.index)                                                   # shows all indices, even though many of them repeat\n",
    "display(songs.index.unique())                                          # shows only unique indices\n",
    "print()\n",
    "\n",
    "for i in songs.index.unique():                                         # see what are the real albums there; if songs.loc[i]\n",
    "    display(i, songs.loc[i])                                           # doesn't show at least 2 songs, it's not an album"
   ]
  },
  {
   "cell_type": "markdown",
   "metadata": {
    "pycharm": {
     "name": "#%% md\n"
    }
   },
   "source": [
    "Only the `Sgt. Pepper's Lonely Hearts Club Band` index has only one corresponding row, and it will require special attention. "
   ]
  },
  {
   "cell_type": "markdown",
   "metadata": {
    "pycharm": {
     "name": "#%% md\n"
    }
   },
   "source": [
    "Compute the number of songs per album:"
   ]
  },
  {
   "cell_type": "code",
   "execution_count": 297,
   "metadata": {
    "pycharm": {
     "name": "#%%\n"
    }
   },
   "outputs": [
    {
     "data": {
      "text/html": [
       "<div>\n",
       "<style scoped>\n",
       "    .dataframe tbody tr th:only-of-type {\n",
       "        vertical-align: middle;\n",
       "    }\n",
       "\n",
       "    .dataframe tbody tr th {\n",
       "        vertical-align: top;\n",
       "    }\n",
       "\n",
       "    .dataframe thead th {\n",
       "        text-align: right;\n",
       "    }\n",
       "</style>\n",
       "<table border=\"1\" class=\"dataframe\">\n",
       "  <thead>\n",
       "    <tr style=\"text-align: right;\">\n",
       "      <th></th>\n",
       "      <th>No. of songs</th>\n",
       "    </tr>\n",
       "    <tr>\n",
       "      <th>Album.debut</th>\n",
       "      <th></th>\n",
       "    </tr>\n",
       "  </thead>\n",
       "  <tbody>\n",
       "    <tr>\n",
       "      <th>A Collection of Beatles Oldies</th>\n",
       "      <td>8</td>\n",
       "    </tr>\n",
       "    <tr>\n",
       "      <th>A Hard Day's Night</th>\n",
       "      <td>13</td>\n",
       "    </tr>\n",
       "    <tr>\n",
       "      <th>Anthology 1</th>\n",
       "      <td>12</td>\n",
       "    </tr>\n",
       "    <tr>\n",
       "      <th>Anthology 2</th>\n",
       "      <td>3</td>\n",
       "    </tr>\n",
       "    <tr>\n",
       "      <th>Beatles for Sale</th>\n",
       "      <td>14</td>\n",
       "    </tr>\n",
       "    <tr>\n",
       "      <th>Help!</th>\n",
       "      <td>14</td>\n",
       "    </tr>\n",
       "    <tr>\n",
       "      <th>Live at the BBC</th>\n",
       "      <td>31</td>\n",
       "    </tr>\n",
       "    <tr>\n",
       "      <th>Live! at the Star-Club in Hamburg, Germany; 1962</th>\n",
       "      <td>2</td>\n",
       "    </tr>\n",
       "    <tr>\n",
       "      <th>Magical Mystery Tour</th>\n",
       "      <td>2</td>\n",
       "    </tr>\n",
       "    <tr>\n",
       "      <th>On Air - Live at the BBC Volume 2</th>\n",
       "      <td>3</td>\n",
       "    </tr>\n",
       "    <tr>\n",
       "      <th>Past Masters Volume 1</th>\n",
       "      <td>2</td>\n",
       "    </tr>\n",
       "    <tr>\n",
       "      <th>Please Please Me</th>\n",
       "      <td>14</td>\n",
       "    </tr>\n",
       "    <tr>\n",
       "      <th>Rarities</th>\n",
       "      <td>7</td>\n",
       "    </tr>\n",
       "    <tr>\n",
       "      <th>Revolver</th>\n",
       "      <td>14</td>\n",
       "    </tr>\n",
       "    <tr>\n",
       "      <th>Rock 'n' Roll Music</th>\n",
       "      <td>4</td>\n",
       "    </tr>\n",
       "    <tr>\n",
       "      <th>Rubber Soul</th>\n",
       "      <td>14</td>\n",
       "    </tr>\n",
       "    <tr>\n",
       "      <th>Sgt. Pepper's Lonely Hearts Club Band</th>\n",
       "      <td>1</td>\n",
       "    </tr>\n",
       "    <tr>\n",
       "      <th>The Beatles Bootleg Recordings 1963</th>\n",
       "      <td>2</td>\n",
       "    </tr>\n",
       "    <tr>\n",
       "      <th>Unknown</th>\n",
       "      <td>11</td>\n",
       "    </tr>\n",
       "    <tr>\n",
       "      <th>With the Beatles</th>\n",
       "      <td>14</td>\n",
       "    </tr>\n",
       "  </tbody>\n",
       "</table>\n",
       "</div>"
      ],
      "text/plain": [
       "                                                 No. of songs\n",
       "Album.debut                                                  \n",
       "A Collection of Beatles Oldies                              8\n",
       "A Hard Day's Night                                         13\n",
       "Anthology 1                                                12\n",
       "Anthology 2                                                 3\n",
       "Beatles for Sale                                           14\n",
       "Help!                                                      14\n",
       "Live at the BBC                                            31\n",
       "Live! at the Star-Club in Hamburg, Germany; 1962            2\n",
       "Magical Mystery Tour                                        2\n",
       "On Air - Live at the BBC Volume 2                           3\n",
       "Past Masters Volume 1                                       2\n",
       "Please Please Me                                           14\n",
       "Rarities                                                    7\n",
       "Revolver                                                   14\n",
       "Rock 'n' Roll Music                                         4\n",
       "Rubber Soul                                                14\n",
       "Sgt. Pepper's Lonely Hearts Club Band                       1\n",
       "The Beatles Bootleg Recordings 1963                         2\n",
       "Unknown                                                    11\n",
       "With the Beatles                                           14"
      ]
     },
     "metadata": {},
     "output_type": "display_data"
    }
   ],
   "source": [
    "result = pd.DataFrame(index=songs.index.unique(), columns=['No. of songs'])   # create an 'empty' df (i.e., with all NaN values)\n",
    "# display(result)\n",
    "# display(result.columns)\n",
    "# display(result.index)\n",
    "\n",
    "for i in result.index.unique():                                               # replace NaN values with the numbers of songs\n",
    "    result.loc[i, 'No. of songs'] = \\\n",
    "        len(songs.loc[i]) if len(songs.loc[i].shape) != 1 else 1\n",
    "\n",
    "# # Alternative for the above lines, plus the explanation\n",
    "# for i in result.index.unique():                                             # replace NaN values with the numbers of songs\n",
    "#     if len(songs.loc[i].shape) != 1:                                        # shape (m, n): more than 1 row is indexed by i\n",
    "#         result.loc[i, 'No. of songs'] = len(songs.loc[i])\n",
    "#     else:                                                                   # shape (m, ): only one row is indexed by i\n",
    "#         result.loc[i, 'No. of songs'] = 1\n",
    "\n",
    "# # Yet another alternative for the above lines, plus the explanation\n",
    "# # result.loc['Help!', 'No. of songs']\n",
    "# for i in result.index.unique():                                             # replace NaN values with the numbers of songs\n",
    "#     result.loc[i, 'No. of songs'] = len(songs.loc[i])\n",
    "# #     display(i, result.loc[i, 'No. of songs'])\n",
    "\n",
    "# # display(result.index[result['No. of songs'] == 3])                        # double-check those where 'No. of songs' is 3\n",
    "# for i in result.index[result['No. of songs'] == 3]:\n",
    "#     display(songs.loc[i])\n",
    "\n",
    "# result.loc['Sgt. Pepper\\'s Lonely Hearts Club Band', 'No. of songs'] = 1    # only 'Sgt. Pepper' should be set to 1\n",
    "\n",
    "display(result)"
   ]
  },
  {
   "cell_type": "markdown",
   "metadata": {
    "pycharm": {
     "name": "#%% md\n"
    }
   },
   "source": [
    "For each album, compute the number of songs where John Lennon sings the lead vocal (**<u>note the use of</u> `pd.DataFrame.str.startswith()`**, similar to using `pd.DataFrame.str.rpartition()`, `pd.DataFrame.str.rstrip()` and `pd.DataFrame.str.lstrip()` above; based on [this](https://stackoverflow.com/a/17958424))."
   ]
  },
  {
   "cell_type": "markdown",
   "metadata": {
    "pycharm": {
     "name": "#%% md\n"
    }
   },
   "source": [
    "In `songs`, select and keep only the rows where John Lennon is the lead vocalist:"
   ]
  },
  {
   "cell_type": "code",
   "execution_count": 298,
   "metadata": {
    "scrolled": true,
    "pycharm": {
     "name": "#%%\n"
    }
   },
   "outputs": [
    {
     "data": {
      "text/html": [
       "<div>\n",
       "<style scoped>\n",
       "    .dataframe tbody tr th:only-of-type {\n",
       "        vertical-align: middle;\n",
       "    }\n",
       "\n",
       "    .dataframe tbody tr th {\n",
       "        vertical-align: top;\n",
       "    }\n",
       "\n",
       "    .dataframe thead th {\n",
       "        text-align: right;\n",
       "    }\n",
       "</style>\n",
       "<table border=\"1\" class=\"dataframe\">\n",
       "  <thead>\n",
       "    <tr style=\"text-align: right;\">\n",
       "      <th></th>\n",
       "      <th>Title</th>\n",
       "      <th>Year</th>\n",
       "      <th>Lead.vocal</th>\n",
       "    </tr>\n",
       "    <tr>\n",
       "      <th>Album.debut</th>\n",
       "      <th></th>\n",
       "      <th></th>\n",
       "      <th></th>\n",
       "    </tr>\n",
       "  </thead>\n",
       "  <tbody>\n",
       "    <tr>\n",
       "      <th>A Collection of Beatles Oldies</th>\n",
       "      <td>From Me to You</td>\n",
       "      <td>1963</td>\n",
       "      <td>Lennon and McCartney</td>\n",
       "    </tr>\n",
       "    <tr>\n",
       "      <th>A Collection of Beatles Oldies</th>\n",
       "      <td>She Loves You</td>\n",
       "      <td>1963</td>\n",
       "      <td>Lennon and McCartney</td>\n",
       "    </tr>\n",
       "    <tr>\n",
       "      <th>A Collection of Beatles Oldies</th>\n",
       "      <td>Day Tripper</td>\n",
       "      <td>1965</td>\n",
       "      <td>Lennon and McCartney</td>\n",
       "    </tr>\n",
       "    <tr>\n",
       "      <th>A Collection of Beatles Oldies</th>\n",
       "      <td>I Feel Fine</td>\n",
       "      <td>1964</td>\n",
       "      <td>Lennon</td>\n",
       "    </tr>\n",
       "    <tr>\n",
       "      <th>A Collection of Beatles Oldies</th>\n",
       "      <td>Bad Boy</td>\n",
       "      <td>1965</td>\n",
       "      <td>Lennon</td>\n",
       "    </tr>\n",
       "    <tr>\n",
       "      <th>...</th>\n",
       "      <td>...</td>\n",
       "      <td>...</td>\n",
       "      <td>...</td>\n",
       "    </tr>\n",
       "    <tr>\n",
       "      <th>With the Beatles</th>\n",
       "      <td>You've Really Got a Hold on Me</td>\n",
       "      <td>1963</td>\n",
       "      <td>Lennon and Harrison</td>\n",
       "    </tr>\n",
       "    <tr>\n",
       "      <th>With the Beatles</th>\n",
       "      <td>Not a Second Time</td>\n",
       "      <td>1963</td>\n",
       "      <td>Lennon</td>\n",
       "    </tr>\n",
       "    <tr>\n",
       "      <th>With the Beatles</th>\n",
       "      <td>Please Mr. Postman</td>\n",
       "      <td>1963</td>\n",
       "      <td>Lennon</td>\n",
       "    </tr>\n",
       "    <tr>\n",
       "      <th>With the Beatles</th>\n",
       "      <td>Money (That's What I Want)</td>\n",
       "      <td>1963</td>\n",
       "      <td>Lennon</td>\n",
       "    </tr>\n",
       "    <tr>\n",
       "      <th>With the Beatles</th>\n",
       "      <td>Little Child</td>\n",
       "      <td>1963</td>\n",
       "      <td>Lennon and McCartney</td>\n",
       "    </tr>\n",
       "  </tbody>\n",
       "</table>\n",
       "<p>96 rows × 3 columns</p>\n",
       "</div>"
      ],
      "text/plain": [
       "                                                         Title  Year  \\\n",
       "Album.debut                                                            \n",
       "A Collection of Beatles Oldies                  From Me to You  1963   \n",
       "A Collection of Beatles Oldies                   She Loves You  1963   \n",
       "A Collection of Beatles Oldies                     Day Tripper  1965   \n",
       "A Collection of Beatles Oldies                     I Feel Fine  1964   \n",
       "A Collection of Beatles Oldies                         Bad Boy  1965   \n",
       "...                                                        ...   ...   \n",
       "With the Beatles                You've Really Got a Hold on Me  1963   \n",
       "With the Beatles                             Not a Second Time  1963   \n",
       "With the Beatles                            Please Mr. Postman  1963   \n",
       "With the Beatles                    Money (That's What I Want)  1963   \n",
       "With the Beatles                                  Little Child  1963   \n",
       "\n",
       "                                          Lead.vocal  \n",
       "Album.debut                                           \n",
       "A Collection of Beatles Oldies  Lennon and McCartney  \n",
       "A Collection of Beatles Oldies  Lennon and McCartney  \n",
       "A Collection of Beatles Oldies  Lennon and McCartney  \n",
       "A Collection of Beatles Oldies                Lennon  \n",
       "A Collection of Beatles Oldies                Lennon  \n",
       "...                                              ...  \n",
       "With the Beatles                 Lennon and Harrison  \n",
       "With the Beatles                              Lennon  \n",
       "With the Beatles                              Lennon  \n",
       "With the Beatles                              Lennon  \n",
       "With the Beatles                Lennon and McCartney  \n",
       "\n",
       "[96 rows x 3 columns]"
      ]
     },
     "execution_count": 298,
     "metadata": {},
     "output_type": "execute_result"
    }
   ],
   "source": [
    "# display(songs['Lead.vocal'].str.startswith('Lennon'))\n",
    "songs = songs[songs['Lead.vocal'].str.startswith('Lennon')]\n",
    "songs\n",
    "\n",
    "# # display(songs.head)                                                               # not a pretty display\n",
    "# display(songs.head())                                                               # pretty display\n",
    "# np.sum(songs['Lennon as the lead vocal'])"
   ]
  },
  {
   "cell_type": "markdown",
   "metadata": {
    "pycharm": {
     "name": "#%% md\n"
    }
   },
   "source": [
    "Update the `result` dataframe. **Note the use of `np.round()` (based on [this](https://numpy.org/doc/stable/reference/generated/numpy.round_.html)) and `pd.to_numeric()` (based on [this](https://pandas.pydata.org/pandas-docs/stable/reference/api/pandas.to_numeric.html))** - `np.round()` works with arrays, not with `pd.Series` objects, that's why `pd.to_numeric()` is necessary:"
   ]
  },
  {
   "cell_type": "code",
   "execution_count": 299,
   "metadata": {
    "pycharm": {
     "name": "#%%\n"
    }
   },
   "outputs": [
    {
     "data": {
      "text/html": [
       "<div>\n",
       "<style scoped>\n",
       "    .dataframe tbody tr th:only-of-type {\n",
       "        vertical-align: middle;\n",
       "    }\n",
       "\n",
       "    .dataframe tbody tr th {\n",
       "        vertical-align: top;\n",
       "    }\n",
       "\n",
       "    .dataframe thead th {\n",
       "        text-align: right;\n",
       "    }\n",
       "</style>\n",
       "<table border=\"1\" class=\"dataframe\">\n",
       "  <thead>\n",
       "    <tr style=\"text-align: right;\">\n",
       "      <th></th>\n",
       "      <th>No. of songs</th>\n",
       "      <th>Lennon as the lead vocal</th>\n",
       "      <th>Proportion</th>\n",
       "    </tr>\n",
       "    <tr>\n",
       "      <th>Album.debut</th>\n",
       "      <th></th>\n",
       "      <th></th>\n",
       "      <th></th>\n",
       "    </tr>\n",
       "  </thead>\n",
       "  <tbody>\n",
       "    <tr>\n",
       "      <th>A Collection of Beatles Oldies</th>\n",
       "      <td>8</td>\n",
       "      <td>0</td>\n",
       "      <td>0</td>\n",
       "    </tr>\n",
       "    <tr>\n",
       "      <th>A Hard Day's Night</th>\n",
       "      <td>13</td>\n",
       "      <td>0</td>\n",
       "      <td>0</td>\n",
       "    </tr>\n",
       "    <tr>\n",
       "      <th>Anthology 1</th>\n",
       "      <td>12</td>\n",
       "      <td>0</td>\n",
       "      <td>0</td>\n",
       "    </tr>\n",
       "    <tr>\n",
       "      <th>Anthology 2</th>\n",
       "      <td>3</td>\n",
       "      <td>0</td>\n",
       "      <td>0</td>\n",
       "    </tr>\n",
       "    <tr>\n",
       "      <th>Beatles for Sale</th>\n",
       "      <td>14</td>\n",
       "      <td>0</td>\n",
       "      <td>0</td>\n",
       "    </tr>\n",
       "    <tr>\n",
       "      <th>Help!</th>\n",
       "      <td>14</td>\n",
       "      <td>0</td>\n",
       "      <td>0</td>\n",
       "    </tr>\n",
       "    <tr>\n",
       "      <th>Live at the BBC</th>\n",
       "      <td>31</td>\n",
       "      <td>0</td>\n",
       "      <td>0</td>\n",
       "    </tr>\n",
       "    <tr>\n",
       "      <th>Live! at the Star-Club in Hamburg, Germany; 1962</th>\n",
       "      <td>2</td>\n",
       "      <td>0</td>\n",
       "      <td>0</td>\n",
       "    </tr>\n",
       "    <tr>\n",
       "      <th>Magical Mystery Tour</th>\n",
       "      <td>2</td>\n",
       "      <td>0</td>\n",
       "      <td>0</td>\n",
       "    </tr>\n",
       "    <tr>\n",
       "      <th>On Air - Live at the BBC Volume 2</th>\n",
       "      <td>3</td>\n",
       "      <td>0</td>\n",
       "      <td>0</td>\n",
       "    </tr>\n",
       "    <tr>\n",
       "      <th>Past Masters Volume 1</th>\n",
       "      <td>2</td>\n",
       "      <td>0</td>\n",
       "      <td>0</td>\n",
       "    </tr>\n",
       "    <tr>\n",
       "      <th>Please Please Me</th>\n",
       "      <td>14</td>\n",
       "      <td>0</td>\n",
       "      <td>0</td>\n",
       "    </tr>\n",
       "    <tr>\n",
       "      <th>Rarities</th>\n",
       "      <td>7</td>\n",
       "      <td>0</td>\n",
       "      <td>0</td>\n",
       "    </tr>\n",
       "    <tr>\n",
       "      <th>Revolver</th>\n",
       "      <td>14</td>\n",
       "      <td>0</td>\n",
       "      <td>0</td>\n",
       "    </tr>\n",
       "    <tr>\n",
       "      <th>Rock 'n' Roll Music</th>\n",
       "      <td>4</td>\n",
       "      <td>0</td>\n",
       "      <td>0</td>\n",
       "    </tr>\n",
       "    <tr>\n",
       "      <th>Rubber Soul</th>\n",
       "      <td>14</td>\n",
       "      <td>0</td>\n",
       "      <td>0</td>\n",
       "    </tr>\n",
       "    <tr>\n",
       "      <th>Sgt. Pepper's Lonely Hearts Club Band</th>\n",
       "      <td>1</td>\n",
       "      <td>0</td>\n",
       "      <td>0</td>\n",
       "    </tr>\n",
       "    <tr>\n",
       "      <th>The Beatles Bootleg Recordings 1963</th>\n",
       "      <td>2</td>\n",
       "      <td>0</td>\n",
       "      <td>0</td>\n",
       "    </tr>\n",
       "    <tr>\n",
       "      <th>Unknown</th>\n",
       "      <td>11</td>\n",
       "      <td>0</td>\n",
       "      <td>0</td>\n",
       "    </tr>\n",
       "    <tr>\n",
       "      <th>With the Beatles</th>\n",
       "      <td>14</td>\n",
       "      <td>0</td>\n",
       "      <td>0</td>\n",
       "    </tr>\n",
       "  </tbody>\n",
       "</table>\n",
       "</div>"
      ],
      "text/plain": [
       "                                                 No. of songs  \\\n",
       "Album.debut                                                     \n",
       "A Collection of Beatles Oldies                              8   \n",
       "A Hard Day's Night                                         13   \n",
       "Anthology 1                                                12   \n",
       "Anthology 2                                                 3   \n",
       "Beatles for Sale                                           14   \n",
       "Help!                                                      14   \n",
       "Live at the BBC                                            31   \n",
       "Live! at the Star-Club in Hamburg, Germany; 1962            2   \n",
       "Magical Mystery Tour                                        2   \n",
       "On Air - Live at the BBC Volume 2                           3   \n",
       "Past Masters Volume 1                                       2   \n",
       "Please Please Me                                           14   \n",
       "Rarities                                                    7   \n",
       "Revolver                                                   14   \n",
       "Rock 'n' Roll Music                                         4   \n",
       "Rubber Soul                                                14   \n",
       "Sgt. Pepper's Lonely Hearts Club Band                       1   \n",
       "The Beatles Bootleg Recordings 1963                         2   \n",
       "Unknown                                                    11   \n",
       "With the Beatles                                           14   \n",
       "\n",
       "                                                  Lennon as the lead vocal  \\\n",
       "Album.debut                                                                  \n",
       "A Collection of Beatles Oldies                                           0   \n",
       "A Hard Day's Night                                                       0   \n",
       "Anthology 1                                                              0   \n",
       "Anthology 2                                                              0   \n",
       "Beatles for Sale                                                         0   \n",
       "Help!                                                                    0   \n",
       "Live at the BBC                                                          0   \n",
       "Live! at the Star-Club in Hamburg, Germany; 1962                         0   \n",
       "Magical Mystery Tour                                                     0   \n",
       "On Air - Live at the BBC Volume 2                                        0   \n",
       "Past Masters Volume 1                                                    0   \n",
       "Please Please Me                                                         0   \n",
       "Rarities                                                                 0   \n",
       "Revolver                                                                 0   \n",
       "Rock 'n' Roll Music                                                      0   \n",
       "Rubber Soul                                                              0   \n",
       "Sgt. Pepper's Lonely Hearts Club Band                                    0   \n",
       "The Beatles Bootleg Recordings 1963                                      0   \n",
       "Unknown                                                                  0   \n",
       "With the Beatles                                                         0   \n",
       "\n",
       "                                                  Proportion  \n",
       "Album.debut                                                   \n",
       "A Collection of Beatles Oldies                             0  \n",
       "A Hard Day's Night                                         0  \n",
       "Anthology 1                                                0  \n",
       "Anthology 2                                                0  \n",
       "Beatles for Sale                                           0  \n",
       "Help!                                                      0  \n",
       "Live at the BBC                                            0  \n",
       "Live! at the Star-Club in Hamburg, Germany; 1962           0  \n",
       "Magical Mystery Tour                                       0  \n",
       "On Air - Live at the BBC Volume 2                          0  \n",
       "Past Masters Volume 1                                      0  \n",
       "Please Please Me                                           0  \n",
       "Rarities                                                   0  \n",
       "Revolver                                                   0  \n",
       "Rock 'n' Roll Music                                        0  \n",
       "Rubber Soul                                                0  \n",
       "Sgt. Pepper's Lonely Hearts Club Band                      0  \n",
       "The Beatles Bootleg Recordings 1963                        0  \n",
       "Unknown                                                    0  \n",
       "With the Beatles                                           0  "
      ]
     },
     "metadata": {},
     "output_type": "display_data"
    },
    {
     "data": {
      "text/html": [
       "<div>\n",
       "<style scoped>\n",
       "    .dataframe tbody tr th:only-of-type {\n",
       "        vertical-align: middle;\n",
       "    }\n",
       "\n",
       "    .dataframe tbody tr th {\n",
       "        vertical-align: top;\n",
       "    }\n",
       "\n",
       "    .dataframe thead th {\n",
       "        text-align: right;\n",
       "    }\n",
       "</style>\n",
       "<table border=\"1\" class=\"dataframe\">\n",
       "  <thead>\n",
       "    <tr style=\"text-align: right;\">\n",
       "      <th></th>\n",
       "      <th>No. of songs</th>\n",
       "      <th>Lennon as the lead vocal</th>\n",
       "      <th>Proportion</th>\n",
       "    </tr>\n",
       "    <tr>\n",
       "      <th>Album.debut</th>\n",
       "      <th></th>\n",
       "      <th></th>\n",
       "      <th></th>\n",
       "    </tr>\n",
       "  </thead>\n",
       "  <tbody>\n",
       "    <tr>\n",
       "      <th>A Collection of Beatles Oldies</th>\n",
       "      <td>8</td>\n",
       "      <td>6</td>\n",
       "      <td>0.75</td>\n",
       "    </tr>\n",
       "    <tr>\n",
       "      <th>A Hard Day's Night</th>\n",
       "      <td>13</td>\n",
       "      <td>9</td>\n",
       "      <td>0.69</td>\n",
       "    </tr>\n",
       "    <tr>\n",
       "      <th>Anthology 1</th>\n",
       "      <td>12</td>\n",
       "      <td>6</td>\n",
       "      <td>0.50</td>\n",
       "    </tr>\n",
       "    <tr>\n",
       "      <th>Anthology 2</th>\n",
       "      <td>3</td>\n",
       "      <td>0</td>\n",
       "      <td>0.00</td>\n",
       "    </tr>\n",
       "    <tr>\n",
       "      <th>Beatles for Sale</th>\n",
       "      <td>14</td>\n",
       "      <td>9</td>\n",
       "      <td>0.64</td>\n",
       "    </tr>\n",
       "    <tr>\n",
       "      <th>Help!</th>\n",
       "      <td>14</td>\n",
       "      <td>6</td>\n",
       "      <td>0.43</td>\n",
       "    </tr>\n",
       "    <tr>\n",
       "      <th>Live at the BBC</th>\n",
       "      <td>31</td>\n",
       "      <td>17</td>\n",
       "      <td>0.55</td>\n",
       "    </tr>\n",
       "    <tr>\n",
       "      <th>Live! at the Star-Club in Hamburg, Germany; 1962</th>\n",
       "      <td>2</td>\n",
       "      <td>2</td>\n",
       "      <td>1.00</td>\n",
       "    </tr>\n",
       "    <tr>\n",
       "      <th>Magical Mystery Tour</th>\n",
       "      <td>2</td>\n",
       "      <td>1</td>\n",
       "      <td>0.50</td>\n",
       "    </tr>\n",
       "    <tr>\n",
       "      <th>On Air - Live at the BBC Volume 2</th>\n",
       "      <td>3</td>\n",
       "      <td>2</td>\n",
       "      <td>0.67</td>\n",
       "    </tr>\n",
       "    <tr>\n",
       "      <th>Past Masters Volume 1</th>\n",
       "      <td>2</td>\n",
       "      <td>2</td>\n",
       "      <td>1.00</td>\n",
       "    </tr>\n",
       "    <tr>\n",
       "      <th>Please Please Me</th>\n",
       "      <td>14</td>\n",
       "      <td>7</td>\n",
       "      <td>0.50</td>\n",
       "    </tr>\n",
       "    <tr>\n",
       "      <th>Rarities</th>\n",
       "      <td>7</td>\n",
       "      <td>6</td>\n",
       "      <td>0.86</td>\n",
       "    </tr>\n",
       "    <tr>\n",
       "      <th>Revolver</th>\n",
       "      <td>14</td>\n",
       "      <td>5</td>\n",
       "      <td>0.36</td>\n",
       "    </tr>\n",
       "    <tr>\n",
       "      <th>Rock 'n' Roll Music</th>\n",
       "      <td>4</td>\n",
       "      <td>1</td>\n",
       "      <td>0.25</td>\n",
       "    </tr>\n",
       "    <tr>\n",
       "      <th>Rubber Soul</th>\n",
       "      <td>14</td>\n",
       "      <td>6</td>\n",
       "      <td>0.43</td>\n",
       "    </tr>\n",
       "    <tr>\n",
       "      <th>Sgt. Pepper's Lonely Hearts Club Band</th>\n",
       "      <td>1</td>\n",
       "      <td>0</td>\n",
       "      <td>0.00</td>\n",
       "    </tr>\n",
       "    <tr>\n",
       "      <th>The Beatles Bootleg Recordings 1963</th>\n",
       "      <td>2</td>\n",
       "      <td>2</td>\n",
       "      <td>1.00</td>\n",
       "    </tr>\n",
       "    <tr>\n",
       "      <th>Unknown</th>\n",
       "      <td>11</td>\n",
       "      <td>2</td>\n",
       "      <td>0.18</td>\n",
       "    </tr>\n",
       "    <tr>\n",
       "      <th>With the Beatles</th>\n",
       "      <td>14</td>\n",
       "      <td>7</td>\n",
       "      <td>0.50</td>\n",
       "    </tr>\n",
       "  </tbody>\n",
       "</table>\n",
       "</div>"
      ],
      "text/plain": [
       "                                                 No. of songs  \\\n",
       "Album.debut                                                     \n",
       "A Collection of Beatles Oldies                              8   \n",
       "A Hard Day's Night                                         13   \n",
       "Anthology 1                                                12   \n",
       "Anthology 2                                                 3   \n",
       "Beatles for Sale                                           14   \n",
       "Help!                                                      14   \n",
       "Live at the BBC                                            31   \n",
       "Live! at the Star-Club in Hamburg, Germany; 1962            2   \n",
       "Magical Mystery Tour                                        2   \n",
       "On Air - Live at the BBC Volume 2                           3   \n",
       "Past Masters Volume 1                                       2   \n",
       "Please Please Me                                           14   \n",
       "Rarities                                                    7   \n",
       "Revolver                                                   14   \n",
       "Rock 'n' Roll Music                                         4   \n",
       "Rubber Soul                                                14   \n",
       "Sgt. Pepper's Lonely Hearts Club Band                       1   \n",
       "The Beatles Bootleg Recordings 1963                         2   \n",
       "Unknown                                                    11   \n",
       "With the Beatles                                           14   \n",
       "\n",
       "                                                  Lennon as the lead vocal  \\\n",
       "Album.debut                                                                  \n",
       "A Collection of Beatles Oldies                                           6   \n",
       "A Hard Day's Night                                                       9   \n",
       "Anthology 1                                                              6   \n",
       "Anthology 2                                                              0   \n",
       "Beatles for Sale                                                         9   \n",
       "Help!                                                                    6   \n",
       "Live at the BBC                                                         17   \n",
       "Live! at the Star-Club in Hamburg, Germany; 1962                         2   \n",
       "Magical Mystery Tour                                                     1   \n",
       "On Air - Live at the BBC Volume 2                                        2   \n",
       "Past Masters Volume 1                                                    2   \n",
       "Please Please Me                                                         7   \n",
       "Rarities                                                                 6   \n",
       "Revolver                                                                 5   \n",
       "Rock 'n' Roll Music                                                      1   \n",
       "Rubber Soul                                                              6   \n",
       "Sgt. Pepper's Lonely Hearts Club Band                                    0   \n",
       "The Beatles Bootleg Recordings 1963                                      2   \n",
       "Unknown                                                                  2   \n",
       "With the Beatles                                                         7   \n",
       "\n",
       "                                                  Proportion  \n",
       "Album.debut                                                   \n",
       "A Collection of Beatles Oldies                          0.75  \n",
       "A Hard Day's Night                                      0.69  \n",
       "Anthology 1                                             0.50  \n",
       "Anthology 2                                             0.00  \n",
       "Beatles for Sale                                        0.64  \n",
       "Help!                                                   0.43  \n",
       "Live at the BBC                                         0.55  \n",
       "Live! at the Star-Club in Hamburg, Germany; 1962        1.00  \n",
       "Magical Mystery Tour                                    0.50  \n",
       "On Air - Live at the BBC Volume 2                       0.67  \n",
       "Past Masters Volume 1                                   1.00  \n",
       "Please Please Me                                        0.50  \n",
       "Rarities                                                0.86  \n",
       "Revolver                                                0.36  \n",
       "Rock 'n' Roll Music                                     0.25  \n",
       "Rubber Soul                                             0.43  \n",
       "Sgt. Pepper's Lonely Hearts Club Band                   0.00  \n",
       "The Beatles Bootleg Recordings 1963                     1.00  \n",
       "Unknown                                                 0.18  \n",
       "With the Beatles                                        0.50  "
      ]
     },
     "metadata": {},
     "output_type": "display_data"
    }
   ],
   "source": [
    "result['Lennon as the lead vocal'] = 0          # add new column for the number of songs where John Lennon is the lead vocal\n",
    "result['Proportion'] = 0                        # add new column for the proportion of songs where John Lennon is the lead vocal\n",
    "display(result)\n",
    "\n",
    "for i in songs.index.unique():\n",
    "    result.loc[i, 'Lennon as the lead vocal'] = len(songs.loc[i]) if len(songs.loc[i].shape) != 1 else 1\n",
    "    result['Proportion'] = result['Lennon as the lead vocal'] / result['No. of songs'] \n",
    "\n",
    "result['Proportion'] = np.round(pd.to_numeric(result['Proportion']), decimals=2)\n",
    "\n",
    "display(result)"
   ]
  },
  {
   "cell_type": "markdown",
   "metadata": {
    "pycharm": {
     "name": "#%% md\n"
    }
   },
   "source": [
    "Rank the albums by the proportion of John Lennon's appearance as the lead vocalist in the songs from the corresponding album:"
   ]
  },
  {
   "cell_type": "code",
   "execution_count": 300,
   "metadata": {
    "scrolled": true,
    "pycharm": {
     "name": "#%%\n"
    }
   },
   "outputs": [
    {
     "data": {
      "text/html": [
       "<div>\n",
       "<style scoped>\n",
       "    .dataframe tbody tr th:only-of-type {\n",
       "        vertical-align: middle;\n",
       "    }\n",
       "\n",
       "    .dataframe tbody tr th {\n",
       "        vertical-align: top;\n",
       "    }\n",
       "\n",
       "    .dataframe thead th {\n",
       "        text-align: right;\n",
       "    }\n",
       "</style>\n",
       "<table border=\"1\" class=\"dataframe\">\n",
       "  <thead>\n",
       "    <tr style=\"text-align: right;\">\n",
       "      <th></th>\n",
       "      <th>No. of songs</th>\n",
       "      <th>Lennon as the lead vocal</th>\n",
       "      <th>Proportion</th>\n",
       "    </tr>\n",
       "    <tr>\n",
       "      <th>Album.debut</th>\n",
       "      <th></th>\n",
       "      <th></th>\n",
       "      <th></th>\n",
       "    </tr>\n",
       "  </thead>\n",
       "  <tbody>\n",
       "    <tr>\n",
       "      <th>Past Masters Volume 1</th>\n",
       "      <td>2</td>\n",
       "      <td>2</td>\n",
       "      <td>1.00</td>\n",
       "    </tr>\n",
       "    <tr>\n",
       "      <th>Live! at the Star-Club in Hamburg, Germany; 1962</th>\n",
       "      <td>2</td>\n",
       "      <td>2</td>\n",
       "      <td>1.00</td>\n",
       "    </tr>\n",
       "    <tr>\n",
       "      <th>The Beatles Bootleg Recordings 1963</th>\n",
       "      <td>2</td>\n",
       "      <td>2</td>\n",
       "      <td>1.00</td>\n",
       "    </tr>\n",
       "    <tr>\n",
       "      <th>Rarities</th>\n",
       "      <td>7</td>\n",
       "      <td>6</td>\n",
       "      <td>0.86</td>\n",
       "    </tr>\n",
       "    <tr>\n",
       "      <th>A Collection of Beatles Oldies</th>\n",
       "      <td>8</td>\n",
       "      <td>6</td>\n",
       "      <td>0.75</td>\n",
       "    </tr>\n",
       "    <tr>\n",
       "      <th>A Hard Day's Night</th>\n",
       "      <td>13</td>\n",
       "      <td>9</td>\n",
       "      <td>0.69</td>\n",
       "    </tr>\n",
       "    <tr>\n",
       "      <th>On Air - Live at the BBC Volume 2</th>\n",
       "      <td>3</td>\n",
       "      <td>2</td>\n",
       "      <td>0.67</td>\n",
       "    </tr>\n",
       "    <tr>\n",
       "      <th>Beatles for Sale</th>\n",
       "      <td>14</td>\n",
       "      <td>9</td>\n",
       "      <td>0.64</td>\n",
       "    </tr>\n",
       "    <tr>\n",
       "      <th>Live at the BBC</th>\n",
       "      <td>31</td>\n",
       "      <td>17</td>\n",
       "      <td>0.55</td>\n",
       "    </tr>\n",
       "    <tr>\n",
       "      <th>Magical Mystery Tour</th>\n",
       "      <td>2</td>\n",
       "      <td>1</td>\n",
       "      <td>0.50</td>\n",
       "    </tr>\n",
       "    <tr>\n",
       "      <th>Please Please Me</th>\n",
       "      <td>14</td>\n",
       "      <td>7</td>\n",
       "      <td>0.50</td>\n",
       "    </tr>\n",
       "    <tr>\n",
       "      <th>Anthology 1</th>\n",
       "      <td>12</td>\n",
       "      <td>6</td>\n",
       "      <td>0.50</td>\n",
       "    </tr>\n",
       "    <tr>\n",
       "      <th>With the Beatles</th>\n",
       "      <td>14</td>\n",
       "      <td>7</td>\n",
       "      <td>0.50</td>\n",
       "    </tr>\n",
       "    <tr>\n",
       "      <th>Help!</th>\n",
       "      <td>14</td>\n",
       "      <td>6</td>\n",
       "      <td>0.43</td>\n",
       "    </tr>\n",
       "    <tr>\n",
       "      <th>Rubber Soul</th>\n",
       "      <td>14</td>\n",
       "      <td>6</td>\n",
       "      <td>0.43</td>\n",
       "    </tr>\n",
       "    <tr>\n",
       "      <th>Revolver</th>\n",
       "      <td>14</td>\n",
       "      <td>5</td>\n",
       "      <td>0.36</td>\n",
       "    </tr>\n",
       "    <tr>\n",
       "      <th>Rock 'n' Roll Music</th>\n",
       "      <td>4</td>\n",
       "      <td>1</td>\n",
       "      <td>0.25</td>\n",
       "    </tr>\n",
       "    <tr>\n",
       "      <th>Unknown</th>\n",
       "      <td>11</td>\n",
       "      <td>2</td>\n",
       "      <td>0.18</td>\n",
       "    </tr>\n",
       "    <tr>\n",
       "      <th>Anthology 2</th>\n",
       "      <td>3</td>\n",
       "      <td>0</td>\n",
       "      <td>0.00</td>\n",
       "    </tr>\n",
       "    <tr>\n",
       "      <th>Sgt. Pepper's Lonely Hearts Club Band</th>\n",
       "      <td>1</td>\n",
       "      <td>0</td>\n",
       "      <td>0.00</td>\n",
       "    </tr>\n",
       "  </tbody>\n",
       "</table>\n",
       "</div>"
      ],
      "text/plain": [
       "                                                 No. of songs  \\\n",
       "Album.debut                                                     \n",
       "Past Masters Volume 1                                       2   \n",
       "Live! at the Star-Club in Hamburg, Germany; 1962            2   \n",
       "The Beatles Bootleg Recordings 1963                         2   \n",
       "Rarities                                                    7   \n",
       "A Collection of Beatles Oldies                              8   \n",
       "A Hard Day's Night                                         13   \n",
       "On Air - Live at the BBC Volume 2                           3   \n",
       "Beatles for Sale                                           14   \n",
       "Live at the BBC                                            31   \n",
       "Magical Mystery Tour                                        2   \n",
       "Please Please Me                                           14   \n",
       "Anthology 1                                                12   \n",
       "With the Beatles                                           14   \n",
       "Help!                                                      14   \n",
       "Rubber Soul                                                14   \n",
       "Revolver                                                   14   \n",
       "Rock 'n' Roll Music                                         4   \n",
       "Unknown                                                    11   \n",
       "Anthology 2                                                 3   \n",
       "Sgt. Pepper's Lonely Hearts Club Band                       1   \n",
       "\n",
       "                                                  Lennon as the lead vocal  \\\n",
       "Album.debut                                                                  \n",
       "Past Masters Volume 1                                                    2   \n",
       "Live! at the Star-Club in Hamburg, Germany; 1962                         2   \n",
       "The Beatles Bootleg Recordings 1963                                      2   \n",
       "Rarities                                                                 6   \n",
       "A Collection of Beatles Oldies                                           6   \n",
       "A Hard Day's Night                                                       9   \n",
       "On Air - Live at the BBC Volume 2                                        2   \n",
       "Beatles for Sale                                                         9   \n",
       "Live at the BBC                                                         17   \n",
       "Magical Mystery Tour                                                     1   \n",
       "Please Please Me                                                         7   \n",
       "Anthology 1                                                              6   \n",
       "With the Beatles                                                         7   \n",
       "Help!                                                                    6   \n",
       "Rubber Soul                                                              6   \n",
       "Revolver                                                                 5   \n",
       "Rock 'n' Roll Music                                                      1   \n",
       "Unknown                                                                  2   \n",
       "Anthology 2                                                              0   \n",
       "Sgt. Pepper's Lonely Hearts Club Band                                    0   \n",
       "\n",
       "                                                  Proportion  \n",
       "Album.debut                                                   \n",
       "Past Masters Volume 1                                   1.00  \n",
       "Live! at the Star-Club in Hamburg, Germany; 1962        1.00  \n",
       "The Beatles Bootleg Recordings 1963                     1.00  \n",
       "Rarities                                                0.86  \n",
       "A Collection of Beatles Oldies                          0.75  \n",
       "A Hard Day's Night                                      0.69  \n",
       "On Air - Live at the BBC Volume 2                       0.67  \n",
       "Beatles for Sale                                        0.64  \n",
       "Live at the BBC                                         0.55  \n",
       "Magical Mystery Tour                                    0.50  \n",
       "Please Please Me                                        0.50  \n",
       "Anthology 1                                             0.50  \n",
       "With the Beatles                                        0.50  \n",
       "Help!                                                   0.43  \n",
       "Rubber Soul                                             0.43  \n",
       "Revolver                                                0.36  \n",
       "Rock 'n' Roll Music                                     0.25  \n",
       "Unknown                                                 0.18  \n",
       "Anthology 2                                             0.00  \n",
       "Sgt. Pepper's Lonely Hearts Club Band                   0.00  "
      ]
     },
     "execution_count": 300,
     "metadata": {},
     "output_type": "execute_result"
    }
   ],
   "source": [
    "result = result.sort_values('Proportion', ascending=False)\n",
    "result"
   ]
  },
  {
   "cell_type": "markdown",
   "metadata": {
    "pycharm": {
     "name": "#%% md\n"
    }
   },
   "source": [
    "## Aggregation\n",
    "Refers to computing simple aggregations like `sum()`, `mean()`, `median()`, `min()`, and `max()`, as well as using the `groupby` operation in order to run more sophisticated aggregations."
   ]
  },
  {
   "cell_type": "markdown",
   "metadata": {
    "pycharm": {
     "name": "#%% md\n"
    }
   },
   "source": [
    "### Simple aggregation"
   ]
  },
  {
   "cell_type": "markdown",
   "metadata": {
    "pycharm": {
     "name": "#%% md\n"
    }
   },
   "source": [
    "Read a dataset and check its column types:"
   ]
  },
  {
   "cell_type": "code",
   "execution_count": 64,
   "metadata": {
    "pycharm": {
     "name": "#%%\n"
    }
   },
   "outputs": [
    {
     "data": {
      "text/plain": [
       "Title               object\n",
       "Year                 int64\n",
       "Album.debut         object\n",
       "Duration             int64\n",
       "Other.releases       int64\n",
       "Genre               object\n",
       "Songwriter          object\n",
       "Lead.vocal          object\n",
       "Top.50.Billboard     int64\n",
       "dtype: object"
      ]
     },
     "metadata": {},
     "output_type": "display_data"
    }
   ],
   "source": [
    "songs = pd.read_csv('data/The Beatles songs dataset, v2, no NAs.csv')\n",
    "display(songs.dtypes)"
   ]
  },
  {
   "cell_type": "markdown",
   "metadata": {
    "pycharm": {
     "name": "#%% md\n"
    }
   },
   "source": [
    "#### `describe()` the entire dataframe\n",
    "Computes several common aggregates for each column and returns the result. Pretty much like `summary()` in R. <br>By default, only numeric columns are taken into account in computation and the corresponding aggregates are returned. To compute aggregates for all columns, use `describe(include='all')`.<br>Note the use `dropna()` to omit rows with possible NA values."
   ]
  },
  {
   "cell_type": "code",
   "execution_count": 65,
   "metadata": {
    "scrolled": true,
    "pycharm": {
     "name": "#%%\n"
    }
   },
   "outputs": [
    {
     "data": {
      "text/html": [
       "<div>\n",
       "<style scoped>\n",
       "    .dataframe tbody tr th:only-of-type {\n",
       "        vertical-align: middle;\n",
       "    }\n",
       "\n",
       "    .dataframe tbody tr th {\n",
       "        vertical-align: top;\n",
       "    }\n",
       "\n",
       "    .dataframe thead th {\n",
       "        text-align: right;\n",
       "    }\n",
       "</style>\n",
       "<table border=\"1\" class=\"dataframe\">\n",
       "  <thead>\n",
       "    <tr style=\"text-align: right;\">\n",
       "      <th></th>\n",
       "      <th>Year</th>\n",
       "      <th>Duration</th>\n",
       "      <th>Other.releases</th>\n",
       "      <th>Top.50.Billboard</th>\n",
       "    </tr>\n",
       "  </thead>\n",
       "  <tbody>\n",
       "    <tr>\n",
       "      <th>count</th>\n",
       "      <td>282.000000</td>\n",
       "      <td>282.000000</td>\n",
       "      <td>282.000000</td>\n",
       "      <td>282.000000</td>\n",
       "    </tr>\n",
       "    <tr>\n",
       "      <th>mean</th>\n",
       "      <td>1965.464539</td>\n",
       "      <td>158.631206</td>\n",
       "      <td>11.390071</td>\n",
       "      <td>3.570922</td>\n",
       "    </tr>\n",
       "    <tr>\n",
       "      <th>std</th>\n",
       "      <td>2.662609</td>\n",
       "      <td>51.859708</td>\n",
       "      <td>10.164325</td>\n",
       "      <td>11.680364</td>\n",
       "    </tr>\n",
       "    <tr>\n",
       "      <th>min</th>\n",
       "      <td>1958.000000</td>\n",
       "      <td>23.000000</td>\n",
       "      <td>0.000000</td>\n",
       "      <td>-1.000000</td>\n",
       "    </tr>\n",
       "    <tr>\n",
       "      <th>25%</th>\n",
       "      <td>1963.000000</td>\n",
       "      <td>130.000000</td>\n",
       "      <td>2.500000</td>\n",
       "      <td>-1.000000</td>\n",
       "    </tr>\n",
       "    <tr>\n",
       "      <th>50%</th>\n",
       "      <td>1965.000000</td>\n",
       "      <td>150.000000</td>\n",
       "      <td>10.000000</td>\n",
       "      <td>-1.000000</td>\n",
       "    </tr>\n",
       "    <tr>\n",
       "      <th>75%</th>\n",
       "      <td>1968.000000</td>\n",
       "      <td>173.750000</td>\n",
       "      <td>17.000000</td>\n",
       "      <td>-1.000000</td>\n",
       "    </tr>\n",
       "    <tr>\n",
       "      <th>max</th>\n",
       "      <td>1980.000000</td>\n",
       "      <td>467.000000</td>\n",
       "      <td>56.000000</td>\n",
       "      <td>50.000000</td>\n",
       "    </tr>\n",
       "  </tbody>\n",
       "</table>\n",
       "</div>"
      ],
      "text/plain": [
       "              Year    Duration  Other.releases  Top.50.Billboard\n",
       "count   282.000000  282.000000      282.000000        282.000000\n",
       "mean   1965.464539  158.631206       11.390071          3.570922\n",
       "std       2.662609   51.859708       10.164325         11.680364\n",
       "min    1958.000000   23.000000        0.000000         -1.000000\n",
       "25%    1963.000000  130.000000        2.500000         -1.000000\n",
       "50%    1965.000000  150.000000       10.000000         -1.000000\n",
       "75%    1968.000000  173.750000       17.000000         -1.000000\n",
       "max    1980.000000  467.000000       56.000000         50.000000"
      ]
     },
     "metadata": {},
     "output_type": "display_data"
    },
    {
     "data": {
      "text/html": [
       "<div>\n",
       "<style scoped>\n",
       "    .dataframe tbody tr th:only-of-type {\n",
       "        vertical-align: middle;\n",
       "    }\n",
       "\n",
       "    .dataframe tbody tr th {\n",
       "        vertical-align: top;\n",
       "    }\n",
       "\n",
       "    .dataframe thead th {\n",
       "        text-align: right;\n",
       "    }\n",
       "</style>\n",
       "<table border=\"1\" class=\"dataframe\">\n",
       "  <thead>\n",
       "    <tr style=\"text-align: right;\">\n",
       "      <th></th>\n",
       "      <th>Title</th>\n",
       "      <th>Year</th>\n",
       "      <th>Album.debut</th>\n",
       "      <th>Duration</th>\n",
       "      <th>Other.releases</th>\n",
       "      <th>Genre</th>\n",
       "      <th>Songwriter</th>\n",
       "      <th>Lead.vocal</th>\n",
       "      <th>Top.50.Billboard</th>\n",
       "    </tr>\n",
       "  </thead>\n",
       "  <tbody>\n",
       "    <tr>\n",
       "      <th>count</th>\n",
       "      <td>282</td>\n",
       "      <td>282.000000</td>\n",
       "      <td>282</td>\n",
       "      <td>282.000000</td>\n",
       "      <td>282.000000</td>\n",
       "      <td>282</td>\n",
       "      <td>282</td>\n",
       "      <td>282</td>\n",
       "      <td>282.000000</td>\n",
       "    </tr>\n",
       "    <tr>\n",
       "      <th>unique</th>\n",
       "      <td>281</td>\n",
       "      <td>NaN</td>\n",
       "      <td>54</td>\n",
       "      <td>NaN</td>\n",
       "      <td>NaN</td>\n",
       "      <td>108</td>\n",
       "      <td>74</td>\n",
       "      <td>21</td>\n",
       "      <td>NaN</td>\n",
       "    </tr>\n",
       "    <tr>\n",
       "      <th>top</th>\n",
       "      <td>I'm Talking About You</td>\n",
       "      <td>NaN</td>\n",
       "      <td>Live at the BBC</td>\n",
       "      <td>NaN</td>\n",
       "      <td>NaN</td>\n",
       "      <td>Pop/Rock</td>\n",
       "      <td>Lennon</td>\n",
       "      <td>Lennon</td>\n",
       "      <td>NaN</td>\n",
       "    </tr>\n",
       "    <tr>\n",
       "      <th>freq</th>\n",
       "      <td>2</td>\n",
       "      <td>NaN</td>\n",
       "      <td>31</td>\n",
       "      <td>NaN</td>\n",
       "      <td>NaN</td>\n",
       "      <td>54</td>\n",
       "      <td>62</td>\n",
       "      <td>95</td>\n",
       "      <td>NaN</td>\n",
       "    </tr>\n",
       "    <tr>\n",
       "      <th>mean</th>\n",
       "      <td>NaN</td>\n",
       "      <td>1965.464539</td>\n",
       "      <td>NaN</td>\n",
       "      <td>158.631206</td>\n",
       "      <td>11.390071</td>\n",
       "      <td>NaN</td>\n",
       "      <td>NaN</td>\n",
       "      <td>NaN</td>\n",
       "      <td>3.570922</td>\n",
       "    </tr>\n",
       "    <tr>\n",
       "      <th>std</th>\n",
       "      <td>NaN</td>\n",
       "      <td>2.662609</td>\n",
       "      <td>NaN</td>\n",
       "      <td>51.859708</td>\n",
       "      <td>10.164325</td>\n",
       "      <td>NaN</td>\n",
       "      <td>NaN</td>\n",
       "      <td>NaN</td>\n",
       "      <td>11.680364</td>\n",
       "    </tr>\n",
       "    <tr>\n",
       "      <th>min</th>\n",
       "      <td>NaN</td>\n",
       "      <td>1958.000000</td>\n",
       "      <td>NaN</td>\n",
       "      <td>23.000000</td>\n",
       "      <td>0.000000</td>\n",
       "      <td>NaN</td>\n",
       "      <td>NaN</td>\n",
       "      <td>NaN</td>\n",
       "      <td>-1.000000</td>\n",
       "    </tr>\n",
       "    <tr>\n",
       "      <th>25%</th>\n",
       "      <td>NaN</td>\n",
       "      <td>1963.000000</td>\n",
       "      <td>NaN</td>\n",
       "      <td>130.000000</td>\n",
       "      <td>2.500000</td>\n",
       "      <td>NaN</td>\n",
       "      <td>NaN</td>\n",
       "      <td>NaN</td>\n",
       "      <td>-1.000000</td>\n",
       "    </tr>\n",
       "    <tr>\n",
       "      <th>50%</th>\n",
       "      <td>NaN</td>\n",
       "      <td>1965.000000</td>\n",
       "      <td>NaN</td>\n",
       "      <td>150.000000</td>\n",
       "      <td>10.000000</td>\n",
       "      <td>NaN</td>\n",
       "      <td>NaN</td>\n",
       "      <td>NaN</td>\n",
       "      <td>-1.000000</td>\n",
       "    </tr>\n",
       "    <tr>\n",
       "      <th>75%</th>\n",
       "      <td>NaN</td>\n",
       "      <td>1968.000000</td>\n",
       "      <td>NaN</td>\n",
       "      <td>173.750000</td>\n",
       "      <td>17.000000</td>\n",
       "      <td>NaN</td>\n",
       "      <td>NaN</td>\n",
       "      <td>NaN</td>\n",
       "      <td>-1.000000</td>\n",
       "    </tr>\n",
       "    <tr>\n",
       "      <th>max</th>\n",
       "      <td>NaN</td>\n",
       "      <td>1980.000000</td>\n",
       "      <td>NaN</td>\n",
       "      <td>467.000000</td>\n",
       "      <td>56.000000</td>\n",
       "      <td>NaN</td>\n",
       "      <td>NaN</td>\n",
       "      <td>NaN</td>\n",
       "      <td>50.000000</td>\n",
       "    </tr>\n",
       "  </tbody>\n",
       "</table>\n",
       "</div>"
      ],
      "text/plain": [
       "                        Title         Year      Album.debut    Duration  \\\n",
       "count                     282   282.000000              282  282.000000   \n",
       "unique                    281          NaN               54         NaN   \n",
       "top     I'm Talking About You          NaN  Live at the BBC         NaN   \n",
       "freq                        2          NaN               31         NaN   \n",
       "mean                      NaN  1965.464539              NaN  158.631206   \n",
       "std                       NaN     2.662609              NaN   51.859708   \n",
       "min                       NaN  1958.000000              NaN   23.000000   \n",
       "25%                       NaN  1963.000000              NaN  130.000000   \n",
       "50%                       NaN  1965.000000              NaN  150.000000   \n",
       "75%                       NaN  1968.000000              NaN  173.750000   \n",
       "max                       NaN  1980.000000              NaN  467.000000   \n",
       "\n",
       "        Other.releases     Genre Songwriter Lead.vocal  Top.50.Billboard  \n",
       "count       282.000000       282        282        282        282.000000  \n",
       "unique             NaN       108         74         21               NaN  \n",
       "top                NaN  Pop/Rock     Lennon     Lennon               NaN  \n",
       "freq               NaN        54         62         95               NaN  \n",
       "mean         11.390071       NaN        NaN        NaN          3.570922  \n",
       "std          10.164325       NaN        NaN        NaN         11.680364  \n",
       "min           0.000000       NaN        NaN        NaN         -1.000000  \n",
       "25%           2.500000       NaN        NaN        NaN         -1.000000  \n",
       "50%          10.000000       NaN        NaN        NaN         -1.000000  \n",
       "75%          17.000000       NaN        NaN        NaN         -1.000000  \n",
       "max          56.000000       NaN        NaN        NaN         50.000000  "
      ]
     },
     "metadata": {},
     "output_type": "display_data"
    }
   ],
   "source": [
    "display(songs.dropna().describe())\n",
    "display(songs.dropna().describe(include='all'))"
   ]
  },
  {
   "cell_type": "markdown",
   "metadata": {
    "pycharm": {
     "name": "#%% md\n"
    }
   },
   "source": [
    "#### `describe()` a reduced version of the dataframe"
   ]
  },
  {
   "cell_type": "markdown",
   "metadata": {
    "pycharm": {
     "name": "#%% md\n"
    }
   },
   "source": [
    "Reduce the dataset to some numeric columns and make song titles indices of the `songs` dataframe:"
   ]
  },
  {
   "cell_type": "code",
   "execution_count": 66,
   "metadata": {
    "scrolled": true,
    "pycharm": {
     "name": "#%%\n"
    }
   },
   "outputs": [
    {
     "data": {
      "text/plain": [
       "['Title',\n",
       " 'Year',\n",
       " 'Album.debut',\n",
       " 'Duration',\n",
       " 'Other.releases',\n",
       " 'Genre',\n",
       " 'Songwriter',\n",
       " 'Lead.vocal',\n",
       " 'Top.50.Billboard']"
      ]
     },
     "metadata": {},
     "output_type": "display_data"
    },
    {
     "data": {
      "text/plain": [
       "['Title', 'Duration', 'Other.releases']"
      ]
     },
     "metadata": {},
     "output_type": "display_data"
    }
   ],
   "source": [
    "cols = songs.columns.tolist()\n",
    "display(cols)\n",
    "cols1 = [cols[0]] + [cols[3]] + [cols[4]]\n",
    "display(cols1)"
   ]
  },
  {
   "cell_type": "markdown",
   "metadata": {
    "pycharm": {
     "name": "#%% md\n"
    }
   },
   "source": [
    "<u>Careful with `np.split()`, it converts numeric columns to `object` columns!</u> :"
   ]
  },
  {
   "cell_type": "code",
   "execution_count": 67,
   "metadata": {
    "scrolled": false,
    "pycharm": {
     "name": "#%%\n"
    }
   },
   "outputs": [
    {
     "data": {
      "text/html": [
       "<div>\n",
       "<style scoped>\n",
       "    .dataframe tbody tr th:only-of-type {\n",
       "        vertical-align: middle;\n",
       "    }\n",
       "\n",
       "    .dataframe tbody tr th {\n",
       "        vertical-align: top;\n",
       "    }\n",
       "\n",
       "    .dataframe thead th {\n",
       "        text-align: right;\n",
       "    }\n",
       "</style>\n",
       "<table border=\"1\" class=\"dataframe\">\n",
       "  <thead>\n",
       "    <tr style=\"text-align: right;\">\n",
       "      <th></th>\n",
       "      <th>Title</th>\n",
       "      <th>Duration</th>\n",
       "      <th>Other.releases</th>\n",
       "    </tr>\n",
       "  </thead>\n",
       "  <tbody>\n",
       "    <tr>\n",
       "      <th>0</th>\n",
       "      <td>12-Bar Original</td>\n",
       "      <td>174</td>\n",
       "      <td>0</td>\n",
       "    </tr>\n",
       "    <tr>\n",
       "      <th>1</th>\n",
       "      <td>A Day in the Life</td>\n",
       "      <td>335</td>\n",
       "      <td>12</td>\n",
       "    </tr>\n",
       "    <tr>\n",
       "      <th>2</th>\n",
       "      <td>A Hard Day's Night</td>\n",
       "      <td>152</td>\n",
       "      <td>35</td>\n",
       "    </tr>\n",
       "    <tr>\n",
       "      <th>3</th>\n",
       "      <td>A Shot of Rhythm and Blues</td>\n",
       "      <td>104</td>\n",
       "      <td>0</td>\n",
       "    </tr>\n",
       "    <tr>\n",
       "      <th>4</th>\n",
       "      <td>A Taste of Honey</td>\n",
       "      <td>163</td>\n",
       "      <td>29</td>\n",
       "    </tr>\n",
       "  </tbody>\n",
       "</table>\n",
       "</div>"
      ],
      "text/plain": [
       "                        Title  Duration  Other.releases\n",
       "0             12-Bar Original       174               0\n",
       "1           A Day in the Life       335              12\n",
       "2          A Hard Day's Night       152              35\n",
       "3  A Shot of Rhythm and Blues       104               0\n",
       "4            A Taste of Honey       163              29"
      ]
     },
     "metadata": {},
     "output_type": "display_data"
    },
    {
     "data": {
      "text/plain": [
       "Title             object\n",
       "Duration           int64\n",
       "Other.releases     int64\n",
       "dtype: object"
      ]
     },
     "metadata": {},
     "output_type": "display_data"
    },
    {
     "data": {
      "text/plain": [
       "['Title', 'Duration', 'Other.releases']"
      ]
     },
     "metadata": {},
     "output_type": "display_data"
    },
    {
     "data": {
      "text/plain": [
       "Title             object\n",
       "Duration           int64\n",
       "Other.releases     int64\n",
       "dtype: object"
      ]
     },
     "metadata": {},
     "output_type": "display_data"
    },
    {
     "data": {
      "text/plain": [
       "Duration          object\n",
       "Other.releases    object\n",
       "dtype: object"
      ]
     },
     "metadata": {},
     "output_type": "display_data"
    },
    {
     "data": {
      "text/html": [
       "<div>\n",
       "<style scoped>\n",
       "    .dataframe tbody tr th:only-of-type {\n",
       "        vertical-align: middle;\n",
       "    }\n",
       "\n",
       "    .dataframe tbody tr th {\n",
       "        vertical-align: top;\n",
       "    }\n",
       "\n",
       "    .dataframe thead th {\n",
       "        text-align: right;\n",
       "    }\n",
       "</style>\n",
       "<table border=\"1\" class=\"dataframe\">\n",
       "  <thead>\n",
       "    <tr style=\"text-align: right;\">\n",
       "      <th></th>\n",
       "      <th>Duration</th>\n",
       "      <th>Other.releases</th>\n",
       "    </tr>\n",
       "    <tr>\n",
       "      <th>Title</th>\n",
       "      <th></th>\n",
       "      <th></th>\n",
       "    </tr>\n",
       "  </thead>\n",
       "  <tbody>\n",
       "    <tr>\n",
       "      <th>12-Bar Original</th>\n",
       "      <td>174</td>\n",
       "      <td>0</td>\n",
       "    </tr>\n",
       "    <tr>\n",
       "      <th>A Day in the Life</th>\n",
       "      <td>335</td>\n",
       "      <td>12</td>\n",
       "    </tr>\n",
       "    <tr>\n",
       "      <th>A Hard Day's Night</th>\n",
       "      <td>152</td>\n",
       "      <td>35</td>\n",
       "    </tr>\n",
       "    <tr>\n",
       "      <th>A Shot of Rhythm and Blues</th>\n",
       "      <td>104</td>\n",
       "      <td>0</td>\n",
       "    </tr>\n",
       "    <tr>\n",
       "      <th>A Taste of Honey</th>\n",
       "      <td>163</td>\n",
       "      <td>29</td>\n",
       "    </tr>\n",
       "  </tbody>\n",
       "</table>\n",
       "</div>"
      ],
      "text/plain": [
       "                           Duration Other.releases\n",
       "Title                                             \n",
       "12-Bar Original                 174              0\n",
       "A Day in the Life               335             12\n",
       "A Hard Day's Night              152             35\n",
       "A Shot of Rhythm and Blues      104              0\n",
       "A Taste of Honey                163             29"
      ]
     },
     "metadata": {},
     "output_type": "display_data"
    }
   ],
   "source": [
    "songs = songs.loc[:, cols1]\n",
    "display(songs.head())\n",
    "display(songs.dtypes)\n",
    "\n",
    "songs.set_index(songs['Title'], inplace=True)\n",
    "display(songs.columns.tolist())\n",
    "display(songs.dtypes)                                 # up to this point, it's int64 for both Duration and Other.releases\n",
    "\n",
    "songs = np.split(songs, [1], axis=1)[1]\n",
    "display(songs.dtypes)                                 # but now it's object, for both Duration and Other.releases\n",
    "display(songs.head())"
   ]
  },
  {
   "cell_type": "markdown",
   "metadata": {
    "pycharm": {
     "name": "#%% md\n"
    }
   },
   "source": [
    "The output of `describe()` reflects the fact that now both `dtype`s are `object`:"
   ]
  },
  {
   "cell_type": "code",
   "execution_count": 68,
   "metadata": {
    "pycharm": {
     "name": "#%%\n"
    }
   },
   "outputs": [
    {
     "data": {
      "text/plain": [
       "Duration          object\n",
       "Other.releases    object\n",
       "dtype: object"
      ]
     },
     "metadata": {},
     "output_type": "display_data"
    },
    {
     "data": {
      "text/html": [
       "<div>\n",
       "<style scoped>\n",
       "    .dataframe tbody tr th:only-of-type {\n",
       "        vertical-align: middle;\n",
       "    }\n",
       "\n",
       "    .dataframe tbody tr th {\n",
       "        vertical-align: top;\n",
       "    }\n",
       "\n",
       "    .dataframe thead th {\n",
       "        text-align: right;\n",
       "    }\n",
       "</style>\n",
       "<table border=\"1\" class=\"dataframe\">\n",
       "  <thead>\n",
       "    <tr style=\"text-align: right;\">\n",
       "      <th></th>\n",
       "      <th>Duration</th>\n",
       "      <th>Other.releases</th>\n",
       "    </tr>\n",
       "  </thead>\n",
       "  <tbody>\n",
       "    <tr>\n",
       "      <th>count</th>\n",
       "      <td>310</td>\n",
       "      <td>310</td>\n",
       "    </tr>\n",
       "    <tr>\n",
       "      <th>unique</th>\n",
       "      <td>133</td>\n",
       "      <td>37</td>\n",
       "    </tr>\n",
       "    <tr>\n",
       "      <th>top</th>\n",
       "      <td>150</td>\n",
       "      <td>0</td>\n",
       "    </tr>\n",
       "    <tr>\n",
       "      <th>freq</th>\n",
       "      <td>32</td>\n",
       "      <td>94</td>\n",
       "    </tr>\n",
       "  </tbody>\n",
       "</table>\n",
       "</div>"
      ],
      "text/plain": [
       "        Duration  Other.releases\n",
       "count        310             310\n",
       "unique       133              37\n",
       "top          150               0\n",
       "freq          32              94"
      ]
     },
     "metadata": {},
     "output_type": "display_data"
    }
   ],
   "source": [
    "display(songs.dtypes)\n",
    "display(songs.dropna().describe(include='all'))       # the output reflects the fact that both dtypes are object"
   ]
  },
  {
   "cell_type": "markdown",
   "metadata": {
    "pycharm": {
     "name": "#%% md\n"
    }
   },
   "source": [
    "Compute some simple aggregations. For a `pd.DataFrame` object, by default the aggregates return results within each column:"
   ]
  },
  {
   "cell_type": "markdown",
   "metadata": {
    "pycharm": {
     "name": "#%% md\n"
    }
   },
   "source": [
    "However, numeric aggregates are computed normally:"
   ]
  },
  {
   "cell_type": "code",
   "execution_count": 69,
   "metadata": {
    "scrolled": true,
    "pycharm": {
     "name": "#%%\n"
    }
   },
   "outputs": [
    {
     "data": {
      "text/plain": [
       "Duration          23.0\n",
       "Other.releases     0.0\n",
       "dtype: float64"
      ]
     },
     "metadata": {},
     "output_type": "display_data"
    },
    {
     "data": {
      "text/plain": [
       "Duration          154.545455\n",
       "Other.releases      6.818182\n",
       "dtype: float64"
      ]
     },
     "metadata": {},
     "output_type": "display_data"
    }
   ],
   "source": [
    "display(songs.min())\n",
    "display(songs.iloc[23:34, :].mean())"
   ]
  },
  {
   "cell_type": "markdown",
   "metadata": {
    "pycharm": {
     "name": "#%% md\n"
    }
   },
   "source": [
    "Compute some simple aggregations by row (although semantically it makes no sense with the `songs` dataframe). It works in spite of the fact that both `dtype`s are `object`:"
   ]
  },
  {
   "cell_type": "code",
   "execution_count": 70,
   "metadata": {
    "pycharm": {
     "name": "#%%\n"
    }
   },
   "outputs": [
    {
     "data": {
      "text/plain": [
       "Title\n",
       "12-Bar Original                      174.0\n",
       "A Day in the Life                    347.0\n",
       "A Hard Day's Night                   187.0\n",
       "A Shot of Rhythm and Blues           104.0\n",
       "A Taste of Honey                     192.0\n",
       "                                     ...  \n",
       "You're Going to Lose That Girl       146.0\n",
       "You've Got to Hide Your Love Away    143.0\n",
       "You've Really Got a Hold on Me       184.0\n",
       "Young Blood                          116.0\n",
       "Your Mother Should Know              162.0\n",
       "Length: 310, dtype: float64"
      ]
     },
     "metadata": {},
     "output_type": "display_data"
    }
   ],
   "source": [
    "display(songs.sum(axis=1))"
   ]
  },
  {
   "cell_type": "markdown",
   "metadata": {
    "pycharm": {
     "name": "#%% md\n"
    }
   },
   "source": [
    "Compute common aggregates for the `songs` dataframe. Use `dropna()` to omit rows with possible NA values. Since both `dtype`s are `object`, the output does not show mean, sd and the quartiles:"
   ]
  },
  {
   "cell_type": "code",
   "execution_count": 71,
   "metadata": {
    "scrolled": true,
    "pycharm": {
     "name": "#%%\n"
    }
   },
   "outputs": [
    {
     "data": {
      "text/plain": [
       "Duration          False\n",
       "Other.releases    False\n",
       "dtype: bool"
      ]
     },
     "metadata": {},
     "output_type": "display_data"
    },
    {
     "data": {
      "text/html": [
       "<div>\n",
       "<style scoped>\n",
       "    .dataframe tbody tr th:only-of-type {\n",
       "        vertical-align: middle;\n",
       "    }\n",
       "\n",
       "    .dataframe tbody tr th {\n",
       "        vertical-align: top;\n",
       "    }\n",
       "\n",
       "    .dataframe thead th {\n",
       "        text-align: right;\n",
       "    }\n",
       "</style>\n",
       "<table border=\"1\" class=\"dataframe\">\n",
       "  <thead>\n",
       "    <tr style=\"text-align: right;\">\n",
       "      <th></th>\n",
       "      <th>Duration</th>\n",
       "      <th>Other.releases</th>\n",
       "    </tr>\n",
       "  </thead>\n",
       "  <tbody>\n",
       "    <tr>\n",
       "      <th>count</th>\n",
       "      <td>310</td>\n",
       "      <td>310</td>\n",
       "    </tr>\n",
       "    <tr>\n",
       "      <th>unique</th>\n",
       "      <td>133</td>\n",
       "      <td>37</td>\n",
       "    </tr>\n",
       "    <tr>\n",
       "      <th>top</th>\n",
       "      <td>150</td>\n",
       "      <td>0</td>\n",
       "    </tr>\n",
       "    <tr>\n",
       "      <th>freq</th>\n",
       "      <td>32</td>\n",
       "      <td>94</td>\n",
       "    </tr>\n",
       "  </tbody>\n",
       "</table>\n",
       "</div>"
      ],
      "text/plain": [
       "        Duration  Other.releases\n",
       "count        310             310\n",
       "unique       133              37\n",
       "top          150               0\n",
       "freq          32              94"
      ]
     },
     "metadata": {},
     "output_type": "display_data"
    },
    {
     "data": {
      "text/plain": [
       "Duration          object\n",
       "Other.releases    object\n",
       "dtype: object"
      ]
     },
     "metadata": {},
     "output_type": "display_data"
    }
   ],
   "source": [
    "display(songs.isnull().any())\n",
    "display(songs.dropna().describe())\n",
    "# display(songs.dropna().describe(include='all'))\n",
    "# display(songs.dropna().describe(include=[np.number]))\n",
    "display(songs.dtypes)"
   ]
  },
  {
   "cell_type": "markdown",
   "metadata": {
    "pycharm": {
     "name": "#%% md\n"
    }
   },
   "source": [
    "Convert both columns from `object` to `int` in order to show mean, sd and the quartiles: "
   ]
  },
  {
   "cell_type": "code",
   "execution_count": 63,
   "metadata": {
    "scrolled": true,
    "pycharm": {
     "name": "#%%\n"
    }
   },
   "outputs": [
    {
     "data": {
      "text/plain": [
       "Duration          int32\n",
       "Other.releases    int32\n",
       "dtype: object"
      ]
     },
     "metadata": {},
     "output_type": "display_data"
    },
    {
     "data": {
      "text/html": [
       "<div>\n",
       "<style scoped>\n",
       "    .dataframe tbody tr th:only-of-type {\n",
       "        vertical-align: middle;\n",
       "    }\n",
       "\n",
       "    .dataframe tbody tr th {\n",
       "        vertical-align: top;\n",
       "    }\n",
       "\n",
       "    .dataframe thead th {\n",
       "        text-align: right;\n",
       "    }\n",
       "</style>\n",
       "<table border=\"1\" class=\"dataframe\">\n",
       "  <thead>\n",
       "    <tr style=\"text-align: right;\">\n",
       "      <th></th>\n",
       "      <th>Duration</th>\n",
       "      <th>Other.releases</th>\n",
       "    </tr>\n",
       "  </thead>\n",
       "  <tbody>\n",
       "    <tr>\n",
       "      <th>count</th>\n",
       "      <td>310.000000</td>\n",
       "      <td>310.000000</td>\n",
       "    </tr>\n",
       "    <tr>\n",
       "      <th>mean</th>\n",
       "      <td>159.645161</td>\n",
       "      <td>10.422581</td>\n",
       "    </tr>\n",
       "    <tr>\n",
       "      <th>std</th>\n",
       "      <td>53.995774</td>\n",
       "      <td>10.197665</td>\n",
       "    </tr>\n",
       "    <tr>\n",
       "      <th>min</th>\n",
       "      <td>23.000000</td>\n",
       "      <td>0.000000</td>\n",
       "    </tr>\n",
       "    <tr>\n",
       "      <th>25%</th>\n",
       "      <td>133.000000</td>\n",
       "      <td>0.000000</td>\n",
       "    </tr>\n",
       "    <tr>\n",
       "      <th>50%</th>\n",
       "      <td>150.000000</td>\n",
       "      <td>9.000000</td>\n",
       "    </tr>\n",
       "    <tr>\n",
       "      <th>75%</th>\n",
       "      <td>172.750000</td>\n",
       "      <td>16.000000</td>\n",
       "    </tr>\n",
       "    <tr>\n",
       "      <th>max</th>\n",
       "      <td>502.000000</td>\n",
       "      <td>56.000000</td>\n",
       "    </tr>\n",
       "  </tbody>\n",
       "</table>\n",
       "</div>"
      ],
      "text/plain": [
       "         Duration  Other.releases\n",
       "count  310.000000      310.000000\n",
       "mean   159.645161       10.422581\n",
       "std     53.995774       10.197665\n",
       "min     23.000000        0.000000\n",
       "25%    133.000000        0.000000\n",
       "50%    150.000000        9.000000\n",
       "75%    172.750000       16.000000\n",
       "max    502.000000       56.000000"
      ]
     },
     "metadata": {},
     "output_type": "display_data"
    }
   ],
   "source": [
    "songs['Duration'] = songs['Duration'].astype(int)\n",
    "songs['Other.releases'] = songs['Other.releases'].astype(int)\n",
    "display(songs.dtypes)\n",
    "display(songs.dropna().describe())"
   ]
  },
  {
   "cell_type": "markdown",
   "metadata": {
    "pycharm": {
     "name": "#%% md\n"
    }
   },
   "source": [
    "### *groupby()* aggregation\n",
    "Method of `pd.DataFrame` objects. <br><br>\n",
    "Implements the split-apply-combine pattern:<br>\n",
    "![](figures/split-apply-combine.png)"
   ]
  },
  {
   "cell_type": "markdown",
   "metadata": {
    "pycharm": {
     "name": "#%% md\n"
    }
   },
   "source": [
    "For a very simple example of grouping: see [this](https://www.kite.com/python/answers/how-to-split-a-pandas-dataframe-into-multiple-dataframes-by-column-value-in-python) - splitting a `pd.DataFrame` into multiple `pd.DataFrame`s by column value; all these `pd.DataFrame`s objects are included in the resulting `DataFrameGroupBy` object.<br>\n",
    "VD: Note that the resulting `DataFrameGroupBy` object is actually a specific *view* of the original `pd.DataFrame` (pretty much like hashing; take a look at the figure above)."
   ]
  },
  {
   "cell_type": "markdown",
   "metadata": {
    "pycharm": {
     "name": "#%% md\n"
    }
   },
   "source": [
    "#### get_group()\n",
    "An example - use `groupby()` to split The Beatles songs dataframe by year and then display specific groups using `get_group()`:"
   ]
  },
  {
   "cell_type": "code",
   "execution_count": 3,
   "metadata": {
    "pycharm": {
     "name": "#%%\n"
    }
   },
   "outputs": [
    {
     "data": {
      "text/plain": "<pandas.core.groupby.generic.DataFrameGroupBy object at 0x000002A927EDF3D0>"
     },
     "metadata": {},
     "output_type": "display_data"
    },
    {
     "data": {
      "text/plain": "pandas.core.groupby.generic.DataFrameGroupBy"
     },
     "metadata": {},
     "output_type": "display_data"
    },
    {
     "data": {
      "text/plain": "         Title  Year Album.debut  Duration  Other.releases  \\\n113  I Me Mine  1970   Let It Be       145              10   \n\n                               Genre Songwriter Lead.vocal  Top.50.Billboard  \n113  Folk blues, Hard Rock, Pop/Rock   Harrison   Harrison                -1  ",
      "text/html": "<div>\n<style scoped>\n    .dataframe tbody tr th:only-of-type {\n        vertical-align: middle;\n    }\n\n    .dataframe tbody tr th {\n        vertical-align: top;\n    }\n\n    .dataframe thead th {\n        text-align: right;\n    }\n</style>\n<table border=\"1\" class=\"dataframe\">\n  <thead>\n    <tr style=\"text-align: right;\">\n      <th></th>\n      <th>Title</th>\n      <th>Year</th>\n      <th>Album.debut</th>\n      <th>Duration</th>\n      <th>Other.releases</th>\n      <th>Genre</th>\n      <th>Songwriter</th>\n      <th>Lead.vocal</th>\n      <th>Top.50.Billboard</th>\n    </tr>\n  </thead>\n  <tbody>\n    <tr>\n      <th>113</th>\n      <td>I Me Mine</td>\n      <td>1970</td>\n      <td>Let It Be</td>\n      <td>145</td>\n      <td>10</td>\n      <td>Folk blues, Hard Rock, Pop/Rock</td>\n      <td>Harrison</td>\n      <td>Harrison</td>\n      <td>-1</td>\n    </tr>\n  </tbody>\n</table>\n</div>"
     },
     "metadata": {},
     "output_type": "display_data"
    },
    {
     "data": {
      "text/plain": "                     Title  Year                           Album.debut  \\\n14  And Your Bird Can Sing  1966  UK: Revolver US: Yesterday and Today   \n56           Doctor Robert  1966  UK: Revolver US: Yesterday and Today   \n63           Eleanor Rigby  1966                              Revolver   \n71              For No One  1966                              Revolver   \n82       Good Day Sunshine  1966                              Revolver   \n\n    Duration  Other.releases                                  Genre  \\\n14       121               9   Power Pop, Psychedelic Pop, Pop/Rock   \n56       135               6  Psychedelic Rock, Power Pop, Pop/Rock   \n63       128              16        Baroque Pop, Art Rock, Pop/Rock   \n71       121               9                  Baroque Pop, Pop/Rock   \n82       129               7     Sunshine Pop, Music Hall, Pop/Rock   \n\n                Songwriter Lead.vocal  Top.50.Billboard  \n14  Lennon, with McCartney     Lennon                -1  \n56  Lennon, with McCartney     Lennon                -1  \n63               McCartney  McCartney                38  \n71               McCartney  McCartney                -1  \n82               McCartney  McCartney                -1  ",
      "text/html": "<div>\n<style scoped>\n    .dataframe tbody tr th:only-of-type {\n        vertical-align: middle;\n    }\n\n    .dataframe tbody tr th {\n        vertical-align: top;\n    }\n\n    .dataframe thead th {\n        text-align: right;\n    }\n</style>\n<table border=\"1\" class=\"dataframe\">\n  <thead>\n    <tr style=\"text-align: right;\">\n      <th></th>\n      <th>Title</th>\n      <th>Year</th>\n      <th>Album.debut</th>\n      <th>Duration</th>\n      <th>Other.releases</th>\n      <th>Genre</th>\n      <th>Songwriter</th>\n      <th>Lead.vocal</th>\n      <th>Top.50.Billboard</th>\n    </tr>\n  </thead>\n  <tbody>\n    <tr>\n      <th>14</th>\n      <td>And Your Bird Can Sing</td>\n      <td>1966</td>\n      <td>UK: Revolver US: Yesterday and Today</td>\n      <td>121</td>\n      <td>9</td>\n      <td>Power Pop, Psychedelic Pop, Pop/Rock</td>\n      <td>Lennon, with McCartney</td>\n      <td>Lennon</td>\n      <td>-1</td>\n    </tr>\n    <tr>\n      <th>56</th>\n      <td>Doctor Robert</td>\n      <td>1966</td>\n      <td>UK: Revolver US: Yesterday and Today</td>\n      <td>135</td>\n      <td>6</td>\n      <td>Psychedelic Rock, Power Pop, Pop/Rock</td>\n      <td>Lennon, with McCartney</td>\n      <td>Lennon</td>\n      <td>-1</td>\n    </tr>\n    <tr>\n      <th>63</th>\n      <td>Eleanor Rigby</td>\n      <td>1966</td>\n      <td>Revolver</td>\n      <td>128</td>\n      <td>16</td>\n      <td>Baroque Pop, Art Rock, Pop/Rock</td>\n      <td>McCartney</td>\n      <td>McCartney</td>\n      <td>38</td>\n    </tr>\n    <tr>\n      <th>71</th>\n      <td>For No One</td>\n      <td>1966</td>\n      <td>Revolver</td>\n      <td>121</td>\n      <td>9</td>\n      <td>Baroque Pop, Pop/Rock</td>\n      <td>McCartney</td>\n      <td>McCartney</td>\n      <td>-1</td>\n    </tr>\n    <tr>\n      <th>82</th>\n      <td>Good Day Sunshine</td>\n      <td>1966</td>\n      <td>Revolver</td>\n      <td>129</td>\n      <td>7</td>\n      <td>Sunshine Pop, Music Hall, Pop/Rock</td>\n      <td>McCartney</td>\n      <td>McCartney</td>\n      <td>-1</td>\n    </tr>\n  </tbody>\n</table>\n</div>"
     },
     "metadata": {},
     "output_type": "display_data"
    }
   ],
   "source": [
    "songs = pd.read_csv('data/The Beatles songs dataset, v2, no NAs.csv')\n",
    "# songs_by_year = songs.groupby(songs.Year)                                   # this is OK as well\n",
    "# songs_by_year = songs.groupby(songs['Year'])                                # this is OK as well\n",
    "songs_by_year = songs.groupby('Year')\n",
    "display(songs_by_year)\n",
    "display(type(songs_by_year))                                                  # DataFrameGroupBy\n",
    "display(songs_by_year.get_group(1970))\n",
    "display(songs_by_year.get_group(1966).head())"
   ]
  },
  {
   "cell_type": "markdown",
   "metadata": {
    "pycharm": {
     "name": "#%% md\n"
    }
   },
   "source": [
    "Extract and individual `pd.DataFrame` object and get its number of rows (see [this](https://stackoverflow.com/questions/15943769/how-do-i-get-the-row-count-of-a-pandas-dataframe) for a discussion on performance issues - `len(df.index)` is faster than `df.shape`):"
   ]
  },
  {
   "cell_type": "code",
   "execution_count": 16,
   "metadata": {
    "scrolled": false,
    "pycharm": {
     "name": "#%%\n"
    }
   },
   "outputs": [
    {
     "data": {
      "text/plain": [
       "pandas.core.frame.DataFrame"
      ]
     },
     "metadata": {},
     "output_type": "display_data"
    },
    {
     "data": {
      "text/plain": [
       "(19, 9)"
      ]
     },
     "metadata": {},
     "output_type": "display_data"
    },
    {
     "data": {
      "text/plain": [
       "19"
      ]
     },
     "metadata": {},
     "output_type": "display_data"
    }
   ],
   "source": [
    "y1966 = songs_by_year.get_group(1966)\n",
    "display(type(y1966))\n",
    "display(y1966.shape)\n",
    "display(len(y1966.index))                                                     # faster than shape"
   ]
  },
  {
   "cell_type": "markdown",
   "metadata": {
    "pycharm": {
     "name": "#%% md\n"
    }
   },
   "source": [
    "#### The `GroupBy` object\n",
    "Created by running the `groupby()` method of `pd.DataFrame`s.<br>\n",
    "The `GroupBy` object is essentially a group of `pd.DataFrame`s."
   ]
  },
  {
   "cell_type": "markdown",
   "metadata": {
    "pycharm": {
     "name": "#%% md\n"
    }
   },
   "source": [
    "Column indexing:"
   ]
  },
  {
   "cell_type": "code",
   "execution_count": 5,
   "metadata": {
    "pycharm": {
     "name": "#%%\n"
    }
   },
   "outputs": [
    {
     "data": {
      "text/plain": [
       "<pandas.core.groupby.generic.SeriesGroupBy object at 0x7f8f3de274d0>"
      ]
     },
     "metadata": {},
     "output_type": "display_data"
    },
    {
     "data": {
      "text/plain": [
       "pandas.core.groupby.generic.SeriesGroupBy"
      ]
     },
     "metadata": {},
     "output_type": "display_data"
    }
   ],
   "source": [
    "songs = pd.read_csv('data/The Beatles songs dataset, v2, no NAs.csv')\n",
    "songs_by_year = songs.groupby('Year')\n",
    "display(songs_by_year['Duration'])\n",
    "display(type(songs_by_year['Duration']))                                      # SeriesGroupBy"
   ]
  },
  {
   "cell_type": "code",
   "execution_count": 7,
   "metadata": {
    "pycharm": {
     "name": "#%%\n"
    }
   },
   "outputs": [
    {
     "data": {
      "text/plain": [
       "Year\n",
       "1958    150\n",
       "1960    147\n",
       "1961    150\n",
       "1962    150\n",
       "1963    137\n",
       "1964    145\n",
       "1965    148\n",
       "1966    157\n",
       "1967    180\n",
       "1968    183\n",
       "1969    165\n",
       "1970    145\n",
       "1977    266\n",
       "1980    236\n",
       "Name: Duration, dtype: int64"
      ]
     },
     "metadata": {},
     "output_type": "display_data"
    }
   ],
   "source": [
    "display(songs_by_year['Duration'].median())                                   # or sum(), mean(),..."
   ]
  },
  {
   "cell_type": "markdown",
   "metadata": {
    "pycharm": {
     "name": "#%% md\n"
    }
   },
   "source": [
    "Iterating over groups - the `GroupBy` object supports direct iteration over the groups, returning each group as a `Series` or `DataFrame` (**<u>make sure to provide a tuple of inices for the `for` loop</u>**, the first one referring to the group index, and the second one representing the group itself):"
   ]
  },
  {
   "cell_type": "code",
   "execution_count": 17,
   "metadata": {
    "scrolled": true,
    "pycharm": {
     "name": "#%%\n"
    }
   },
   "outputs": [
    {
     "name": "stdout",
     "output_type": "stream",
     "text": [
      "1958   no. of songs released: 2\n",
      "1960   no. of songs released: 4\n",
      "1961   no. of songs released: 3\n",
      "1962   no. of songs released: 20\n",
      "1963   no. of songs released: 66\n",
      "1964   no. of songs released: 41\n",
      "1965   no. of songs released: 37\n",
      "1966   no. of songs released: 19\n",
      "1967   no. of songs released: 27\n",
      "1968   no. of songs released: 45\n",
      "1969   no. of songs released: 43\n",
      "1970   no. of songs released: 1\n",
      "1977   no. of songs released: 1\n",
      "1980   no. of songs released: 1\n"
     ]
    }
   ],
   "source": [
    "for year, group in songs.groupby('Year'):\n",
    "#     print(f'{year}   {group.shape}')\n",
    "#     print(f'{year}   no. of songs released: {group.shape[0]}')\n",
    "    print(f'{year}   no. of songs released: {len(group.index)}')              # faster than shape"
   ]
  },
  {
   "cell_type": "markdown",
   "metadata": {
    "pycharm": {
     "name": "#%% md\n"
    }
   },
   "source": [
    "Calling other methods (not explicitly implemented by the `GroupBy` object) on the groups, whether they are `pd.DataFrame` or `pd.Series` objects. *Any* valid `pd.DataFrame`/`pd.Series` method can be used on the corresponding `GroupBy` object. For example, using the `describe()` method of `pd.DataFrame`s to perform a set of aggregations that describe each group in the data:"
   ]
  },
  {
   "cell_type": "code",
   "execution_count": 23,
   "metadata": {
    "scrolled": true,
    "pycharm": {
     "name": "#%%\n"
    }
   },
   "outputs": [
    {
     "data": {
      "text/html": [
       "<div>\n",
       "<style scoped>\n",
       "    .dataframe tbody tr th:only-of-type {\n",
       "        vertical-align: middle;\n",
       "    }\n",
       "\n",
       "    .dataframe tbody tr th {\n",
       "        vertical-align: top;\n",
       "    }\n",
       "\n",
       "    .dataframe thead th {\n",
       "        text-align: right;\n",
       "    }\n",
       "</style>\n",
       "<table border=\"1\" class=\"dataframe\">\n",
       "  <thead>\n",
       "    <tr style=\"text-align: right;\">\n",
       "      <th></th>\n",
       "      <th>count</th>\n",
       "      <th>mean</th>\n",
       "      <th>std</th>\n",
       "      <th>min</th>\n",
       "      <th>25%</th>\n",
       "      <th>50%</th>\n",
       "      <th>75%</th>\n",
       "      <th>max</th>\n",
       "    </tr>\n",
       "    <tr>\n",
       "      <th>Year</th>\n",
       "      <th></th>\n",
       "      <th></th>\n",
       "      <th></th>\n",
       "      <th></th>\n",
       "      <th></th>\n",
       "      <th></th>\n",
       "      <th></th>\n",
       "      <th></th>\n",
       "    </tr>\n",
       "  </thead>\n",
       "  <tbody>\n",
       "    <tr>\n",
       "      <th>1958</th>\n",
       "      <td>2.0</td>\n",
       "      <td>0.000000</td>\n",
       "      <td>0.000000</td>\n",
       "      <td>0.0</td>\n",
       "      <td>0.0</td>\n",
       "      <td>0.0</td>\n",
       "      <td>0.0</td>\n",
       "      <td>0.0</td>\n",
       "    </tr>\n",
       "    <tr>\n",
       "      <th>1960</th>\n",
       "      <td>4.0</td>\n",
       "      <td>0.000000</td>\n",
       "      <td>0.000000</td>\n",
       "      <td>0.0</td>\n",
       "      <td>0.0</td>\n",
       "      <td>0.0</td>\n",
       "      <td>0.0</td>\n",
       "      <td>0.0</td>\n",
       "    </tr>\n",
       "    <tr>\n",
       "      <th>1961</th>\n",
       "      <td>3.0</td>\n",
       "      <td>7.333333</td>\n",
       "      <td>6.658328</td>\n",
       "      <td>0.0</td>\n",
       "      <td>4.5</td>\n",
       "      <td>9.0</td>\n",
       "      <td>11.0</td>\n",
       "      <td>13.0</td>\n",
       "    </tr>\n",
       "    <tr>\n",
       "      <th>1962</th>\n",
       "      <td>20.0</td>\n",
       "      <td>7.250000</td>\n",
       "      <td>15.870778</td>\n",
       "      <td>0.0</td>\n",
       "      <td>0.0</td>\n",
       "      <td>0.0</td>\n",
       "      <td>0.0</td>\n",
       "      <td>56.0</td>\n",
       "    </tr>\n",
       "    <tr>\n",
       "      <th>1963</th>\n",
       "      <td>66.0</td>\n",
       "      <td>10.045455</td>\n",
       "      <td>13.166895</td>\n",
       "      <td>0.0</td>\n",
       "      <td>0.0</td>\n",
       "      <td>0.0</td>\n",
       "      <td>20.5</td>\n",
       "      <td>45.0</td>\n",
       "    </tr>\n",
       "    <tr>\n",
       "      <th>1964</th>\n",
       "      <td>41.0</td>\n",
       "      <td>16.243902</td>\n",
       "      <td>10.570668</td>\n",
       "      <td>0.0</td>\n",
       "      <td>9.0</td>\n",
       "      <td>16.0</td>\n",
       "      <td>22.0</td>\n",
       "      <td>42.0</td>\n",
       "    </tr>\n",
       "    <tr>\n",
       "      <th>1965</th>\n",
       "      <td>37.0</td>\n",
       "      <td>13.162162</td>\n",
       "      <td>8.522889</td>\n",
       "      <td>0.0</td>\n",
       "      <td>9.0</td>\n",
       "      <td>12.0</td>\n",
       "      <td>18.0</td>\n",
       "      <td>34.0</td>\n",
       "    </tr>\n",
       "    <tr>\n",
       "      <th>1966</th>\n",
       "      <td>19.0</td>\n",
       "      <td>12.368421</td>\n",
       "      <td>6.576140</td>\n",
       "      <td>5.0</td>\n",
       "      <td>7.5</td>\n",
       "      <td>10.0</td>\n",
       "      <td>15.5</td>\n",
       "      <td>27.0</td>\n",
       "    </tr>\n",
       "    <tr>\n",
       "      <th>1967</th>\n",
       "      <td>27.0</td>\n",
       "      <td>9.629630</td>\n",
       "      <td>5.923539</td>\n",
       "      <td>0.0</td>\n",
       "      <td>6.0</td>\n",
       "      <td>8.0</td>\n",
       "      <td>13.0</td>\n",
       "      <td>25.0</td>\n",
       "    </tr>\n",
       "    <tr>\n",
       "      <th>1968</th>\n",
       "      <td>45.0</td>\n",
       "      <td>8.933333</td>\n",
       "      <td>6.358244</td>\n",
       "      <td>0.0</td>\n",
       "      <td>7.0</td>\n",
       "      <td>9.0</td>\n",
       "      <td>11.0</td>\n",
       "      <td>28.0</td>\n",
       "    </tr>\n",
       "    <tr>\n",
       "      <th>1969</th>\n",
       "      <td>43.0</td>\n",
       "      <td>7.883721</td>\n",
       "      <td>7.290598</td>\n",
       "      <td>0.0</td>\n",
       "      <td>0.0</td>\n",
       "      <td>7.0</td>\n",
       "      <td>12.0</td>\n",
       "      <td>28.0</td>\n",
       "    </tr>\n",
       "    <tr>\n",
       "      <th>1970</th>\n",
       "      <td>1.0</td>\n",
       "      <td>10.000000</td>\n",
       "      <td>NaN</td>\n",
       "      <td>10.0</td>\n",
       "      <td>10.0</td>\n",
       "      <td>10.0</td>\n",
       "      <td>10.0</td>\n",
       "      <td>10.0</td>\n",
       "    </tr>\n",
       "    <tr>\n",
       "      <th>1977</th>\n",
       "      <td>1.0</td>\n",
       "      <td>0.000000</td>\n",
       "      <td>NaN</td>\n",
       "      <td>0.0</td>\n",
       "      <td>0.0</td>\n",
       "      <td>0.0</td>\n",
       "      <td>0.0</td>\n",
       "      <td>0.0</td>\n",
       "    </tr>\n",
       "    <tr>\n",
       "      <th>1980</th>\n",
       "      <td>1.0</td>\n",
       "      <td>2.000000</td>\n",
       "      <td>NaN</td>\n",
       "      <td>2.0</td>\n",
       "      <td>2.0</td>\n",
       "      <td>2.0</td>\n",
       "      <td>2.0</td>\n",
       "      <td>2.0</td>\n",
       "    </tr>\n",
       "  </tbody>\n",
       "</table>\n",
       "</div>"
      ],
      "text/plain": [
       "      count       mean        std   min   25%   50%   75%   max\n",
       "Year                                                           \n",
       "1958    2.0   0.000000   0.000000   0.0   0.0   0.0   0.0   0.0\n",
       "1960    4.0   0.000000   0.000000   0.0   0.0   0.0   0.0   0.0\n",
       "1961    3.0   7.333333   6.658328   0.0   4.5   9.0  11.0  13.0\n",
       "1962   20.0   7.250000  15.870778   0.0   0.0   0.0   0.0  56.0\n",
       "1963   66.0  10.045455  13.166895   0.0   0.0   0.0  20.5  45.0\n",
       "1964   41.0  16.243902  10.570668   0.0   9.0  16.0  22.0  42.0\n",
       "1965   37.0  13.162162   8.522889   0.0   9.0  12.0  18.0  34.0\n",
       "1966   19.0  12.368421   6.576140   5.0   7.5  10.0  15.5  27.0\n",
       "1967   27.0   9.629630   5.923539   0.0   6.0   8.0  13.0  25.0\n",
       "1968   45.0   8.933333   6.358244   0.0   7.0   9.0  11.0  28.0\n",
       "1969   43.0   7.883721   7.290598   0.0   0.0   7.0  12.0  28.0\n",
       "1970    1.0  10.000000        NaN  10.0  10.0  10.0  10.0  10.0\n",
       "1977    1.0   0.000000        NaN   0.0   0.0   0.0   0.0   0.0\n",
       "1980    1.0   2.000000        NaN   2.0   2.0   2.0   2.0   2.0"
      ]
     },
     "metadata": {},
     "output_type": "display_data"
    },
    {
     "data": {
      "text/html": [
       "<div>\n",
       "<style scoped>\n",
       "    .dataframe tbody tr th:only-of-type {\n",
       "        vertical-align: middle;\n",
       "    }\n",
       "\n",
       "    .dataframe tbody tr th {\n",
       "        vertical-align: top;\n",
       "    }\n",
       "\n",
       "    .dataframe thead tr th {\n",
       "        text-align: left;\n",
       "    }\n",
       "\n",
       "    .dataframe thead tr:last-of-type th {\n",
       "        text-align: right;\n",
       "    }\n",
       "</style>\n",
       "<table border=\"1\" class=\"dataframe\">\n",
       "  <thead>\n",
       "    <tr>\n",
       "      <th></th>\n",
       "      <th colspan=\"8\" halign=\"left\">Other.releases</th>\n",
       "      <th colspan=\"8\" halign=\"left\">Duration</th>\n",
       "    </tr>\n",
       "    <tr>\n",
       "      <th></th>\n",
       "      <th>count</th>\n",
       "      <th>mean</th>\n",
       "      <th>std</th>\n",
       "      <th>min</th>\n",
       "      <th>25%</th>\n",
       "      <th>50%</th>\n",
       "      <th>75%</th>\n",
       "      <th>max</th>\n",
       "      <th>count</th>\n",
       "      <th>mean</th>\n",
       "      <th>std</th>\n",
       "      <th>min</th>\n",
       "      <th>25%</th>\n",
       "      <th>50%</th>\n",
       "      <th>75%</th>\n",
       "      <th>max</th>\n",
       "    </tr>\n",
       "    <tr>\n",
       "      <th>Year</th>\n",
       "      <th></th>\n",
       "      <th></th>\n",
       "      <th></th>\n",
       "      <th></th>\n",
       "      <th></th>\n",
       "      <th></th>\n",
       "      <th></th>\n",
       "      <th></th>\n",
       "      <th></th>\n",
       "      <th></th>\n",
       "      <th></th>\n",
       "      <th></th>\n",
       "      <th></th>\n",
       "      <th></th>\n",
       "      <th></th>\n",
       "      <th></th>\n",
       "    </tr>\n",
       "  </thead>\n",
       "  <tbody>\n",
       "    <tr>\n",
       "      <th>1958</th>\n",
       "      <td>2.0</td>\n",
       "      <td>0.000000</td>\n",
       "      <td>0.000000</td>\n",
       "      <td>0.0</td>\n",
       "      <td>0.0</td>\n",
       "      <td>0.0</td>\n",
       "      <td>0.0</td>\n",
       "      <td>0.0</td>\n",
       "      <td>2.0</td>\n",
       "      <td>150.000000</td>\n",
       "      <td>19.798990</td>\n",
       "      <td>136.0</td>\n",
       "      <td>143.0</td>\n",
       "      <td>150.0</td>\n",
       "      <td>157.00</td>\n",
       "      <td>164.0</td>\n",
       "    </tr>\n",
       "    <tr>\n",
       "      <th>1960</th>\n",
       "      <td>4.0</td>\n",
       "      <td>0.000000</td>\n",
       "      <td>0.000000</td>\n",
       "      <td>0.0</td>\n",
       "      <td>0.0</td>\n",
       "      <td>0.0</td>\n",
       "      <td>0.0</td>\n",
       "      <td>0.0</td>\n",
       "      <td>4.0</td>\n",
       "      <td>136.750000</td>\n",
       "      <td>26.221810</td>\n",
       "      <td>98.0</td>\n",
       "      <td>132.5</td>\n",
       "      <td>147.0</td>\n",
       "      <td>151.25</td>\n",
       "      <td>155.0</td>\n",
       "    </tr>\n",
       "    <tr>\n",
       "      <th>1961</th>\n",
       "      <td>3.0</td>\n",
       "      <td>7.333333</td>\n",
       "      <td>6.658328</td>\n",
       "      <td>0.0</td>\n",
       "      <td>4.5</td>\n",
       "      <td>9.0</td>\n",
       "      <td>11.0</td>\n",
       "      <td>13.0</td>\n",
       "      <td>3.0</td>\n",
       "      <td>146.666667</td>\n",
       "      <td>5.773503</td>\n",
       "      <td>140.0</td>\n",
       "      <td>145.0</td>\n",
       "      <td>150.0</td>\n",
       "      <td>150.00</td>\n",
       "      <td>150.0</td>\n",
       "    </tr>\n",
       "    <tr>\n",
       "      <th>1962</th>\n",
       "      <td>20.0</td>\n",
       "      <td>7.250000</td>\n",
       "      <td>15.870778</td>\n",
       "      <td>0.0</td>\n",
       "      <td>0.0</td>\n",
       "      <td>0.0</td>\n",
       "      <td>0.0</td>\n",
       "      <td>56.0</td>\n",
       "      <td>20.0</td>\n",
       "      <td>140.900000</td>\n",
       "      <td>14.948684</td>\n",
       "      <td>105.0</td>\n",
       "      <td>127.5</td>\n",
       "      <td>150.0</td>\n",
       "      <td>150.00</td>\n",
       "      <td>156.0</td>\n",
       "    </tr>\n",
       "    <tr>\n",
       "      <th>1963</th>\n",
       "      <td>66.0</td>\n",
       "      <td>10.045455</td>\n",
       "      <td>13.166895</td>\n",
       "      <td>0.0</td>\n",
       "      <td>0.0</td>\n",
       "      <td>0.0</td>\n",
       "      <td>20.5</td>\n",
       "      <td>45.0</td>\n",
       "      <td>66.0</td>\n",
       "      <td>136.045455</td>\n",
       "      <td>22.645381</td>\n",
       "      <td>92.0</td>\n",
       "      <td>116.5</td>\n",
       "      <td>137.0</td>\n",
       "      <td>150.00</td>\n",
       "      <td>182.0</td>\n",
       "    </tr>\n",
       "    <tr>\n",
       "      <th>1964</th>\n",
       "      <td>41.0</td>\n",
       "      <td>16.243902</td>\n",
       "      <td>10.570668</td>\n",
       "      <td>0.0</td>\n",
       "      <td>9.0</td>\n",
       "      <td>16.0</td>\n",
       "      <td>22.0</td>\n",
       "      <td>42.0</td>\n",
       "      <td>41.0</td>\n",
       "      <td>144.048780</td>\n",
       "      <td>18.084456</td>\n",
       "      <td>106.0</td>\n",
       "      <td>130.0</td>\n",
       "      <td>145.0</td>\n",
       "      <td>155.00</td>\n",
       "      <td>183.0</td>\n",
       "    </tr>\n",
       "    <tr>\n",
       "      <th>1965</th>\n",
       "      <td>37.0</td>\n",
       "      <td>13.162162</td>\n",
       "      <td>8.522889</td>\n",
       "      <td>0.0</td>\n",
       "      <td>9.0</td>\n",
       "      <td>12.0</td>\n",
       "      <td>18.0</td>\n",
       "      <td>34.0</td>\n",
       "      <td>37.0</td>\n",
       "      <td>149.189189</td>\n",
       "      <td>18.255650</td>\n",
       "      <td>115.0</td>\n",
       "      <td>138.0</td>\n",
       "      <td>148.0</td>\n",
       "      <td>160.00</td>\n",
       "      <td>202.0</td>\n",
       "    </tr>\n",
       "    <tr>\n",
       "      <th>1966</th>\n",
       "      <td>19.0</td>\n",
       "      <td>12.368421</td>\n",
       "      <td>6.576140</td>\n",
       "      <td>5.0</td>\n",
       "      <td>7.5</td>\n",
       "      <td>10.0</td>\n",
       "      <td>15.5</td>\n",
       "      <td>27.0</td>\n",
       "      <td>19.0</td>\n",
       "      <td>157.473684</td>\n",
       "      <td>29.736563</td>\n",
       "      <td>121.0</td>\n",
       "      <td>136.5</td>\n",
       "      <td>157.0</td>\n",
       "      <td>178.50</td>\n",
       "      <td>245.0</td>\n",
       "    </tr>\n",
       "    <tr>\n",
       "      <th>1967</th>\n",
       "      <td>27.0</td>\n",
       "      <td>9.629630</td>\n",
       "      <td>5.923539</td>\n",
       "      <td>0.0</td>\n",
       "      <td>6.0</td>\n",
       "      <td>8.0</td>\n",
       "      <td>13.0</td>\n",
       "      <td>25.0</td>\n",
       "      <td>27.0</td>\n",
       "      <td>196.666667</td>\n",
       "      <td>68.833690</td>\n",
       "      <td>80.0</td>\n",
       "      <td>153.5</td>\n",
       "      <td>180.0</td>\n",
       "      <td>225.00</td>\n",
       "      <td>388.0</td>\n",
       "    </tr>\n",
       "    <tr>\n",
       "      <th>1968</th>\n",
       "      <td>45.0</td>\n",
       "      <td>8.933333</td>\n",
       "      <td>6.358244</td>\n",
       "      <td>0.0</td>\n",
       "      <td>7.0</td>\n",
       "      <td>9.0</td>\n",
       "      <td>11.0</td>\n",
       "      <td>28.0</td>\n",
       "      <td>45.0</td>\n",
       "      <td>194.511111</td>\n",
       "      <td>81.611224</td>\n",
       "      <td>52.0</td>\n",
       "      <td>148.0</td>\n",
       "      <td>183.0</td>\n",
       "      <td>226.00</td>\n",
       "      <td>502.0</td>\n",
       "    </tr>\n",
       "    <tr>\n",
       "      <th>1969</th>\n",
       "      <td>43.0</td>\n",
       "      <td>7.883721</td>\n",
       "      <td>7.290598</td>\n",
       "      <td>0.0</td>\n",
       "      <td>0.0</td>\n",
       "      <td>7.0</td>\n",
       "      <td>12.0</td>\n",
       "      <td>28.0</td>\n",
       "      <td>43.0</td>\n",
       "      <td>169.255814</td>\n",
       "      <td>73.975573</td>\n",
       "      <td>23.0</td>\n",
       "      <td>143.5</td>\n",
       "      <td>165.0</td>\n",
       "      <td>210.00</td>\n",
       "      <td>467.0</td>\n",
       "    </tr>\n",
       "    <tr>\n",
       "      <th>1970</th>\n",
       "      <td>1.0</td>\n",
       "      <td>10.000000</td>\n",
       "      <td>NaN</td>\n",
       "      <td>10.0</td>\n",
       "      <td>10.0</td>\n",
       "      <td>10.0</td>\n",
       "      <td>10.0</td>\n",
       "      <td>10.0</td>\n",
       "      <td>1.0</td>\n",
       "      <td>145.000000</td>\n",
       "      <td>NaN</td>\n",
       "      <td>145.0</td>\n",
       "      <td>145.0</td>\n",
       "      <td>145.0</td>\n",
       "      <td>145.00</td>\n",
       "      <td>145.0</td>\n",
       "    </tr>\n",
       "    <tr>\n",
       "      <th>1977</th>\n",
       "      <td>1.0</td>\n",
       "      <td>0.000000</td>\n",
       "      <td>NaN</td>\n",
       "      <td>0.0</td>\n",
       "      <td>0.0</td>\n",
       "      <td>0.0</td>\n",
       "      <td>0.0</td>\n",
       "      <td>0.0</td>\n",
       "      <td>1.0</td>\n",
       "      <td>266.000000</td>\n",
       "      <td>NaN</td>\n",
       "      <td>266.0</td>\n",
       "      <td>266.0</td>\n",
       "      <td>266.0</td>\n",
       "      <td>266.00</td>\n",
       "      <td>266.0</td>\n",
       "    </tr>\n",
       "    <tr>\n",
       "      <th>1980</th>\n",
       "      <td>1.0</td>\n",
       "      <td>2.000000</td>\n",
       "      <td>NaN</td>\n",
       "      <td>2.0</td>\n",
       "      <td>2.0</td>\n",
       "      <td>2.0</td>\n",
       "      <td>2.0</td>\n",
       "      <td>2.0</td>\n",
       "      <td>1.0</td>\n",
       "      <td>236.000000</td>\n",
       "      <td>NaN</td>\n",
       "      <td>236.0</td>\n",
       "      <td>236.0</td>\n",
       "      <td>236.0</td>\n",
       "      <td>236.00</td>\n",
       "      <td>236.0</td>\n",
       "    </tr>\n",
       "  </tbody>\n",
       "</table>\n",
       "</div>"
      ],
      "text/plain": [
       "     Other.releases                                                      \\\n",
       "              count       mean        std   min   25%   50%   75%   max   \n",
       "Year                                                                      \n",
       "1958            2.0   0.000000   0.000000   0.0   0.0   0.0   0.0   0.0   \n",
       "1960            4.0   0.000000   0.000000   0.0   0.0   0.0   0.0   0.0   \n",
       "1961            3.0   7.333333   6.658328   0.0   4.5   9.0  11.0  13.0   \n",
       "1962           20.0   7.250000  15.870778   0.0   0.0   0.0   0.0  56.0   \n",
       "1963           66.0  10.045455  13.166895   0.0   0.0   0.0  20.5  45.0   \n",
       "1964           41.0  16.243902  10.570668   0.0   9.0  16.0  22.0  42.0   \n",
       "1965           37.0  13.162162   8.522889   0.0   9.0  12.0  18.0  34.0   \n",
       "1966           19.0  12.368421   6.576140   5.0   7.5  10.0  15.5  27.0   \n",
       "1967           27.0   9.629630   5.923539   0.0   6.0   8.0  13.0  25.0   \n",
       "1968           45.0   8.933333   6.358244   0.0   7.0   9.0  11.0  28.0   \n",
       "1969           43.0   7.883721   7.290598   0.0   0.0   7.0  12.0  28.0   \n",
       "1970            1.0  10.000000        NaN  10.0  10.0  10.0  10.0  10.0   \n",
       "1977            1.0   0.000000        NaN   0.0   0.0   0.0   0.0   0.0   \n",
       "1980            1.0   2.000000        NaN   2.0   2.0   2.0   2.0   2.0   \n",
       "\n",
       "     Duration                                                             \n",
       "        count        mean        std    min    25%    50%     75%    max  \n",
       "Year                                                                      \n",
       "1958      2.0  150.000000  19.798990  136.0  143.0  150.0  157.00  164.0  \n",
       "1960      4.0  136.750000  26.221810   98.0  132.5  147.0  151.25  155.0  \n",
       "1961      3.0  146.666667   5.773503  140.0  145.0  150.0  150.00  150.0  \n",
       "1962     20.0  140.900000  14.948684  105.0  127.5  150.0  150.00  156.0  \n",
       "1963     66.0  136.045455  22.645381   92.0  116.5  137.0  150.00  182.0  \n",
       "1964     41.0  144.048780  18.084456  106.0  130.0  145.0  155.00  183.0  \n",
       "1965     37.0  149.189189  18.255650  115.0  138.0  148.0  160.00  202.0  \n",
       "1966     19.0  157.473684  29.736563  121.0  136.5  157.0  178.50  245.0  \n",
       "1967     27.0  196.666667  68.833690   80.0  153.5  180.0  225.00  388.0  \n",
       "1968     45.0  194.511111  81.611224   52.0  148.0  183.0  226.00  502.0  \n",
       "1969     43.0  169.255814  73.975573   23.0  143.5  165.0  210.00  467.0  \n",
       "1970      1.0  145.000000        NaN  145.0  145.0  145.0  145.00  145.0  \n",
       "1977      1.0  266.000000        NaN  266.0  266.0  266.0  266.00  266.0  \n",
       "1980      1.0  236.000000        NaN  236.0  236.0  236.0  236.00  236.0  "
      ]
     },
     "metadata": {},
     "output_type": "display_data"
    }
   ],
   "source": [
    "display(songs.groupby('Year')['Other.releases'].describe())\n",
    "display(songs.groupby('Year')[['Other.releases', 'Duration']].describe())"
   ]
  },
  {
   "cell_type": "markdown",
   "metadata": {
    "pycharm": {
     "name": "#%% md\n"
    }
   },
   "source": [
    "#### Aggregate, filter, transform, apply\n",
    "\n",
    "`GroupBy` objects have `aggregate()`, `filter()`, `transform()`, and `apply()` methods that efficiently implement a variety of useful operations *before* combining the grouped data."
   ]
  },
  {
   "cell_type": "markdown",
   "metadata": {
    "pycharm": {
     "name": "#%% md\n"
    }
   },
   "source": [
    "Read the dataset:"
   ]
  },
  {
   "cell_type": "code",
   "execution_count": 4,
   "metadata": {
    "pycharm": {
     "name": "#%%\n"
    }
   },
   "outputs": [],
   "source": [
    "songs = pd.read_csv('data/The Beatles songs dataset, v2, no NAs.csv')"
   ]
  },
  {
   "cell_type": "markdown",
   "metadata": {
    "pycharm": {
     "name": "#%% md\n"
    }
   },
   "source": [
    "##### aggregate()\n",
    "It can take a string, a function, or a list thereof, and compute all the aggregates at once. It can also take a dictionary specifying the aggregates to compute on specific columns:"
   ]
  },
  {
   "cell_type": "code",
   "execution_count": 13,
   "metadata": {
    "scrolled": true,
    "pycharm": {
     "name": "#%%\n"
    }
   },
   "outputs": [
    {
     "data": {
      "text/html": [
       "<div>\n",
       "<style scoped>\n",
       "    .dataframe tbody tr th:only-of-type {\n",
       "        vertical-align: middle;\n",
       "    }\n",
       "\n",
       "    .dataframe tbody tr th {\n",
       "        vertical-align: top;\n",
       "    }\n",
       "\n",
       "    .dataframe thead tr th {\n",
       "        text-align: left;\n",
       "    }\n",
       "\n",
       "    .dataframe thead tr:last-of-type th {\n",
       "        text-align: right;\n",
       "    }\n",
       "</style>\n",
       "<table border=\"1\" class=\"dataframe\">\n",
       "  <thead>\n",
       "    <tr>\n",
       "      <th></th>\n",
       "      <th colspan=\"2\" halign=\"left\">Other.releases</th>\n",
       "      <th colspan=\"2\" halign=\"left\">Duration</th>\n",
       "    </tr>\n",
       "    <tr>\n",
       "      <th></th>\n",
       "      <th>min</th>\n",
       "      <th>median</th>\n",
       "      <th>min</th>\n",
       "      <th>median</th>\n",
       "    </tr>\n",
       "    <tr>\n",
       "      <th>Year</th>\n",
       "      <th></th>\n",
       "      <th></th>\n",
       "      <th></th>\n",
       "      <th></th>\n",
       "    </tr>\n",
       "  </thead>\n",
       "  <tbody>\n",
       "    <tr>\n",
       "      <th>1958</th>\n",
       "      <td>0</td>\n",
       "      <td>0</td>\n",
       "      <td>136</td>\n",
       "      <td>150</td>\n",
       "    </tr>\n",
       "    <tr>\n",
       "      <th>1960</th>\n",
       "      <td>0</td>\n",
       "      <td>0</td>\n",
       "      <td>98</td>\n",
       "      <td>147</td>\n",
       "    </tr>\n",
       "    <tr>\n",
       "      <th>1961</th>\n",
       "      <td>0</td>\n",
       "      <td>9</td>\n",
       "      <td>140</td>\n",
       "      <td>150</td>\n",
       "    </tr>\n",
       "    <tr>\n",
       "      <th>1962</th>\n",
       "      <td>0</td>\n",
       "      <td>0</td>\n",
       "      <td>105</td>\n",
       "      <td>150</td>\n",
       "    </tr>\n",
       "    <tr>\n",
       "      <th>1963</th>\n",
       "      <td>0</td>\n",
       "      <td>0</td>\n",
       "      <td>92</td>\n",
       "      <td>137</td>\n",
       "    </tr>\n",
       "    <tr>\n",
       "      <th>1964</th>\n",
       "      <td>0</td>\n",
       "      <td>16</td>\n",
       "      <td>106</td>\n",
       "      <td>145</td>\n",
       "    </tr>\n",
       "    <tr>\n",
       "      <th>1965</th>\n",
       "      <td>0</td>\n",
       "      <td>12</td>\n",
       "      <td>115</td>\n",
       "      <td>148</td>\n",
       "    </tr>\n",
       "    <tr>\n",
       "      <th>1966</th>\n",
       "      <td>5</td>\n",
       "      <td>10</td>\n",
       "      <td>121</td>\n",
       "      <td>157</td>\n",
       "    </tr>\n",
       "    <tr>\n",
       "      <th>1967</th>\n",
       "      <td>0</td>\n",
       "      <td>8</td>\n",
       "      <td>80</td>\n",
       "      <td>180</td>\n",
       "    </tr>\n",
       "    <tr>\n",
       "      <th>1968</th>\n",
       "      <td>0</td>\n",
       "      <td>9</td>\n",
       "      <td>52</td>\n",
       "      <td>183</td>\n",
       "    </tr>\n",
       "    <tr>\n",
       "      <th>1969</th>\n",
       "      <td>0</td>\n",
       "      <td>7</td>\n",
       "      <td>23</td>\n",
       "      <td>165</td>\n",
       "    </tr>\n",
       "    <tr>\n",
       "      <th>1970</th>\n",
       "      <td>10</td>\n",
       "      <td>10</td>\n",
       "      <td>145</td>\n",
       "      <td>145</td>\n",
       "    </tr>\n",
       "    <tr>\n",
       "      <th>1977</th>\n",
       "      <td>0</td>\n",
       "      <td>0</td>\n",
       "      <td>266</td>\n",
       "      <td>266</td>\n",
       "    </tr>\n",
       "    <tr>\n",
       "      <th>1980</th>\n",
       "      <td>2</td>\n",
       "      <td>2</td>\n",
       "      <td>236</td>\n",
       "      <td>236</td>\n",
       "    </tr>\n",
       "  </tbody>\n",
       "</table>\n",
       "</div>"
      ],
      "text/plain": [
       "     Other.releases        Duration       \n",
       "                min median      min median\n",
       "Year                                      \n",
       "1958              0      0      136    150\n",
       "1960              0      0       98    147\n",
       "1961              0      9      140    150\n",
       "1962              0      0      105    150\n",
       "1963              0      0       92    137\n",
       "1964              0     16      106    145\n",
       "1965              0     12      115    148\n",
       "1966              5     10      121    157\n",
       "1967              0      8       80    180\n",
       "1968              0      9       52    183\n",
       "1969              0      7       23    165\n",
       "1970             10     10      145    145\n",
       "1977              0      0      266    266\n",
       "1980              2      2      236    236"
      ]
     },
     "metadata": {},
     "output_type": "display_data"
    },
    {
     "data": {
      "text/html": [
       "<div>\n",
       "<style scoped>\n",
       "    .dataframe tbody tr th:only-of-type {\n",
       "        vertical-align: middle;\n",
       "    }\n",
       "\n",
       "    .dataframe tbody tr th {\n",
       "        vertical-align: top;\n",
       "    }\n",
       "\n",
       "    .dataframe thead th {\n",
       "        text-align: right;\n",
       "    }\n",
       "</style>\n",
       "<table border=\"1\" class=\"dataframe\">\n",
       "  <thead>\n",
       "    <tr style=\"text-align: right;\">\n",
       "      <th></th>\n",
       "      <th>Other.releases</th>\n",
       "      <th>Duration</th>\n",
       "    </tr>\n",
       "    <tr>\n",
       "      <th>Year</th>\n",
       "      <th></th>\n",
       "      <th></th>\n",
       "    </tr>\n",
       "  </thead>\n",
       "  <tbody>\n",
       "    <tr>\n",
       "      <th>1958</th>\n",
       "      <td>0</td>\n",
       "      <td>164</td>\n",
       "    </tr>\n",
       "    <tr>\n",
       "      <th>1960</th>\n",
       "      <td>0</td>\n",
       "      <td>155</td>\n",
       "    </tr>\n",
       "    <tr>\n",
       "      <th>1961</th>\n",
       "      <td>9</td>\n",
       "      <td>150</td>\n",
       "    </tr>\n",
       "    <tr>\n",
       "      <th>1962</th>\n",
       "      <td>0</td>\n",
       "      <td>156</td>\n",
       "    </tr>\n",
       "    <tr>\n",
       "      <th>1963</th>\n",
       "      <td>0</td>\n",
       "      <td>182</td>\n",
       "    </tr>\n",
       "    <tr>\n",
       "      <th>1964</th>\n",
       "      <td>16</td>\n",
       "      <td>183</td>\n",
       "    </tr>\n",
       "    <tr>\n",
       "      <th>1965</th>\n",
       "      <td>12</td>\n",
       "      <td>202</td>\n",
       "    </tr>\n",
       "    <tr>\n",
       "      <th>1966</th>\n",
       "      <td>10</td>\n",
       "      <td>245</td>\n",
       "    </tr>\n",
       "    <tr>\n",
       "      <th>1967</th>\n",
       "      <td>8</td>\n",
       "      <td>388</td>\n",
       "    </tr>\n",
       "    <tr>\n",
       "      <th>1968</th>\n",
       "      <td>9</td>\n",
       "      <td>502</td>\n",
       "    </tr>\n",
       "    <tr>\n",
       "      <th>1969</th>\n",
       "      <td>7</td>\n",
       "      <td>467</td>\n",
       "    </tr>\n",
       "    <tr>\n",
       "      <th>1970</th>\n",
       "      <td>10</td>\n",
       "      <td>145</td>\n",
       "    </tr>\n",
       "    <tr>\n",
       "      <th>1977</th>\n",
       "      <td>0</td>\n",
       "      <td>266</td>\n",
       "    </tr>\n",
       "    <tr>\n",
       "      <th>1980</th>\n",
       "      <td>2</td>\n",
       "      <td>236</td>\n",
       "    </tr>\n",
       "  </tbody>\n",
       "</table>\n",
       "</div>"
      ],
      "text/plain": [
       "      Other.releases  Duration\n",
       "Year                          \n",
       "1958               0       164\n",
       "1960               0       155\n",
       "1961               9       150\n",
       "1962               0       156\n",
       "1963               0       182\n",
       "1964              16       183\n",
       "1965              12       202\n",
       "1966              10       245\n",
       "1967               8       388\n",
       "1968               9       502\n",
       "1969               7       467\n",
       "1970              10       145\n",
       "1977               0       266\n",
       "1980               2       236"
      ]
     },
     "metadata": {},
     "output_type": "display_data"
    }
   ],
   "source": [
    "display(songs.groupby('Year')[['Other.releases', 'Duration']].aggregate(['min', np.median]))\n",
    "display(songs.groupby('Year')[['Other.releases', 'Duration']].aggregate({'Other.releases': 'median',\n",
    "                                                                         'Duration': 'max'}))"
   ]
  },
  {
   "cell_type": "markdown",
   "metadata": {
    "pycharm": {
     "name": "#%% md\n"
    }
   },
   "source": [
    "##### filter()\n",
    "Drop groups based on a specific Boolean filter function."
   ]
  },
  {
   "cell_type": "code",
   "execution_count": 18,
   "metadata": {
    "pycharm": {
     "name": "#%%\n"
    }
   },
   "outputs": [
    {
     "data": {
      "text/html": [
       "<div>\n",
       "<style scoped>\n",
       "    .dataframe tbody tr th:only-of-type {\n",
       "        vertical-align: middle;\n",
       "    }\n",
       "\n",
       "    .dataframe tbody tr th {\n",
       "        vertical-align: top;\n",
       "    }\n",
       "\n",
       "    .dataframe thead th {\n",
       "        text-align: right;\n",
       "    }\n",
       "</style>\n",
       "<table border=\"1\" class=\"dataframe\">\n",
       "  <thead>\n",
       "    <tr style=\"text-align: right;\">\n",
       "      <th></th>\n",
       "      <th>Title</th>\n",
       "      <th>Year</th>\n",
       "      <th>Album.debut</th>\n",
       "      <th>Duration</th>\n",
       "      <th>Other.releases</th>\n",
       "      <th>Genre</th>\n",
       "      <th>Songwriter</th>\n",
       "      <th>Lead.vocal</th>\n",
       "      <th>Top.50.Billboard</th>\n",
       "    </tr>\n",
       "  </thead>\n",
       "  <tbody>\n",
       "    <tr>\n",
       "      <th>5</th>\n",
       "      <td>Across the Universe</td>\n",
       "      <td>1968</td>\n",
       "      <td>Let It Be</td>\n",
       "      <td>230</td>\n",
       "      <td>19</td>\n",
       "      <td>Psychedelic folk, Pop/Rock</td>\n",
       "      <td>Lennon</td>\n",
       "      <td>Lennon</td>\n",
       "      <td>-1</td>\n",
       "    </tr>\n",
       "    <tr>\n",
       "      <th>22</th>\n",
       "      <td>Back in the U.S.S.R.</td>\n",
       "      <td>1968</td>\n",
       "      <td>The Beatles</td>\n",
       "      <td>163</td>\n",
       "      <td>13</td>\n",
       "      <td>Rock and Roll, Hard Rock, Pop/Rock</td>\n",
       "      <td>McCartney</td>\n",
       "      <td>McCartney</td>\n",
       "      <td>-1</td>\n",
       "    </tr>\n",
       "    <tr>\n",
       "      <th>29</th>\n",
       "      <td>Birthday</td>\n",
       "      <td>1968</td>\n",
       "      <td>The Beatles</td>\n",
       "      <td>162</td>\n",
       "      <td>11</td>\n",
       "      <td>Hard Rock, Rock and Roll, Pop/Rock</td>\n",
       "      <td>McCartney, with Lennon</td>\n",
       "      <td>McCartney, with Lennon</td>\n",
       "      <td>-1</td>\n",
       "    </tr>\n",
       "    <tr>\n",
       "      <th>30</th>\n",
       "      <td>Blackbird</td>\n",
       "      <td>1968</td>\n",
       "      <td>The Beatles</td>\n",
       "      <td>139</td>\n",
       "      <td>12</td>\n",
       "      <td>Folk, Pop/Rock</td>\n",
       "      <td>McCartney</td>\n",
       "      <td>McCartney</td>\n",
       "      <td>-1</td>\n",
       "    </tr>\n",
       "    <tr>\n",
       "      <th>40</th>\n",
       "      <td>Child of Nature</td>\n",
       "      <td>1968</td>\n",
       "      <td>Let It Be... Naked - Fly on the Wall bonus disc</td>\n",
       "      <td>254</td>\n",
       "      <td>0</td>\n",
       "      <td>Soft Rock, Pop/Rock</td>\n",
       "      <td>Lennon</td>\n",
       "      <td>Lennon</td>\n",
       "      <td>-1</td>\n",
       "    </tr>\n",
       "    <tr>\n",
       "      <th>42</th>\n",
       "      <td>Circles</td>\n",
       "      <td>1968</td>\n",
       "      <td>NaN</td>\n",
       "      <td>226</td>\n",
       "      <td>0</td>\n",
       "      <td>Hindustani Blues, Pop/Rock</td>\n",
       "      <td>Harrison</td>\n",
       "      <td>Harrison</td>\n",
       "      <td>-1</td>\n",
       "    </tr>\n",
       "    <tr>\n",
       "      <th>46</th>\n",
       "      <td>Cry Baby Cry</td>\n",
       "      <td>1968</td>\n",
       "      <td>The Beatles</td>\n",
       "      <td>183</td>\n",
       "      <td>10</td>\n",
       "      <td>Pop/Rock</td>\n",
       "      <td>Lennon</td>\n",
       "      <td>Lennon, with McCartney</td>\n",
       "      <td>-1</td>\n",
       "    </tr>\n",
       "    <tr>\n",
       "      <th>50</th>\n",
       "      <td>Dear Prudence</td>\n",
       "      <td>1968</td>\n",
       "      <td>The Beatles</td>\n",
       "      <td>236</td>\n",
       "      <td>9</td>\n",
       "      <td>Rock, Pop/Rock</td>\n",
       "      <td>Lennon</td>\n",
       "      <td>Lennon</td>\n",
       "      <td>-1</td>\n",
       "    </tr>\n",
       "    <tr>\n",
       "      <th>60</th>\n",
       "      <td>Don't Pass Me By</td>\n",
       "      <td>1968</td>\n",
       "      <td>The Beatles</td>\n",
       "      <td>231</td>\n",
       "      <td>11</td>\n",
       "      <td>Country Rock, Pop/Rock</td>\n",
       "      <td>Starkey</td>\n",
       "      <td>Starkey</td>\n",
       "      <td>-1</td>\n",
       "    </tr>\n",
       "    <tr>\n",
       "      <th>64</th>\n",
       "      <td>Etcetera</td>\n",
       "      <td>1968</td>\n",
       "      <td>NaN</td>\n",
       "      <td>150</td>\n",
       "      <td>0</td>\n",
       "      <td>Pop/Rock</td>\n",
       "      <td>McCartney</td>\n",
       "      <td>McCartney</td>\n",
       "      <td>-1</td>\n",
       "    </tr>\n",
       "    <tr>\n",
       "      <th>66</th>\n",
       "      <td>Everybody's Got Something to Hide Except Me an...</td>\n",
       "      <td>1968</td>\n",
       "      <td>The Beatles</td>\n",
       "      <td>144</td>\n",
       "      <td>10</td>\n",
       "      <td>Hard Rock, Pop/Rock</td>\n",
       "      <td>Lennon</td>\n",
       "      <td>Lennon</td>\n",
       "      <td>-1</td>\n",
       "    </tr>\n",
       "    <tr>\n",
       "      <th>80</th>\n",
       "      <td>Glass Onion</td>\n",
       "      <td>1968</td>\n",
       "      <td>The Beatles</td>\n",
       "      <td>137</td>\n",
       "      <td>8</td>\n",
       "      <td>Psychedelic Rock, Pop/Rock</td>\n",
       "      <td>Lennon</td>\n",
       "      <td>Lennon</td>\n",
       "      <td>-1</td>\n",
       "    </tr>\n",
       "    <tr>\n",
       "      <th>84</th>\n",
       "      <td>Good Night</td>\n",
       "      <td>1968</td>\n",
       "      <td>The Beatles</td>\n",
       "      <td>191</td>\n",
       "      <td>8</td>\n",
       "      <td>Orchestral Pop, Lullaby, Pop/Rock</td>\n",
       "      <td>Lennon</td>\n",
       "      <td>Starkey</td>\n",
       "      <td>-1</td>\n",
       "    </tr>\n",
       "    <tr>\n",
       "      <th>88</th>\n",
       "      <td>Happiness Is a Warm Gun</td>\n",
       "      <td>1968</td>\n",
       "      <td>The Beatles</td>\n",
       "      <td>163</td>\n",
       "      <td>7</td>\n",
       "      <td>Pop/Rock</td>\n",
       "      <td>Lennon</td>\n",
       "      <td>Lennon</td>\n",
       "      <td>-1</td>\n",
       "    </tr>\n",
       "    <tr>\n",
       "      <th>89</th>\n",
       "      <td>Heather</td>\n",
       "      <td>1968</td>\n",
       "      <td>NaN</td>\n",
       "      <td>130</td>\n",
       "      <td>0</td>\n",
       "      <td>Rock, Pop/Rock</td>\n",
       "      <td>McCartney</td>\n",
       "      <td>McCartney</td>\n",
       "      <td>-1</td>\n",
       "    </tr>\n",
       "    <tr>\n",
       "      <th>93</th>\n",
       "      <td>Helter Skelter</td>\n",
       "      <td>1968</td>\n",
       "      <td>The Beatles</td>\n",
       "      <td>270</td>\n",
       "      <td>13</td>\n",
       "      <td>Hard Rock, Heavy Metal[, Proto-Punk, Pop/Rock</td>\n",
       "      <td>McCartney</td>\n",
       "      <td>McCartney</td>\n",
       "      <td>-1</td>\n",
       "    </tr>\n",
       "    <tr>\n",
       "      <th>97</th>\n",
       "      <td>Hey Bulldog</td>\n",
       "      <td>1968</td>\n",
       "      <td>Yellow Submarine</td>\n",
       "      <td>194</td>\n",
       "      <td>12</td>\n",
       "      <td>Psychedelic Rock, Hard Rock, Pop/Rock</td>\n",
       "      <td>Lennon</td>\n",
       "      <td>Lennon</td>\n",
       "      <td>-1</td>\n",
       "    </tr>\n",
       "    <tr>\n",
       "      <th>98</th>\n",
       "      <td>Hey Jude</td>\n",
       "      <td>1968</td>\n",
       "      <td>UK: 1967-1970 US: Hey Jude</td>\n",
       "      <td>431</td>\n",
       "      <td>28</td>\n",
       "      <td>Rock, Pop/Rock</td>\n",
       "      <td>McCartney</td>\n",
       "      <td>McCartney</td>\n",
       "      <td>1</td>\n",
       "    </tr>\n",
       "    <tr>\n",
       "      <th>102</th>\n",
       "      <td>Honey Pie</td>\n",
       "      <td>1968</td>\n",
       "      <td>The Beatles</td>\n",
       "      <td>161</td>\n",
       "      <td>8</td>\n",
       "      <td>Music Hall, Jazz, Ragtime, Pop/Rock</td>\n",
       "      <td>McCartney</td>\n",
       "      <td>McCartney</td>\n",
       "      <td>-1</td>\n",
       "    </tr>\n",
       "    <tr>\n",
       "      <th>121</th>\n",
       "      <td>I Will</td>\n",
       "      <td>1968</td>\n",
       "      <td>The Beatles</td>\n",
       "      <td>106</td>\n",
       "      <td>8</td>\n",
       "      <td>Folk, Pop/Rock</td>\n",
       "      <td>McCartney</td>\n",
       "      <td>McCartney</td>\n",
       "      <td>-1</td>\n",
       "    </tr>\n",
       "    <tr>\n",
       "      <th>135</th>\n",
       "      <td>I'm So Tired</td>\n",
       "      <td>1968</td>\n",
       "      <td>The Beatles</td>\n",
       "      <td>123</td>\n",
       "      <td>11</td>\n",
       "      <td>Blues Rock, Pop/Rock</td>\n",
       "      <td>Lennon</td>\n",
       "      <td>Lennon</td>\n",
       "      <td>-1</td>\n",
       "    </tr>\n",
       "    <tr>\n",
       "      <th>151</th>\n",
       "      <td>Julia</td>\n",
       "      <td>1968</td>\n",
       "      <td>The Beatles</td>\n",
       "      <td>174</td>\n",
       "      <td>10</td>\n",
       "      <td>Folk, Pop/Rock</td>\n",
       "      <td>Lennon</td>\n",
       "      <td>Lennon</td>\n",
       "      <td>-1</td>\n",
       "    </tr>\n",
       "    <tr>\n",
       "      <th>152</th>\n",
       "      <td>Junk</td>\n",
       "      <td>1968</td>\n",
       "      <td>Anthology 3</td>\n",
       "      <td>114</td>\n",
       "      <td>0</td>\n",
       "      <td>Folk, Pop/Rock</td>\n",
       "      <td>McCartney</td>\n",
       "      <td>McCartney</td>\n",
       "      <td>-1</td>\n",
       "    </tr>\n",
       "    <tr>\n",
       "      <th>156</th>\n",
       "      <td>Lady Madonna</td>\n",
       "      <td>1968</td>\n",
       "      <td>UK: 1967-1970 US: Hey Jude</td>\n",
       "      <td>136</td>\n",
       "      <td>21</td>\n",
       "      <td>Rock and Roll, Pop/Rock</td>\n",
       "      <td>McCartney, with Lennon</td>\n",
       "      <td>McCartney</td>\n",
       "      <td>22</td>\n",
       "    </tr>\n",
       "    <tr>\n",
       "      <th>164</th>\n",
       "      <td>Long, Long, Long</td>\n",
       "      <td>1968</td>\n",
       "      <td>The Beatles</td>\n",
       "      <td>184</td>\n",
       "      <td>6</td>\n",
       "      <td>Psychedelic Folk, Pop/Rock</td>\n",
       "      <td>Harrison</td>\n",
       "      <td>Harrison</td>\n",
       "      <td>-1</td>\n",
       "    </tr>\n",
       "    <tr>\n",
       "      <th>176</th>\n",
       "      <td>Martha My Dear</td>\n",
       "      <td>1968</td>\n",
       "      <td>The Beatles</td>\n",
       "      <td>148</td>\n",
       "      <td>6</td>\n",
       "      <td>Music Hall, Pop/Rock</td>\n",
       "      <td>McCartney</td>\n",
       "      <td>McCartney</td>\n",
       "      <td>-1</td>\n",
       "    </tr>\n",
       "    <tr>\n",
       "      <th>185</th>\n",
       "      <td>Mother Nature's Son</td>\n",
       "      <td>1968</td>\n",
       "      <td>The Beatles</td>\n",
       "      <td>168</td>\n",
       "      <td>10</td>\n",
       "      <td>Folk, Pop/Rock</td>\n",
       "      <td>McCartney</td>\n",
       "      <td>McCartney</td>\n",
       "      <td>-1</td>\n",
       "    </tr>\n",
       "    <tr>\n",
       "      <th>191</th>\n",
       "      <td>Not Guilty</td>\n",
       "      <td>1968</td>\n",
       "      <td>Anthology 3</td>\n",
       "      <td>215</td>\n",
       "      <td>0</td>\n",
       "      <td>Jazz-Pop, Pop/Rock</td>\n",
       "      <td>Harrison</td>\n",
       "      <td>Harrison</td>\n",
       "      <td>-1</td>\n",
       "    </tr>\n",
       "    <tr>\n",
       "      <th>194</th>\n",
       "      <td>Ob-La-Di, Ob-La-Da</td>\n",
       "      <td>1968</td>\n",
       "      <td>The Beatles</td>\n",
       "      <td>187</td>\n",
       "      <td>16</td>\n",
       "      <td>Ska, Pop/Rock</td>\n",
       "      <td>McCartney</td>\n",
       "      <td>McCartney</td>\n",
       "      <td>-1</td>\n",
       "    </tr>\n",
       "    <tr>\n",
       "      <th>205</th>\n",
       "      <td>Piggies</td>\n",
       "      <td>1968</td>\n",
       "      <td>The Beatles</td>\n",
       "      <td>124</td>\n",
       "      <td>9</td>\n",
       "      <td>Baroque Pop, Folk, Pop/Rock</td>\n",
       "      <td>Harrison</td>\n",
       "      <td>Harrison</td>\n",
       "      <td>-1</td>\n",
       "    </tr>\n",
       "    <tr>\n",
       "      <th>211</th>\n",
       "      <td>Revolution 1</td>\n",
       "      <td>1968</td>\n",
       "      <td>The Beatles</td>\n",
       "      <td>201</td>\n",
       "      <td>7</td>\n",
       "      <td>Hard rock, Pop/Rock</td>\n",
       "      <td>Lennon</td>\n",
       "      <td>Lennon</td>\n",
       "      <td>-1</td>\n",
       "    </tr>\n",
       "    <tr>\n",
       "      <th>212</th>\n",
       "      <td>Revolution 9</td>\n",
       "      <td>1968</td>\n",
       "      <td>The Beatles</td>\n",
       "      <td>502</td>\n",
       "      <td>7</td>\n",
       "      <td>Avant-Garde, Musique Concrete, Experimental, S...</td>\n",
       "      <td>Lennon, with Ono and Harrison</td>\n",
       "      <td>NaN</td>\n",
       "      <td>-1</td>\n",
       "    </tr>\n",
       "    <tr>\n",
       "      <th>213</th>\n",
       "      <td>Revolution</td>\n",
       "      <td>1968</td>\n",
       "      <td>UK: 1967-1970 US: Hey Jude</td>\n",
       "      <td>201</td>\n",
       "      <td>23</td>\n",
       "      <td>Hard rock, Pop/Rock</td>\n",
       "      <td>Lennon</td>\n",
       "      <td>Lennon</td>\n",
       "      <td>32</td>\n",
       "    </tr>\n",
       "    <tr>\n",
       "      <th>216</th>\n",
       "      <td>Rocky Raccoon</td>\n",
       "      <td>1968</td>\n",
       "      <td>The Beatles</td>\n",
       "      <td>213</td>\n",
       "      <td>9</td>\n",
       "      <td>Country, Folk Rock, Pop/Rock</td>\n",
       "      <td>McCartney, with Lennon</td>\n",
       "      <td>McCartney</td>\n",
       "      <td>-1</td>\n",
       "    </tr>\n",
       "    <tr>\n",
       "      <th>219</th>\n",
       "      <td>Savoy Truffle</td>\n",
       "      <td>1968</td>\n",
       "      <td>The Beatles</td>\n",
       "      <td>174</td>\n",
       "      <td>7</td>\n",
       "      <td>Soul, Blues Rock, Hard Rock, Pop/Rock</td>\n",
       "      <td>Harrison</td>\n",
       "      <td>Harrison</td>\n",
       "      <td>-1</td>\n",
       "    </tr>\n",
       "    <tr>\n",
       "      <th>222</th>\n",
       "      <td>Sexy Sadie</td>\n",
       "      <td>1968</td>\n",
       "      <td>The Beatles</td>\n",
       "      <td>195</td>\n",
       "      <td>11</td>\n",
       "      <td>Pop/Rock</td>\n",
       "      <td>Lennon</td>\n",
       "      <td>Lennon</td>\n",
       "      <td>-1</td>\n",
       "    </tr>\n",
       "    <tr>\n",
       "      <th>238</th>\n",
       "      <td>Sour Milk Sea</td>\n",
       "      <td>1968</td>\n",
       "      <td>NaN</td>\n",
       "      <td>236</td>\n",
       "      <td>0</td>\n",
       "      <td>Hard Rock, Psychedelic Rock, Pop/Rock</td>\n",
       "      <td>Harrison</td>\n",
       "      <td>Harrison</td>\n",
       "      <td>-1</td>\n",
       "    </tr>\n",
       "    <tr>\n",
       "      <th>239</th>\n",
       "      <td>Step Inside Love/Los Paranoias</td>\n",
       "      <td>1968</td>\n",
       "      <td>Anthology 3</td>\n",
       "      <td>150</td>\n",
       "      <td>0</td>\n",
       "      <td>Folk Rock, Pop/Rock</td>\n",
       "      <td>McCartney (Step Inside Love); Lennon, McCartne...</td>\n",
       "      <td>McCartney</td>\n",
       "      <td>-1</td>\n",
       "    </tr>\n",
       "    <tr>\n",
       "      <th>255</th>\n",
       "      <td>The Continuing Story of Bungalow Bill</td>\n",
       "      <td>1968</td>\n",
       "      <td>The Beatles</td>\n",
       "      <td>198</td>\n",
       "      <td>8</td>\n",
       "      <td>Folk Rock, Pop/Rock</td>\n",
       "      <td>Lennon</td>\n",
       "      <td>Lennon, with Starkey</td>\n",
       "      <td>-1</td>\n",
       "    </tr>\n",
       "    <tr>\n",
       "      <th>259</th>\n",
       "      <td>The Inner Light</td>\n",
       "      <td>1968</td>\n",
       "      <td>UK: Rarities US: Rarities</td>\n",
       "      <td>156</td>\n",
       "      <td>10</td>\n",
       "      <td>Indian Music, Raga Rock, Pop/Rock</td>\n",
       "      <td>Harrison</td>\n",
       "      <td>Harrison</td>\n",
       "      <td>-1</td>\n",
       "    </tr>\n",
       "    <tr>\n",
       "      <th>283</th>\n",
       "      <td>What's The New Mary Jane</td>\n",
       "      <td>1968</td>\n",
       "      <td>Anthology 3</td>\n",
       "      <td>372</td>\n",
       "      <td>0</td>\n",
       "      <td>Psychedelic Rock, Musique Concrete, Experiment...</td>\n",
       "      <td>Lennon</td>\n",
       "      <td>Lennon</td>\n",
       "      <td>-1</td>\n",
       "    </tr>\n",
       "    <tr>\n",
       "      <th>286</th>\n",
       "      <td>While My Guitar Gently Weeps</td>\n",
       "      <td>1968</td>\n",
       "      <td>The Beatles</td>\n",
       "      <td>286</td>\n",
       "      <td>18</td>\n",
       "      <td>Rock, Psychedelic Rock, Blues Rock, Pop/Rock</td>\n",
       "      <td>Harrison</td>\n",
       "      <td>Harrison</td>\n",
       "      <td>-1</td>\n",
       "    </tr>\n",
       "    <tr>\n",
       "      <th>287</th>\n",
       "      <td>Why Don't We Do It in the Road?</td>\n",
       "      <td>1968</td>\n",
       "      <td>The Beatles</td>\n",
       "      <td>102</td>\n",
       "      <td>8</td>\n",
       "      <td>Rock, Blues, Pop/Rock</td>\n",
       "      <td>McCartney</td>\n",
       "      <td>McCartney</td>\n",
       "      <td>-1</td>\n",
       "    </tr>\n",
       "    <tr>\n",
       "      <th>288</th>\n",
       "      <td>Wild Honey Pie</td>\n",
       "      <td>1968</td>\n",
       "      <td>The Beatles</td>\n",
       "      <td>52</td>\n",
       "      <td>7</td>\n",
       "      <td>Experimental pop, Lo-Fi, Psychedelic Folk, Pop...</td>\n",
       "      <td>McCartney</td>\n",
       "      <td>McCartney</td>\n",
       "      <td>-1</td>\n",
       "    </tr>\n",
       "    <tr>\n",
       "      <th>295</th>\n",
       "      <td>Yer Blues</td>\n",
       "      <td>1968</td>\n",
       "      <td>The Beatles</td>\n",
       "      <td>241</td>\n",
       "      <td>11</td>\n",
       "      <td>Blues Rock, Hard Rock, Pop/Rock</td>\n",
       "      <td>Lennon</td>\n",
       "      <td>Lennon</td>\n",
       "      <td>-1</td>\n",
       "    </tr>\n",
       "  </tbody>\n",
       "</table>\n",
       "</div>"
      ],
      "text/plain": [
       "                                                 Title  Year  \\\n",
       "5                                  Across the Universe  1968   \n",
       "22                                Back in the U.S.S.R.  1968   \n",
       "29                                            Birthday  1968   \n",
       "30                                           Blackbird  1968   \n",
       "40                                     Child of Nature  1968   \n",
       "42                                             Circles  1968   \n",
       "46                                        Cry Baby Cry  1968   \n",
       "50                                       Dear Prudence  1968   \n",
       "60                                    Don't Pass Me By  1968   \n",
       "64                                            Etcetera  1968   \n",
       "66   Everybody's Got Something to Hide Except Me an...  1968   \n",
       "80                                         Glass Onion  1968   \n",
       "84                                          Good Night  1968   \n",
       "88                             Happiness Is a Warm Gun  1968   \n",
       "89                                             Heather  1968   \n",
       "93                                      Helter Skelter  1968   \n",
       "97                                         Hey Bulldog  1968   \n",
       "98                                            Hey Jude  1968   \n",
       "102                                          Honey Pie  1968   \n",
       "121                                             I Will  1968   \n",
       "135                                       I'm So Tired  1968   \n",
       "151                                              Julia  1968   \n",
       "152                                               Junk  1968   \n",
       "156                                       Lady Madonna  1968   \n",
       "164                                   Long, Long, Long  1968   \n",
       "176                                     Martha My Dear  1968   \n",
       "185                                Mother Nature's Son  1968   \n",
       "191                                         Not Guilty  1968   \n",
       "194                                 Ob-La-Di, Ob-La-Da  1968   \n",
       "205                                            Piggies  1968   \n",
       "211                                       Revolution 1  1968   \n",
       "212                                       Revolution 9  1968   \n",
       "213                                         Revolution  1968   \n",
       "216                                      Rocky Raccoon  1968   \n",
       "219                                      Savoy Truffle  1968   \n",
       "222                                         Sexy Sadie  1968   \n",
       "238                                      Sour Milk Sea  1968   \n",
       "239                     Step Inside Love/Los Paranoias  1968   \n",
       "255              The Continuing Story of Bungalow Bill  1968   \n",
       "259                                    The Inner Light  1968   \n",
       "283                           What's The New Mary Jane  1968   \n",
       "286                       While My Guitar Gently Weeps  1968   \n",
       "287                    Why Don't We Do It in the Road?  1968   \n",
       "288                                     Wild Honey Pie  1968   \n",
       "295                                          Yer Blues  1968   \n",
       "\n",
       "                                         Album.debut  Duration  \\\n",
       "5                                          Let It Be       230   \n",
       "22                                       The Beatles       163   \n",
       "29                                       The Beatles       162   \n",
       "30                                       The Beatles       139   \n",
       "40   Let It Be... Naked - Fly on the Wall bonus disc       254   \n",
       "42                                               NaN       226   \n",
       "46                                       The Beatles       183   \n",
       "50                                       The Beatles       236   \n",
       "60                                       The Beatles       231   \n",
       "64                                               NaN       150   \n",
       "66                                       The Beatles       144   \n",
       "80                                       The Beatles       137   \n",
       "84                                       The Beatles       191   \n",
       "88                                       The Beatles       163   \n",
       "89                                               NaN       130   \n",
       "93                                       The Beatles       270   \n",
       "97                                  Yellow Submarine       194   \n",
       "98                        UK: 1967-1970 US: Hey Jude       431   \n",
       "102                                      The Beatles       161   \n",
       "121                                      The Beatles       106   \n",
       "135                                      The Beatles       123   \n",
       "151                                      The Beatles       174   \n",
       "152                                      Anthology 3       114   \n",
       "156                       UK: 1967-1970 US: Hey Jude       136   \n",
       "164                                      The Beatles       184   \n",
       "176                                      The Beatles       148   \n",
       "185                                      The Beatles       168   \n",
       "191                                      Anthology 3       215   \n",
       "194                                      The Beatles       187   \n",
       "205                                      The Beatles       124   \n",
       "211                                      The Beatles       201   \n",
       "212                                      The Beatles       502   \n",
       "213                       UK: 1967-1970 US: Hey Jude       201   \n",
       "216                                      The Beatles       213   \n",
       "219                                      The Beatles       174   \n",
       "222                                      The Beatles       195   \n",
       "238                                              NaN       236   \n",
       "239                                      Anthology 3       150   \n",
       "255                                      The Beatles       198   \n",
       "259                        UK: Rarities US: Rarities       156   \n",
       "283                                      Anthology 3       372   \n",
       "286                                      The Beatles       286   \n",
       "287                                      The Beatles       102   \n",
       "288                                      The Beatles        52   \n",
       "295                                      The Beatles       241   \n",
       "\n",
       "     Other.releases                                              Genre  \\\n",
       "5                19                         Psychedelic folk, Pop/Rock   \n",
       "22               13                 Rock and Roll, Hard Rock, Pop/Rock   \n",
       "29               11                 Hard Rock, Rock and Roll, Pop/Rock   \n",
       "30               12                                     Folk, Pop/Rock   \n",
       "40                0                                Soft Rock, Pop/Rock   \n",
       "42                0                         Hindustani Blues, Pop/Rock   \n",
       "46               10                                           Pop/Rock   \n",
       "50                9                                     Rock, Pop/Rock   \n",
       "60               11                             Country Rock, Pop/Rock   \n",
       "64                0                                           Pop/Rock   \n",
       "66               10                                Hard Rock, Pop/Rock   \n",
       "80                8                         Psychedelic Rock, Pop/Rock   \n",
       "84                8                  Orchestral Pop, Lullaby, Pop/Rock   \n",
       "88                7                                           Pop/Rock   \n",
       "89                0                                     Rock, Pop/Rock   \n",
       "93               13      Hard Rock, Heavy Metal[, Proto-Punk, Pop/Rock   \n",
       "97               12              Psychedelic Rock, Hard Rock, Pop/Rock   \n",
       "98               28                                     Rock, Pop/Rock   \n",
       "102               8                Music Hall, Jazz, Ragtime, Pop/Rock   \n",
       "121               8                                     Folk, Pop/Rock   \n",
       "135              11                               Blues Rock, Pop/Rock   \n",
       "151              10                                     Folk, Pop/Rock   \n",
       "152               0                                     Folk, Pop/Rock   \n",
       "156              21                            Rock and Roll, Pop/Rock   \n",
       "164               6                         Psychedelic Folk, Pop/Rock   \n",
       "176               6                               Music Hall, Pop/Rock   \n",
       "185              10                                     Folk, Pop/Rock   \n",
       "191               0                                 Jazz-Pop, Pop/Rock   \n",
       "194              16                                      Ska, Pop/Rock   \n",
       "205               9                        Baroque Pop, Folk, Pop/Rock   \n",
       "211               7                                Hard rock, Pop/Rock   \n",
       "212               7  Avant-Garde, Musique Concrete, Experimental, S...   \n",
       "213              23                                Hard rock, Pop/Rock   \n",
       "216               9                       Country, Folk Rock, Pop/Rock   \n",
       "219               7              Soul, Blues Rock, Hard Rock, Pop/Rock   \n",
       "222              11                                           Pop/Rock   \n",
       "238               0              Hard Rock, Psychedelic Rock, Pop/Rock   \n",
       "239               0                                Folk Rock, Pop/Rock   \n",
       "255               8                                Folk Rock, Pop/Rock   \n",
       "259              10                  Indian Music, Raga Rock, Pop/Rock   \n",
       "283               0  Psychedelic Rock, Musique Concrete, Experiment...   \n",
       "286              18       Rock, Psychedelic Rock, Blues Rock, Pop/Rock   \n",
       "287               8                              Rock, Blues, Pop/Rock   \n",
       "288               7  Experimental pop, Lo-Fi, Psychedelic Folk, Pop...   \n",
       "295              11                    Blues Rock, Hard Rock, Pop/Rock   \n",
       "\n",
       "                                            Songwriter  \\\n",
       "5                                               Lennon   \n",
       "22                                           McCartney   \n",
       "29                              McCartney, with Lennon   \n",
       "30                                           McCartney   \n",
       "40                                              Lennon   \n",
       "42                                            Harrison   \n",
       "46                                              Lennon   \n",
       "50                                              Lennon   \n",
       "60                                             Starkey   \n",
       "64                                           McCartney   \n",
       "66                                              Lennon   \n",
       "80                                              Lennon   \n",
       "84                                              Lennon   \n",
       "88                                              Lennon   \n",
       "89                                           McCartney   \n",
       "93                                           McCartney   \n",
       "97                                              Lennon   \n",
       "98                                           McCartney   \n",
       "102                                          McCartney   \n",
       "121                                          McCartney   \n",
       "135                                             Lennon   \n",
       "151                                             Lennon   \n",
       "152                                          McCartney   \n",
       "156                             McCartney, with Lennon   \n",
       "164                                           Harrison   \n",
       "176                                          McCartney   \n",
       "185                                          McCartney   \n",
       "191                                           Harrison   \n",
       "194                                          McCartney   \n",
       "205                                           Harrison   \n",
       "211                                             Lennon   \n",
       "212                      Lennon, with Ono and Harrison   \n",
       "213                                             Lennon   \n",
       "216                             McCartney, with Lennon   \n",
       "219                                           Harrison   \n",
       "222                                             Lennon   \n",
       "238                                           Harrison   \n",
       "239  McCartney (Step Inside Love); Lennon, McCartne...   \n",
       "255                                             Lennon   \n",
       "259                                           Harrison   \n",
       "283                                             Lennon   \n",
       "286                                           Harrison   \n",
       "287                                          McCartney   \n",
       "288                                          McCartney   \n",
       "295                                             Lennon   \n",
       "\n",
       "                 Lead.vocal  Top.50.Billboard  \n",
       "5                    Lennon                -1  \n",
       "22                McCartney                -1  \n",
       "29   McCartney, with Lennon                -1  \n",
       "30                McCartney                -1  \n",
       "40                   Lennon                -1  \n",
       "42                 Harrison                -1  \n",
       "46   Lennon, with McCartney                -1  \n",
       "50                   Lennon                -1  \n",
       "60                  Starkey                -1  \n",
       "64                McCartney                -1  \n",
       "66                   Lennon                -1  \n",
       "80                   Lennon                -1  \n",
       "84                  Starkey                -1  \n",
       "88                   Lennon                -1  \n",
       "89                McCartney                -1  \n",
       "93                McCartney                -1  \n",
       "97                   Lennon                -1  \n",
       "98                McCartney                 1  \n",
       "102               McCartney                -1  \n",
       "121               McCartney                -1  \n",
       "135                  Lennon                -1  \n",
       "151                  Lennon                -1  \n",
       "152               McCartney                -1  \n",
       "156               McCartney                22  \n",
       "164                Harrison                -1  \n",
       "176               McCartney                -1  \n",
       "185               McCartney                -1  \n",
       "191                Harrison                -1  \n",
       "194               McCartney                -1  \n",
       "205                Harrison                -1  \n",
       "211                  Lennon                -1  \n",
       "212                     NaN                -1  \n",
       "213                  Lennon                32  \n",
       "216               McCartney                -1  \n",
       "219                Harrison                -1  \n",
       "222                  Lennon                -1  \n",
       "238                Harrison                -1  \n",
       "239               McCartney                -1  \n",
       "255    Lennon, with Starkey                -1  \n",
       "259                Harrison                -1  \n",
       "283                  Lennon                -1  \n",
       "286                Harrison                -1  \n",
       "287               McCartney                -1  \n",
       "288               McCartney                -1  \n",
       "295                  Lennon                -1  "
      ]
     },
     "metadata": {},
     "output_type": "display_data"
    }
   ],
   "source": [
    "def long_songs(x):\n",
    "    return x['Duration'].max() > 500\n",
    "\n",
    "display(songs.groupby('Year').filter(long_songs))"
   ]
  },
  {
   "cell_type": "markdown",
   "metadata": {
    "pycharm": {
     "name": "#%% md\n"
    }
   },
   "source": [
    "##### transform()\n",
    "Returns some transformed version of the full data (the output dataset has the same shape as the input dataset)."
   ]
  },
  {
   "cell_type": "code",
   "execution_count": 19,
   "metadata": {
    "pycharm": {
     "name": "#%%\n"
    }
   },
   "outputs": [
    {
     "data": {
      "text/html": [
       "<div>\n",
       "<style scoped>\n",
       "    .dataframe tbody tr th:only-of-type {\n",
       "        vertical-align: middle;\n",
       "    }\n",
       "\n",
       "    .dataframe tbody tr th {\n",
       "        vertical-align: top;\n",
       "    }\n",
       "\n",
       "    .dataframe thead th {\n",
       "        text-align: right;\n",
       "    }\n",
       "</style>\n",
       "<table border=\"1\" class=\"dataframe\">\n",
       "  <thead>\n",
       "    <tr style=\"text-align: right;\">\n",
       "      <th></th>\n",
       "      <th>Other.releases</th>\n",
       "      <th>Duration</th>\n",
       "    </tr>\n",
       "  </thead>\n",
       "  <tbody>\n",
       "    <tr>\n",
       "      <th>0</th>\n",
       "      <td>34</td>\n",
       "      <td>202</td>\n",
       "    </tr>\n",
       "    <tr>\n",
       "      <th>1</th>\n",
       "      <td>25</td>\n",
       "      <td>388</td>\n",
       "    </tr>\n",
       "    <tr>\n",
       "      <th>2</th>\n",
       "      <td>42</td>\n",
       "      <td>183</td>\n",
       "    </tr>\n",
       "    <tr>\n",
       "      <th>3</th>\n",
       "      <td>45</td>\n",
       "      <td>182</td>\n",
       "    </tr>\n",
       "    <tr>\n",
       "      <th>4</th>\n",
       "      <td>45</td>\n",
       "      <td>182</td>\n",
       "    </tr>\n",
       "    <tr>\n",
       "      <th>...</th>\n",
       "      <td>...</td>\n",
       "      <td>...</td>\n",
       "    </tr>\n",
       "    <tr>\n",
       "      <th>305</th>\n",
       "      <td>34</td>\n",
       "      <td>202</td>\n",
       "    </tr>\n",
       "    <tr>\n",
       "      <th>306</th>\n",
       "      <td>34</td>\n",
       "      <td>202</td>\n",
       "    </tr>\n",
       "    <tr>\n",
       "      <th>307</th>\n",
       "      <td>45</td>\n",
       "      <td>182</td>\n",
       "    </tr>\n",
       "    <tr>\n",
       "      <th>308</th>\n",
       "      <td>45</td>\n",
       "      <td>182</td>\n",
       "    </tr>\n",
       "    <tr>\n",
       "      <th>309</th>\n",
       "      <td>25</td>\n",
       "      <td>388</td>\n",
       "    </tr>\n",
       "  </tbody>\n",
       "</table>\n",
       "<p>310 rows × 2 columns</p>\n",
       "</div>"
      ],
      "text/plain": [
       "     Other.releases  Duration\n",
       "0                34       202\n",
       "1                25       388\n",
       "2                42       183\n",
       "3                45       182\n",
       "4                45       182\n",
       "..              ...       ...\n",
       "305              34       202\n",
       "306              34       202\n",
       "307              45       182\n",
       "308              45       182\n",
       "309              25       388\n",
       "\n",
       "[310 rows x 2 columns]"
      ]
     },
     "metadata": {},
     "output_type": "display_data"
    }
   ],
   "source": [
    "display(songs.groupby('Year')[['Other.releases', 'Duration']].transform(lambda x: max(x)))"
   ]
  },
  {
   "cell_type": "markdown",
   "metadata": {
    "pycharm": {
     "name": "#%% md\n"
    }
   },
   "source": [
    "##### apply()\n",
    "Takes an arbitrary function and applies it to the group results.\n",
    "The function should take a `pd.DataFrame` argument, and return either a Pandas object (e.g., `pd.DataFrame`, `pd.Series`) or a scalar. The combine operation will be tailored to the type of output returned."
   ]
  },
  {
   "cell_type": "code",
   "execution_count": 21,
   "metadata": {
    "scrolled": true,
    "pycharm": {
     "name": "#%%\n"
    }
   },
   "outputs": [
    {
     "data": {
      "text/html": [
       "<div>\n",
       "<style scoped>\n",
       "    .dataframe tbody tr th:only-of-type {\n",
       "        vertical-align: middle;\n",
       "    }\n",
       "\n",
       "    .dataframe tbody tr th {\n",
       "        vertical-align: top;\n",
       "    }\n",
       "\n",
       "    .dataframe thead th {\n",
       "        text-align: right;\n",
       "    }\n",
       "</style>\n",
       "<table border=\"1\" class=\"dataframe\">\n",
       "  <thead>\n",
       "    <tr style=\"text-align: right;\">\n",
       "      <th></th>\n",
       "      <th>Title</th>\n",
       "      <th>Year</th>\n",
       "      <th>Songwriter</th>\n",
       "    </tr>\n",
       "  </thead>\n",
       "  <tbody>\n",
       "    <tr>\n",
       "      <th>0</th>\n",
       "      <td>12-Bar Original</td>\n",
       "      <td>1965</td>\n",
       "      <td>Lennon, McCartney, Harrison and Starkey</td>\n",
       "    </tr>\n",
       "    <tr>\n",
       "      <th>1</th>\n",
       "      <td>A Day in the Life</td>\n",
       "      <td>1967</td>\n",
       "      <td>Lennon and McCartney</td>\n",
       "    </tr>\n",
       "    <tr>\n",
       "      <th>2</th>\n",
       "      <td>A Hard Day's Night</td>\n",
       "      <td>1964</td>\n",
       "      <td>Lennon</td>\n",
       "    </tr>\n",
       "    <tr>\n",
       "      <th>3</th>\n",
       "      <td>A Shot of Rhythm and Blues</td>\n",
       "      <td>1963</td>\n",
       "      <td>Thompson</td>\n",
       "    </tr>\n",
       "    <tr>\n",
       "      <th>4</th>\n",
       "      <td>A Taste of Honey</td>\n",
       "      <td>1963</td>\n",
       "      <td>Scott, Marlow</td>\n",
       "    </tr>\n",
       "    <tr>\n",
       "      <th>...</th>\n",
       "      <td>...</td>\n",
       "      <td>...</td>\n",
       "      <td>...</td>\n",
       "    </tr>\n",
       "    <tr>\n",
       "      <th>305</th>\n",
       "      <td>You're Going to Lose That Girl</td>\n",
       "      <td>1965</td>\n",
       "      <td>Lennon</td>\n",
       "    </tr>\n",
       "    <tr>\n",
       "      <th>306</th>\n",
       "      <td>You've Got to Hide Your Love Away</td>\n",
       "      <td>1965</td>\n",
       "      <td>Lennon</td>\n",
       "    </tr>\n",
       "    <tr>\n",
       "      <th>307</th>\n",
       "      <td>You've Really Got a Hold on Me</td>\n",
       "      <td>1963</td>\n",
       "      <td>Robinson</td>\n",
       "    </tr>\n",
       "    <tr>\n",
       "      <th>308</th>\n",
       "      <td>Young Blood</td>\n",
       "      <td>1963</td>\n",
       "      <td>Leiber, Stoller</td>\n",
       "    </tr>\n",
       "    <tr>\n",
       "      <th>309</th>\n",
       "      <td>Your Mother Should Know</td>\n",
       "      <td>1967</td>\n",
       "      <td>McCartney</td>\n",
       "    </tr>\n",
       "  </tbody>\n",
       "</table>\n",
       "<p>310 rows × 3 columns</p>\n",
       "</div>"
      ],
      "text/plain": [
       "                                 Title  Year  \\\n",
       "0                      12-Bar Original  1965   \n",
       "1                    A Day in the Life  1967   \n",
       "2                   A Hard Day's Night  1964   \n",
       "3           A Shot of Rhythm and Blues  1963   \n",
       "4                     A Taste of Honey  1963   \n",
       "..                                 ...   ...   \n",
       "305     You're Going to Lose That Girl  1965   \n",
       "306  You've Got to Hide Your Love Away  1965   \n",
       "307     You've Really Got a Hold on Me  1963   \n",
       "308                        Young Blood  1963   \n",
       "309            Your Mother Should Know  1967   \n",
       "\n",
       "                                  Songwriter  \n",
       "0    Lennon, McCartney, Harrison and Starkey  \n",
       "1                       Lennon and McCartney  \n",
       "2                                     Lennon  \n",
       "3                                   Thompson  \n",
       "4                              Scott, Marlow  \n",
       "..                                       ...  \n",
       "305                                   Lennon  \n",
       "306                                   Lennon  \n",
       "307                                 Robinson  \n",
       "308                          Leiber, Stoller  \n",
       "309                                McCartney  \n",
       "\n",
       "[310 rows x 3 columns]"
      ]
     },
     "metadata": {},
     "output_type": "display_data"
    }
   ],
   "source": [
    "def keep_a_few(x):\n",
    "    return x[['Title', 'Year', 'Songwriter']]\n",
    "\n",
    "display(songs.groupby('Year').apply(keep_a_few))"
   ]
  },
  {
   "cell_type": "markdown",
   "metadata": {
    "pycharm": {
     "name": "#%% md\n"
    }
   },
   "source": [
    "#### A list, array, series, or index providing the grouping keys\n",
    "Specifying the grouping keys not as the values of a dataframe column, but in a different way."
   ]
  },
  {
   "cell_type": "markdown",
   "metadata": {
    "pycharm": {
     "name": "#%% md\n"
    }
   },
   "source": [
    "##### List providing the grouping keys\n",
    "The length of the list must be the same as the number of rows in the dataframe."
   ]
  },
  {
   "cell_type": "markdown",
   "metadata": {
    "pycharm": {
     "name": "#%% md\n"
    }
   },
   "source": [
    "Generate len(songs.index) random numbers between 0 and 4, to simulate random grouping of the songs into 5 different playlists (based on [this](https://jakevdp.github.io/PythonDataScienceHandbook/03.08-aggregation-and-grouping.html#A-list,-array,-series,-or-index-providing-the-grouping-keys); if in doubt about how it works, see [this](https://stackoverflow.com/questions/59402554/can-pandas-use-a-list-for-groupby)):"
   ]
  },
  {
   "cell_type": "code",
   "execution_count": 22,
   "metadata": {
    "pycharm": {
     "name": "#%%\n"
    }
   },
   "outputs": [
    {
     "name": "stdout",
     "output_type": "stream",
     "text": [
      "310\n",
      "[4 1 4 1 3 1 4 1 1 1 1 3 1 3 3 4 2 2 3 4 0 0 3 0 4 4 0 0 3 2 4 4 0 0 0 1 3\n",
      " 4 1 2 3 4 3 1 3 3 0 2 1 4 3 2 1 4 1 0 0 1 4 3 2 0 1 2 0 1 3 4 1 2 1 4 1 0\n",
      " 3 2 1 4 1 2 3 4 1 3 1 1 1 3 0 3 1 2 1 1 1 4 2 4 1 2 4 0 3 3 0 4 0 0 0 2 2\n",
      " 3 0 4 0 0 0 1 2 4 3 2 0 2 3 1 0 3 4 4 4 1 0 3 4 3 1 4 4 1 1 4 0 4 1 0 0 1\n",
      " 4 4 0 0 2 4 3 4 4 1 0 0 3 3 2 2 0 3 3 2 3 0 3 0 3 0 1 0 0 3 4 2 3 4 1 0 1\n",
      " 4 4 2 4 2 1 0 3 0 0 4 1 0 0 2 3 3 1 4 3 0 0 0 3 4 4 4 1 2 1 4 3 2 3 3 1 2\n",
      " 3 2 0 0 3 1 0 4 4 2 4 1 3 4 3 2 4 4 4 2 4 1 0 0 1 3 1 0 2 1 0 4 1 2 0 1 3\n",
      " 0 3 1 3 4 0 4 3 1 0 3 3 1 3 4 0 3 4 3 4 0 3 0 0 0 2 3 1 3 0 4 4 2 2 3 0 2\n",
      " 3 3 4 2 3 3 1 0 0 2 3 0 0 4]\n"
     ]
    }
   ],
   "source": [
    "import random\n",
    "print(len(songs.index))\n",
    "random_index_list = np.random.choice(5, len(songs.index), replace=True)\n",
    "print(random_index_list)"
   ]
  },
  {
   "cell_type": "code",
   "execution_count": 41,
   "metadata": {
    "scrolled": true,
    "pycharm": {
     "name": "#%%\n"
    }
   },
   "outputs": [
    {
     "name": "stdout",
     "output_type": "stream",
     "text": [
      "No. of songs in playlist 1: 66\n",
      "No. of songs in playlist 2: 68\n",
      "No. of songs in playlist 3: 70\n",
      "No. of songs in playlist 4: 63\n",
      "No. of songs in playlist 5: 43\n"
     ]
    }
   ],
   "source": [
    "for i, playlist in songs.groupby(random_index_list):\n",
    "    print(f'No. of songs in playlist {i + 1}: {len(playlist.index)}')\n",
    "# for i, playlist in songs.groupby(random_index_list):\n",
    "#     display(playlist.head())"
   ]
  },
  {
   "cell_type": "markdown",
   "metadata": {
    "pycharm": {
     "name": "#%% md\n"
    }
   },
   "source": [
    "In the code snippet above, **<u>make sure to provide a tuple of indices for the `for` loop</u>**, the first one referring to the group index, and the second one representing the group itself."
   ]
  },
  {
   "cell_type": "markdown",
   "metadata": {
    "pycharm": {
     "name": "#%% md\n"
    }
   },
   "source": [
    "##### A dictionary (or series) mapping index to group\n",
    "\n",
    "Another method is to provide a dictionary that maps index values to the group keys."
   ]
  },
  {
   "cell_type": "markdown",
   "metadata": {
    "pycharm": {
     "name": "#%% md\n"
    }
   },
   "source": [
    "Read the dataset and set the index to `Year`:"
   ]
  },
  {
   "cell_type": "code",
   "execution_count": 4,
   "metadata": {
    "scrolled": true,
    "pycharm": {
     "name": "#%%\n"
    }
   },
   "outputs": [
    {
     "data": {
      "text/html": [
       "<div>\n",
       "<style scoped>\n",
       "    .dataframe tbody tr th:only-of-type {\n",
       "        vertical-align: middle;\n",
       "    }\n",
       "\n",
       "    .dataframe tbody tr th {\n",
       "        vertical-align: top;\n",
       "    }\n",
       "\n",
       "    .dataframe thead th {\n",
       "        text-align: right;\n",
       "    }\n",
       "</style>\n",
       "<table border=\"1\" class=\"dataframe\">\n",
       "  <thead>\n",
       "    <tr style=\"text-align: right;\">\n",
       "      <th></th>\n",
       "      <th>Title</th>\n",
       "      <th>Year</th>\n",
       "      <th>Album.debut</th>\n",
       "      <th>Duration</th>\n",
       "      <th>Other.releases</th>\n",
       "      <th>Genre</th>\n",
       "      <th>Songwriter</th>\n",
       "      <th>Lead.vocal</th>\n",
       "      <th>Top.50.Billboard</th>\n",
       "    </tr>\n",
       "    <tr>\n",
       "      <th>Year</th>\n",
       "      <th></th>\n",
       "      <th></th>\n",
       "      <th></th>\n",
       "      <th></th>\n",
       "      <th></th>\n",
       "      <th></th>\n",
       "      <th></th>\n",
       "      <th></th>\n",
       "      <th></th>\n",
       "    </tr>\n",
       "  </thead>\n",
       "  <tbody>\n",
       "    <tr>\n",
       "      <th>1965</th>\n",
       "      <td>12-Bar Original</td>\n",
       "      <td>1965</td>\n",
       "      <td>Anthology 2</td>\n",
       "      <td>174</td>\n",
       "      <td>0</td>\n",
       "      <td>Blues</td>\n",
       "      <td>Lennon, McCartney, Harrison and Starkey</td>\n",
       "      <td>NaN</td>\n",
       "      <td>-1</td>\n",
       "    </tr>\n",
       "    <tr>\n",
       "      <th>1967</th>\n",
       "      <td>A Day in the Life</td>\n",
       "      <td>1967</td>\n",
       "      <td>Sgt. Pepper's Lonely Hearts Club Band</td>\n",
       "      <td>335</td>\n",
       "      <td>12</td>\n",
       "      <td>Psychedelic Rock, Art Rock, Pop/Rock</td>\n",
       "      <td>Lennon and McCartney</td>\n",
       "      <td>Lennon and McCartney</td>\n",
       "      <td>-1</td>\n",
       "    </tr>\n",
       "    <tr>\n",
       "      <th>1964</th>\n",
       "      <td>A Hard Day's Night</td>\n",
       "      <td>1964</td>\n",
       "      <td>UK: A Hard Day's Night US: 1962-1966</td>\n",
       "      <td>152</td>\n",
       "      <td>35</td>\n",
       "      <td>Rock, Electronic, Pop/Rock</td>\n",
       "      <td>Lennon</td>\n",
       "      <td>Lennon, with McCartney</td>\n",
       "      <td>8</td>\n",
       "    </tr>\n",
       "    <tr>\n",
       "      <th>1963</th>\n",
       "      <td>A Shot of Rhythm and Blues</td>\n",
       "      <td>1963</td>\n",
       "      <td>Live at the BBC</td>\n",
       "      <td>104</td>\n",
       "      <td>0</td>\n",
       "      <td>R&amp;B, Pop/Rock</td>\n",
       "      <td>Thompson</td>\n",
       "      <td>Lennon</td>\n",
       "      <td>-1</td>\n",
       "    </tr>\n",
       "    <tr>\n",
       "      <th>1963</th>\n",
       "      <td>A Taste of Honey</td>\n",
       "      <td>1963</td>\n",
       "      <td>UK: Please Please Me US: The Early Beatles</td>\n",
       "      <td>163</td>\n",
       "      <td>29</td>\n",
       "      <td>Pop/Rock, Jazz, Stage&amp;Screen</td>\n",
       "      <td>Scott, Marlow</td>\n",
       "      <td>McCartney</td>\n",
       "      <td>-1</td>\n",
       "    </tr>\n",
       "    <tr>\n",
       "      <th>...</th>\n",
       "      <td>...</td>\n",
       "      <td>...</td>\n",
       "      <td>...</td>\n",
       "      <td>...</td>\n",
       "      <td>...</td>\n",
       "      <td>...</td>\n",
       "      <td>...</td>\n",
       "      <td>...</td>\n",
       "      <td>...</td>\n",
       "    </tr>\n",
       "    <tr>\n",
       "      <th>1965</th>\n",
       "      <td>You're Going to Lose That Girl</td>\n",
       "      <td>1965</td>\n",
       "      <td>Help!</td>\n",
       "      <td>140</td>\n",
       "      <td>6</td>\n",
       "      <td>Rock, Pop/Rock</td>\n",
       "      <td>Lennon</td>\n",
       "      <td>Lennon</td>\n",
       "      <td>-1</td>\n",
       "    </tr>\n",
       "    <tr>\n",
       "      <th>1965</th>\n",
       "      <td>You've Got to Hide Your Love Away</td>\n",
       "      <td>1965</td>\n",
       "      <td>Help!</td>\n",
       "      <td>131</td>\n",
       "      <td>12</td>\n",
       "      <td>FolkPop/Rock</td>\n",
       "      <td>Lennon</td>\n",
       "      <td>Lennon</td>\n",
       "      <td>-1</td>\n",
       "    </tr>\n",
       "    <tr>\n",
       "      <th>1963</th>\n",
       "      <td>You've Really Got a Hold on Me</td>\n",
       "      <td>1963</td>\n",
       "      <td>UK: With the Beatles US: The Beatles Second Album</td>\n",
       "      <td>182</td>\n",
       "      <td>2</td>\n",
       "      <td>Soul, Pop/Rock</td>\n",
       "      <td>Robinson</td>\n",
       "      <td>Lennon and Harrison</td>\n",
       "      <td>-1</td>\n",
       "    </tr>\n",
       "    <tr>\n",
       "      <th>1963</th>\n",
       "      <td>Young Blood</td>\n",
       "      <td>1963</td>\n",
       "      <td>Live at the BBC</td>\n",
       "      <td>116</td>\n",
       "      <td>0</td>\n",
       "      <td>Pop/Rock</td>\n",
       "      <td>Leiber, Stoller</td>\n",
       "      <td>Harrison</td>\n",
       "      <td>-1</td>\n",
       "    </tr>\n",
       "    <tr>\n",
       "      <th>1967</th>\n",
       "      <td>Your Mother Should Know</td>\n",
       "      <td>1967</td>\n",
       "      <td>Magical Mystery Tour</td>\n",
       "      <td>149</td>\n",
       "      <td>13</td>\n",
       "      <td>Music Hall, Vaudeville Rock, Psychedelic Pop, ...</td>\n",
       "      <td>McCartney</td>\n",
       "      <td>McCartney</td>\n",
       "      <td>-1</td>\n",
       "    </tr>\n",
       "  </tbody>\n",
       "</table>\n",
       "<p>310 rows × 9 columns</p>\n",
       "</div>"
      ],
      "text/plain": [
       "                                  Title  Year  \\\n",
       "Year                                            \n",
       "1965                    12-Bar Original  1965   \n",
       "1967                  A Day in the Life  1967   \n",
       "1964                 A Hard Day's Night  1964   \n",
       "1963         A Shot of Rhythm and Blues  1963   \n",
       "1963                   A Taste of Honey  1963   \n",
       "...                                 ...   ...   \n",
       "1965     You're Going to Lose That Girl  1965   \n",
       "1965  You've Got to Hide Your Love Away  1965   \n",
       "1963     You've Really Got a Hold on Me  1963   \n",
       "1963                        Young Blood  1963   \n",
       "1967            Your Mother Should Know  1967   \n",
       "\n",
       "                                            Album.debut  Duration  \\\n",
       "Year                                                                \n",
       "1965                                        Anthology 2       174   \n",
       "1967              Sgt. Pepper's Lonely Hearts Club Band       335   \n",
       "1964               UK: A Hard Day's Night US: 1962-1966       152   \n",
       "1963                                    Live at the BBC       104   \n",
       "1963         UK: Please Please Me US: The Early Beatles       163   \n",
       "...                                                 ...       ...   \n",
       "1965                                              Help!       140   \n",
       "1965                                              Help!       131   \n",
       "1963  UK: With the Beatles US: The Beatles Second Album       182   \n",
       "1963                                    Live at the BBC       116   \n",
       "1967                               Magical Mystery Tour       149   \n",
       "\n",
       "      Other.releases                                              Genre  \\\n",
       "Year                                                                      \n",
       "1965               0                                              Blues   \n",
       "1967              12               Psychedelic Rock, Art Rock, Pop/Rock   \n",
       "1964              35                         Rock, Electronic, Pop/Rock   \n",
       "1963               0                                      R&B, Pop/Rock   \n",
       "1963              29                       Pop/Rock, Jazz, Stage&Screen   \n",
       "...              ...                                                ...   \n",
       "1965               6                                     Rock, Pop/Rock   \n",
       "1965              12                                       FolkPop/Rock   \n",
       "1963               2                                     Soul, Pop/Rock   \n",
       "1963               0                                           Pop/Rock   \n",
       "1967              13  Music Hall, Vaudeville Rock, Psychedelic Pop, ...   \n",
       "\n",
       "                                   Songwriter              Lead.vocal  \\\n",
       "Year                                                                    \n",
       "1965  Lennon, McCartney, Harrison and Starkey                     NaN   \n",
       "1967                     Lennon and McCartney    Lennon and McCartney   \n",
       "1964                                   Lennon  Lennon, with McCartney   \n",
       "1963                                 Thompson                  Lennon   \n",
       "1963                            Scott, Marlow               McCartney   \n",
       "...                                       ...                     ...   \n",
       "1965                                   Lennon                  Lennon   \n",
       "1965                                   Lennon                  Lennon   \n",
       "1963                                 Robinson     Lennon and Harrison   \n",
       "1963                          Leiber, Stoller                Harrison   \n",
       "1967                                McCartney               McCartney   \n",
       "\n",
       "      Top.50.Billboard  \n",
       "Year                    \n",
       "1965                -1  \n",
       "1967                -1  \n",
       "1964                 8  \n",
       "1963                -1  \n",
       "1963                -1  \n",
       "...                ...  \n",
       "1965                -1  \n",
       "1965                -1  \n",
       "1963                -1  \n",
       "1963                -1  \n",
       "1967                -1  \n",
       "\n",
       "[310 rows x 9 columns]"
      ]
     },
     "execution_count": 4,
     "metadata": {},
     "output_type": "execute_result"
    }
   ],
   "source": [
    "songs = pd.read_csv('data/The Beatles songs dataset, v2, no NAs.csv')\n",
    "songs_by_year = songs.set_index(songs['Year'])\n",
    "songs_by_year"
   ]
  },
  {
   "cell_type": "markdown",
   "metadata": {
    "pycharm": {
     "name": "#%% md\n"
    }
   },
   "source": [
    "Create the mapping dictionary that splits the index in two halves:"
   ]
  },
  {
   "cell_type": "code",
   "execution_count": 8,
   "metadata": {
    "pycharm": {
     "name": "#%%\n"
    }
   },
   "outputs": [],
   "source": [
    "mapping = {1958 : 'First half', 1960 : 'First half', 1961: 'First half', \n",
    "           1962: 'First half', 1963: 'First half', 1964: 'First half', 1965: 'First half', \n",
    "           1966: 'Second half', 1967: 'Second half', 1968: 'Second half', 1969: 'Second half', 1970: 'Second half', \n",
    "           1977: 'Second half', 1980: 'Second half'}"
   ]
  },
  {
   "cell_type": "markdown",
   "metadata": {
    "pycharm": {
     "name": "#%% md\n"
    }
   },
   "source": [
    "Group the songs:"
   ]
  },
  {
   "cell_type": "code",
   "execution_count": 10,
   "metadata": {
    "scrolled": true,
    "pycharm": {
     "name": "#%%\n"
    }
   },
   "outputs": [
    {
     "data": {
      "text/html": [
       "<div>\n",
       "<style scoped>\n",
       "    .dataframe tbody tr th:only-of-type {\n",
       "        vertical-align: middle;\n",
       "    }\n",
       "\n",
       "    .dataframe tbody tr th {\n",
       "        vertical-align: top;\n",
       "    }\n",
       "\n",
       "    .dataframe thead th {\n",
       "        text-align: right;\n",
       "    }\n",
       "</style>\n",
       "<table border=\"1\" class=\"dataframe\">\n",
       "  <thead>\n",
       "    <tr style=\"text-align: right;\">\n",
       "      <th></th>\n",
       "      <th>Title</th>\n",
       "      <th>Year</th>\n",
       "      <th>Album.debut</th>\n",
       "      <th>Duration</th>\n",
       "      <th>Other.releases</th>\n",
       "      <th>Genre</th>\n",
       "      <th>Songwriter</th>\n",
       "      <th>Lead.vocal</th>\n",
       "      <th>Top.50.Billboard</th>\n",
       "    </tr>\n",
       "    <tr>\n",
       "      <th>Year</th>\n",
       "      <th></th>\n",
       "      <th></th>\n",
       "      <th></th>\n",
       "      <th></th>\n",
       "      <th></th>\n",
       "      <th></th>\n",
       "      <th></th>\n",
       "      <th></th>\n",
       "      <th></th>\n",
       "    </tr>\n",
       "  </thead>\n",
       "  <tbody>\n",
       "    <tr>\n",
       "      <th>1965</th>\n",
       "      <td>12-Bar Original</td>\n",
       "      <td>1965</td>\n",
       "      <td>Anthology 2</td>\n",
       "      <td>174</td>\n",
       "      <td>0</td>\n",
       "      <td>Blues</td>\n",
       "      <td>Lennon, McCartney, Harrison and Starkey</td>\n",
       "      <td>NaN</td>\n",
       "      <td>-1</td>\n",
       "    </tr>\n",
       "    <tr>\n",
       "      <th>1964</th>\n",
       "      <td>A Hard Day's Night</td>\n",
       "      <td>1964</td>\n",
       "      <td>UK: A Hard Day's Night US: 1962-1966</td>\n",
       "      <td>152</td>\n",
       "      <td>35</td>\n",
       "      <td>Rock, Electronic, Pop/Rock</td>\n",
       "      <td>Lennon</td>\n",
       "      <td>Lennon, with McCartney</td>\n",
       "      <td>8</td>\n",
       "    </tr>\n",
       "    <tr>\n",
       "      <th>1963</th>\n",
       "      <td>A Shot of Rhythm and Blues</td>\n",
       "      <td>1963</td>\n",
       "      <td>Live at the BBC</td>\n",
       "      <td>104</td>\n",
       "      <td>0</td>\n",
       "      <td>R&amp;B, Pop/Rock</td>\n",
       "      <td>Thompson</td>\n",
       "      <td>Lennon</td>\n",
       "      <td>-1</td>\n",
       "    </tr>\n",
       "    <tr>\n",
       "      <th>1963</th>\n",
       "      <td>A Taste of Honey</td>\n",
       "      <td>1963</td>\n",
       "      <td>UK: Please Please Me US: The Early Beatles</td>\n",
       "      <td>163</td>\n",
       "      <td>29</td>\n",
       "      <td>Pop/Rock, Jazz, Stage&amp;Screen</td>\n",
       "      <td>Scott, Marlow</td>\n",
       "      <td>McCartney</td>\n",
       "      <td>-1</td>\n",
       "    </tr>\n",
       "    <tr>\n",
       "      <th>1965</th>\n",
       "      <td>Act Naturally</td>\n",
       "      <td>1965</td>\n",
       "      <td>UK: Help! US: Yesterday and Today</td>\n",
       "      <td>139</td>\n",
       "      <td>14</td>\n",
       "      <td>Country, Pop/Rock</td>\n",
       "      <td>Russell, Morrison</td>\n",
       "      <td>Starkey</td>\n",
       "      <td>50</td>\n",
       "    </tr>\n",
       "  </tbody>\n",
       "</table>\n",
       "</div>"
      ],
      "text/plain": [
       "                           Title  Year  \\\n",
       "Year                                     \n",
       "1965             12-Bar Original  1965   \n",
       "1964          A Hard Day's Night  1964   \n",
       "1963  A Shot of Rhythm and Blues  1963   \n",
       "1963            A Taste of Honey  1963   \n",
       "1965               Act Naturally  1965   \n",
       "\n",
       "                                     Album.debut  Duration  Other.releases  \\\n",
       "Year                                                                         \n",
       "1965                                 Anthology 2       174               0   \n",
       "1964        UK: A Hard Day's Night US: 1962-1966       152              35   \n",
       "1963                             Live at the BBC       104               0   \n",
       "1963  UK: Please Please Me US: The Early Beatles       163              29   \n",
       "1965           UK: Help! US: Yesterday and Today       139              14   \n",
       "\n",
       "                             Genre                               Songwriter  \\\n",
       "Year                                                                          \n",
       "1965                         Blues  Lennon, McCartney, Harrison and Starkey   \n",
       "1964    Rock, Electronic, Pop/Rock                                   Lennon   \n",
       "1963                 R&B, Pop/Rock                                 Thompson   \n",
       "1963  Pop/Rock, Jazz, Stage&Screen                            Scott, Marlow   \n",
       "1965             Country, Pop/Rock                        Russell, Morrison   \n",
       "\n",
       "                  Lead.vocal  Top.50.Billboard  \n",
       "Year                                            \n",
       "1965                     NaN                -1  \n",
       "1964  Lennon, with McCartney                 8  \n",
       "1963                  Lennon                -1  \n",
       "1963               McCartney                -1  \n",
       "1965                 Starkey                50  "
      ]
     },
     "metadata": {},
     "output_type": "display_data"
    },
    {
     "data": {
      "text/html": [
       "<div>\n",
       "<style scoped>\n",
       "    .dataframe tbody tr th:only-of-type {\n",
       "        vertical-align: middle;\n",
       "    }\n",
       "\n",
       "    .dataframe tbody tr th {\n",
       "        vertical-align: top;\n",
       "    }\n",
       "\n",
       "    .dataframe thead th {\n",
       "        text-align: right;\n",
       "    }\n",
       "</style>\n",
       "<table border=\"1\" class=\"dataframe\">\n",
       "  <thead>\n",
       "    <tr style=\"text-align: right;\">\n",
       "      <th></th>\n",
       "      <th>Title</th>\n",
       "      <th>Year</th>\n",
       "      <th>Album.debut</th>\n",
       "      <th>Duration</th>\n",
       "      <th>Other.releases</th>\n",
       "      <th>Genre</th>\n",
       "      <th>Songwriter</th>\n",
       "      <th>Lead.vocal</th>\n",
       "      <th>Top.50.Billboard</th>\n",
       "    </tr>\n",
       "    <tr>\n",
       "      <th>Year</th>\n",
       "      <th></th>\n",
       "      <th></th>\n",
       "      <th></th>\n",
       "      <th></th>\n",
       "      <th></th>\n",
       "      <th></th>\n",
       "      <th></th>\n",
       "      <th></th>\n",
       "      <th></th>\n",
       "    </tr>\n",
       "  </thead>\n",
       "  <tbody>\n",
       "    <tr>\n",
       "      <th>1967</th>\n",
       "      <td>A Day in the Life</td>\n",
       "      <td>1967</td>\n",
       "      <td>Sgt. Pepper's Lonely Hearts Club Band</td>\n",
       "      <td>335</td>\n",
       "      <td>12</td>\n",
       "      <td>Psychedelic Rock, Art Rock, Pop/Rock</td>\n",
       "      <td>Lennon and McCartney</td>\n",
       "      <td>Lennon and McCartney</td>\n",
       "      <td>-1</td>\n",
       "    </tr>\n",
       "    <tr>\n",
       "      <th>1968</th>\n",
       "      <td>Across the Universe</td>\n",
       "      <td>1968</td>\n",
       "      <td>Let It Be</td>\n",
       "      <td>230</td>\n",
       "      <td>19</td>\n",
       "      <td>Psychedelic folk, Pop/Rock</td>\n",
       "      <td>Lennon</td>\n",
       "      <td>Lennon</td>\n",
       "      <td>-1</td>\n",
       "    </tr>\n",
       "    <tr>\n",
       "      <th>1969</th>\n",
       "      <td>All Things Must Pass</td>\n",
       "      <td>1969</td>\n",
       "      <td>Anthology 3</td>\n",
       "      <td>227</td>\n",
       "      <td>0</td>\n",
       "      <td>Folk Rock, Pop/Rock</td>\n",
       "      <td>Harrison</td>\n",
       "      <td>Harrison</td>\n",
       "      <td>-1</td>\n",
       "    </tr>\n",
       "    <tr>\n",
       "      <th>1967</th>\n",
       "      <td>All Together Now</td>\n",
       "      <td>1967</td>\n",
       "      <td>Yellow Submarine</td>\n",
       "      <td>130</td>\n",
       "      <td>8</td>\n",
       "      <td>Skiffle, Pop/Rock</td>\n",
       "      <td>McCartney, with Lennon</td>\n",
       "      <td>McCartney, with Lennon</td>\n",
       "      <td>-1</td>\n",
       "    </tr>\n",
       "    <tr>\n",
       "      <th>1967</th>\n",
       "      <td>All You Need Is Love</td>\n",
       "      <td>1967</td>\n",
       "      <td>Magical Mystery Tour</td>\n",
       "      <td>237</td>\n",
       "      <td>25</td>\n",
       "      <td>Pop/Rock</td>\n",
       "      <td>Lennon</td>\n",
       "      <td>Lennon</td>\n",
       "      <td>15</td>\n",
       "    </tr>\n",
       "  </tbody>\n",
       "</table>\n",
       "</div>"
      ],
      "text/plain": [
       "                     Title  Year                            Album.debut  \\\n",
       "Year                                                                      \n",
       "1967     A Day in the Life  1967  Sgt. Pepper's Lonely Hearts Club Band   \n",
       "1968   Across the Universe  1968                              Let It Be   \n",
       "1969  All Things Must Pass  1969                            Anthology 3   \n",
       "1967      All Together Now  1967                       Yellow Submarine   \n",
       "1967  All You Need Is Love  1967                   Magical Mystery Tour   \n",
       "\n",
       "      Duration  Other.releases                                 Genre  \\\n",
       "Year                                                                   \n",
       "1967       335              12  Psychedelic Rock, Art Rock, Pop/Rock   \n",
       "1968       230              19            Psychedelic folk, Pop/Rock   \n",
       "1969       227               0                   Folk Rock, Pop/Rock   \n",
       "1967       130               8                     Skiffle, Pop/Rock   \n",
       "1967       237              25                              Pop/Rock   \n",
       "\n",
       "                  Songwriter              Lead.vocal  Top.50.Billboard  \n",
       "Year                                                                    \n",
       "1967    Lennon and McCartney    Lennon and McCartney                -1  \n",
       "1968                  Lennon                  Lennon                -1  \n",
       "1969                Harrison                Harrison                -1  \n",
       "1967  McCartney, with Lennon  McCartney, with Lennon                -1  \n",
       "1967                  Lennon                  Lennon                15  "
      ]
     },
     "metadata": {},
     "output_type": "display_data"
    }
   ],
   "source": [
    "display(songs_by_year.groupby(mapping).get_group('First half').head())\n",
    "display(songs_by_year.groupby(mapping).get_group('Second half').head())"
   ]
  },
  {
   "cell_type": "markdown",
   "metadata": {
    "pycharm": {
     "name": "#%% md\n"
    }
   },
   "source": [
    "##### Any Python function defining the groups\n",
    "\n",
    "Similar to mapping, one can pass any Python function that will input the index value and output the group:"
   ]
  },
  {
   "cell_type": "code",
   "execution_count": 14,
   "metadata": {
    "pycharm": {
     "name": "#%%\n"
    }
   },
   "outputs": [
    {
     "data": {
      "text/html": [
       "<div>\n",
       "<style scoped>\n",
       "    .dataframe tbody tr th:only-of-type {\n",
       "        vertical-align: middle;\n",
       "    }\n",
       "\n",
       "    .dataframe tbody tr th {\n",
       "        vertical-align: top;\n",
       "    }\n",
       "\n",
       "    .dataframe thead th {\n",
       "        text-align: right;\n",
       "    }\n",
       "</style>\n",
       "<table border=\"1\" class=\"dataframe\">\n",
       "  <thead>\n",
       "    <tr style=\"text-align: right;\">\n",
       "      <th></th>\n",
       "      <th>Title</th>\n",
       "      <th>Year</th>\n",
       "      <th>Album.debut</th>\n",
       "      <th>Duration</th>\n",
       "      <th>Other.releases</th>\n",
       "      <th>Genre</th>\n",
       "      <th>Songwriter</th>\n",
       "      <th>Lead.vocal</th>\n",
       "      <th>Top.50.Billboard</th>\n",
       "    </tr>\n",
       "    <tr>\n",
       "      <th>Year</th>\n",
       "      <th></th>\n",
       "      <th></th>\n",
       "      <th></th>\n",
       "      <th></th>\n",
       "      <th></th>\n",
       "      <th></th>\n",
       "      <th></th>\n",
       "      <th></th>\n",
       "      <th></th>\n",
       "    </tr>\n",
       "  </thead>\n",
       "  <tbody>\n",
       "    <tr>\n",
       "      <th>1961</th>\n",
       "      <td>Ain't She Sweet</td>\n",
       "      <td>1961</td>\n",
       "      <td>Anthology 1</td>\n",
       "      <td>150</td>\n",
       "      <td>9</td>\n",
       "      <td>Pop/Rock</td>\n",
       "      <td>Yellen, Ager</td>\n",
       "      <td>Lennon</td>\n",
       "      <td>41</td>\n",
       "    </tr>\n",
       "    <tr>\n",
       "      <th>1960</th>\n",
       "      <td>Cayenne</td>\n",
       "      <td>1960</td>\n",
       "      <td>Anthology 1</td>\n",
       "      <td>144</td>\n",
       "      <td>0</td>\n",
       "      <td>Instrumental Rock, Pop/Rock</td>\n",
       "      <td>McCartney</td>\n",
       "      <td>NaN</td>\n",
       "      <td>-1</td>\n",
       "    </tr>\n",
       "    <tr>\n",
       "      <th>1961</th>\n",
       "      <td>Cry for a Shadow</td>\n",
       "      <td>1961</td>\n",
       "      <td>Anthology 1</td>\n",
       "      <td>140</td>\n",
       "      <td>0</td>\n",
       "      <td>Instrumental Rock, Pop/Rock</td>\n",
       "      <td>Lennon and Harrison</td>\n",
       "      <td>NaN</td>\n",
       "      <td>-1</td>\n",
       "    </tr>\n",
       "    <tr>\n",
       "      <th>1960</th>\n",
       "      <td>Hallelujah, I Love Her So</td>\n",
       "      <td>1960</td>\n",
       "      <td>Anthology 1</td>\n",
       "      <td>155</td>\n",
       "      <td>0</td>\n",
       "      <td>Blues, Jazz, R&amp;B, Pop/Rock</td>\n",
       "      <td>Charles</td>\n",
       "      <td>McCartney</td>\n",
       "      <td>-1</td>\n",
       "    </tr>\n",
       "    <tr>\n",
       "      <th>1958</th>\n",
       "      <td>In Spite of All the Danger</td>\n",
       "      <td>1958</td>\n",
       "      <td>Anthology 1</td>\n",
       "      <td>164</td>\n",
       "      <td>0</td>\n",
       "      <td>Skiffle, Blues, Rock and Roll, Pop/Rock</td>\n",
       "      <td>McCartney and Harrison</td>\n",
       "      <td>Lennon</td>\n",
       "      <td>-1</td>\n",
       "    </tr>\n",
       "  </tbody>\n",
       "</table>\n",
       "</div>"
      ],
      "text/plain": [
       "                           Title  Year  Album.debut  Duration  Other.releases  \\\n",
       "Year                                                                            \n",
       "1961             Ain't She Sweet  1961  Anthology 1       150               9   \n",
       "1960                     Cayenne  1960  Anthology 1       144               0   \n",
       "1961            Cry for a Shadow  1961  Anthology 1       140               0   \n",
       "1960   Hallelujah, I Love Her So  1960  Anthology 1       155               0   \n",
       "1958  In Spite of All the Danger  1958  Anthology 1       164               0   \n",
       "\n",
       "                                        Genre              Songwriter  \\\n",
       "Year                                                                    \n",
       "1961                                 Pop/Rock            Yellen, Ager   \n",
       "1960              Instrumental Rock, Pop/Rock               McCartney   \n",
       "1961              Instrumental Rock, Pop/Rock     Lennon and Harrison   \n",
       "1960               Blues, Jazz, R&B, Pop/Rock                 Charles   \n",
       "1958  Skiffle, Blues, Rock and Roll, Pop/Rock  McCartney and Harrison   \n",
       "\n",
       "     Lead.vocal  Top.50.Billboard  \n",
       "Year                               \n",
       "1961     Lennon                41  \n",
       "1960        NaN                -1  \n",
       "1961        NaN                -1  \n",
       "1960  McCartney                -1  \n",
       "1958     Lennon                -1  "
      ]
     },
     "metadata": {},
     "output_type": "display_data"
    },
    {
     "data": {
      "text/html": [
       "<div>\n",
       "<style scoped>\n",
       "    .dataframe tbody tr th:only-of-type {\n",
       "        vertical-align: middle;\n",
       "    }\n",
       "\n",
       "    .dataframe tbody tr th {\n",
       "        vertical-align: top;\n",
       "    }\n",
       "\n",
       "    .dataframe thead th {\n",
       "        text-align: right;\n",
       "    }\n",
       "</style>\n",
       "<table border=\"1\" class=\"dataframe\">\n",
       "  <thead>\n",
       "    <tr style=\"text-align: right;\">\n",
       "      <th></th>\n",
       "      <th>Title</th>\n",
       "      <th>Year</th>\n",
       "      <th>Album.debut</th>\n",
       "      <th>Duration</th>\n",
       "      <th>Other.releases</th>\n",
       "      <th>Genre</th>\n",
       "      <th>Songwriter</th>\n",
       "      <th>Lead.vocal</th>\n",
       "      <th>Top.50.Billboard</th>\n",
       "    </tr>\n",
       "    <tr>\n",
       "      <th>Year</th>\n",
       "      <th></th>\n",
       "      <th></th>\n",
       "      <th></th>\n",
       "      <th></th>\n",
       "      <th></th>\n",
       "      <th></th>\n",
       "      <th></th>\n",
       "      <th></th>\n",
       "      <th></th>\n",
       "    </tr>\n",
       "  </thead>\n",
       "  <tbody>\n",
       "    <tr>\n",
       "      <th>1965</th>\n",
       "      <td>12-Bar Original</td>\n",
       "      <td>1965</td>\n",
       "      <td>Anthology 2</td>\n",
       "      <td>174</td>\n",
       "      <td>0</td>\n",
       "      <td>Blues</td>\n",
       "      <td>Lennon, McCartney, Harrison and Starkey</td>\n",
       "      <td>NaN</td>\n",
       "      <td>-1</td>\n",
       "    </tr>\n",
       "    <tr>\n",
       "      <th>1967</th>\n",
       "      <td>A Day in the Life</td>\n",
       "      <td>1967</td>\n",
       "      <td>Sgt. Pepper's Lonely Hearts Club Band</td>\n",
       "      <td>335</td>\n",
       "      <td>12</td>\n",
       "      <td>Psychedelic Rock, Art Rock, Pop/Rock</td>\n",
       "      <td>Lennon and McCartney</td>\n",
       "      <td>Lennon and McCartney</td>\n",
       "      <td>-1</td>\n",
       "    </tr>\n",
       "    <tr>\n",
       "      <th>1964</th>\n",
       "      <td>A Hard Day's Night</td>\n",
       "      <td>1964</td>\n",
       "      <td>UK: A Hard Day's Night US: 1962-1966</td>\n",
       "      <td>152</td>\n",
       "      <td>35</td>\n",
       "      <td>Rock, Electronic, Pop/Rock</td>\n",
       "      <td>Lennon</td>\n",
       "      <td>Lennon, with McCartney</td>\n",
       "      <td>8</td>\n",
       "    </tr>\n",
       "    <tr>\n",
       "      <th>1963</th>\n",
       "      <td>A Shot of Rhythm and Blues</td>\n",
       "      <td>1963</td>\n",
       "      <td>Live at the BBC</td>\n",
       "      <td>104</td>\n",
       "      <td>0</td>\n",
       "      <td>R&amp;B, Pop/Rock</td>\n",
       "      <td>Thompson</td>\n",
       "      <td>Lennon</td>\n",
       "      <td>-1</td>\n",
       "    </tr>\n",
       "    <tr>\n",
       "      <th>1963</th>\n",
       "      <td>A Taste of Honey</td>\n",
       "      <td>1963</td>\n",
       "      <td>UK: Please Please Me US: The Early Beatles</td>\n",
       "      <td>163</td>\n",
       "      <td>29</td>\n",
       "      <td>Pop/Rock, Jazz, Stage&amp;Screen</td>\n",
       "      <td>Scott, Marlow</td>\n",
       "      <td>McCartney</td>\n",
       "      <td>-1</td>\n",
       "    </tr>\n",
       "  </tbody>\n",
       "</table>\n",
       "</div>"
      ],
      "text/plain": [
       "                           Title  Year  \\\n",
       "Year                                     \n",
       "1965             12-Bar Original  1965   \n",
       "1967           A Day in the Life  1967   \n",
       "1964          A Hard Day's Night  1964   \n",
       "1963  A Shot of Rhythm and Blues  1963   \n",
       "1963            A Taste of Honey  1963   \n",
       "\n",
       "                                     Album.debut  Duration  Other.releases  \\\n",
       "Year                                                                         \n",
       "1965                                 Anthology 2       174               0   \n",
       "1967       Sgt. Pepper's Lonely Hearts Club Band       335              12   \n",
       "1964        UK: A Hard Day's Night US: 1962-1966       152              35   \n",
       "1963                             Live at the BBC       104               0   \n",
       "1963  UK: Please Please Me US: The Early Beatles       163              29   \n",
       "\n",
       "                                     Genre  \\\n",
       "Year                                         \n",
       "1965                                 Blues   \n",
       "1967  Psychedelic Rock, Art Rock, Pop/Rock   \n",
       "1964            Rock, Electronic, Pop/Rock   \n",
       "1963                         R&B, Pop/Rock   \n",
       "1963          Pop/Rock, Jazz, Stage&Screen   \n",
       "\n",
       "                                   Songwriter              Lead.vocal  \\\n",
       "Year                                                                    \n",
       "1965  Lennon, McCartney, Harrison and Starkey                     NaN   \n",
       "1967                     Lennon and McCartney    Lennon and McCartney   \n",
       "1964                                   Lennon  Lennon, with McCartney   \n",
       "1963                                 Thompson                  Lennon   \n",
       "1963                            Scott, Marlow               McCartney   \n",
       "\n",
       "      Top.50.Billboard  \n",
       "Year                    \n",
       "1965                -1  \n",
       "1967                -1  \n",
       "1964                 8  \n",
       "1963                -1  \n",
       "1963                -1  "
      ]
     },
     "metadata": {},
     "output_type": "display_data"
    },
    {
     "data": {
      "text/html": [
       "<div>\n",
       "<style scoped>\n",
       "    .dataframe tbody tr th:only-of-type {\n",
       "        vertical-align: middle;\n",
       "    }\n",
       "\n",
       "    .dataframe tbody tr th {\n",
       "        vertical-align: top;\n",
       "    }\n",
       "\n",
       "    .dataframe thead th {\n",
       "        text-align: right;\n",
       "    }\n",
       "</style>\n",
       "<table border=\"1\" class=\"dataframe\">\n",
       "  <thead>\n",
       "    <tr style=\"text-align: right;\">\n",
       "      <th></th>\n",
       "      <th>Title</th>\n",
       "      <th>Year</th>\n",
       "      <th>Album.debut</th>\n",
       "      <th>Duration</th>\n",
       "      <th>Other.releases</th>\n",
       "      <th>Genre</th>\n",
       "      <th>Songwriter</th>\n",
       "      <th>Lead.vocal</th>\n",
       "      <th>Top.50.Billboard</th>\n",
       "    </tr>\n",
       "    <tr>\n",
       "      <th>Year</th>\n",
       "      <th></th>\n",
       "      <th></th>\n",
       "      <th></th>\n",
       "      <th></th>\n",
       "      <th></th>\n",
       "      <th></th>\n",
       "      <th></th>\n",
       "      <th></th>\n",
       "      <th></th>\n",
       "    </tr>\n",
       "  </thead>\n",
       "  <tbody>\n",
       "    <tr>\n",
       "      <th>1977</th>\n",
       "      <td>Free as a Bird</td>\n",
       "      <td>1977</td>\n",
       "      <td>Anthology 1</td>\n",
       "      <td>266</td>\n",
       "      <td>0</td>\n",
       "      <td>Rock, Pop/Rock</td>\n",
       "      <td>Lennon, with McCartney, Harrison and Starkey</td>\n",
       "      <td>Lennon, McCartney and Harrison</td>\n",
       "      <td>39</td>\n",
       "    </tr>\n",
       "    <tr>\n",
       "      <th>1980</th>\n",
       "      <td>Real Love</td>\n",
       "      <td>1980</td>\n",
       "      <td>Anthology 2</td>\n",
       "      <td>236</td>\n",
       "      <td>2</td>\n",
       "      <td>Rock, Pop/Rock</td>\n",
       "      <td>Lennon, with McCartney, Harrison, Starkey</td>\n",
       "      <td>Lennon</td>\n",
       "      <td>47</td>\n",
       "    </tr>\n",
       "  </tbody>\n",
       "</table>\n",
       "</div>"
      ],
      "text/plain": [
       "               Title  Year  Album.debut  Duration  Other.releases  \\\n",
       "Year                                                                \n",
       "1977  Free as a Bird  1977  Anthology 1       266               0   \n",
       "1980       Real Love  1980  Anthology 2       236               2   \n",
       "\n",
       "               Genre                                    Songwriter  \\\n",
       "Year                                                                 \n",
       "1977  Rock, Pop/Rock  Lennon, with McCartney, Harrison and Starkey   \n",
       "1980  Rock, Pop/Rock     Lennon, with McCartney, Harrison, Starkey   \n",
       "\n",
       "                          Lead.vocal  Top.50.Billboard  \n",
       "Year                                                    \n",
       "1977  Lennon, McCartney and Harrison                39  \n",
       "1980                          Lennon                47  "
      ]
     },
     "metadata": {},
     "output_type": "display_data"
    }
   ],
   "source": [
    "def three_periods(x):\n",
    "    if x < 1962:\n",
    "        return 1\n",
    "    elif x < 1971:\n",
    "        return 2\n",
    "    return 3\n",
    "\n",
    "display(songs_by_year.groupby(three_periods).get_group(1).head())\n",
    "display(songs_by_year.groupby(three_periods).get_group(2).head())\n",
    "display(songs_by_year.groupby(three_periods).get_group(3).head())"
   ]
  },
  {
   "cell_type": "markdown",
   "metadata": {
    "pycharm": {
     "name": "#%% md\n"
    }
   },
   "source": [
    "##### Grouping on a multi-index\n",
    "Any of the preceding key choices can be combined to group on a multi-index:"
   ]
  },
  {
   "cell_type": "code",
   "execution_count": 26,
   "metadata": {
    "scrolled": true,
    "pycharm": {
     "name": "#%%\n"
    }
   },
   "outputs": [
    {
     "data": {
      "text/html": [
       "<div>\n",
       "<style scoped>\n",
       "    .dataframe tbody tr th:only-of-type {\n",
       "        vertical-align: middle;\n",
       "    }\n",
       "\n",
       "    .dataframe tbody tr th {\n",
       "        vertical-align: top;\n",
       "    }\n",
       "\n",
       "    .dataframe thead th {\n",
       "        text-align: right;\n",
       "    }\n",
       "</style>\n",
       "<table border=\"1\" class=\"dataframe\">\n",
       "  <thead>\n",
       "    <tr style=\"text-align: right;\">\n",
       "      <th></th>\n",
       "      <th>Title</th>\n",
       "      <th>Year</th>\n",
       "      <th>Album.debut</th>\n",
       "      <th>Duration</th>\n",
       "      <th>Other.releases</th>\n",
       "      <th>Genre</th>\n",
       "      <th>Songwriter</th>\n",
       "      <th>Lead.vocal</th>\n",
       "      <th>Top.50.Billboard</th>\n",
       "    </tr>\n",
       "    <tr>\n",
       "      <th>Year</th>\n",
       "      <th></th>\n",
       "      <th></th>\n",
       "      <th></th>\n",
       "      <th></th>\n",
       "      <th></th>\n",
       "      <th></th>\n",
       "      <th></th>\n",
       "      <th></th>\n",
       "      <th></th>\n",
       "    </tr>\n",
       "  </thead>\n",
       "  <tbody>\n",
       "    <tr>\n",
       "      <th>1967</th>\n",
       "      <td>A Day in the Life</td>\n",
       "      <td>1967</td>\n",
       "      <td>Sgt. Pepper's Lonely Hearts Club Band</td>\n",
       "      <td>335</td>\n",
       "      <td>12</td>\n",
       "      <td>Psychedelic Rock, Art Rock, Pop/Rock</td>\n",
       "      <td>Lennon and McCartney</td>\n",
       "      <td>Lennon and McCartney</td>\n",
       "      <td>-1</td>\n",
       "    </tr>\n",
       "    <tr>\n",
       "      <th>1968</th>\n",
       "      <td>Across the Universe</td>\n",
       "      <td>1968</td>\n",
       "      <td>Let It Be</td>\n",
       "      <td>230</td>\n",
       "      <td>19</td>\n",
       "      <td>Psychedelic folk, Pop/Rock</td>\n",
       "      <td>Lennon</td>\n",
       "      <td>Lennon</td>\n",
       "      <td>-1</td>\n",
       "    </tr>\n",
       "    <tr>\n",
       "      <th>1969</th>\n",
       "      <td>All Things Must Pass</td>\n",
       "      <td>1969</td>\n",
       "      <td>Anthology 3</td>\n",
       "      <td>227</td>\n",
       "      <td>0</td>\n",
       "      <td>Folk Rock, Pop/Rock</td>\n",
       "      <td>Harrison</td>\n",
       "      <td>Harrison</td>\n",
       "      <td>-1</td>\n",
       "    </tr>\n",
       "    <tr>\n",
       "      <th>1967</th>\n",
       "      <td>All You Need Is Love</td>\n",
       "      <td>1967</td>\n",
       "      <td>Magical Mystery Tour</td>\n",
       "      <td>237</td>\n",
       "      <td>25</td>\n",
       "      <td>Pop/Rock</td>\n",
       "      <td>Lennon</td>\n",
       "      <td>Lennon</td>\n",
       "      <td>15</td>\n",
       "    </tr>\n",
       "    <tr>\n",
       "      <th>1969</th>\n",
       "      <td>Dig a Pony</td>\n",
       "      <td>1969</td>\n",
       "      <td>Let It Be</td>\n",
       "      <td>232</td>\n",
       "      <td>12</td>\n",
       "      <td>Blues Rock, Pop/Rock</td>\n",
       "      <td>Lennon</td>\n",
       "      <td>Lennon</td>\n",
       "      <td>-1</td>\n",
       "    </tr>\n",
       "  </tbody>\n",
       "</table>\n",
       "</div>"
      ],
      "text/plain": [
       "                     Title  Year                            Album.debut  \\\n",
       "Year                                                                      \n",
       "1967     A Day in the Life  1967  Sgt. Pepper's Lonely Hearts Club Band   \n",
       "1968   Across the Universe  1968                              Let It Be   \n",
       "1969  All Things Must Pass  1969                            Anthology 3   \n",
       "1967  All You Need Is Love  1967                   Magical Mystery Tour   \n",
       "1969            Dig a Pony  1969                              Let It Be   \n",
       "\n",
       "      Duration  Other.releases                                 Genre  \\\n",
       "Year                                                                   \n",
       "1967       335              12  Psychedelic Rock, Art Rock, Pop/Rock   \n",
       "1968       230              19            Psychedelic folk, Pop/Rock   \n",
       "1969       227               0                   Folk Rock, Pop/Rock   \n",
       "1967       237              25                              Pop/Rock   \n",
       "1969       232              12                  Blues Rock, Pop/Rock   \n",
       "\n",
       "                Songwriter            Lead.vocal  Top.50.Billboard  \n",
       "Year                                                                \n",
       "1967  Lennon and McCartney  Lennon and McCartney                -1  \n",
       "1968                Lennon                Lennon                -1  \n",
       "1969              Harrison              Harrison                -1  \n",
       "1967                Lennon                Lennon                15  \n",
       "1969                Lennon                Lennon                -1  "
      ]
     },
     "metadata": {},
     "output_type": "display_data"
    }
   ],
   "source": [
    "display(songs_by_year.groupby([random_index_list, mapping, ]).get_group((1, 'Second half')).head())"
   ]
  },
  {
   "cell_type": "markdown",
   "metadata": {
    "pycharm": {
     "name": "#%% md\n"
    }
   },
   "source": [
    "## Pivot tables\n",
    "A pivot table takes simple column-wise data as input, and groups the entries into a two-dimensional table that provides a multidimensional summarization of the data. Think of pivot tables as essentially a multidimensional version of `GroupBy` aggregation. That is, you split-apply-combine, but both the split and the combine happen across not a one-dimensional index, but across a two-dimensional grid."
   ]
  },
  {
   "cell_type": "markdown",
   "metadata": {
    "pycharm": {
     "name": "#%% md\n"
    }
   },
   "source": [
    "Read and extend the dataset:"
   ]
  },
  {
   "cell_type": "code",
   "execution_count": 34,
   "metadata": {
    "pycharm": {
     "name": "#%%\n"
    }
   },
   "outputs": [
    {
     "data": {
      "text/html": [
       "<div>\n",
       "<style scoped>\n",
       "    .dataframe tbody tr th:only-of-type {\n",
       "        vertical-align: middle;\n",
       "    }\n",
       "\n",
       "    .dataframe tbody tr th {\n",
       "        vertical-align: top;\n",
       "    }\n",
       "\n",
       "    .dataframe thead th {\n",
       "        text-align: right;\n",
       "    }\n",
       "</style>\n",
       "<table border=\"1\" class=\"dataframe\">\n",
       "  <thead>\n",
       "    <tr style=\"text-align: right;\">\n",
       "      <th></th>\n",
       "      <th>Title</th>\n",
       "      <th>Year</th>\n",
       "      <th>Album.debut</th>\n",
       "      <th>Duration</th>\n",
       "      <th>Other.releases</th>\n",
       "      <th>Genre</th>\n",
       "      <th>Songwriter</th>\n",
       "      <th>Lead.vocal</th>\n",
       "      <th>Top.50.Billboard</th>\n",
       "      <th>Career period</th>\n",
       "    </tr>\n",
       "  </thead>\n",
       "  <tbody>\n",
       "    <tr>\n",
       "      <th>0</th>\n",
       "      <td>12-Bar Original</td>\n",
       "      <td>1965</td>\n",
       "      <td>Anthology 2</td>\n",
       "      <td>174</td>\n",
       "      <td>0</td>\n",
       "      <td>Blues</td>\n",
       "      <td>Lennon, McCartney, Harrison and Starkey</td>\n",
       "      <td>NaN</td>\n",
       "      <td>-1</td>\n",
       "      <td>First half</td>\n",
       "    </tr>\n",
       "    <tr>\n",
       "      <th>1</th>\n",
       "      <td>A Day in the Life</td>\n",
       "      <td>1967</td>\n",
       "      <td>Sgt. Pepper's Lonely Hearts Club Band</td>\n",
       "      <td>335</td>\n",
       "      <td>12</td>\n",
       "      <td>Psychedelic Rock, Art Rock, Pop/Rock</td>\n",
       "      <td>Lennon and McCartney</td>\n",
       "      <td>Lennon and McCartney</td>\n",
       "      <td>-1</td>\n",
       "      <td>Second half</td>\n",
       "    </tr>\n",
       "    <tr>\n",
       "      <th>2</th>\n",
       "      <td>A Hard Day's Night</td>\n",
       "      <td>1964</td>\n",
       "      <td>UK: A Hard Day's Night US: 1962-1966</td>\n",
       "      <td>152</td>\n",
       "      <td>35</td>\n",
       "      <td>Rock, Electronic, Pop/Rock</td>\n",
       "      <td>Lennon</td>\n",
       "      <td>Lennon, with McCartney</td>\n",
       "      <td>8</td>\n",
       "      <td>First half</td>\n",
       "    </tr>\n",
       "    <tr>\n",
       "      <th>3</th>\n",
       "      <td>A Shot of Rhythm and Blues</td>\n",
       "      <td>1963</td>\n",
       "      <td>Live at the BBC</td>\n",
       "      <td>104</td>\n",
       "      <td>0</td>\n",
       "      <td>R&amp;B, Pop/Rock</td>\n",
       "      <td>Thompson</td>\n",
       "      <td>Lennon</td>\n",
       "      <td>-1</td>\n",
       "      <td>First half</td>\n",
       "    </tr>\n",
       "    <tr>\n",
       "      <th>4</th>\n",
       "      <td>A Taste of Honey</td>\n",
       "      <td>1963</td>\n",
       "      <td>UK: Please Please Me US: The Early Beatles</td>\n",
       "      <td>163</td>\n",
       "      <td>29</td>\n",
       "      <td>Pop/Rock, Jazz, Stage&amp;Screen</td>\n",
       "      <td>Scott, Marlow</td>\n",
       "      <td>McCartney</td>\n",
       "      <td>-1</td>\n",
       "      <td>First half</td>\n",
       "    </tr>\n",
       "  </tbody>\n",
       "</table>\n",
       "</div>"
      ],
      "text/plain": [
       "                        Title  Year  \\\n",
       "0             12-Bar Original  1965   \n",
       "1           A Day in the Life  1967   \n",
       "2          A Hard Day's Night  1964   \n",
       "3  A Shot of Rhythm and Blues  1963   \n",
       "4            A Taste of Honey  1963   \n",
       "\n",
       "                                  Album.debut  Duration  Other.releases  \\\n",
       "0                                 Anthology 2       174               0   \n",
       "1       Sgt. Pepper's Lonely Hearts Club Band       335              12   \n",
       "2        UK: A Hard Day's Night US: 1962-1966       152              35   \n",
       "3                             Live at the BBC       104               0   \n",
       "4  UK: Please Please Me US: The Early Beatles       163              29   \n",
       "\n",
       "                                  Genre  \\\n",
       "0                                 Blues   \n",
       "1  Psychedelic Rock, Art Rock, Pop/Rock   \n",
       "2            Rock, Electronic, Pop/Rock   \n",
       "3                         R&B, Pop/Rock   \n",
       "4          Pop/Rock, Jazz, Stage&Screen   \n",
       "\n",
       "                                Songwriter              Lead.vocal  \\\n",
       "0  Lennon, McCartney, Harrison and Starkey                     NaN   \n",
       "1                     Lennon and McCartney    Lennon and McCartney   \n",
       "2                                   Lennon  Lennon, with McCartney   \n",
       "3                                 Thompson                  Lennon   \n",
       "4                            Scott, Marlow               McCartney   \n",
       "\n",
       "   Top.50.Billboard Career period  \n",
       "0                -1    First half  \n",
       "1                -1   Second half  \n",
       "2                 8    First half  \n",
       "3                -1    First half  \n",
       "4                -1    First half  "
      ]
     },
     "metadata": {},
     "output_type": "display_data"
    }
   ],
   "source": [
    "songs = pd.read_csv('data/The Beatles songs dataset, v2, no NAs.csv')\n",
    "songs['Career period'] = 'First half'\n",
    "second_half = songs['Year'] > 1966\n",
    "songs.loc[second_half, 'Career period'] = 'Second half'\n",
    "display(songs.head())"
   ]
  },
  {
   "cell_type": "markdown",
   "metadata": {
    "pycharm": {
     "name": "#%% md\n"
    }
   },
   "source": [
    "Find the mean song duration by year, during the first and second halves of The Beatles career using `groupby()`:"
   ]
  },
  {
   "cell_type": "code",
   "execution_count": 40,
   "metadata": {
    "scrolled": true,
    "pycharm": {
     "name": "#%%\n"
    }
   },
   "outputs": [
    {
     "data": {
      "text/html": [
       "<div>\n",
       "<style scoped>\n",
       "    .dataframe tbody tr th:only-of-type {\n",
       "        vertical-align: middle;\n",
       "    }\n",
       "\n",
       "    .dataframe tbody tr th {\n",
       "        vertical-align: top;\n",
       "    }\n",
       "\n",
       "    .dataframe thead th {\n",
       "        text-align: right;\n",
       "    }\n",
       "</style>\n",
       "<table border=\"1\" class=\"dataframe\">\n",
       "  <thead>\n",
       "    <tr style=\"text-align: right;\">\n",
       "      <th>Year</th>\n",
       "      <th>1958</th>\n",
       "      <th>1960</th>\n",
       "      <th>1961</th>\n",
       "      <th>1962</th>\n",
       "      <th>1963</th>\n",
       "      <th>1964</th>\n",
       "      <th>1965</th>\n",
       "      <th>1966</th>\n",
       "      <th>1967</th>\n",
       "      <th>1968</th>\n",
       "      <th>1969</th>\n",
       "      <th>1970</th>\n",
       "      <th>1977</th>\n",
       "      <th>1980</th>\n",
       "    </tr>\n",
       "    <tr>\n",
       "      <th>Career period</th>\n",
       "      <th></th>\n",
       "      <th></th>\n",
       "      <th></th>\n",
       "      <th></th>\n",
       "      <th></th>\n",
       "      <th></th>\n",
       "      <th></th>\n",
       "      <th></th>\n",
       "      <th></th>\n",
       "      <th></th>\n",
       "      <th></th>\n",
       "      <th></th>\n",
       "      <th></th>\n",
       "      <th></th>\n",
       "    </tr>\n",
       "  </thead>\n",
       "  <tbody>\n",
       "    <tr>\n",
       "      <th>First half</th>\n",
       "      <td>150.0</td>\n",
       "      <td>136.75</td>\n",
       "      <td>146.666667</td>\n",
       "      <td>140.9</td>\n",
       "      <td>136.045455</td>\n",
       "      <td>144.04878</td>\n",
       "      <td>149.189189</td>\n",
       "      <td>157.473684</td>\n",
       "      <td>NaN</td>\n",
       "      <td>NaN</td>\n",
       "      <td>NaN</td>\n",
       "      <td>NaN</td>\n",
       "      <td>NaN</td>\n",
       "      <td>NaN</td>\n",
       "    </tr>\n",
       "    <tr>\n",
       "      <th>Second half</th>\n",
       "      <td>NaN</td>\n",
       "      <td>NaN</td>\n",
       "      <td>NaN</td>\n",
       "      <td>NaN</td>\n",
       "      <td>NaN</td>\n",
       "      <td>NaN</td>\n",
       "      <td>NaN</td>\n",
       "      <td>NaN</td>\n",
       "      <td>196.666667</td>\n",
       "      <td>194.511111</td>\n",
       "      <td>169.255814</td>\n",
       "      <td>145.0</td>\n",
       "      <td>266.0</td>\n",
       "      <td>236.0</td>\n",
       "    </tr>\n",
       "  </tbody>\n",
       "</table>\n",
       "</div>"
      ],
      "text/plain": [
       "Year            1958    1960        1961   1962        1963       1964  \\\n",
       "Career period                                                            \n",
       "First half     150.0  136.75  146.666667  140.9  136.045455  144.04878   \n",
       "Second half      NaN     NaN         NaN    NaN         NaN        NaN   \n",
       "\n",
       "Year                 1965        1966        1967        1968        1969  \\\n",
       "Career period                                                               \n",
       "First half     149.189189  157.473684         NaN         NaN         NaN   \n",
       "Second half           NaN         NaN  196.666667  194.511111  169.255814   \n",
       "\n",
       "Year            1970   1977   1980  \n",
       "Career period                       \n",
       "First half       NaN    NaN    NaN  \n",
       "Second half    145.0  266.0  236.0  "
      ]
     },
     "execution_count": 40,
     "metadata": {},
     "output_type": "execute_result"
    }
   ],
   "source": [
    "songs.groupby(['Career period', 'Year', ])['Duration'].aggregate('mean').unstack()\n",
    "# songs.groupby(['Career period', 'Year', ])[['Duration', 'Other.releases']].aggregate('mean').unstack()"
   ]
  },
  {
   "cell_type": "markdown",
   "metadata": {
    "pycharm": {
     "name": "#%% md\n"
    }
   },
   "source": [
    "### `pivot_table()`"
   ]
  },
  {
   "cell_type": "markdown",
   "metadata": {
    "pycharm": {
     "name": "#%% md\n"
    }
   },
   "source": [
    "Do the same as above using `pivot_table()`:"
   ]
  },
  {
   "cell_type": "code",
   "execution_count": 41,
   "metadata": {
    "scrolled": true,
    "pycharm": {
     "name": "#%%\n"
    }
   },
   "outputs": [
    {
     "data": {
      "text/html": [
       "<div>\n",
       "<style scoped>\n",
       "    .dataframe tbody tr th:only-of-type {\n",
       "        vertical-align: middle;\n",
       "    }\n",
       "\n",
       "    .dataframe tbody tr th {\n",
       "        vertical-align: top;\n",
       "    }\n",
       "\n",
       "    .dataframe thead th {\n",
       "        text-align: right;\n",
       "    }\n",
       "</style>\n",
       "<table border=\"1\" class=\"dataframe\">\n",
       "  <thead>\n",
       "    <tr style=\"text-align: right;\">\n",
       "      <th>Year</th>\n",
       "      <th>1958</th>\n",
       "      <th>1960</th>\n",
       "      <th>1961</th>\n",
       "      <th>1962</th>\n",
       "      <th>1963</th>\n",
       "      <th>1964</th>\n",
       "      <th>1965</th>\n",
       "      <th>1966</th>\n",
       "      <th>1967</th>\n",
       "      <th>1968</th>\n",
       "      <th>1969</th>\n",
       "      <th>1970</th>\n",
       "      <th>1977</th>\n",
       "      <th>1980</th>\n",
       "    </tr>\n",
       "    <tr>\n",
       "      <th>Career period</th>\n",
       "      <th></th>\n",
       "      <th></th>\n",
       "      <th></th>\n",
       "      <th></th>\n",
       "      <th></th>\n",
       "      <th></th>\n",
       "      <th></th>\n",
       "      <th></th>\n",
       "      <th></th>\n",
       "      <th></th>\n",
       "      <th></th>\n",
       "      <th></th>\n",
       "      <th></th>\n",
       "      <th></th>\n",
       "    </tr>\n",
       "  </thead>\n",
       "  <tbody>\n",
       "    <tr>\n",
       "      <th>First half</th>\n",
       "      <td>150.0</td>\n",
       "      <td>136.75</td>\n",
       "      <td>146.666667</td>\n",
       "      <td>140.9</td>\n",
       "      <td>136.045455</td>\n",
       "      <td>144.04878</td>\n",
       "      <td>149.189189</td>\n",
       "      <td>157.473684</td>\n",
       "      <td>NaN</td>\n",
       "      <td>NaN</td>\n",
       "      <td>NaN</td>\n",
       "      <td>NaN</td>\n",
       "      <td>NaN</td>\n",
       "      <td>NaN</td>\n",
       "    </tr>\n",
       "    <tr>\n",
       "      <th>Second half</th>\n",
       "      <td>NaN</td>\n",
       "      <td>NaN</td>\n",
       "      <td>NaN</td>\n",
       "      <td>NaN</td>\n",
       "      <td>NaN</td>\n",
       "      <td>NaN</td>\n",
       "      <td>NaN</td>\n",
       "      <td>NaN</td>\n",
       "      <td>196.666667</td>\n",
       "      <td>194.511111</td>\n",
       "      <td>169.255814</td>\n",
       "      <td>145.0</td>\n",
       "      <td>266.0</td>\n",
       "      <td>236.0</td>\n",
       "    </tr>\n",
       "  </tbody>\n",
       "</table>\n",
       "</div>"
      ],
      "text/plain": [
       "Year            1958    1960        1961   1962        1963       1964  \\\n",
       "Career period                                                            \n",
       "First half     150.0  136.75  146.666667  140.9  136.045455  144.04878   \n",
       "Second half      NaN     NaN         NaN    NaN         NaN        NaN   \n",
       "\n",
       "Year                 1965        1966        1967        1968        1969  \\\n",
       "Career period                                                               \n",
       "First half     149.189189  157.473684         NaN         NaN         NaN   \n",
       "Second half           NaN         NaN  196.666667  194.511111  169.255814   \n",
       "\n",
       "Year            1970   1977   1980  \n",
       "Career period                       \n",
       "First half       NaN    NaN    NaN  \n",
       "Second half    145.0  266.0  236.0  "
      ]
     },
     "execution_count": 41,
     "metadata": {},
     "output_type": "execute_result"
    }
   ],
   "source": [
    "songs.pivot_table('Duration', index='Career period', columns='Year')"
   ]
  },
  {
   "cell_type": "markdown",
   "metadata": {
    "pycharm": {
     "name": "#%% md\n"
    }
   },
   "source": [
    "### Multi-level pivot tables\n",
    "\n",
    "Just as in the ``GroupBy``, the grouping in pivot tables can be specified with multiple levels."
   ]
  },
  {
   "cell_type": "markdown",
   "metadata": {
    "pycharm": {
     "name": "#%% md\n"
    }
   },
   "source": [
    "#### `pd.cut()`\n",
    "Define bins for a range of values.<br>\n",
    "Note that the bins are defined in the `(m, n]` way, i.e. the left value is not included in the bin, but the right on is."
   ]
  },
  {
   "cell_type": "markdown",
   "metadata": {
    "pycharm": {
     "name": "#%% md\n"
    }
   },
   "source": [
    "Do the same as above, but introduce the third dimension: `Top.50.Billboard`. If `Top.50.Billboard` is -1, that's one bin (the song has not reached to Top 50); otherwise, it goes to the other bin."
   ]
  },
  {
   "cell_type": "code",
   "execution_count": 48,
   "metadata": {
    "pycharm": {
     "name": "#%%\n"
    }
   },
   "outputs": [
    {
     "data": {
      "text/html": [
       "<div>\n",
       "<style scoped>\n",
       "    .dataframe tbody tr th:only-of-type {\n",
       "        vertical-align: middle;\n",
       "    }\n",
       "\n",
       "    .dataframe tbody tr th {\n",
       "        vertical-align: top;\n",
       "    }\n",
       "\n",
       "    .dataframe thead th {\n",
       "        text-align: right;\n",
       "    }\n",
       "</style>\n",
       "<table border=\"1\" class=\"dataframe\">\n",
       "  <thead>\n",
       "    <tr style=\"text-align: right;\">\n",
       "      <th></th>\n",
       "      <th>Year</th>\n",
       "      <th>1958</th>\n",
       "      <th>1960</th>\n",
       "      <th>1961</th>\n",
       "      <th>1962</th>\n",
       "      <th>1963</th>\n",
       "      <th>1964</th>\n",
       "      <th>1965</th>\n",
       "      <th>1966</th>\n",
       "      <th>1967</th>\n",
       "      <th>1968</th>\n",
       "      <th>1969</th>\n",
       "      <th>1970</th>\n",
       "      <th>1977</th>\n",
       "      <th>1980</th>\n",
       "    </tr>\n",
       "    <tr>\n",
       "      <th>Career period</th>\n",
       "      <th>Top.50.Billboard</th>\n",
       "      <th></th>\n",
       "      <th></th>\n",
       "      <th></th>\n",
       "      <th></th>\n",
       "      <th></th>\n",
       "      <th></th>\n",
       "      <th></th>\n",
       "      <th></th>\n",
       "      <th></th>\n",
       "      <th></th>\n",
       "      <th></th>\n",
       "      <th></th>\n",
       "      <th></th>\n",
       "      <th></th>\n",
       "    </tr>\n",
       "  </thead>\n",
       "  <tbody>\n",
       "    <tr>\n",
       "      <th rowspan=\"2\" valign=\"top\">First half</th>\n",
       "      <th>(-2, 0]</th>\n",
       "      <td>150.0</td>\n",
       "      <td>136.75</td>\n",
       "      <td>140.0</td>\n",
       "      <td>142.941176</td>\n",
       "      <td>136.0</td>\n",
       "      <td>142.096774</td>\n",
       "      <td>148.700000</td>\n",
       "      <td>151.166667</td>\n",
       "      <td>NaN</td>\n",
       "      <td>NaN</td>\n",
       "      <td>NaN</td>\n",
       "      <td>NaN</td>\n",
       "      <td>NaN</td>\n",
       "      <td>NaN</td>\n",
       "    </tr>\n",
       "    <tr>\n",
       "      <th>(0, 50]</th>\n",
       "      <td>NaN</td>\n",
       "      <td>NaN</td>\n",
       "      <td>150.0</td>\n",
       "      <td>129.333333</td>\n",
       "      <td>136.5</td>\n",
       "      <td>150.100000</td>\n",
       "      <td>151.285714</td>\n",
       "      <td>168.285714</td>\n",
       "      <td>NaN</td>\n",
       "      <td>NaN</td>\n",
       "      <td>NaN</td>\n",
       "      <td>NaN</td>\n",
       "      <td>NaN</td>\n",
       "      <td>NaN</td>\n",
       "    </tr>\n",
       "    <tr>\n",
       "      <th rowspan=\"2\" valign=\"top\">Second half</th>\n",
       "      <th>(-2, 0]</th>\n",
       "      <td>NaN</td>\n",
       "      <td>NaN</td>\n",
       "      <td>NaN</td>\n",
       "      <td>NaN</td>\n",
       "      <td>NaN</td>\n",
       "      <td>NaN</td>\n",
       "      <td>NaN</td>\n",
       "      <td>NaN</td>\n",
       "      <td>195.125</td>\n",
       "      <td>190.119048</td>\n",
       "      <td>162.297297</td>\n",
       "      <td>145.0</td>\n",
       "      <td>NaN</td>\n",
       "      <td>NaN</td>\n",
       "    </tr>\n",
       "    <tr>\n",
       "      <th>(0, 50]</th>\n",
       "      <td>NaN</td>\n",
       "      <td>NaN</td>\n",
       "      <td>NaN</td>\n",
       "      <td>NaN</td>\n",
       "      <td>NaN</td>\n",
       "      <td>NaN</td>\n",
       "      <td>NaN</td>\n",
       "      <td>NaN</td>\n",
       "      <td>209.000</td>\n",
       "      <td>256.000000</td>\n",
       "      <td>212.166667</td>\n",
       "      <td>NaN</td>\n",
       "      <td>266.0</td>\n",
       "      <td>236.0</td>\n",
       "    </tr>\n",
       "  </tbody>\n",
       "</table>\n",
       "</div>"
      ],
      "text/plain": [
       "Year                             1958    1960   1961        1962   1963  \\\n",
       "Career period Top.50.Billboard                                            \n",
       "First half    (-2, 0]           150.0  136.75  140.0  142.941176  136.0   \n",
       "              (0, 50]             NaN     NaN  150.0  129.333333  136.5   \n",
       "Second half   (-2, 0]             NaN     NaN    NaN         NaN    NaN   \n",
       "              (0, 50]             NaN     NaN    NaN         NaN    NaN   \n",
       "\n",
       "Year                                  1964        1965        1966     1967  \\\n",
       "Career period Top.50.Billboard                                                \n",
       "First half    (-2, 0]           142.096774  148.700000  151.166667      NaN   \n",
       "              (0, 50]           150.100000  151.285714  168.285714      NaN   \n",
       "Second half   (-2, 0]                  NaN         NaN         NaN  195.125   \n",
       "              (0, 50]                  NaN         NaN         NaN  209.000   \n",
       "\n",
       "Year                                  1968        1969   1970   1977   1980  \n",
       "Career period Top.50.Billboard                                               \n",
       "First half    (-2, 0]                  NaN         NaN    NaN    NaN    NaN  \n",
       "              (0, 50]                  NaN         NaN    NaN    NaN    NaN  \n",
       "Second half   (-2, 0]           190.119048  162.297297  145.0    NaN    NaN  \n",
       "              (0, 50]           256.000000  212.166667    NaN  266.0  236.0  "
      ]
     },
     "execution_count": 48,
     "metadata": {},
     "output_type": "execute_result"
    }
   ],
   "source": [
    "top_50 = pd.cut(songs['Top.50.Billboard'], [-2, 0, 50])                           # -2, not -1, because of the (m, n] bins)\n",
    "songs.pivot_table('Duration', index=['Career period', top_50], columns='Year')"
   ]
  },
  {
   "cell_type": "markdown",
   "metadata": {
    "pycharm": {
     "name": "#%% md\n"
    }
   },
   "source": [
    "#### `pd.qcut()`\n",
    "Define bins for a range of values and compute quantiles automatically."
   ]
  },
  {
   "cell_type": "markdown",
   "metadata": {
    "pycharm": {
     "name": "#%% md\n"
    }
   },
   "source": [
    "Add the fourth dimension to the above scenario - bins for `Other.releases` with automatically computed quantiles. Apply the same strategy as with `Top.50.Billboard`, this thme working with the columns:"
   ]
  },
  {
   "cell_type": "code",
   "execution_count": 53,
   "metadata": {
    "scrolled": false,
    "pycharm": {
     "name": "#%%\n"
    }
   },
   "outputs": [
    {
     "data": {
      "text/plain": [
       "0      (-0.001, 9.0]\n",
       "1        (9.0, 56.0]\n",
       "2        (9.0, 56.0]\n",
       "3      (-0.001, 9.0]\n",
       "4        (9.0, 56.0]\n",
       "           ...      \n",
       "305    (-0.001, 9.0]\n",
       "306      (9.0, 56.0]\n",
       "307    (-0.001, 9.0]\n",
       "308    (-0.001, 9.0]\n",
       "309      (9.0, 56.0]\n",
       "Name: Other.releases, Length: 310, dtype: category\n",
       "Categories (2, interval[float64]): [(-0.001, 9.0] < (9.0, 56.0]]"
      ]
     },
     "metadata": {},
     "output_type": "display_data"
    },
    {
     "data": {
      "text/html": [
       "<div>\n",
       "<style scoped>\n",
       "    .dataframe tbody tr th:only-of-type {\n",
       "        vertical-align: middle;\n",
       "    }\n",
       "\n",
       "    .dataframe tbody tr th {\n",
       "        vertical-align: top;\n",
       "    }\n",
       "\n",
       "    .dataframe thead tr th {\n",
       "        text-align: left;\n",
       "    }\n",
       "\n",
       "    .dataframe thead tr:last-of-type th {\n",
       "        text-align: right;\n",
       "    }\n",
       "</style>\n",
       "<table border=\"1\" class=\"dataframe\">\n",
       "  <thead>\n",
       "    <tr>\n",
       "      <th></th>\n",
       "      <th>Year</th>\n",
       "      <th>1958</th>\n",
       "      <th>1960</th>\n",
       "      <th colspan=\"2\" halign=\"left\">1961</th>\n",
       "      <th colspan=\"2\" halign=\"left\">1962</th>\n",
       "      <th colspan=\"2\" halign=\"left\">1963</th>\n",
       "      <th colspan=\"2\" halign=\"left\">1964</th>\n",
       "      <th>...</th>\n",
       "      <th>1966</th>\n",
       "      <th colspan=\"2\" halign=\"left\">1967</th>\n",
       "      <th colspan=\"2\" halign=\"left\">1968</th>\n",
       "      <th colspan=\"2\" halign=\"left\">1969</th>\n",
       "      <th>1970</th>\n",
       "      <th>1977</th>\n",
       "      <th>1980</th>\n",
       "    </tr>\n",
       "    <tr>\n",
       "      <th></th>\n",
       "      <th>Other.releases</th>\n",
       "      <th>(-0.001, 9.0]</th>\n",
       "      <th>(-0.001, 9.0]</th>\n",
       "      <th>(-0.001, 9.0]</th>\n",
       "      <th>(9.0, 56.0]</th>\n",
       "      <th>(-0.001, 9.0]</th>\n",
       "      <th>(9.0, 56.0]</th>\n",
       "      <th>(-0.001, 9.0]</th>\n",
       "      <th>(9.0, 56.0]</th>\n",
       "      <th>(-0.001, 9.0]</th>\n",
       "      <th>(9.0, 56.0]</th>\n",
       "      <th>...</th>\n",
       "      <th>(9.0, 56.0]</th>\n",
       "      <th>(-0.001, 9.0]</th>\n",
       "      <th>(9.0, 56.0]</th>\n",
       "      <th>(-0.001, 9.0]</th>\n",
       "      <th>(9.0, 56.0]</th>\n",
       "      <th>(-0.001, 9.0]</th>\n",
       "      <th>(9.0, 56.0]</th>\n",
       "      <th>(9.0, 56.0]</th>\n",
       "      <th>(-0.001, 9.0]</th>\n",
       "      <th>(-0.001, 9.0]</th>\n",
       "    </tr>\n",
       "    <tr>\n",
       "      <th>Career period</th>\n",
       "      <th>Top.50.Billboard</th>\n",
       "      <th></th>\n",
       "      <th></th>\n",
       "      <th></th>\n",
       "      <th></th>\n",
       "      <th></th>\n",
       "      <th></th>\n",
       "      <th></th>\n",
       "      <th></th>\n",
       "      <th></th>\n",
       "      <th></th>\n",
       "      <th></th>\n",
       "      <th></th>\n",
       "      <th></th>\n",
       "      <th></th>\n",
       "      <th></th>\n",
       "      <th></th>\n",
       "      <th></th>\n",
       "      <th></th>\n",
       "      <th></th>\n",
       "      <th></th>\n",
       "      <th></th>\n",
       "    </tr>\n",
       "  </thead>\n",
       "  <tbody>\n",
       "    <tr>\n",
       "      <th rowspan=\"2\" valign=\"top\">First half</th>\n",
       "      <th>(-2, 0]</th>\n",
       "      <td>150.0</td>\n",
       "      <td>136.75</td>\n",
       "      <td>140.0</td>\n",
       "      <td>NaN</td>\n",
       "      <td>142.875</td>\n",
       "      <td>144.000000</td>\n",
       "      <td>134.564103</td>\n",
       "      <td>138.666667</td>\n",
       "      <td>143.916667</td>\n",
       "      <td>140.947368</td>\n",
       "      <td>...</td>\n",
       "      <td>166.000000</td>\n",
       "      <td>NaN</td>\n",
       "      <td>NaN</td>\n",
       "      <td>NaN</td>\n",
       "      <td>NaN</td>\n",
       "      <td>NaN</td>\n",
       "      <td>NaN</td>\n",
       "      <td>NaN</td>\n",
       "      <td>NaN</td>\n",
       "      <td>NaN</td>\n",
       "    </tr>\n",
       "    <tr>\n",
       "      <th>(0, 50]</th>\n",
       "      <td>NaN</td>\n",
       "      <td>NaN</td>\n",
       "      <td>150.0</td>\n",
       "      <td>150.0</td>\n",
       "      <td>NaN</td>\n",
       "      <td>129.333333</td>\n",
       "      <td>NaN</td>\n",
       "      <td>136.500000</td>\n",
       "      <td>NaN</td>\n",
       "      <td>150.100000</td>\n",
       "      <td>...</td>\n",
       "      <td>171.833333</td>\n",
       "      <td>NaN</td>\n",
       "      <td>NaN</td>\n",
       "      <td>NaN</td>\n",
       "      <td>NaN</td>\n",
       "      <td>NaN</td>\n",
       "      <td>NaN</td>\n",
       "      <td>NaN</td>\n",
       "      <td>NaN</td>\n",
       "      <td>NaN</td>\n",
       "    </tr>\n",
       "    <tr>\n",
       "      <th rowspan=\"2\" valign=\"top\">Second half</th>\n",
       "      <th>(-2, 0]</th>\n",
       "      <td>NaN</td>\n",
       "      <td>NaN</td>\n",
       "      <td>NaN</td>\n",
       "      <td>NaN</td>\n",
       "      <td>NaN</td>\n",
       "      <td>NaN</td>\n",
       "      <td>NaN</td>\n",
       "      <td>NaN</td>\n",
       "      <td>NaN</td>\n",
       "      <td>NaN</td>\n",
       "      <td>...</td>\n",
       "      <td>NaN</td>\n",
       "      <td>179.733333</td>\n",
       "      <td>220.777778</td>\n",
       "      <td>189.56</td>\n",
       "      <td>190.941176</td>\n",
       "      <td>156.444444</td>\n",
       "      <td>178.100000</td>\n",
       "      <td>145.0</td>\n",
       "      <td>NaN</td>\n",
       "      <td>NaN</td>\n",
       "    </tr>\n",
       "    <tr>\n",
       "      <th>(0, 50]</th>\n",
       "      <td>NaN</td>\n",
       "      <td>NaN</td>\n",
       "      <td>NaN</td>\n",
       "      <td>NaN</td>\n",
       "      <td>NaN</td>\n",
       "      <td>NaN</td>\n",
       "      <td>NaN</td>\n",
       "      <td>NaN</td>\n",
       "      <td>NaN</td>\n",
       "      <td>NaN</td>\n",
       "      <td>...</td>\n",
       "      <td>NaN</td>\n",
       "      <td>NaN</td>\n",
       "      <td>209.000000</td>\n",
       "      <td>NaN</td>\n",
       "      <td>256.000000</td>\n",
       "      <td>NaN</td>\n",
       "      <td>212.166667</td>\n",
       "      <td>NaN</td>\n",
       "      <td>266.0</td>\n",
       "      <td>236.0</td>\n",
       "    </tr>\n",
       "  </tbody>\n",
       "</table>\n",
       "<p>4 rows × 23 columns</p>\n",
       "</div>"
      ],
      "text/plain": [
       "Year                                    1958          1960          1961  \\\n",
       "Other.releases                 (-0.001, 9.0] (-0.001, 9.0] (-0.001, 9.0]   \n",
       "Career period Top.50.Billboard                                             \n",
       "First half    (-2, 0]                  150.0        136.75         140.0   \n",
       "              (0, 50]                    NaN           NaN         150.0   \n",
       "Second half   (-2, 0]                    NaN           NaN           NaN   \n",
       "              (0, 50]                    NaN           NaN           NaN   \n",
       "\n",
       "Year                                                1962              \\\n",
       "Other.releases                 (9.0, 56.0] (-0.001, 9.0] (9.0, 56.0]   \n",
       "Career period Top.50.Billboard                                         \n",
       "First half    (-2, 0]                  NaN       142.875  144.000000   \n",
       "              (0, 50]                150.0           NaN  129.333333   \n",
       "Second half   (-2, 0]                  NaN           NaN         NaN   \n",
       "              (0, 50]                  NaN           NaN         NaN   \n",
       "\n",
       "Year                                    1963                      1964  \\\n",
       "Other.releases                 (-0.001, 9.0] (9.0, 56.0] (-0.001, 9.0]   \n",
       "Career period Top.50.Billboard                                           \n",
       "First half    (-2, 0]             134.564103  138.666667    143.916667   \n",
       "              (0, 50]                    NaN  136.500000           NaN   \n",
       "Second half   (-2, 0]                    NaN         NaN           NaN   \n",
       "              (0, 50]                    NaN         NaN           NaN   \n",
       "\n",
       "Year                                        ...        1966          1967  \\\n",
       "Other.releases                 (9.0, 56.0]  ... (9.0, 56.0] (-0.001, 9.0]   \n",
       "Career period Top.50.Billboard              ...                             \n",
       "First half    (-2, 0]           140.947368  ...  166.000000           NaN   \n",
       "              (0, 50]           150.100000  ...  171.833333           NaN   \n",
       "Second half   (-2, 0]                  NaN  ...         NaN    179.733333   \n",
       "              (0, 50]                  NaN  ...         NaN           NaN   \n",
       "\n",
       "Year                                                1968              \\\n",
       "Other.releases                 (9.0, 56.0] (-0.001, 9.0] (9.0, 56.0]   \n",
       "Career period Top.50.Billboard                                         \n",
       "First half    (-2, 0]                  NaN           NaN         NaN   \n",
       "              (0, 50]                  NaN           NaN         NaN   \n",
       "Second half   (-2, 0]           220.777778        189.56  190.941176   \n",
       "              (0, 50]           209.000000           NaN  256.000000   \n",
       "\n",
       "Year                                    1969                    1970  \\\n",
       "Other.releases                 (-0.001, 9.0] (9.0, 56.0] (9.0, 56.0]   \n",
       "Career period Top.50.Billboard                                         \n",
       "First half    (-2, 0]                    NaN         NaN         NaN   \n",
       "              (0, 50]                    NaN         NaN         NaN   \n",
       "Second half   (-2, 0]             156.444444  178.100000       145.0   \n",
       "              (0, 50]                    NaN  212.166667         NaN   \n",
       "\n",
       "Year                                    1977          1980  \n",
       "Other.releases                 (-0.001, 9.0] (-0.001, 9.0]  \n",
       "Career period Top.50.Billboard                              \n",
       "First half    (-2, 0]                    NaN           NaN  \n",
       "              (0, 50]                    NaN           NaN  \n",
       "Second half   (-2, 0]                    NaN           NaN  \n",
       "              (0, 50]                  266.0         236.0  \n",
       "\n",
       "[4 rows x 23 columns]"
      ]
     },
     "execution_count": 53,
     "metadata": {},
     "output_type": "execute_result"
    }
   ],
   "source": [
    "other_releases = pd.qcut(songs['Other.releases'], 2)\n",
    "display(other_releases)\n",
    "songs.pivot_table('Duration', index=['Career period', top_50], columns=['Year', other_releases])\n",
    "# songs.pivot_table('Duration', index=['Career period', top_50], columns=['Year', other_releases]).unstack()"
   ]
  },
  {
   "cell_type": "markdown",
   "metadata": {
    "pycharm": {
     "name": "#%% md\n"
    }
   },
   "source": [
    "### Additional pivot table options\n",
    "The full call signature of the ``pivot_table`` method of ``DataFrame``s is as follows:\n",
    "\n",
    "```python\n",
    "# call signature as of Pandas 0.18\n",
    "DataFrame.pivot_table(data, values=None, index=None, columns=None,\n",
    "                      aggfunc='mean', fill_value=None, margins=False,\n",
    "                      dropna=True, margins_name='All')\n",
    "```"
   ]
  },
  {
   "cell_type": "markdown",
   "metadata": {
    "pycharm": {
     "name": "#%% md\n"
    }
   },
   "source": [
    "#### `aggfunc`\n",
    "Specify an aggregation function other than mean. If aggregations are computed for multiple columns, these other functions can be different for different columns. Use a dictionary to specify all that."
   ]
  },
  {
   "cell_type": "code",
   "execution_count": 54,
   "metadata": {
    "scrolled": true,
    "pycharm": {
     "name": "#%%\n"
    }
   },
   "outputs": [
    {
     "data": {
      "text/html": [
       "<div>\n",
       "<style scoped>\n",
       "    .dataframe tbody tr th:only-of-type {\n",
       "        vertical-align: middle;\n",
       "    }\n",
       "\n",
       "    .dataframe tbody tr th {\n",
       "        vertical-align: top;\n",
       "    }\n",
       "\n",
       "    .dataframe thead tr th {\n",
       "        text-align: left;\n",
       "    }\n",
       "\n",
       "    .dataframe thead tr:last-of-type th {\n",
       "        text-align: right;\n",
       "    }\n",
       "</style>\n",
       "<table border=\"1\" class=\"dataframe\">\n",
       "  <thead>\n",
       "    <tr>\n",
       "      <th></th>\n",
       "      <th></th>\n",
       "      <th colspan=\"10\" halign=\"left\">Duration</th>\n",
       "      <th>...</th>\n",
       "      <th colspan=\"10\" halign=\"left\">Other.releases</th>\n",
       "    </tr>\n",
       "    <tr>\n",
       "      <th></th>\n",
       "      <th>Year</th>\n",
       "      <th>1958</th>\n",
       "      <th>1960</th>\n",
       "      <th>1961</th>\n",
       "      <th>1962</th>\n",
       "      <th>1963</th>\n",
       "      <th>1964</th>\n",
       "      <th>1965</th>\n",
       "      <th>1966</th>\n",
       "      <th>1967</th>\n",
       "      <th>1968</th>\n",
       "      <th>...</th>\n",
       "      <th>1963</th>\n",
       "      <th>1964</th>\n",
       "      <th>1965</th>\n",
       "      <th>1966</th>\n",
       "      <th>1967</th>\n",
       "      <th>1968</th>\n",
       "      <th>1969</th>\n",
       "      <th>1970</th>\n",
       "      <th>1977</th>\n",
       "      <th>1980</th>\n",
       "    </tr>\n",
       "    <tr>\n",
       "      <th>Career period</th>\n",
       "      <th>Top.50.Billboard</th>\n",
       "      <th></th>\n",
       "      <th></th>\n",
       "      <th></th>\n",
       "      <th></th>\n",
       "      <th></th>\n",
       "      <th></th>\n",
       "      <th></th>\n",
       "      <th></th>\n",
       "      <th></th>\n",
       "      <th></th>\n",
       "      <th></th>\n",
       "      <th></th>\n",
       "      <th></th>\n",
       "      <th></th>\n",
       "      <th></th>\n",
       "      <th></th>\n",
       "      <th></th>\n",
       "      <th></th>\n",
       "      <th></th>\n",
       "      <th></th>\n",
       "      <th></th>\n",
       "    </tr>\n",
       "  </thead>\n",
       "  <tbody>\n",
       "    <tr>\n",
       "      <th rowspan=\"2\" valign=\"top\">First half</th>\n",
       "      <th>(-2, 0]</th>\n",
       "      <td>150.0</td>\n",
       "      <td>136.75</td>\n",
       "      <td>140.0</td>\n",
       "      <td>142.941176</td>\n",
       "      <td>136.0</td>\n",
       "      <td>142.096774</td>\n",
       "      <td>148.700000</td>\n",
       "      <td>151.166667</td>\n",
       "      <td>NaN</td>\n",
       "      <td>NaN</td>\n",
       "      <td>...</td>\n",
       "      <td>0.0</td>\n",
       "      <td>15.0</td>\n",
       "      <td>11.0</td>\n",
       "      <td>8.5</td>\n",
       "      <td>NaN</td>\n",
       "      <td>NaN</td>\n",
       "      <td>NaN</td>\n",
       "      <td>NaN</td>\n",
       "      <td>NaN</td>\n",
       "      <td>NaN</td>\n",
       "    </tr>\n",
       "    <tr>\n",
       "      <th>(0, 50]</th>\n",
       "      <td>NaN</td>\n",
       "      <td>NaN</td>\n",
       "      <td>150.0</td>\n",
       "      <td>129.333333</td>\n",
       "      <td>136.5</td>\n",
       "      <td>150.100000</td>\n",
       "      <td>151.285714</td>\n",
       "      <td>168.285714</td>\n",
       "      <td>NaN</td>\n",
       "      <td>NaN</td>\n",
       "      <td>...</td>\n",
       "      <td>38.0</td>\n",
       "      <td>26.0</td>\n",
       "      <td>23.0</td>\n",
       "      <td>20.0</td>\n",
       "      <td>NaN</td>\n",
       "      <td>NaN</td>\n",
       "      <td>NaN</td>\n",
       "      <td>NaN</td>\n",
       "      <td>NaN</td>\n",
       "      <td>NaN</td>\n",
       "    </tr>\n",
       "    <tr>\n",
       "      <th rowspan=\"2\" valign=\"top\">Second half</th>\n",
       "      <th>(-2, 0]</th>\n",
       "      <td>NaN</td>\n",
       "      <td>NaN</td>\n",
       "      <td>NaN</td>\n",
       "      <td>NaN</td>\n",
       "      <td>NaN</td>\n",
       "      <td>NaN</td>\n",
       "      <td>NaN</td>\n",
       "      <td>NaN</td>\n",
       "      <td>195.125</td>\n",
       "      <td>190.119048</td>\n",
       "      <td>...</td>\n",
       "      <td>NaN</td>\n",
       "      <td>NaN</td>\n",
       "      <td>NaN</td>\n",
       "      <td>NaN</td>\n",
       "      <td>7.0</td>\n",
       "      <td>8.0</td>\n",
       "      <td>6.0</td>\n",
       "      <td>10.0</td>\n",
       "      <td>NaN</td>\n",
       "      <td>NaN</td>\n",
       "    </tr>\n",
       "    <tr>\n",
       "      <th>(0, 50]</th>\n",
       "      <td>NaN</td>\n",
       "      <td>NaN</td>\n",
       "      <td>NaN</td>\n",
       "      <td>NaN</td>\n",
       "      <td>NaN</td>\n",
       "      <td>NaN</td>\n",
       "      <td>NaN</td>\n",
       "      <td>NaN</td>\n",
       "      <td>209.000</td>\n",
       "      <td>256.000000</td>\n",
       "      <td>...</td>\n",
       "      <td>NaN</td>\n",
       "      <td>NaN</td>\n",
       "      <td>NaN</td>\n",
       "      <td>NaN</td>\n",
       "      <td>14.0</td>\n",
       "      <td>23.0</td>\n",
       "      <td>17.5</td>\n",
       "      <td>NaN</td>\n",
       "      <td>0.0</td>\n",
       "      <td>2.0</td>\n",
       "    </tr>\n",
       "  </tbody>\n",
       "</table>\n",
       "<p>4 rows × 28 columns</p>\n",
       "</div>"
      ],
      "text/plain": [
       "                               Duration                                    \\\n",
       "Year                               1958    1960   1961        1962   1963   \n",
       "Career period Top.50.Billboard                                              \n",
       "First half    (-2, 0]             150.0  136.75  140.0  142.941176  136.0   \n",
       "              (0, 50]               NaN     NaN  150.0  129.333333  136.5   \n",
       "Second half   (-2, 0]               NaN     NaN    NaN         NaN    NaN   \n",
       "              (0, 50]               NaN     NaN    NaN         NaN    NaN   \n",
       "\n",
       "                                                                             \\\n",
       "Year                                  1964        1965        1966     1967   \n",
       "Career period Top.50.Billboard                                                \n",
       "First half    (-2, 0]           142.096774  148.700000  151.166667      NaN   \n",
       "              (0, 50]           150.100000  151.285714  168.285714      NaN   \n",
       "Second half   (-2, 0]                  NaN         NaN         NaN  195.125   \n",
       "              (0, 50]                  NaN         NaN         NaN  209.000   \n",
       "\n",
       "                                            ... Other.releases              \\\n",
       "Year                                  1968  ...           1963  1964  1965   \n",
       "Career period Top.50.Billboard              ...                              \n",
       "First half    (-2, 0]                  NaN  ...            0.0  15.0  11.0   \n",
       "              (0, 50]                  NaN  ...           38.0  26.0  23.0   \n",
       "Second half   (-2, 0]           190.119048  ...            NaN   NaN   NaN   \n",
       "              (0, 50]           256.000000  ...            NaN   NaN   NaN   \n",
       "\n",
       "                                                                        \n",
       "Year                            1966  1967  1968  1969  1970 1977 1980  \n",
       "Career period Top.50.Billboard                                          \n",
       "First half    (-2, 0]            8.5   NaN   NaN   NaN   NaN  NaN  NaN  \n",
       "              (0, 50]           20.0   NaN   NaN   NaN   NaN  NaN  NaN  \n",
       "Second half   (-2, 0]            NaN   7.0   8.0   6.0  10.0  NaN  NaN  \n",
       "              (0, 50]            NaN  14.0  23.0  17.5   NaN  0.0  2.0  \n",
       "\n",
       "[4 rows x 28 columns]"
      ]
     },
     "execution_count": 54,
     "metadata": {},
     "output_type": "execute_result"
    }
   ],
   "source": [
    "# titanic.pivot_table(aggfunc={'survived': 'mean'}, index=['sex', age], columns=[fare, 'class'])\n",
    "songs.pivot_table(aggfunc={'Duration': 'mean', 'Other.releases': 'median'}, index=['Career period', top_50], columns='Year')"
   ]
  },
  {
   "cell_type": "markdown",
   "metadata": {
    "pycharm": {
     "name": "#%% md\n"
    }
   },
   "source": [
    "#### `margins`\n",
    "Compute totals along each grouping."
   ]
  },
  {
   "cell_type": "code",
   "execution_count": 61,
   "metadata": {
    "scrolled": true,
    "pycharm": {
     "name": "#%%\n"
    }
   },
   "outputs": [
    {
     "data": {
      "text/html": [
       "<div>\n",
       "<style scoped>\n",
       "    .dataframe tbody tr th:only-of-type {\n",
       "        vertical-align: middle;\n",
       "    }\n",
       "\n",
       "    .dataframe tbody tr th {\n",
       "        vertical-align: top;\n",
       "    }\n",
       "\n",
       "    .dataframe thead th {\n",
       "        text-align: right;\n",
       "    }\n",
       "</style>\n",
       "<table border=\"1\" class=\"dataframe\">\n",
       "  <thead>\n",
       "    <tr style=\"text-align: right;\">\n",
       "      <th>Year</th>\n",
       "      <th>1958</th>\n",
       "      <th>1960</th>\n",
       "      <th>1961</th>\n",
       "      <th>1962</th>\n",
       "      <th>1963</th>\n",
       "      <th>1964</th>\n",
       "      <th>1965</th>\n",
       "      <th>1966</th>\n",
       "      <th>1967</th>\n",
       "      <th>1968</th>\n",
       "      <th>1969</th>\n",
       "      <th>1970</th>\n",
       "      <th>1977</th>\n",
       "      <th>1980</th>\n",
       "      <th>All</th>\n",
       "    </tr>\n",
       "    <tr>\n",
       "      <th>Career period</th>\n",
       "      <th></th>\n",
       "      <th></th>\n",
       "      <th></th>\n",
       "      <th></th>\n",
       "      <th></th>\n",
       "      <th></th>\n",
       "      <th></th>\n",
       "      <th></th>\n",
       "      <th></th>\n",
       "      <th></th>\n",
       "      <th></th>\n",
       "      <th></th>\n",
       "      <th></th>\n",
       "      <th></th>\n",
       "      <th></th>\n",
       "    </tr>\n",
       "  </thead>\n",
       "  <tbody>\n",
       "    <tr>\n",
       "      <th>First half</th>\n",
       "      <td>150.0</td>\n",
       "      <td>136.75</td>\n",
       "      <td>146.666667</td>\n",
       "      <td>140.9</td>\n",
       "      <td>136.045455</td>\n",
       "      <td>144.04878</td>\n",
       "      <td>149.189189</td>\n",
       "      <td>157.473684</td>\n",
       "      <td>NaN</td>\n",
       "      <td>NaN</td>\n",
       "      <td>NaN</td>\n",
       "      <td>NaN</td>\n",
       "      <td>NaN</td>\n",
       "      <td>NaN</td>\n",
       "      <td>143.239583</td>\n",
       "    </tr>\n",
       "    <tr>\n",
       "      <th>Second half</th>\n",
       "      <td>NaN</td>\n",
       "      <td>NaN</td>\n",
       "      <td>NaN</td>\n",
       "      <td>NaN</td>\n",
       "      <td>NaN</td>\n",
       "      <td>NaN</td>\n",
       "      <td>NaN</td>\n",
       "      <td>NaN</td>\n",
       "      <td>196.666667</td>\n",
       "      <td>194.511111</td>\n",
       "      <td>169.255814</td>\n",
       "      <td>145.0</td>\n",
       "      <td>266.0</td>\n",
       "      <td>236.0</td>\n",
       "      <td>186.338983</td>\n",
       "    </tr>\n",
       "    <tr>\n",
       "      <th>All</th>\n",
       "      <td>150.0</td>\n",
       "      <td>136.75</td>\n",
       "      <td>146.666667</td>\n",
       "      <td>140.9</td>\n",
       "      <td>136.045455</td>\n",
       "      <td>144.04878</td>\n",
       "      <td>149.189189</td>\n",
       "      <td>157.473684</td>\n",
       "      <td>196.666667</td>\n",
       "      <td>194.511111</td>\n",
       "      <td>169.255814</td>\n",
       "      <td>145.0</td>\n",
       "      <td>266.0</td>\n",
       "      <td>236.0</td>\n",
       "      <td>159.645161</td>\n",
       "    </tr>\n",
       "  </tbody>\n",
       "</table>\n",
       "</div>"
      ],
      "text/plain": [
       "Year            1958    1960        1961   1962        1963       1964  \\\n",
       "Career period                                                            \n",
       "First half     150.0  136.75  146.666667  140.9  136.045455  144.04878   \n",
       "Second half      NaN     NaN         NaN    NaN         NaN        NaN   \n",
       "All            150.0  136.75  146.666667  140.9  136.045455  144.04878   \n",
       "\n",
       "Year                 1965        1966        1967        1968        1969  \\\n",
       "Career period                                                               \n",
       "First half     149.189189  157.473684         NaN         NaN         NaN   \n",
       "Second half           NaN         NaN  196.666667  194.511111  169.255814   \n",
       "All            149.189189  157.473684  196.666667  194.511111  169.255814   \n",
       "\n",
       "Year            1970   1977   1980         All  \n",
       "Career period                                   \n",
       "First half       NaN    NaN    NaN  143.239583  \n",
       "Second half    145.0  266.0  236.0  186.338983  \n",
       "All            145.0  266.0  236.0  159.645161  "
      ]
     },
     "metadata": {},
     "output_type": "display_data"
    },
    {
     "data": {
      "text/html": [
       "<div>\n",
       "<style scoped>\n",
       "    .dataframe tbody tr th:only-of-type {\n",
       "        vertical-align: middle;\n",
       "    }\n",
       "\n",
       "    .dataframe tbody tr th {\n",
       "        vertical-align: top;\n",
       "    }\n",
       "\n",
       "    .dataframe thead th {\n",
       "        text-align: right;\n",
       "    }\n",
       "</style>\n",
       "<table border=\"1\" class=\"dataframe\">\n",
       "  <thead>\n",
       "    <tr style=\"text-align: right;\">\n",
       "      <th>Year</th>\n",
       "      <th>1958</th>\n",
       "      <th>1960</th>\n",
       "      <th>1961</th>\n",
       "      <th>1962</th>\n",
       "      <th>1963</th>\n",
       "      <th>1964</th>\n",
       "      <th>1965</th>\n",
       "      <th>1966</th>\n",
       "      <th>1967</th>\n",
       "      <th>1968</th>\n",
       "      <th>1969</th>\n",
       "      <th>1970</th>\n",
       "      <th>1977</th>\n",
       "      <th>1980</th>\n",
       "      <th>All</th>\n",
       "    </tr>\n",
       "    <tr>\n",
       "      <th>Career period</th>\n",
       "      <th></th>\n",
       "      <th></th>\n",
       "      <th></th>\n",
       "      <th></th>\n",
       "      <th></th>\n",
       "      <th></th>\n",
       "      <th></th>\n",
       "      <th></th>\n",
       "      <th></th>\n",
       "      <th></th>\n",
       "      <th></th>\n",
       "      <th></th>\n",
       "      <th></th>\n",
       "      <th></th>\n",
       "      <th></th>\n",
       "    </tr>\n",
       "  </thead>\n",
       "  <tbody>\n",
       "    <tr>\n",
       "      <th>First half</th>\n",
       "      <td>164.0</td>\n",
       "      <td>155.0</td>\n",
       "      <td>150.0</td>\n",
       "      <td>156.0</td>\n",
       "      <td>182.0</td>\n",
       "      <td>183.0</td>\n",
       "      <td>202.0</td>\n",
       "      <td>245.0</td>\n",
       "      <td>NaN</td>\n",
       "      <td>NaN</td>\n",
       "      <td>NaN</td>\n",
       "      <td>NaN</td>\n",
       "      <td>NaN</td>\n",
       "      <td>NaN</td>\n",
       "      <td>245</td>\n",
       "    </tr>\n",
       "    <tr>\n",
       "      <th>Second half</th>\n",
       "      <td>NaN</td>\n",
       "      <td>NaN</td>\n",
       "      <td>NaN</td>\n",
       "      <td>NaN</td>\n",
       "      <td>NaN</td>\n",
       "      <td>NaN</td>\n",
       "      <td>NaN</td>\n",
       "      <td>NaN</td>\n",
       "      <td>388.0</td>\n",
       "      <td>502.0</td>\n",
       "      <td>467.0</td>\n",
       "      <td>145.0</td>\n",
       "      <td>266.0</td>\n",
       "      <td>236.0</td>\n",
       "      <td>502</td>\n",
       "    </tr>\n",
       "    <tr>\n",
       "      <th>All</th>\n",
       "      <td>164.0</td>\n",
       "      <td>155.0</td>\n",
       "      <td>150.0</td>\n",
       "      <td>156.0</td>\n",
       "      <td>182.0</td>\n",
       "      <td>183.0</td>\n",
       "      <td>202.0</td>\n",
       "      <td>245.0</td>\n",
       "      <td>388.0</td>\n",
       "      <td>502.0</td>\n",
       "      <td>467.0</td>\n",
       "      <td>145.0</td>\n",
       "      <td>266.0</td>\n",
       "      <td>236.0</td>\n",
       "      <td>502</td>\n",
       "    </tr>\n",
       "  </tbody>\n",
       "</table>\n",
       "</div>"
      ],
      "text/plain": [
       "Year            1958   1960   1961   1962   1963   1964   1965   1966   1967  \\\n",
       "Career period                                                                  \n",
       "First half     164.0  155.0  150.0  156.0  182.0  183.0  202.0  245.0    NaN   \n",
       "Second half      NaN    NaN    NaN    NaN    NaN    NaN    NaN    NaN  388.0   \n",
       "All            164.0  155.0  150.0  156.0  182.0  183.0  202.0  245.0  388.0   \n",
       "\n",
       "Year            1968   1969   1970   1977   1980  All  \n",
       "Career period                                          \n",
       "First half       NaN    NaN    NaN    NaN    NaN  245  \n",
       "Second half    502.0  467.0  145.0  266.0  236.0  502  \n",
       "All            502.0  467.0  145.0  266.0  236.0  502  "
      ]
     },
     "metadata": {},
     "output_type": "display_data"
    }
   ],
   "source": [
    "display(songs.pivot_table('Duration', index='Career period', columns='Year', margins=True))\n",
    "display(songs.pivot_table('Duration', index='Career period', columns='Year', margins=True, aggfunc='max'))"
   ]
  },
  {
   "cell_type": "markdown",
   "metadata": {
    "pycharm": {
     "name": "#%% md\n"
    }
   },
   "source": [
    "## String operations in Pandas\n",
    "Pandas vectorized string operations."
   ]
  },
  {
   "cell_type": "markdown",
   "metadata": {
    "pycharm": {
     "name": "#%% md\n"
    }
   },
   "source": [
    "### Pandas vs. standard Python when working with strings"
   ]
  },
  {
   "cell_type": "markdown",
   "metadata": {
    "pycharm": {
     "name": "#%% md\n"
    }
   },
   "source": [
    "Looping through a list of strings with standard Python string operations breaks if there is a `None` (a missing value) in the list:"
   ]
  },
  {
   "cell_type": "code",
   "execution_count": 63,
   "metadata": {
    "scrolled": true,
    "pycharm": {
     "name": "#%%\n"
    }
   },
   "outputs": [
    {
     "ename": "AttributeError",
     "evalue": "'NoneType' object has no attribute 'capitalize'",
     "output_type": "error",
     "traceback": [
      "\u001B[1;31m---------------------------------------------------------------------------\u001B[0m",
      "\u001B[1;31mAttributeError\u001B[0m                            Traceback (most recent call last)",
      "\u001B[1;32m<ipython-input-63-cf6efe53d99b>\u001B[0m in \u001B[0;36m<module>\u001B[1;34m\u001B[0m\n\u001B[0;32m      5\u001B[0m \u001B[1;31m# But this does not:\u001B[0m\u001B[1;33m\u001B[0m\u001B[1;33m\u001B[0m\u001B[1;33m\u001B[0m\u001B[0m\n\u001B[0;32m      6\u001B[0m \u001B[0mnames\u001B[0m \u001B[1;33m=\u001B[0m \u001B[1;33m[\u001B[0m\u001B[1;34m'john'\u001B[0m\u001B[1;33m,\u001B[0m \u001B[1;34m'Paul'\u001B[0m\u001B[1;33m,\u001B[0m \u001B[1;34m'GEORGE'\u001B[0m\u001B[1;33m,\u001B[0m \u001B[1;32mNone\u001B[0m\u001B[1;33m,\u001B[0m \u001B[1;34m'rINGO'\u001B[0m\u001B[1;33m]\u001B[0m\u001B[1;33m\u001B[0m\u001B[1;33m\u001B[0m\u001B[0m\n\u001B[1;32m----> 7\u001B[1;33m \u001B[1;33m[\u001B[0m\u001B[0mname\u001B[0m\u001B[1;33m.\u001B[0m\u001B[0mcapitalize\u001B[0m\u001B[1;33m(\u001B[0m\u001B[1;33m)\u001B[0m \u001B[1;32mfor\u001B[0m \u001B[0mname\u001B[0m \u001B[1;32min\u001B[0m \u001B[0mnames\u001B[0m\u001B[1;33m]\u001B[0m\u001B[1;33m\u001B[0m\u001B[1;33m\u001B[0m\u001B[0m\n\u001B[0m",
      "\u001B[1;32m<ipython-input-63-cf6efe53d99b>\u001B[0m in \u001B[0;36m<listcomp>\u001B[1;34m(.0)\u001B[0m\n\u001B[0;32m      5\u001B[0m \u001B[1;31m# But this does not:\u001B[0m\u001B[1;33m\u001B[0m\u001B[1;33m\u001B[0m\u001B[1;33m\u001B[0m\u001B[0m\n\u001B[0;32m      6\u001B[0m \u001B[0mnames\u001B[0m \u001B[1;33m=\u001B[0m \u001B[1;33m[\u001B[0m\u001B[1;34m'john'\u001B[0m\u001B[1;33m,\u001B[0m \u001B[1;34m'Paul'\u001B[0m\u001B[1;33m,\u001B[0m \u001B[1;34m'GEORGE'\u001B[0m\u001B[1;33m,\u001B[0m \u001B[1;32mNone\u001B[0m\u001B[1;33m,\u001B[0m \u001B[1;34m'rINGO'\u001B[0m\u001B[1;33m]\u001B[0m\u001B[1;33m\u001B[0m\u001B[1;33m\u001B[0m\u001B[0m\n\u001B[1;32m----> 7\u001B[1;33m \u001B[1;33m[\u001B[0m\u001B[0mname\u001B[0m\u001B[1;33m.\u001B[0m\u001B[0mcapitalize\u001B[0m\u001B[1;33m(\u001B[0m\u001B[1;33m)\u001B[0m \u001B[1;32mfor\u001B[0m \u001B[0mname\u001B[0m \u001B[1;32min\u001B[0m \u001B[0mnames\u001B[0m\u001B[1;33m]\u001B[0m\u001B[1;33m\u001B[0m\u001B[1;33m\u001B[0m\u001B[0m\n\u001B[0m",
      "\u001B[1;31mAttributeError\u001B[0m: 'NoneType' object has no attribute 'capitalize'"
     ]
    }
   ],
   "source": [
    "# This works well\n",
    "names = ['john', 'Paul', 'GEORGE', 'rINGO']\n",
    "[name.capitalize() for name in names]\n",
    "\n",
    "# But this does not:\n",
    "names = ['john', 'Paul', 'GEORGE', None, 'rINGO']\n",
    "[name.capitalize() for name in names]"
   ]
  },
  {
   "cell_type": "markdown",
   "metadata": {
    "pycharm": {
     "name": "#%% md\n"
    }
   },
   "source": [
    "### The `str` attribute of `pd.Series` and `pd.Index` objects containing strings"
   ]
  },
  {
   "cell_type": "markdown",
   "metadata": {
    "pycharm": {
     "name": "#%% md\n"
    }
   },
   "source": [
    "The above problem is easily eliminated with the `str` attribute of `pd.Series`:"
   ]
  },
  {
   "cell_type": "code",
   "execution_count": 2,
   "metadata": {
    "scrolled": true,
    "pycharm": {
     "name": "#%%\n"
    }
   },
   "outputs": [
    {
     "data": {
      "text/plain": [
       "['john', 'Paul', 'GEORGE', None, 'rINGO']"
      ]
     },
     "metadata": {},
     "output_type": "display_data"
    },
    {
     "data": {
      "text/plain": [
       "0      John\n",
       "1      Paul\n",
       "2    George\n",
       "3      None\n",
       "4     Ringo\n",
       "dtype: object"
      ]
     },
     "metadata": {},
     "output_type": "display_data"
    }
   ],
   "source": [
    "names = ['john', 'Paul', 'GEORGE', None, 'rINGO']\n",
    "display(names)\n",
    "\n",
    "names = pd.Series(names)\n",
    "display(names.str.capitalize())"
   ]
  },
  {
   "cell_type": "markdown",
   "metadata": {
    "pycharm": {
     "name": "#%% md\n"
    }
   },
   "source": [
    "#### `str` methods similar to Python string methods"
   ]
  },
  {
   "cell_type": "markdown",
   "metadata": {
    "pycharm": {
     "name": "#%% md\n"
    }
   },
   "source": [
    "Nearly all Python's built-in string methods are mirrored by a Pandas vectorized string method. Here is a list of Pandas ``str`` methods that mirror Python string methods:\n",
    "\n",
    "|             |                  |                  |                  |\n",
    "|-------------|------------------|------------------|------------------|\n",
    "|``len()``    | ``lower()``      | ``translate()``  | ``islower()``    | \n",
    "|``ljust()``  | ``upper()``      | ``startswith()`` | ``isupper()``    | \n",
    "|``rjust()``  | ``find()``       | ``endswith()``   | ``isnumeric()``  | \n",
    "|``center()`` | ``rfind()``      | ``isalnum()``    | ``isdecimal()``  | \n",
    "|``zfill()``  | ``index()``      | ``isalpha()``    | ``split()``      | \n",
    "|``strip()``  | ``rindex()``     | ``isdigit()``    | ``rsplit()``     | \n",
    "|``rstrip()`` | ``capitalize()`` | ``isspace()``    | ``partition()``  | \n",
    "|``lstrip()`` |  ``swapcase()``  |  ``istitle()``   | ``rpartition()`` |"
   ]
  },
  {
   "cell_type": "markdown",
   "metadata": {
    "pycharm": {
     "name": "#%% md\n"
    }
   },
   "source": [
    "#### Miscelaneous `str` methods"
   ]
  },
  {
   "cell_type": "markdown",
   "metadata": {
    "pycharm": {
     "name": "#%% md\n"
    }
   },
   "source": [
    "There are other, miscellaneous methods that enable other convenient operations:\n",
    "\n",
    "| Method | Description |\n",
    "|--------|-------------|\n",
    "| ``get()`` | Index each element |\n",
    "| ``slice()`` | Slice each element|\n",
    "| ``slice_replace()`` | Replace slice in each element with passed value|\n",
    "| ``cat()``      | Concatenate strings|\n",
    "| ``repeat()`` | Repeat values |\n",
    "| ``normalize()`` | Return Unicode form of string |\n",
    "| ``pad()`` | Add whitespace to left, right, or both sides of strings|\n",
    "| ``wrap()`` | Split long strings into lines with length less than a given width|\n",
    "| ``join()`` | Join strings in each element of the Series with passed separator|\n",
    "| ``get_dummies()`` | extract dummy variables as a dataframe |"
   ]
  },
  {
   "cell_type": "code",
   "execution_count": 14,
   "metadata": {
    "scrolled": false,
    "pycharm": {
     "name": "#%%\n"
    }
   },
   "outputs": [
    {
     "data": {
      "text/plain": [
       "0        [John, Lennon]\n",
       "1     [Paul, McCartney]\n",
       "2    [George, Harrison]\n",
       "3        [Ringo, Starr]\n",
       "dtype: object"
      ]
     },
     "metadata": {},
     "output_type": "display_data"
    },
    {
     "data": {
      "text/plain": [
       "0       Lennon\n",
       "1    McCartney\n",
       "2     Harrison\n",
       "3        Starr\n",
       "dtype: object"
      ]
     },
     "metadata": {},
     "output_type": "display_data"
    },
    {
     "data": {
      "text/plain": [
       "0    John\n",
       "1    Paul\n",
       "2    Geor\n",
       "3    Ring\n",
       "dtype: object"
      ]
     },
     "metadata": {},
     "output_type": "display_data"
    },
    {
     "data": {
      "text/plain": [
       "0    John\n",
       "1    Paul\n",
       "2    Geor\n",
       "3    Ring\n",
       "dtype: object"
      ]
     },
     "metadata": {},
     "output_type": "display_data"
    },
    {
     "data": {
      "text/plain": [
       "count     4.000000\n",
       "mean     12.750000\n",
       "std       2.061553\n",
       "min      11.000000\n",
       "25%      11.000000\n",
       "50%      12.500000\n",
       "75%      14.250000\n",
       "max      15.000000\n",
       "dtype: float64"
      ]
     },
     "metadata": {},
     "output_type": "display_data"
    },
    {
     "data": {
      "text/plain": [
       "'George Harrison'"
      ]
     },
     "metadata": {},
     "output_type": "display_data"
    },
    {
     "data": {
      "text/plain": [
       "2    George Harrison\n",
       "dtype: object"
      ]
     },
     "metadata": {},
     "output_type": "display_data"
    }
   ],
   "source": [
    "names = pd.Series(['John Lennon', 'Paul McCartney', 'George Harrison', 'Ringo Starr'])\n",
    "display(names.str.split())\n",
    "display(names.str.split().str.get(-1))\n",
    "\n",
    "display(names.str.slice(0, 4))\n",
    "display(names.str[0:4])\n",
    "\n",
    "display(names.str.len().describe())                 # statistics about the length of The Beatles members' names\n",
    "display(names[np.argmax(names.str.len())])          # Which member has the longest name?\n",
    "display(names[names.str.contains('[Hh]arrison')])   # Which element contains the word 'Harrison' or 'harrison'?"
   ]
  },
  {
   "cell_type": "markdown",
   "metadata": {
    "pycharm": {
     "name": "#%% md\n"
    }
   },
   "source": [
    "## `eval()` and `query()` - high-performance Pandas"
   ]
  },
  {
   "cell_type": "markdown",
   "metadata": {
    "pycharm": {
     "name": "#%% md\n"
    }
   },
   "source": [
    "Used for faster computation, especially with large arrays. (YAGNI, but anyway...)"
   ]
  },
  {
   "cell_type": "markdown",
   "metadata": {
    "pycharm": {
     "name": "#%% md\n"
    }
   },
   "source": [
    "### `pd.eval()`\n",
    "It's twice faster than ordinary array operations. The argument is supplied as a string."
   ]
  },
  {
   "cell_type": "code",
   "execution_count": 19,
   "metadata": {
    "pycharm": {
     "name": "#%%\n"
    }
   },
   "outputs": [
    {
     "name": "stdout",
     "output_type": "stream",
     "text": [
      "65.2 ms ± 617 µs per loop (mean ± std. dev. of 7 runs, 10 loops each)\n",
      "29 ms ± 191 µs per loop (mean ± std. dev. of 7 runs, 10 loops each)\n"
     ]
    },
    {
     "data": {
      "text/plain": [
       "True"
      ]
     },
     "execution_count": 19,
     "metadata": {},
     "output_type": "execute_result"
    }
   ],
   "source": [
    "nrows, ncols = 100000, 100\n",
    "rng = np.random.RandomState(42)\n",
    "df1, df2, df3, df4 = (pd.DataFrame(rng.rand(nrows, ncols))\n",
    "                      for i in range(4))\n",
    "\n",
    "%timeit df1 + df2 + df3 + df4\n",
    "%timeit pd.eval('df1 + df2 + df3 + df4')                # the argument is supplied as a string\n",
    "\n",
    "np.allclose(df1 + df2 + df3 + df4,                      # returns True if two arrays are element-wise equal within a tolerance\n",
    "            pd.eval('df1 + df2 + df3 + df4'))"
   ]
  },
  {
   "cell_type": "markdown",
   "metadata": {
    "pycharm": {
     "name": "#%% md\n"
    }
   },
   "source": [
    "`pd.eval()` supports all arithmetic, relational and logical operators. In all cases, the argument must be supplied as a string (i.e., as an expression to evaluate)."
   ]
  },
  {
   "cell_type": "markdown",
   "metadata": {
    "pycharm": {
     "name": "#%% md\n"
    }
   },
   "source": [
    "### `pd.DataFrame.eval()`\n",
    "Allowes to access dataframe columns only by their names, instead of using the `df.<colname>` notation (required in case a dataframe column is accessed with `pd.eval()`). As with `pd.eval()`, the argument must be supplied as a string."
   ]
  },
  {
   "cell_type": "code",
   "execution_count": 27,
   "metadata": {
    "pycharm": {
     "name": "#%%\n"
    }
   },
   "outputs": [
    {
     "data": {
      "text/html": [
       "<div>\n",
       "<style scoped>\n",
       "    .dataframe tbody tr th:only-of-type {\n",
       "        vertical-align: middle;\n",
       "    }\n",
       "\n",
       "    .dataframe tbody tr th {\n",
       "        vertical-align: top;\n",
       "    }\n",
       "\n",
       "    .dataframe thead th {\n",
       "        text-align: right;\n",
       "    }\n",
       "</style>\n",
       "<table border=\"1\" class=\"dataframe\">\n",
       "  <thead>\n",
       "    <tr style=\"text-align: right;\">\n",
       "      <th></th>\n",
       "      <th>A</th>\n",
       "      <th>B</th>\n",
       "      <th>C</th>\n",
       "    </tr>\n",
       "  </thead>\n",
       "  <tbody>\n",
       "    <tr>\n",
       "      <th>0</th>\n",
       "      <td>0.795161</td>\n",
       "      <td>0.181597</td>\n",
       "      <td>0.149695</td>\n",
       "    </tr>\n",
       "    <tr>\n",
       "      <th>1</th>\n",
       "      <td>0.203080</td>\n",
       "      <td>0.685920</td>\n",
       "      <td>0.492808</td>\n",
       "    </tr>\n",
       "    <tr>\n",
       "      <th>2</th>\n",
       "      <td>0.071043</td>\n",
       "      <td>0.391092</td>\n",
       "      <td>0.059148</td>\n",
       "    </tr>\n",
       "    <tr>\n",
       "      <th>3</th>\n",
       "      <td>0.154953</td>\n",
       "      <td>0.838043</td>\n",
       "      <td>0.226408</td>\n",
       "    </tr>\n",
       "    <tr>\n",
       "      <th>4</th>\n",
       "      <td>0.960107</td>\n",
       "      <td>0.596839</td>\n",
       "      <td>0.469705</td>\n",
       "    </tr>\n",
       "  </tbody>\n",
       "</table>\n",
       "</div>"
      ],
      "text/plain": [
       "          A         B         C\n",
       "0  0.795161  0.181597  0.149695\n",
       "1  0.203080  0.685920  0.492808\n",
       "2  0.071043  0.391092  0.059148\n",
       "3  0.154953  0.838043  0.226408\n",
       "4  0.960107  0.596839  0.469705"
      ]
     },
     "metadata": {},
     "output_type": "display_data"
    },
    {
     "data": {
      "text/plain": [
       "True"
      ]
     },
     "metadata": {},
     "output_type": "display_data"
    },
    {
     "data": {
      "text/plain": [
       "True"
      ]
     },
     "metadata": {},
     "output_type": "display_data"
    },
    {
     "data": {
      "text/html": [
       "<div>\n",
       "<style scoped>\n",
       "    .dataframe tbody tr th:only-of-type {\n",
       "        vertical-align: middle;\n",
       "    }\n",
       "\n",
       "    .dataframe tbody tr th {\n",
       "        vertical-align: top;\n",
       "    }\n",
       "\n",
       "    .dataframe thead th {\n",
       "        text-align: right;\n",
       "    }\n",
       "</style>\n",
       "<table border=\"1\" class=\"dataframe\">\n",
       "  <thead>\n",
       "    <tr style=\"text-align: right;\">\n",
       "      <th></th>\n",
       "      <th>A</th>\n",
       "      <th>B</th>\n",
       "      <th>C</th>\n",
       "      <th>D</th>\n",
       "    </tr>\n",
       "  </thead>\n",
       "  <tbody>\n",
       "    <tr>\n",
       "      <th>0</th>\n",
       "      <td>0.795161</td>\n",
       "      <td>0.181597</td>\n",
       "      <td>0.149695</td>\n",
       "      <td>6.524989</td>\n",
       "    </tr>\n",
       "    <tr>\n",
       "      <th>1</th>\n",
       "      <td>0.203080</td>\n",
       "      <td>0.685920</td>\n",
       "      <td>0.492808</td>\n",
       "      <td>1.803950</td>\n",
       "    </tr>\n",
       "    <tr>\n",
       "      <th>2</th>\n",
       "      <td>0.071043</td>\n",
       "      <td>0.391092</td>\n",
       "      <td>0.059148</td>\n",
       "      <td>7.813167</td>\n",
       "    </tr>\n",
       "    <tr>\n",
       "      <th>3</th>\n",
       "      <td>0.154953</td>\n",
       "      <td>0.838043</td>\n",
       "      <td>0.226408</td>\n",
       "      <td>4.385859</td>\n",
       "    </tr>\n",
       "    <tr>\n",
       "      <th>4</th>\n",
       "      <td>0.960107</td>\n",
       "      <td>0.596839</td>\n",
       "      <td>0.469705</td>\n",
       "      <td>3.314730</td>\n",
       "    </tr>\n",
       "  </tbody>\n",
       "</table>\n",
       "</div>"
      ],
      "text/plain": [
       "          A         B         C         D\n",
       "0  0.795161  0.181597  0.149695  6.524989\n",
       "1  0.203080  0.685920  0.492808  1.803950\n",
       "2  0.071043  0.391092  0.059148  7.813167\n",
       "3  0.154953  0.838043  0.226408  4.385859\n",
       "4  0.960107  0.596839  0.469705  3.314730"
      ]
     },
     "metadata": {},
     "output_type": "display_data"
    },
    {
     "data": {
      "text/html": [
       "<div>\n",
       "<style scoped>\n",
       "    .dataframe tbody tr th:only-of-type {\n",
       "        vertical-align: middle;\n",
       "    }\n",
       "\n",
       "    .dataframe tbody tr th {\n",
       "        vertical-align: top;\n",
       "    }\n",
       "\n",
       "    .dataframe thead th {\n",
       "        text-align: right;\n",
       "    }\n",
       "</style>\n",
       "<table border=\"1\" class=\"dataframe\">\n",
       "  <thead>\n",
       "    <tr style=\"text-align: right;\">\n",
       "      <th></th>\n",
       "      <th>A</th>\n",
       "      <th>B</th>\n",
       "      <th>C</th>\n",
       "      <th>D</th>\n",
       "    </tr>\n",
       "  </thead>\n",
       "  <tbody>\n",
       "    <tr>\n",
       "      <th>0</th>\n",
       "      <td>0.795161</td>\n",
       "      <td>0.181597</td>\n",
       "      <td>0.149695</td>\n",
       "      <td>4.098765</td>\n",
       "    </tr>\n",
       "    <tr>\n",
       "      <th>1</th>\n",
       "      <td>0.203080</td>\n",
       "      <td>0.685920</td>\n",
       "      <td>0.492808</td>\n",
       "      <td>-0.979774</td>\n",
       "    </tr>\n",
       "    <tr>\n",
       "      <th>2</th>\n",
       "      <td>0.071043</td>\n",
       "      <td>0.391092</td>\n",
       "      <td>0.059148</td>\n",
       "      <td>-5.410975</td>\n",
       "    </tr>\n",
       "    <tr>\n",
       "      <th>3</th>\n",
       "      <td>0.154953</td>\n",
       "      <td>0.838043</td>\n",
       "      <td>0.226408</td>\n",
       "      <td>-3.017069</td>\n",
       "    </tr>\n",
       "    <tr>\n",
       "      <th>4</th>\n",
       "      <td>0.960107</td>\n",
       "      <td>0.596839</td>\n",
       "      <td>0.469705</td>\n",
       "      <td>0.773396</td>\n",
       "    </tr>\n",
       "  </tbody>\n",
       "</table>\n",
       "</div>"
      ],
      "text/plain": [
       "          A         B         C         D\n",
       "0  0.795161  0.181597  0.149695  4.098765\n",
       "1  0.203080  0.685920  0.492808 -0.979774\n",
       "2  0.071043  0.391092  0.059148 -5.410975\n",
       "3  0.154953  0.838043  0.226408 -3.017069\n",
       "4  0.960107  0.596839  0.469705  0.773396"
      ]
     },
     "metadata": {},
     "output_type": "display_data"
    },
    {
     "data": {
      "text/plain": [
       "True"
      ]
     },
     "execution_count": 27,
     "metadata": {},
     "output_type": "execute_result"
    }
   ],
   "source": [
    "df = pd.DataFrame(rng.rand(1000, 3), columns=['A', 'B', 'C'])\n",
    "display(df.head())\n",
    "\n",
    "# With pd.eval()\n",
    "result1 = (df['A'] + df['B']) / (df['C'] - 1)\n",
    "result2 = pd.eval('(df.A + df.B) / (df.C - 1)')\n",
    "display(np.allclose(result1, result2))\n",
    "\n",
    "# With pd.DataFrame.eval()\n",
    "result3 = df.eval('(A + B) / (C - 1)')\n",
    "display(np.allclose(result1, result3))\n",
    "\n",
    "df.eval('D = (A + B) / C', inplace=True)\n",
    "display(df.head())\n",
    "\n",
    "df.eval('D = (A - B) / C', inplace=True)\n",
    "display(df.head())\n",
    "\n",
    "# Combine column names with variable names\n",
    "column_mean = df.mean(1)                               # ordinary Python variable\n",
    "result1 = df['A'] + column_mean\n",
    "result2 = df.eval('A + @column_mean')                  # @ is used to differentiate variable names from dataframe column names\n",
    "np.allclose(result1, result2)                          # @ can be used only with pd.DataFrame.eval(), not with pd.eval()"
   ]
  },
  {
   "cell_type": "markdown",
   "metadata": {
    "pycharm": {
     "name": "#%% md\n"
    }
   },
   "source": [
    "### pd.query()\n",
    "Expressions like `pd.eval('df[(df.A < 0.5) & (df.B < 0.5)]')` cannot be used with `pd.DataFrame.eval()`, but `pd.query()` comes as a rescue:"
   ]
  },
  {
   "cell_type": "code",
   "execution_count": 29,
   "metadata": {
    "pycharm": {
     "name": "#%%\n"
    }
   },
   "outputs": [
    {
     "data": {
      "text/plain": [
       "True"
      ]
     },
     "metadata": {},
     "output_type": "display_data"
    }
   ],
   "source": [
    "result1 = df[(df.A < 0.5) & (df.B < 0.5)]\n",
    "result2 = df.query('A < 0.5 and B < 0.5')\n",
    "display(np.allclose(result1, result2))"
   ]
  },
  {
   "cell_type": "markdown",
   "metadata": {
    "pycharm": {
     "name": "#%% md\n"
    }
   },
   "source": [
    "Using variables in `pd.query()` is supported as well:"
   ]
  },
  {
   "cell_type": "code",
   "execution_count": 30,
   "metadata": {
    "pycharm": {
     "name": "#%%\n"
    }
   },
   "outputs": [
    {
     "data": {
      "text/plain": [
       "True"
      ]
     },
     "execution_count": 30,
     "metadata": {},
     "output_type": "execute_result"
    }
   ],
   "source": [
    "Cmean = df['C'].mean()\n",
    "result1 = df[(df.A < Cmean) & (df.B < Cmean)]\n",
    "result2 = df.query('A < @Cmean and B < @Cmean')\n",
    "np.allclose(result1, result2)"
   ]
  }
 ],
 "metadata": {
  "kernelspec": {
   "display_name": "Python 3",
   "language": "python",
   "name": "python3"
  },
  "language_info": {
   "codemirror_mode": {
    "name": "ipython",
    "version": 3
   },
   "file_extension": ".py",
   "mimetype": "text/x-python",
   "name": "python",
   "nbconvert_exporter": "python",
   "pygments_lexer": "ipython3",
   "version": "3.7.6"
  }
 },
 "nbformat": 4,
 "nbformat_minor": 4
}