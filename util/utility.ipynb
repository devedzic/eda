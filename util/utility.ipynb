{
 "cells": [
  {
   "cell_type": "markdown",
   "metadata": {},
   "source": [
    "Utility fiunctions"
   ]
  },
  {
   "cell_type": "code",
   "execution_count": 2,
   "metadata": {},
   "outputs": [],
   "source": [
    "from pathlib import Path"
   ]
  },
  {
   "cell_type": "code",
   "execution_count": 1,
   "metadata": {},
   "outputs": [],
   "source": [
    "# %run \"../settings/settings.ipynb\""
   ]
  },
  {
   "cell_type": "code",
   "execution_count": 3,
   "metadata": {},
   "outputs": [],
   "source": [
    "def get_project_dir():\n",
    "    \"\"\"Returns the Path object corresponding to the project root directory.\n",
    "    \"\"\"\n",
    "    return Path(PROJECT_DIR)"
   ]
  },
  {
   "cell_type": "code",
   "execution_count": 10,
   "metadata": {},
   "outputs": [],
   "source": [
    "# print(get_project_dir())"
   ]
  },
  {
   "cell_type": "code",
   "execution_count": 4,
   "metadata": {},
   "outputs": [],
   "source": [
    "def get_data_dir():\n",
    "    \"\"\"Returns the Path object corresponding to the data directory\n",
    "    (by convention located right under the project root directory).\n",
    "    \"\"\"\n",
    "    data_dir = get_project_dir() / 'data'\n",
    "    data_dir.mkdir(parents=True, exist_ok=True)\n",
    "    return data_dir"
   ]
  },
  {
   "cell_type": "code",
   "execution_count": null,
   "metadata": {},
   "outputs": [],
   "source": [
    "# from pathlib import Path\n",
    "\n",
    "# # %run \"../settings/settings.ipynb\"\n",
    "\n",
    "# def get_project_dir():\n",
    "#     \"\"\"Returns the Path object corresponding to the project root directory.\n",
    "#     \"\"\"\n",
    "#     return Path(PROJECT_DIR)\n",
    "\n",
    "# def get_data_dir():\n",
    "#     \"\"\"Returns the Path object corresponding to the data directory\n",
    "#     (by convention located right under the project root directory).\n",
    "#     \"\"\"\n",
    "#     data_dir = get_project_dir() / 'data'\n",
    "#     data_dir.mkdir(parents=True, exist_ok=True)\n",
    "#     return data_dir"
   ]
  }
 ],
 "metadata": {
  "kernelspec": {
   "display_name": "Python 3",
   "language": "python",
   "name": "python3"
  },
  "language_info": {
   "codemirror_mode": {
    "name": "ipython",
    "version": 3
   },
   "file_extension": ".py",
   "mimetype": "text/x-python",
   "name": "python",
   "nbconvert_exporter": "python",
   "pygments_lexer": "ipython3",
   "version": "3.7.6"
  },
  "varInspector": {
   "cols": {
    "lenName": 16,
    "lenType": 16,
    "lenVar": 40
   },
   "kernels_config": {
    "python": {
     "delete_cmd_postfix": "",
     "delete_cmd_prefix": "del ",
     "library": "var_list.py",
     "varRefreshCmd": "print(var_dic_list())"
    },
    "r": {
     "delete_cmd_postfix": ") ",
     "delete_cmd_prefix": "rm(",
     "library": "var_list.r",
     "varRefreshCmd": "cat(var_dic_list()) "
    }
   },
   "types_to_exclude": [
    "module",
    "function",
    "builtin_function_or_method",
    "instance",
    "_Feature"
   ],
   "window_display": false
  }
 },
 "nbformat": 4,
 "nbformat_minor": 4
}
