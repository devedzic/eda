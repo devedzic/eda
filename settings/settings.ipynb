{
 "cells": [
  {
   "cell_type": "markdown",
   "metadata": {},
   "source": [
    "Project configuration settings"
   ]
  },
  {
   "cell_type": "code",
   "execution_count": 14,
   "metadata": {},
   "outputs": [],
   "source": [
    "import os\n",
    "from pathlib import Path\n",
    "\n",
    "\n",
    "# The following line throws \"NameError: name '__file__' is not defined\" when run from this notebook,\n",
    "# but it does work when this notebook is %run from another one:\n",
    "# PROJECT_DIR = os.path.abspath(os.path.dirname(__file__))            # project root directory (str)\n",
    "\n",
    "# The following lines fix the problem:\n",
    "# PROJECT_DIR = os.path.abspath('')\n",
    "# print(PROJECT_DIR)\n",
    "# PROJECT_DIR = os.path.dirname(PROJECT_DIR)\n",
    "# print(PROJECT_DIR)\n",
    "\n",
    "# The following lines also fix the problem, but are an overkill:\n",
    "# current_dir = Path('.').absolute()\n",
    "# PROJECT_DIR = current_dir.parent\n",
    "# print(current_dir)\n",
    "# print(PROJECT_DIR)\n",
    "\n",
    "PROJECT_DIR = Path('.').absolute()\n"
   ]
  }
 ],
 "metadata": {
  "kernelspec": {
   "display_name": "Python 3",
   "language": "python",
   "name": "python3"
  },
  "language_info": {
   "codemirror_mode": {
    "name": "ipython",
    "version": 3
   },
   "file_extension": ".py",
   "mimetype": "text/x-python",
   "name": "python",
   "nbconvert_exporter": "python",
   "pygments_lexer": "ipython3",
   "version": "3.7.6"
  },
  "varInspector": {
   "cols": {
    "lenName": 16,
    "lenType": 16,
    "lenVar": 40
   },
   "kernels_config": {
    "python": {
     "delete_cmd_postfix": "",
     "delete_cmd_prefix": "del ",
     "library": "var_list.py",
     "varRefreshCmd": "print(var_dic_list())"
    },
    "r": {
     "delete_cmd_postfix": ") ",
     "delete_cmd_prefix": "rm(",
     "library": "var_list.r",
     "varRefreshCmd": "cat(var_dic_list()) "
    }
   },
   "types_to_exclude": [
    "module",
    "function",
    "builtin_function_or_method",
    "instance",
    "_Feature"
   ],
   "window_display": false
  }
 },
 "nbformat": 4,
 "nbformat_minor": 4
}
